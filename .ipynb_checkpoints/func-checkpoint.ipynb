{
 "cells": [
  {
   "cell_type": "markdown",
   "metadata": {},
   "source": [
    "# tf 2.0 beta\n"
   ]
  },
  {
   "cell_type": "markdown",
   "metadata": {},
   "source": [
    "## set.seed() in R\n",
    "tf.set_random_seed(0)  \n",
    "-> tf.random.set_seed(0)"
   ]
  },
  {
   "cell_type": "markdown",
   "metadata": {},
   "source": [
    "## rnorm() in R\n",
    "\n",
    "* tf.random_normal()       \n",
    "->tf.random.normal(\n",
    "    shape,\n",
    "    mean=0.0,\n",
    "    stddev=1.0,\n",
    "    dtype=tf.dtypes.float32,\n",
    "    seed=None,\n",
    "    name=None\n",
    ")"
   ]
  },
  {
   "cell_type": "markdown",
   "metadata": {},
   "source": [
    "## optimizer\n",
    "\n",
    "* tf.train.GradientDescentOptimizer(learning_rate=0.01)    \n",
    "->tf.keras.optimizers.SGD(learning_rate=0.01)\n",
    "* 참고 - https://www.tensorflow.org/beta/guide/eager#variables_and_optimizers"
   ]
  },
  {
   "cell_type": "markdown",
   "metadata": {},
   "source": [
    "# sigmoid\n",
    "* tf.math.sigmoid(\n",
    "    x,\n",
    "    name=None\n",
    ")\n",
    "* aliases:\n",
    "tf.math.sigmoid\n",
    "tf.nn.sigmoid\n",
    "tf.sigmoid"
   ]
  },
  {
   "cell_type": "markdown",
   "metadata": {},
   "source": [
    "## concat\n",
    "* tf.concat(\n",
    "    values,\n",
    "    axis,\n",
    "    name='concat'\n",
    ")   \n",
    ":Concatenates the list of tensors values along dimension axis\n",
    "\n"
   ]
  },
  {
   "cell_type": "markdown",
   "metadata": {},
   "source": [
    "## .keras.backend.cast\n",
    "* tf.keras.backend.cast(\n",
    "    x,\n",
    "    dtype\n",
    ")\n",
    "* Returns:\n",
    "Keras tensor with dtype dtype."
   ]
  },
  {
   "cell_type": "code",
   "execution_count": null,
   "metadata": {},
   "outputs": [],
   "source": []
  }
 ],
 "metadata": {
  "kernelspec": {
   "display_name": "Python 3",
   "language": "python",
   "name": "python3"
  },
  "language_info": {
   "codemirror_mode": {
    "name": "ipython",
    "version": 3
   },
   "file_extension": ".py",
   "mimetype": "text/x-python",
   "name": "python",
   "nbconvert_exporter": "python",
   "pygments_lexer": "ipython3",
   "version": "3.7.3"
  }
 },
 "nbformat": 4,
 "nbformat_minor": 2
}
