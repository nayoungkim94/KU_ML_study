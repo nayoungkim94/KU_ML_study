{
 "cells": [
  {
   "cell_type": "markdown",
   "metadata": {},
   "source": [
    "# tf 2.0 beta\n",
    "코드 정리용"
   ]
  },
  {
   "cell_type": "markdown",
   "metadata": {},
   "source": [
    "## set.seed() in R\n",
    "tf.set_random_seed(0)  \n",
    "-> tf.random.set_seed(0)"
   ]
  },
  {
   "cell_type": "markdown",
   "metadata": {},
   "source": [
    "## rnorm() in R\n",
    "\n",
    "* tf.random_normal()       \n",
    "->tf.random.normal(\n",
    "    shape,\n",
    "    mean=0.0,\n",
    "    stddev=1.0,\n",
    "    dtype=tf.dtypes.float32,\n",
    "    seed=None,\n",
    "    name=None\n",
    ")"
   ]
  },
  {
   "cell_type": "markdown",
   "metadata": {},
   "source": [
    "## optimizer\n",
    "\n",
    "* tf.train.GradientDescentOptimizer(learning_rate=0.01)    \n",
    "->tf.keras.optimizers.SGD(learning_rate=0.01)\n",
    "* 참고 - https://www.tensorflow.org/beta/guide/eager#variables_and_optimizers"
   ]
  },
  {
   "cell_type": "markdown",
   "metadata": {},
   "source": [
    "# sigmoid\n",
    "* tf.math.sigmoid(\n",
    "    x,\n",
    "    name=None\n",
    ")\n",
    "* aliases:\n",
    "tf.math.sigmoid\n",
    "tf.nn.sigmoid\n",
    "tf.sigmoid"
   ]
  },
  {
   "cell_type": "markdown",
   "metadata": {},
   "source": [
    "## concat\n",
    "* tf.concat(\n",
    "    values,\n",
    "    axis,\n",
    "    name='concat'\n",
    ")   \n",
    ":Concatenates the list of tensors values along dimension axis\n",
    "\n"
   ]
  },
  {
   "cell_type": "markdown",
   "metadata": {},
   "source": [
    "## .keras.backend.cast\n",
    "* tf.keras.backend.cast(\n",
    "    x,\n",
    "    dtype\n",
    ")\n",
    "* Returns:\n",
    "Keras tensor with dtype dtype."
   ]
  },
  {
   "cell_type": "markdown",
   "metadata": {},
   "source": [
    "## get_or_create_global_step\n"
   ]
  },
  {
   "cell_type": "markdown",
   "metadata": {},
   "source": [
    "## checkpoint :.keras.callbaks.ModelCheckpoint\n",
    "* 모델에 사용되는 모든 parameter(tf.Variable)의 exact value를 저장함\n",
    "* 모델에 정의된 계산 과정에 대한 설명은 포함하지 않으므로 저장된 모수 값을 사용할때에만 유용하다 할 수 있음\n",
    "* https://www.tensorflow.org/versions/r2.0/api_docs/python/tf/keras/callbacks/ModelCheckpoint\n",
    "* arguments:\n",
    "<ul> \n",
    "* filepath: string, path to save the model file.\n",
    "* monitor: quantity to monitor.\n",
    "* verbose: verbosity mode, 0 or 1.\n",
    "* save_freq: 'epoch' or integer. When using 'epoch', the callback saves the model after each epoch. When using integer, the callback saves the model at end of a batch at which this many samples have been seen since last saving. Note that if the saving isn't aligned to epochs, the monitored metric may potentially be less reliable (it could reflect as little as 1 batch, since the metrics get reset every epoch). Defaults to 'epoch'\n",
    "</ul>\n",
    "* 참고: SavedModel 은 이와 달리 계산과정에 대한 설명을 함께 저장함 "
   ]
  },
  {
   "cell_type": "markdown",
   "metadata": {},
   "source": [
    "* steps_per_epoch: Total number of steps (batches of samples) to yield from generator before declaring one epoch finished and starting the next epoch. It should typically be equal to the number of samples of your dataset divided by the batch size. Optional for Sequence: if unspecified, will use the len(generator) as a number of steps."
   ]
  },
  {
   "cell_type": "code",
   "execution_count": null,
   "metadata": {},
   "outputs": [],
   "source": []
  },
  {
   "cell_type": "code",
   "execution_count": null,
   "metadata": {},
   "outputs": [],
   "source": []
  },
  {
   "cell_type": "code",
   "execution_count": null,
   "metadata": {},
   "outputs": [],
   "source": []
  },
  {
   "cell_type": "code",
   "execution_count": null,
   "metadata": {},
   "outputs": [],
   "source": []
  }
 ],
 "metadata": {
  "kernelspec": {
   "display_name": "Python 3",
   "language": "python",
   "name": "python3"
  },
  "language_info": {
   "codemirror_mode": {
    "name": "ipython",
    "version": 3
   },
   "file_extension": ".py",
   "mimetype": "text/x-python",
   "name": "python",
   "nbconvert_exporter": "python",
   "pygments_lexer": "ipython3",
   "version": "3.7.3"
  }
 },
 "nbformat": 4,
 "nbformat_minor": 2
}
