{
 "cells": [
  {
   "cell_type": "code",
   "execution_count": null,
   "metadata": {},
   "outputs": [],
   "source": [
    "lab10-2"
   ]
  },
  {
   "cell_type": "markdown",
   "metadata": {},
   "source": [
    "# lab 10-2\n"
   ]
  },
  {
   "cell_type": "code",
   "execution_count": 20,
   "metadata": {},
   "outputs": [],
   "source": [
    "import tensorflow as tf\n",
    "import numpy as np\n",
    "from tensorflow.keras.utils import to_categorical\n",
    "from tensorflow.keras.datasets import mnist\n",
    "from time import time\n",
    "import os\n",
    "import datetime"
   ]
  },
  {
   "cell_type": "code",
   "execution_count": 2,
   "metadata": {},
   "outputs": [],
   "source": []
  },
  {
   "cell_type": "code",
   "execution_count": 3,
   "metadata": {},
   "outputs": [],
   "source": [
    "def load_mnist() :\n",
    "    (train_data, train_labels), (test_data, test_labels) = mnist.load_data()\n",
    "    train_data = np.expand_dims(train_data, axis=-1) # [N, 28, 28] -> [N, 28, 28, 1]\n",
    "    test_data = np.expand_dims(test_data, axis=-1) # [N, 28, 28] -> [N, 28, 28, 1]\n",
    "\n",
    "    train_data, test_data = normalize(train_data, test_data)\n",
    "\n",
    "    train_labels = to_categorical(train_labels, 10) # [N,] -> [N, 10]\n",
    "    test_labels = to_categorical(test_labels, 10) # [N,] -> [N, 10]\n",
    "\n",
    "    return train_data, train_labels, test_data, test_labels\n",
    "\n",
    "def normalize(train_data, test_data):\n",
    "    train_data = train_data.astype(np.float32) / 255.0\n",
    "    test_data = test_data.astype(np.float32) / 255.0\n",
    "\n",
    "    return train_data, test_data"
   ]
  },
  {
   "cell_type": "code",
   "execution_count": 153,
   "metadata": {},
   "outputs": [],
   "source": [
    "\"\"\" dataset \"\"\"\n",
    "train_x, train_y, test_x, test_y = load_mnist()\n",
    "\n",
    "\"\"\" parameters \"\"\" #초모수값 지정\n",
    "learning_rate = 0.001\n",
    "batch_size = 128\n",
    "\n",
    "training_epochs = 1\n",
    "training_iterations = len(train_x) // batch_size #468\n",
    "label_dim = 10\n",
    "\n",
    "train_flag = True\n",
    "\n",
    "\"\"\" Graph Input using Dataset API \"\"\"\n",
    "train_dataset = tf.data.Dataset.from_tensor_slices((train_x, train_y)).\\\n",
    "    shuffle(buffer_size=100000).\\\n",
    "    prefetch(buffer_size=batch_size).\\\n",
    "    batch(batch_size).repeat()\n",
    "test_dataset = tf.data.Dataset.from_tensor_slices((test_x, test_y)).\\\n",
    "    shuffle(buffer_size=100000).\\\n",
    "    prefetch(buffer_size=len(test_x)).\\\n",
    "    batch(len(test_x))\n",
    "\n",
    "#train_iterator = train_dataset.make_one_shot_iterator()\n",
    "#test_iterator = test_dataset.make_one_shot_iterator()"
   ]
  },
  {
   "cell_type": "code",
   "execution_count": 126,
   "metadata": {},
   "outputs": [],
   "source": [
    "def loss_fn(model, images, labels):\n",
    "    logits = model(images, training=True)\n",
    "    loss = tf.reduce_mean(tf.nn.softmax_cross_entropy_with_logits_v2(logits=logits, labels=labels))\n",
    "    return loss\n",
    "\n",
    "\n",
    "\n",
    "\n",
    "def accuracy_fn(model, images, labels):\n",
    "    logits = model(images, training=False)\n",
    "    prediction = tf.equal(tf.argmax(logits, -1), tf.argmax(labels, -1))\n",
    "    accuracy = tf.reduce_mean(tf.cast(prediction, tf.float32))\n",
    "    return accuracy\n",
    "\n",
    "def grad(model, images, labels):\n",
    "    with tf.GradientTape() as tape:\n",
    "        loss = loss_fn(model, images, labels)\n",
    "    return tape.gradient(loss, model.variables)"
   ]
  },
  {
   "cell_type": "code",
   "execution_count": 166,
   "metadata": {},
   "outputs": [],
   "source": [
    "###수정!!\n",
    "\n",
    "\n",
    "\n",
    "class create_model_class(tf.keras.Model):\n",
    "    def __init__(self, label_dim):\n",
    "        super(create_model_class, self).__init__()\n",
    "        ###Xavier initialization 이용\n",
    "        weight_init = tf.keras.initializers.glorot_uniform()\n",
    "\n",
    "        self.model = tf.keras.Sequential()\n",
    "        self.model.add(tf.keras.layers.Flatten())\n",
    "        self.model.add(tf.keras.layers.Dense(256,kernel_initializer=weight_init, input_shape=(784,),activation=\"relu\"))\n",
    "        self.model.add(tf.keras.layers.Dense(256,kernel_initializer= weight_init)) ##model형성시 input shape 지정 해줄 것, 이 경우 28*28input을  flatten 시키므로 \n",
    "        self.model.add(relu())\n",
    "\n",
    "        self.model.add(tf.keras.layers.Dense(label_dim, kernel_initializer=weight_init, activation='softmax'))\n",
    "        self.model.compile(optimizer='adam',\n",
    "                loss=custom_loss,\n",
    "                metrics=['accuracy'])\n",
    "    def call(self, x, training=None, mask=None):\n",
    "\n",
    "        x = self.model(x)\n",
    "\n",
    "        return x\n",
    "    \n",
    "# Create a loss function\n",
    "def custom_loss(y_true, y_pred):\n",
    "    return  tf.reduce_mean(tf.nn.softmax_cross_entropy_with_logits(y_pred,y_true))\n"
   ]
  },
  {
   "cell_type": "code",
   "execution_count": 157,
   "metadata": {},
   "outputs": [],
   "source": [
    "def create_model_function(label_dim) :\n",
    "    weight_init = tf.keras.initializers.glorot_uniform()\n",
    "\n",
    "    model = tf.keras.models.Sequential()\n",
    "    model.add(tf.keras.layers.Flatten())\n",
    "    model.add(tf.keras.layers.Dense(256,kernel_initializer=weight_init, input_shape=(784,),activation=\"relu\"))\n",
    "    model.add(tf.keras.layers.Dense(256, kernel_initializer=weight_init)) ##model형성시 input shape 지정 해줄 것, 이 경우 28*28input을  flatten 시키므로 \n",
    "    model.add(relu())\n",
    "    model.add(tf.keras.layers.Dense(label_dim,kernel_initializer= weight_init,activation='softmax'))\n",
    "    \n",
    "    model.compile(optimizer='adam',\n",
    "                loss='categorical_crossentropy',\n",
    "                metrics=['accuracy'])\n",
    "\n",
    "    return model\n",
    "\n",
    "model = create_model_function(label_dim)\n",
    "#model.summary()"
   ]
  },
  {
   "cell_type": "code",
   "execution_count": 107,
   "metadata": {},
   "outputs": [
    {
     "name": "stdout",
     "output_type": "stream",
     "text": [
      "Model: \"sequential_40\"\n",
      "_________________________________________________________________\n",
      "Layer (type)                 Output Shape              Param #   \n",
      "=================================================================\n",
      "flatten_37 (Flatten)         (None, 784)               0         \n",
      "_________________________________________________________________\n",
      "dense_81 (Dense)             (None, 256)               200960    \n",
      "_________________________________________________________________\n",
      "dense_82 (Dense)             (None, 256)               65792     \n",
      "_________________________________________________________________\n",
      "activation_33 (Activation)   (None, 256)               0         \n",
      "_________________________________________________________________\n",
      "dense_83 (Dense)             (None, 10)                2570      \n",
      "=================================================================\n",
      "Total params: 269,322\n",
      "Trainable params: 269,322\n",
      "Non-trainable params: 0\n",
      "_________________________________________________________________\n"
     ]
    }
   ],
   "source": [
    "#이걸로 실행시 x --> 왜?\n",
    "def create_model_function(label_dim) :\n",
    "    weight_init = tf.keras.initializers.glorot_uniform()\n",
    "\n",
    "    model = tf.keras.models.Sequential()\n",
    "    model.add(tf.keras.layers.Flatten(input_shape=(28,28,1)))\n",
    "    model.add(tf.keras.layers.Dense(256,kernel_initializer=weight_init, input_shape=(784,),activation=\"relu\"))\n",
    "    model.add(tf.keras.layers.Dense(256, kernel_initializer=weight_init)) ##model형성시 input shape 지정 해줄 것, 이 경우 28*28input을  flatten 시키므로 \n",
    "    model.add(relu())\n",
    "    model.add(tf.keras.layers.Dense(label_dim,kernel_initializer= weight_init))\n",
    "    \n",
    "    model.compile(optimizer='adam',\n",
    "               loss='categorical_crossentropy',\n",
    "                metrics=['accuracy'])\n",
    "    return model\n",
    "\n",
    "model = create_model_function(label_dim)\n",
    "model.summary()"
   ]
  },
  {
   "cell_type": "code",
   "execution_count": 162,
   "metadata": {},
   "outputs": [],
   "source": [
    "\n",
    "\"\"\" Model \"\"\"\n",
    "network = create_model_class(label_dim).model\n",
    "\n",
    "###class 형식일 경우 실행?\n",
    "\"\"\" Training \"\"\"\n",
    "#optimizer =tf.keras.optimizers.Adam(learning_rate)\n",
    "\n",
    "\"\"\" Writer \"\"\"\n",
    "\n",
    "model_dir = 'nn_xavier'\n"
   ]
  },
  {
   "cell_type": "code",
   "execution_count": 160,
   "metadata": {
    "scrolled": true
   },
   "outputs": [
    {
     "name": "stdout",
     "output_type": "stream",
     "text": [
      "\n",
      "Epoch 00001: saving model to training_10_2/cp-0001.ckpt\n",
      "  1/468 [..............................] - ETA: 28:49 - loss: 2.3878 - accuracy: 0.0625\n",
      "Epoch 00001: saving model to training_10_2/cp-0001.ckpt\n"
     ]
    },
    {
     "name": "stderr",
     "output_type": "stream",
     "text": [
      "W0622 22:03:36.584032 31232 callbacks.py:241] Method (on_train_batch_end) is slow compared to the batch update (0.281065). Check your callbacks.\n"
     ]
    },
    {
     "name": "stdout",
     "output_type": "stream",
     "text": [
      "  2/468 [..............................] - ETA: 15:31 - loss: 2.3122 - accuracy: 0.0898\n",
      "Epoch 00001: saving model to training_10_2/cp-0001.ckpt\n"
     ]
    },
    {
     "name": "stderr",
     "output_type": "stream",
     "text": [
      "W0622 22:03:36.860697 31232 callbacks.py:241] Method (on_train_batch_end) is slow compared to the batch update (0.259069). Check your callbacks.\n"
     ]
    },
    {
     "name": "stdout",
     "output_type": "stream",
     "text": [
      "  3/468 [..............................] - ETA: 11:02 - loss: 2.2249 - accuracy: 0.1241\n",
      "Epoch 00001: saving model to training_10_2/cp-0001.ckpt\n"
     ]
    },
    {
     "name": "stderr",
     "output_type": "stream",
     "text": [
      "W0622 22:03:37.242946 31232 callbacks.py:241] Method (on_train_batch_end) is slow compared to the batch update (0.281065). Check your callbacks.\n"
     ]
    },
    {
     "name": "stdout",
     "output_type": "stream",
     "text": [
      "  4/468 [..............................] - ETA: 9:00 - loss: 2.1330 - accuracy: 0.1595 \n",
      "Epoch 00001: saving model to training_10_2/cp-0001.ckpt\n"
     ]
    },
    {
     "name": "stderr",
     "output_type": "stream",
     "text": [
      "W0622 22:03:37.845157 31232 callbacks.py:241] Method (on_train_batch_end) is slow compared to the batch update (0.303060). Check your callbacks.\n"
     ]
    },
    {
     "name": "stdout",
     "output_type": "stream",
     "text": [
      "\b\b\b\b\b\b\b\b\b\b\b\b\b\b\b\b\b\b\b\b\b\b\b\b\b\b\b\b\b\b\b\b\b\b\b\b\b\b\b\b\b\b\b\b\b\b\b\b\b\b\b\b\b\b\b\b\b\b\b\b\b\b\b\b\b\b\b\b\b\b\b\b\b\b\b\b\b\b\b\b\b\b\b\b\b\b\r",
      "  5/468 [..............................] - ETA: 8:07 - loss: 2.0809 - accuracy: 0.1873"
     ]
    },
    {
     "name": "stderr",
     "output_type": "stream",
     "text": [
      "W0622 22:03:37.992776 31232 callbacks.py:241] Method (on_train_batch_end) is slow compared to the batch update (0.281065). Check your callbacks.\n"
     ]
    },
    {
     "name": "stdout",
     "output_type": "stream",
     "text": [
      "\n",
      "Epoch 00001: saving model to training_10_2/cp-0001.ckpt\n",
      "  6/468 [..............................] - ETA: 6:56 - loss: 2.0197 - accuracy: 0.2132\n",
      "Epoch 00001: saving model to training_10_2/cp-0001.ckpt\n"
     ]
    },
    {
     "name": "stderr",
     "output_type": "stream",
     "text": [
      "W0622 22:03:38.092493 31232 callbacks.py:241] Method (on_train_batch_end) is slow compared to the batch update (0.259069). Check your callbacks.\n"
     ]
    },
    {
     "name": "stdout",
     "output_type": "stream",
     "text": [
      "\b\b\b\b\b\b\b\b\b\b\b\b\b\b\b\b\b\b\b\b\b\b\b\b\b\b\b\b\b\b\b\b\b\b\b\b\b\b\b\b\b\b\b\b\b\b\b\b\b\b\b\b\b\b\b\b\b\b\b\b\b\b\b\b\b\b\b\b\b\b\b\b\b\b\b\b\b\b\b\b\b\b\b\b\b\b\r",
      "  7/468 [..............................] - ETA: 6:02 - loss: 1.9720 - accuracy: 0.2360"
     ]
    },
    {
     "name": "stderr",
     "output_type": "stream",
     "text": [
      "W0622 22:03:38.197098 31232 callbacks.py:241] Method (on_train_batch_end) is slow compared to the batch update (0.249292). Check your callbacks.\n"
     ]
    },
    {
     "name": "stdout",
     "output_type": "stream",
     "text": [
      "\n",
      "Epoch 00001: saving model to training_10_2/cp-0001.ckpt\n",
      "  8/468 [..............................] - ETA: 5:22 - loss: 1.9177 - accuracy: 0.2575\n",
      "Epoch 00001: saving model to training_10_2/cp-0001.ckpt\n"
     ]
    },
    {
     "name": "stderr",
     "output_type": "stream",
     "text": [
      "W0622 22:03:38.363294 31232 callbacks.py:241] Method (on_train_batch_end) is slow compared to the batch update (0.239516). Check your callbacks.\n"
     ]
    },
    {
     "name": "stdout",
     "output_type": "stream",
     "text": [
      "  9/468 [..............................] - ETA: 4:54 - loss: 1.8470 - accuracy: 0.2787\n",
      "Epoch 00001: saving model to training_10_2/cp-0001.ckpt\n"
     ]
    },
    {
     "name": "stderr",
     "output_type": "stream",
     "text": [
      "W0622 22:03:38.619428 31232 callbacks.py:241] Method (on_train_batch_end) is slow compared to the batch update (0.234139). Check your callbacks.\n"
     ]
    },
    {
     "name": "stdout",
     "output_type": "stream",
     "text": [
      " 10/468 [..............................] - ETA: 4:36 - loss: 1.7886 - accuracy: 0.2984\n",
      "Epoch 00001: saving model to training_10_2/cp-0001.ckpt\n"
     ]
    },
    {
     "name": "stderr",
     "output_type": "stream",
     "text": [
      "W0622 22:03:38.818862 31232 callbacks.py:241] Method (on_train_batch_end) is slow compared to the batch update (0.202856). Check your callbacks.\n"
     ]
    },
    {
     "name": "stdout",
     "output_type": "stream",
     "text": [
      " 11/468 [..............................] - ETA: 4:18 - loss: 1.7299 - accuracy: 0.3162\n",
      "Epoch 00001: saving model to training_10_2/cp-0001.ckpt"
     ]
    },
    {
     "name": "stderr",
     "output_type": "stream",
     "text": [
      "W0622 22:03:38.943998 31232 callbacks.py:241] Method (on_train_batch_end) is slow compared to the batch update (0.163751). Check your callbacks.\n"
     ]
    },
    {
     "name": "stdout",
     "output_type": "stream",
     "text": [
      "\n",
      " 12/468 [..............................] - ETA: 4:01 - loss: 1.6745 - accuracy: 0.3328\n",
      "Epoch 00001: saving model to training_10_2/cp-0001.ckpt\n"
     ]
    },
    {
     "name": "stderr",
     "output_type": "stream",
     "text": [
      "W0622 22:03:39.037849 31232 callbacks.py:241] Method (on_train_batch_end) is slow compared to the batch update (0.132956). Check your callbacks.\n"
     ]
    },
    {
     "name": "stdout",
     "output_type": "stream",
     "text": [
      "\b\b\b\b\b\b\b\b\b\b\b\b\b\b\b\b\b\b\b\b\b\b\b\b\b\b\b\b\b\b\b\b\b\b\b\b\b\b\b\b\b\b\b\b\b\b\b\b\b\b\b\b\b\b\b\b\b\b\b\b\b\b\b\b\b\b\b\b\b\b\b\b\b\b\b\b\b\b\b\b\b\b\b\b\b\b\r",
      " 13/468 [..............................] - ETA: 3:45 - loss: 1.6297 - accuracy: 0.3481"
     ]
    },
    {
     "name": "stderr",
     "output_type": "stream",
     "text": [
      "W0622 22:03:39.136588 31232 callbacks.py:241] Method (on_train_batch_end) is slow compared to the batch update (0.113404). Check your callbacks.\n"
     ]
    },
    {
     "name": "stdout",
     "output_type": "stream",
     "text": [
      "\n",
      "Epoch 00001: saving model to training_10_2/cp-0001.ckpt\n",
      " 14/468 [..............................] - ETA: 3:32 - loss: 1.5733 - accuracy: 0.3625\n",
      "Epoch 00001: saving model to training_10_2/cp-0001.ckpt\n"
     ]
    },
    {
     "name": "stderr",
     "output_type": "stream",
     "text": [
      "W0622 22:03:39.251947 31232 callbacks.py:241] Method (on_train_batch_end) is slow compared to the batch update (0.105583). Check your callbacks.\n"
     ]
    },
    {
     "name": "stdout",
     "output_type": "stream",
     "text": [
      " 15/468 [..............................] - ETA: 3:21 - loss: 1.5258 - accuracy: 0.3760\n",
      "Epoch 00001: saving model to training_10_2/cp-0001.ckpt\n",
      " 16/468 [>.............................] - ETA: 3:10 - loss: 1.4817 - accuracy: 0.3886\n",
      "Epoch 00001: saving model to training_10_2/cp-0001.ckpt\n",
      " 17/468 [>.............................] - ETA: 3:01 - loss: 1.4422 - accuracy: 0.4004\n",
      "Epoch 00001: saving model to training_10_2/cp-0001.ckpt\n",
      " 18/468 [>.............................] - ETA: 2:53 - loss: 1.4043 - accuracy: 0.4114\n",
      "Epoch 00001: saving model to training_10_2/cp-0001.ckpt\n",
      " 19/468 [>.............................] - ETA: 2:46 - loss: 1.3644 - accuracy: 0.4219\n",
      "Epoch 00001: saving model to training_10_2/cp-0001.ckpt\n",
      " 20/468 [>.............................] - ETA: 2:40 - loss: 1.3295 - accuracy: 0.4319\n",
      "Epoch 00001: saving model to training_10_2/cp-0001.ckpt\n",
      " 21/468 [>.............................] - ETA: 2:34 - loss: 1.2934 - accuracy: 0.4413\n",
      "Epoch 00001: saving model to training_10_2/cp-0001.ckpt\n",
      " 22/468 [>.............................] - ETA: 2:30 - loss: 1.2569 - accuracy: 0.4503\n",
      "Epoch 00001: saving model to training_10_2/cp-0001.ckpt\n",
      " 23/468 [>.............................] - ETA: 2:26 - loss: 1.2251 - accuracy: 0.4588\n",
      "Epoch 00001: saving model to training_10_2/cp-0001.ckpt\n",
      " 24/468 [>.............................] - ETA: 2:22 - loss: 1.2014 - accuracy: 0.4669\n",
      "Epoch 00001: saving model to training_10_2/cp-0001.ckpt\n",
      " 25/468 [>.............................] - ETA: 2:18 - loss: 1.1732 - accuracy: 0.4746\n",
      "Epoch 00001: saving model to training_10_2/cp-0001.ckpt\n"
     ]
    },
    {
     "name": "stderr",
     "output_type": "stream",
     "text": [
      "W0622 22:03:40.529093 31232 callbacks.py:241] Method (on_train_batch_end) is slow compared to the batch update (0.100696). Check your callbacks.\n"
     ]
    },
    {
     "name": "stdout",
     "output_type": "stream",
     "text": [
      " 26/468 [>.............................] - ETA: 2:14 - loss: 1.1474 - accuracy: 0.4820\n",
      "Epoch 00001: saving model to training_10_2/cp-0001.ckpt\n"
     ]
    },
    {
     "name": "stderr",
     "output_type": "stream",
     "text": [
      "W0622 22:03:40.656183 31232 callbacks.py:241] Method (on_train_batch_end) is slow compared to the batch update (0.103628). Check your callbacks.\n"
     ]
    },
    {
     "name": "stdout",
     "output_type": "stream",
     "text": [
      " 27/468 [>.............................] - ETA: 2:11 - loss: 1.1237 - accuracy: 0.4891\n",
      "Epoch 00001: saving model to training_10_2/cp-0001.ckpt\n"
     ]
    },
    {
     "name": "stderr",
     "output_type": "stream",
     "text": [
      "W0622 22:03:40.782295 31232 callbacks.py:241] Method (on_train_batch_end) is slow compared to the batch update (0.108026). Check your callbacks.\n"
     ]
    },
    {
     "name": "stdout",
     "output_type": "stream",
     "text": [
      " 28/468 [>.............................] - ETA: 2:08 - loss: 1.1010 - accuracy: 0.4960\n",
      "Epoch 00001: saving model to training_10_2/cp-0001.ckpt\n"
     ]
    },
    {
     "name": "stderr",
     "output_type": "stream",
     "text": [
      "W0622 22:03:40.874191 31232 callbacks.py:241] Method (on_train_batch_end) is slow compared to the batch update (0.107050). Check your callbacks.\n"
     ]
    },
    {
     "name": "stdout",
     "output_type": "stream",
     "text": [
      "\b\b\b\b\b\b\b\b\b\b\b\b\b\b\b\b\b\b\b\b\b\b\b\b\b\b\b\b\b\b\b\b\b\b\b\b\b\b\b\b\b\b\b\b\b\b\b\b\b\b\b\b\b\b\b\b\b\b\b\b\b\b\b\b\b\b\b\b\b\b\b\b\b\b\b\b\b\b\b\b\b\b\b\b\b\b\r",
      " 29/468 [>.............................] - ETA: 2:05 - loss: 1.0805 - accuracy: 0.5025"
     ]
    },
    {
     "name": "stderr",
     "output_type": "stream",
     "text": [
      "W0622 22:03:40.966088 31232 callbacks.py:241] Method (on_train_batch_end) is slow compared to the batch update (0.105094). Check your callbacks.\n"
     ]
    },
    {
     "name": "stdout",
     "output_type": "stream",
     "text": [
      "\n",
      "Epoch 00001: saving model to training_10_2/cp-0001.ckpt\n",
      " 30/468 [>.............................] - ETA: 2:02 - loss: 1.0627 - accuracy: 0.5087\n",
      "Epoch 00001: saving model to training_10_2/cp-0001.ckpt\n"
     ]
    },
    {
     "name": "stderr",
     "output_type": "stream",
     "text": [
      "W0622 22:03:41.061893 31232 callbacks.py:241] Method (on_train_batch_end) is slow compared to the batch update (0.103627). Check your callbacks.\n"
     ]
    },
    {
     "name": "stdout",
     "output_type": "stream",
     "text": [
      " 31/468 [>.............................] - ETA: 1:59 - loss: 1.0394 - accuracy: 0.5148\n",
      "Epoch 00001: saving model to training_10_2/cp-0001.ckpt\n"
     ]
    },
    {
     "name": "stderr",
     "output_type": "stream",
     "text": [
      "W0622 22:03:41.185074 31232 callbacks.py:241] Method (on_train_batch_end) is slow compared to the batch update (0.102159). Check your callbacks.\n"
     ]
    },
    {
     "name": "stdout",
     "output_type": "stream",
     "text": [
      " 32/468 [=>............................] - ETA: 1:57 - loss: 1.0247 - accuracy: 0.5206\n",
      "Epoch 00001: saving model to training_10_2/cp-0001.ckpt\n",
      " 33/468 [=>............................] - ETA: 1:54 - loss: 1.0030 - accuracy: 0.5263\n",
      "Epoch 00001: saving model to training_10_2/cp-0001.ckpt\n",
      " 34/468 [=>............................] - ETA: 1:52 - loss: 0.9852 - accuracy: 0.5318\n",
      "Epoch 00001: saving model to training_10_2/cp-0001.ckpt\n",
      " 35/468 [=>............................] - ETA: 1:50 - loss: 0.9660 - accuracy: 0.5371\n",
      "Epoch 00001: saving model to training_10_2/cp-0001.ckpt\n",
      " 36/468 [=>............................] - ETA: 1:48 - loss: 0.9501 - accuracy: 0.5423\n",
      "Epoch 00001: saving model to training_10_2/cp-0001.ckpt\n",
      " 37/468 [=>............................] - ETA: 1:46 - loss: 0.9370 - accuracy: 0.5473\n",
      "Epoch 00001: saving model to training_10_2/cp-0001.ckpt\n",
      " 38/468 [=>............................] - ETA: 1:43 - loss: 0.9221 - accuracy: 0.5521\n",
      "Epoch 00001: saving model to training_10_2/cp-0001.ckpt\n",
      " 39/468 [=>............................] - ETA: 1:42 - loss: 0.9111 - accuracy: 0.5568\n",
      "Epoch 00001: saving model to training_10_2/cp-0001.ckpt\n",
      " 40/468 [=>............................] - ETA: 1:40 - loss: 0.8990 - accuracy: 0.5614\n",
      "Epoch 00001: saving model to training_10_2/cp-0001.ckpt\n",
      " 41/468 [=>............................] - ETA: 1:39 - loss: 0.8875 - accuracy: 0.5658\n",
      "Epoch 00001: saving model to training_10_2/cp-0001.ckpt\n",
      " 42/468 [=>............................] - ETA: 1:37 - loss: 0.8753 - accuracy: 0.5701\n",
      "Epoch 00001: saving model to training_10_2/cp-0001.ckpt\n",
      " 43/468 [=>............................] - ETA: 1:36 - loss: 0.8652 - accuracy: 0.5742\n",
      "Epoch 00001: saving model to training_10_2/cp-0001.ckpt\n",
      " 44/468 [=>............................] - ETA: 1:34 - loss: 0.8556 - accuracy: 0.5783\n",
      "Epoch 00001: saving model to training_10_2/cp-0001.ckpt\n",
      " 45/468 [=>............................] - ETA: 1:33 - loss: 0.8464 - accuracy: 0.5822\n",
      "Epoch 00001: saving model to training_10_2/cp-0001.ckpt\n",
      " 46/468 [=>............................] - ETA: 1:32 - loss: 0.8389 - accuracy: 0.5860\n",
      "Epoch 00001: saving model to training_10_2/cp-0001.ckpt\n",
      " 47/468 [==>...........................] - ETA: 1:31 - loss: 0.8299 - accuracy: 0.5897\n",
      "Epoch 00001: saving model to training_10_2/cp-0001.ckpt\n",
      " 48/468 [==>...........................] - ETA: 1:30 - loss: 0.8220 - accuracy: 0.5933\n",
      "Epoch 00001: saving model to training_10_2/cp-0001.ckpt\n",
      " 49/468 [==>...........................] - ETA: 1:28 - loss: 0.8115 - accuracy: 0.5968\n",
      "Epoch 00001: saving model to training_10_2/cp-0001.ckpt\n",
      " 50/468 [==>...........................] - ETA: 1:27 - loss: 0.8021 - accuracy: 0.6002\n",
      "Epoch 00001: saving model to training_10_2/cp-0001.ckpt\n",
      " 51/468 [==>...........................] - ETA: 1:27 - loss: 0.7919 - accuracy: 0.6035\n",
      "Epoch 00001: saving model to training_10_2/cp-0001.ckpt\n",
      " 52/468 [==>...........................] - ETA: 1:26 - loss: 0.7836 - accuracy: 0.6068\n",
      "Epoch 00001: saving model to training_10_2/cp-0001.ckpt\n",
      " 53/468 [==>...........................] - ETA: 1:25 - loss: 0.7743 - accuracy: 0.6099\n",
      "Epoch 00001: saving model to training_10_2/cp-0001.ckpt\n"
     ]
    },
    {
     "name": "stderr",
     "output_type": "stream",
     "text": [
      "W0622 22:03:43.617384 31232 callbacks.py:241] Method (on_train_batch_end) is slow compared to the batch update (0.100205). Check your callbacks.\n"
     ]
    },
    {
     "name": "stdout",
     "output_type": "stream",
     "text": [
      " 54/468 [==>...........................] - ETA: 1:24 - loss: 0.7648 - accuracy: 0.6130\n",
      "Epoch 00001: saving model to training_10_2/cp-0001.ckpt\n"
     ]
    },
    {
     "name": "stderr",
     "output_type": "stream",
     "text": [
      "W0622 22:03:43.748384 31232 callbacks.py:241] Method (on_train_batch_end) is slow compared to the batch update (0.100695). Check your callbacks.\n"
     ]
    },
    {
     "name": "stdout",
     "output_type": "stream",
     "text": [
      " 55/468 [==>...........................] - ETA: 1:23 - loss: 0.7585 - accuracy: 0.6161\n",
      "Epoch 00001: saving model to training_10_2/cp-0001.ckpt\n"
     ]
    },
    {
     "name": "stderr",
     "output_type": "stream",
     "text": [
      "W0622 22:03:43.844191 31232 callbacks.py:241] Method (on_train_batch_end) is slow compared to the batch update (0.100695). Check your callbacks.\n"
     ]
    },
    {
     "name": "stdout",
     "output_type": "stream",
     "text": [
      " 56/468 [==>...........................] - ETA: 1:22 - loss: 0.7494 - accuracy: 0.6190\n",
      "Epoch 00001: saving model to training_10_2/cp-0001.ckpt\n"
     ]
    },
    {
     "name": "stderr",
     "output_type": "stream",
     "text": [
      "W0622 22:03:43.960528 31232 callbacks.py:241] Method (on_train_batch_end) is slow compared to the batch update (0.100695). Check your callbacks.\n"
     ]
    },
    {
     "name": "stdout",
     "output_type": "stream",
     "text": [
      " 57/468 [==>...........................] - ETA: 1:21 - loss: 0.7427 - accuracy: 0.6219\n",
      "Epoch 00001: saving model to training_10_2/cp-0001.ckpt\n"
     ]
    },
    {
     "name": "stderr",
     "output_type": "stream",
     "text": [
      "W0622 22:03:44.057319 31232 callbacks.py:241] Method (on_train_batch_end) is slow compared to the batch update (0.100205). Check your callbacks.\n"
     ]
    },
    {
     "name": "stdout",
     "output_type": "stream",
     "text": [
      " 58/468 [==>...........................] - ETA: 1:21 - loss: 0.7364 - accuracy: 0.6247\n",
      "Epoch 00001: saving model to training_10_2/cp-0001.ckpt\n"
     ]
    },
    {
     "name": "stderr",
     "output_type": "stream",
     "text": [
      "W0622 22:03:44.153118 31232 callbacks.py:241] Method (on_train_batch_end) is slow compared to the batch update (0.100205). Check your callbacks.\n"
     ]
    },
    {
     "name": "stdout",
     "output_type": "stream",
     "text": [
      "\b\b\b\b\b\b\b\b\b\b\b\b\b\b\b\b\b\b\b\b\b\b\b\b\b\b\b\b\b\b\b\b\b\b\b\b\b\b\b\b\b\b\b\b\b\b\b\b\b\b\b\b\b\b\b\b\b\b\b\b\b\b\b\b\b\b\b\b\b\b\b\b\b\b\b\b\b\b\b\b\b\b\b\b\b\b\r",
      " 59/468 [==>...........................] - ETA: 1:20 - loss: 0.7312 - accuracy: 0.6275"
     ]
    },
    {
     "name": "stderr",
     "output_type": "stream",
     "text": [
      "W0622 22:03:44.251857 31232 callbacks.py:241] Method (on_train_batch_end) is slow compared to the batch update (0.100205). Check your callbacks.\n"
     ]
    },
    {
     "name": "stdout",
     "output_type": "stream",
     "text": [
      "\n",
      "Epoch 00001: saving model to training_10_2/cp-0001.ckpt\n",
      " 60/468 [==>...........................] - ETA: 1:19 - loss: 0.7249 - accuracy: 0.6302\n",
      "Epoch 00001: saving model to training_10_2/cp-0001.ckpt\n",
      " 61/468 [==>...........................] - ETA: 1:18 - loss: 0.7180 - accuracy: 0.6328\n",
      "Epoch 00001: saving model to training_10_2/cp-0001.ckpt\n",
      " 62/468 [==>...........................] - ETA: 1:17 - loss: 0.7123 - accuracy: 0.6354\n",
      "Epoch 00001: saving model to training_10_2/cp-0001.ckpt\n",
      " 63/468 [===>..........................] - ETA: 1:16 - loss: 0.7053 - accuracy: 0.6379\n",
      "Epoch 00001: saving model to training_10_2/cp-0001.ckpt\n",
      " 64/468 [===>..........................] - ETA: 1:15 - loss: 0.6999 - accuracy: 0.6404\n",
      "Epoch 00001: saving model to training_10_2/cp-0001.ckpt\n",
      " 65/468 [===>..........................] - ETA: 1:15 - loss: 0.6928 - accuracy: 0.6428\n",
      "Epoch 00001: saving model to training_10_2/cp-0001.ckpt\n",
      " 66/468 [===>..........................] - ETA: 1:15 - loss: 0.6876 - accuracy: 0.6452\n",
      "Epoch 00001: saving model to training_10_2/cp-0001.ckpt\n",
      " 67/468 [===>..........................] - ETA: 1:14 - loss: 0.6829 - accuracy: 0.6475\n",
      "Epoch 00001: saving model to training_10_2/cp-0001.ckpt\n",
      " 68/468 [===>..........................] - ETA: 1:13 - loss: 0.6777 - accuracy: 0.6498\n",
      "Epoch 00001: saving model to training_10_2/cp-0001.ckpt\n",
      " 69/468 [===>..........................] - ETA: 1:13 - loss: 0.6742 - accuracy: 0.6520\n",
      "Epoch 00001: saving model to training_10_2/cp-0001.ckpt\n",
      " 70/468 [===>..........................] - ETA: 1:12 - loss: 0.6677 - accuracy: 0.6542\n",
      "Epoch 00001: saving model to training_10_2/cp-0001.ckpt\n",
      " 71/468 [===>..........................] - ETA: 1:12 - loss: 0.6624 - accuracy: 0.6564\n",
      "Epoch 00001: saving model to training_10_2/cp-0001.ckpt\n",
      " 72/468 [===>..........................] - ETA: 1:11 - loss: 0.6579 - accuracy: 0.6585\n",
      "Epoch 00001: saving model to training_10_2/cp-0001.ckpt\n",
      " 73/468 [===>..........................] - ETA: 1:10 - loss: 0.6537 - accuracy: 0.6606\n",
      "Epoch 00001: saving model to training_10_2/cp-0001.ckpt\n",
      " 74/468 [===>..........................] - ETA: 1:10 - loss: 0.6480 - accuracy: 0.6626\n",
      "Epoch 00001: saving model to training_10_2/cp-0001.ckpt\n"
     ]
    },
    {
     "name": "stderr",
     "output_type": "stream",
     "text": [
      "W0622 22:03:45.955844 31232 callbacks.py:241] Method (on_train_batch_end) is slow compared to the batch update (0.102161). Check your callbacks.\n"
     ]
    },
    {
     "name": "stdout",
     "output_type": "stream",
     "text": [
      " 75/468 [===>..........................] - ETA: 1:10 - loss: 0.6427 - accuracy: 0.6647\n",
      "Epoch 00001: saving model to training_10_2/cp-0001.ckpt\n",
      " 76/468 [===>..........................] - ETA: 1:09 - loss: 0.6373 - accuracy: 0.6666\n",
      "Epoch 00001: saving model to training_10_2/cp-0001.ckpt\n"
     ]
    },
    {
     "name": "stderr",
     "output_type": "stream",
     "text": [
      "W0622 22:03:46.214917 31232 callbacks.py:241] Method (on_train_batch_end) is slow compared to the batch update (0.108027). Check your callbacks.\n"
     ]
    },
    {
     "name": "stdout",
     "output_type": "stream",
     "text": [
      " 77/468 [===>..........................] - ETA: 1:09 - loss: 0.6325 - accuracy: 0.6686\n",
      "Epoch 00001: saving model to training_10_2/cp-0001.ckpt\n",
      " 78/468 [====>.........................] - ETA: 1:08 - loss: 0.6289 - accuracy: 0.6705\n",
      "Epoch 00001: saving model to training_10_2/cp-0001.ckpt\n"
     ]
    },
    {
     "name": "stderr",
     "output_type": "stream",
     "text": [
      "W0622 22:03:46.439764 31232 callbacks.py:241] Method (on_train_batch_end) is slow compared to the batch update (0.108516). Check your callbacks.\n"
     ]
    },
    {
     "name": "stdout",
     "output_type": "stream",
     "text": [
      " 79/468 [====>.........................] - ETA: 1:08 - loss: 0.6245 - accuracy: 0.6724\n",
      "Epoch 00001: saving model to training_10_2/cp-0001.ckpt\n"
     ]
    },
    {
     "name": "stderr",
     "output_type": "stream",
     "text": [
      "W0622 22:03:46.549257 31232 callbacks.py:241] Method (on_train_batch_end) is slow compared to the batch update (0.108516). Check your callbacks.\n"
     ]
    },
    {
     "name": "stdout",
     "output_type": "stream",
     "text": [
      " 80/468 [====>.........................] - ETA: 1:07 - loss: 0.6191 - accuracy: 0.6742\n",
      "Epoch 00001: saving model to training_10_2/cp-0001.ckpt\n"
     ]
    },
    {
     "name": "stderr",
     "output_type": "stream",
     "text": [
      "W0622 22:03:46.678302 31232 callbacks.py:241] Method (on_train_batch_end) is slow compared to the batch update (0.108516). Check your callbacks.\n"
     ]
    },
    {
     "name": "stdout",
     "output_type": "stream",
     "text": [
      " 81/468 [====>.........................] - ETA: 1:07 - loss: 0.6153 - accuracy: 0.6760\n",
      "Epoch 00001: saving model to training_10_2/cp-0001.ckpt\n"
     ]
    },
    {
     "name": "stderr",
     "output_type": "stream",
     "text": [
      "W0622 22:03:46.772154 31232 callbacks.py:241] Method (on_train_batch_end) is slow compared to the batch update (0.108516). Check your callbacks.\n"
     ]
    },
    {
     "name": "stdout",
     "output_type": "stream",
     "text": [
      "\b\b\b\b\b\b\b\b\b\b\b\b\b\b\b\b\b\b\b\b\b\b\b\b\b\b\b\b\b\b\b\b\b\b\b\b\b\b\b\b\b\b\b\b\b\b\b\b\b\b\b\b\b\b\b\b\b\b\b\b\b\b\b\b\b\b\b\b\b\b\b\b\b\b\b\b\b\b\b\b\b\b\b\b\b\b\r",
      " 82/468 [====>.........................] - ETA: 1:06 - loss: 0.6133 - accuracy: 0.6778"
     ]
    },
    {
     "name": "stderr",
     "output_type": "stream",
     "text": [
      "W0622 22:03:46.861117 31232 callbacks.py:241] Method (on_train_batch_end) is slow compared to the batch update (0.108516). Check your callbacks.\n"
     ]
    },
    {
     "name": "stdout",
     "output_type": "stream",
     "text": [
      "\n",
      "Epoch 00001: saving model to training_10_2/cp-0001.ckpt\n",
      " 83/468 [====>.........................] - ETA: 1:06 - loss: 0.6096 - accuracy: 0.6796\n",
      "Epoch 00001: saving model to training_10_2/cp-0001.ckpt\n",
      " 84/468 [====>.........................] - ETA: 1:05 - loss: 0.6062 - accuracy: 0.6813\n",
      "Epoch 00001: saving model to training_10_2/cp-0001.ckpt\n",
      " 85/468 [====>.........................] - ETA: 1:05 - loss: 0.6030 - accuracy: 0.6830\n",
      "Epoch 00001: saving model to training_10_2/cp-0001.ckpt\n",
      " 86/468 [====>.........................] - ETA: 1:04 - loss: 0.6007 - accuracy: 0.6847\n",
      "Epoch 00001: saving model to training_10_2/cp-0001.ckpt\n",
      " 87/468 [====>.........................] - ETA: 1:04 - loss: 0.5968 - accuracy: 0.6863\n",
      "Epoch 00001: saving model to training_10_2/cp-0001.ckpt\n",
      " 88/468 [====>.........................] - ETA: 1:03 - loss: 0.5927 - accuracy: 0.6879\n",
      "Epoch 00001: saving model to training_10_2/cp-0001.ckpt\n",
      " 89/468 [====>.........................] - ETA: 1:03 - loss: 0.5883 - accuracy: 0.6895\n",
      "Epoch 00001: saving model to training_10_2/cp-0001.ckpt\n",
      " 90/468 [====>.........................] - ETA: 1:02 - loss: 0.5855 - accuracy: 0.6910\n",
      "Epoch 00001: saving model to training_10_2/cp-0001.ckpt\n",
      " 91/468 [====>.........................] - ETA: 1:02 - loss: 0.5831 - accuracy: 0.6926\n",
      "Epoch 00001: saving model to training_10_2/cp-0001.ckpt\n",
      " 92/468 [====>.........................] - ETA: 1:02 - loss: 0.5791 - accuracy: 0.6941\n",
      "Epoch 00001: saving model to training_10_2/cp-0001.ckpt\n",
      " 93/468 [====>.........................] - ETA: 1:01 - loss: 0.5771 - accuracy: 0.6956\n",
      "Epoch 00001: saving model to training_10_2/cp-0001.ckpt\n",
      " 94/468 [=====>........................] - ETA: 1:01 - loss: 0.5741 - accuracy: 0.6971\n",
      "Epoch 00001: saving model to training_10_2/cp-0001.ckpt\n",
      " 95/468 [=====>........................] - ETA: 1:00 - loss: 0.5706 - accuracy: 0.6985\n",
      "Epoch 00001: saving model to training_10_2/cp-0001.ckpt\n",
      " 96/468 [=====>........................] - ETA: 1:00 - loss: 0.5681 - accuracy: 0.6999\n",
      "Epoch 00001: saving model to training_10_2/cp-0001.ckpt\n",
      " 97/468 [=====>........................] - ETA: 59s - loss: 0.5638 - accuracy: 0.7014 \n",
      "Epoch 00001: saving model to training_10_2/cp-0001.ckpt\n",
      " 98/468 [=====>........................] - ETA: 59s - loss: 0.5604 - accuracy: 0.7027\n",
      "Epoch 00001: saving model to training_10_2/cp-0001.ckpt\n",
      " 99/468 [=====>........................] - ETA: 58s - loss: 0.5580 - accuracy: 0.7041\n",
      "Epoch 00001: saving model to training_10_2/cp-0001.ckpt\n",
      "100/468 [=====>........................] - ETA: 58s - loss: 0.5544 - accuracy: 0.7055\n",
      "Epoch 00001: saving model to training_10_2/cp-0001.ckpt\n",
      "101/468 [=====>........................] - ETA: 58s - loss: 0.5516 - accuracy: 0.7068\n",
      "Epoch 00001: saving model to training_10_2/cp-0001.ckpt\n",
      "102/468 [=====>........................] - ETA: 57s - loss: 0.5483 - accuracy: 0.7081\n",
      "Epoch 00001: saving model to training_10_2/cp-0001.ckpt\n",
      "103/468 [=====>........................] - ETA: 57s - loss: 0.5449 - accuracy: 0.7094\n",
      "Epoch 00001: saving model to training_10_2/cp-0001.ckpt\n",
      "104/468 [=====>........................] - ETA: 57s - loss: 0.5421 - accuracy: 0.7107\n",
      "Epoch 00001: saving model to training_10_2/cp-0001.ckpt\n",
      "105/468 [=====>........................] - ETA: 56s - loss: 0.5384 - accuracy: 0.7120\n",
      "Epoch 00001: saving model to training_10_2/cp-0001.ckpt\n",
      "106/468 [=====>........................] - ETA: 56s - loss: 0.5371 - accuracy: 0.7132\n",
      "Epoch 00001: saving model to training_10_2/cp-0001.ckpt\n",
      "107/468 [=====>........................] - ETA: 56s - loss: 0.5348 - accuracy: 0.7145\n",
      "Epoch 00001: saving model to training_10_2/cp-0001.ckpt\n",
      "108/468 [=====>........................] - ETA: 55s - loss: 0.5338 - accuracy: 0.7157\n",
      "Epoch 00001: saving model to training_10_2/cp-0001.ckpt\n",
      "109/468 [=====>........................] - ETA: 55s - loss: 0.5308 - accuracy: 0.7169\n",
      "Epoch 00001: saving model to training_10_2/cp-0001.ckpt\n",
      "110/468 [======>.......................] - ETA: 55s - loss: 0.5273 - accuracy: 0.7181\n",
      "Epoch 00001: saving model to training_10_2/cp-0001.ckpt\n",
      "111/468 [======>.......................] - ETA: 54s - loss: 0.5258 - accuracy: 0.7192\n",
      "Epoch 00001: saving model to training_10_2/cp-0001.ckpt\n",
      "112/468 [======>.......................] - ETA: 54s - loss: 0.5231 - accuracy: 0.7204\n",
      "Epoch 00001: saving model to training_10_2/cp-0001.ckpt\n",
      "113/468 [======>.......................] - ETA: 54s - loss: 0.5204 - accuracy: 0.7215\n",
      "Epoch 00001: saving model to training_10_2/cp-0001.ckpt\n",
      "114/468 [======>.......................] - ETA: 53s - loss: 0.5183 - accuracy: 0.7226\n",
      "Epoch 00001: saving model to training_10_2/cp-0001.ckpt\n",
      "115/468 [======>.......................] - ETA: 53s - loss: 0.5153 - accuracy: 0.7238\n",
      "Epoch 00001: saving model to training_10_2/cp-0001.ckpt\n",
      "116/468 [======>.......................] - ETA: 53s - loss: 0.5134 - accuracy: 0.7249\n",
      "Epoch 00001: saving model to training_10_2/cp-0001.ckpt\n",
      "117/468 [======>.......................] - ETA: 53s - loss: 0.5113 - accuracy: 0.7259\n",
      "Epoch 00001: saving model to training_10_2/cp-0001.ckpt\n",
      "118/468 [======>.......................] - ETA: 52s - loss: 0.5091 - accuracy: 0.7270\n",
      "Epoch 00001: saving model to training_10_2/cp-0001.ckpt\n",
      "119/468 [======>.......................] - ETA: 52s - loss: 0.5072 - accuracy: 0.7281\n",
      "Epoch 00001: saving model to training_10_2/cp-0001.ckpt\n",
      "120/468 [======>.......................] - ETA: 52s - loss: 0.5054 - accuracy: 0.7291\n",
      "Epoch 00001: saving model to training_10_2/cp-0001.ckpt\n",
      "121/468 [======>.......................] - ETA: 51s - loss: 0.5030 - accuracy: 0.7301\n",
      "Epoch 00001: saving model to training_10_2/cp-0001.ckpt\n",
      "122/468 [======>.......................] - ETA: 51s - loss: 0.5012 - accuracy: 0.7312\n",
      "Epoch 00001: saving model to training_10_2/cp-0001.ckpt\n",
      "123/468 [======>.......................] - ETA: 51s - loss: 0.4989 - accuracy: 0.7322\n",
      "Epoch 00001: saving model to training_10_2/cp-0001.ckpt\n",
      "124/468 [======>.......................] - ETA: 50s - loss: 0.4963 - accuracy: 0.7332\n",
      "Epoch 00001: saving model to training_10_2/cp-0001.ckpt\n",
      "125/468 [=======>......................] - ETA: 50s - loss: 0.4946 - accuracy: 0.7341\n",
      "Epoch 00001: saving model to training_10_2/cp-0001.ckpt\n",
      "126/468 [=======>......................] - ETA: 50s - loss: 0.4928 - accuracy: 0.7351\n",
      "Epoch 00001: saving model to training_10_2/cp-0001.ckpt\n",
      "127/468 [=======>......................] - ETA: 50s - loss: 0.4906 - accuracy: 0.7361\n",
      "Epoch 00001: saving model to training_10_2/cp-0001.ckpt\n",
      "128/468 [=======>......................] - ETA: 49s - loss: 0.4877 - accuracy: 0.7370\n",
      "Epoch 00001: saving model to training_10_2/cp-0001.ckpt\n",
      "129/468 [=======>......................] - ETA: 49s - loss: 0.4853 - accuracy: 0.7380\n",
      "Epoch 00001: saving model to training_10_2/cp-0001.ckpt\n",
      "130/468 [=======>......................] - ETA: 49s - loss: 0.4834 - accuracy: 0.7389\n",
      "Epoch 00001: saving model to training_10_2/cp-0001.ckpt\n",
      "131/468 [=======>......................] - ETA: 49s - loss: 0.4819 - accuracy: 0.7399\n",
      "Epoch 00001: saving model to training_10_2/cp-0001.ckpt\n",
      "132/468 [=======>......................] - ETA: 49s - loss: 0.4796 - accuracy: 0.7408\n",
      "Epoch 00001: saving model to training_10_2/cp-0001.ckpt\n",
      "133/468 [=======>......................] - ETA: 48s - loss: 0.4774 - accuracy: 0.7417\n",
      "Epoch 00001: saving model to training_10_2/cp-0001.ckpt\n"
     ]
    },
    {
     "name": "stderr",
     "output_type": "stream",
     "text": [
      "W0622 22:03:52.088435 31232 callbacks.py:241] Method (on_train_batch_end) is slow compared to the batch update (0.105092). Check your callbacks.\n"
     ]
    },
    {
     "name": "stdout",
     "output_type": "stream",
     "text": [
      "134/468 [=======>......................] - ETA: 48s - loss: 0.4749 - accuracy: 0.7426\n",
      "Epoch 00001: saving model to training_10_2/cp-0001.ckpt\n"
     ]
    },
    {
     "name": "stderr",
     "output_type": "stream",
     "text": [
      "W0622 22:03:52.283959 31232 callbacks.py:241] Method (on_train_batch_end) is slow compared to the batch update (0.110959). Check your callbacks.\n"
     ]
    },
    {
     "name": "stdout",
     "output_type": "stream",
     "text": [
      "\b\b\b\b\b\b\b\b\b\b\b\b\b\b\b\b\b\b\b\b\b\b\b\b\b\b\b\b\b\b\b\b\b\b\b\b\b\b\b\b\b\b\b\b\b\b\b\b\b\b\b\b\b\b\b\b\b\b\b\b\b\b\b\b\b\b\b\b\b\b\b\b\b\b\b\b\b\b\b\b\b\b\b\b\b\r",
      "135/468 [=======>......................] - ETA: 48s - loss: 0.4723 - accuracy: 0.7435"
     ]
    },
    {
     "name": "stderr",
     "output_type": "stream",
     "text": [
      "W0622 22:03:52.386608 31232 callbacks.py:241] Method (on_train_batch_end) is slow compared to the batch update (0.107537). Check your callbacks.\n"
     ]
    },
    {
     "name": "stdout",
     "output_type": "stream",
     "text": [
      "\n",
      "Epoch 00001: saving model to training_10_2/cp-0001.ckpt\n",
      "136/468 [=======>......................] - ETA: 48s - loss: 0.4711 - accuracy: 0.7444\n",
      "Epoch 00001: saving model to training_10_2/cp-0001.ckpt\n",
      "137/468 [=======>......................] - ETA: 48s - loss: 0.4692 - accuracy: 0.7452\n",
      "Epoch 00001: saving model to training_10_2/cp-0001.ckpt\n"
     ]
    },
    {
     "name": "stderr",
     "output_type": "stream",
     "text": [
      "W0622 22:03:52.594842 31232 callbacks.py:241] Method (on_train_batch_end) is slow compared to the batch update (0.100693). Check your callbacks.\n"
     ]
    },
    {
     "name": "stdout",
     "output_type": "stream",
     "text": [
      "138/468 [=======>......................] - ETA: 47s - loss: 0.4669 - accuracy: 0.7461\n",
      "Epoch 00001: saving model to training_10_2/cp-0001.ckpt\n",
      "139/468 [=======>......................] - ETA: 47s - loss: 0.4650 - accuracy: 0.7469\n",
      "Epoch 00001: saving model to training_10_2/cp-0001.ckpt\n"
     ]
    },
    {
     "name": "stderr",
     "output_type": "stream",
     "text": [
      "W0622 22:03:52.865644 31232 callbacks.py:241] Method (on_train_batch_end) is slow compared to the batch update (0.100694). Check your callbacks.\n"
     ]
    },
    {
     "name": "stdout",
     "output_type": "stream",
     "text": [
      "140/468 [=======>......................] - ETA: 47s - loss: 0.4635 - accuracy: 0.7478\n",
      "Epoch 00001: saving model to training_10_2/cp-0001.ckpt\n"
     ]
    },
    {
     "name": "stderr",
     "output_type": "stream",
     "text": [
      "W0622 22:03:52.989798 31232 callbacks.py:241] Method (on_train_batch_end) is slow compared to the batch update (0.105583). Check your callbacks.\n"
     ]
    },
    {
     "name": "stdout",
     "output_type": "stream",
     "text": [
      "141/468 [========>.....................] - ETA: 47s - loss: 0.4625 - accuracy: 0.7486\n",
      "Epoch 00001: saving model to training_10_2/cp-0001.ckpt\n"
     ]
    },
    {
     "name": "stderr",
     "output_type": "stream",
     "text": [
      "W0622 22:03:53.123731 31232 callbacks.py:241] Method (on_train_batch_end) is slow compared to the batch update (0.105583). Check your callbacks.\n"
     ]
    },
    {
     "name": "stdout",
     "output_type": "stream",
     "text": [
      "142/468 [========>.....................] - ETA: 47s - loss: 0.4609 - accuracy: 0.7494\n",
      "Epoch 00001: saving model to training_10_2/cp-0001.ckpt\n"
     ]
    },
    {
     "name": "stderr",
     "output_type": "stream",
     "text": [
      "W0622 22:03:53.321210 31232 callbacks.py:241] Method (on_train_batch_end) is slow compared to the batch update (0.110959). Check your callbacks.\n"
     ]
    },
    {
     "name": "stdout",
     "output_type": "stream",
     "text": [
      "\b\b\b\b\b\b\b\b\b\b\b\b\b\b\b\b\b\b\b\b\b\b\b\b\b\b\b\b\b\b\b\b\b\b\b\b\b\b\b\b\b\b\b\b\b\b\b\b\b\b\b\b\b\b\b\b\b\b\b\b\b\b\b\b\b\b\b\b\b\b\b\b\b\b\b\b\b\b\b\b\b\b\b\b\b\r",
      "143/468 [========>.....................] - ETA: 47s - loss: 0.4590 - accuracy: 0.7503"
     ]
    },
    {
     "name": "stderr",
     "output_type": "stream",
     "text": [
      "W0622 22:03:53.410175 31232 callbacks.py:241] Method (on_train_batch_end) is slow compared to the batch update (0.105583). Check your callbacks.\n"
     ]
    },
    {
     "name": "stdout",
     "output_type": "stream",
     "text": [
      "\n",
      "Epoch 00001: saving model to training_10_2/cp-0001.ckpt\n",
      "144/468 [========>.....................] - ETA: 46s - loss: 0.4574 - accuracy: 0.7511\n",
      "Epoch 00001: saving model to training_10_2/cp-0001.ckpt\n",
      "145/468 [========>.....................] - ETA: 46s - loss: 0.4558 - accuracy: 0.7519\n",
      "Epoch 00001: saving model to training_10_2/cp-0001.ckpt\n"
     ]
    },
    {
     "name": "stderr",
     "output_type": "stream",
     "text": [
      "W0622 22:03:53.676085 31232 callbacks.py:241] Method (on_train_batch_end) is slow compared to the batch update (0.105583). Check your callbacks.\n"
     ]
    },
    {
     "name": "stdout",
     "output_type": "stream",
     "text": [
      "146/468 [========>.....................] - ETA: 46s - loss: 0.4543 - accuracy: 0.7527\n",
      "Epoch 00001: saving model to training_10_2/cp-0001.ckpt\n"
     ]
    },
    {
     "name": "stderr",
     "output_type": "stream",
     "text": [
      "W0622 22:03:53.766026 31232 callbacks.py:241] Method (on_train_batch_end) is slow compared to the batch update (0.105583). Check your callbacks.\n"
     ]
    },
    {
     "name": "stdout",
     "output_type": "stream",
     "text": [
      "147/468 [========>.....................] - ETA: 46s - loss: 0.4524 - accuracy: 0.7534\n",
      "Epoch 00001: saving model to training_10_2/cp-0001.ckpt\n"
     ]
    },
    {
     "name": "stderr",
     "output_type": "stream",
     "text": [
      "W0622 22:03:53.893116 31232 callbacks.py:241] Method (on_train_batch_end) is slow compared to the batch update (0.107048). Check your callbacks.\n"
     ]
    },
    {
     "name": "stdout",
     "output_type": "stream",
     "text": [
      "148/468 [========>.....................] - ETA: 46s - loss: 0.4511 - accuracy: 0.7542\n",
      "Epoch 00001: saving model to training_10_2/cp-0001.ckpt\n"
     ]
    },
    {
     "name": "stderr",
     "output_type": "stream",
     "text": [
      "W0622 22:03:54.071044 31232 callbacks.py:241] Method (on_train_batch_end) is slow compared to the batch update (0.113400). Check your callbacks.\n"
     ]
    },
    {
     "name": "stdout",
     "output_type": "stream",
     "text": [
      "149/468 [========>.....................] - ETA: 45s - loss: 0.4489 - accuracy: 0.7550\n",
      "Epoch 00001: saving model to training_10_2/cp-0001.ckpt\n"
     ]
    },
    {
     "name": "stderr",
     "output_type": "stream",
     "text": [
      "W0622 22:03:54.216706 31232 callbacks.py:241] Method (on_train_batch_end) is slow compared to the batch update (0.113400). Check your callbacks.\n"
     ]
    },
    {
     "name": "stdout",
     "output_type": "stream",
     "text": [
      "150/468 [========>.....................] - ETA: 45s - loss: 0.4480 - accuracy: 0.7558\n",
      "Epoch 00001: saving model to training_10_2/cp-0001.ckpt\n"
     ]
    },
    {
     "name": "stderr",
     "output_type": "stream",
     "text": [
      "W0622 22:03:54.331099 31232 callbacks.py:241] Method (on_train_batch_end) is slow compared to the batch update (0.113400). Check your callbacks.\n"
     ]
    },
    {
     "name": "stdout",
     "output_type": "stream",
     "text": [
      "151/468 [========>.....................] - ETA: 45s - loss: 0.4463 - accuracy: 0.7565\n",
      "Epoch 00001: saving model to training_10_2/cp-0001.ckpt\n"
     ]
    },
    {
     "name": "stderr",
     "output_type": "stream",
     "text": [
      "W0622 22:03:54.419074 31232 callbacks.py:241] Method (on_train_batch_end) is slow compared to the batch update (0.106069). Check your callbacks.\n"
     ]
    },
    {
     "name": "stdout",
     "output_type": "stream",
     "text": [
      "152/468 [========>.....................] - ETA: 45s - loss: 0.4451 - accuracy: 0.7573\n",
      "Epoch 00001: saving model to training_10_2/cp-0001.ckpt\n"
     ]
    },
    {
     "name": "stderr",
     "output_type": "stream",
     "text": [
      "W0622 22:03:54.594067 31232 callbacks.py:241] Method (on_train_batch_end) is slow compared to the batch update (0.106069). Check your callbacks.\n"
     ]
    },
    {
     "name": "stdout",
     "output_type": "stream",
     "text": [
      "153/468 [========>.....................] - ETA: 45s - loss: 0.4437 - accuracy: 0.7580\n",
      "Epoch 00001: saving model to training_10_2/cp-0001.ckpt"
     ]
    },
    {
     "name": "stderr",
     "output_type": "stream",
     "text": [
      "W0622 22:03:54.759284 31232 callbacks.py:241] Method (on_train_batch_end) is slow compared to the batch update (0.120734). Check your callbacks.\n"
     ]
    },
    {
     "name": "stdout",
     "output_type": "stream",
     "text": [
      "\n",
      "154/468 [========>.....................] - ETA: 45s - loss: 0.4419 - accuracy: 0.7587\n",
      "Epoch 00001: saving model to training_10_2/cp-0001.ckpt\n"
     ]
    },
    {
     "name": "stderr",
     "output_type": "stream",
     "text": [
      "W0622 22:03:54.877577 31232 callbacks.py:241] Method (on_train_batch_end) is slow compared to the batch update (0.120734). Check your callbacks.\n"
     ]
    },
    {
     "name": "stdout",
     "output_type": "stream",
     "text": [
      "155/468 [========>.....................] - ETA: 45s - loss: 0.4401 - accuracy: 0.7595\n",
      "Epoch 00001: saving model to training_10_2/cp-0001.ckpt\n"
     ]
    },
    {
     "name": "stderr",
     "output_type": "stream",
     "text": [
      "W0622 22:03:54.987069 31232 callbacks.py:241] Method (on_train_batch_end) is slow compared to the batch update (0.110469). Check your callbacks.\n"
     ]
    },
    {
     "name": "stdout",
     "output_type": "stream",
     "text": [
      "156/468 [=========>....................] - ETA: 44s - loss: 0.4389 - accuracy: 0.7602\n",
      "Epoch 00001: saving model to training_10_2/cp-0001.ckpt\n"
     ]
    },
    {
     "name": "stderr",
     "output_type": "stream",
     "text": [
      "W0622 22:03:55.091673 31232 callbacks.py:241] Method (on_train_batch_end) is slow compared to the batch update (0.110469). Check your callbacks.\n"
     ]
    },
    {
     "name": "stdout",
     "output_type": "stream",
     "text": [
      "157/468 [=========>....................] - ETA: 44s - loss: 0.4371 - accuracy: 0.7609\n",
      "Epoch 00001: saving model to training_10_2/cp-0001.ckpt\n"
     ]
    },
    {
     "name": "stderr",
     "output_type": "stream",
     "text": [
      "W0622 22:03:55.197258 31232 callbacks.py:241] Method (on_train_batch_end) is slow compared to the batch update (0.102161). Check your callbacks.\n"
     ]
    },
    {
     "name": "stdout",
     "output_type": "stream",
     "text": [
      "158/468 [=========>....................] - ETA: 44s - loss: 0.4356 - accuracy: 0.7616\n",
      "Epoch 00001: saving model to training_10_2/cp-0001.ckpt\n"
     ]
    },
    {
     "name": "stderr",
     "output_type": "stream",
     "text": [
      "W0622 22:03:55.334123 31232 callbacks.py:241] Method (on_train_batch_end) is slow compared to the batch update (0.102161). Check your callbacks.\n"
     ]
    },
    {
     "name": "stdout",
     "output_type": "stream",
     "text": [
      "159/468 [=========>....................] - ETA: 44s - loss: 0.4342 - accuracy: 0.7623\n",
      "Epoch 00001: saving model to training_10_2/cp-0001.ckpt\n",
      "160/468 [=========>....................] - ETA: 43s - loss: 0.4328 - accuracy: 0.7630\n",
      "Epoch 00001: saving model to training_10_2/cp-0001.ckpt\n",
      "161/468 [=========>....................] - ETA: 43s - loss: 0.4314 - accuracy: 0.7637\n",
      "Epoch 00001: saving model to training_10_2/cp-0001.ckpt\n",
      "162/468 [=========>....................] - ETA: 43s - loss: 0.4300 - accuracy: 0.7644\n",
      "Epoch 00001: saving model to training_10_2/cp-0001.ckpt\n",
      "163/468 [=========>....................] - ETA: 43s - loss: 0.4284 - accuracy: 0.7650\n",
      "Epoch 00001: saving model to training_10_2/cp-0001.ckpt\n",
      "164/468 [=========>....................] - ETA: 43s - loss: 0.4275 - accuracy: 0.7657\n",
      "Epoch 00001: saving model to training_10_2/cp-0001.ckpt\n",
      "165/468 [=========>....................] - ETA: 42s - loss: 0.4263 - accuracy: 0.7664\n",
      "Epoch 00001: saving model to training_10_2/cp-0001.ckpt\n",
      "166/468 [=========>....................] - ETA: 42s - loss: 0.4247 - accuracy: 0.7670\n",
      "Epoch 00001: saving model to training_10_2/cp-0001.ckpt\n",
      "167/468 [=========>....................] - ETA: 42s - loss: 0.4233 - accuracy: 0.7677\n",
      "Epoch 00001: saving model to training_10_2/cp-0001.ckpt\n",
      "168/468 [=========>....................] - ETA: 42s - loss: 0.4221 - accuracy: 0.7683\n",
      "Epoch 00001: saving model to training_10_2/cp-0001.ckpt\n",
      "169/468 [=========>....................] - ETA: 41s - loss: 0.4212 - accuracy: 0.7690\n",
      "Epoch 00001: saving model to training_10_2/cp-0001.ckpt\n",
      "170/468 [=========>....................] - ETA: 41s - loss: 0.4210 - accuracy: 0.7696\n",
      "Epoch 00001: saving model to training_10_2/cp-0001.ckpt\n",
      "171/468 [=========>....................] - ETA: 41s - loss: 0.4200 - accuracy: 0.7702\n",
      "Epoch 00001: saving model to training_10_2/cp-0001.ckpt\n",
      "172/468 [==========>...................] - ETA: 41s - loss: 0.4191 - accuracy: 0.7709\n",
      "Epoch 00001: saving model to training_10_2/cp-0001.ckpt\n",
      "173/468 [==========>...................] - ETA: 41s - loss: 0.4177 - accuracy: 0.7715\n",
      "Epoch 00001: saving model to training_10_2/cp-0001.ckpt\n",
      "174/468 [==========>...................] - ETA: 40s - loss: 0.4166 - accuracy: 0.7721\n",
      "Epoch 00001: saving model to training_10_2/cp-0001.ckpt\n",
      "175/468 [==========>...................] - ETA: 40s - loss: 0.4161 - accuracy: 0.7727\n",
      "Epoch 00001: saving model to training_10_2/cp-0001.ckpt\n",
      "176/468 [==========>...................] - ETA: 40s - loss: 0.4156 - accuracy: 0.7733\n",
      "Epoch 00001: saving model to training_10_2/cp-0001.ckpt\n",
      "177/468 [==========>...................] - ETA: 40s - loss: 0.4143 - accuracy: 0.7739\n",
      "Epoch 00001: saving model to training_10_2/cp-0001.ckpt\n",
      "178/468 [==========>...................] - ETA: 40s - loss: 0.4134 - accuracy: 0.7745\n",
      "Epoch 00001: saving model to training_10_2/cp-0001.ckpt\n",
      "179/468 [==========>...................] - ETA: 39s - loss: 0.4122 - accuracy: 0.7751\n",
      "Epoch 00001: saving model to training_10_2/cp-0001.ckpt\n",
      "180/468 [==========>...................] - ETA: 39s - loss: 0.4117 - accuracy: 0.7757\n",
      "Epoch 00001: saving model to training_10_2/cp-0001.ckpt\n",
      "181/468 [==========>...................] - ETA: 39s - loss: 0.4107 - accuracy: 0.7762\n",
      "Epoch 00001: saving model to training_10_2/cp-0001.ckpt\n",
      "182/468 [==========>...................] - ETA: 39s - loss: 0.4095 - accuracy: 0.7768\n",
      "Epoch 00001: saving model to training_10_2/cp-0001.ckpt\n",
      "183/468 [==========>...................] - ETA: 39s - loss: 0.4083 - accuracy: 0.7774\n",
      "Epoch 00001: saving model to training_10_2/cp-0001.ckpt\n",
      "184/468 [==========>...................] - ETA: 38s - loss: 0.4072 - accuracy: 0.7779\n",
      "Epoch 00001: saving model to training_10_2/cp-0001.ckpt\n",
      "185/468 [==========>...................] - ETA: 38s - loss: 0.4068 - accuracy: 0.7785\n",
      "Epoch 00001: saving model to training_10_2/cp-0001.ckpt\n",
      "186/468 [==========>...................] - ETA: 38s - loss: 0.4058 - accuracy: 0.7790\n",
      "Epoch 00001: saving model to training_10_2/cp-0001.ckpt\n",
      "187/468 [==========>...................] - ETA: 38s - loss: 0.4050 - accuracy: 0.7796\n",
      "Epoch 00001: saving model to training_10_2/cp-0001.ckpt\n",
      "188/468 [===========>..................] - ETA: 38s - loss: 0.4035 - accuracy: 0.7801\n",
      "Epoch 00001: saving model to training_10_2/cp-0001.ckpt\n",
      "189/468 [===========>..................] - ETA: 37s - loss: 0.4026 - accuracy: 0.7807\n",
      "Epoch 00001: saving model to training_10_2/cp-0001.ckpt\n",
      "190/468 [===========>..................] - ETA: 37s - loss: 0.4018 - accuracy: 0.7812\n",
      "Epoch 00001: saving model to training_10_2/cp-0001.ckpt\n",
      "191/468 [===========>..................] - ETA: 37s - loss: 0.4008 - accuracy: 0.7817\n",
      "Epoch 00001: saving model to training_10_2/cp-0001.ckpt\n",
      "192/468 [===========>..................] - ETA: 37s - loss: 0.4001 - accuracy: 0.7823\n",
      "Epoch 00001: saving model to training_10_2/cp-0001.ckpt\n",
      "193/468 [===========>..................] - ETA: 37s - loss: 0.3994 - accuracy: 0.7828\n",
      "Epoch 00001: saving model to training_10_2/cp-0001.ckpt\n",
      "194/468 [===========>..................] - ETA: 37s - loss: 0.3980 - accuracy: 0.7833\n",
      "Epoch 00001: saving model to training_10_2/cp-0001.ckpt\n",
      "195/468 [===========>..................] - ETA: 37s - loss: 0.3975 - accuracy: 0.7838\n",
      "Epoch 00001: saving model to training_10_2/cp-0001.ckpt\n",
      "196/468 [===========>..................] - ETA: 36s - loss: 0.3964 - accuracy: 0.7843\n",
      "Epoch 00001: saving model to training_10_2/cp-0001.ckpt\n"
     ]
    },
    {
     "name": "stderr",
     "output_type": "stream",
     "text": [
      "W0622 22:03:59.385368 31232 callbacks.py:241] Method (on_train_batch_end) is slow compared to the batch update (0.117313). Check your callbacks.\n"
     ]
    },
    {
     "name": "stdout",
     "output_type": "stream",
     "text": [
      "197/468 [===========>..................] - ETA: 36s - loss: 0.3957 - accuracy: 0.7848\n",
      "Epoch 00001: saving model to training_10_2/cp-0001.ckpt\n"
     ]
    },
    {
     "name": "stderr",
     "output_type": "stream",
     "text": [
      "W0622 22:03:59.487043 31232 callbacks.py:241] Method (on_train_batch_end) is slow compared to the batch update (0.110469). Check your callbacks.\n"
     ]
    },
    {
     "name": "stdout",
     "output_type": "stream",
     "text": [
      "198/468 [===========>..................] - ETA: 36s - loss: 0.3949 - accuracy: 0.7853\n",
      "Epoch 00001: saving model to training_10_2/cp-0001.ckpt\n"
     ]
    },
    {
     "name": "stderr",
     "output_type": "stream",
     "text": [
      "W0622 22:03:59.615107 31232 callbacks.py:241] Method (on_train_batch_end) is slow compared to the batch update (0.120736). Check your callbacks.\n"
     ]
    },
    {
     "name": "stdout",
     "output_type": "stream",
     "text": [
      "199/468 [===========>..................] - ETA: 36s - loss: 0.3939 - accuracy: 0.7858\n",
      "Epoch 00001: saving model to training_10_2/cp-0001.ckpt\n"
     ]
    },
    {
     "name": "stderr",
     "output_type": "stream",
     "text": [
      "W0622 22:03:59.719712 31232 callbacks.py:241] Method (on_train_batch_end) is slow compared to the batch update (0.120736). Check your callbacks.\n"
     ]
    },
    {
     "name": "stdout",
     "output_type": "stream",
     "text": [
      "200/468 [===========>..................] - ETA: 36s - loss: 0.3933 - accuracy: 0.7863\n",
      "Epoch 00001: saving model to training_10_2/cp-0001.ckpt\n"
     ]
    },
    {
     "name": "stderr",
     "output_type": "stream",
     "text": [
      "W0622 22:03:59.821389 31232 callbacks.py:241] Method (on_train_batch_end) is slow compared to the batch update (0.120736). Check your callbacks.\n"
     ]
    },
    {
     "name": "stdout",
     "output_type": "stream",
     "text": [
      "201/468 [===========>..................] - ETA: 36s - loss: 0.3924 - accuracy: 0.7868\n",
      "Epoch 00001: saving model to training_10_2/cp-0001.ckpt\n"
     ]
    },
    {
     "name": "stderr",
     "output_type": "stream",
     "text": [
      "W0622 22:03:59.992470 31232 callbacks.py:241] Method (on_train_batch_end) is slow compared to the batch update (0.120736). Check your callbacks.\n"
     ]
    },
    {
     "name": "stdout",
     "output_type": "stream",
     "text": [
      "202/468 [===========>..................] - ETA: 36s - loss: 0.3912 - accuracy: 0.7873\n",
      "Epoch 00001: saving model to training_10_2/cp-0001.ckpt\n"
     ]
    },
    {
     "name": "stderr",
     "output_type": "stream",
     "text": [
      "W0622 22:04:00.086319 31232 callbacks.py:241] Method (on_train_batch_end) is slow compared to the batch update (0.120736). Check your callbacks.\n"
     ]
    },
    {
     "name": "stdout",
     "output_type": "stream",
     "text": [
      "203/468 [============>.................] - ETA: 35s - loss: 0.3904 - accuracy: 0.7878\n",
      "Epoch 00001: saving model to training_10_2/cp-0001.ckpt\n"
     ]
    },
    {
     "name": "stderr",
     "output_type": "stream",
     "text": [
      "W0622 22:04:00.197772 31232 callbacks.py:241] Method (on_train_batch_end) is slow compared to the batch update (0.107053). Check your callbacks.\n"
     ]
    },
    {
     "name": "stdout",
     "output_type": "stream",
     "text": [
      "204/468 [============>.................] - ETA: 35s - loss: 0.3890 - accuracy: 0.7883\n",
      "Epoch 00001: saving model to training_10_2/cp-0001.ckpt\n",
      "205/468 [============>.................] - ETA: 35s - loss: 0.3877 - accuracy: 0.7887\n",
      "Epoch 00001: saving model to training_10_2/cp-0001.ckpt\n",
      "206/468 [============>.................] - ETA: 35s - loss: 0.3867 - accuracy: 0.7892\n",
      "Epoch 00001: saving model to training_10_2/cp-0001.ckpt\n",
      "207/468 [============>.................] - ETA: 35s - loss: 0.3863 - accuracy: 0.7897\n",
      "Epoch 00001: saving model to training_10_2/cp-0001.ckpt\n"
     ]
    },
    {
     "name": "stderr",
     "output_type": "stream",
     "text": [
      "W0622 22:04:00.759898 31232 callbacks.py:241] Method (on_train_batch_end) is slow compared to the batch update (0.101186). Check your callbacks.\n"
     ]
    },
    {
     "name": "stdout",
     "output_type": "stream",
     "text": [
      "208/468 [============>.................] - ETA: 35s - loss: 0.3857 - accuracy: 0.7902\n",
      "Epoch 00001: saving model to training_10_2/cp-0001.ckpt\n"
     ]
    },
    {
     "name": "stderr",
     "output_type": "stream",
     "text": [
      "W0622 22:04:00.873302 31232 callbacks.py:241] Method (on_train_batch_end) is slow compared to the batch update (0.101186). Check your callbacks.\n"
     ]
    },
    {
     "name": "stdout",
     "output_type": "stream",
     "text": [
      "209/468 [============>.................] - ETA: 35s - loss: 0.3853 - accuracy: 0.7906\n",
      "Epoch 00001: saving model to training_10_2/cp-0001.ckpt\n"
     ]
    },
    {
     "name": "stderr",
     "output_type": "stream",
     "text": [
      "W0622 22:04:01.070781 31232 callbacks.py:241] Method (on_train_batch_end) is slow compared to the batch update (0.101673). Check your callbacks.\n"
     ]
    },
    {
     "name": "stdout",
     "output_type": "stream",
     "text": [
      "210/468 [============>.................] - ETA: 34s - loss: 0.3844 - accuracy: 0.7911\n",
      "Epoch 00001: saving model to training_10_2/cp-0001.ckpt"
     ]
    },
    {
     "name": "stderr",
     "output_type": "stream",
     "text": [
      "W0622 22:04:01.161698 31232 callbacks.py:241] Method (on_train_batch_end) is slow compared to the batch update (0.101673). Check your callbacks.\n"
     ]
    },
    {
     "name": "stdout",
     "output_type": "stream",
     "text": [
      "\n",
      "211/468 [============>.................] - ETA: 34s - loss: 0.3837 - accuracy: 0.7915\n",
      "Epoch 00001: saving model to training_10_2/cp-0001.ckpt\n"
     ]
    },
    {
     "name": "stderr",
     "output_type": "stream",
     "text": [
      "W0622 22:04:01.276079 31232 callbacks.py:241] Method (on_train_batch_end) is slow compared to the batch update (0.101186). Check your callbacks.\n"
     ]
    },
    {
     "name": "stdout",
     "output_type": "stream",
     "text": [
      "212/468 [============>.................] - ETA: 34s - loss: 0.3833 - accuracy: 0.7920\n",
      "Epoch 00001: saving model to training_10_2/cp-0001.ckpt\n"
     ]
    },
    {
     "name": "stderr",
     "output_type": "stream",
     "text": [
      "W0622 22:04:01.402191 31232 callbacks.py:241] Method (on_train_batch_end) is slow compared to the batch update (0.101673). Check your callbacks.\n"
     ]
    },
    {
     "name": "stdout",
     "output_type": "stream",
     "text": [
      "213/468 [============>.................] - ETA: 34s - loss: 0.3824 - accuracy: 0.7924\n",
      "Epoch 00001: saving model to training_10_2/cp-0001.ckpt\n"
     ]
    },
    {
     "name": "stderr",
     "output_type": "stream",
     "text": [
      "W0622 22:04:01.511686 31232 callbacks.py:241] Method (on_train_batch_end) is slow compared to the batch update (0.101673). Check your callbacks.\n"
     ]
    },
    {
     "name": "stdout",
     "output_type": "stream",
     "text": [
      "214/468 [============>.................] - ETA: 34s - loss: 0.3813 - accuracy: 0.7929\n",
      "Epoch 00001: saving model to training_10_2/cp-0001.ckpt\n"
     ]
    },
    {
     "name": "stderr",
     "output_type": "stream",
     "text": [
      "W0622 22:04:01.632911 31232 callbacks.py:241] Method (on_train_batch_end) is slow compared to the batch update (0.101673). Check your callbacks.\n"
     ]
    },
    {
     "name": "stdout",
     "output_type": "stream",
     "text": [
      "215/468 [============>.................] - ETA: 34s - loss: 0.3805 - accuracy: 0.7933\n",
      "Epoch 00001: saving model to training_10_2/cp-0001.ckpt\n"
     ]
    },
    {
     "name": "stderr",
     "output_type": "stream",
     "text": [
      "W0622 22:04:01.733604 31232 callbacks.py:241] Method (on_train_batch_end) is slow compared to the batch update (0.101182). Check your callbacks.\n"
     ]
    },
    {
     "name": "stdout",
     "output_type": "stream",
     "text": [
      "216/468 [============>.................] - ETA: 34s - loss: 0.3800 - accuracy: 0.7938\n",
      "Epoch 00001: saving model to training_10_2/cp-0001.ckpt\n"
     ]
    },
    {
     "name": "stderr",
     "output_type": "stream",
     "text": [
      "W0622 22:04:01.846029 31232 callbacks.py:241] Method (on_train_batch_end) is slow compared to the batch update (0.100206). Check your callbacks.\n"
     ]
    },
    {
     "name": "stdout",
     "output_type": "stream",
     "text": [
      "217/468 [============>.................] - ETA: 33s - loss: 0.3791 - accuracy: 0.7942\n",
      "Epoch 00001: saving model to training_10_2/cp-0001.ckpt\n"
     ]
    },
    {
     "name": "stderr",
     "output_type": "stream",
     "text": [
      "W0622 22:04:02.023956 31232 callbacks.py:241] Method (on_train_batch_end) is slow compared to the batch update (0.100206). Check your callbacks.\n"
     ]
    },
    {
     "name": "stdout",
     "output_type": "stream",
     "text": [
      "218/468 [============>.................] - ETA: 33s - loss: 0.3780 - accuracy: 0.7947\n",
      "Epoch 00001: saving model to training_10_2/cp-0001.ckpt\n"
     ]
    },
    {
     "name": "stderr",
     "output_type": "stream",
     "text": [
      "W0622 22:04:02.236102 31232 callbacks.py:241] Method (on_train_batch_end) is slow compared to the batch update (0.100206). Check your callbacks.\n"
     ]
    },
    {
     "name": "stdout",
     "output_type": "stream",
     "text": [
      "\b\b\b\b\b\b\b\b\b\b\b\b\b\b\b\b\b\b\b\b\b\b\b\b\b\b\b\b\b\b\b\b\b\b\b\b\b\b\b\b\b\b\b\b\b\b\b\b\b\b\b\b\b\b\b\b\b\b\b\b\b\b\b\b\b\b\b\b\b\b\b\b\b\b\b\b\b\b\b\b\b\b\b\b\b\r",
      "219/468 [=============>................] - ETA: 33s - loss: 0.3775 - accuracy: 0.7951"
     ]
    },
    {
     "name": "stderr",
     "output_type": "stream",
     "text": [
      "W0622 22:04:02.421845 31232 callbacks.py:241] Method (on_train_batch_end) is slow compared to the batch update (0.100206). Check your callbacks.\n"
     ]
    },
    {
     "name": "stdout",
     "output_type": "stream",
     "text": [
      "\n",
      "Epoch 00001: saving model to training_10_2/cp-0001.ckpt\n",
      "220/468 [=============>................] - ETA: 33s - loss: 0.3768 - accuracy: 0.7955\n",
      "Epoch 00001: saving model to training_10_2/cp-0001.ckpt"
     ]
    },
    {
     "name": "stderr",
     "output_type": "stream",
     "text": [
      "W0622 22:04:02.561645 31232 callbacks.py:241] Method (on_train_batch_end) is slow compared to the batch update (0.104114). Check your callbacks.\n"
     ]
    },
    {
     "name": "stdout",
     "output_type": "stream",
     "text": [
      "\n",
      "221/468 [=============>................] - ETA: 33s - loss: 0.3758 - accuracy: 0.7959\n",
      "Epoch 00001: saving model to training_10_2/cp-0001.ckpt\n"
     ]
    },
    {
     "name": "stderr",
     "output_type": "stream",
     "text": [
      "W0622 22:04:02.650608 31232 callbacks.py:241] Method (on_train_batch_end) is slow compared to the batch update (0.103628). Check your callbacks.\n"
     ]
    },
    {
     "name": "stdout",
     "output_type": "stream",
     "text": [
      "222/468 [=============>................] - ETA: 33s - loss: 0.3745 - accuracy: 0.7964\n",
      "Epoch 00001: saving model to training_10_2/cp-0001.ckpt\n",
      "223/468 [=============>................] - ETA: 33s - loss: 0.3736 - accuracy: 0.7968\n",
      "Epoch 00001: saving model to training_10_2/cp-0001.ckpt\n"
     ]
    },
    {
     "name": "stderr",
     "output_type": "stream",
     "text": [
      "W0622 22:04:02.899901 31232 callbacks.py:241] Method (on_train_batch_end) is slow compared to the batch update (0.109495). Check your callbacks.\n"
     ]
    },
    {
     "name": "stdout",
     "output_type": "stream",
     "text": [
      "224/468 [=============>................] - ETA: 33s - loss: 0.3726 - accuracy: 0.7972\n",
      "Epoch 00001: saving model to training_10_2/cp-0001.ckpt\n"
     ]
    },
    {
     "name": "stderr",
     "output_type": "stream",
     "text": [
      "W0622 22:04:02.984958 31232 callbacks.py:241] Method (on_train_batch_end) is slow compared to the batch update (0.109493). Check your callbacks.\n"
     ]
    },
    {
     "name": "stdout",
     "output_type": "stream",
     "text": [
      "225/468 [=============>................] - ETA: 32s - loss: 0.3723 - accuracy: 0.7976\n",
      "Epoch 00001: saving model to training_10_2/cp-0001.ckpt\n"
     ]
    },
    {
     "name": "stderr",
     "output_type": "stream",
     "text": [
      "W0622 22:04:03.117916 31232 callbacks.py:241] Method (on_train_batch_end) is slow compared to the batch update (0.118782). Check your callbacks.\n"
     ]
    },
    {
     "name": "stdout",
     "output_type": "stream",
     "text": [
      "226/468 [=============>................] - ETA: 32s - loss: 0.3716 - accuracy: 0.7980\n",
      "Epoch 00001: saving model to training_10_2/cp-0001.ckpt\n"
     ]
    },
    {
     "name": "stderr",
     "output_type": "stream",
     "text": [
      "W0622 22:04:03.287043 31232 callbacks.py:241] Method (on_train_batch_end) is slow compared to the batch update (0.120245). Check your callbacks.\n"
     ]
    },
    {
     "name": "stdout",
     "output_type": "stream",
     "text": [
      "227/468 [=============>................] - ETA: 32s - loss: 0.3705 - accuracy: 0.7984\n",
      "Epoch 00001: saving model to training_10_2/cp-0001.ckpt\n"
     ]
    },
    {
     "name": "stderr",
     "output_type": "stream",
     "text": [
      "W0622 22:04:03.499180 31232 callbacks.py:241] Method (on_train_batch_end) is slow compared to the batch update (0.120245). Check your callbacks.\n"
     ]
    },
    {
     "name": "stdout",
     "output_type": "stream",
     "text": [
      "228/468 [=============>................] - ETA: 32s - loss: 0.3699 - accuracy: 0.7989\n",
      "Epoch 00001: saving model to training_10_2/cp-0001.ckpt\n"
     ]
    },
    {
     "name": "stderr",
     "output_type": "stream",
     "text": [
      "W0622 22:04:03.732832 31232 callbacks.py:241] Method (on_train_batch_end) is slow compared to the batch update (0.120245). Check your callbacks.\n"
     ]
    },
    {
     "name": "stdout",
     "output_type": "stream",
     "text": [
      "\b\b\b\b\b\b\b\b\b\b\b\b\b\b\b\b\b\b\b\b\b\b\b\b\b\b\b\b\b\b\b\b\b\b\b\b\b\b\b\b\b\b\b\b\b\b\b\b\b\b\b\b\b\b\b\b\b\b\b\b\b\b\b\b\b\b\b\b\b\b\b\b\b\b\b\b\b\b\b\b\b\b\b\b\b\r",
      "229/468 [=============>................] - ETA: 32s - loss: 0.3693 - accuracy: 0.7993"
     ]
    },
    {
     "name": "stderr",
     "output_type": "stream",
     "text": [
      "W0622 22:04:03.879474 31232 callbacks.py:241] Method (on_train_batch_end) is slow compared to the batch update (0.120245). Check your callbacks.\n"
     ]
    },
    {
     "name": "stdout",
     "output_type": "stream",
     "text": [
      "\n",
      "Epoch 00001: saving model to training_10_2/cp-0001.ckpt\n",
      "230/468 [=============>................] - ETA: 32s - loss: 0.3686 - accuracy: 0.7997\n",
      "Epoch 00001: saving model to training_10_2/cp-0001.ckpt\n"
     ]
    },
    {
     "name": "stderr",
     "output_type": "stream",
     "text": [
      "W0622 22:04:04.000698 31232 callbacks.py:241] Method (on_train_batch_end) is slow compared to the batch update (0.118782). Check your callbacks.\n"
     ]
    },
    {
     "name": "stdout",
     "output_type": "stream",
     "text": [
      "231/468 [=============>................] - ETA: 32s - loss: 0.3675 - accuracy: 0.8001\n",
      "Epoch 00001: saving model to training_10_2/cp-0001.ckpt\n"
     ]
    },
    {
     "name": "stderr",
     "output_type": "stream",
     "text": [
      "W0622 22:04:04.150272 31232 callbacks.py:241] Method (on_train_batch_end) is slow compared to the batch update (0.122690). Check your callbacks.\n"
     ]
    },
    {
     "name": "stdout",
     "output_type": "stream",
     "text": [
      "232/468 [=============>................] - ETA: 32s - loss: 0.3669 - accuracy: 0.8005\n",
      "Epoch 00001: saving model to training_10_2/cp-0001.ckpt\n"
     ]
    },
    {
     "name": "stderr",
     "output_type": "stream",
     "text": [
      "W0622 22:04:04.257811 31232 callbacks.py:241] Method (on_train_batch_end) is slow compared to the batch update (0.122690). Check your callbacks.\n"
     ]
    },
    {
     "name": "stdout",
     "output_type": "stream",
     "text": [
      "233/468 [=============>................] - ETA: 31s - loss: 0.3659 - accuracy: 0.8009\n",
      "Epoch 00001: saving model to training_10_2/cp-0001.ckpt\n"
     ]
    },
    {
     "name": "stderr",
     "output_type": "stream",
     "text": [
      "W0622 22:04:04.376103 31232 callbacks.py:241] Method (on_train_batch_end) is slow compared to the batch update (0.122204). Check your callbacks.\n"
     ]
    },
    {
     "name": "stdout",
     "output_type": "stream",
     "text": [
      "234/468 [==============>...............] - ETA: 31s - loss: 0.3650 - accuracy: 0.8013\n",
      "Epoch 00001: saving model to training_10_2/cp-0001.ckpt\n"
     ]
    },
    {
     "name": "stderr",
     "output_type": "stream",
     "text": [
      "W0622 22:04:04.620513 31232 callbacks.py:241] Method (on_train_batch_end) is slow compared to the batch update (0.128556). Check your callbacks.\n"
     ]
    },
    {
     "name": "stdout",
     "output_type": "stream",
     "text": [
      "\b\b\b\b\b\b\b\b\b\b\b\b\b\b\b\b\b\b\b\b\b\b\b\b\b\b\b\b\b\b\b\b\b\b\b\b\b\b\b\b\b\b\b\b\b\b\b\b\b\b\b\b\b\b\b\b\b\b\b\b\b\b\b\b\b\b\b\b\b\b\b\b\b\b\b\b\b\b\b\b\b\b\b\b\b\r",
      "235/468 [==============>...............] - ETA: 31s - loss: 0.3645 - accuracy: 0.8016"
     ]
    },
    {
     "name": "stderr",
     "output_type": "stream",
     "text": [
      "W0622 22:04:04.763239 31232 callbacks.py:241] Method (on_train_batch_end) is slow compared to the batch update (0.128556). Check your callbacks.\n"
     ]
    },
    {
     "name": "stdout",
     "output_type": "stream",
     "text": [
      "\n",
      "Epoch 00001: saving model to training_10_2/cp-0001.ckpt\n",
      "236/468 [==============>...............] - ETA: 31s - loss: 0.3639 - accuracy: 0.8020\n",
      "Epoch 00001: saving model to training_10_2/cp-0001.ckpt\n"
     ]
    },
    {
     "name": "stderr",
     "output_type": "stream",
     "text": [
      "W0622 22:04:04.909881 31232 callbacks.py:241] Method (on_train_batch_end) is slow compared to the batch update (0.126112). Check your callbacks.\n"
     ]
    },
    {
     "name": "stdout",
     "output_type": "stream",
     "text": [
      "237/468 [==============>...............] - ETA: 31s - loss: 0.3633 - accuracy: 0.8024\n",
      "Epoch 00001: saving model to training_10_2/cp-0001.ckpt\n"
     ]
    },
    {
     "name": "stderr",
     "output_type": "stream",
     "text": [
      "W0622 22:04:05.154286 31232 callbacks.py:241] Method (on_train_batch_end) is slow compared to the batch update (0.126112). Check your callbacks.\n"
     ]
    },
    {
     "name": "stdout",
     "output_type": "stream",
     "text": [
      "\b\b\b\b\b\b\b\b\b\b\b\b\b\b\b\b\b\b\b\b\b\b\b\b\b\b\b\b\b\b\b\b\b\b\b\b\b\b\b\b\b\b\b\b\b\b\b\b\b\b\b\b\b\b\b\b\b\b\b\b\b\b\b\b\b\b\b\b\b\b\b\b\b\b\b\b\b\b\b\b\b\b\b\b\b\r",
      "238/468 [==============>...............] - ETA: 31s - loss: 0.3623 - accuracy: 0.8028"
     ]
    },
    {
     "name": "stderr",
     "output_type": "stream",
     "text": [
      "W0622 22:04:05.250091 31232 callbacks.py:241] Method (on_train_batch_end) is slow compared to the batch update (0.119268). Check your callbacks.\n"
     ]
    },
    {
     "name": "stdout",
     "output_type": "stream",
     "text": [
      "\n",
      "Epoch 00001: saving model to training_10_2/cp-0001.ckpt\n",
      "\b\b\b\b\b\b\b\b\b\b\b\b\b\b\b\b\b\b\b\b\b\b\b\b\b\b\b\b\b\b\b\b\b\b\b\b\b\b\b\b\b\b\b\b\b\b\b\b\b\b\b\b\b\b\b\b\b\b\b\b\b\b\b\b\b\b\b\b\b\b\b\b\b\b\b\b\b\b\b\b\b\b\b\b\b\r",
      "239/468 [==============>...............] - ETA: 31s - loss: 0.3616 - accuracy: 0.8032"
     ]
    },
    {
     "name": "stderr",
     "output_type": "stream",
     "text": [
      "W0622 22:04:05.343944 31232 callbacks.py:241] Method (on_train_batch_end) is slow compared to the batch update (0.108518). Check your callbacks.\n"
     ]
    },
    {
     "name": "stdout",
     "output_type": "stream",
     "text": [
      "\n",
      "Epoch 00001: saving model to training_10_2/cp-0001.ckpt\n",
      "240/468 [==============>...............] - ETA: 31s - loss: 0.3611 - accuracy: 0.8036\n",
      "Epoch 00001: saving model to training_10_2/cp-0001.ckpt\n"
     ]
    },
    {
     "name": "stderr",
     "output_type": "stream",
     "text": [
      "W0622 22:04:05.503299 31232 callbacks.py:241] Method (on_train_batch_end) is slow compared to the batch update (0.119268). Check your callbacks.\n"
     ]
    },
    {
     "name": "stdout",
     "output_type": "stream",
     "text": [
      "241/468 [==============>...............] - ETA: 31s - loss: 0.3604 - accuracy: 0.8039\n",
      "Epoch 00001: saving model to training_10_2/cp-0001.ckpt\n"
     ]
    },
    {
     "name": "stderr",
     "output_type": "stream",
     "text": [
      "W0622 22:04:05.691976 31232 callbacks.py:241] Method (on_train_batch_end) is slow compared to the batch update (0.119268). Check your callbacks.\n"
     ]
    },
    {
     "name": "stdout",
     "output_type": "stream",
     "text": [
      "242/468 [==============>...............] - ETA: 30s - loss: 0.3597 - accuracy: 0.8043\n",
      "Epoch 00001: saving model to training_10_2/cp-0001.ckpt"
     ]
    },
    {
     "name": "stderr",
     "output_type": "stream",
     "text": [
      "W0622 22:04:05.797558 31232 callbacks.py:241] Method (on_train_batch_end) is slow compared to the batch update (0.119268). Check your callbacks.\n"
     ]
    },
    {
     "name": "stdout",
     "output_type": "stream",
     "text": [
      "\n",
      "243/468 [==============>...............] - ETA: 30s - loss: 0.3588 - accuracy: 0.8047\n",
      "Epoch 00001: saving model to training_10_2/cp-0001.ckpt\n"
     ]
    },
    {
     "name": "stderr",
     "output_type": "stream",
     "text": [
      "W0622 22:04:05.933450 31232 callbacks.py:241] Method (on_train_batch_end) is slow compared to the batch update (0.124161). Check your callbacks.\n"
     ]
    },
    {
     "name": "stdout",
     "output_type": "stream",
     "text": [
      "244/468 [==============>...............] - ETA: 30s - loss: 0.3583 - accuracy: 0.8050\n",
      "Epoch 00001: saving model to training_10_2/cp-0001.ckpt\n"
     ]
    },
    {
     "name": "stderr",
     "output_type": "stream",
     "text": [
      "W0622 22:04:06.094753 31232 callbacks.py:241] Method (on_train_batch_end) is slow compared to the batch update (0.124161). Check your callbacks.\n"
     ]
    },
    {
     "name": "stdout",
     "output_type": "stream",
     "text": [
      "245/468 [==============>...............] - ETA: 30s - loss: 0.3572 - accuracy: 0.8054\n",
      "Epoch 00001: saving model to training_10_2/cp-0001.ckpt\n"
     ]
    },
    {
     "name": "stderr",
     "output_type": "stream",
     "text": [
      "W0622 22:04:06.220869 31232 callbacks.py:241] Method (on_train_batch_end) is slow compared to the batch update (0.124161). Check your callbacks.\n"
     ]
    },
    {
     "name": "stdout",
     "output_type": "stream",
     "text": [
      "246/468 [==============>...............] - ETA: 30s - loss: 0.3563 - accuracy: 0.8058\n",
      "Epoch 00001: saving model to training_10_2/cp-0001.ckpt\n"
     ]
    },
    {
     "name": "stderr",
     "output_type": "stream",
     "text": [
      "W0622 22:04:06.374351 31232 callbacks.py:241] Method (on_train_batch_end) is slow compared to the batch update (0.127094). Check your callbacks.\n"
     ]
    },
    {
     "name": "stdout",
     "output_type": "stream",
     "text": [
      "247/468 [==============>...............] - ETA: 30s - loss: 0.3556 - accuracy: 0.8061\n",
      "Epoch 00001: saving model to training_10_2/cp-0001.ckpt\n"
     ]
    },
    {
     "name": "stderr",
     "output_type": "stream",
     "text": [
      "W0622 22:04:06.544457 31232 callbacks.py:241] Method (on_train_batch_end) is slow compared to the batch update (0.127094). Check your callbacks.\n"
     ]
    },
    {
     "name": "stdout",
     "output_type": "stream",
     "text": [
      "248/468 [==============>...............] - ETA: 30s - loss: 0.3551 - accuracy: 0.8065\n",
      "Epoch 00001: saving model to training_10_2/cp-0001.ckpt\n"
     ]
    },
    {
     "name": "stderr",
     "output_type": "stream",
     "text": [
      "W0622 22:04:06.710652 31232 callbacks.py:241] Method (on_train_batch_end) is slow compared to the batch update (0.133935). Check your callbacks.\n"
     ]
    },
    {
     "name": "stdout",
     "output_type": "stream",
     "text": [
      "249/468 [==============>...............] - ETA: 30s - loss: 0.3541 - accuracy: 0.8069\n",
      "Epoch 00001: saving model to training_10_2/cp-0001.ckpt\n"
     ]
    },
    {
     "name": "stderr",
     "output_type": "stream",
     "text": [
      "W0622 22:04:06.888584 31232 callbacks.py:241] Method (on_train_batch_end) is slow compared to the batch update (0.139312). Check your callbacks.\n"
     ]
    },
    {
     "name": "stdout",
     "output_type": "stream",
     "text": [
      "250/468 [===============>..............] - ETA: 29s - loss: 0.3534 - accuracy: 0.8072\n",
      "Epoch 00001: saving model to training_10_2/cp-0001.ckpt\n"
     ]
    },
    {
     "name": "stderr",
     "output_type": "stream",
     "text": [
      "W0622 22:04:07.022513 31232 callbacks.py:241] Method (on_train_batch_end) is slow compared to the batch update (0.137353). Check your callbacks.\n"
     ]
    },
    {
     "name": "stdout",
     "output_type": "stream",
     "text": [
      "251/468 [===============>..............] - ETA: 29s - loss: 0.3529 - accuracy: 0.8076\n",
      "Epoch 00001: saving model to training_10_2/cp-0001.ckpt\n"
     ]
    },
    {
     "name": "stderr",
     "output_type": "stream",
     "text": [
      "W0622 22:04:07.325573 31232 callbacks.py:241] Method (on_train_batch_end) is slow compared to the batch update (0.137353). Check your callbacks.\n"
     ]
    },
    {
     "name": "stdout",
     "output_type": "stream",
     "text": [
      "\b\b\b\b\b\b\b\b\b\b\b\b\b\b\b\b\b\b\b\b\b\b\b\b\b\b\b\b\b\b\b\b\b\b\b\b\b\b\b\b\b\b\b\b\b\b\b\b\b\b\b\b\b\b\b\b\b\b\b\b\b\b\b\b\b\b\b\b\b\b\b\b\b\b\b\b\b\b\b\b\b\b\b\b\b\r",
      "252/468 [===============>..............] - ETA: 29s - loss: 0.3524 - accuracy: 0.8079"
     ]
    },
    {
     "name": "stderr",
     "output_type": "stream",
     "text": [
      "W0622 22:04:07.444842 31232 callbacks.py:241] Method (on_train_batch_end) is slow compared to the batch update (0.137353). Check your callbacks.\n"
     ]
    },
    {
     "name": "stdout",
     "output_type": "stream",
     "text": [
      "\n",
      "Epoch 00001: saving model to training_10_2/cp-0001.ckpt\n",
      "253/468 [===============>..............] - ETA: 29s - loss: 0.3518 - accuracy: 0.8083\n",
      "Epoch 00001: saving model to training_10_2/cp-0001.ckpt\n"
     ]
    },
    {
     "name": "stderr",
     "output_type": "stream",
     "text": [
      "W0622 22:04:07.601261 31232 callbacks.py:241] Method (on_train_batch_end) is slow compared to the batch update (0.142242). Check your callbacks.\n"
     ]
    },
    {
     "name": "stdout",
     "output_type": "stream",
     "text": [
      "254/468 [===============>..............] - ETA: 29s - loss: 0.3509 - accuracy: 0.8086\n",
      "Epoch 00001: saving model to training_10_2/cp-0001.ckpt\n"
     ]
    },
    {
     "name": "stderr",
     "output_type": "stream",
     "text": [
      "W0622 22:04:07.726397 31232 callbacks.py:241] Method (on_train_batch_end) is slow compared to the batch update (0.136865). Check your callbacks.\n"
     ]
    },
    {
     "name": "stdout",
     "output_type": "stream",
     "text": [
      "255/468 [===============>..............] - ETA: 29s - loss: 0.3502 - accuracy: 0.8090\n",
      "Epoch 00001: saving model to training_10_2/cp-0001.ckpt\n"
     ]
    },
    {
     "name": "stderr",
     "output_type": "stream",
     "text": [
      "W0622 22:04:07.869128 31232 callbacks.py:241] Method (on_train_batch_end) is slow compared to the batch update (0.136865). Check your callbacks.\n"
     ]
    },
    {
     "name": "stdout",
     "output_type": "stream",
     "text": [
      "256/468 [===============>..............] - ETA: 29s - loss: 0.3494 - accuracy: 0.8093\n",
      "Epoch 00001: saving model to training_10_2/cp-0001.ckpt\n"
     ]
    },
    {
     "name": "stderr",
     "output_type": "stream",
     "text": [
      "W0622 22:04:07.963957 31232 callbacks.py:241] Method (on_train_batch_end) is slow compared to the batch update (0.132466). Check your callbacks.\n"
     ]
    },
    {
     "name": "stdout",
     "output_type": "stream",
     "text": [
      "257/468 [===============>..............] - ETA: 29s - loss: 0.3489 - accuracy: 0.8097\n",
      "Epoch 00001: saving model to training_10_2/cp-0001.ckpt\n"
     ]
    },
    {
     "name": "stderr",
     "output_type": "stream",
     "text": [
      "W0622 22:04:08.088114 31232 callbacks.py:241] Method (on_train_batch_end) is slow compared to the batch update (0.120736). Check your callbacks.\n"
     ]
    },
    {
     "name": "stdout",
     "output_type": "stream",
     "text": [
      "258/468 [===============>..............] - ETA: 28s - loss: 0.3486 - accuracy: 0.8100\n",
      "Epoch 00001: saving model to training_10_2/cp-0001.ckpt\n"
     ]
    },
    {
     "name": "stderr",
     "output_type": "stream",
     "text": [
      "W0622 22:04:08.216182 31232 callbacks.py:241] Method (on_train_batch_end) is slow compared to the batch update (0.113893). Check your callbacks.\n"
     ]
    },
    {
     "name": "stdout",
     "output_type": "stream",
     "text": [
      "259/468 [===============>..............] - ETA: 28s - loss: 0.3480 - accuracy: 0.8103\n",
      "Epoch 00001: saving model to training_10_2/cp-0001.ckpt\n"
     ]
    },
    {
     "name": "stderr",
     "output_type": "stream",
     "text": [
      "W0622 22:04:08.451788 31232 callbacks.py:241] Method (on_train_batch_end) is slow compared to the batch update (0.113893). Check your callbacks.\n"
     ]
    },
    {
     "name": "stdout",
     "output_type": "stream",
     "text": [
      "\b\b\b\b\b\b\b\b\b\b\b\b\b\b\b\b\b\b\b\b\b\b\b\b\b\b\b\b\b\b\b\b\b\b\b\b\b\b\b\b\b\b\b\b\b\b\b\b\b\b\b\b\b\b\b\b\b\b\b\b\b\b\b\b\b\b\b\b\b\b\b\b\b\b\b\b\b\b\b\b\b\b\b\b\b\r",
      "260/468 [===============>..............] - ETA: 28s - loss: 0.3474 - accuracy: 0.8107"
     ]
    },
    {
     "name": "stderr",
     "output_type": "stream",
     "text": [
      "W0622 22:04:08.586702 31232 callbacks.py:241] Method (on_train_batch_end) is slow compared to the batch update (0.113894). Check your callbacks.\n"
     ]
    },
    {
     "name": "stdout",
     "output_type": "stream",
     "text": [
      "\n",
      "Epoch 00001: saving model to training_10_2/cp-0001.ckpt\n",
      "261/468 [===============>..............] - ETA: 28s - loss: 0.3466 - accuracy: 0.8110\n",
      "Epoch 00001: saving model to training_10_2/cp-0001.ckpt\n"
     ]
    },
    {
     "name": "stderr",
     "output_type": "stream",
     "text": [
      "W0622 22:04:08.680550 31232 callbacks.py:241] Method (on_train_batch_end) is slow compared to the batch update (0.109492). Check your callbacks.\n"
     ]
    },
    {
     "name": "stdout",
     "output_type": "stream",
     "text": [
      "262/468 [===============>..............] - ETA: 28s - loss: 0.3460 - accuracy: 0.8114\n",
      "Epoch 00001: saving model to training_10_2/cp-0001.ckpt\n"
     ]
    },
    {
     "name": "stderr",
     "output_type": "stream",
     "text": [
      "W0622 22:04:08.790044 31232 callbacks.py:241] Method (on_train_batch_end) is slow compared to the batch update (0.109492). Check your callbacks.\n"
     ]
    },
    {
     "name": "stdout",
     "output_type": "stream",
     "text": [
      "263/468 [===============>..............] - ETA: 28s - loss: 0.3453 - accuracy: 0.8117\n",
      "Epoch 00001: saving model to training_10_2/cp-0001.ckpt\n"
     ]
    },
    {
     "name": "stderr",
     "output_type": "stream",
     "text": [
      "W0622 22:04:08.908335 31232 callbacks.py:241] Method (on_train_batch_end) is slow compared to the batch update (0.108026). Check your callbacks.\n"
     ]
    },
    {
     "name": "stdout",
     "output_type": "stream",
     "text": [
      "264/468 [===============>..............] - ETA: 28s - loss: 0.3449 - accuracy: 0.8120\n",
      "Epoch 00001: saving model to training_10_2/cp-0001.ckpt\n"
     ]
    },
    {
     "name": "stderr",
     "output_type": "stream",
     "text": [
      "W0622 22:04:09.002186 31232 callbacks.py:241] Method (on_train_batch_end) is slow compared to the batch update (0.104606). Check your callbacks.\n"
     ]
    },
    {
     "name": "stdout",
     "output_type": "stream",
     "text": [
      "265/468 [===============>..............] - ETA: 27s - loss: 0.3443 - accuracy: 0.8123\n",
      "Epoch 00001: saving model to training_10_2/cp-0001.ckpt\n"
     ]
    },
    {
     "name": "stderr",
     "output_type": "stream",
     "text": [
      "W0622 22:04:09.136123 31232 callbacks.py:241] Method (on_train_batch_end) is slow compared to the batch update (0.104606). Check your callbacks.\n"
     ]
    },
    {
     "name": "stdout",
     "output_type": "stream",
     "text": [
      "266/468 [================>.............] - ETA: 27s - loss: 0.3437 - accuracy: 0.8127\n",
      "Epoch 00001: saving model to training_10_2/cp-0001.ckpt\n"
     ]
    },
    {
     "name": "stderr",
     "output_type": "stream",
     "text": [
      "W0622 22:04:09.380523 31232 callbacks.py:241] Method (on_train_batch_end) is slow compared to the batch update (0.108027). Check your callbacks.\n"
     ]
    },
    {
     "name": "stdout",
     "output_type": "stream",
     "text": [
      "\b\b\b\b\b\b\b\b\b\b\b\b\b\b\b\b\b\b\b\b\b\b\b\b\b\b\b\b\b\b\b\b\b\b\b\b\b\b\b\b\b\b\b\b\b\b\b\b\b\b\b\b\b\b\b\b\b\b\b\b\b\b\b\b\b\b\b\b\b\b\b\b\b\b\b\b\b\b\b\b\b\b\b\b\b\r",
      "267/468 [================>.............] - ETA: 27s - loss: 0.3430 - accuracy: 0.8130"
     ]
    },
    {
     "name": "stderr",
     "output_type": "stream",
     "text": [
      "W0622 22:04:09.495883 31232 callbacks.py:241] Method (on_train_batch_end) is slow compared to the batch update (0.104606). Check your callbacks.\n"
     ]
    },
    {
     "name": "stdout",
     "output_type": "stream",
     "text": [
      "\n",
      "Epoch 00001: saving model to training_10_2/cp-0001.ckpt\n",
      "268/468 [================>.............] - ETA: 27s - loss: 0.3429 - accuracy: 0.8133\n",
      "Epoch 00001: saving model to training_10_2/cp-0001.ckpt\n"
     ]
    },
    {
     "name": "stderr",
     "output_type": "stream",
     "text": [
      "W0622 22:04:09.600491 31232 callbacks.py:241] Method (on_train_batch_end) is slow compared to the batch update (0.101183). Check your callbacks.\n"
     ]
    },
    {
     "name": "stdout",
     "output_type": "stream",
     "text": [
      "269/468 [================>.............] - ETA: 27s - loss: 0.3421 - accuracy: 0.8136\n",
      "Epoch 00001: saving model to training_10_2/cp-0001.ckpt\n"
     ]
    },
    {
     "name": "stderr",
     "output_type": "stream",
     "text": [
      "W0622 22:04:09.832189 31232 callbacks.py:241] Method (on_train_batch_end) is slow compared to the batch update (0.101183). Check your callbacks.\n"
     ]
    },
    {
     "name": "stdout",
     "output_type": "stream",
     "text": [
      "270/468 [================>.............] - ETA: 27s - loss: 0.3416 - accuracy: 0.8140\n",
      "Epoch 00001: saving model to training_10_2/cp-0001.ckpt\n"
     ]
    },
    {
     "name": "stderr",
     "output_type": "stream",
     "text": [
      "W0622 22:04:10.142088 31232 callbacks.py:241] Method (on_train_batch_end) is slow compared to the batch update (0.101183). Check your callbacks.\n"
     ]
    },
    {
     "name": "stdout",
     "output_type": "stream",
     "text": [
      "\b\b\b\b\b\b\b\b\b\b\b\b\b\b\b\b\b\b\b\b\b\b\b\b\b\b\b\b\b\b\b\b\b\b\b\b\b\b\b\b\b\b\b\b\b\b\b\b\b\b\b\b\b\b\b\b\b\b\b\b\b\b\b\b\b\b\b\b\b\b\b\b\b\b\b\b\b\b\b\b\b\b\b\b\b\r",
      "271/468 [================>.............] - ETA: 27s - loss: 0.3410 - accuracy: 0.8143"
     ]
    },
    {
     "name": "stderr",
     "output_type": "stream",
     "text": [
      "W0622 22:04:10.276021 31232 callbacks.py:241] Method (on_train_batch_end) is slow compared to the batch update (0.107049). Check your callbacks.\n"
     ]
    },
    {
     "name": "stdout",
     "output_type": "stream",
     "text": [
      "\n",
      "Epoch 00001: saving model to training_10_2/cp-0001.ckpt\n",
      "272/468 [================>.............] - ETA: 27s - loss: 0.3406 - accuracy: 0.8146\n",
      "Epoch 00001: saving model to training_10_2/cp-0001.ckpt\n"
     ]
    },
    {
     "name": "stderr",
     "output_type": "stream",
     "text": [
      "W0622 22:04:10.424618 31232 callbacks.py:241] Method (on_train_batch_end) is slow compared to the batch update (0.116337). Check your callbacks.\n"
     ]
    },
    {
     "name": "stdout",
     "output_type": "stream",
     "text": [
      "273/468 [================>.............] - ETA: 27s - loss: 0.3398 - accuracy: 0.8149\n",
      "Epoch 00001: saving model to training_10_2/cp-0001.ckpt\n"
     ]
    },
    {
     "name": "stderr",
     "output_type": "stream",
     "text": [
      "W0622 22:04:10.538022 31232 callbacks.py:241] Method (on_train_batch_end) is slow compared to the batch update (0.116337). Check your callbacks.\n"
     ]
    },
    {
     "name": "stdout",
     "output_type": "stream",
     "text": [
      "274/468 [================>.............] - ETA: 26s - loss: 0.3392 - accuracy: 0.8152\n",
      "Epoch 00001: saving model to training_10_2/cp-0001.ckpt\n"
     ]
    },
    {
     "name": "stderr",
     "output_type": "stream",
     "text": [
      "W0622 22:04:10.707151 31232 callbacks.py:241] Method (on_train_batch_end) is slow compared to the batch update (0.128557). Check your callbacks.\n"
     ]
    },
    {
     "name": "stdout",
     "output_type": "stream",
     "text": [
      "275/468 [================>.............] - ETA: 26s - loss: 0.3385 - accuracy: 0.8155\n",
      "Epoch 00001: saving model to training_10_2/cp-0001.ckpt\n"
     ]
    },
    {
     "name": "stderr",
     "output_type": "stream",
     "text": [
      "W0622 22:04:10.900718 31232 callbacks.py:241] Method (on_train_batch_end) is slow compared to the batch update (0.142732). Check your callbacks.\n"
     ]
    },
    {
     "name": "stdout",
     "output_type": "stream",
     "text": [
      "276/468 [================>.............] - ETA: 26s - loss: 0.3379 - accuracy: 0.8158\n",
      "Epoch 00001: saving model to training_10_2/cp-0001.ckpt"
     ]
    },
    {
     "name": "stderr",
     "output_type": "stream",
     "text": [
      "W0622 22:04:11.056160 31232 callbacks.py:241] Method (on_train_batch_end) is slow compared to the batch update (0.131488). Check your callbacks.\n"
     ]
    },
    {
     "name": "stdout",
     "output_type": "stream",
     "text": [
      "\n",
      "277/468 [================>.............] - ETA: 26s - loss: 0.3372 - accuracy: 0.8161\n",
      "Epoch 00001: saving model to training_10_2/cp-0001.ckpt\n"
     ]
    },
    {
     "name": "stderr",
     "output_type": "stream",
     "text": [
      "W0622 22:04:11.157833 31232 callbacks.py:241] Method (on_train_batch_end) is slow compared to the batch update (0.131488). Check your callbacks.\n"
     ]
    },
    {
     "name": "stdout",
     "output_type": "stream",
     "text": [
      "278/468 [================>.............] - ETA: 26s - loss: 0.3365 - accuracy: 0.8164\n",
      "Epoch 00001: saving model to training_10_2/cp-0001.ckpt\n"
     ]
    },
    {
     "name": "stderr",
     "output_type": "stream",
     "text": [
      "W0622 22:04:11.293720 31232 callbacks.py:241] Method (on_train_batch_end) is slow compared to the batch update (0.131488). Check your callbacks.\n"
     ]
    },
    {
     "name": "stdout",
     "output_type": "stream",
     "text": [
      "279/468 [================>.............] - ETA: 26s - loss: 0.3360 - accuracy: 0.8167\n",
      "Epoch 00001: saving model to training_10_2/cp-0001.ckpt\n"
     ]
    },
    {
     "name": "stderr",
     "output_type": "stream",
     "text": [
      "W0622 22:04:11.466758 31232 callbacks.py:241] Method (on_train_batch_end) is slow compared to the batch update (0.131488). Check your callbacks.\n"
     ]
    },
    {
     "name": "stdout",
     "output_type": "stream",
     "text": [
      "280/468 [================>.............] - ETA: 26s - loss: 0.3355 - accuracy: 0.8170\n",
      "Epoch 00001: saving model to training_10_2/cp-0001.ckpt\n"
     ]
    },
    {
     "name": "stderr",
     "output_type": "stream",
     "text": [
      "W0622 22:04:11.659350 31232 callbacks.py:241] Method (on_train_batch_end) is slow compared to the batch update (0.131488). Check your callbacks.\n"
     ]
    },
    {
     "name": "stdout",
     "output_type": "stream",
     "text": [
      "\b\b\b\b\b\b\b\b\b\b\b\b\b\b\b\b\b\b\b\b\b\b\b\b\b\b\b\b\b\b\b\b\b\b\b\b\b\b\b\b\b\b\b\b\b\b\b\b\b\b\b\b\b\b\b\b\b\b\b\b\b\b\b\b\b\b\b\b\b\b\b\b\b\b\b\b\b\b\b\b\b\b\b\b\b\r",
      "281/468 [=================>............] - ETA: 26s - loss: 0.3350 - accuracy: 0.8174"
     ]
    },
    {
     "name": "stderr",
     "output_type": "stream",
     "text": [
      "W0622 22:04:11.792304 31232 callbacks.py:241] Method (on_train_batch_end) is slow compared to the batch update (0.131488). Check your callbacks.\n"
     ]
    },
    {
     "name": "stdout",
     "output_type": "stream",
     "text": [
      "\n",
      "Epoch 00001: saving model to training_10_2/cp-0001.ckpt\n",
      "282/468 [=================>............] - ETA: 25s - loss: 0.3345 - accuracy: 0.8176\n",
      "Epoch 00001: saving model to training_10_2/cp-0001.ckpt\n"
     ]
    },
    {
     "name": "stderr",
     "output_type": "stream",
     "text": [
      "W0622 22:04:11.872472 31232 callbacks.py:241] Method (on_train_batch_end) is slow compared to the batch update (0.122201). Check your callbacks.\n"
     ]
    },
    {
     "name": "stdout",
     "output_type": "stream",
     "text": [
      "\b\b\b\b\b\b\b\b\b\b\b\b\b\b\b\b\b\b\b\b\b\b\b\b\b\b\b\b\b\b\b\b\b\b\b\b\b\b\b\b\b\b\b\b\b\b\b\b\b\b\b\b\b\b\b\b\b\b\b\b\b\b\b\b\b\b\b\b\b\b\b\b\b\b\b\b\b\b\b\b\b\b\b\b\b\r",
      "283/468 [=================>............] - ETA: 25s - loss: 0.3339 - accuracy: 0.8179"
     ]
    },
    {
     "name": "stderr",
     "output_type": "stream",
     "text": [
      "W0622 22:04:11.944812 31232 callbacks.py:241] Method (on_train_batch_end) is slow compared to the batch update (0.122201). Check your callbacks.\n"
     ]
    },
    {
     "name": "stdout",
     "output_type": "stream",
     "text": [
      "\n",
      "Epoch 00001: saving model to training_10_2/cp-0001.ckpt\n",
      "284/468 [=================>............] - ETA: 25s - loss: 0.3332 - accuracy: 0.8182\n",
      "Epoch 00001: saving model to training_10_2/cp-0001.ckpt\n"
     ]
    },
    {
     "name": "stderr",
     "output_type": "stream",
     "text": [
      "W0622 22:04:12.028888 31232 callbacks.py:241] Method (on_train_batch_end) is slow compared to the batch update (0.112913). Check your callbacks.\n"
     ]
    },
    {
     "name": "stdout",
     "output_type": "stream",
     "text": [
      "285/468 [=================>............] - ETA: 25s - loss: 0.3331 - accuracy: 0.8185\n",
      "Epoch 00001: saving model to training_10_2/cp-0001.ckpt\n"
     ]
    },
    {
     "name": "stderr",
     "output_type": "stream",
     "text": [
      "W0622 22:04:12.138380 31232 callbacks.py:241] Method (on_train_batch_end) is slow compared to the batch update (0.103137). Check your callbacks.\n"
     ]
    },
    {
     "name": "stdout",
     "output_type": "stream",
     "text": [
      "286/468 [=================>............] - ETA: 25s - loss: 0.3326 - accuracy: 0.8188\n",
      "Epoch 00001: saving model to training_10_2/cp-0001.ckpt\n",
      "287/468 [=================>............] - ETA: 25s - loss: 0.3319 - accuracy: 0.8191\n",
      "Epoch 00001: saving model to training_10_2/cp-0001.ckpt\n"
     ]
    },
    {
     "name": "stderr",
     "output_type": "stream",
     "text": [
      "W0622 22:04:12.380829 31232 callbacks.py:241] Method (on_train_batch_end) is slow compared to the batch update (0.103137). Check your callbacks.\n"
     ]
    },
    {
     "name": "stdout",
     "output_type": "stream",
     "text": [
      "288/468 [=================>............] - ETA: 24s - loss: 0.3312 - accuracy: 0.8194\n",
      "Epoch 00001: saving model to training_10_2/cp-0001.ckpt\n"
     ]
    },
    {
     "name": "stderr",
     "output_type": "stream",
     "text": [
      "W0622 22:04:12.529429 31232 callbacks.py:241] Method (on_train_batch_end) is slow compared to the batch update (0.103137). Check your callbacks.\n"
     ]
    },
    {
     "name": "stdout",
     "output_type": "stream",
     "text": [
      "289/468 [=================>............] - ETA: 24s - loss: 0.3305 - accuracy: 0.8197\n",
      "Epoch 00001: saving model to training_10_2/cp-0001.ckpt\n"
     ]
    },
    {
     "name": "stderr",
     "output_type": "stream",
     "text": [
      "W0622 22:04:12.655540 31232 callbacks.py:241] Method (on_train_batch_end) is slow compared to the batch update (0.101182). Check your callbacks.\n"
     ]
    },
    {
     "name": "stdout",
     "output_type": "stream",
     "text": [
      "290/468 [=================>............] - ETA: 24s - loss: 0.3301 - accuracy: 0.8200\n",
      "Epoch 00001: saving model to training_10_2/cp-0001.ckpt\n",
      "291/468 [=================>............] - ETA: 24s - loss: 0.3294 - accuracy: 0.8203\n",
      "Epoch 00001: saving model to training_10_2/cp-0001.ckpt\n",
      "292/468 [=================>............] - ETA: 24s - loss: 0.3287 - accuracy: 0.8206\n",
      "Epoch 00001: saving model to training_10_2/cp-0001.ckpt\n",
      "293/468 [=================>............] - ETA: 24s - loss: 0.3281 - accuracy: 0.8208\n",
      "Epoch 00001: saving model to training_10_2/cp-0001.ckpt\n",
      "294/468 [=================>............] - ETA: 24s - loss: 0.3277 - accuracy: 0.8211\n",
      "Epoch 00001: saving model to training_10_2/cp-0001.ckpt\n"
     ]
    },
    {
     "name": "stderr",
     "output_type": "stream",
     "text": [
      "W0622 22:04:13.299791 31232 callbacks.py:241] Method (on_train_batch_end) is slow compared to the batch update (0.101182). Check your callbacks.\n"
     ]
    },
    {
     "name": "stdout",
     "output_type": "stream",
     "text": [
      "295/468 [=================>............] - ETA: 23s - loss: 0.3273 - accuracy: 0.8214\n",
      "Epoch 00001: saving model to training_10_2/cp-0001.ckpt\n"
     ]
    },
    {
     "name": "stderr",
     "output_type": "stream",
     "text": [
      "W0622 22:04:13.398529 31232 callbacks.py:241] Method (on_train_batch_end) is slow compared to the batch update (0.100205). Check your callbacks.\n"
     ]
    },
    {
     "name": "stdout",
     "output_type": "stream",
     "text": [
      "296/468 [=================>............] - ETA: 23s - loss: 0.3265 - accuracy: 0.8217\n",
      "Epoch 00001: saving model to training_10_2/cp-0001.ckpt\n"
     ]
    },
    {
     "name": "stderr",
     "output_type": "stream",
     "text": [
      "W0622 22:04:13.586236 31232 callbacks.py:241] Method (on_train_batch_end) is slow compared to the batch update (0.109981). Check your callbacks.\n"
     ]
    },
    {
     "name": "stdout",
     "output_type": "stream",
     "text": [
      "297/468 [==================>...........] - ETA: 23s - loss: 0.3261 - accuracy: 0.8220\n",
      "Epoch 00001: saving model to training_10_2/cp-0001.ckpt"
     ]
    },
    {
     "name": "stderr",
     "output_type": "stream",
     "text": [
      "W0622 22:04:13.722120 31232 callbacks.py:241] Method (on_train_batch_end) is slow compared to the batch update (0.109981). Check your callbacks.\n"
     ]
    },
    {
     "name": "stdout",
     "output_type": "stream",
     "text": [
      "\n",
      "298/468 [==================>...........] - ETA: 23s - loss: 0.3254 - accuracy: 0.8222\n",
      "Epoch 00001: saving model to training_10_2/cp-0001.ckpt\n"
     ]
    },
    {
     "name": "stderr",
     "output_type": "stream",
     "text": [
      "W0622 22:04:14.047669 31232 callbacks.py:241] Method (on_train_batch_end) is slow compared to the batch update (0.109981). Check your callbacks.\n"
     ]
    },
    {
     "name": "stdout",
     "output_type": "stream",
     "text": [
      "\b\b\b\b\b\b\b\b\b\b\b\b\b\b\b\b\b\b\b\b\b\b\b\b\b\b\b\b\b\b\b\b\b\b\b\b\b\b\b\b\b\b\b\b\b\b\b\b\b\b\b\b\b\b\b\b\b\b\b\b\b\b\b\b\b\b\b\b\b\b\b\b\b\b\b\b\b\b\b\b\b\b\b\b\b\r",
      "299/468 [==================>...........] - ETA: 23s - loss: 0.3248 - accuracy: 0.8225"
     ]
    },
    {
     "name": "stderr",
     "output_type": "stream",
     "text": [
      "W0622 22:04:14.254924 31232 callbacks.py:241] Method (on_train_batch_end) is slow compared to the batch update (0.117802). Check your callbacks.\n"
     ]
    },
    {
     "name": "stdout",
     "output_type": "stream",
     "text": [
      "\n",
      "Epoch 00001: saving model to training_10_2/cp-0001.ckpt\n",
      "300/468 [==================>...........] - ETA: 23s - loss: 0.3240 - accuracy: 0.8228"
     ]
    },
    {
     "name": "stderr",
     "output_type": "stream",
     "text": [
      "W0622 22:04:14.379079 31232 callbacks.py:241] Method (on_train_batch_end) is slow compared to the batch update (0.117802). Check your callbacks.\n"
     ]
    },
    {
     "name": "stdout",
     "output_type": "stream",
     "text": [
      "\n",
      "Epoch 00001: saving model to training_10_2/cp-0001.ckpt\n",
      "301/468 [==================>...........] - ETA: 23s - loss: 0.3234 - accuracy: 0.8231\n",
      "Epoch 00001: saving model to training_10_2/cp-0001.ckpt\n"
     ]
    },
    {
     "name": "stderr",
     "output_type": "stream",
     "text": [
      "W0622 22:04:14.487595 31232 callbacks.py:241] Method (on_train_batch_end) is slow compared to the batch update (0.110470). Check your callbacks.\n"
     ]
    },
    {
     "name": "stdout",
     "output_type": "stream",
     "text": [
      "302/468 [==================>...........] - ETA: 23s - loss: 0.3227 - accuracy: 0.8233\n",
      "Epoch 00001: saving model to training_10_2/cp-0001.ckpt\n"
     ]
    },
    {
     "name": "stderr",
     "output_type": "stream",
     "text": [
      "W0622 22:04:14.608821 31232 callbacks.py:241] Method (on_train_batch_end) is slow compared to the batch update (0.110470). Check your callbacks.\n"
     ]
    },
    {
     "name": "stdout",
     "output_type": "stream",
     "text": [
      "303/468 [==================>...........] - ETA: 22s - loss: 0.3223 - accuracy: 0.8236\n",
      "Epoch 00001: saving model to training_10_2/cp-0001.ckpt\n"
     ]
    },
    {
     "name": "stderr",
     "output_type": "stream",
     "text": [
      "W0622 22:04:14.742752 31232 callbacks.py:241] Method (on_train_batch_end) is slow compared to the batch update (0.114380). Check your callbacks.\n"
     ]
    },
    {
     "name": "stdout",
     "output_type": "stream",
     "text": [
      "304/468 [==================>...........] - ETA: 22s - loss: 0.3218 - accuracy: 0.8239\n",
      "Epoch 00001: saving model to training_10_2/cp-0001.ckpt\n"
     ]
    },
    {
     "name": "stderr",
     "output_type": "stream",
     "text": [
      "W0622 22:04:14.853230 31232 callbacks.py:241] Method (on_train_batch_end) is slow compared to the batch update (0.109492). Check your callbacks.\n"
     ]
    },
    {
     "name": "stdout",
     "output_type": "stream",
     "text": [
      "305/468 [==================>...........] - ETA: 22s - loss: 0.3211 - accuracy: 0.8241\n",
      "Epoch 00001: saving model to training_10_2/cp-0001.ckpt\n"
     ]
    },
    {
     "name": "stderr",
     "output_type": "stream",
     "text": [
      "W0622 22:04:15.006714 31232 callbacks.py:241] Method (on_train_batch_end) is slow compared to the batch update (0.116825). Check your callbacks.\n"
     ]
    },
    {
     "name": "stdout",
     "output_type": "stream",
     "text": [
      "306/468 [==================>...........] - ETA: 22s - loss: 0.3207 - accuracy: 0.8244\n",
      "Epoch 00001: saving model to training_10_2/cp-0001.ckpt\n"
     ]
    },
    {
     "name": "stderr",
     "output_type": "stream",
     "text": [
      "W0622 22:04:15.099582 31232 callbacks.py:241] Method (on_train_batch_end) is slow compared to the batch update (0.109492). Check your callbacks.\n"
     ]
    },
    {
     "name": "stdout",
     "output_type": "stream",
     "text": [
      "307/468 [==================>...........] - ETA: 22s - loss: 0.3204 - accuracy: 0.8247\n",
      "Epoch 00001: saving model to training_10_2/cp-0001.ckpt\n"
     ]
    },
    {
     "name": "stderr",
     "output_type": "stream",
     "text": [
      "W0622 22:04:15.234503 31232 callbacks.py:241] Method (on_train_batch_end) is slow compared to the batch update (0.109492). Check your callbacks.\n"
     ]
    },
    {
     "name": "stdout",
     "output_type": "stream",
     "text": [
      "308/468 [==================>...........] - ETA: 22s - loss: 0.3198 - accuracy: 0.8249\n",
      "Epoch 00001: saving model to training_10_2/cp-0001.ckpt\n"
     ]
    },
    {
     "name": "stderr",
     "output_type": "stream",
     "text": [
      "W0622 22:04:15.404599 31232 callbacks.py:241] Method (on_train_batch_end) is slow compared to the batch update (0.109492). Check your callbacks.\n"
     ]
    },
    {
     "name": "stdout",
     "output_type": "stream",
     "text": [
      "309/468 [==================>...........] - ETA: 22s - loss: 0.3195 - accuracy: 0.8252\n",
      "Epoch 00001: saving model to training_10_2/cp-0001.ckpt\n"
     ]
    },
    {
     "name": "stderr",
     "output_type": "stream",
     "text": [
      "W0622 22:04:15.558090 31232 callbacks.py:241] Method (on_train_batch_end) is slow compared to the batch update (0.109492). Check your callbacks.\n"
     ]
    },
    {
     "name": "stdout",
     "output_type": "stream",
     "text": [
      "310/468 [==================>...........] - ETA: 21s - loss: 0.3190 - accuracy: 0.8255\n",
      "Epoch 00001: saving model to training_10_2/cp-0001.ckpt\n"
     ]
    },
    {
     "name": "stderr",
     "output_type": "stream",
     "text": [
      "W0622 22:04:15.695929 31232 callbacks.py:241] Method (on_train_batch_end) is slow compared to the batch update (0.113403). Check your callbacks.\n"
     ]
    },
    {
     "name": "stdout",
     "output_type": "stream",
     "text": [
      "311/468 [==================>...........] - ETA: 21s - loss: 0.3187 - accuracy: 0.8257\n",
      "Epoch 00001: saving model to training_10_2/cp-0001.ckpt\n"
     ]
    },
    {
     "name": "stderr",
     "output_type": "stream",
     "text": [
      "W0622 22:04:15.820087 31232 callbacks.py:241] Method (on_train_batch_end) is slow compared to the batch update (0.113403). Check your callbacks.\n"
     ]
    },
    {
     "name": "stdout",
     "output_type": "stream",
     "text": [
      "312/468 [===================>..........] - ETA: 21s - loss: 0.3182 - accuracy: 0.8260\n",
      "Epoch 00001: saving model to training_10_2/cp-0001.ckpt\n"
     ]
    },
    {
     "name": "stderr",
     "output_type": "stream",
     "text": [
      "W0622 22:04:15.967706 31232 callbacks.py:241] Method (on_train_batch_end) is slow compared to the batch update (0.117805). Check your callbacks.\n"
     ]
    },
    {
     "name": "stdout",
     "output_type": "stream",
     "text": [
      "313/468 [===================>..........] - ETA: 21s - loss: 0.3176 - accuracy: 0.8262\n",
      "Epoch 00001: saving model to training_10_2/cp-0001.ckpt\n"
     ]
    },
    {
     "name": "stderr",
     "output_type": "stream",
     "text": [
      "W0622 22:04:16.091863 31232 callbacks.py:241] Method (on_train_batch_end) is slow compared to the batch update (0.117805). Check your callbacks.\n"
     ]
    },
    {
     "name": "stdout",
     "output_type": "stream",
     "text": [
      "314/468 [===================>..........] - ETA: 21s - loss: 0.3173 - accuracy: 0.8265\n",
      "Epoch 00001: saving model to training_10_2/cp-0001.ckpt\n"
     ]
    },
    {
     "name": "stderr",
     "output_type": "stream",
     "text": [
      "W0622 22:04:16.233618 31232 callbacks.py:241] Method (on_train_batch_end) is slow compared to the batch update (0.121226). Check your callbacks.\n"
     ]
    },
    {
     "name": "stdout",
     "output_type": "stream",
     "text": [
      "315/468 [===================>..........] - ETA: 21s - loss: 0.3168 - accuracy: 0.8268\n",
      "Epoch 00001: saving model to training_10_2/cp-0001.ckpt\n"
     ]
    },
    {
     "name": "stderr",
     "output_type": "stream",
     "text": [
      "W0622 22:04:16.381239 31232 callbacks.py:241] Method (on_train_batch_end) is slow compared to the batch update (0.121226). Check your callbacks.\n"
     ]
    },
    {
     "name": "stdout",
     "output_type": "stream",
     "text": [
      "316/468 [===================>..........] - ETA: 21s - loss: 0.3165 - accuracy: 0.8270\n",
      "Epoch 00001: saving model to training_10_2/cp-0001.ckpt\n"
     ]
    },
    {
     "name": "stderr",
     "output_type": "stream",
     "text": [
      "W0622 22:04:16.505407 31232 callbacks.py:241] Method (on_train_batch_end) is slow compared to the batch update (0.121226). Check your callbacks.\n"
     ]
    },
    {
     "name": "stdout",
     "output_type": "stream",
     "text": [
      "317/468 [===================>..........] - ETA: 20s - loss: 0.3162 - accuracy: 0.8273\n",
      "Epoch 00001: saving model to training_10_2/cp-0001.ckpt\n"
     ]
    },
    {
     "name": "stderr",
     "output_type": "stream",
     "text": [
      "W0622 22:04:16.638353 31232 callbacks.py:241] Method (on_train_batch_end) is slow compared to the batch update (0.116825). Check your callbacks.\n"
     ]
    },
    {
     "name": "stdout",
     "output_type": "stream",
     "text": [
      "318/468 [===================>..........] - ETA: 20s - loss: 0.3156 - accuracy: 0.8275\n",
      "Epoch 00001: saving model to training_10_2/cp-0001.ckpt\n"
     ]
    },
    {
     "name": "stderr",
     "output_type": "stream",
     "text": [
      "W0622 22:04:16.748823 31232 callbacks.py:241] Method (on_train_batch_end) is slow compared to the batch update (0.113404). Check your callbacks.\n"
     ]
    },
    {
     "name": "stdout",
     "output_type": "stream",
     "text": [
      "319/468 [===================>..........] - ETA: 20s - loss: 0.3151 - accuracy: 0.8278\n",
      "Epoch 00001: saving model to training_10_2/cp-0001.ckpt\n"
     ]
    },
    {
     "name": "stderr",
     "output_type": "stream",
     "text": [
      "W0622 22:04:16.980517 31232 callbacks.py:241] Method (on_train_batch_end) is slow compared to the batch update (0.113404). Check your callbacks.\n"
     ]
    },
    {
     "name": "stdout",
     "output_type": "stream",
     "text": [
      "\b\b\b\b\b\b\b\b\b\b\b\b\b\b\b\b\b\b\b\b\b\b\b\b\b\b\b\b\b\b\b\b\b\b\b\b\b\b\b\b\b\b\b\b\b\b\b\b\b\b\b\b\b\b\b\b\b\b\b\b\b\b\b\b\b\b\b\b\b\b\b\b\b\b\b\b\b\b\b\b\b\b\b\b\b\r",
      "320/468 [===================>..........] - ETA: 20s - loss: 0.3146 - accuracy: 0.8280"
     ]
    },
    {
     "name": "stderr",
     "output_type": "stream",
     "text": [
      "W0622 22:04:17.091966 31232 callbacks.py:241] Method (on_train_batch_end) is slow compared to the batch update (0.111936). Check your callbacks.\n"
     ]
    },
    {
     "name": "stdout",
     "output_type": "stream",
     "text": [
      "\n",
      "Epoch 00001: saving model to training_10_2/cp-0001.ckpt\n",
      "321/468 [===================>..........] - ETA: 20s - loss: 0.3140 - accuracy: 0.8283\n",
      "Epoch 00001: saving model to training_10_2/cp-0001.ckpt\n"
     ]
    },
    {
     "name": "stderr",
     "output_type": "stream",
     "text": [
      "W0622 22:04:17.193638 31232 callbacks.py:241] Method (on_train_batch_end) is slow compared to the batch update (0.111451). Check your callbacks.\n"
     ]
    },
    {
     "name": "stdout",
     "output_type": "stream",
     "text": [
      "322/468 [===================>..........] - ETA: 20s - loss: 0.3133 - accuracy: 0.8285\n",
      "Epoch 00001: saving model to training_10_2/cp-0001.ckpt\n"
     ]
    },
    {
     "name": "stderr",
     "output_type": "stream",
     "text": [
      "W0622 22:04:17.343214 31232 callbacks.py:241] Method (on_train_batch_end) is slow compared to the batch update (0.111451). Check your callbacks.\n"
     ]
    },
    {
     "name": "stdout",
     "output_type": "stream",
     "text": [
      "323/468 [===================>..........] - ETA: 20s - loss: 0.3128 - accuracy: 0.8287\n",
      "Epoch 00001: saving model to training_10_2/cp-0001.ckpt\n"
     ]
    },
    {
     "name": "stderr",
     "output_type": "stream",
     "text": [
      "W0622 22:04:17.477147 31232 callbacks.py:241] Method (on_train_batch_end) is slow compared to the batch update (0.111451). Check your callbacks.\n"
     ]
    },
    {
     "name": "stdout",
     "output_type": "stream",
     "text": [
      "324/468 [===================>..........] - ETA: 19s - loss: 0.3123 - accuracy: 0.8290\n",
      "Epoch 00001: saving model to training_10_2/cp-0001.ckpt\n"
     ]
    },
    {
     "name": "stderr",
     "output_type": "stream",
     "text": [
      "W0622 22:04:17.665827 31232 callbacks.py:241] Method (on_train_batch_end) is slow compared to the batch update (0.111451). Check your callbacks.\n"
     ]
    },
    {
     "name": "stdout",
     "output_type": "stream",
     "text": [
      "\b\b\b\b\b\b\b\b\b\b\b\b\b\b\b\b\b\b\b\b\b\b\b\b\b\b\b\b\b\b\b\b\b\b\b\b\b\b\b\b\b\b\b\b\b\b\b\b\b\b\b\b\b\b\b\b\b\b\b\b\b\b\b\b\b\b\b\b\b\b\b\b\b\b\b\b\b\b\b\b\b\b\b\b\b\r",
      "325/468 [===================>..........] - ETA: 19s - loss: 0.3119 - accuracy: 0.8292"
     ]
    },
    {
     "name": "stderr",
     "output_type": "stream",
     "text": [
      "W0622 22:04:17.781185 31232 callbacks.py:241] Method (on_train_batch_end) is slow compared to the batch update (0.108518). Check your callbacks.\n"
     ]
    },
    {
     "name": "stdout",
     "output_type": "stream",
     "text": [
      "\n",
      "Epoch 00001: saving model to training_10_2/cp-0001.ckpt\n",
      "326/468 [===================>..........] - ETA: 19s - loss: 0.3117 - accuracy: 0.8295\n",
      "Epoch 00001: saving model to training_10_2/cp-0001.ckpt\n"
     ]
    },
    {
     "name": "stderr",
     "output_type": "stream",
     "text": [
      "W0622 22:04:17.885793 31232 callbacks.py:241] Method (on_train_batch_end) is slow compared to the batch update (0.102649). Check your callbacks.\n"
     ]
    },
    {
     "name": "stdout",
     "output_type": "stream",
     "text": [
      "327/468 [===================>..........] - ETA: 19s - loss: 0.3114 - accuracy: 0.8297\n",
      "Epoch 00001: saving model to training_10_2/cp-0001.ckpt\n",
      "328/468 [====================>.........] - ETA: 19s - loss: 0.3110 - accuracy: 0.8300\n",
      "Epoch 00001: saving model to training_10_2/cp-0001.ckpt\n"
     ]
    },
    {
     "name": "stderr",
     "output_type": "stream",
     "text": [
      "W0622 22:04:18.106733 31232 callbacks.py:241] Method (on_train_batch_end) is slow compared to the batch update (0.102649). Check your callbacks.\n"
     ]
    },
    {
     "name": "stdout",
     "output_type": "stream",
     "text": [
      "329/468 [====================>.........] - ETA: 19s - loss: 0.3105 - accuracy: 0.8302\n",
      "Epoch 00001: saving model to training_10_2/cp-0001.ckpt\n",
      "330/468 [====================>.........] - ETA: 19s - loss: 0.3102 - accuracy: 0.8304\n",
      "Epoch 00001: saving model to training_10_2/cp-0001.ckpt\n"
     ]
    },
    {
     "name": "stderr",
     "output_type": "stream",
     "text": [
      "W0622 22:04:18.342338 31232 callbacks.py:241] Method (on_train_batch_end) is slow compared to the batch update (0.102160). Check your callbacks.\n"
     ]
    },
    {
     "name": "stdout",
     "output_type": "stream",
     "text": [
      "331/468 [====================>.........] - ETA: 18s - loss: 0.3096 - accuracy: 0.8307\n",
      "Epoch 00001: saving model to training_10_2/cp-0001.ckpt\n"
     ]
    },
    {
     "name": "stderr",
     "output_type": "stream",
     "text": [
      "W0622 22:04:18.488003 31232 callbacks.py:241] Method (on_train_batch_end) is slow compared to the batch update (0.108515). Check your callbacks.\n"
     ]
    },
    {
     "name": "stdout",
     "output_type": "stream",
     "text": [
      "332/468 [====================>.........] - ETA: 18s - loss: 0.3090 - accuracy: 0.8309\n",
      "Epoch 00001: saving model to training_10_2/cp-0001.ckpt\n"
     ]
    },
    {
     "name": "stderr",
     "output_type": "stream",
     "text": [
      "W0622 22:04:18.597496 31232 callbacks.py:241] Method (on_train_batch_end) is slow compared to the batch update (0.102160). Check your callbacks.\n"
     ]
    },
    {
     "name": "stdout",
     "output_type": "stream",
     "text": [
      "333/468 [====================>.........] - ETA: 18s - loss: 0.3084 - accuracy: 0.8311\n",
      "Epoch 00001: saving model to training_10_2/cp-0001.ckpt\n"
     ]
    },
    {
     "name": "stderr",
     "output_type": "stream",
     "text": [
      "W0622 22:04:18.733385 31232 callbacks.py:241] Method (on_train_batch_end) is slow compared to the batch update (0.103138). Check your callbacks.\n"
     ]
    },
    {
     "name": "stdout",
     "output_type": "stream",
     "text": [
      "334/468 [====================>.........] - ETA: 18s - loss: 0.3078 - accuracy: 0.8314\n",
      "Epoch 00001: saving model to training_10_2/cp-0001.ckpt\n",
      "335/468 [====================>.........] - ETA: 18s - loss: 0.3073 - accuracy: 0.8316\n",
      "Epoch 00001: saving model to training_10_2/cp-0001.ckpt\n",
      "336/468 [====================>.........] - ETA: 18s - loss: 0.3070 - accuracy: 0.8318\n",
      "Epoch 00001: saving model to training_10_2/cp-0001.ckpt\n"
     ]
    },
    {
     "name": "stderr",
     "output_type": "stream",
     "text": [
      "W0622 22:04:19.186021 31232 callbacks.py:241] Method (on_train_batch_end) is slow compared to the batch update (0.103138). Check your callbacks.\n"
     ]
    },
    {
     "name": "stdout",
     "output_type": "stream",
     "text": [
      "\b\b\b\b\b\b\b\b\b\b\b\b\b\b\b\b\b\b\b\b\b\b\b\b\b\b\b\b\b\b\b\b\b\b\b\b\b\b\b\b\b\b\b\b\b\b\b\b\b\b\b\b\b\b\b\b\b\b\b\b\b\b\b\b\b\b\b\b\b\b\b\b\b\b\b\b\b\b\b\b\b\b\b\b\b\r",
      "337/468 [====================>.........] - ETA: 18s - loss: 0.3066 - accuracy: 0.8321"
     ]
    },
    {
     "name": "stderr",
     "output_type": "stream",
     "text": [
      "W0622 22:04:19.340485 31232 callbacks.py:241] Method (on_train_batch_end) is slow compared to the batch update (0.110961). Check your callbacks.\n"
     ]
    },
    {
     "name": "stdout",
     "output_type": "stream",
     "text": [
      "\n",
      "Epoch 00001: saving model to training_10_2/cp-0001.ckpt\n",
      "338/468 [====================>.........] - ETA: 17s - loss: 0.3060 - accuracy: 0.8323\n",
      "Epoch 00001: saving model to training_10_2/cp-0001.ckpt\n"
     ]
    },
    {
     "name": "stderr",
     "output_type": "stream",
     "text": [
      "W0622 22:04:19.501792 31232 callbacks.py:241] Method (on_train_batch_end) is slow compared to the batch update (0.114870). Check your callbacks.\n"
     ]
    },
    {
     "name": "stdout",
     "output_type": "stream",
     "text": [
      "339/468 [====================>.........] - ETA: 17s - loss: 0.3057 - accuracy: 0.8325\n",
      "Epoch 00001: saving model to training_10_2/cp-0001.ckpt\n"
     ]
    },
    {
     "name": "stderr",
     "output_type": "stream",
     "text": [
      "W0622 22:04:19.710023 31232 callbacks.py:241] Method (on_train_batch_end) is slow compared to the batch update (0.122201). Check your callbacks.\n"
     ]
    },
    {
     "name": "stdout",
     "output_type": "stream",
     "text": [
      "\b\b\b\b\b\b\b\b\b\b\b\b\b\b\b\b\b\b\b\b\b\b\b\b\b\b\b\b\b\b\b\b\b\b\b\b\b\b\b\b\b\b\b\b\b\b\b\b\b\b\b\b\b\b\b\b\b\b\b\b\b\b\b\b\b\b\b\b\b\b\b\b\b\b\b\b\b\b\b\b\b\b\b\b\b\r",
      "340/468 [====================>.........] - ETA: 17s - loss: 0.3052 - accuracy: 0.8328"
     ]
    },
    {
     "name": "stderr",
     "output_type": "stream",
     "text": [
      "W0622 22:04:19.808763 31232 callbacks.py:241] Method (on_train_batch_end) is slow compared to the batch update (0.122201). Check your callbacks.\n"
     ]
    },
    {
     "name": "stdout",
     "output_type": "stream",
     "text": [
      "\n",
      "Epoch 00001: saving model to training_10_2/cp-0001.ckpt\n",
      "341/468 [====================>.........] - ETA: 17s - loss: 0.3047 - accuracy: 0.8330\n",
      "Epoch 00001: saving model to training_10_2/cp-0001.ckpt\n"
     ]
    },
    {
     "name": "stderr",
     "output_type": "stream",
     "text": [
      "W0622 22:04:19.944652 31232 callbacks.py:241] Method (on_train_batch_end) is slow compared to the batch update (0.121223). Check your callbacks.\n"
     ]
    },
    {
     "name": "stdout",
     "output_type": "stream",
     "text": [
      "342/468 [====================>.........] - ETA: 17s - loss: 0.3042 - accuracy: 0.8332\n",
      "Epoch 00001: saving model to training_10_2/cp-0001.ckpt\n"
     ]
    },
    {
     "name": "stderr",
     "output_type": "stream",
     "text": [
      "W0622 22:04:20.123556 31232 callbacks.py:241] Method (on_train_batch_end) is slow compared to the batch update (0.131488). Check your callbacks.\n"
     ]
    },
    {
     "name": "stdout",
     "output_type": "stream",
     "text": [
      "343/468 [====================>.........] - ETA: 17s - loss: 0.3037 - accuracy: 0.8334\n",
      "Epoch 00001: saving model to training_10_2/cp-0001.ckpt"
     ]
    },
    {
     "name": "stderr",
     "output_type": "stream",
     "text": [
      "W0622 22:04:20.233049 31232 callbacks.py:241] Method (on_train_batch_end) is slow compared to the batch update (0.131488). Check your callbacks.\n"
     ]
    },
    {
     "name": "stdout",
     "output_type": "stream",
     "text": [
      "\n",
      "344/468 [=====================>........] - ETA: 17s - loss: 0.3034 - accuracy: 0.8337\n",
      "Epoch 00001: saving model to training_10_2/cp-0001.ckpt\n"
     ]
    },
    {
     "name": "stderr",
     "output_type": "stream",
     "text": [
      "W0622 22:04:20.341565 31232 callbacks.py:241] Method (on_train_batch_end) is slow compared to the batch update (0.131488). Check your callbacks.\n"
     ]
    },
    {
     "name": "stdout",
     "output_type": "stream",
     "text": [
      "345/468 [=====================>........] - ETA: 17s - loss: 0.3031 - accuracy: 0.8339\n",
      "Epoch 00001: saving model to training_10_2/cp-0001.ckpt\n"
     ]
    },
    {
     "name": "stderr",
     "output_type": "stream",
     "text": [
      "W0622 22:04:20.455946 31232 callbacks.py:241] Method (on_train_batch_end) is slow compared to the batch update (0.131488). Check your callbacks.\n"
     ]
    },
    {
     "name": "stdout",
     "output_type": "stream",
     "text": [
      "346/468 [=====================>........] - ETA: 16s - loss: 0.3025 - accuracy: 0.8341\n",
      "Epoch 00001: saving model to training_10_2/cp-0001.ckpt\n"
     ]
    },
    {
     "name": "stderr",
     "output_type": "stream",
     "text": [
      "W0622 22:04:20.558596 31232 callbacks.py:241] Method (on_train_batch_end) is slow compared to the batch update (0.110959). Check your callbacks.\n"
     ]
    },
    {
     "name": "stdout",
     "output_type": "stream",
     "text": [
      "347/468 [=====================>........] - ETA: 16s - loss: 0.3021 - accuracy: 0.8343\n",
      "Epoch 00001: saving model to training_10_2/cp-0001.ckpt\n"
     ]
    },
    {
     "name": "stderr",
     "output_type": "stream",
     "text": [
      "W0622 22:04:20.810821 31232 callbacks.py:241] Method (on_train_batch_end) is slow compared to the batch update (0.110959). Check your callbacks.\n"
     ]
    },
    {
     "name": "stdout",
     "output_type": "stream",
     "text": [
      "348/468 [=====================>........] - ETA: 16s - loss: 0.3016 - accuracy: 0.8345\n",
      "Epoch 00001: saving model to training_10_2/cp-0001.ckpt\n",
      "349/468 [=====================>........] - ETA: 16s - loss: 0.3012 - accuracy: 0.8348\n",
      "Epoch 00001: saving model to training_10_2/cp-0001.ckpt\n",
      "350/468 [=====================>........] - ETA: 16s - loss: 0.3007 - accuracy: 0.8350\n",
      "Epoch 00001: saving model to training_10_2/cp-0001.ckpt\n",
      "351/468 [=====================>........] - ETA: 16s - loss: 0.3007 - accuracy: 0.8352\n",
      "Epoch 00001: saving model to training_10_2/cp-0001.ckpt\n",
      "352/468 [=====================>........] - ETA: 16s - loss: 0.3002 - accuracy: 0.8354\n",
      "Epoch 00001: saving model to training_10_2/cp-0001.ckpt\n",
      "353/468 [=====================>........] - ETA: 15s - loss: 0.2996 - accuracy: 0.8356\n",
      "Epoch 00001: saving model to training_10_2/cp-0001.ckpt\n",
      "354/468 [=====================>........] - ETA: 15s - loss: 0.2992 - accuracy: 0.8358\n",
      "Epoch 00001: saving model to training_10_2/cp-0001.ckpt\n",
      "355/468 [=====================>........] - ETA: 15s - loss: 0.2990 - accuracy: 0.8361\n",
      "Epoch 00001: saving model to training_10_2/cp-0001.ckpt\n",
      "356/468 [=====================>........] - ETA: 15s - loss: 0.2986 - accuracy: 0.8363\n",
      "Epoch 00001: saving model to training_10_2/cp-0001.ckpt\n",
      "357/468 [=====================>........] - ETA: 15s - loss: 0.2982 - accuracy: 0.8365\n",
      "Epoch 00001: saving model to training_10_2/cp-0001.ckpt\n",
      "358/468 [=====================>........] - ETA: 15s - loss: 0.2977 - accuracy: 0.8367\n",
      "Epoch 00001: saving model to training_10_2/cp-0001.ckpt\n",
      "359/468 [======================>.......] - ETA: 15s - loss: 0.2972 - accuracy: 0.8369"
     ]
    },
    {
     "name": "stderr",
     "output_type": "stream",
     "text": [
      "W0622 22:04:22.300709 31232 callbacks.py:241] Method (on_train_batch_end) is slow compared to the batch update (0.104117). Check your callbacks.\n"
     ]
    },
    {
     "name": "stdout",
     "output_type": "stream",
     "text": [
      "\n",
      "Epoch 00001: saving model to training_10_2/cp-0001.ckpt\n",
      "360/468 [======================>.......] - ETA: 14s - loss: 0.2968 - accuracy: 0.8371\n",
      "Epoch 00001: saving model to training_10_2/cp-0001.ckpt\n"
     ]
    },
    {
     "name": "stderr",
     "output_type": "stream",
     "text": [
      "W0622 22:04:22.407270 31232 callbacks.py:241] Method (on_train_batch_end) is slow compared to the batch update (0.104117). Check your callbacks.\n"
     ]
    },
    {
     "name": "stdout",
     "output_type": "stream",
     "text": [
      "361/468 [======================>.......] - ETA: 14s - loss: 0.2966 - accuracy: 0.8373\n",
      "Epoch 00001: saving model to training_10_2/cp-0001.ckpt\n"
     ]
    },
    {
     "name": "stderr",
     "output_type": "stream",
     "text": [
      "W0622 22:04:22.627233 31232 callbacks.py:241] Method (on_train_batch_end) is slow compared to the batch update (0.104117). Check your callbacks.\n"
     ]
    },
    {
     "name": "stdout",
     "output_type": "stream",
     "text": [
      "\b\b\b\b\b\b\b\b\b\b\b\b\b\b\b\b\b\b\b\b\b\b\b\b\b\b\b\b\b\b\b\b\b\b\b\b\b\b\b\b\b\b\b\b\b\b\b\b\b\b\b\b\b\b\b\b\b\b\b\b\b\b\b\b\b\b\b\b\b\b\b\b\b\b\b\b\b\b\b\b\b\b\b\b\b\r",
      "362/468 [======================>.......] - ETA: 14s - loss: 0.2961 - accuracy: 0.8375"
     ]
    },
    {
     "name": "stderr",
     "output_type": "stream",
     "text": [
      "W0622 22:04:22.746502 31232 callbacks.py:241] Method (on_train_batch_end) is slow compared to the batch update (0.104117). Check your callbacks.\n"
     ]
    },
    {
     "name": "stdout",
     "output_type": "stream",
     "text": [
      "\n",
      "Epoch 00001: saving model to training_10_2/cp-0001.ckpt\n",
      "363/468 [======================>.......] - ETA: 14s - loss: 0.2957 - accuracy: 0.8377\n",
      "Epoch 00001: saving model to training_10_2/cp-0001.ckpt\n"
     ]
    },
    {
     "name": "stderr",
     "output_type": "stream",
     "text": [
      "W0622 22:04:22.943004 31232 callbacks.py:241] Method (on_train_batch_end) is slow compared to the batch update (0.110472). Check your callbacks.\n"
     ]
    },
    {
     "name": "stdout",
     "output_type": "stream",
     "text": [
      "\b\b\b\b\b\b\b\b\b\b\b\b\b\b\b\b\b\b\b\b\b\b\b\b\b\b\b\b\b\b\b\b\b\b\b\b\b\b\b\b\b\b\b\b\b\b\b\b\b\b\b\b\b\b\b\b\b\b\b\b\b\b\b\b\b\b\b\b\b\b\b\b\b\b\b\b\b\b\b\b\b\b\b\b\b\r",
      "364/468 [======================>.......] - ETA: 14s - loss: 0.2954 - accuracy: 0.8379"
     ]
    },
    {
     "name": "stderr",
     "output_type": "stream",
     "text": [
      "W0622 22:04:23.062272 31232 callbacks.py:241] Method (on_train_batch_end) is slow compared to the batch update (0.111937). Check your callbacks.\n"
     ]
    },
    {
     "name": "stdout",
     "output_type": "stream",
     "text": [
      "\n",
      "Epoch 00001: saving model to training_10_2/cp-0001.ckpt\n",
      "365/468 [======================>.......] - ETA: 14s - loss: 0.2950 - accuracy: 0.8381\n",
      "Epoch 00001: saving model to training_10_2/cp-0001.ckpt\n"
     ]
    },
    {
     "name": "stderr",
     "output_type": "stream",
     "text": [
      "W0622 22:04:23.345781 31232 callbacks.py:241] Method (on_train_batch_end) is slow compared to the batch update (0.130514). Check your callbacks.\n"
     ]
    },
    {
     "name": "stdout",
     "output_type": "stream",
     "text": [
      "\b\b\b\b\b\b\b\b\b\b\b\b\b\b\b\b\b\b\b\b\b\b\b\b\b\b\b\b\b\b\b\b\b\b\b\b\b\b\b\b\b\b\b\b\b\b\b\b\b\b\b\b\b\b\b\b\b\b\b\b\b\b\b\b\b\b\b\b\b\b\b\b\b\b\b\b\b\b\b\b\b\b\b\b\b\r",
      "366/468 [======================>.......] - ETA: 14s - loss: 0.2948 - accuracy: 0.8383"
     ]
    },
    {
     "name": "stderr",
     "output_type": "stream",
     "text": [
      "W0622 22:04:23.459185 31232 callbacks.py:241] Method (on_train_batch_end) is slow compared to the batch update (0.121226). Check your callbacks.\n"
     ]
    },
    {
     "name": "stdout",
     "output_type": "stream",
     "text": [
      "\n",
      "Epoch 00001: saving model to training_10_2/cp-0001.ckpt\n",
      "367/468 [======================>.......] - ETA: 13s - loss: 0.2945 - accuracy: 0.8386\n",
      "Epoch 00001: saving model to training_10_2/cp-0001.ckpt\n"
     ]
    },
    {
     "name": "stderr",
     "output_type": "stream",
     "text": [
      "W0622 22:04:23.770068 31232 callbacks.py:241] Method (on_train_batch_end) is slow compared to the batch update (0.161797). Check your callbacks.\n"
     ]
    },
    {
     "name": "stdout",
     "output_type": "stream",
     "text": [
      "\b\b\b\b\b\b\b\b\b\b\b\b\b\b\b\b\b\b\b\b\b\b\b\b\b\b\b\b\b\b\b\b\b\b\b\b\b\b\b\b\b\b\b\b\b\b\b\b\b\b\b\b\b\b\b\b\b\b\b\b\b\b\b\b\b\b\b\b\b\b\b\b\b\b\b\b\b\b\b\b\b\b\b\b\b\r",
      "368/468 [======================>.......] - ETA: 13s - loss: 0.2940 - accuracy: 0.8388"
     ]
    },
    {
     "name": "stderr",
     "output_type": "stream",
     "text": [
      "W0622 22:04:23.870762 31232 callbacks.py:241] Method (on_train_batch_end) is slow compared to the batch update (0.121226). Check your callbacks.\n"
     ]
    },
    {
     "name": "stdout",
     "output_type": "stream",
     "text": [
      "\n",
      "Epoch 00001: saving model to training_10_2/cp-0001.ckpt\n",
      "369/468 [======================>.......] - ETA: 13s - loss: 0.2937 - accuracy: 0.8390\n",
      "Epoch 00001: saving model to training_10_2/cp-0001.ckpt\n",
      "370/468 [======================>.......] - ETA: 13s - loss: 0.2931 - accuracy: 0.8392\n",
      "Epoch 00001: saving model to training_10_2/cp-0001.ckpt\n"
     ]
    },
    {
     "name": "stderr",
     "output_type": "stream",
     "text": [
      "W0622 22:04:24.242257 31232 callbacks.py:241] Method (on_train_batch_end) is slow compared to the batch update (0.143221). Check your callbacks.\n"
     ]
    },
    {
     "name": "stdout",
     "output_type": "stream",
     "text": [
      "371/468 [======================>.......] - ETA: 13s - loss: 0.2926 - accuracy: 0.8394\n",
      "Epoch 00001: saving model to training_10_2/cp-0001.ckpt\n"
     ]
    },
    {
     "name": "stderr",
     "output_type": "stream",
     "text": [
      "W0622 22:04:24.508170 31232 callbacks.py:241] Method (on_train_batch_end) is slow compared to the batch update (0.143221). Check your callbacks.\n"
     ]
    },
    {
     "name": "stdout",
     "output_type": "stream",
     "text": [
      "\b\b\b\b\b\b\b\b\b\b\b\b\b\b\b\b\b\b\b\b\b\b\b\b\b\b\b\b\b\b\b\b\b\b\b\b\b\b\b\b\b\b\b\b\b\b\b\b\b\b\b\b\b\b\b\b\b\b\b\b\b\b\b\b\b\b\b\b\b\b\b\b\b\b\b\b\b\b\b\b\b\b\b\b\b\r",
      "372/468 [======================>.......] - ETA: 13s - loss: 0.2922 - accuracy: 0.8396"
     ]
    },
    {
     "name": "stderr",
     "output_type": "stream",
     "text": [
      "W0622 22:04:24.639168 31232 callbacks.py:241] Method (on_train_batch_end) is slow compared to the batch update (0.145174). Check your callbacks.\n"
     ]
    },
    {
     "name": "stdout",
     "output_type": "stream",
     "text": [
      "\n",
      "Epoch 00001: saving model to training_10_2/cp-0001.ckpt\n",
      "373/468 [======================>.......] - ETA: 13s - loss: 0.2917 - accuracy: 0.8398\n",
      "Epoch 00001: saving model to training_10_2/cp-0001.ckpt\n"
     ]
    },
    {
     "name": "stderr",
     "output_type": "stream",
     "text": [
      "W0622 22:04:24.792655 31232 callbacks.py:241] Method (on_train_batch_end) is slow compared to the batch update (0.123177). Check your callbacks.\n"
     ]
    },
    {
     "name": "stdout",
     "output_type": "stream",
     "text": [
      "374/468 [======================>.......] - ETA: 13s - loss: 0.2915 - accuracy: 0.8400\n",
      "Epoch 00001: saving model to training_10_2/cp-0001.ckpt\n"
     ]
    },
    {
     "name": "stderr",
     "output_type": "stream",
     "text": [
      "W0622 22:04:24.952006 31232 callbacks.py:241] Method (on_train_batch_end) is slow compared to the batch update (0.137354). Check your callbacks.\n"
     ]
    },
    {
     "name": "stdout",
     "output_type": "stream",
     "text": [
      "375/468 [=======================>......] - ETA: 12s - loss: 0.2909 - accuracy: 0.8401\n",
      "Epoch 00001: saving model to training_10_2/cp-0001.ckpt\n"
     ]
    },
    {
     "name": "stderr",
     "output_type": "stream",
     "text": [
      "W0622 22:04:25.156328 31232 callbacks.py:241] Method (on_train_batch_end) is slow compared to the batch update (0.137354). Check your callbacks.\n"
     ]
    },
    {
     "name": "stdout",
     "output_type": "stream",
     "text": [
      "\b\b\b\b\b\b\b\b\b\b\b\b\b\b\b\b\b\b\b\b\b\b\b\b\b\b\b\b\b\b\b\b\b\b\b\b\b\b\b\b\b\b\b\b\b\b\b\b\b\b\b\b\b\b\b\b\b\b\b\b\b\b\b\b\b\b\b\b\b\b\b\b\b\b\b\b\b\b\b\b\b\b\b\b\b\r",
      "376/468 [=======================>......] - ETA: 12s - loss: 0.2905 - accuracy: 0.8403"
     ]
    },
    {
     "name": "stderr",
     "output_type": "stream",
     "text": [
      "W0622 22:04:25.305903 31232 callbacks.py:241] Method (on_train_batch_end) is slow compared to the batch update (0.137354). Check your callbacks.\n"
     ]
    },
    {
     "name": "stdout",
     "output_type": "stream",
     "text": [
      "\n",
      "Epoch 00001: saving model to training_10_2/cp-0001.ckpt\n",
      "377/468 [=======================>......] - ETA: 12s - loss: 0.2901 - accuracy: 0.8405\n",
      "Epoch 00001: saving model to training_10_2/cp-0001.ckpt\n"
     ]
    },
    {
     "name": "stderr",
     "output_type": "stream",
     "text": [
      "W0622 22:04:25.412464 31232 callbacks.py:241] Method (on_train_batch_end) is slow compared to the batch update (0.127578). Check your callbacks.\n"
     ]
    },
    {
     "name": "stdout",
     "output_type": "stream",
     "text": [
      "378/468 [=======================>......] - ETA: 12s - loss: 0.2896 - accuracy: 0.8407\n",
      "Epoch 00001: saving model to training_10_2/cp-0001.ckpt\n"
     ]
    },
    {
     "name": "stderr",
     "output_type": "stream",
     "text": [
      "W0622 22:04:25.507292 31232 callbacks.py:241] Method (on_train_batch_end) is slow compared to the batch update (0.127578). Check your callbacks.\n"
     ]
    },
    {
     "name": "stdout",
     "output_type": "stream",
     "text": [
      "379/468 [=======================>......] - ETA: 12s - loss: 0.2896 - accuracy: 0.8409\n",
      "Epoch 00001: saving model to training_10_2/cp-0001.ckpt\n"
     ]
    },
    {
     "name": "stderr",
     "output_type": "stream",
     "text": [
      "W0622 22:04:25.623628 31232 callbacks.py:241] Method (on_train_batch_end) is slow compared to the batch update (0.127578). Check your callbacks.\n"
     ]
    },
    {
     "name": "stdout",
     "output_type": "stream",
     "text": [
      "380/468 [=======================>......] - ETA: 12s - loss: 0.2892 - accuracy: 0.8411\n",
      "Epoch 00001: saving model to training_10_2/cp-0001.ckpt\n"
     ]
    },
    {
     "name": "stderr",
     "output_type": "stream",
     "text": [
      "W0622 22:04:25.719436 31232 callbacks.py:241] Method (on_train_batch_end) is slow compared to the batch update (0.113402). Check your callbacks.\n"
     ]
    },
    {
     "name": "stdout",
     "output_type": "stream",
     "text": [
      "381/468 [=======================>......] - ETA: 12s - loss: 0.2888 - accuracy: 0.8413\n",
      "Epoch 00001: saving model to training_10_2/cp-0001.ckpt\n"
     ]
    },
    {
     "name": "stderr",
     "output_type": "stream",
     "text": [
      "W0622 22:04:25.828928 31232 callbacks.py:241] Method (on_train_batch_end) is slow compared to the batch update (0.104115). Check your callbacks.\n"
     ]
    },
    {
     "name": "stdout",
     "output_type": "stream",
     "text": [
      "382/468 [=======================>......] - ETA: 11s - loss: 0.2882 - accuracy: 0.8415\n",
      "Epoch 00001: saving model to training_10_2/cp-0001.ckpt\n",
      "383/468 [=======================>......] - ETA: 11s - loss: 0.2879 - accuracy: 0.8417\n",
      "Epoch 00001: saving model to training_10_2/cp-0001.ckpt\n",
      "384/468 [=======================>......] - ETA: 11s - loss: 0.2875 - accuracy: 0.8419\n",
      "Epoch 00001: saving model to training_10_2/cp-0001.ckpt\n",
      "385/468 [=======================>......] - ETA: 11s - loss: 0.2873 - accuracy: 0.8421\n",
      "Epoch 00001: saving model to training_10_2/cp-0001.ckpt\n",
      "386/468 [=======================>......] - ETA: 11s - loss: 0.2868 - accuracy: 0.8423\n",
      "Epoch 00001: saving model to training_10_2/cp-0001.ckpt\n",
      "387/468 [=======================>......] - ETA: 11s - loss: 0.2862 - accuracy: 0.8425\n",
      "Epoch 00001: saving model to training_10_2/cp-0001.ckpt\n",
      "388/468 [=======================>......] - ETA: 11s - loss: 0.2858 - accuracy: 0.8426\n",
      "Epoch 00001: saving model to training_10_2/cp-0001.ckpt\n",
      "389/468 [=======================>......] - ETA: 10s - loss: 0.2854 - accuracy: 0.8428\n",
      "Epoch 00001: saving model to training_10_2/cp-0001.ckpt\n",
      "390/468 [========================>.....] - ETA: 10s - loss: 0.2849 - accuracy: 0.8430\n",
      "Epoch 00001: saving model to training_10_2/cp-0001.ckpt\n",
      "391/468 [========================>.....] - ETA: 10s - loss: 0.2844 - accuracy: 0.8432\n",
      "Epoch 00001: saving model to training_10_2/cp-0001.ckpt\n",
      "392/468 [========================>.....] - ETA: 10s - loss: 0.2840 - accuracy: 0.8434\n",
      "Epoch 00001: saving model to training_10_2/cp-0001.ckpt\n",
      "393/468 [========================>.....] - ETA: 10s - loss: 0.2835 - accuracy: 0.8436\n",
      "Epoch 00001: saving model to training_10_2/cp-0001.ckpt\n",
      "394/468 [========================>.....] - ETA: 10s - loss: 0.2829 - accuracy: 0.8438\n",
      "Epoch 00001: saving model to training_10_2/cp-0001.ckpt\n",
      "395/468 [========================>.....] - ETA: 10s - loss: 0.2824 - accuracy: 0.8439\n",
      "Epoch 00001: saving model to training_10_2/cp-0001.ckpt\n",
      "396/468 [========================>.....] - ETA: 10s - loss: 0.2819 - accuracy: 0.8441\n",
      "Epoch 00001: saving model to training_10_2/cp-0001.ckpt\n",
      "397/468 [========================>.....] - ETA: 9s - loss: 0.2815 - accuracy: 0.8443 \n",
      "Epoch 00001: saving model to training_10_2/cp-0001.ckpt\n",
      "398/468 [========================>.....] - ETA: 9s - loss: 0.2810 - accuracy: 0.8445\n",
      "Epoch 00001: saving model to training_10_2/cp-0001.ckpt\n",
      "399/468 [========================>.....] - ETA: 9s - loss: 0.2809 - accuracy: 0.8447\n",
      "Epoch 00001: saving model to training_10_2/cp-0001.ckpt\n"
     ]
    },
    {
     "name": "stderr",
     "output_type": "stream",
     "text": [
      "W0622 22:04:28.193783 31232 callbacks.py:241] Method (on_train_batch_end) is slow compared to the batch update (0.104606). Check your callbacks.\n"
     ]
    },
    {
     "name": "stdout",
     "output_type": "stream",
     "text": [
      "\b\b\b\b\b\b\b\b\b\b\b\b\b\b\b\b\b\b\b\b\b\b\b\b\b\b\b\b\b\b\b\b\b\b\b\b\b\b\b\b\b\b\b\b\b\b\b\b\b\b\b\b\b\b\b\b\b\b\b\b\b\b\b\b\b\b\b\b\b\b\b\b\b\b\b\b\b\b\b\b\b\b\b\b\r",
      "400/468 [========================>.....] - ETA: 9s - loss: 0.2807 - accuracy: 0.8448"
     ]
    },
    {
     "name": "stderr",
     "output_type": "stream",
     "text": [
      "W0622 22:04:28.314032 31232 callbacks.py:241] Method (on_train_batch_end) is slow compared to the batch update (0.101672). Check your callbacks.\n"
     ]
    },
    {
     "name": "stdout",
     "output_type": "stream",
     "text": [
      "\n",
      "Epoch 00001: saving model to training_10_2/cp-0001.ckpt\n",
      "401/468 [========================>.....] - ETA: 9s - loss: 0.2804 - accuracy: 0.8450\n",
      "Epoch 00001: saving model to training_10_2/cp-0001.ckpt\n",
      "402/468 [========================>.....] - ETA: 9s - loss: 0.2800 - accuracy: 0.8452\n",
      "Epoch 00001: saving model to training_10_2/cp-0001.ckpt\n",
      "403/468 [========================>.....] - ETA: 9s - loss: 0.2796 - accuracy: 0.8454\n",
      "Epoch 00001: saving model to training_10_2/cp-0001.ckpt\n",
      "404/468 [========================>.....] - ETA: 8s - loss: 0.2793 - accuracy: 0.8456\n",
      "Epoch 00001: saving model to training_10_2/cp-0001.ckpt\n",
      "405/468 [========================>.....] - ETA: 8s - loss: 0.2788 - accuracy: 0.8457\n",
      "Epoch 00001: saving model to training_10_2/cp-0001.ckpt\n",
      "406/468 [=========================>....] - ETA: 8s - loss: 0.2783 - accuracy: 0.8459\n",
      "Epoch 00001: saving model to training_10_2/cp-0001.ckpt\n"
     ]
    },
    {
     "name": "stderr",
     "output_type": "stream",
     "text": [
      "W0622 22:04:28.978810 31232 callbacks.py:241] Method (on_train_batch_end) is slow compared to the batch update (0.101672). Check your callbacks.\n"
     ]
    },
    {
     "name": "stdout",
     "output_type": "stream",
     "text": [
      "407/468 [=========================>....] - ETA: 8s - loss: 0.2781 - accuracy: 0.8461\n",
      "Epoch 00001: saving model to training_10_2/cp-0001.ckpt\n",
      "408/468 [=========================>....] - ETA: 8s - loss: 0.2776 - accuracy: 0.8463\n",
      "Epoch 00001: saving model to training_10_2/cp-0001.ckpt\n",
      "409/468 [=========================>....] - ETA: 8s - loss: 0.2770 - accuracy: 0.8464\n",
      "Epoch 00001: saving model to training_10_2/cp-0001.ckpt\n",
      "410/468 [=========================>....] - ETA: 8s - loss: 0.2766 - accuracy: 0.8466\n",
      "Epoch 00001: saving model to training_10_2/cp-0001.ckpt\n",
      "411/468 [=========================>....] - ETA: 7s - loss: 0.2761 - accuracy: 0.8468\n",
      "Epoch 00001: saving model to training_10_2/cp-0001.ckpt\n",
      "412/468 [=========================>....] - ETA: 7s - loss: 0.2762 - accuracy: 0.8470\n",
      "Epoch 00001: saving model to training_10_2/cp-0001.ckpt\n",
      "413/468 [=========================>....] - ETA: 7s - loss: 0.2758 - accuracy: 0.8471\n",
      "Epoch 00001: saving model to training_10_2/cp-0001.ckpt\n",
      "414/468 [=========================>....] - ETA: 7s - loss: 0.2753 - accuracy: 0.8473\n",
      "Epoch 00001: saving model to training_10_2/cp-0001.ckpt\n",
      "415/468 [=========================>....] - ETA: 7s - loss: 0.2750 - accuracy: 0.8475\n",
      "Epoch 00001: saving model to training_10_2/cp-0001.ckpt\n",
      "416/468 [=========================>....] - ETA: 7s - loss: 0.2745 - accuracy: 0.8477\n",
      "Epoch 00001: saving model to training_10_2/cp-0001.ckpt\n",
      "417/468 [=========================>....] - ETA: 7s - loss: 0.2741 - accuracy: 0.8478\n",
      "Epoch 00001: saving model to training_10_2/cp-0001.ckpt\n",
      "418/468 [=========================>....] - ETA: 6s - loss: 0.2736 - accuracy: 0.8480\n",
      "Epoch 00001: saving model to training_10_2/cp-0001.ckpt\n",
      "419/468 [=========================>....] - ETA: 6s - loss: 0.2731 - accuracy: 0.8482\n",
      "Epoch 00001: saving model to training_10_2/cp-0001.ckpt\n",
      "420/468 [=========================>....] - ETA: 6s - loss: 0.2727 - accuracy: 0.8483\n",
      "Epoch 00001: saving model to training_10_2/cp-0001.ckpt\n",
      "421/468 [=========================>....] - ETA: 6s - loss: 0.2723 - accuracy: 0.8485\n",
      "Epoch 00001: saving model to training_10_2/cp-0001.ckpt\n",
      "422/468 [==========================>...] - ETA: 6s - loss: 0.2721 - accuracy: 0.8487\n",
      "Epoch 00001: saving model to training_10_2/cp-0001.ckpt\n",
      "423/468 [==========================>...] - ETA: 6s - loss: 0.2717 - accuracy: 0.8488\n",
      "Epoch 00001: saving model to training_10_2/cp-0001.ckpt\n",
      "424/468 [==========================>...] - ETA: 6s - loss: 0.2715 - accuracy: 0.8490\n",
      "Epoch 00001: saving model to training_10_2/cp-0001.ckpt\n"
     ]
    },
    {
     "name": "stderr",
     "output_type": "stream",
     "text": [
      "W0622 22:04:31.215597 31232 callbacks.py:241] Method (on_train_batch_end) is slow compared to the batch update (0.109006). Check your callbacks.\n"
     ]
    },
    {
     "name": "stdout",
     "output_type": "stream",
     "text": [
      "425/468 [==========================>...] - ETA: 5s - loss: 0.2711 - accuracy: 0.8492\n",
      "Epoch 00001: saving model to training_10_2/cp-0001.ckpt\n"
     ]
    },
    {
     "name": "stderr",
     "output_type": "stream",
     "text": [
      "W0622 22:04:31.329979 31232 callbacks.py:241] Method (on_train_batch_end) is slow compared to the batch update (0.109006). Check your callbacks.\n"
     ]
    },
    {
     "name": "stdout",
     "output_type": "stream",
     "text": [
      "426/468 [==========================>...] - ETA: 5s - loss: 0.2711 - accuracy: 0.8493\n",
      "Epoch 00001: saving model to training_10_2/cp-0001.ckpt\n"
     ]
    },
    {
     "name": "stderr",
     "output_type": "stream",
     "text": [
      "W0622 22:04:31.450225 31232 callbacks.py:241] Method (on_train_batch_end) is slow compared to the batch update (0.103138). Check your callbacks.\n"
     ]
    },
    {
     "name": "stdout",
     "output_type": "stream",
     "text": [
      "427/468 [==========================>...] - ETA: 5s - loss: 0.2707 - accuracy: 0.8495\n",
      "Epoch 00001: saving model to training_10_2/cp-0001.ckpt\n"
     ]
    },
    {
     "name": "stderr",
     "output_type": "stream",
     "text": [
      "W0622 22:04:31.651614 31232 callbacks.py:241] Method (on_train_batch_end) is slow compared to the batch update (0.103138). Check your callbacks.\n"
     ]
    },
    {
     "name": "stdout",
     "output_type": "stream",
     "text": [
      "\b\b\b\b\b\b\b\b\b\b\b\b\b\b\b\b\b\b\b\b\b\b\b\b\b\b\b\b\b\b\b\b\b\b\b\b\b\b\b\b\b\b\b\b\b\b\b\b\b\b\b\b\b\b\b\b\b\b\b\b\b\b\b\b\b\b\b\b\b\b\b\b\b\b\b\b\b\b\b\b\b\b\b\b\r",
      "428/468 [==========================>...] - ETA: 5s - loss: 0.2702 - accuracy: 0.8497"
     ]
    },
    {
     "name": "stderr",
     "output_type": "stream",
     "text": [
      "W0622 22:04:31.756220 31232 callbacks.py:241] Method (on_train_batch_end) is slow compared to the batch update (0.100205). Check your callbacks.\n"
     ]
    },
    {
     "name": "stdout",
     "output_type": "stream",
     "text": [
      "\n",
      "Epoch 00001: saving model to training_10_2/cp-0001.ckpt\n",
      "429/468 [==========================>...] - ETA: 5s - loss: 0.2698 - accuracy: 0.8498\n",
      "Epoch 00001: saving model to training_10_2/cp-0001.ckpt\n"
     ]
    },
    {
     "name": "stderr",
     "output_type": "stream",
     "text": [
      "W0622 22:04:31.864735 31232 callbacks.py:241] Method (on_train_batch_end) is slow compared to the batch update (0.100205). Check your callbacks.\n"
     ]
    },
    {
     "name": "stdout",
     "output_type": "stream",
     "text": [
      "430/468 [==========================>...] - ETA: 5s - loss: 0.2694 - accuracy: 0.8500\n",
      "Epoch 00001: saving model to training_10_2/cp-0001.ckpt\n"
     ]
    },
    {
     "name": "stderr",
     "output_type": "stream",
     "text": [
      "W0622 22:04:31.962497 31232 callbacks.py:241] Method (on_train_batch_end) is slow compared to the batch update (0.100205). Check your callbacks.\n"
     ]
    },
    {
     "name": "stdout",
     "output_type": "stream",
     "text": [
      "431/468 [==========================>...] - ETA: 5s - loss: 0.2691 - accuracy: 0.8502\n",
      "Epoch 00001: saving model to training_10_2/cp-0001.ckpt\n"
     ]
    },
    {
     "name": "stderr",
     "output_type": "stream",
     "text": [
      "W0622 22:04:32.077857 31232 callbacks.py:241] Method (on_train_batch_end) is slow compared to the batch update (0.101672). Check your callbacks.\n"
     ]
    },
    {
     "name": "stdout",
     "output_type": "stream",
     "text": [
      "432/468 [==========================>...] - ETA: 4s - loss: 0.2686 - accuracy: 0.8503\n",
      "Epoch 00001: saving model to training_10_2/cp-0001.ckpt\n",
      "433/468 [==========================>...] - ETA: 4s - loss: 0.2683 - accuracy: 0.8505\n",
      "Epoch 00001: saving model to training_10_2/cp-0001.ckpt\n",
      "434/468 [==========================>...] - ETA: 4s - loss: 0.2680 - accuracy: 0.8506\n",
      "Epoch 00001: saving model to training_10_2/cp-0001.ckpt\n",
      "435/468 [==========================>...] - ETA: 4s - loss: 0.2676 - accuracy: 0.8508\n",
      "Epoch 00001: saving model to training_10_2/cp-0001.ckpt\n",
      "436/468 [==========================>...] - ETA: 4s - loss: 0.2673 - accuracy: 0.8510\n",
      "Epoch 00001: saving model to training_10_2/cp-0001.ckpt\n",
      "437/468 [===========================>..] - ETA: 4s - loss: 0.2670 - accuracy: 0.8511\n",
      "Epoch 00001: saving model to training_10_2/cp-0001.ckpt\n",
      "438/468 [===========================>..] - ETA: 4s - loss: 0.2666 - accuracy: 0.8513\n",
      "Epoch 00001: saving model to training_10_2/cp-0001.ckpt\n",
      "439/468 [===========================>..] - ETA: 3s - loss: 0.2664 - accuracy: 0.8514\n",
      "Epoch 00001: saving model to training_10_2/cp-0001.ckpt\n",
      "440/468 [===========================>..] - ETA: 3s - loss: 0.2661 - accuracy: 0.8516\n",
      "Epoch 00001: saving model to training_10_2/cp-0001.ckpt\n",
      "441/468 [===========================>..] - ETA: 3s - loss: 0.2658 - accuracy: 0.8518\n",
      "Epoch 00001: saving model to training_10_2/cp-0001.ckpt\n",
      "442/468 [===========================>..] - ETA: 3s - loss: 0.2653 - accuracy: 0.8519\n",
      "Epoch 00001: saving model to training_10_2/cp-0001.ckpt\n",
      "443/468 [===========================>..] - ETA: 3s - loss: 0.2652 - accuracy: 0.8521\n",
      "Epoch 00001: saving model to training_10_2/cp-0001.ckpt\n",
      "444/468 [===========================>..] - ETA: 3s - loss: 0.2648 - accuracy: 0.8522\n",
      "Epoch 00001: saving model to training_10_2/cp-0001.ckpt\n",
      "445/468 [===========================>..] - ETA: 3s - loss: 0.2646 - accuracy: 0.8524\n",
      "Epoch 00001: saving model to training_10_2/cp-0001.ckpt\n"
     ]
    },
    {
     "name": "stderr",
     "output_type": "stream",
     "text": [
      "W0622 22:04:33.766201 31232 callbacks.py:241] Method (on_train_batch_end) is slow compared to the batch update (0.107049). Check your callbacks.\n"
     ]
    },
    {
     "name": "stdout",
     "output_type": "stream",
     "text": [
      "\b\b\b\b\b\b\b\b\b\b\b\b\b\b\b\b\b\b\b\b\b\b\b\b\b\b\b\b\b\b\b\b\b\b\b\b\b\b\b\b\b\b\b\b\b\b\b\b\b\b\b\b\b\b\b\b\b\b\b\b\b\b\b\b\b\b\b\b\b\b\b\b\b\b\b\b\b\b\b\b\b\b\b\b\r",
      "446/468 [===========================>..] - ETA: 3s - loss: 0.2643 - accuracy: 0.8525"
     ]
    },
    {
     "name": "stderr",
     "output_type": "stream",
     "text": [
      "W0622 22:04:33.891334 31232 callbacks.py:241] Method (on_train_batch_end) is slow compared to the batch update (0.107049). Check your callbacks.\n"
     ]
    },
    {
     "name": "stdout",
     "output_type": "stream",
     "text": [
      "\n",
      "Epoch 00001: saving model to training_10_2/cp-0001.ckpt\n",
      "447/468 [===========================>..] - ETA: 2s - loss: 0.2641 - accuracy: 0.8527\n",
      "Epoch 00001: saving model to training_10_2/cp-0001.ckpt\n"
     ]
    },
    {
     "name": "stderr",
     "output_type": "stream",
     "text": [
      "W0622 22:04:34.000828 31232 callbacks.py:241] Method (on_train_batch_end) is slow compared to the batch update (0.107049). Check your callbacks.\n"
     ]
    },
    {
     "name": "stdout",
     "output_type": "stream",
     "text": [
      "448/468 [===========================>..] - ETA: 2s - loss: 0.2640 - accuracy: 0.8529\n",
      "Epoch 00001: saving model to training_10_2/cp-0001.ckpt\n"
     ]
    },
    {
     "name": "stderr",
     "output_type": "stream",
     "text": [
      "W0622 22:04:34.112277 31232 callbacks.py:241] Method (on_train_batch_end) is slow compared to the batch update (0.101673). Check your callbacks.\n"
     ]
    },
    {
     "name": "stdout",
     "output_type": "stream",
     "text": [
      "449/468 [===========================>..] - ETA: 2s - loss: 0.2638 - accuracy: 0.8530\n",
      "Epoch 00001: saving model to training_10_2/cp-0001.ckpt\n",
      "450/468 [===========================>..] - ETA: 2s - loss: 0.2635 - accuracy: 0.8532\n",
      "Epoch 00001: saving model to training_10_2/cp-0001.ckpt\n",
      "451/468 [===========================>..] - ETA: 2s - loss: 0.2634 - accuracy: 0.8533\n",
      "Epoch 00001: saving model to training_10_2/cp-0001.ckpt\n",
      "452/468 [===========================>..] - ETA: 2s - loss: 0.2634 - accuracy: 0.8535\n",
      "Epoch 00001: saving model to training_10_2/cp-0001.ckpt\n",
      "453/468 [============================>.] - ETA: 2s - loss: 0.2633 - accuracy: 0.8536\n",
      "Epoch 00001: saving model to training_10_2/cp-0001.ckpt\n",
      "454/468 [============================>.] - ETA: 1s - loss: 0.2631 - accuracy: 0.8538\n",
      "Epoch 00001: saving model to training_10_2/cp-0001.ckpt\n",
      "455/468 [============================>.] - ETA: 1s - loss: 0.2628 - accuracy: 0.8539\n",
      "Epoch 00001: saving model to training_10_2/cp-0001.ckpt\n",
      "456/468 [============================>.] - ETA: 1s - loss: 0.2625 - accuracy: 0.8541\n",
      "Epoch 00001: saving model to training_10_2/cp-0001.ckpt\n",
      "457/468 [============================>.] - ETA: 1s - loss: 0.2622 - accuracy: 0.8542\n",
      "Epoch 00001: saving model to training_10_2/cp-0001.ckpt\n",
      "458/468 [============================>.] - ETA: 1s - loss: 0.2618 - accuracy: 0.8544\n",
      "Epoch 00001: saving model to training_10_2/cp-0001.ckpt\n",
      "459/468 [============================>.] - ETA: 1s - loss: 0.2617 - accuracy: 0.8545\n",
      "Epoch 00001: saving model to training_10_2/cp-0001.ckpt\n",
      "460/468 [============================>.] - ETA: 1s - loss: 0.2613 - accuracy: 0.8547\n",
      "Epoch 00001: saving model to training_10_2/cp-0001.ckpt\n",
      "461/468 [============================>.] - ETA: 0s - loss: 0.2611 - accuracy: 0.8548\n",
      "Epoch 00001: saving model to training_10_2/cp-0001.ckpt\n",
      "462/468 [============================>.] - ETA: 0s - loss: 0.2608 - accuracy: 0.8550\n",
      "Epoch 00001: saving model to training_10_2/cp-0001.ckpt\n",
      "463/468 [============================>.] - ETA: 0s - loss: 0.2606 - accuracy: 0.8551\n",
      "Epoch 00001: saving model to training_10_2/cp-0001.ckpt\n",
      "464/468 [============================>.] - ETA: 0s - loss: 0.2602 - accuracy: 0.8552\n",
      "Epoch 00001: saving model to training_10_2/cp-0001.ckpt\n",
      "465/468 [============================>.] - ETA: 0s - loss: 0.2599 - accuracy: 0.8554\n",
      "Epoch 00001: saving model to training_10_2/cp-0001.ckpt\n",
      "466/468 [============================>.] - ETA: 0s - loss: 0.2597 - accuracy: 0.8555\n",
      "Epoch 00001: saving model to training_10_2/cp-0001.ckpt\n",
      "467/468 [============================>.] - ETA: 0s - loss: 0.2594 - accuracy: 0.8557\n",
      "Epoch 00001: saving model to training_10_2/cp-0001.ckpt\n",
      "468/468 [==============================] - 79s 168ms/step - loss: 0.2591 - accuracy: 0.8560 - val_loss: 0.1161 - val_accuracy: 0.9647\n"
     ]
    },
    {
     "data": {
      "text/plain": [
       "<tensorflow.python.keras.callbacks.History at 0xe7134cf160>"
      ]
     },
     "execution_count": 160,
     "metadata": {},
     "output_type": "execute_result"
    }
   ],
   "source": [
    "#for checkpoint\n",
    "# 파일 이름에 에포크 번호를 포함시킵니다(`str.format` 포맷)\n",
    "checkpoint_path = \"training_10_2/cp-{epoch:04d}.ckpt\"\n",
    "checkpoint_dir = os.path.dirname(checkpoint_path)\n",
    "\n",
    "# 체크포인트 콜백 만들기\n",
    "cp_callback = tf.keras.callbacks.ModelCheckpoint(checkpoint_path,\n",
    "                                                 save_weights_only=True,\n",
    "                                                 verbose=1, save_freq=1)\n",
    "network = create_model_function(label_dim)\n",
    "\n",
    "network.fit(train_dataset, epochs =1,\n",
    "          validation_data =test_dataset,steps_per_epoch=training_iterations,\n",
    "          callbacks = [cp_callback],validation_steps=1)  # 훈련 단계에 콜백을 전달합니다\n",
    "\n",
    "# 옵티마이저의 상태를 저장하는 것과 관련되어 경고가 발생할 수 있습니다.\n",
    "# 이 경고는 (그리고 이 노트북의 다른 비슷한 경고는) 이전 사용 방식을 권장하지 않기 위함이며 무시해도 좋습니다."
   ]
  },
  {
   "cell_type": "code",
   "execution_count": 167,
   "metadata": {
    "scrolled": true
   },
   "outputs": [
    {
     "name": "stdout",
     "output_type": "stream",
     "text": [
      "464/468 [============================>.] - ETA: 0s - loss: 1.5830 - accuracy: 0.8151\n",
      "Epoch 00001: saving model to training_10_2_1/cp-0001.ckpt\n",
      "468/468 [==============================] - 9s 20ms/step - loss: 1.5825 - accuracy: 0.8160 - val_loss: 1.5231 - val_accuracy: 0.9441\n"
     ]
    },
    {
     "data": {
      "text/plain": [
       "<tensorflow.python.keras.callbacks.History at 0xe7093da278>"
      ]
     },
     "execution_count": 167,
     "metadata": {},
     "output_type": "execute_result"
    }
   ],
   "source": [
    "#for checkpoint\n",
    "# 파일 이름에 에포크 번호를 포함시킵니다(`str.format` 포맷)\n",
    "checkpoint_path = \"training_10_2_1/cp-{epoch:04d}.ckpt\"\n",
    "checkpoint_dir = os.path.dirname(checkpoint_path)\n",
    "\n",
    "# 체크포인트 콜백 만들기\n",
    "cp_callback = tf.keras.callbacks.ModelCheckpoint(checkpoint_path,\n",
    "                                                 save_weights_only=True,\n",
    "                                                 verbose=1)\n",
    "network = create_model_class(label_dim).model\n",
    "\n",
    "network.fit(train_dataset, epochs =1,\n",
    "          validation_data =test_dataset,steps_per_epoch=training_iterations,\n",
    "          callbacks = [cp_callback],validation_steps=1)  # 훈련 단계에 콜백을 전달합니다\n",
    "\n",
    "# 옵티마이저의 상태를 저장하는 것과 관련되어 경고가 발생할 수 있습니다.\n",
    "# 이 경고는 (그리고 이 노트북의 다른 비슷한 경고는) 이전 사용 방식을 권장하지 않기 위함이며 무시해도 좋습니다."
   ]
  },
  {
   "cell_type": "markdown",
   "metadata": {},
   "source": [
    "============================================================================================================"
   ]
  },
  {
   "cell_type": "code",
   "execution_count": null,
   "metadata": {},
   "outputs": [],
   "source": [
    "##for tensorboard\n",
    "\n",
    "current_time = datetime.datetime.now().strftime(\"%Y%m%d-%H%M%S\")\n",
    "log_dir = 'logs/gradient_tape/' + current_time \n",
    "summary_writer = tf.summary.create_file_writer(log_dir)\n",
    "callbacks = [\n",
    "  # `val_loss`가 2번의 에포크에 걸쳐 향상되지 않으면 훈련을 멈춥니다.\n",
    "  tf.keras.callbacks.EarlyStopping(patience=2, monitor='val_loss'),\n",
    "\n",
    "    # `./logs` 디렉토리에  로그를 기록니다.\n",
    "  tf.keras.callbacks.TensorBoard(log_dir=log_dir)\n",
    "]\n"
   ]
  },
  {
   "cell_type": "markdown",
   "metadata": {},
   "source": [
    "if train_flag :\n",
    "    tf.saved_model.load(path)\n",
    "    if could_load:\n",
    "        start_epoch = (int)(checkpoint_counter / training_iterations)\n",
    "        start_iteration = checkpoint_counter - start_epoch * training_iterations\n",
    "        counter = checkpoint_counter\n",
    "        global_step.assign(checkpoint_counter)\n",
    "        print(\" [*] Load SUCCESS\")\n",
    "\n",
    "    \n",
    "    # train phase\n",
    "    cord_summaries():  # for tensorboard\n",
    "        for epoch in range(start_epoch, training_epochs):\n",
    "            for idx in range(start_iteration, training_iterations):\n",
    "                train_input, train_label = train_iterator.get_next()\n",
    "                grads = grad(network, train_input, train_label)\n",
    "                optimizer.apply_gradients(grads_and_vars=zip(grads, network.variables), global_step=global_step)\n",
    "\n",
    "                train_loss = loss_fn(network, train_input, train_label)\n",
    "                train_accuracy = accuracy_fn(network, train_input, train_label)\n",
    "\n",
    "                test_input, test_label = test_iterator.get_next()\n",
    "                test_accuracy = accuracy_fn(network, test_input, test_label)\n",
    "\n",
    "                tf.contrib.summary.scalar(name='train_loss', tensor=train_loss)\n",
    "                tf.contrib.summary.scalar(name='train_accuracy', tensor=train_accuracy)\n",
    "                tf.contrib.summary.scalar(name='test_accuracy', tensor=test_accuracy)\n",
    "\n",
    "                print(\n",
    "                    \"Epoch: [%2d] [%5d/%5d] time: %4.4f, train_loss: %.8f, train_accuracy: %.4f, test_Accuracy: %.4f\" \\\n",
    "                    % (epoch, idx, training_iterations, time() - start_time, train_loss, train_accuracy,\n",
    "                       test_accuracy))\n",
    "                counter += 1\n",
    "        tf.saved_model.save(exported, path)\n",
    "        checkpoint.save(file_prefix=checkpoint_prefix + '-{}'.format(counter))\n",
    "        \n",
    "# test phase      \n",
    "else :\n",
    "    _, _ = load(network, checkpoint_dir)\n",
    "    test_input, test_label = test_iterator.get_next()\n",
    "    test_accuracy = accuracy_fn(network, test_input, test_label)\n",
    "\n",
    "    print(\"test_Accuracy: %.4f\" % (test_accuracy))"
   ]
  },
  {
   "cell_type": "code",
   "execution_count": null,
   "metadata": {},
   "outputs": [],
   "source": []
  },
  {
   "cell_type": "code",
   "execution_count": null,
   "metadata": {},
   "outputs": [],
   "source": []
  }
 ],
 "metadata": {
  "kernelspec": {
   "display_name": "Python 3",
   "language": "python",
   "name": "python3"
  },
  "language_info": {
   "codemirror_mode": {
    "name": "ipython",
    "version": 3
   },
   "file_extension": ".py",
   "mimetype": "text/x-python",
   "name": "python",
   "nbconvert_exporter": "python",
   "pygments_lexer": "ipython3",
   "version": "3.7.3"
  }
 },
 "nbformat": 4,
 "nbformat_minor": 2
}
