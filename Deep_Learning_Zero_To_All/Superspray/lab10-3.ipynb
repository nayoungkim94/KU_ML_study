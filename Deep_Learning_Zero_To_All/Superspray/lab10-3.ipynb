{
 "cells": [
  {
   "cell_type": "markdown",
   "metadata": {},
   "source": [
    "# lab 10-3 : dropout\n"
   ]
  },
  {
   "cell_type": "code",
   "execution_count": 2,
   "metadata": {},
   "outputs": [],
   "source": [
    "import tensorflow as tf\n",
    "import numpy as np\n",
    "from tensorflow.keras.utils import to_categorical\n",
    "from tensorflow.keras.datasets import mnist\n",
    "from time import time\n",
    "import os\n",
    "import datetime"
   ]
  },
  {
   "cell_type": "code",
   "execution_count": 3,
   "metadata": {},
   "outputs": [],
   "source": [
    "def load_mnist() :\n",
    "    (train_data, train_labels), (test_data, test_labels) = mnist.load_data()\n",
    "    train_data = np.expand_dims(train_data, axis=-1) # [N, 28, 28] -> [N, 28, 28, 1]\n",
    "    test_data = np.expand_dims(test_data, axis=-1) # [N, 28, 28] -> [N, 28, 28, 1]\n",
    "\n",
    "    train_data, test_data = normalize(train_data, test_data)\n",
    "\n",
    "    train_labels = to_categorical(train_labels, 10) # [N,] -> [N, 10]\n",
    "    test_labels = to_categorical(test_labels, 10) # [N,] -> [N, 10]\n",
    "\n",
    "    return train_data, train_labels, test_data, test_labels\n",
    "\n",
    "def normalize(train_data, test_data):\n",
    "    train_data = train_data.astype(np.float32) / 255.0\n",
    "    test_data = test_data.astype(np.float32) / 255.0\n",
    "\n",
    "    return train_data, test_data"
   ]
  },
  {
   "cell_type": "code",
   "execution_count": 11,
   "metadata": {},
   "outputs": [
    {
     "data": {
      "text/plain": [
       "10000"
      ]
     },
     "execution_count": 11,
     "metadata": {},
     "output_type": "execute_result"
    }
   ],
   "source": [
    "\"\"\" dataset \"\"\"\n",
    "train_x, train_y, test_x, test_y = load_mnist()\n",
    "##train:60000\n",
    "##test:10000 --test_x.shape\n",
    "\n",
    "\"\"\" parameters \"\"\" #초모수값 지정\n",
    "learning_rate = 0.001\n",
    "batch_size = 128\n",
    "\n",
    "training_epochs = 1\n",
    "training_iterations = len(train_x) // batch_size #468\n",
    "label_dim = 10\n",
    "\n",
    "train_flag = True\n",
    "\n",
    "\"\"\" Graph Input using Dataset API \"\"\"\n",
    "train_dataset = tf.data.Dataset.from_tensor_slices((train_x, train_y)).\\\n",
    "    shuffle(buffer_size=100000).\\\n",
    "    prefetch(buffer_size=batch_size).\\\n",
    "    batch(batch_size).repeat()\n",
    "test_dataset = tf.data.Dataset.from_tensor_slices((test_x, test_y)).\\\n",
    "    shuffle(buffer_size=100000).\\\n",
    "    prefetch(buffer_size=len(test_x)).\\\n",
    "    batch(len(test_x))\n",
    "train_dataset1=train_dataset.shuffle(len(train_x))\n",
    "test_dataset1=test_dataset.shuffle(len(test_x))\n",
    "##참고:https://stackoverflow.com/questions/50437234/tensorflow-dataset-shuffle-then-batch-or-batch-then-shuffle\n",
    "#train_iterator = train_dataset.make_one_shot_iterator() 대신 batch에 대해 shuffle!\n",
    "#test_iterator = test_dataset.make_one_shot_iterator()\n"
   ]
  },
  {
   "cell_type": "code",
   "execution_count": 34,
   "metadata": {},
   "outputs": [
    {
     "name": "stdout",
     "output_type": "stream",
     "text": [
      "tf.Tensor([0 0 1], shape=(3,), dtype=int32)\n",
      "tf.Tensor([0 1 2], shape=(3,), dtype=int32)\n",
      "tf.Tensor([2 3 1], shape=(3,), dtype=int32)\n",
      "tf.Tensor([2 5 4], shape=(3,), dtype=int32)\n",
      "tf.Tensor([0 1 2], shape=(3,), dtype=int32)\n",
      "tf.Tensor([2 3 1], shape=(3,), dtype=int32)\n",
      "tf.Tensor([2 5 4], shape=(3,), dtype=int32)\n",
      "tf.Tensor([0 0 1], shape=(3,), dtype=int32)\n"
     ]
    }
   ],
   "source": [
    "dataset = tf.data.Dataset.from_tensor_slices([0, 0, 0, 1, 1, 1, 2, 2, 2,3,4,5])\n",
    "dataset = dataset.shuffle(3).batch(3)\n",
    "dataset1 = dataset.shuffle(13)\n",
    "\n",
    "for elem in dataset:\n",
    "  print(elem)\n",
    "for elem in dataset1:\n",
    "  print(elem)\n"
   ]
  },
  {
   "cell_type": "code",
   "execution_count": 7,
   "metadata": {},
   "outputs": [],
   "source": [
    "###수정!!\n",
    "\n",
    "\n",
    "\n",
    "class create_model_class(tf.keras.Model):\n",
    "    def __init__(self, label_dim):\n",
    "        super(create_model_class, self).__init__()\n",
    "        ###Xavier initialization 이용\n",
    "        weight_init = tf.kerasv.initializers.glorot_uniform()\n",
    "\n",
    "        self.model = tf.keras.Sequential()\n",
    "        self.model.add(tf.keras.layers.Flatten())\n",
    "        self.model.add(tf.keras.layers.Dense(512,kernel_initializer=weight_init, input_shape=(784,),activation=\"relu\"))\n",
    "        self.model.add(tf.keras.layers.Dropout(rate=0.5))\n",
    "\n",
    "        for i in range(3) :\n",
    "               self.model.add(tf.keras.layers.Dense(512, kernel_initializer=weight_init))\n",
    "               self.model.add(relu())\n",
    "               self.model.add(tf.keras.layers.Dropout(rate=0.5))\n",
    "\n",
    "\n",
    "        self.model.add(tf.keras.layers.Dense(label_dim, kernel_initializer=weight_init,activation='softmax'))\n",
    "        self.model.compile(optimizer='adam',\n",
    "                loss=custom_loss,\n",
    "                metrics=['accuracy'])\n",
    "    def call(self, x, training=None, mask=None):\n",
    "\n",
    "        x = self.model(x)\n",
    "\n",
    "        return x\n",
    "    \n",
    "# Create a loss function\n",
    "def custom_loss(y_true, y_pred):\n",
    "    return  tf.reduce_mean(tf.nn.softmax_cross_entropy_with_logits(y_pred,y_true))\n"
   ]
  },
  {
   "cell_type": "code",
   "execution_count": 12,
   "metadata": {},
   "outputs": [],
   "source": [
    "def create_model_function(label_dim) :\n",
    "    weight_init = tf.keras.initializers.glorot_uniform()\n",
    "\n",
    "    model = tf.keras.models.Sequential()\n",
    "    model.add(tf.keras.layers.Flatten())\n",
    "    model.add(tf.keras.layers.Dense(512,kernel_initializer=weight_init, input_shape=(784,),activation=\"relu\"))\n",
    "    model.add(tf.keras.layers.Dropout(rate=0.5))\n",
    "    \n",
    "    for i in range(3) :\n",
    "        model.add(tf.keras.layers.Dense(512, kernel_initializer=weight_init))\n",
    "        model.add(tf.keras.layers.ReLU())\n",
    "        model.add(tf.keras.layers.Dropout(rate=0.5))\n",
    "\n",
    "    model.add(tf.keras.layers.Dense(label_dim,kernel_initializer= weight_init,activation='softmax'))\n",
    "    \n",
    "    model.compile(optimizer='adam',\n",
    "                loss='categorical_crossentropy',\n",
    "                metrics=['accuracy'])\n",
    "\n",
    "    return model\n",
    "\n",
    "model = create_model_function(label_dim)\n",
    "#model.summary()"
   ]
  },
  {
   "cell_type": "code",
   "execution_count": 32,
   "metadata": {
    "scrolled": true
   },
   "outputs": [
    {
     "name": "stderr",
     "output_type": "stream",
     "text": [
      "WARNING: Logging before flag parsing goes to stderr.\n",
      "W0622 23:45:52.926235 27080 deprecation.py:323] From C:\\ProgramData\\Anaconda3\\lib\\site-packages\\tensorflow\\python\\ops\\math_grad.py:1250: add_dispatch_support.<locals>.wrapper (from tensorflow.python.ops.array_ops) is deprecated and will be removed in a future version.\n",
      "Instructions for updating:\n",
      "Use tf.where in 2.0, which has the same broadcast rule as np.where\n"
     ]
    },
    {
     "name": "stdout",
     "output_type": "stream",
     "text": [
      "\n",
      "Epoch 00001: saving model to training_10_3/cp-0001.ckpt\n",
      "  1/468 [..............................] - ETA: 13:55:13 - loss: 2.3639 - accuracy: 0.1250\n",
      "Epoch 00001: saving model to training_10_3/cp-0001.ckpt\n"
     ]
    },
    {
     "name": "stderr",
     "output_type": "stream",
     "text": [
      "W0622 23:45:58.347100 27080 callbacks.py:241] Method (on_train_batch_end) is slow compared to the batch update (0.512763). Check your callbacks.\n"
     ]
    },
    {
     "name": "stdout",
     "output_type": "stream",
     "text": [
      "  2/468 [..............................] - ETA: 6:59:07 - loss: 2.3330 - accuracy: 0.1211 \n",
      "Epoch 00001: saving model to training_10_3/cp-0001.ckpt\n"
     ]
    },
    {
     "name": "stderr",
     "output_type": "stream",
     "text": [
      "W0622 23:45:58.829059 27080 callbacks.py:241] Method (on_train_batch_end) is slow compared to the batch update (0.503476). Check your callbacks.\n"
     ]
    },
    {
     "name": "stdout",
     "output_type": "stream",
     "text": [
      "  3/468 [..............................] - ETA: 4:40:03 - loss: 2.3441 - accuracy: 0.1189\n",
      "Epoch 00001: saving model to training_10_3/cp-0001.ckpt\n"
     ]
    },
    {
     "name": "stderr",
     "output_type": "stream",
     "text": [
      "W0622 23:45:59.356977 27080 callbacks.py:241] Method (on_train_batch_end) is slow compared to the batch update (0.441395). Check your callbacks.\n"
     ]
    },
    {
     "name": "stdout",
     "output_type": "stream",
     "text": [
      "  4/468 [..............................] - ETA: 3:30:37 - loss: 2.3477 - accuracy: 0.1151\n",
      "Epoch 00001: saving model to training_10_3/cp-0001.ckpt\n"
     ]
    },
    {
     "name": "stderr",
     "output_type": "stream",
     "text": [
      "W0622 23:45:59.823295 27080 callbacks.py:241] Method (on_train_batch_end) is slow compared to the batch update (0.379313). Check your callbacks.\n"
     ]
    },
    {
     "name": "stdout",
     "output_type": "stream",
     "text": [
      "  5/468 [..............................] - ETA: 2:48:50 - loss: 2.3351 - accuracy: 0.1146\n",
      "Epoch 00001: saving model to training_10_3/cp-0001.ckpt\n"
     ]
    },
    {
     "name": "stderr",
     "output_type": "stream",
     "text": [
      "W0622 23:46:00.577045 27080 callbacks.py:241] Method (on_train_batch_end) is slow compared to the batch update (0.441395). Check your callbacks.\n"
     ]
    },
    {
     "name": "stdout",
     "output_type": "stream",
     "text": [
      "  6/468 [..............................] - ETA: 2:21:22 - loss: 2.3224 - accuracy: 0.1161\n",
      "Epoch 00001: saving model to training_10_3/cp-0001.ckpt\n"
     ]
    },
    {
     "name": "stderr",
     "output_type": "stream",
     "text": [
      "W0622 23:46:01.526303 27080 callbacks.py:241] Method (on_train_batch_end) is slow compared to the batch update (0.503476). Check your callbacks.\n"
     ]
    },
    {
     "name": "stdout",
     "output_type": "stream",
     "text": [
      "  7/468 [..............................] - ETA: 2:01:57 - loss: 2.3067 - accuracy: 0.1177\n",
      "Epoch 00001: saving model to training_10_3/cp-0001.ckpt\n"
     ]
    },
    {
     "name": "stderr",
     "output_type": "stream",
     "text": [
      "W0622 23:46:02.205749 27080 callbacks.py:241] Method (on_train_batch_end) is slow compared to the batch update (0.512763). Check your callbacks.\n"
     ]
    },
    {
     "name": "stdout",
     "output_type": "stream",
     "text": [
      "  8/468 [..............................] - ETA: 1:47:07 - loss: 2.3083 - accuracy: 0.1192\n",
      "Epoch 00001: saving model to training_10_3/cp-0001.ckpt\n"
     ]
    },
    {
     "name": "stderr",
     "output_type": "stream",
     "text": [
      "W0622 23:46:02.700420 27080 callbacks.py:241] Method (on_train_batch_end) is slow compared to the batch update (0.503476). Check your callbacks.\n"
     ]
    },
    {
     "name": "stdout",
     "output_type": "stream",
     "text": [
      "  9/468 [..............................] - ETA: 1:35:26 - loss: 2.2959 - accuracy: 0.1205\n",
      "Epoch 00001: saving model to training_10_3/cp-0001.ckpt\n"
     ]
    },
    {
     "name": "stderr",
     "output_type": "stream",
     "text": [
      "W0622 23:46:03.248865 27080 callbacks.py:241] Method (on_train_batch_end) is slow compared to the batch update (0.495165). Check your callbacks.\n"
     ]
    },
    {
     "name": "stdout",
     "output_type": "stream",
     "text": [
      " 10/468 [..............................] - ETA: 1:26:07 - loss: 2.2937 - accuracy: 0.1220\n",
      "Epoch 00001: saving model to training_10_3/cp-0001.ckpt\n"
     ]
    },
    {
     "name": "stderr",
     "output_type": "stream",
     "text": [
      "W0622 23:46:03.901913 27080 callbacks.py:241] Method (on_train_batch_end) is slow compared to the batch update (0.495165). Check your callbacks.\n"
     ]
    },
    {
     "name": "stdout",
     "output_type": "stream",
     "text": [
      " 11/468 [..............................] - ETA: 1:18:34 - loss: 2.2844 - accuracy: 0.1237\n",
      "Epoch 00001: saving model to training_10_3/cp-0001.ckpt\n"
     ]
    },
    {
     "name": "stderr",
     "output_type": "stream",
     "text": [
      "W0622 23:46:04.558759 27080 callbacks.py:241] Method (on_train_batch_end) is slow compared to the batch update (0.518626). Check your callbacks.\n"
     ]
    },
    {
     "name": "stdout",
     "output_type": "stream",
     "text": [
      " 12/468 [..............................] - ETA: 1:12:17 - loss: 2.2725 - accuracy: 0.1257\n",
      "Epoch 00001: saving model to training_10_3/cp-0001.ckpt\n"
     ]
    },
    {
     "name": "stderr",
     "output_type": "stream",
     "text": [
      "W0622 23:46:04.992820 27080 callbacks.py:241] Method (on_train_batch_end) is slow compared to the batch update (0.518626). Check your callbacks.\n"
     ]
    },
    {
     "name": "stdout",
     "output_type": "stream",
     "text": [
      " 13/468 [..............................] - ETA: 1:06:50 - loss: 2.2569 - accuracy: 0.1286\n",
      "Epoch 00001: saving model to training_10_3/cp-0001.ckpt\n"
     ]
    },
    {
     "name": "stderr",
     "output_type": "stream",
     "text": [
      "W0622 23:46:05.475765 27080 callbacks.py:241] Method (on_train_batch_end) is slow compared to the batch update (0.518626). Check your callbacks.\n"
     ]
    },
    {
     "name": "stdout",
     "output_type": "stream",
     "text": [
      " 14/468 [..............................] - ETA: 1:02:11 - loss: 2.2468 - accuracy: 0.1313\n",
      "Epoch 00001: saving model to training_10_3/cp-0001.ckpt\n"
     ]
    },
    {
     "name": "stderr",
     "output_type": "stream",
     "text": [
      "W0622 23:46:05.939152 27080 callbacks.py:241] Method (on_train_batch_end) is slow compared to the batch update (0.518626). Check your callbacks.\n"
     ]
    },
    {
     "name": "stdout",
     "output_type": "stream",
     "text": [
      " 15/468 [..............................] - ETA: 58:08 - loss: 2.2305 - accuracy: 0.1343  \n",
      "Epoch 00001: saving model to training_10_3/cp-0001.ckpt\n"
     ]
    },
    {
     "name": "stderr",
     "output_type": "stream",
     "text": [
      "W0622 23:46:06.453387 27080 callbacks.py:241] Method (on_train_batch_end) is slow compared to the batch update (0.468283). Check your callbacks.\n"
     ]
    },
    {
     "name": "stdout",
     "output_type": "stream",
     "text": [
      " 16/468 [>.............................] - ETA: 54:38 - loss: 2.2116 - accuracy: 0.1375\n",
      "Epoch 00001: saving model to training_10_3/cp-0001.ckpt\n"
     ]
    },
    {
     "name": "stderr",
     "output_type": "stream",
     "text": [
      "W0622 23:46:07.153356 27080 callbacks.py:241] Method (on_train_batch_end) is slow compared to the batch update (0.468283). Check your callbacks.\n"
     ]
    },
    {
     "name": "stdout",
     "output_type": "stream",
     "text": [
      " 17/468 [>.............................] - ETA: 51:36 - loss: 2.1960 - accuracy: 0.1408\n",
      "Epoch 00001: saving model to training_10_3/cp-0001.ckpt\n"
     ]
    },
    {
     "name": "stderr",
     "output_type": "stream",
     "text": [
      "W0622 23:46:07.531693 27080 callbacks.py:241] Method (on_train_batch_end) is slow compared to the batch update (0.448730). Check your callbacks.\n"
     ]
    },
    {
     "name": "stdout",
     "output_type": "stream",
     "text": [
      " 18/468 [>.............................] - ETA: 48:47 - loss: 2.1815 - accuracy: 0.1441\n",
      "Epoch 00001: saving model to training_10_3/cp-0001.ckpt\n"
     ]
    },
    {
     "name": "stderr",
     "output_type": "stream",
     "text": [
      "W0622 23:46:08.172032 27080 callbacks.py:241] Method (on_train_batch_end) is slow compared to the batch update (0.468283). Check your callbacks.\n"
     ]
    },
    {
     "name": "stdout",
     "output_type": "stream",
     "text": [
      " 19/468 [>.............................] - ETA: 46:22 - loss: 2.1660 - accuracy: 0.1476\n",
      "Epoch 00001: saving model to training_10_3/cp-0001.ckpt\n"
     ]
    },
    {
     "name": "stderr",
     "output_type": "stream",
     "text": [
      "W0622 23:46:08.789886 27080 callbacks.py:241] Method (on_train_batch_end) is slow compared to the batch update (0.484414). Check your callbacks.\n"
     ]
    },
    {
     "name": "stdout",
     "output_type": "stream",
     "text": [
      " 20/468 [>.............................] - ETA: 44:11 - loss: 2.1479 - accuracy: 0.1512\n",
      "Epoch 00001: saving model to training_10_3/cp-0001.ckpt\n"
     ]
    },
    {
     "name": "stderr",
     "output_type": "stream",
     "text": [
      "W0622 23:46:09.226881 27080 callbacks.py:241] Method (on_train_batch_end) is slow compared to the batch update (0.437490). Check your callbacks.\n"
     ]
    },
    {
     "name": "stdout",
     "output_type": "stream",
     "text": [
      " 21/468 [>.............................] - ETA: 42:08 - loss: 2.1290 - accuracy: 0.1548\n",
      "Epoch 00001: saving model to training_10_3/cp-0001.ckpt\n"
     ]
    },
    {
     "name": "stderr",
     "output_type": "stream",
     "text": [
      "W0622 23:46:09.625747 27080 callbacks.py:241] Method (on_train_batch_end) is slow compared to the batch update (0.421844). Check your callbacks.\n"
     ]
    },
    {
     "name": "stdout",
     "output_type": "stream",
     "text": [
      " 22/468 [>.............................] - ETA: 40:16 - loss: 2.1131 - accuracy: 0.1583\n",
      "Epoch 00001: saving model to training_10_3/cp-0001.ckpt\n"
     ]
    },
    {
     "name": "stderr",
     "output_type": "stream",
     "text": [
      "W0622 23:46:10.248490 27080 callbacks.py:241] Method (on_train_batch_end) is slow compared to the batch update (0.437490). Check your callbacks.\n"
     ]
    },
    {
     "name": "stdout",
     "output_type": "stream",
     "text": [
      " 23/468 [>.............................] - ETA: 38:38 - loss: 2.0950 - accuracy: 0.1620\n",
      "Epoch 00001: saving model to training_10_3/cp-0001.ckpt\n"
     ]
    },
    {
     "name": "stderr",
     "output_type": "stream",
     "text": [
      "W0622 23:46:10.880032 27080 callbacks.py:241] Method (on_train_batch_end) is slow compared to the batch update (0.484414). Check your callbacks.\n"
     ]
    },
    {
     "name": "stdout",
     "output_type": "stream",
     "text": [
      " 24/468 [>.............................] - ETA: 37:08 - loss: 2.0738 - accuracy: 0.1657\n",
      "Epoch 00001: saving model to training_10_3/cp-0001.ckpt\n"
     ]
    },
    {
     "name": "stderr",
     "output_type": "stream",
     "text": [
      "W0622 23:46:11.586846 27080 callbacks.py:241] Method (on_train_batch_end) is slow compared to the batch update (0.519603). Check your callbacks.\n"
     ]
    },
    {
     "name": "stdout",
     "output_type": "stream",
     "text": [
      " 25/468 [>.............................] - ETA: 35:47 - loss: 2.0597 - accuracy: 0.1692\n",
      "Epoch 00001: saving model to training_10_3/cp-0001.ckpt\n"
     ]
    },
    {
     "name": "stderr",
     "output_type": "stream",
     "text": [
      "W0622 23:46:12.131379 27080 callbacks.py:241] Method (on_train_batch_end) is slow compared to the batch update (0.519603). Check your callbacks.\n"
     ]
    },
    {
     "name": "stdout",
     "output_type": "stream",
     "text": [
      " 26/468 [>.............................] - ETA: 34:29 - loss: 2.0337 - accuracy: 0.1729\n",
      "Epoch 00001: saving model to training_10_3/cp-0001.ckpt\n"
     ]
    },
    {
     "name": "stderr",
     "output_type": "stream",
     "text": [
      "W0622 23:46:12.673958 27080 callbacks.py:241] Method (on_train_batch_end) is slow compared to the batch update (0.506894). Check your callbacks.\n"
     ]
    },
    {
     "name": "stdout",
     "output_type": "stream",
     "text": [
      " 27/468 [>.............................] - ETA: 33:16 - loss: 2.0088 - accuracy: 0.1766\n",
      "Epoch 00001: saving model to training_10_3/cp-0001.ckpt\n"
     ]
    },
    {
     "name": "stderr",
     "output_type": "stream",
     "text": [
      "W0622 23:46:13.463872 27080 callbacks.py:241] Method (on_train_batch_end) is slow compared to the batch update (0.519603). Check your callbacks.\n"
     ]
    },
    {
     "name": "stdout",
     "output_type": "stream",
     "text": [
      " 28/468 [>.............................] - ETA: 32:13 - loss: 1.9850 - accuracy: 0.1804\n",
      "Epoch 00001: saving model to training_10_3/cp-0001.ckpt\n"
     ]
    },
    {
     "name": "stderr",
     "output_type": "stream",
     "text": [
      "W0622 23:46:14.141359 27080 callbacks.py:241] Method (on_train_batch_end) is slow compared to the batch update (0.519603). Check your callbacks.\n"
     ]
    },
    {
     "name": "stdout",
     "output_type": "stream",
     "text": [
      " 29/468 [>.............................] - ETA: 31:12 - loss: 1.9571 - accuracy: 0.1842\n",
      "Epoch 00001: saving model to training_10_3/cp-0001.ckpt\n"
     ]
    },
    {
     "name": "stderr",
     "output_type": "stream",
     "text": [
      "W0622 23:46:14.758236 27080 callbacks.py:241] Method (on_train_batch_end) is slow compared to the batch update (0.524492). Check your callbacks.\n"
     ]
    },
    {
     "name": "stdout",
     "output_type": "stream",
     "text": [
      " 30/468 [>.............................] - ETA: 30:15 - loss: 1.9320 - accuracy: 0.1881\n",
      "Epoch 00001: saving model to training_10_3/cp-0001.ckpt\n"
     ]
    },
    {
     "name": "stderr",
     "output_type": "stream",
     "text": [
      "W0622 23:46:15.149284 27080 callbacks.py:241] Method (on_train_batch_end) is slow compared to the batch update (0.524492). Check your callbacks.\n"
     ]
    },
    {
     "name": "stdout",
     "output_type": "stream",
     "text": [
      " 31/468 [>.............................] - ETA: 29:18 - loss: 1.9085 - accuracy: 0.1920\n",
      "Epoch 00001: saving model to training_10_3/cp-0001.ckpt\n"
     ]
    },
    {
     "name": "stderr",
     "output_type": "stream",
     "text": [
      "W0622 23:46:15.693815 27080 callbacks.py:241] Method (on_train_batch_end) is slow compared to the batch update (0.524492). Check your callbacks.\n"
     ]
    },
    {
     "name": "stdout",
     "output_type": "stream",
     "text": [
      " 32/468 [=>............................] - ETA: 28:26 - loss: 1.8887 - accuracy: 0.1958\n",
      "Epoch 00001: saving model to training_10_3/cp-0001.ckpt\n"
     ]
    },
    {
     "name": "stderr",
     "output_type": "stream",
     "text": [
      "W0622 23:46:16.128855 27080 callbacks.py:241] Method (on_train_batch_end) is slow compared to the batch update (0.511783). Check your callbacks.\n"
     ]
    },
    {
     "name": "stdout",
     "output_type": "stream",
     "text": [
      " 33/468 [=>............................] - ETA: 27:37 - loss: 1.8667 - accuracy: 0.1997\n",
      "Epoch 00001: saving model to training_10_3/cp-0001.ckpt\n"
     ]
    },
    {
     "name": "stderr",
     "output_type": "stream",
     "text": [
      "W0622 23:46:16.492529 27080 callbacks.py:241] Method (on_train_batch_end) is slow compared to the batch update (0.493696). Check your callbacks.\n"
     ]
    },
    {
     "name": "stdout",
     "output_type": "stream",
     "text": [
      " 34/468 [=>............................] - ETA: 26:49 - loss: 1.8451 - accuracy: 0.2036\n",
      "Epoch 00001: saving model to training_10_3/cp-0001.ckpt\n"
     ]
    },
    {
     "name": "stderr",
     "output_type": "stream",
     "text": [
      "W0622 23:46:16.893352 27080 callbacks.py:241] Method (on_train_batch_end) is slow compared to the batch update (0.467789). Check your callbacks.\n"
     ]
    },
    {
     "name": "stdout",
     "output_type": "stream",
     "text": [
      " 35/468 [=>............................] - ETA: 26:04 - loss: 1.8234 - accuracy: 0.2075\n",
      "Epoch 00001: saving model to training_10_3/cp-0001.ckpt\n"
     ]
    },
    {
     "name": "stderr",
     "output_type": "stream",
     "text": [
      "W0622 23:46:17.188591 27080 callbacks.py:241] Method (on_train_batch_end) is slow compared to the batch update (0.395933). Check your callbacks.\n"
     ]
    },
    {
     "name": "stdout",
     "output_type": "stream",
     "text": [
      " 36/468 [=>............................] - ETA: 25:21 - loss: 1.7994 - accuracy: 0.2114\n",
      "Epoch 00001: saving model to training_10_3/cp-0001.ckpt\n"
     ]
    },
    {
     "name": "stderr",
     "output_type": "stream",
     "text": [
      "W0622 23:46:17.569861 27080 callbacks.py:241] Method (on_train_batch_end) is slow compared to the batch update (0.340211). Check your callbacks.\n"
     ]
    },
    {
     "name": "stdout",
     "output_type": "stream",
     "text": [
      "\b\b\b\b\b\b\b\b\b\b\b\b\b\b\b\b\b\b\b\b\b\b\b\b\b\b\b\b\b\b\b\b\b\b\b\b\b\b\b\b\b\b\b\b\b\b\b\b\b\b\b\b\b\b\b\b\b\b\b\b\b\b\b\b\b\b\b\b\b\b\b\b\b\b\b\b\b\b\b\b\b\b\b\b\b\b\b\r",
      " 37/468 [=>............................] - ETA: 24:41 - loss: 1.7804 - accuracy: 0.2152"
     ]
    },
    {
     "name": "stderr",
     "output_type": "stream",
     "text": [
      "W0622 23:46:17.753654 27080 callbacks.py:241] Method (on_train_batch_end) is slow compared to the batch update (0.330436). Check your callbacks.\n"
     ]
    },
    {
     "name": "stdout",
     "output_type": "stream",
     "text": [
      "\n",
      "Epoch 00001: saving model to training_10_3/cp-0001.ckpt\n",
      " 38/468 [=>............................] - ETA: 24:00 - loss: 1.7601 - accuracy: 0.2190\n",
      "Epoch 00001: saving model to training_10_3/cp-0001.ckpt\n"
     ]
    },
    {
     "name": "stderr",
     "output_type": "stream",
     "text": [
      "W0622 23:46:18.142745 27080 callbacks.py:241] Method (on_train_batch_end) is slow compared to the batch update (0.330436). Check your callbacks.\n"
     ]
    },
    {
     "name": "stdout",
     "output_type": "stream",
     "text": [
      "\b\b\b\b\b\b\b\b\b\b\b\b\b\b\b\b\b\b\b\b\b\b\b\b\b\b\b\b\b\b\b\b\b\b\b\b\b\b\b\b\b\b\b\b\b\b\b\b\b\b\b\b\b\b\b\b\b\b\b\b\b\b\b\b\b\b\b\b\b\b\b\b\b\b\b\b\b\b\b\b\b\b\b\b\b\b\b\r",
      " 39/468 [=>............................] - ETA: 23:24 - loss: 1.7425 - accuracy: 0.2229"
     ]
    },
    {
     "name": "stderr",
     "output_type": "stream",
     "text": [
      "W0622 23:46:18.331424 27080 callbacks.py:241] Method (on_train_batch_end) is slow compared to the batch update (0.309905). Check your callbacks.\n"
     ]
    },
    {
     "name": "stdout",
     "output_type": "stream",
     "text": [
      "\n",
      "Epoch 00001: saving model to training_10_3/cp-0001.ckpt\n",
      " 40/468 [=>............................] - ETA: 22:48 - loss: 1.7235 - accuracy: 0.2267\n",
      "Epoch 00001: saving model to training_10_3/cp-0001.ckpt\n"
     ]
    },
    {
     "name": "stderr",
     "output_type": "stream",
     "text": [
      "W0622 23:46:18.679457 27080 callbacks.py:241] Method (on_train_batch_end) is slow compared to the batch update (0.314793). Check your callbacks.\n"
     ]
    },
    {
     "name": "stdout",
     "output_type": "stream",
     "text": [
      " 41/468 [=>............................] - ETA: 22:15 - loss: 1.7024 - accuracy: 0.2305\n",
      "Epoch 00001: saving model to training_10_3/cp-0001.ckpt\n"
     ]
    },
    {
     "name": "stderr",
     "output_type": "stream",
     "text": [
      "W0622 23:46:18.898442 27080 callbacks.py:241] Method (on_train_batch_end) is slow compared to the batch update (0.283020). Check your callbacks.\n"
     ]
    },
    {
     "name": "stdout",
     "output_type": "stream",
     "text": [
      " 42/468 [=>............................] - ETA: 21:43 - loss: 1.6825 - accuracy: 0.2344\n",
      "Epoch 00001: saving model to training_10_3/cp-0001.ckpt\n"
     ]
    },
    {
     "name": "stderr",
     "output_type": "stream",
     "text": [
      "W0622 23:46:19.236701 27080 callbacks.py:241] Method (on_train_batch_end) is slow compared to the batch update (0.277643). Check your callbacks.\n"
     ]
    },
    {
     "name": "stdout",
     "output_type": "stream",
     "text": [
      " 43/468 [=>............................] - ETA: 21:13 - loss: 1.6626 - accuracy: 0.2382\n",
      "Epoch 00001: saving model to training_10_3/cp-0001.ckpt\n"
     ]
    },
    {
     "name": "stderr",
     "output_type": "stream",
     "text": [
      "W0622 23:46:19.838912 27080 callbacks.py:241] Method (on_train_batch_end) is slow compared to the batch update (0.294752). Check your callbacks.\n"
     ]
    },
    {
     "name": "stdout",
     "output_type": "stream",
     "text": [
      " 44/468 [=>............................] - ETA: 20:47 - loss: 1.6429 - accuracy: 0.2420\n",
      "Epoch 00001: saving model to training_10_3/cp-0001.ckpt\n"
     ]
    },
    {
     "name": "stderr",
     "output_type": "stream",
     "text": [
      "W0622 23:46:20.365846 27080 callbacks.py:241] Method (on_train_batch_end) is slow compared to the batch update (0.294752). Check your callbacks.\n"
     ]
    },
    {
     "name": "stdout",
     "output_type": "stream",
     "text": [
      " 45/468 [=>............................] - ETA: 20:21 - loss: 1.6257 - accuracy: 0.2458\n",
      "Epoch 00001: saving model to training_10_3/cp-0001.ckpt\n"
     ]
    },
    {
     "name": "stderr",
     "output_type": "stream",
     "text": [
      "W0622 23:46:20.621982 27080 callbacks.py:241] Method (on_train_batch_end) is slow compared to the batch update (0.294752). Check your callbacks.\n"
     ]
    },
    {
     "name": "stdout",
     "output_type": "stream",
     "text": [
      " 46/468 [=>............................] - ETA: 19:54 - loss: 1.6084 - accuracy: 0.2495\n",
      "Epoch 00001: saving model to training_10_3/cp-0001.ckpt\n"
     ]
    },
    {
     "name": "stderr",
     "output_type": "stream",
     "text": [
      "W0622 23:46:21.230062 27080 callbacks.py:241] Method (on_train_batch_end) is slow compared to the batch update (0.294752). Check your callbacks.\n"
     ]
    },
    {
     "name": "stdout",
     "output_type": "stream",
     "text": [
      " 47/468 [==>...........................] - ETA: 19:31 - loss: 1.5930 - accuracy: 0.2533\n",
      "Epoch 00001: saving model to training_10_3/cp-0001.ckpt\n"
     ]
    },
    {
     "name": "stderr",
     "output_type": "stream",
     "text": [
      "W0622 23:46:21.840093 27080 callbacks.py:241] Method (on_train_batch_end) is slow compared to the batch update (0.320658). Check your callbacks.\n"
     ]
    },
    {
     "name": "stdout",
     "output_type": "stream",
     "text": [
      " 48/468 [==>...........................] - ETA: 19:09 - loss: 1.5804 - accuracy: 0.2569\n",
      "Epoch 00001: saving model to training_10_3/cp-0001.ckpt\n"
     ]
    },
    {
     "name": "stderr",
     "output_type": "stream",
     "text": [
      "W0622 23:46:22.293708 27080 callbacks.py:241] Method (on_train_batch_end) is slow compared to the batch update (0.327990). Check your callbacks.\n"
     ]
    },
    {
     "name": "stdout",
     "output_type": "stream",
     "text": [
      " 49/468 [==>...........................] - ETA: 18:47 - loss: 1.5631 - accuracy: 0.2606\n",
      "Epoch 00001: saving model to training_10_3/cp-0001.ckpt\n"
     ]
    },
    {
     "name": "stderr",
     "output_type": "stream",
     "text": [
      "W0622 23:46:22.767853 27080 callbacks.py:241] Method (on_train_batch_end) is slow compared to the batch update (0.361229). Check your callbacks.\n"
     ]
    },
    {
     "name": "stdout",
     "output_type": "stream",
     "text": [
      " 50/468 [==>...........................] - ETA: 18:26 - loss: 1.5479 - accuracy: 0.2642\n",
      "Epoch 00001: saving model to training_10_3/cp-0001.ckpt\n"
     ]
    },
    {
     "name": "stderr",
     "output_type": "stream",
     "text": [
      "W0622 23:46:23.131525 27080 callbacks.py:241] Method (on_train_batch_end) is slow compared to the batch update (0.361229). Check your callbacks.\n"
     ]
    },
    {
     "name": "stdout",
     "output_type": "stream",
     "text": [
      " 51/468 [==>...........................] - ETA: 18:05 - loss: 1.5325 - accuracy: 0.2678\n",
      "Epoch 00001: saving model to training_10_3/cp-0001.ckpt\n"
     ]
    },
    {
     "name": "stderr",
     "output_type": "stream",
     "text": [
      "W0622 23:46:23.656505 27080 callbacks.py:241] Method (on_train_batch_end) is slow compared to the batch update (0.399355). Check your callbacks.\n"
     ]
    },
    {
     "name": "stdout",
     "output_type": "stream",
     "text": [
      " 52/468 [==>...........................] - ETA: 17:45 - loss: 1.5163 - accuracy: 0.2714\n",
      "Epoch 00001: saving model to training_10_3/cp-0001.ckpt\n"
     ]
    },
    {
     "name": "stderr",
     "output_type": "stream",
     "text": [
      "W0622 23:46:24.013334 27080 callbacks.py:241] Method (on_train_batch_end) is slow compared to the batch update (0.399355). Check your callbacks.\n"
     ]
    },
    {
     "name": "stdout",
     "output_type": "stream",
     "text": [
      " 53/468 [==>...........................] - ETA: 17:26 - loss: 1.5018 - accuracy: 0.2749\n",
      "Epoch 00001: saving model to training_10_3/cp-0001.ckpt\n"
     ]
    },
    {
     "name": "stderr",
     "output_type": "stream",
     "text": [
      "W0622 23:46:24.531472 27080 callbacks.py:241] Method (on_train_batch_end) is slow compared to the batch update (0.399355). Check your callbacks.\n"
     ]
    },
    {
     "name": "stdout",
     "output_type": "stream",
     "text": [
      " 54/468 [==>...........................] - ETA: 17:08 - loss: 1.4910 - accuracy: 0.2784\n",
      "Epoch 00001: saving model to training_10_3/cp-0001.ckpt\n"
     ]
    },
    {
     "name": "stderr",
     "output_type": "stream",
     "text": [
      "W0622 23:46:25.066231 27080 callbacks.py:241] Method (on_train_batch_end) is slow compared to the batch update (0.383225). Check your callbacks.\n"
     ]
    },
    {
     "name": "stdout",
     "output_type": "stream",
     "text": [
      " 55/468 [==>...........................] - ETA: 16:51 - loss: 1.4776 - accuracy: 0.2818\n",
      "Epoch 00001: saving model to training_10_3/cp-0001.ckpt\n"
     ]
    },
    {
     "name": "stderr",
     "output_type": "stream",
     "text": [
      "W0622 23:46:25.706570 27080 callbacks.py:241] Method (on_train_batch_end) is slow compared to the batch update (0.416953). Check your callbacks.\n"
     ]
    },
    {
     "name": "stdout",
     "output_type": "stream",
     "text": [
      " 56/468 [==>...........................] - ETA: 16:35 - loss: 1.4659 - accuracy: 0.2852\n",
      "Epoch 00001: saving model to training_10_3/cp-0001.ckpt\n"
     ]
    },
    {
     "name": "stderr",
     "output_type": "stream",
     "text": [
      "W0622 23:46:26.284342 27080 callbacks.py:241] Method (on_train_batch_end) is slow compared to the batch update (0.416953). Check your callbacks.\n"
     ]
    },
    {
     "name": "stdout",
     "output_type": "stream",
     "text": [
      " 57/468 [==>...........................] - ETA: 16:19 - loss: 1.4528 - accuracy: 0.2886\n",
      "Epoch 00001: saving model to training_10_3/cp-0001.ckpt\n"
     ]
    },
    {
     "name": "stderr",
     "output_type": "stream",
     "text": [
      "W0622 23:46:26.588378 27080 callbacks.py:241] Method (on_train_batch_end) is slow compared to the batch update (0.383225). Check your callbacks.\n"
     ]
    },
    {
     "name": "stdout",
     "output_type": "stream",
     "text": [
      " 58/468 [==>...........................] - ETA: 16:02 - loss: 1.4434 - accuracy: 0.2919\n",
      "Epoch 00001: saving model to training_10_3/cp-0001.ckpt\n"
     ]
    },
    {
     "name": "stderr",
     "output_type": "stream",
     "text": [
      "W0622 23:46:26.816163 27080 callbacks.py:241] Method (on_train_batch_end) is slow compared to the batch update (0.383225). Check your callbacks.\n"
     ]
    },
    {
     "name": "stdout",
     "output_type": "stream",
     "text": [
      " 59/468 [==>...........................] - ETA: 15:45 - loss: 1.4328 - accuracy: 0.2952\n",
      "Epoch 00001: saving model to training_10_3/cp-0001.ckpt\n"
     ]
    },
    {
     "name": "stderr",
     "output_type": "stream",
     "text": [
      "W0622 23:46:27.384160 27080 callbacks.py:241] Method (on_train_batch_end) is slow compared to the batch update (0.416953). Check your callbacks.\n"
     ]
    },
    {
     "name": "stdout",
     "output_type": "stream",
     "text": [
      " 60/468 [==>...........................] - ETA: 15:31 - loss: 1.4207 - accuracy: 0.2984\n",
      "Epoch 00001: saving model to training_10_3/cp-0001.ckpt\n"
     ]
    },
    {
     "name": "stderr",
     "output_type": "stream",
     "text": [
      "W0622 23:46:28.052848 27080 callbacks.py:241] Method (on_train_batch_end) is slow compared to the batch update (0.441883). Check your callbacks.\n"
     ]
    },
    {
     "name": "stdout",
     "output_type": "stream",
     "text": [
      " 61/468 [==>...........................] - ETA: 15:18 - loss: 1.4082 - accuracy: 0.3017\n",
      "Epoch 00001: saving model to training_10_3/cp-0001.ckpt\n"
     ]
    },
    {
     "name": "stderr",
     "output_type": "stream",
     "text": [
      "W0622 23:46:28.618889 27080 callbacks.py:241] Method (on_train_batch_end) is slow compared to the batch update (0.433084). Check your callbacks.\n"
     ]
    },
    {
     "name": "stdout",
     "output_type": "stream",
     "text": [
      " 62/468 [==>...........................] - ETA: 15:05 - loss: 1.3983 - accuracy: 0.3048\n",
      "Epoch 00001: saving model to training_10_3/cp-0001.ckpt\n"
     ]
    },
    {
     "name": "stderr",
     "output_type": "stream",
     "text": [
      "W0622 23:46:29.154622 27080 callbacks.py:241] Method (on_train_batch_end) is slow compared to the batch update (0.433084). Check your callbacks.\n"
     ]
    },
    {
     "name": "stdout",
     "output_type": "stream",
     "text": [
      " 63/468 [===>..........................] - ETA: 14:51 - loss: 1.3878 - accuracy: 0.3080\n",
      "Epoch 00001: saving model to training_10_3/cp-0001.ckpt\n"
     ]
    },
    {
     "name": "stderr",
     "output_type": "stream",
     "text": [
      "W0622 23:46:29.565221 27080 callbacks.py:241] Method (on_train_batch_end) is slow compared to the batch update (0.412554). Check your callbacks.\n"
     ]
    },
    {
     "name": "stdout",
     "output_type": "stream",
     "text": [
      " 64/468 [===>..........................] - ETA: 14:38 - loss: 1.3785 - accuracy: 0.3111\n",
      "Epoch 00001: saving model to training_10_3/cp-0001.ckpt\n"
     ]
    },
    {
     "name": "stderr",
     "output_type": "stream",
     "text": [
      "W0622 23:46:29.966044 27080 callbacks.py:241] Method (on_train_batch_end) is slow compared to the batch update (0.412554). Check your callbacks.\n"
     ]
    },
    {
     "name": "stdout",
     "output_type": "stream",
     "text": [
      " 65/468 [===>..........................] - ETA: 14:25 - loss: 1.3674 - accuracy: 0.3142\n",
      "Epoch 00001: saving model to training_10_3/cp-0001.ckpt\n"
     ]
    },
    {
     "name": "stderr",
     "output_type": "stream",
     "text": [
      "W0622 23:46:30.247598 27080 callbacks.py:241] Method (on_train_batch_end) is slow compared to the batch update (0.374916). Check your callbacks.\n"
     ]
    },
    {
     "name": "stdout",
     "output_type": "stream",
     "text": [
      " 66/468 [===>..........................] - ETA: 14:11 - loss: 1.3581 - accuracy: 0.3172\n",
      "Epoch 00001: saving model to training_10_3/cp-0001.ckpt\n"
     ]
    },
    {
     "name": "stderr",
     "output_type": "stream",
     "text": [
      "W0622 23:46:30.554569 27080 callbacks.py:241] Method (on_train_batch_end) is slow compared to the batch update (0.334345). Check your callbacks.\n"
     ]
    },
    {
     "name": "stdout",
     "output_type": "stream",
     "text": [
      " 67/468 [===>..........................] - ETA: 13:58 - loss: 1.3472 - accuracy: 0.3202\n",
      "Epoch 00001: saving model to training_10_3/cp-0001.ckpt\n"
     ]
    },
    {
     "name": "stderr",
     "output_type": "stream",
     "text": [
      "W0622 23:46:30.760846 27080 callbacks.py:241] Method (on_train_batch_end) is slow compared to the batch update (0.334345). Check your callbacks.\n"
     ]
    },
    {
     "name": "stdout",
     "output_type": "stream",
     "text": [
      " 68/468 [===>..........................] - ETA: 13:45 - loss: 1.3367 - accuracy: 0.3232\n",
      "Epoch 00001: saving model to training_10_3/cp-0001.ckpt\n"
     ]
    },
    {
     "name": "stderr",
     "output_type": "stream",
     "text": [
      "W0622 23:46:31.504814 27080 callbacks.py:241] Method (on_train_batch_end) is slow compared to the batch update (0.374916). Check your callbacks.\n"
     ]
    },
    {
     "name": "stdout",
     "output_type": "stream",
     "text": [
      " 69/468 [===>..........................] - ETA: 13:35 - loss: 1.3280 - accuracy: 0.3261\n",
      "Epoch 00001: saving model to training_10_3/cp-0001.ckpt\n"
     ]
    },
    {
     "name": "stderr",
     "output_type": "stream",
     "text": [
      "W0622 23:46:32.104095 27080 callbacks.py:241] Method (on_train_batch_end) is slow compared to the batch update (0.374916). Check your callbacks.\n"
     ]
    },
    {
     "name": "stdout",
     "output_type": "stream",
     "text": [
      " 70/468 [===>..........................] - ETA: 13:25 - loss: 1.3170 - accuracy: 0.3291\n",
      "Epoch 00001: saving model to training_10_3/cp-0001.ckpt\n"
     ]
    },
    {
     "name": "stderr",
     "output_type": "stream",
     "text": [
      "W0622 23:46:32.664268 27080 callbacks.py:241] Method (on_train_batch_end) is slow compared to the batch update (0.374916). Check your callbacks.\n"
     ]
    },
    {
     "name": "stdout",
     "output_type": "stream",
     "text": [
      " 71/468 [===>..........................] - ETA: 13:15 - loss: 1.3091 - accuracy: 0.3319\n",
      "Epoch 00001: saving model to training_10_3/cp-0001.ckpt\n"
     ]
    },
    {
     "name": "stderr",
     "output_type": "stream",
     "text": [
      "W0622 23:46:33.223465 27080 callbacks.py:241] Method (on_train_batch_end) is slow compared to the batch update (0.374916). Check your callbacks.\n"
     ]
    },
    {
     "name": "stdout",
     "output_type": "stream",
     "text": [
      " 72/468 [===>..........................] - ETA: 13:05 - loss: 1.3017 - accuracy: 0.3348\n",
      "Epoch 00001: saving model to training_10_3/cp-0001.ckpt\n"
     ]
    },
    {
     "name": "stderr",
     "output_type": "stream",
     "text": [
      "W0622 23:46:33.681966 27080 callbacks.py:241] Method (on_train_batch_end) is slow compared to the batch update (0.334345). Check your callbacks.\n"
     ]
    },
    {
     "name": "stdout",
     "output_type": "stream",
     "text": [
      " 73/468 [===>..........................] - ETA: 12:55 - loss: 1.2919 - accuracy: 0.3376\n",
      "Epoch 00001: saving model to training_10_3/cp-0001.ckpt\n"
     ]
    },
    {
     "name": "stderr",
     "output_type": "stream",
     "text": [
      "W0622 23:46:34.230412 27080 callbacks.py:241] Method (on_train_batch_end) is slow compared to the batch update (0.382735). Check your callbacks.\n"
     ]
    },
    {
     "name": "stdout",
     "output_type": "stream",
     "text": [
      " 74/468 [===>..........................] - ETA: 12:45 - loss: 1.2847 - accuracy: 0.3403\n",
      "Epoch 00001: saving model to training_10_3/cp-0001.ckpt\n"
     ]
    },
    {
     "name": "stderr",
     "output_type": "stream",
     "text": [
      "W0622 23:46:34.790587 27080 callbacks.py:241] Method (on_train_batch_end) is slow compared to the batch update (0.425261). Check your callbacks.\n"
     ]
    },
    {
     "name": "stdout",
     "output_type": "stream",
     "text": [
      " 75/468 [===>..........................] - ETA: 12:36 - loss: 1.2760 - accuracy: 0.3431\n",
      "Epoch 00001: saving model to training_10_3/cp-0001.ckpt\n"
     ]
    },
    {
     "name": "stderr",
     "output_type": "stream",
     "text": [
      "W0622 23:46:35.471984 27080 callbacks.py:241] Method (on_train_batch_end) is slow compared to the batch update (0.429173). Check your callbacks.\n"
     ]
    },
    {
     "name": "stdout",
     "output_type": "stream",
     "text": [
      " 76/468 [===>..........................] - ETA: 12:28 - loss: 1.2660 - accuracy: 0.3458\n",
      "Epoch 00001: saving model to training_10_3/cp-0001.ckpt\n"
     ]
    },
    {
     "name": "stderr",
     "output_type": "stream",
     "text": [
      "W0622 23:46:35.837611 27080 callbacks.py:241] Method (on_train_batch_end) is slow compared to the batch update (0.429173). Check your callbacks.\n"
     ]
    },
    {
     "name": "stdout",
     "output_type": "stream",
     "text": [
      " 77/468 [===>..........................] - ETA: 12:18 - loss: 1.2572 - accuracy: 0.3485\n",
      "Epoch 00001: saving model to training_10_3/cp-0001.ckpt\n"
     ]
    },
    {
     "name": "stderr",
     "output_type": "stream",
     "text": [
      "W0622 23:46:36.132852 27080 callbacks.py:241] Method (on_train_batch_end) is slow compared to the batch update (0.429173). Check your callbacks.\n"
     ]
    },
    {
     "name": "stdout",
     "output_type": "stream",
     "text": [
      " 78/468 [====>.........................] - ETA: 12:08 - loss: 1.2484 - accuracy: 0.3512\n",
      "Epoch 00001: saving model to training_10_3/cp-0001.ckpt\n"
     ]
    },
    {
     "name": "stderr",
     "output_type": "stream",
     "text": [
      "W0622 23:46:37.091777 27080 callbacks.py:241] Method (on_train_batch_end) is slow compared to the batch update (0.429173). Check your callbacks.\n"
     ]
    },
    {
     "name": "stdout",
     "output_type": "stream",
     "text": [
      " 79/468 [====>.........................] - ETA: 12:02 - loss: 1.2397 - accuracy: 0.3538\n",
      "Epoch 00001: saving model to training_10_3/cp-0001.ckpt\n"
     ]
    },
    {
     "name": "stderr",
     "output_type": "stream",
     "text": [
      "W0622 23:46:37.324939 27080 callbacks.py:241] Method (on_train_batch_end) is slow compared to the batch update (0.425261). Check your callbacks.\n"
     ]
    },
    {
     "name": "stdout",
     "output_type": "stream",
     "text": [
      " 80/468 [====>.........................] - ETA: 11:52 - loss: 1.2318 - accuracy: 0.3564\n",
      "Epoch 00001: saving model to training_10_3/cp-0001.ckpt\n"
     ]
    },
    {
     "name": "stderr",
     "output_type": "stream",
     "text": [
      "W0622 23:46:37.830746 27080 callbacks.py:241] Method (on_train_batch_end) is slow compared to the batch update (0.428195). Check your callbacks.\n"
     ]
    },
    {
     "name": "stdout",
     "output_type": "stream",
     "text": [
      " 81/468 [====>.........................] - ETA: 11:44 - loss: 1.2257 - accuracy: 0.3590\n",
      "Epoch 00001: saving model to training_10_3/cp-0001.ckpt\n"
     ]
    },
    {
     "name": "stderr",
     "output_type": "stream",
     "text": [
      "W0622 23:46:38.169979 27080 callbacks.py:241] Method (on_train_batch_end) is slow compared to the batch update (0.360740). Check your callbacks.\n"
     ]
    },
    {
     "name": "stdout",
     "output_type": "stream",
     "text": [
      " 82/468 [====>.........................] - ETA: 11:35 - loss: 1.2181 - accuracy: 0.3616\n",
      "Epoch 00001: saving model to training_10_3/cp-0001.ckpt\n"
     ]
    },
    {
     "name": "stderr",
     "output_type": "stream",
     "text": [
      "W0622 23:46:38.701802 27080 callbacks.py:241] Method (on_train_batch_end) is slow compared to the batch update (0.438817). Check your callbacks.\n"
     ]
    },
    {
     "name": "stdout",
     "output_type": "stream",
     "text": [
      " 83/468 [====>.........................] - ETA: 11:27 - loss: 1.2109 - accuracy: 0.3641\n",
      "Epoch 00001: saving model to training_10_3/cp-0001.ckpt\n"
     ]
    },
    {
     "name": "stderr",
     "output_type": "stream",
     "text": [
      "W0622 23:46:38.995090 27080 callbacks.py:241] Method (on_train_batch_end) is slow compared to the batch update (0.360740). Check your callbacks.\n"
     ]
    },
    {
     "name": "stdout",
     "output_type": "stream",
     "text": [
      " 84/468 [====>.........................] - ETA: 11:19 - loss: 1.2038 - accuracy: 0.3666\n",
      "Epoch 00001: saving model to training_10_3/cp-0001.ckpt\n"
     ]
    },
    {
     "name": "stderr",
     "output_type": "stream",
     "text": [
      "W0622 23:46:39.422308 27080 callbacks.py:241] Method (on_train_batch_end) is slow compared to the batch update (0.317724). Check your callbacks.\n"
     ]
    },
    {
     "name": "stdout",
     "output_type": "stream",
     "text": [
      "\b\b\b\b\b\b\b\b\b\b\b\b\b\b\b\b\b\b\b\b\b\b\b\b\b\b\b\b\b\b\b\b\b\b\b\b\b\b\b\b\b\b\b\b\b\b\b\b\b\b\b\b\b\b\b\b\b\b\b\b\b\b\b\b\b\b\b\b\b\b\b\b\b\b\b\b\b\b\b\b\b\b\b\b\b\b\b\r",
      " 85/468 [====>.........................] - ETA: 11:11 - loss: 1.1960 - accuracy: 0.3691"
     ]
    },
    {
     "name": "stderr",
     "output_type": "stream",
     "text": [
      "W0622 23:46:39.598279 27080 callbacks.py:241] Method (on_train_batch_end) is slow compared to the batch update (0.269333). Check your callbacks.\n"
     ]
    },
    {
     "name": "stdout",
     "output_type": "stream",
     "text": [
      "\n",
      "Epoch 00001: saving model to training_10_3/cp-0001.ckpt\n",
      " 86/468 [====>.........................] - ETA: 11:02 - loss: 1.1882 - accuracy: 0.3716\n",
      "Epoch 00001: saving model to training_10_3/cp-0001.ckpt\n"
     ]
    },
    {
     "name": "stderr",
     "output_type": "stream",
     "text": [
      "W0622 23:46:39.963907 27080 callbacks.py:241] Method (on_train_batch_end) is slow compared to the batch update (0.300127). Check your callbacks.\n"
     ]
    },
    {
     "name": "stdout",
     "output_type": "stream",
     "text": [
      " 87/468 [====>.........................] - ETA: 10:54 - loss: 1.1803 - accuracy: 0.3740\n",
      "Epoch 00001: saving model to training_10_3/cp-0001.ckpt\n"
     ]
    },
    {
     "name": "stderr",
     "output_type": "stream",
     "text": [
      "W0622 23:46:40.243505 27080 callbacks.py:241] Method (on_train_batch_end) is slow compared to the batch update (0.300127). Check your callbacks.\n"
     ]
    },
    {
     "name": "stdout",
     "output_type": "stream",
     "text": [
      " 88/468 [====>.........................] - ETA: 10:46 - loss: 1.1731 - accuracy: 0.3764\n",
      "Epoch 00001: saving model to training_10_3/cp-0001.ckpt\n"
     ]
    },
    {
     "name": "stderr",
     "output_type": "stream",
     "text": [
      "W0622 23:46:40.482043 27080 callbacks.py:241] Method (on_train_batch_end) is slow compared to the batch update (0.261512). Check your callbacks.\n"
     ]
    },
    {
     "name": "stdout",
     "output_type": "stream",
     "text": [
      " 89/468 [====>.........................] - ETA: 10:39 - loss: 1.1670 - accuracy: 0.3788\n",
      "Epoch 00001: saving model to training_10_3/cp-0001.ckpt\n"
     ]
    },
    {
     "name": "stderr",
     "output_type": "stream",
     "text": [
      "W0622 23:46:40.769463 27080 callbacks.py:241] Method (on_train_batch_end) is slow compared to the batch update (0.263956). Check your callbacks.\n"
     ]
    },
    {
     "name": "stdout",
     "output_type": "stream",
     "text": [
      " 90/468 [====>.........................] - ETA: 10:31 - loss: 1.1607 - accuracy: 0.3812\n",
      "Epoch 00001: saving model to training_10_3/cp-0001.ckpt\n"
     ]
    },
    {
     "name": "stderr",
     "output_type": "stream",
     "text": [
      "W0622 23:46:41.193747 27080 callbacks.py:241] Method (on_train_batch_end) is slow compared to the batch update (0.263956). Check your callbacks.\n"
     ]
    },
    {
     "name": "stdout",
     "output_type": "stream",
     "text": [
      " 91/468 [====>.........................] - ETA: 10:24 - loss: 1.1534 - accuracy: 0.3835\n",
      "Epoch 00001: saving model to training_10_3/cp-0001.ckpt\n"
     ]
    },
    {
     "name": "stderr",
     "output_type": "stream",
     "text": [
      "W0622 23:46:41.619990 27080 callbacks.py:241] Method (on_train_batch_end) is slow compared to the batch update (0.274711). Check your callbacks.\n"
     ]
    },
    {
     "name": "stdout",
     "output_type": "stream",
     "text": [
      " 92/468 [====>.........................] - ETA: 10:17 - loss: 1.1473 - accuracy: 0.3858\n",
      "Epoch 00001: saving model to training_10_3/cp-0001.ckpt\n"
     ]
    },
    {
     "name": "stderr",
     "output_type": "stream",
     "text": [
      "W0622 23:46:42.184081 27080 callbacks.py:241] Method (on_train_batch_end) is slow compared to the batch update (0.274711). Check your callbacks.\n"
     ]
    },
    {
     "name": "stdout",
     "output_type": "stream",
     "text": [
      " 93/468 [====>.........................] - ETA: 10:11 - loss: 1.1394 - accuracy: 0.3881\n",
      "Epoch 00001: saving model to training_10_3/cp-0001.ckpt\n"
     ]
    },
    {
     "name": "stderr",
     "output_type": "stream",
     "text": [
      "W0622 23:46:42.888940 27080 callbacks.py:241] Method (on_train_batch_end) is slow compared to the batch update (0.328479). Check your callbacks.\n"
     ]
    },
    {
     "name": "stdout",
     "output_type": "stream",
     "text": [
      " 94/468 [=====>........................] - ETA: 10:06 - loss: 1.1327 - accuracy: 0.3904\n",
      "Epoch 00001: saving model to training_10_3/cp-0001.ckpt\n"
     ]
    },
    {
     "name": "stderr",
     "output_type": "stream",
     "text": [
      "W0622 23:46:43.392410 27080 callbacks.py:241] Method (on_train_batch_end) is slow compared to the batch update (0.333856). Check your callbacks.\n"
     ]
    },
    {
     "name": "stdout",
     "output_type": "stream",
     "text": [
      " 95/468 [=====>........................] - ETA: 10:00 - loss: 1.1253 - accuracy: 0.3927\n",
      "Epoch 00001: saving model to training_10_3/cp-0001.ckpt\n"
     ]
    },
    {
     "name": "stderr",
     "output_type": "stream",
     "text": [
      "W0622 23:46:44.001467 27080 callbacks.py:241] Method (on_train_batch_end) is slow compared to the batch update (0.362695). Check your callbacks.\n"
     ]
    },
    {
     "name": "stdout",
     "output_type": "stream",
     "text": [
      " 96/468 [=====>........................] - ETA: 9:55 - loss: 1.1186 - accuracy: 0.3949 \n",
      "Epoch 00001: saving model to training_10_3/cp-0001.ckpt\n"
     ]
    },
    {
     "name": "stderr",
     "output_type": "stream",
     "text": [
      "W0622 23:46:44.457034 27080 callbacks.py:241] Method (on_train_batch_end) is slow compared to the batch update (0.362695). Check your callbacks.\n"
     ]
    },
    {
     "name": "stdout",
     "output_type": "stream",
     "text": [
      " 97/468 [=====>........................] - ETA: 9:49 - loss: 1.1115 - accuracy: 0.3972\n",
      "Epoch 00001: saving model to training_10_3/cp-0001.ckpt\n"
     ]
    },
    {
     "name": "stderr",
     "output_type": "stream",
     "text": [
      "W0622 23:46:44.748363 27080 callbacks.py:241] Method (on_train_batch_end) is slow compared to the batch update (0.362695). Check your callbacks.\n"
     ]
    },
    {
     "name": "stdout",
     "output_type": "stream",
     "text": [
      " 98/468 [=====>........................] - ETA: 9:42 - loss: 1.1050 - accuracy: 0.3994\n",
      "Epoch 00001: saving model to training_10_3/cp-0001.ckpt\n"
     ]
    },
    {
     "name": "stderr",
     "output_type": "stream",
     "text": [
      "W0622 23:46:45.207844 27080 callbacks.py:241] Method (on_train_batch_end) is slow compared to the batch update (0.371004). Check your callbacks.\n"
     ]
    },
    {
     "name": "stdout",
     "output_type": "stream",
     "text": [
      " 99/468 [=====>........................] - ETA: 9:36 - loss: 1.0986 - accuracy: 0.4015\n",
      "Epoch 00001: saving model to training_10_3/cp-0001.ckpt\n"
     ]
    },
    {
     "name": "stderr",
     "output_type": "stream",
     "text": [
      "W0622 23:46:45.486466 27080 callbacks.py:241] Method (on_train_batch_end) is slow compared to the batch update (0.371004). Check your callbacks.\n"
     ]
    },
    {
     "name": "stdout",
     "output_type": "stream",
     "text": [
      "100/468 [=====>........................] - ETA: 9:30 - loss: 1.0921 - accuracy: 0.4037\n",
      "Epoch 00001: saving model to training_10_3/cp-0001.ckpt\n"
     ]
    },
    {
     "name": "stderr",
     "output_type": "stream",
     "text": [
      "W0622 23:46:45.768020 27080 callbacks.py:241] Method (on_train_batch_end) is slow compared to the batch update (0.362695). Check your callbacks.\n"
     ]
    },
    {
     "name": "stdout",
     "output_type": "stream",
     "text": [
      "101/468 [=====>........................] - ETA: 9:24 - loss: 1.0866 - accuracy: 0.4059\n",
      "Epoch 00001: saving model to training_10_3/cp-0001.ckpt\n"
     ]
    },
    {
     "name": "stderr",
     "output_type": "stream",
     "text": [
      "W0622 23:46:45.978207 27080 callbacks.py:241] Method (on_train_batch_end) is slow compared to the batch update (0.349009). Check your callbacks.\n"
     ]
    },
    {
     "name": "stdout",
     "output_type": "stream",
     "text": [
      "102/468 [=====>........................] - ETA: 9:18 - loss: 1.0827 - accuracy: 0.4080\n",
      "Epoch 00001: saving model to training_10_3/cp-0001.ckpt\n"
     ]
    },
    {
     "name": "stderr",
     "output_type": "stream",
     "text": [
      "W0622 23:46:46.347745 27080 callbacks.py:241] Method (on_train_batch_end) is slow compared to the batch update (0.327013). Check your callbacks.\n"
     ]
    },
    {
     "name": "stdout",
     "output_type": "stream",
     "text": [
      "\b\b\b\b\b\b\b\b\b\b\b\b\b\b\b\b\b\b\b\b\b\b\b\b\b\b\b\b\b\b\b\b\b\b\b\b\b\b\b\b\b\b\b\b\b\b\b\b\b\b\b\b\b\b\b\b\b\b\b\b\b\b\b\b\b\b\b\b\b\b\b\b\b\b\b\b\b\b\b\b\b\b\b\b\b\b\r",
      "103/468 [=====>........................] - ETA: 9:12 - loss: 1.0769 - accuracy: 0.4101"
     ]
    },
    {
     "name": "stderr",
     "output_type": "stream",
     "text": [
      "W0622 23:46:46.519805 27080 callbacks.py:241] Method (on_train_batch_end) is slow compared to the batch update (0.279599). Check your callbacks.\n"
     ]
    },
    {
     "name": "stdout",
     "output_type": "stream",
     "text": [
      "\n",
      "Epoch 00001: saving model to training_10_3/cp-0001.ckpt\n",
      "104/468 [=====>........................] - ETA: 9:06 - loss: 1.0719 - accuracy: 0.4121\n",
      "Epoch 00001: saving model to training_10_3/cp-0001.ckpt\n"
     ]
    },
    {
     "name": "stderr",
     "output_type": "stream",
     "text": [
      "W0622 23:46:46.966576 27080 callbacks.py:241] Method (on_train_batch_end) is slow compared to the batch update (0.279599). Check your callbacks.\n"
     ]
    },
    {
     "name": "stdout",
     "output_type": "stream",
     "text": [
      "\b\b\b\b\b\b\b\b\b\b\b\b\b\b\b\b\b\b\b\b\b\b\b\b\b\b\b\b\b\b\b\b\b\b\b\b\b\b\b\b\b\b\b\b\b\b\b\b\b\b\b\b\b\b\b\b\b\b\b\b\b\b\b\b\b\b\b\b\b\b\b\b\b\b\b\b\b\b\b\b\b\b\b\b\b\b\r",
      "105/468 [=====>........................] - ETA: 9:01 - loss: 1.0657 - accuracy: 0.4142"
     ]
    },
    {
     "name": "stderr",
     "output_type": "stream",
     "text": [
      "W0622 23:46:47.152324 27080 callbacks.py:241] Method (on_train_batch_end) is slow compared to the batch update (0.230719). Check your callbacks.\n"
     ]
    },
    {
     "name": "stdout",
     "output_type": "stream",
     "text": [
      "\n",
      "Epoch 00001: saving model to training_10_3/cp-0001.ckpt\n",
      "106/468 [=====>........................] - ETA: 8:55 - loss: 1.0602 - accuracy: 0.4162\n",
      "Epoch 00001: saving model to training_10_3/cp-0001.ckpt"
     ]
    },
    {
     "name": "stderr",
     "output_type": "stream",
     "text": [
      "W0622 23:46:47.357624 27080 callbacks.py:241] Method (on_train_batch_end) is slow compared to the batch update (0.211165). Check your callbacks.\n"
     ]
    },
    {
     "name": "stdout",
     "output_type": "stream",
     "text": [
      "\n",
      "107/468 [=====>........................] - ETA: 8:49 - loss: 1.0543 - accuracy: 0.4182\n",
      "Epoch 00001: saving model to training_10_3/cp-0001.ckpt\n"
     ]
    },
    {
     "name": "stderr",
     "output_type": "stream",
     "text": [
      "W0622 23:46:47.687080 27080 callbacks.py:241] Method (on_train_batch_end) is slow compared to the batch update (0.230719). Check your callbacks.\n"
     ]
    },
    {
     "name": "stdout",
     "output_type": "stream",
     "text": [
      "108/468 [=====>........................] - ETA: 8:44 - loss: 1.0491 - accuracy: 0.4202\n",
      "Epoch 00001: saving model to training_10_3/cp-0001.ckpt\n"
     ]
    },
    {
     "name": "stderr",
     "output_type": "stream",
     "text": [
      "W0622 23:46:48.124074 27080 callbacks.py:241] Method (on_train_batch_end) is slow compared to the batch update (0.230719). Check your callbacks.\n"
     ]
    },
    {
     "name": "stdout",
     "output_type": "stream",
     "text": [
      "109/468 [=====>........................] - ETA: 8:39 - loss: 1.0437 - accuracy: 0.4222\n",
      "Epoch 00001: saving model to training_10_3/cp-0001.ckpt\n"
     ]
    },
    {
     "name": "stderr",
     "output_type": "stream",
     "text": [
      "W0622 23:46:48.577690 27080 callbacks.py:241] Method (on_train_batch_end) is slow compared to the batch update (0.259558). Check your callbacks.\n"
     ]
    },
    {
     "name": "stdout",
     "output_type": "stream",
     "text": [
      "110/468 [======>.......................] - ETA: 8:34 - loss: 1.0382 - accuracy: 0.4242\n",
      "Epoch 00001: saving model to training_10_3/cp-0001.ckpt\n"
     ]
    },
    {
     "name": "stderr",
     "output_type": "stream",
     "text": [
      "W0622 23:46:48.977536 27080 callbacks.py:241] Method (on_train_batch_end) is slow compared to the batch update (0.304527). Check your callbacks.\n"
     ]
    },
    {
     "name": "stdout",
     "output_type": "stream",
     "text": [
      "111/468 [======>.......................] - ETA: 8:29 - loss: 1.0334 - accuracy: 0.4261\n",
      "Epoch 00001: saving model to training_10_3/cp-0001.ckpt\n"
     ]
    },
    {
     "name": "stderr",
     "output_type": "stream",
     "text": [
      "W0622 23:46:49.411598 27080 callbacks.py:241] Method (on_train_batch_end) is slow compared to the batch update (0.326524). Check your callbacks.\n"
     ]
    },
    {
     "name": "stdout",
     "output_type": "stream",
     "text": [
      "112/468 [======>.......................] - ETA: 8:25 - loss: 1.0291 - accuracy: 0.4280\n",
      "Epoch 00001: saving model to training_10_3/cp-0001.ckpt\n"
     ]
    },
    {
     "name": "stderr",
     "output_type": "stream",
     "text": [
      "W0622 23:46:49.785048 27080 callbacks.py:241] Method (on_train_batch_end) is slow compared to the batch update (0.306483). Check your callbacks.\n"
     ]
    },
    {
     "name": "stdout",
     "output_type": "stream",
     "text": [
      "113/468 [======>.......................] - ETA: 8:20 - loss: 1.0260 - accuracy: 0.4300\n",
      "Epoch 00001: saving model to training_10_3/cp-0001.ckpt\n"
     ]
    },
    {
     "name": "stderr",
     "output_type": "stream",
     "text": [
      "W0622 23:46:50.233774 27080 callbacks.py:241] Method (on_train_batch_end) is slow compared to the batch update (0.332880). Check your callbacks.\n"
     ]
    },
    {
     "name": "stdout",
     "output_type": "stream",
     "text": [
      "114/468 [======>.......................] - ETA: 8:16 - loss: 1.0215 - accuracy: 0.4318\n",
      "Epoch 00001: saving model to training_10_3/cp-0001.ckpt\n"
     ]
    },
    {
     "name": "stderr",
     "output_type": "stream",
     "text": [
      "W0622 23:46:50.497730 27080 callbacks.py:241] Method (on_train_batch_end) is slow compared to the batch update (0.306483). Check your callbacks.\n"
     ]
    },
    {
     "name": "stdout",
     "output_type": "stream",
     "text": [
      "115/468 [======>.......................] - ETA: 8:11 - loss: 1.0173 - accuracy: 0.4337\n",
      "Epoch 00001: saving model to training_10_3/cp-0001.ckpt\n"
     ]
    },
    {
     "name": "stderr",
     "output_type": "stream",
     "text": [
      "W0622 23:46:50.763641 27080 callbacks.py:241] Method (on_train_batch_end) is slow compared to the batch update (0.306483). Check your callbacks.\n"
     ]
    },
    {
     "name": "stdout",
     "output_type": "stream",
     "text": [
      "116/468 [======>.......................] - ETA: 8:06 - loss: 1.0111 - accuracy: 0.4356\n",
      "Epoch 00001: saving model to training_10_3/cp-0001.ckpt\n"
     ]
    },
    {
     "name": "stderr",
     "output_type": "stream",
     "text": [
      "W0622 23:46:52.794151 27080 callbacks.py:241] Method (on_train_batch_end) is slow compared to the batch update (0.332880). Check your callbacks.\n"
     ]
    },
    {
     "name": "stdout",
     "output_type": "stream",
     "text": [
      "117/468 [======>.......................] - ETA: 8:07 - loss: 1.0062 - accuracy: 0.4374\n",
      "Epoch 00001: saving model to training_10_3/cp-0001.ckpt\n"
     ]
    },
    {
     "name": "stderr",
     "output_type": "stream",
     "text": [
      "W0622 23:46:53.212571 27080 callbacks.py:241] Method (on_train_batch_end) is slow compared to the batch update (0.342166). Check your callbacks.\n"
     ]
    },
    {
     "name": "stdout",
     "output_type": "stream",
     "text": [
      "118/468 [======>.......................] - ETA: 8:02 - loss: 0.9998 - accuracy: 0.4392\n",
      "Epoch 00001: saving model to training_10_3/cp-0001.ckpt\n"
     ]
    },
    {
     "name": "stderr",
     "output_type": "stream",
     "text": [
      "W0622 23:46:53.564515 27080 callbacks.py:241] Method (on_train_batch_end) is slow compared to the batch update (0.332880). Check your callbacks.\n"
     ]
    },
    {
     "name": "stdout",
     "output_type": "stream",
     "text": [
      "119/468 [======>.......................] - ETA: 7:58 - loss: 0.9942 - accuracy: 0.4411\n",
      "Epoch 00001: saving model to training_10_3/cp-0001.ckpt\n"
     ]
    },
    {
     "name": "stderr",
     "output_type": "stream",
     "text": [
      "W0622 23:46:53.892992 27080 callbacks.py:241] Method (on_train_batch_end) is slow compared to the batch update (0.302574). Check your callbacks.\n"
     ]
    },
    {
     "name": "stdout",
     "output_type": "stream",
     "text": [
      "120/468 [======>.......................] - ETA: 7:54 - loss: 0.9896 - accuracy: 0.4429\n",
      "Epoch 00001: saving model to training_10_3/cp-0001.ckpt\n"
     ]
    },
    {
     "name": "stderr",
     "output_type": "stream",
     "text": [
      "W0622 23:46:54.264494 27080 callbacks.py:241] Method (on_train_batch_end) is slow compared to the batch update (0.293774). Check your callbacks.\n"
     ]
    },
    {
     "name": "stdout",
     "output_type": "stream",
     "text": [
      "121/468 [======>.......................] - ETA: 7:49 - loss: 0.9852 - accuracy: 0.4446\n",
      "Epoch 00001: saving model to training_10_3/cp-0001.ckpt\n"
     ]
    },
    {
     "name": "stderr",
     "output_type": "stream",
     "text": [
      "W0622 23:46:54.514761 27080 callbacks.py:241] Method (on_train_batch_end) is slow compared to the batch update (0.271289). Check your callbacks.\n"
     ]
    },
    {
     "name": "stdout",
     "output_type": "stream",
     "text": [
      "122/468 [======>.......................] - ETA: 7:45 - loss: 0.9801 - accuracy: 0.4464\n",
      "Epoch 00001: saving model to training_10_3/cp-0001.ckpt\n"
     ]
    },
    {
     "name": "stderr",
     "output_type": "stream",
     "text": [
      "W0622 23:46:54.818796 27080 callbacks.py:241] Method (on_train_batch_end) is slow compared to the batch update (0.266890). Check your callbacks.\n"
     ]
    },
    {
     "name": "stdout",
     "output_type": "stream",
     "text": [
      "123/468 [======>.......................] - ETA: 7:41 - loss: 0.9757 - accuracy: 0.4482\n",
      "Epoch 00001: saving model to training_10_3/cp-0001.ckpt\n"
     ]
    },
    {
     "name": "stderr",
     "output_type": "stream",
     "text": [
      "W0622 23:46:55.113058 27080 callbacks.py:241] Method (on_train_batch_end) is slow compared to the batch update (0.250759). Check your callbacks.\n"
     ]
    },
    {
     "name": "stdout",
     "output_type": "stream",
     "text": [
      "124/468 [======>.......................] - ETA: 7:36 - loss: 0.9711 - accuracy: 0.4499\n",
      "Epoch 00001: saving model to training_10_3/cp-0001.ckpt\n"
     ]
    },
    {
     "name": "stderr",
     "output_type": "stream",
     "text": [
      "W0622 23:46:55.543210 27080 callbacks.py:241] Method (on_train_batch_end) is slow compared to the batch update (0.266890). Check your callbacks.\n"
     ]
    },
    {
     "name": "stdout",
     "output_type": "stream",
     "text": [
      "125/468 [=======>......................] - ETA: 7:33 - loss: 0.9669 - accuracy: 0.4516\n",
      "Epoch 00001: saving model to training_10_3/cp-0001.ckpt\n"
     ]
    },
    {
     "name": "stderr",
     "output_type": "stream",
     "text": [
      "W0622 23:46:55.890263 27080 callbacks.py:241] Method (on_train_batch_end) is slow compared to the batch update (0.285954). Check your callbacks.\n"
     ]
    },
    {
     "name": "stdout",
     "output_type": "stream",
     "text": [
      "126/468 [=======>......................] - ETA: 7:29 - loss: 0.9627 - accuracy: 0.4533\n",
      "Epoch 00001: saving model to training_10_3/cp-0001.ckpt\n"
     ]
    },
    {
     "name": "stderr",
     "output_type": "stream",
     "text": [
      "W0622 23:46:56.371253 27080 callbacks.py:241] Method (on_train_batch_end) is slow compared to the batch update (0.285954). Check your callbacks.\n"
     ]
    },
    {
     "name": "stdout",
     "output_type": "stream",
     "text": [
      "127/468 [=======>......................] - ETA: 7:25 - loss: 0.9593 - accuracy: 0.4550\n",
      "Epoch 00001: saving model to training_10_3/cp-0001.ckpt\n"
     ]
    },
    {
     "name": "stderr",
     "output_type": "stream",
     "text": [
      "W0622 23:46:56.926540 27080 callbacks.py:241] Method (on_train_batch_end) is slow compared to the batch update (0.285954). Check your callbacks.\n"
     ]
    },
    {
     "name": "stdout",
     "output_type": "stream",
     "text": [
      "128/468 [=======>......................] - ETA: 7:22 - loss: 0.9548 - accuracy: 0.4567\n",
      "Epoch 00001: saving model to training_10_3/cp-0001.ckpt\n"
     ]
    },
    {
     "name": "stderr",
     "output_type": "stream",
     "text": [
      "W0622 23:46:57.438813 27080 callbacks.py:241] Method (on_train_batch_end) is slow compared to the batch update (0.303060). Check your callbacks.\n"
     ]
    },
    {
     "name": "stdout",
     "output_type": "stream",
     "text": [
      "129/468 [=======>......................] - ETA: 7:18 - loss: 0.9515 - accuracy: 0.4583\n",
      "Epoch 00001: saving model to training_10_3/cp-0001.ckpt\n"
     ]
    },
    {
     "name": "stderr",
     "output_type": "stream",
     "text": [
      "W0622 23:46:58.059597 27080 callbacks.py:241] Method (on_train_batch_end) is slow compared to the batch update (0.341187). Check your callbacks.\n"
     ]
    },
    {
     "name": "stdout",
     "output_type": "stream",
     "text": [
      "130/468 [=======>......................] - ETA: 7:15 - loss: 0.9476 - accuracy: 0.4600\n",
      "Epoch 00001: saving model to training_10_3/cp-0001.ckpt\n"
     ]
    },
    {
     "name": "stderr",
     "output_type": "stream",
     "text": [
      "W0622 23:46:58.412522 27080 callbacks.py:241] Method (on_train_batch_end) is slow compared to the batch update (0.333368). Check your callbacks.\n"
     ]
    },
    {
     "name": "stdout",
     "output_type": "stream",
     "text": [
      "131/468 [=======>......................] - ETA: 7:12 - loss: 0.9434 - accuracy: 0.4616\n",
      "Epoch 00001: saving model to training_10_3/cp-0001.ckpt\n"
     ]
    },
    {
     "name": "stderr",
     "output_type": "stream",
     "text": [
      "W0622 23:46:58.721442 27080 callbacks.py:241] Method (on_train_batch_end) is slow compared to the batch update (0.333368). Check your callbacks.\n"
     ]
    },
    {
     "name": "stdout",
     "output_type": "stream",
     "text": [
      "132/468 [=======>......................] - ETA: 7:08 - loss: 0.9391 - accuracy: 0.4632\n",
      "Epoch 00001: saving model to training_10_3/cp-0001.ckpt\n"
     ]
    },
    {
     "name": "stderr",
     "output_type": "stream",
     "text": [
      "W0622 23:46:58.992243 27080 callbacks.py:241] Method (on_train_batch_end) is slow compared to the batch update (0.333368). Check your callbacks.\n"
     ]
    },
    {
     "name": "stdout",
     "output_type": "stream",
     "text": [
      "133/468 [=======>......................] - ETA: 7:04 - loss: 0.9350 - accuracy: 0.4649\n",
      "Epoch 00001: saving model to training_10_3/cp-0001.ckpt\n"
     ]
    },
    {
     "name": "stderr",
     "output_type": "stream",
     "text": [
      "W0622 23:46:59.747942 27080 callbacks.py:241] Method (on_train_batch_end) is slow compared to the batch update (0.389092). Check your callbacks.\n"
     ]
    },
    {
     "name": "stdout",
     "output_type": "stream",
     "text": [
      "134/468 [=======>......................] - ETA: 7:02 - loss: 0.9309 - accuracy: 0.4665\n",
      "Epoch 00001: saving model to training_10_3/cp-0001.ckpt\n"
     ]
    },
    {
     "name": "stderr",
     "output_type": "stream",
     "text": [
      "W0622 23:47:00.388281 27080 callbacks.py:241] Method (on_train_batch_end) is slow compared to the batch update (0.416465). Check your callbacks.\n"
     ]
    },
    {
     "name": "stdout",
     "output_type": "stream",
     "text": [
      "135/468 [=======>......................] - ETA: 6:59 - loss: 0.9271 - accuracy: 0.4680\n",
      "Epoch 00001: saving model to training_10_3/cp-0001.ckpt\n"
     ]
    },
    {
     "name": "stderr",
     "output_type": "stream",
     "text": [
      "W0622 23:47:01.312129 27080 callbacks.py:241] Method (on_train_batch_end) is slow compared to the batch update (0.429664). Check your callbacks.\n"
     ]
    },
    {
     "name": "stdout",
     "output_type": "stream",
     "text": [
      "136/468 [=======>......................] - ETA: 6:57 - loss: 0.9246 - accuracy: 0.4696\n",
      "Epoch 00001: saving model to training_10_3/cp-0001.ckpt\n"
     ]
    },
    {
     "name": "stderr",
     "output_type": "stream",
     "text": [
      "W0622 23:47:01.842973 27080 callbacks.py:241] Method (on_train_batch_end) is slow compared to the batch update (0.419887). Check your callbacks.\n"
     ]
    },
    {
     "name": "stdout",
     "output_type": "stream",
     "text": [
      "137/468 [=======>......................] - ETA: 6:54 - loss: 0.9208 - accuracy: 0.4712\n",
      "Epoch 00001: saving model to training_10_3/cp-0001.ckpt\n"
     ]
    },
    {
     "name": "stderr",
     "output_type": "stream",
     "text": [
      "W0622 23:47:02.172430 27080 callbacks.py:241] Method (on_train_batch_end) is slow compared to the batch update (0.402778). Check your callbacks.\n"
     ]
    },
    {
     "name": "stdout",
     "output_type": "stream",
     "text": [
      "138/468 [=======>......................] - ETA: 6:50 - loss: 0.9187 - accuracy: 0.4727\n",
      "Epoch 00001: saving model to training_10_3/cp-0001.ckpt\n"
     ]
    },
    {
     "name": "stderr",
     "output_type": "stream",
     "text": [
      "W0622 23:47:02.773664 27080 callbacks.py:241] Method (on_train_batch_end) is slow compared to the batch update (0.419398). Check your callbacks.\n"
     ]
    },
    {
     "name": "stdout",
     "output_type": "stream",
     "text": [
      "139/468 [=======>......................] - ETA: 6:47 - loss: 0.9172 - accuracy: 0.4742\n",
      "Epoch 00001: saving model to training_10_3/cp-0001.ckpt\n"
     ]
    },
    {
     "name": "stderr",
     "output_type": "stream",
     "text": [
      "W0622 23:47:03.209683 27080 callbacks.py:241] Method (on_train_batch_end) is slow compared to the batch update (0.376872). Check your callbacks.\n"
     ]
    },
    {
     "name": "stdout",
     "output_type": "stream",
     "text": [
      "140/468 [=======>......................] - ETA: 6:44 - loss: 0.9141 - accuracy: 0.4757\n",
      "Epoch 00001: saving model to training_10_3/cp-0001.ckpt\n"
     ]
    },
    {
     "name": "stderr",
     "output_type": "stream",
     "text": [
      "W0622 23:47:03.509810 27080 callbacks.py:241] Method (on_train_batch_end) is slow compared to the batch update (0.376872). Check your callbacks.\n"
     ]
    },
    {
     "name": "stdout",
     "output_type": "stream",
     "text": [
      "141/468 [========>.....................] - ETA: 6:41 - loss: 0.9114 - accuracy: 0.4772\n",
      "Epoch 00001: saving model to training_10_3/cp-0001.ckpt\n"
     ]
    },
    {
     "name": "stderr",
     "output_type": "stream",
     "text": [
      "W0622 23:47:03.940939 27080 callbacks.py:241] Method (on_train_batch_end) is slow compared to the batch update (0.382737). Check your callbacks.\n"
     ]
    },
    {
     "name": "stdout",
     "output_type": "stream",
     "text": [
      "142/468 [========>.....................] - ETA: 6:38 - loss: 0.9083 - accuracy: 0.4787\n",
      "Epoch 00001: saving model to training_10_3/cp-0001.ckpt\n"
     ]
    },
    {
     "name": "stderr",
     "output_type": "stream",
     "text": [
      "W0622 23:47:04.317322 27080 callbacks.py:241] Method (on_train_batch_end) is slow compared to the batch update (0.382737). Check your callbacks.\n"
     ]
    },
    {
     "name": "stdout",
     "output_type": "stream",
     "text": [
      "143/468 [========>.....................] - ETA: 6:35 - loss: 0.9049 - accuracy: 0.4802\n",
      "Epoch 00001: saving model to training_10_3/cp-0001.ckpt\n"
     ]
    },
    {
     "name": "stderr",
     "output_type": "stream",
     "text": [
      "W0622 23:47:04.792445 27080 callbacks.py:241] Method (on_train_batch_end) is slow compared to the batch update (0.360741). Check your callbacks.\n"
     ]
    },
    {
     "name": "stdout",
     "output_type": "stream",
     "text": [
      "144/468 [========>.....................] - ETA: 6:32 - loss: 0.9017 - accuracy: 0.4817\n",
      "Epoch 00001: saving model to training_10_3/cp-0001.ckpt\n"
     ]
    },
    {
     "name": "stderr",
     "output_type": "stream",
     "text": [
      "W0622 23:47:05.414211 27080 callbacks.py:241] Method (on_train_batch_end) is slow compared to the batch update (0.360741). Check your callbacks.\n"
     ]
    },
    {
     "name": "stdout",
     "output_type": "stream",
     "text": [
      "145/468 [========>.....................] - ETA: 6:29 - loss: 0.8982 - accuracy: 0.4831\n",
      "Epoch 00001: saving model to training_10_3/cp-0001.ckpt\n"
     ]
    },
    {
     "name": "stderr",
     "output_type": "stream",
     "text": [
      "W0622 23:47:06.342945 27080 callbacks.py:241] Method (on_train_batch_end) is slow compared to the batch update (0.360741). Check your callbacks.\n"
     ]
    },
    {
     "name": "stdout",
     "output_type": "stream",
     "text": [
      "146/468 [========>.....................] - ETA: 6:28 - loss: 0.8946 - accuracy: 0.4846\n",
      "Epoch 00001: saving model to training_10_3/cp-0001.ckpt\n"
     ]
    },
    {
     "name": "stderr",
     "output_type": "stream",
     "text": [
      "W0622 23:47:07.939393 27080 callbacks.py:241] Method (on_train_batch_end) is slow compared to the batch update (0.360741). Check your callbacks.\n"
     ]
    },
    {
     "name": "stdout",
     "output_type": "stream",
     "text": [
      "147/468 [========>.....................] - ETA: 6:27 - loss: 0.8909 - accuracy: 0.4860\n",
      "Epoch 00001: saving model to training_10_3/cp-0001.ckpt\n"
     ]
    },
    {
     "name": "stderr",
     "output_type": "stream",
     "text": [
      "W0622 23:47:08.586575 27080 callbacks.py:241] Method (on_train_batch_end) is slow compared to the batch update (0.396424). Check your callbacks.\n"
     ]
    },
    {
     "name": "stdout",
     "output_type": "stream",
     "text": [
      "148/468 [========>.....................] - ETA: 6:25 - loss: 0.8870 - accuracy: 0.4874\n",
      "Epoch 00001: saving model to training_10_3/cp-0001.ckpt\n"
     ]
    },
    {
     "name": "stderr",
     "output_type": "stream",
     "text": [
      "W0622 23:47:09.072450 27080 callbacks.py:241] Method (on_train_batch_end) is slow compared to the batch update (0.383225). Check your callbacks.\n"
     ]
    },
    {
     "name": "stdout",
     "output_type": "stream",
     "text": [
      "149/468 [========>.....................] - ETA: 6:22 - loss: 0.8834 - accuracy: 0.4888\n",
      "Epoch 00001: saving model to training_10_3/cp-0001.ckpt\n"
     ]
    },
    {
     "name": "stderr",
     "output_type": "stream",
     "text": [
      "W0622 23:47:09.281661 27080 callbacks.py:241] Method (on_train_batch_end) is slow compared to the batch update (0.383225). Check your callbacks.\n"
     ]
    },
    {
     "name": "stdout",
     "output_type": "stream",
     "text": [
      "150/468 [========>.....................] - ETA: 6:19 - loss: 0.8800 - accuracy: 0.4902\n",
      "Epoch 00001: saving model to training_10_3/cp-0001.ckpt\n"
     ]
    },
    {
     "name": "stderr",
     "output_type": "stream",
     "text": [
      "W0622 23:47:09.817395 27080 callbacks.py:241] Method (on_train_batch_end) is slow compared to the batch update (0.413043). Check your callbacks.\n"
     ]
    },
    {
     "name": "stdout",
     "output_type": "stream",
     "text": [
      "151/468 [========>.....................] - ETA: 6:16 - loss: 0.8763 - accuracy: 0.4916\n",
      "Epoch 00001: saving model to training_10_3/cp-0001.ckpt\n"
     ]
    },
    {
     "name": "stderr",
     "output_type": "stream",
     "text": [
      "W0622 23:47:10.166405 27080 callbacks.py:241] Method (on_train_batch_end) is slow compared to the batch update (0.413043). Check your callbacks.\n"
     ]
    },
    {
     "name": "stdout",
     "output_type": "stream",
     "text": [
      "152/468 [========>.....................] - ETA: 6:13 - loss: 0.8728 - accuracy: 0.4930\n",
      "Epoch 00001: saving model to training_10_3/cp-0001.ckpt\n"
     ]
    },
    {
     "name": "stderr",
     "output_type": "stream",
     "text": [
      "W0622 23:47:10.369748 27080 callbacks.py:241] Method (on_train_batch_end) is slow compared to the batch update (0.413043). Check your callbacks.\n"
     ]
    },
    {
     "name": "stdout",
     "output_type": "stream",
     "text": [
      "153/468 [========>.....................] - ETA: 6:10 - loss: 0.8692 - accuracy: 0.4944\n",
      "Epoch 00001: saving model to training_10_3/cp-0001.ckpt\n"
     ]
    },
    {
     "name": "stderr",
     "output_type": "stream",
     "text": [
      "W0622 23:47:10.867356 27080 callbacks.py:241] Method (on_train_batch_end) is slow compared to the batch update (0.431619). Check your callbacks.\n"
     ]
    },
    {
     "name": "stdout",
     "output_type": "stream",
     "text": [
      "154/468 [========>.....................] - ETA: 6:07 - loss: 0.8664 - accuracy: 0.4957\n",
      "Epoch 00001: saving model to training_10_3/cp-0001.ckpt\n"
     ]
    },
    {
     "name": "stderr",
     "output_type": "stream",
     "text": [
      "W0622 23:47:11.518451 27080 callbacks.py:241] Method (on_train_batch_end) is slow compared to the batch update (0.453126). Check your callbacks.\n"
     ]
    },
    {
     "name": "stdout",
     "output_type": "stream",
     "text": [
      "155/468 [========>.....................] - ETA: 6:05 - loss: 0.8637 - accuracy: 0.4971\n",
      "Epoch 00001: saving model to training_10_3/cp-0001.ckpt\n"
     ]
    },
    {
     "name": "stderr",
     "output_type": "stream",
     "text": [
      "W0622 23:47:11.847905 27080 callbacks.py:241] Method (on_train_batch_end) is slow compared to the batch update (0.418420). Check your callbacks.\n"
     ]
    },
    {
     "name": "stdout",
     "output_type": "stream",
     "text": [
      "156/468 [=========>....................] - ETA: 6:02 - loss: 0.8623 - accuracy: 0.4984\n",
      "Epoch 00001: saving model to training_10_3/cp-0001.ckpt\n"
     ]
    },
    {
     "name": "stderr",
     "output_type": "stream",
     "text": [
      "W0622 23:47:12.172475 27080 callbacks.py:241] Method (on_train_batch_end) is slow compared to the batch update (0.341187). Check your callbacks.\n"
     ]
    },
    {
     "name": "stdout",
     "output_type": "stream",
     "text": [
      "157/468 [=========>....................] - ETA: 6:00 - loss: 0.8589 - accuracy: 0.4997\n",
      "Epoch 00001: saving model to training_10_3/cp-0001.ckpt\n"
     ]
    },
    {
     "name": "stderr",
     "output_type": "stream",
     "text": [
      "W0622 23:47:12.706254 27080 callbacks.py:241] Method (on_train_batch_end) is slow compared to the batch update (0.341187). Check your callbacks.\n"
     ]
    },
    {
     "name": "stdout",
     "output_type": "stream",
     "text": [
      "158/468 [=========>....................] - ETA: 5:57 - loss: 0.8562 - accuracy: 0.5010\n",
      "Epoch 00001: saving model to training_10_3/cp-0001.ckpt\n"
     ]
    },
    {
     "name": "stderr",
     "output_type": "stream",
     "text": [
      "W0622 23:47:13.049399 27080 callbacks.py:241] Method (on_train_batch_end) is slow compared to the batch update (0.274710). Check your callbacks.\n"
     ]
    },
    {
     "name": "stdout",
     "output_type": "stream",
     "text": [
      "159/468 [=========>....................] - ETA: 5:54 - loss: 0.8526 - accuracy: 0.5024\n",
      "Epoch 00001: saving model to training_10_3/cp-0001.ckpt\n"
     ]
    },
    {
     "name": "stderr",
     "output_type": "stream",
     "text": [
      "W0622 23:47:13.671162 27080 callbacks.py:241] Method (on_train_batch_end) is slow compared to the batch update (0.359764). Check your callbacks.\n"
     ]
    },
    {
     "name": "stdout",
     "output_type": "stream",
     "text": [
      "160/468 [=========>....................] - ETA: 5:52 - loss: 0.8513 - accuracy: 0.5037\n",
      "Epoch 00001: saving model to training_10_3/cp-0001.ckpt\n"
     ]
    },
    {
     "name": "stderr",
     "output_type": "stream",
     "text": [
      "W0622 23:47:14.674196 27080 callbacks.py:241] Method (on_train_batch_end) is slow compared to the batch update (0.359764). Check your callbacks.\n"
     ]
    },
    {
     "name": "stdout",
     "output_type": "stream",
     "text": [
      "161/468 [=========>....................] - ETA: 5:51 - loss: 0.8474 - accuracy: 0.5049\n",
      "Epoch 00001: saving model to training_10_3/cp-0001.ckpt\n"
     ]
    },
    {
     "name": "stderr",
     "output_type": "stream",
     "text": [
      "W0622 23:47:15.388834 27080 callbacks.py:241] Method (on_train_batch_end) is slow compared to the batch update (0.445793). Check your callbacks.\n"
     ]
    },
    {
     "name": "stdout",
     "output_type": "stream",
     "text": [
      "162/468 [=========>....................] - ETA: 5:49 - loss: 0.8443 - accuracy: 0.5062\n",
      "Epoch 00001: saving model to training_10_3/cp-0001.ckpt\n"
     ]
    },
    {
     "name": "stderr",
     "output_type": "stream",
     "text": [
      "W0622 23:47:15.777927 27080 callbacks.py:241] Method (on_train_batch_end) is slow compared to the batch update (0.445793). Check your callbacks.\n"
     ]
    },
    {
     "name": "stdout",
     "output_type": "stream",
     "text": [
      "163/468 [=========>....................] - ETA: 5:46 - loss: 0.8409 - accuracy: 0.5075\n",
      "Epoch 00001: saving model to training_10_3/cp-0001.ckpt\n"
     ]
    },
    {
     "name": "stderr",
     "output_type": "stream",
     "text": [
      "W0622 23:47:16.277489 27080 callbacks.py:241] Method (on_train_batch_end) is slow compared to the batch update (0.421350). Check your callbacks.\n"
     ]
    },
    {
     "name": "stdout",
     "output_type": "stream",
     "text": [
      "164/468 [=========>....................] - ETA: 5:44 - loss: 0.8380 - accuracy: 0.5088\n",
      "Epoch 00001: saving model to training_10_3/cp-0001.ckpt\n"
     ]
    },
    {
     "name": "stderr",
     "output_type": "stream",
     "text": [
      "W0622 23:47:16.805403 27080 callbacks.py:241] Method (on_train_batch_end) is slow compared to the batch update (0.384202). Check your callbacks.\n"
     ]
    },
    {
     "name": "stdout",
     "output_type": "stream",
     "text": [
      "165/468 [=========>....................] - ETA: 5:42 - loss: 0.8351 - accuracy: 0.5100\n",
      "Epoch 00001: saving model to training_10_3/cp-0001.ckpt\n"
     ]
    },
    {
     "name": "stderr",
     "output_type": "stream",
     "text": [
      "W0622 23:47:17.148545 27080 callbacks.py:241] Method (on_train_batch_end) is slow compared to the batch update (0.384202). Check your callbacks.\n"
     ]
    },
    {
     "name": "stdout",
     "output_type": "stream",
     "text": [
      "166/468 [=========>....................] - ETA: 5:39 - loss: 0.8316 - accuracy: 0.5113\n",
      "Epoch 00001: saving model to training_10_3/cp-0001.ckpt\n"
     ]
    },
    {
     "name": "stderr",
     "output_type": "stream",
     "text": [
      "W0622 23:47:17.554255 27080 callbacks.py:241] Method (on_train_batch_end) is slow compared to the batch update (0.384202). Check your callbacks.\n"
     ]
    },
    {
     "name": "stdout",
     "output_type": "stream",
     "text": [
      "167/468 [=========>....................] - ETA: 5:37 - loss: 0.8294 - accuracy: 0.5125\n",
      "Epoch 00001: saving model to training_10_3/cp-0001.ckpt\n"
     ]
    },
    {
     "name": "stderr",
     "output_type": "stream",
     "text": [
      "W0622 23:47:18.117363 27080 callbacks.py:241] Method (on_train_batch_end) is slow compared to the batch update (0.384202). Check your callbacks.\n"
     ]
    },
    {
     "name": "stdout",
     "output_type": "stream",
     "text": [
      "168/468 [=========>....................] - ETA: 5:35 - loss: 0.8266 - accuracy: 0.5137\n",
      "Epoch 00001: saving model to training_10_3/cp-0001.ckpt\n"
     ]
    },
    {
     "name": "stderr",
     "output_type": "stream",
     "text": [
      "W0622 23:47:18.681448 27080 callbacks.py:241] Method (on_train_batch_end) is slow compared to the batch update (0.413041). Check your callbacks.\n"
     ]
    },
    {
     "name": "stdout",
     "output_type": "stream",
     "text": [
      "169/468 [=========>....................] - ETA: 5:33 - loss: 0.8236 - accuracy: 0.5149\n",
      "Epoch 00001: saving model to training_10_3/cp-0001.ckpt\n"
     ]
    },
    {
     "name": "stderr",
     "output_type": "stream",
     "text": [
      "W0622 23:47:19.074450 27080 callbacks.py:241] Method (on_train_batch_end) is slow compared to the batch update (0.384202). Check your callbacks.\n"
     ]
    },
    {
     "name": "stdout",
     "output_type": "stream",
     "text": [
      "170/468 [=========>....................] - ETA: 5:30 - loss: 0.8204 - accuracy: 0.5162\n",
      "Epoch 00001: saving model to training_10_3/cp-0001.ckpt\n"
     ]
    },
    {
     "name": "stderr",
     "output_type": "stream",
     "text": [
      "W0622 23:47:19.370667 27080 callbacks.py:241] Method (on_train_batch_end) is slow compared to the batch update (0.350965). Check your callbacks.\n"
     ]
    },
    {
     "name": "stdout",
     "output_type": "stream",
     "text": [
      "171/468 [=========>....................] - ETA: 5:28 - loss: 0.8176 - accuracy: 0.5174\n",
      "Epoch 00001: saving model to training_10_3/cp-0001.ckpt\n"
     ]
    },
    {
     "name": "stderr",
     "output_type": "stream",
     "text": [
      "W0622 23:47:19.760739 27080 callbacks.py:241] Method (on_train_batch_end) is slow compared to the batch update (0.327503). Check your callbacks.\n"
     ]
    },
    {
     "name": "stdout",
     "output_type": "stream",
     "text": [
      "172/468 [==========>...................] - ETA: 5:25 - loss: 0.8155 - accuracy: 0.5186\n",
      "Epoch 00001: saving model to training_10_3/cp-0001.ckpt\n"
     ]
    },
    {
     "name": "stderr",
     "output_type": "stream",
     "text": [
      "W0622 23:47:20.286696 27080 callbacks.py:241] Method (on_train_batch_end) is slow compared to the batch update (0.338256). Check your callbacks.\n"
     ]
    },
    {
     "name": "stdout",
     "output_type": "stream",
     "text": [
      "173/468 [==========>...................] - ETA: 5:23 - loss: 0.8134 - accuracy: 0.5197\n",
      "Epoch 00001: saving model to training_10_3/cp-0001.ckpt\n"
     ]
    },
    {
     "name": "stderr",
     "output_type": "stream",
     "text": [
      "W0622 23:47:20.772578 27080 callbacks.py:241] Method (on_train_batch_end) is slow compared to the batch update (0.338256). Check your callbacks.\n"
     ]
    },
    {
     "name": "stdout",
     "output_type": "stream",
     "text": [
      "174/468 [==========>...................] - ETA: 5:21 - loss: 0.8107 - accuracy: 0.5209\n",
      "Epoch 00001: saving model to training_10_3/cp-0001.ckpt\n"
     ]
    },
    {
     "name": "stderr",
     "output_type": "stream",
     "text": [
      "W0622 23:47:21.229119 27080 callbacks.py:241] Method (on_train_batch_end) is slow compared to the batch update (0.332880). Check your callbacks.\n"
     ]
    },
    {
     "name": "stdout",
     "output_type": "stream",
     "text": [
      "175/468 [==========>...................] - ETA: 5:19 - loss: 0.8076 - accuracy: 0.5221\n",
      "Epoch 00001: saving model to training_10_3/cp-0001.ckpt\n"
     ]
    },
    {
     "name": "stderr",
     "output_type": "stream",
     "text": [
      "W0622 23:47:21.723792 27080 callbacks.py:241] Method (on_train_batch_end) is slow compared to the batch update (0.338256). Check your callbacks.\n"
     ]
    },
    {
     "name": "stdout",
     "output_type": "stream",
     "text": [
      "176/468 [==========>...................] - ETA: 5:17 - loss: 0.8052 - accuracy: 0.5233\n",
      "Epoch 00001: saving model to training_10_3/cp-0001.ckpt\n"
     ]
    },
    {
     "name": "stderr",
     "output_type": "stream",
     "text": [
      "W0622 23:47:22.229221 27080 callbacks.py:241] Method (on_train_batch_end) is slow compared to the batch update (0.355364). Check your callbacks.\n"
     ]
    },
    {
     "name": "stdout",
     "output_type": "stream",
     "text": [
      "177/468 [==========>...................] - ETA: 5:15 - loss: 0.8029 - accuracy: 0.5244\n",
      "Epoch 00001: saving model to training_10_3/cp-0001.ckpt\n"
     ]
    },
    {
     "name": "stderr",
     "output_type": "stream",
     "text": [
      "W0622 23:47:22.928216 27080 callbacks.py:241] Method (on_train_batch_end) is slow compared to the batch update (0.355364). Check your callbacks.\n"
     ]
    },
    {
     "name": "stdout",
     "output_type": "stream",
     "text": [
      "178/468 [==========>...................] - ETA: 5:13 - loss: 0.8015 - accuracy: 0.5256\n",
      "Epoch 00001: saving model to training_10_3/cp-0001.ckpt\n"
     ]
    },
    {
     "name": "stderr",
     "output_type": "stream",
     "text": [
      "W0622 23:47:23.476660 27080 callbacks.py:241] Method (on_train_batch_end) is slow compared to the batch update (0.355364). Check your callbacks.\n"
     ]
    },
    {
     "name": "stdout",
     "output_type": "stream",
     "text": [
      "179/468 [==========>...................] - ETA: 5:11 - loss: 0.7990 - accuracy: 0.5267\n",
      "Epoch 00001: saving model to training_10_3/cp-0001.ckpt\n"
     ]
    },
    {
     "name": "stderr",
     "output_type": "stream",
     "text": [
      "W0622 23:47:23.817855 27080 callbacks.py:241] Method (on_train_batch_end) is slow compared to the batch update (0.355364). Check your callbacks.\n"
     ]
    },
    {
     "name": "stdout",
     "output_type": "stream",
     "text": [
      "180/468 [==========>...................] - ETA: 5:09 - loss: 0.7970 - accuracy: 0.5278\n",
      "Epoch 00001: saving model to training_10_3/cp-0001.ckpt\n"
     ]
    },
    {
     "name": "stderr",
     "output_type": "stream",
     "text": [
      "W0622 23:47:24.161970 27080 callbacks.py:241] Method (on_train_batch_end) is slow compared to the batch update (0.355364). Check your callbacks.\n"
     ]
    },
    {
     "name": "stdout",
     "output_type": "stream",
     "text": [
      "181/468 [==========>...................] - ETA: 5:07 - loss: 0.7956 - accuracy: 0.5289\n",
      "Epoch 00001: saving model to training_10_3/cp-0001.ckpt\n"
     ]
    },
    {
     "name": "stderr",
     "output_type": "stream",
     "text": [
      "W0622 23:47:25.187489 27080 callbacks.py:241] Method (on_train_batch_end) is slow compared to the batch update (0.369539). Check your callbacks.\n"
     ]
    },
    {
     "name": "stdout",
     "output_type": "stream",
     "text": [
      "182/468 [==========>...................] - ETA: 5:06 - loss: 0.7928 - accuracy: 0.5300\n",
      "Epoch 00001: saving model to training_10_3/cp-0001.ckpt\n"
     ]
    },
    {
     "name": "stderr",
     "output_type": "stream",
     "text": [
      "W0622 23:47:27.034209 27080 callbacks.py:241] Method (on_train_batch_end) is slow compared to the batch update (0.373939). Check your callbacks.\n"
     ]
    },
    {
     "name": "stdout",
     "output_type": "stream",
     "text": [
      "183/468 [==========>...................] - ETA: 5:06 - loss: 0.7904 - accuracy: 0.5311\n",
      "Epoch 00001: saving model to training_10_3/cp-0001.ckpt\n"
     ]
    },
    {
     "name": "stderr",
     "output_type": "stream",
     "text": [
      "W0622 23:47:27.301096 27080 callbacks.py:241] Method (on_train_batch_end) is slow compared to the batch update (0.371984). Check your callbacks.\n"
     ]
    },
    {
     "name": "stdout",
     "output_type": "stream",
     "text": [
      "184/468 [==========>...................] - ETA: 5:03 - loss: 0.7878 - accuracy: 0.5322\n",
      "Epoch 00001: saving model to training_10_3/cp-0001.ckpt\n"
     ]
    },
    {
     "name": "stderr",
     "output_type": "stream",
     "text": [
      "W0622 23:47:27.842695 27080 callbacks.py:241] Method (on_train_batch_end) is slow compared to the batch update (0.377360). Check your callbacks.\n"
     ]
    },
    {
     "name": "stdout",
     "output_type": "stream",
     "text": [
      "185/468 [==========>...................] - ETA: 5:02 - loss: 0.7867 - accuracy: 0.5333\n",
      "Epoch 00001: saving model to training_10_3/cp-0001.ckpt\n"
     ]
    },
    {
     "name": "stderr",
     "output_type": "stream",
     "text": [
      "W0622 23:47:28.385273 27080 callbacks.py:241] Method (on_train_batch_end) is slow compared to the batch update (0.411083). Check your callbacks.\n"
     ]
    },
    {
     "name": "stdout",
     "output_type": "stream",
     "text": [
      "186/468 [==========>...................] - ETA: 5:00 - loss: 0.7843 - accuracy: 0.5344\n",
      "Epoch 00001: saving model to training_10_3/cp-0001.ckpt\n"
     ]
    },
    {
     "name": "stderr",
     "output_type": "stream",
     "text": [
      "W0622 23:47:28.804670 27080 callbacks.py:241] Method (on_train_batch_end) is slow compared to the batch update (0.411083). Check your callbacks.\n"
     ]
    },
    {
     "name": "stdout",
     "output_type": "stream",
     "text": [
      "187/468 [==========>...................] - ETA: 4:58 - loss: 0.7819 - accuracy: 0.5355\n",
      "Epoch 00001: saving model to training_10_3/cp-0001.ckpt\n"
     ]
    },
    {
     "name": "stderr",
     "output_type": "stream",
     "text": [
      "W0622 23:47:29.267085 27080 callbacks.py:241] Method (on_train_batch_end) is slow compared to the batch update (0.359762). Check your callbacks.\n"
     ]
    },
    {
     "name": "stdout",
     "output_type": "stream",
     "text": [
      "188/468 [===========>..................] - ETA: 4:56 - loss: 0.7800 - accuracy: 0.5366\n",
      "Epoch 00001: saving model to training_10_3/cp-0001.ckpt\n"
     ]
    },
    {
     "name": "stderr",
     "output_type": "stream",
     "text": [
      "W0622 23:47:29.752960 27080 callbacks.py:241] Method (on_train_batch_end) is slow compared to the batch update (0.349008). Check your callbacks.\n"
     ]
    },
    {
     "name": "stdout",
     "output_type": "stream",
     "text": [
      "189/468 [===========>..................] - ETA: 4:54 - loss: 0.7780 - accuracy: 0.5376\n",
      "Epoch 00001: saving model to training_10_3/cp-0001.ckpt\n"
     ]
    },
    {
     "name": "stderr",
     "output_type": "stream",
     "text": [
      "W0622 23:47:30.139121 27080 callbacks.py:241] Method (on_train_batch_end) is slow compared to the batch update (0.349008). Check your callbacks.\n"
     ]
    },
    {
     "name": "stdout",
     "output_type": "stream",
     "text": [
      "190/468 [===========>..................] - ETA: 4:52 - loss: 0.7753 - accuracy: 0.5387\n",
      "Epoch 00001: saving model to training_10_3/cp-0001.ckpt\n"
     ]
    },
    {
     "name": "stderr",
     "output_type": "stream",
     "text": [
      "W0622 23:47:30.643568 27080 callbacks.py:241] Method (on_train_batch_end) is slow compared to the batch update (0.366116). Check your callbacks.\n"
     ]
    },
    {
     "name": "stdout",
     "output_type": "stream",
     "text": [
      "191/468 [===========>..................] - ETA: 4:50 - loss: 0.7735 - accuracy: 0.5397\n",
      "Epoch 00001: saving model to training_10_3/cp-0001.ckpt\n"
     ]
    },
    {
     "name": "stderr",
     "output_type": "stream",
     "text": [
      "W0622 23:47:30.971071 27080 callbacks.py:241] Method (on_train_batch_end) is slow compared to the batch update (0.349008). Check your callbacks.\n"
     ]
    },
    {
     "name": "stdout",
     "output_type": "stream",
     "text": [
      "192/468 [===========>..................] - ETA: 4:48 - loss: 0.7712 - accuracy: 0.5407\n",
      "Epoch 00001: saving model to training_10_3/cp-0001.ckpt\n"
     ]
    },
    {
     "name": "stderr",
     "output_type": "stream",
     "text": [
      "W0622 23:47:31.214497 27080 callbacks.py:241] Method (on_train_batch_end) is slow compared to the batch update (0.340698). Check your callbacks.\n"
     ]
    },
    {
     "name": "stdout",
     "output_type": "stream",
     "text": [
      "193/468 [===========>..................] - ETA: 4:46 - loss: 0.7692 - accuracy: 0.5418\n",
      "Epoch 00001: saving model to training_10_3/cp-0001.ckpt\n"
     ]
    },
    {
     "name": "stderr",
     "output_type": "stream",
     "text": [
      "W0622 23:47:31.531244 27080 callbacks.py:241] Method (on_train_batch_end) is slow compared to the batch update (0.340698). Check your callbacks.\n"
     ]
    },
    {
     "name": "stdout",
     "output_type": "stream",
     "text": [
      "194/468 [===========>..................] - ETA: 4:44 - loss: 0.7673 - accuracy: 0.5428\n",
      "Epoch 00001: saving model to training_10_3/cp-0001.ckpt\n"
     ]
    },
    {
     "name": "stderr",
     "output_type": "stream",
     "text": [
      "W0622 23:47:31.982903 27080 callbacks.py:241] Method (on_train_batch_end) is slow compared to the batch update (0.340698). Check your callbacks.\n"
     ]
    },
    {
     "name": "stdout",
     "output_type": "stream",
     "text": [
      "195/468 [===========>..................] - ETA: 4:42 - loss: 0.7649 - accuracy: 0.5438\n",
      "Epoch 00001: saving model to training_10_3/cp-0001.ckpt\n"
     ]
    },
    {
     "name": "stderr",
     "output_type": "stream",
     "text": [
      "W0622 23:47:32.593916 27080 callbacks.py:241] Method (on_train_batch_end) is slow compared to the batch update (0.340698). Check your callbacks.\n"
     ]
    },
    {
     "name": "stdout",
     "output_type": "stream",
     "text": [
      "196/468 [===========>..................] - ETA: 4:40 - loss: 0.7621 - accuracy: 0.5448\n",
      "Epoch 00001: saving model to training_10_3/cp-0001.ckpt\n"
     ]
    },
    {
     "name": "stderr",
     "output_type": "stream",
     "text": [
      "W0622 23:47:33.159955 27080 callbacks.py:241] Method (on_train_batch_end) is slow compared to the batch update (0.348519). Check your callbacks.\n"
     ]
    },
    {
     "name": "stdout",
     "output_type": "stream",
     "text": [
      "197/468 [===========>..................] - ETA: 4:38 - loss: 0.7605 - accuracy: 0.5458\n",
      "Epoch 00001: saving model to training_10_3/cp-0001.ckpt\n"
     ]
    },
    {
     "name": "stderr",
     "output_type": "stream",
     "text": [
      "W0622 23:47:33.944982 27080 callbacks.py:241] Method (on_train_batch_end) is slow compared to the batch update (0.366116). Check your callbacks.\n"
     ]
    },
    {
     "name": "stdout",
     "output_type": "stream",
     "text": [
      "198/468 [===========>..................] - ETA: 4:37 - loss: 0.7586 - accuracy: 0.5468\n",
      "Epoch 00001: saving model to training_10_3/cp-0001.ckpt\n"
     ]
    },
    {
     "name": "stderr",
     "output_type": "stream",
     "text": [
      "W0622 23:47:34.314522 27080 callbacks.py:241] Method (on_train_batch_end) is slow compared to the batch update (0.327012). Check your callbacks.\n"
     ]
    },
    {
     "name": "stdout",
     "output_type": "stream",
     "text": [
      "199/468 [===========>..................] - ETA: 4:35 - loss: 0.7570 - accuracy: 0.5478\n",
      "Epoch 00001: saving model to training_10_3/cp-0001.ckpt\n"
     ]
    },
    {
     "name": "stderr",
     "output_type": "stream",
     "text": [
      "W0622 23:47:34.893270 27080 callbacks.py:241] Method (on_train_batch_end) is slow compared to the batch update (0.380290). Check your callbacks.\n"
     ]
    },
    {
     "name": "stdout",
     "output_type": "stream",
     "text": [
      "200/468 [===========>..................] - ETA: 4:34 - loss: 0.7557 - accuracy: 0.5488\n",
      "Epoch 00001: saving model to training_10_3/cp-0001.ckpt\n"
     ]
    },
    {
     "name": "stderr",
     "output_type": "stream",
     "text": [
      "W0622 23:47:35.414340 27080 callbacks.py:241] Method (on_train_batch_end) is slow compared to the batch update (0.379313). Check your callbacks.\n"
     ]
    },
    {
     "name": "stdout",
     "output_type": "stream",
     "text": [
      "201/468 [===========>..................] - ETA: 4:32 - loss: 0.7541 - accuracy: 0.5498\n",
      "Epoch 00001: saving model to training_10_3/cp-0001.ckpt\n"
     ]
    },
    {
     "name": "stderr",
     "output_type": "stream",
     "text": [
      "W0622 23:47:35.920747 27080 callbacks.py:241] Method (on_train_batch_end) is slow compared to the batch update (0.379313). Check your callbacks.\n"
     ]
    },
    {
     "name": "stdout",
     "output_type": "stream",
     "text": [
      "202/468 [===========>..................] - ETA: 4:30 - loss: 0.7520 - accuracy: 0.5508\n",
      "Epoch 00001: saving model to training_10_3/cp-0001.ckpt\n"
     ]
    },
    {
     "name": "stderr",
     "output_type": "stream",
     "text": [
      "W0622 23:47:36.256067 27080 callbacks.py:241] Method (on_train_batch_end) is slow compared to the batch update (0.379313). Check your callbacks.\n"
     ]
    },
    {
     "name": "stdout",
     "output_type": "stream",
     "text": [
      "203/468 [============>.................] - ETA: 4:28 - loss: 0.7497 - accuracy: 0.5517\n",
      "Epoch 00001: saving model to training_10_3/cp-0001.ckpt\n"
     ]
    },
    {
     "name": "stderr",
     "output_type": "stream",
     "text": [
      "W0622 23:47:36.679377 27080 callbacks.py:241] Method (on_train_batch_end) is slow compared to the batch update (0.379313). Check your callbacks.\n"
     ]
    },
    {
     "name": "stdout",
     "output_type": "stream",
     "text": [
      "204/468 [============>.................] - ETA: 4:26 - loss: 0.7478 - accuracy: 0.5527\n",
      "Epoch 00001: saving model to training_10_3/cp-0001.ckpt\n"
     ]
    },
    {
     "name": "stderr",
     "output_type": "stream",
     "text": [
      "W0622 23:47:37.222932 27080 callbacks.py:241] Method (on_train_batch_end) is slow compared to the batch update (0.391045). Check your callbacks.\n"
     ]
    },
    {
     "name": "stdout",
     "output_type": "stream",
     "text": [
      "205/468 [============>.................] - ETA: 4:25 - loss: 0.7462 - accuracy: 0.5537\n",
      "Epoch 00001: saving model to training_10_3/cp-0001.ckpt\n"
     ]
    },
    {
     "name": "stderr",
     "output_type": "stream",
     "text": [
      "W0622 23:47:37.752799 27080 callbacks.py:241] Method (on_train_batch_end) is slow compared to the batch update (0.386647). Check your callbacks.\n"
     ]
    },
    {
     "name": "stdout",
     "output_type": "stream",
     "text": [
      "206/468 [============>.................] - ETA: 4:23 - loss: 0.7446 - accuracy: 0.5546\n",
      "Epoch 00001: saving model to training_10_3/cp-0001.ckpt\n"
     ]
    },
    {
     "name": "stderr",
     "output_type": "stream",
     "text": [
      "W0622 23:47:38.230854 27080 callbacks.py:241] Method (on_train_batch_end) is slow compared to the batch update (0.373449). Check your callbacks.\n"
     ]
    },
    {
     "name": "stdout",
     "output_type": "stream",
     "text": [
      "207/468 [============>.................] - ETA: 4:22 - loss: 0.7426 - accuracy: 0.5556\n",
      "Epoch 00001: saving model to training_10_3/cp-0001.ckpt\n"
     ]
    },
    {
     "name": "stderr",
     "output_type": "stream",
     "text": [
      "W0622 23:47:40.551715 27080 callbacks.py:241] Method (on_train_batch_end) is slow compared to the batch update (0.373449). Check your callbacks.\n"
     ]
    },
    {
     "name": "stdout",
     "output_type": "stream",
     "text": [
      "208/468 [============>.................] - ETA: 4:22 - loss: 0.7409 - accuracy: 0.5565\n",
      "Epoch 00001: saving model to training_10_3/cp-0001.ckpt\n"
     ]
    },
    {
     "name": "stderr",
     "output_type": "stream",
     "text": [
      "W0622 23:47:40.802964 27080 callbacks.py:241] Method (on_train_batch_end) is slow compared to the batch update (0.373449). Check your callbacks.\n"
     ]
    },
    {
     "name": "stdout",
     "output_type": "stream",
     "text": [
      "209/468 [============>.................] - ETA: 4:20 - loss: 0.7385 - accuracy: 0.5574\n",
      "Epoch 00001: saving model to training_10_3/cp-0001.ckpt\n"
     ]
    },
    {
     "name": "stderr",
     "output_type": "stream",
     "text": [
      "W0622 23:47:41.095271 27080 callbacks.py:241] Method (on_train_batch_end) is slow compared to the batch update (0.367095). Check your callbacks.\n"
     ]
    },
    {
     "name": "stdout",
     "output_type": "stream",
     "text": [
      "210/468 [============>.................] - ETA: 4:18 - loss: 0.7360 - accuracy: 0.5584\n",
      "Epoch 00001: saving model to training_10_3/cp-0001.ckpt\n"
     ]
    },
    {
     "name": "stderr",
     "output_type": "stream",
     "text": [
      "W0622 23:47:42.100264 27080 callbacks.py:241] Method (on_train_batch_end) is slow compared to the batch update (0.367095). Check your callbacks.\n"
     ]
    },
    {
     "name": "stdout",
     "output_type": "stream",
     "text": [
      "211/468 [============>.................] - ETA: 4:17 - loss: 0.7342 - accuracy: 0.5593\n",
      "Epoch 00001: saving model to training_10_3/cp-0001.ckpt\n"
     ]
    },
    {
     "name": "stderr",
     "output_type": "stream",
     "text": [
      "W0622 23:47:43.178575 27080 callbacks.py:241] Method (on_train_batch_end) is slow compared to the batch update (0.386647). Check your callbacks.\n"
     ]
    },
    {
     "name": "stdout",
     "output_type": "stream",
     "text": [
      "212/468 [============>.................] - ETA: 4:16 - loss: 0.7324 - accuracy: 0.5602\n",
      "Epoch 00001: saving model to training_10_3/cp-0001.ckpt\n"
     ]
    },
    {
     "name": "stderr",
     "output_type": "stream",
     "text": [
      "W0622 23:47:43.610679 27080 callbacks.py:241] Method (on_train_batch_end) is slow compared to the batch update (0.386647). Check your callbacks.\n"
     ]
    },
    {
     "name": "stdout",
     "output_type": "stream",
     "text": [
      "213/468 [============>.................] - ETA: 4:15 - loss: 0.7309 - accuracy: 0.5611\n",
      "Epoch 00001: saving model to training_10_3/cp-0001.ckpt\n"
     ]
    },
    {
     "name": "stderr",
     "output_type": "stream",
     "text": [
      "W0622 23:47:43.920584 27080 callbacks.py:241] Method (on_train_batch_end) is slow compared to the batch update (0.386647). Check your callbacks.\n"
     ]
    },
    {
     "name": "stdout",
     "output_type": "stream",
     "text": [
      "214/468 [============>.................] - ETA: 4:13 - loss: 0.7290 - accuracy: 0.5620\n",
      "Epoch 00001: saving model to training_10_3/cp-0001.ckpt\n"
     ]
    },
    {
     "name": "stderr",
     "output_type": "stream",
     "text": [
      "W0622 23:47:44.247108 27080 callbacks.py:241] Method (on_train_batch_end) is slow compared to the batch update (0.353896). Check your callbacks.\n"
     ]
    },
    {
     "name": "stdout",
     "output_type": "stream",
     "text": [
      "215/468 [============>.................] - ETA: 4:11 - loss: 0.7275 - accuracy: 0.5629\n",
      "Epoch 00001: saving model to training_10_3/cp-0001.ckpt\n"
     ]
    },
    {
     "name": "stderr",
     "output_type": "stream",
     "text": [
      "W0622 23:47:44.771111 27080 callbacks.py:241] Method (on_train_batch_end) is slow compared to the batch update (0.353896). Check your callbacks.\n"
     ]
    },
    {
     "name": "stdout",
     "output_type": "stream",
     "text": [
      "216/468 [============>.................] - ETA: 4:10 - loss: 0.7260 - accuracy: 0.5638\n",
      "Epoch 00001: saving model to training_10_3/cp-0001.ckpt\n"
     ]
    },
    {
     "name": "stderr",
     "output_type": "stream",
     "text": [
      "W0622 23:47:45.146516 27080 callbacks.py:241] Method (on_train_batch_end) is slow compared to the batch update (0.327501). Check your callbacks.\n"
     ]
    },
    {
     "name": "stdout",
     "output_type": "stream",
     "text": [
      "217/468 [============>.................] - ETA: 4:08 - loss: 0.7239 - accuracy: 0.5647\n",
      "Epoch 00001: saving model to training_10_3/cp-0001.ckpt\n"
     ]
    },
    {
     "name": "stderr",
     "output_type": "stream",
     "text": [
      "W0622 23:47:45.460331 27080 callbacks.py:241] Method (on_train_batch_end) is slow compared to the batch update (0.293773). Check your callbacks.\n"
     ]
    },
    {
     "name": "stdout",
     "output_type": "stream",
     "text": [
      "218/468 [============>.................] - ETA: 4:06 - loss: 0.7228 - accuracy: 0.5656\n",
      "Epoch 00001: saving model to training_10_3/cp-0001.ckpt\n"
     ]
    },
    {
     "name": "stderr",
     "output_type": "stream",
     "text": [
      "W0622 23:47:45.824983 27080 callbacks.py:241] Method (on_train_batch_end) is slow compared to the batch update (0.294263). Check your callbacks.\n"
     ]
    },
    {
     "name": "stdout",
     "output_type": "stream",
     "text": [
      "219/468 [=============>................] - ETA: 4:04 - loss: 0.7212 - accuracy: 0.5665\n",
      "Epoch 00001: saving model to training_10_3/cp-0001.ckpt\n"
     ]
    },
    {
     "name": "stderr",
     "output_type": "stream",
     "text": [
      "W0622 23:47:46.487809 27080 callbacks.py:241] Method (on_train_batch_end) is slow compared to the batch update (0.327501). Check your callbacks.\n"
     ]
    },
    {
     "name": "stdout",
     "output_type": "stream",
     "text": [
      "220/468 [=============>................] - ETA: 4:03 - loss: 0.7188 - accuracy: 0.5673\n",
      "Epoch 00001: saving model to training_10_3/cp-0001.ckpt\n"
     ]
    },
    {
     "name": "stderr",
     "output_type": "stream",
     "text": [
      "W0622 23:47:47.041138 27080 callbacks.py:241] Method (on_train_batch_end) is slow compared to the batch update (0.327501). Check your callbacks.\n"
     ]
    },
    {
     "name": "stdout",
     "output_type": "stream",
     "text": [
      "221/468 [=============>................] - ETA: 4:02 - loss: 0.7172 - accuracy: 0.5682\n",
      "Epoch 00001: saving model to training_10_3/cp-0001.ckpt\n"
     ]
    },
    {
     "name": "stderr",
     "output_type": "stream",
     "text": [
      "W0622 23:47:47.530925 27080 callbacks.py:241] Method (on_train_batch_end) is slow compared to the batch update (0.327501). Check your callbacks.\n"
     ]
    },
    {
     "name": "stdout",
     "output_type": "stream",
     "text": [
      "222/468 [=============>................] - ETA: 4:00 - loss: 0.7159 - accuracy: 0.5691\n",
      "Epoch 00001: saving model to training_10_3/cp-0001.ckpt\n"
     ]
    },
    {
     "name": "stderr",
     "output_type": "stream",
     "text": [
      "W0622 23:47:48.075456 27080 callbacks.py:241] Method (on_train_batch_end) is slow compared to the batch update (0.346080). Check your callbacks.\n"
     ]
    },
    {
     "name": "stdout",
     "output_type": "stream",
     "text": [
      "223/468 [=============>................] - ETA: 3:59 - loss: 0.7138 - accuracy: 0.5699\n",
      "Epoch 00001: saving model to training_10_3/cp-0001.ckpt\n"
     ]
    },
    {
     "name": "stderr",
     "output_type": "stream",
     "text": [
      "W0622 23:47:48.539827 27080 callbacks.py:241] Method (on_train_batch_end) is slow compared to the batch update (0.360255). Check your callbacks.\n"
     ]
    },
    {
     "name": "stdout",
     "output_type": "stream",
     "text": [
      "224/468 [=============>................] - ETA: 3:57 - loss: 0.7125 - accuracy: 0.5708\n",
      "Epoch 00001: saving model to training_10_3/cp-0001.ckpt\n"
     ]
    },
    {
     "name": "stderr",
     "output_type": "stream",
     "text": [
      "W0622 23:47:49.046230 27080 callbacks.py:241] Method (on_train_batch_end) is slow compared to the batch update (0.376875). Check your callbacks.\n"
     ]
    },
    {
     "name": "stdout",
     "output_type": "stream",
     "text": [
      "225/468 [=============>................] - ETA: 3:56 - loss: 0.7111 - accuracy: 0.5716\n",
      "Epoch 00001: saving model to training_10_3/cp-0001.ckpt\n"
     ]
    },
    {
     "name": "stderr",
     "output_type": "stream",
     "text": [
      "W0622 23:47:49.775534 27080 callbacks.py:241] Method (on_train_batch_end) is slow compared to the batch update (0.376875). Check your callbacks.\n"
     ]
    },
    {
     "name": "stdout",
     "output_type": "stream",
     "text": [
      "226/468 [=============>................] - ETA: 3:54 - loss: 0.7091 - accuracy: 0.5725\n",
      "Epoch 00001: saving model to training_10_3/cp-0001.ckpt\n"
     ]
    },
    {
     "name": "stderr",
     "output_type": "stream",
     "text": [
      "W0622 23:47:50.128453 27080 callbacks.py:241] Method (on_train_batch_end) is slow compared to the batch update (0.376875). Check your callbacks.\n"
     ]
    },
    {
     "name": "stdout",
     "output_type": "stream",
     "text": [
      "227/468 [=============>................] - ETA: 3:53 - loss: 0.7073 - accuracy: 0.5733\n",
      "Epoch 00001: saving model to training_10_3/cp-0001.ckpt\n"
     ]
    },
    {
     "name": "stderr",
     "output_type": "stream",
     "text": [
      "W0622 23:47:50.768791 27080 callbacks.py:241] Method (on_train_batch_end) is slow compared to the batch update (0.393979). Check your callbacks.\n"
     ]
    },
    {
     "name": "stdout",
     "output_type": "stream",
     "text": [
      "228/468 [=============>................] - ETA: 3:51 - loss: 0.7054 - accuracy: 0.5742\n",
      "Epoch 00001: saving model to training_10_3/cp-0001.ckpt\n"
     ]
    },
    {
     "name": "stderr",
     "output_type": "stream",
     "text": [
      "W0622 23:47:51.262486 27080 callbacks.py:241] Method (on_train_batch_end) is slow compared to the batch update (0.393979). Check your callbacks.\n"
     ]
    },
    {
     "name": "stdout",
     "output_type": "stream",
     "text": [
      "229/468 [=============>................] - ETA: 3:50 - loss: 0.7043 - accuracy: 0.5750\n",
      "Epoch 00001: saving model to training_10_3/cp-0001.ckpt\n"
     ]
    },
    {
     "name": "stderr",
     "output_type": "stream",
     "text": [
      "W0622 23:47:51.470721 27080 callbacks.py:241] Method (on_train_batch_end) is slow compared to the batch update (0.376875). Check your callbacks.\n"
     ]
    },
    {
     "name": "stdout",
     "output_type": "stream",
     "text": [
      "230/468 [=============>................] - ETA: 3:48 - loss: 0.7023 - accuracy: 0.5758\n",
      "Epoch 00001: saving model to training_10_3/cp-0001.ckpt\n"
     ]
    },
    {
     "name": "stderr",
     "output_type": "stream",
     "text": [
      "W0622 23:47:51.786490 27080 callbacks.py:241] Method (on_train_batch_end) is slow compared to the batch update (0.360255). Check your callbacks.\n"
     ]
    },
    {
     "name": "stdout",
     "output_type": "stream",
     "text": [
      "231/468 [=============>................] - ETA: 3:47 - loss: 0.7011 - accuracy: 0.5766\n",
      "Epoch 00001: saving model to training_10_3/cp-0001.ckpt\n"
     ]
    },
    {
     "name": "stderr",
     "output_type": "stream",
     "text": [
      "W0622 23:47:52.299741 27080 callbacks.py:241] Method (on_train_batch_end) is slow compared to the batch update (0.377360). Check your callbacks.\n"
     ]
    },
    {
     "name": "stdout",
     "output_type": "stream",
     "text": [
      "232/468 [=============>................] - ETA: 3:45 - loss: 0.7003 - accuracy: 0.5775\n",
      "Epoch 00001: saving model to training_10_3/cp-0001.ckpt\n"
     ]
    },
    {
     "name": "stderr",
     "output_type": "stream",
     "text": [
      "W0622 23:47:52.804191 27080 callbacks.py:241] Method (on_train_batch_end) is slow compared to the batch update (0.358293). Check your callbacks.\n"
     ]
    },
    {
     "name": "stdout",
     "output_type": "stream",
     "text": [
      "233/468 [=============>................] - ETA: 3:44 - loss: 0.6987 - accuracy: 0.5783\n",
      "Epoch 00001: saving model to training_10_3/cp-0001.ckpt\n"
     ]
    },
    {
     "name": "stderr",
     "output_type": "stream",
     "text": [
      "W0622 23:47:53.447346 27080 callbacks.py:241] Method (on_train_batch_end) is slow compared to the batch update (0.386643). Check your callbacks.\n"
     ]
    },
    {
     "name": "stdout",
     "output_type": "stream",
     "text": [
      "234/468 [==============>...............] - ETA: 3:43 - loss: 0.6972 - accuracy: 0.5791\n",
      "Epoch 00001: saving model to training_10_3/cp-0001.ckpt\n"
     ]
    },
    {
     "name": "stderr",
     "output_type": "stream",
     "text": [
      "W0622 23:47:53.950603 27080 callbacks.py:241] Method (on_train_batch_end) is slow compared to the batch update (0.344796). Check your callbacks.\n"
     ]
    },
    {
     "name": "stdout",
     "output_type": "stream",
     "text": [
      "235/468 [==============>...............] - ETA: 3:41 - loss: 0.6955 - accuracy: 0.5799\n",
      "Epoch 00001: saving model to training_10_3/cp-0001.ckpt\n"
     ]
    },
    {
     "name": "stderr",
     "output_type": "stream",
     "text": [
      "W0622 23:47:54.356314 27080 callbacks.py:241] Method (on_train_batch_end) is slow compared to the batch update (0.319868). Check your callbacks.\n"
     ]
    },
    {
     "name": "stdout",
     "output_type": "stream",
     "text": [
      "236/468 [==============>...............] - ETA: 3:40 - loss: 0.6941 - accuracy: 0.5807\n",
      "Epoch 00001: saving model to training_10_3/cp-0001.ckpt\n"
     ]
    },
    {
     "name": "stderr",
     "output_type": "stream",
     "text": [
      "W0622 23:47:54.805040 27080 callbacks.py:241] Method (on_train_batch_end) is slow compared to the batch update (0.344796). Check your callbacks.\n"
     ]
    },
    {
     "name": "stdout",
     "output_type": "stream",
     "text": [
      "237/468 [==============>...............] - ETA: 3:38 - loss: 0.6925 - accuracy: 0.5815\n",
      "Epoch 00001: saving model to training_10_3/cp-0001.ckpt\n"
     ]
    },
    {
     "name": "stderr",
     "output_type": "stream",
     "text": [
      "W0622 23:47:55.261587 27080 callbacks.py:241] Method (on_train_batch_end) is slow compared to the batch update (0.339422). Check your callbacks.\n"
     ]
    },
    {
     "name": "stdout",
     "output_type": "stream",
     "text": [
      "238/468 [==============>...............] - ETA: 3:37 - loss: 0.6906 - accuracy: 0.5823\n",
      "Epoch 00001: saving model to training_10_3/cp-0001.ckpt\n"
     ]
    },
    {
     "name": "stderr",
     "output_type": "stream",
     "text": [
      "W0622 23:47:55.492304 27080 callbacks.py:241] Method (on_train_batch_end) is slow compared to the batch update (0.339422). Check your callbacks.\n"
     ]
    },
    {
     "name": "stdout",
     "output_type": "stream",
     "text": [
      "239/468 [==============>...............] - ETA: 3:35 - loss: 0.6889 - accuracy: 0.5830\n",
      "Epoch 00001: saving model to training_10_3/cp-0001.ckpt\n"
     ]
    },
    {
     "name": "stderr",
     "output_type": "stream",
     "text": [
      "W0622 23:47:55.775814 27080 callbacks.py:241] Method (on_train_batch_end) is slow compared to the batch update (0.339422). Check your callbacks.\n"
     ]
    },
    {
     "name": "stdout",
     "output_type": "stream",
     "text": [
      "240/468 [==============>...............] - ETA: 3:34 - loss: 0.6875 - accuracy: 0.5838\n",
      "Epoch 00001: saving model to training_10_3/cp-0001.ckpt\n"
     ]
    },
    {
     "name": "stderr",
     "output_type": "stream",
     "text": [
      "W0622 23:47:56.021203 27080 callbacks.py:241] Method (on_train_batch_end) is slow compared to the batch update (0.339422). Check your callbacks.\n"
     ]
    },
    {
     "name": "stdout",
     "output_type": "stream",
     "text": [
      "241/468 [==============>...............] - ETA: 3:32 - loss: 0.6861 - accuracy: 0.5846\n",
      "Epoch 00001: saving model to training_10_3/cp-0001.ckpt\n"
     ]
    },
    {
     "name": "stderr",
     "output_type": "stream",
     "text": [
      "W0622 23:47:56.527603 27080 callbacks.py:241] Method (on_train_batch_end) is slow compared to the batch update (0.339422). Check your callbacks.\n"
     ]
    },
    {
     "name": "stdout",
     "output_type": "stream",
     "text": [
      "242/468 [==============>...............] - ETA: 3:31 - loss: 0.6849 - accuracy: 0.5854\n",
      "Epoch 00001: saving model to training_10_3/cp-0001.ckpt\n"
     ]
    },
    {
     "name": "stderr",
     "output_type": "stream",
     "text": [
      "W0622 23:47:56.951887 27080 callbacks.py:241] Method (on_train_batch_end) is slow compared to the batch update (0.322315). Check your callbacks.\n"
     ]
    },
    {
     "name": "stdout",
     "output_type": "stream",
     "text": [
      "243/468 [==============>...............] - ETA: 3:29 - loss: 0.6832 - accuracy: 0.5861\n",
      "Epoch 00001: saving model to training_10_3/cp-0001.ckpt\n"
     ]
    },
    {
     "name": "stderr",
     "output_type": "stream",
     "text": [
      "W0622 23:47:57.394749 27080 callbacks.py:241] Method (on_train_batch_end) is slow compared to the batch update (0.322315). Check your callbacks.\n"
     ]
    },
    {
     "name": "stdout",
     "output_type": "stream",
     "text": [
      "244/468 [==============>...............] - ETA: 3:28 - loss: 0.6816 - accuracy: 0.5869\n",
      "Epoch 00001: saving model to training_10_3/cp-0001.ckpt\n"
     ]
    },
    {
     "name": "stderr",
     "output_type": "stream",
     "text": [
      "W0622 23:47:57.760376 27080 callbacks.py:241] Method (on_train_batch_end) is slow compared to the batch update (0.311371). Check your callbacks.\n"
     ]
    },
    {
     "name": "stdout",
     "output_type": "stream",
     "text": [
      "245/468 [==============>...............] - ETA: 3:26 - loss: 0.6801 - accuracy: 0.5877\n",
      "Epoch 00001: saving model to training_10_3/cp-0001.ckpt\n"
     ]
    },
    {
     "name": "stderr",
     "output_type": "stream",
     "text": [
      "W0622 23:47:58.248208 27080 callbacks.py:241] Method (on_train_batch_end) is slow compared to the batch update (0.326036). Check your callbacks.\n"
     ]
    },
    {
     "name": "stdout",
     "output_type": "stream",
     "text": [
      "246/468 [==============>...............] - ETA: 3:25 - loss: 0.6803 - accuracy: 0.5884\n",
      "Epoch 00001: saving model to training_10_3/cp-0001.ckpt\n"
     ]
    },
    {
     "name": "stderr",
     "output_type": "stream",
     "text": [
      "W0622 23:47:59.022479 27080 callbacks.py:241] Method (on_train_batch_end) is slow compared to the batch update (0.326036). Check your callbacks.\n"
     ]
    },
    {
     "name": "stdout",
     "output_type": "stream",
     "text": [
      "\b\b\b\b\b\b\b\b\b\b\b\b\b\b\b\b\b\b\b\b\b\b\b\b\b\b\b\b\b\b\b\b\b\b\b\b\b\b\b\b\b\b\b\b\b\b\b\b\b\b\b\b\b\b\b\b\b\b\b\b\b\b\b\b\b\b\b\b\b\b\b\b\b\b\b\b\b\b\b\b\b\b\b\b\b\b\r",
      "247/468 [==============>...............] - ETA: 3:24 - loss: 0.6786 - accuracy: 0.5892"
     ]
    },
    {
     "name": "stderr",
     "output_type": "stream",
     "text": [
      "W0622 23:47:59.219958 27080 callbacks.py:241] Method (on_train_batch_end) is slow compared to the batch update (0.284975). Check your callbacks.\n"
     ]
    },
    {
     "name": "stdout",
     "output_type": "stream",
     "text": [
      "\n",
      "Epoch 00001: saving model to training_10_3/cp-0001.ckpt\n",
      "248/468 [==============>...............] - ETA: 3:22 - loss: 0.6771 - accuracy: 0.5899\n",
      "Epoch 00001: saving model to training_10_3/cp-0001.ckpt\n"
     ]
    },
    {
     "name": "stderr",
     "output_type": "stream",
     "text": [
      "W0622 23:47:59.627624 27080 callbacks.py:241] Method (on_train_batch_end) is slow compared to the batch update (0.326036). Check your callbacks.\n"
     ]
    },
    {
     "name": "stdout",
     "output_type": "stream",
     "text": [
      "249/468 [==============>...............] - ETA: 3:21 - loss: 0.6756 - accuracy: 0.5906\n",
      "Epoch 00001: saving model to training_10_3/cp-0001.ckpt\n"
     ]
    },
    {
     "name": "stderr",
     "output_type": "stream",
     "text": [
      "W0622 23:48:00.034314 27080 callbacks.py:241] Method (on_train_batch_end) is slow compared to the batch update (0.330434). Check your callbacks.\n"
     ]
    },
    {
     "name": "stdout",
     "output_type": "stream",
     "text": [
      "250/468 [===============>..............] - ETA: 3:20 - loss: 0.6745 - accuracy: 0.5914\n",
      "Epoch 00001: saving model to training_10_3/cp-0001.ckpt\n"
     ]
    },
    {
     "name": "stderr",
     "output_type": "stream",
     "text": [
      "W0622 23:48:00.647280 27080 callbacks.py:241] Method (on_train_batch_end) is slow compared to the batch update (0.339723). Check your callbacks.\n"
     ]
    },
    {
     "name": "stdout",
     "output_type": "stream",
     "text": [
      "251/468 [===============>..............] - ETA: 3:19 - loss: 0.6730 - accuracy: 0.5921\n",
      "Epoch 00001: saving model to training_10_3/cp-0001.ckpt\n"
     ]
    },
    {
     "name": "stderr",
     "output_type": "stream",
     "text": [
      "W0622 23:48:01.150753 27080 callbacks.py:241] Method (on_train_batch_end) is slow compared to the batch update (0.339723). Check your callbacks.\n"
     ]
    },
    {
     "name": "stdout",
     "output_type": "stream",
     "text": [
      "252/468 [===============>..............] - ETA: 3:17 - loss: 0.6715 - accuracy: 0.5928\n",
      "Epoch 00001: saving model to training_10_3/cp-0001.ckpt\n"
     ]
    },
    {
     "name": "stderr",
     "output_type": "stream",
     "text": [
      "W0622 23:48:02.051136 27080 callbacks.py:241] Method (on_train_batch_end) is slow compared to the batch update (0.353409). Check your callbacks.\n"
     ]
    },
    {
     "name": "stdout",
     "output_type": "stream",
     "text": [
      "253/468 [===============>..............] - ETA: 3:16 - loss: 0.6702 - accuracy: 0.5936\n",
      "Epoch 00001: saving model to training_10_3/cp-0001.ckpt\n"
     ]
    },
    {
     "name": "stderr",
     "output_type": "stream",
     "text": [
      "W0622 23:48:02.287720 27080 callbacks.py:241] Method (on_train_batch_end) is slow compared to the batch update (0.353409). Check your callbacks.\n"
     ]
    },
    {
     "name": "stdout",
     "output_type": "stream",
     "text": [
      "254/468 [===============>..............] - ETA: 3:15 - loss: 0.6689 - accuracy: 0.5943\n",
      "Epoch 00001: saving model to training_10_3/cp-0001.ckpt\n"
     ]
    },
    {
     "name": "stderr",
     "output_type": "stream",
     "text": [
      "W0622 23:48:02.748178 27080 callbacks.py:241] Method (on_train_batch_end) is slow compared to the batch update (0.369538). Check your callbacks.\n"
     ]
    },
    {
     "name": "stdout",
     "output_type": "stream",
     "text": [
      "255/468 [===============>..............] - ETA: 3:14 - loss: 0.6674 - accuracy: 0.5950\n",
      "Epoch 00001: saving model to training_10_3/cp-0001.ckpt\n"
     ]
    },
    {
     "name": "stderr",
     "output_type": "stream",
     "text": [
      "W0622 23:48:03.041463 27080 callbacks.py:241] Method (on_train_batch_end) is slow compared to the batch update (0.353409). Check your callbacks.\n"
     ]
    },
    {
     "name": "stdout",
     "output_type": "stream",
     "text": [
      "256/468 [===============>..............] - ETA: 3:12 - loss: 0.6668 - accuracy: 0.5957\n",
      "Epoch 00001: saving model to training_10_3/cp-0001.ckpt\n"
     ]
    },
    {
     "name": "stderr",
     "output_type": "stream",
     "text": [
      "W0622 23:48:03.364078 27080 callbacks.py:241] Method (on_train_batch_end) is slow compared to the batch update (0.339723). Check your callbacks.\n"
     ]
    },
    {
     "name": "stdout",
     "output_type": "stream",
     "text": [
      "257/468 [===============>..............] - ETA: 3:11 - loss: 0.6650 - accuracy: 0.5964\n",
      "Epoch 00001: saving model to training_10_3/cp-0001.ckpt\n"
     ]
    },
    {
     "name": "stderr",
     "output_type": "stream",
     "text": [
      "W0622 23:48:03.652473 27080 callbacks.py:241] Method (on_train_batch_end) is slow compared to the batch update (0.339723). Check your callbacks.\n"
     ]
    },
    {
     "name": "stdout",
     "output_type": "stream",
     "text": [
      "258/468 [===============>..............] - ETA: 3:09 - loss: 0.6639 - accuracy: 0.5971\n",
      "Epoch 00001: saving model to training_10_3/cp-0001.ckpt\n"
     ]
    },
    {
     "name": "stderr",
     "output_type": "stream",
     "text": [
      "W0622 23:48:03.997573 27080 callbacks.py:241] Method (on_train_batch_end) is slow compared to the batch update (0.323593). Check your callbacks.\n"
     ]
    },
    {
     "name": "stdout",
     "output_type": "stream",
     "text": [
      "259/468 [===============>..............] - ETA: 3:08 - loss: 0.6623 - accuracy: 0.5978\n",
      "Epoch 00001: saving model to training_10_3/cp-0001.ckpt\n"
     ]
    },
    {
     "name": "stderr",
     "output_type": "stream",
     "text": [
      "W0622 23:48:04.397417 27080 callbacks.py:241] Method (on_train_batch_end) is slow compared to the batch update (0.300128). Check your callbacks.\n"
     ]
    },
    {
     "name": "stdout",
     "output_type": "stream",
     "text": [
      "260/468 [===============>..............] - ETA: 3:07 - loss: 0.6611 - accuracy: 0.5985\n",
      "Epoch 00001: saving model to training_10_3/cp-0001.ckpt\n"
     ]
    },
    {
     "name": "stderr",
     "output_type": "stream",
     "text": [
      "W0622 23:48:04.694612 27080 callbacks.py:241] Method (on_train_batch_end) is slow compared to the batch update (0.287421). Check your callbacks.\n"
     ]
    },
    {
     "name": "stdout",
     "output_type": "stream",
     "text": [
      "261/468 [===============>..............] - ETA: 3:05 - loss: 0.6598 - accuracy: 0.5992\n",
      "Epoch 00001: saving model to training_10_3/cp-0001.ckpt\n"
     ]
    },
    {
     "name": "stderr",
     "output_type": "stream",
     "text": [
      "W0622 23:48:05.146274 27080 callbacks.py:241] Method (on_train_batch_end) is slow compared to the batch update (0.287421). Check your callbacks.\n"
     ]
    },
    {
     "name": "stdout",
     "output_type": "stream",
     "text": [
      "262/468 [===============>..............] - ETA: 3:04 - loss: 0.6584 - accuracy: 0.5999\n",
      "Epoch 00001: saving model to training_10_3/cp-0001.ckpt\n"
     ]
    },
    {
     "name": "stderr",
     "output_type": "stream",
     "text": [
      "W0622 23:48:05.575447 27080 callbacks.py:241] Method (on_train_batch_end) is slow compared to the batch update (0.282041). Check your callbacks.\n"
     ]
    },
    {
     "name": "stdout",
     "output_type": "stream",
     "text": [
      "263/468 [===============>..............] - ETA: 3:03 - loss: 0.6567 - accuracy: 0.6006\n",
      "Epoch 00001: saving model to training_10_3/cp-0001.ckpt\n"
     ]
    },
    {
     "name": "stderr",
     "output_type": "stream",
     "text": [
      "W0622 23:48:06.092605 27080 callbacks.py:241] Method (on_train_batch_end) is slow compared to the batch update (0.293774). Check your callbacks.\n"
     ]
    },
    {
     "name": "stdout",
     "output_type": "stream",
     "text": [
      "264/468 [===============>..............] - ETA: 3:02 - loss: 0.6551 - accuracy: 0.6013\n",
      "Epoch 00001: saving model to training_10_3/cp-0001.ckpt\n"
     ]
    },
    {
     "name": "stderr",
     "output_type": "stream",
     "text": [
      "W0622 23:48:06.521780 27080 callbacks.py:241] Method (on_train_batch_end) is slow compared to the batch update (0.293774). Check your callbacks.\n"
     ]
    },
    {
     "name": "stdout",
     "output_type": "stream",
     "text": [
      "265/468 [===============>..............] - ETA: 3:00 - loss: 0.6542 - accuracy: 0.6020\n",
      "Epoch 00001: saving model to training_10_3/cp-0001.ckpt\n"
     ]
    },
    {
     "name": "stderr",
     "output_type": "stream",
     "text": [
      "W0622 23:48:06.932379 27080 callbacks.py:241] Method (on_train_batch_end) is slow compared to the batch update (0.300128). Check your callbacks.\n"
     ]
    },
    {
     "name": "stdout",
     "output_type": "stream",
     "text": [
      "266/468 [================>.............] - ETA: 2:59 - loss: 0.6534 - accuracy: 0.6027\n",
      "Epoch 00001: saving model to training_10_3/cp-0001.ckpt\n"
     ]
    },
    {
     "name": "stderr",
     "output_type": "stream",
     "text": [
      "W0622 23:48:07.353733 27080 callbacks.py:241] Method (on_train_batch_end) is slow compared to the batch update (0.302083). Check your callbacks.\n"
     ]
    },
    {
     "name": "stdout",
     "output_type": "stream",
     "text": [
      "267/468 [================>.............] - ETA: 2:58 - loss: 0.6517 - accuracy: 0.6033\n",
      "Epoch 00001: saving model to training_10_3/cp-0001.ckpt\n"
     ]
    },
    {
     "name": "stderr",
     "output_type": "stream",
     "text": [
      "W0622 23:48:07.841563 27080 callbacks.py:241] Method (on_train_batch_end) is slow compared to the batch update (0.304527). Check your callbacks.\n"
     ]
    },
    {
     "name": "stdout",
     "output_type": "stream",
     "text": [
      "268/468 [================>.............] - ETA: 2:57 - loss: 0.6501 - accuracy: 0.6040\n",
      "Epoch 00001: saving model to training_10_3/cp-0001.ckpt\n"
     ]
    },
    {
     "name": "stderr",
     "output_type": "stream",
     "text": [
      "W0622 23:48:08.195461 27080 callbacks.py:241] Method (on_train_batch_end) is slow compared to the batch update (0.304527). Check your callbacks.\n"
     ]
    },
    {
     "name": "stdout",
     "output_type": "stream",
     "text": [
      "269/468 [================>.............] - ETA: 2:55 - loss: 0.6490 - accuracy: 0.6047\n",
      "Epoch 00001: saving model to training_10_3/cp-0001.ckpt\n"
     ]
    },
    {
     "name": "stderr",
     "output_type": "stream",
     "text": [
      "W0622 23:48:08.622678 27080 callbacks.py:241] Method (on_train_batch_end) is slow compared to the batch update (0.306482). Check your callbacks.\n"
     ]
    },
    {
     "name": "stdout",
     "output_type": "stream",
     "text": [
      "270/468 [================>.............] - ETA: 2:54 - loss: 0.6484 - accuracy: 0.6053\n",
      "Epoch 00001: saving model to training_10_3/cp-0001.ckpt\n"
     ]
    },
    {
     "name": "stderr",
     "output_type": "stream",
     "text": [
      "W0622 23:48:09.430191 27080 callbacks.py:241] Method (on_train_batch_end) is slow compared to the batch update (0.310883). Check your callbacks.\n"
     ]
    },
    {
     "name": "stdout",
     "output_type": "stream",
     "text": [
      "271/468 [================>.............] - ETA: 2:53 - loss: 0.6481 - accuracy: 0.6060\n",
      "Epoch 00001: saving model to training_10_3/cp-0001.ckpt\n"
     ]
    },
    {
     "name": "stderr",
     "output_type": "stream",
     "text": [
      "W0622 23:48:09.961038 27080 callbacks.py:241] Method (on_train_batch_end) is slow compared to the batch update (0.310883). Check your callbacks.\n"
     ]
    },
    {
     "name": "stdout",
     "output_type": "stream",
     "text": [
      "272/468 [================>.............] - ETA: 2:52 - loss: 0.6468 - accuracy: 0.6067\n",
      "Epoch 00001: saving model to training_10_3/cp-0001.ckpt\n"
     ]
    },
    {
     "name": "stderr",
     "output_type": "stream",
     "text": [
      "W0622 23:48:10.403896 27080 callbacks.py:241] Method (on_train_batch_end) is slow compared to the batch update (0.315281). Check your callbacks.\n"
     ]
    },
    {
     "name": "stdout",
     "output_type": "stream",
     "text": [
      "273/468 [================>.............] - ETA: 2:51 - loss: 0.6453 - accuracy: 0.6073\n",
      "Epoch 00001: saving model to training_10_3/cp-0001.ckpt\n"
     ]
    },
    {
     "name": "stderr",
     "output_type": "stream",
     "text": [
      "W0622 23:48:10.833070 27080 callbacks.py:241] Method (on_train_batch_end) is slow compared to the batch update (0.319188). Check your callbacks.\n"
     ]
    },
    {
     "name": "stdout",
     "output_type": "stream",
     "text": [
      "274/468 [================>.............] - ETA: 2:50 - loss: 0.6444 - accuracy: 0.6080\n",
      "Epoch 00001: saving model to training_10_3/cp-0001.ckpt\n"
     ]
    },
    {
     "name": "stderr",
     "output_type": "stream",
     "text": [
      "W0622 23:48:11.176216 27080 callbacks.py:241] Method (on_train_batch_end) is slow compared to the batch update (0.319188). Check your callbacks.\n"
     ]
    },
    {
     "name": "stdout",
     "output_type": "stream",
     "text": [
      "275/468 [================>.............] - ETA: 2:48 - loss: 0.6432 - accuracy: 0.6086\n",
      "Epoch 00001: saving model to training_10_3/cp-0001.ckpt\n"
     ]
    },
    {
     "name": "stderr",
     "output_type": "stream",
     "text": [
      "W0622 23:48:11.522291 27080 callbacks.py:241] Method (on_train_batch_end) is slow compared to the batch update (0.319188). Check your callbacks.\n"
     ]
    },
    {
     "name": "stdout",
     "output_type": "stream",
     "text": [
      "276/468 [================>.............] - ETA: 2:47 - loss: 0.6421 - accuracy: 0.6093\n",
      "Epoch 00001: saving model to training_10_3/cp-0001.ckpt\n"
     ]
    },
    {
     "name": "stderr",
     "output_type": "stream",
     "text": [
      "W0622 23:48:12.126460 27080 callbacks.py:241] Method (on_train_batch_end) is slow compared to the batch update (0.322610). Check your callbacks.\n"
     ]
    },
    {
     "name": "stdout",
     "output_type": "stream",
     "text": [
      "277/468 [================>.............] - ETA: 2:46 - loss: 0.6409 - accuracy: 0.6099\n",
      "Epoch 00001: saving model to training_10_3/cp-0001.ckpt\n"
     ]
    },
    {
     "name": "stderr",
     "output_type": "stream",
     "text": [
      "W0622 23:48:12.618200 27080 callbacks.py:241] Method (on_train_batch_end) is slow compared to the batch update (0.322610). Check your callbacks.\n"
     ]
    },
    {
     "name": "stdout",
     "output_type": "stream",
     "text": [
      "278/468 [================>.............] - ETA: 2:45 - loss: 0.6400 - accuracy: 0.6106\n",
      "Epoch 00001: saving model to training_10_3/cp-0001.ckpt\n"
     ]
    },
    {
     "name": "stderr",
     "output_type": "stream",
     "text": [
      "W0622 23:48:13.194016 27080 callbacks.py:241] Method (on_train_batch_end) is slow compared to the batch update (0.339721). Check your callbacks.\n"
     ]
    },
    {
     "name": "stdout",
     "output_type": "stream",
     "text": [
      "279/468 [================>.............] - ETA: 2:44 - loss: 0.6386 - accuracy: 0.6112\n",
      "Epoch 00001: saving model to training_10_3/cp-0001.ckpt\n"
     ]
    },
    {
     "name": "stderr",
     "output_type": "stream",
     "text": [
      "W0622 23:48:13.708244 27080 callbacks.py:241] Method (on_train_batch_end) is slow compared to the batch update (0.372960). Check your callbacks.\n"
     ]
    },
    {
     "name": "stdout",
     "output_type": "stream",
     "text": [
      "280/468 [================>.............] - ETA: 2:43 - loss: 0.6378 - accuracy: 0.6118\n",
      "Epoch 00001: saving model to training_10_3/cp-0001.ckpt\n"
     ]
    },
    {
     "name": "stderr",
     "output_type": "stream",
     "text": [
      "W0622 23:48:14.130572 27080 callbacks.py:241] Method (on_train_batch_end) is slow compared to the batch update (0.339721). Check your callbacks.\n"
     ]
    },
    {
     "name": "stdout",
     "output_type": "stream",
     "text": [
      "281/468 [=================>............] - ETA: 2:42 - loss: 0.6365 - accuracy: 0.6125\n",
      "Epoch 00001: saving model to training_10_3/cp-0001.ckpt\n"
     ]
    },
    {
     "name": "stderr",
     "output_type": "stream",
     "text": [
      "W0622 23:48:14.472738 27080 callbacks.py:241] Method (on_train_batch_end) is slow compared to the batch update (0.322610). Check your callbacks.\n"
     ]
    },
    {
     "name": "stdout",
     "output_type": "stream",
     "text": [
      "282/468 [=================>............] - ETA: 2:40 - loss: 0.6351 - accuracy: 0.6131\n",
      "Epoch 00001: saving model to training_10_3/cp-0001.ckpt\n"
     ]
    },
    {
     "name": "stderr",
     "output_type": "stream",
     "text": [
      "W0622 23:48:14.811974 27080 callbacks.py:241] Method (on_train_batch_end) is slow compared to the batch update (0.309413). Check your callbacks.\n"
     ]
    },
    {
     "name": "stdout",
     "output_type": "stream",
     "text": [
      "283/468 [=================>............] - ETA: 2:39 - loss: 0.6336 - accuracy: 0.6137\n",
      "Epoch 00001: saving model to training_10_3/cp-0001.ckpt\n"
     ]
    },
    {
     "name": "stderr",
     "output_type": "stream",
     "text": [
      "W0622 23:48:15.131652 27080 callbacks.py:241] Method (on_train_batch_end) is slow compared to the batch update (0.284487). Check your callbacks.\n"
     ]
    },
    {
     "name": "stdout",
     "output_type": "stream",
     "text": [
      "284/468 [=================>............] - ETA: 2:38 - loss: 0.6326 - accuracy: 0.6143\n",
      "Epoch 00001: saving model to training_10_3/cp-0001.ckpt\n"
     ]
    },
    {
     "name": "stderr",
     "output_type": "stream",
     "text": [
      "W0622 23:48:15.619483 27080 callbacks.py:241] Method (on_train_batch_end) is slow compared to the batch update (0.326523). Check your callbacks.\n"
     ]
    },
    {
     "name": "stdout",
     "output_type": "stream",
     "text": [
      "285/468 [=================>............] - ETA: 2:37 - loss: 0.6317 - accuracy: 0.6150\n",
      "Epoch 00001: saving model to training_10_3/cp-0001.ckpt\n"
     ]
    },
    {
     "name": "stderr",
     "output_type": "stream",
     "text": [
      "W0622 23:48:16.042791 27080 callbacks.py:241] Method (on_train_batch_end) is slow compared to the batch update (0.338744). Check your callbacks.\n"
     ]
    },
    {
     "name": "stdout",
     "output_type": "stream",
     "text": [
      "286/468 [=================>............] - ETA: 2:36 - loss: 0.6307 - accuracy: 0.6156\n",
      "Epoch 00001: saving model to training_10_3/cp-0001.ckpt\n"
     ]
    },
    {
     "name": "stderr",
     "output_type": "stream",
     "text": [
      "W0622 23:48:16.639137 27080 callbacks.py:241] Method (on_train_batch_end) is slow compared to the batch update (0.338744). Check your callbacks.\n"
     ]
    },
    {
     "name": "stdout",
     "output_type": "stream",
     "text": [
      "287/468 [=================>............] - ETA: 2:35 - loss: 0.6301 - accuracy: 0.6162\n",
      "Epoch 00001: saving model to training_10_3/cp-0001.ckpt\n"
     ]
    },
    {
     "name": "stderr",
     "output_type": "stream",
     "text": [
      "W0622 23:48:17.215934 27080 callbacks.py:241] Method (on_train_batch_end) is slow compared to the batch update (0.348521). Check your callbacks.\n"
     ]
    },
    {
     "name": "stdout",
     "output_type": "stream",
     "text": [
      "288/468 [=================>............] - ETA: 2:34 - loss: 0.6289 - accuracy: 0.6168\n",
      "Epoch 00001: saving model to training_10_3/cp-0001.ckpt\n"
     ]
    },
    {
     "name": "stderr",
     "output_type": "stream",
     "text": [
      "W0622 23:48:17.751665 27080 callbacks.py:241] Method (on_train_batch_end) is slow compared to the batch update (0.348521). Check your callbacks.\n"
     ]
    },
    {
     "name": "stdout",
     "output_type": "stream",
     "text": [
      "289/468 [=================>............] - ETA: 2:33 - loss: 0.6278 - accuracy: 0.6174\n",
      "Epoch 00001: saving model to training_10_3/cp-0001.ckpt\n"
     ]
    },
    {
     "name": "stderr",
     "output_type": "stream",
     "text": [
      "W0622 23:48:18.294243 27080 callbacks.py:241] Method (on_train_batch_end) is slow compared to the batch update (0.348521). Check your callbacks.\n"
     ]
    },
    {
     "name": "stdout",
     "output_type": "stream",
     "text": [
      "290/468 [=================>............] - ETA: 2:32 - loss: 0.6266 - accuracy: 0.6180\n",
      "Epoch 00001: saving model to training_10_3/cp-0001.ckpt\n"
     ]
    },
    {
     "name": "stderr",
     "output_type": "stream",
     "text": [
      "W0622 23:48:18.618813 27080 callbacks.py:241] Method (on_train_batch_end) is slow compared to the batch update (0.348521). Check your callbacks.\n"
     ]
    },
    {
     "name": "stdout",
     "output_type": "stream",
     "text": [
      "291/468 [=================>............] - ETA: 2:30 - loss: 0.6254 - accuracy: 0.6186\n",
      "Epoch 00001: saving model to training_10_3/cp-0001.ckpt\n"
     ]
    },
    {
     "name": "stderr",
     "output_type": "stream",
     "text": [
      "W0622 23:48:19.008882 27080 callbacks.py:241] Method (on_train_batch_end) is slow compared to the batch update (0.348521). Check your callbacks.\n"
     ]
    },
    {
     "name": "stdout",
     "output_type": "stream",
     "text": [
      "292/468 [=================>............] - ETA: 2:29 - loss: 0.6245 - accuracy: 0.6192\n",
      "Epoch 00001: saving model to training_10_3/cp-0001.ckpt\n"
     ]
    },
    {
     "name": "stderr",
     "output_type": "stream",
     "text": [
      "W0622 23:48:19.504533 27080 callbacks.py:241] Method (on_train_batch_end) is slow compared to the batch update (0.383227). Check your callbacks.\n"
     ]
    },
    {
     "name": "stdout",
     "output_type": "stream",
     "text": [
      "293/468 [=================>............] - ETA: 2:28 - loss: 0.6240 - accuracy: 0.6198\n",
      "Epoch 00001: saving model to training_10_3/cp-0001.ckpt\n"
     ]
    },
    {
     "name": "stderr",
     "output_type": "stream",
     "text": [
      "W0622 23:48:19.889714 27080 callbacks.py:241] Method (on_train_batch_end) is slow compared to the batch update (0.383227). Check your callbacks.\n"
     ]
    },
    {
     "name": "stdout",
     "output_type": "stream",
     "text": [
      "294/468 [=================>............] - ETA: 2:27 - loss: 0.6234 - accuracy: 0.6204\n",
      "Epoch 00001: saving model to training_10_3/cp-0001.ckpt\n"
     ]
    },
    {
     "name": "stderr",
     "output_type": "stream",
     "text": [
      "W0622 23:48:20.373635 27080 callbacks.py:241] Method (on_train_batch_end) is slow compared to the batch update (0.381761). Check your callbacks.\n"
     ]
    },
    {
     "name": "stdout",
     "output_type": "stream",
     "text": [
      "295/468 [=================>............] - ETA: 2:26 - loss: 0.6225 - accuracy: 0.6210\n",
      "Epoch 00001: saving model to training_10_3/cp-0001.ckpt\n"
     ]
    },
    {
     "name": "stderr",
     "output_type": "stream",
     "text": [
      "W0622 23:48:20.834092 27080 callbacks.py:241] Method (on_train_batch_end) is slow compared to the batch update (0.381761). Check your callbacks.\n"
     ]
    },
    {
     "name": "stdout",
     "output_type": "stream",
     "text": [
      "296/468 [=================>............] - ETA: 2:25 - loss: 0.6215 - accuracy: 0.6216\n",
      "Epoch 00001: saving model to training_10_3/cp-0001.ckpt\n"
     ]
    },
    {
     "name": "stderr",
     "output_type": "stream",
     "text": [
      "W0622 23:48:21.387423 27080 callbacks.py:241] Method (on_train_batch_end) is slow compared to the batch update (0.381761). Check your callbacks.\n"
     ]
    },
    {
     "name": "stdout",
     "output_type": "stream",
     "text": [
      "297/468 [==================>...........] - ETA: 2:24 - loss: 0.6204 - accuracy: 0.6222\n",
      "Epoch 00001: saving model to training_10_3/cp-0001.ckpt\n"
     ]
    },
    {
     "name": "stderr",
     "output_type": "stream",
     "text": [
      "W0622 23:48:22.483331 27080 callbacks.py:241] Method (on_train_batch_end) is slow compared to the batch update (0.381761). Check your callbacks.\n"
     ]
    },
    {
     "name": "stdout",
     "output_type": "stream",
     "text": [
      "298/468 [==================>...........] - ETA: 2:23 - loss: 0.6195 - accuracy: 0.6227\n",
      "Epoch 00001: saving model to training_10_3/cp-0001.ckpt\n"
     ]
    },
    {
     "name": "stderr",
     "output_type": "stream",
     "text": [
      "W0622 23:48:22.823542 27080 callbacks.py:241] Method (on_train_batch_end) is slow compared to the batch update (0.364164). Check your callbacks.\n"
     ]
    },
    {
     "name": "stdout",
     "output_type": "stream",
     "text": [
      "299/468 [==================>...........] - ETA: 2:22 - loss: 0.6180 - accuracy: 0.6233\n",
      "Epoch 00001: saving model to training_10_3/cp-0001.ckpt\n"
     ]
    },
    {
     "name": "stderr",
     "output_type": "stream",
     "text": [
      "W0622 23:48:23.045460 27080 callbacks.py:241] Method (on_train_batch_end) is slow compared to the batch update (0.313816). Check your callbacks.\n"
     ]
    },
    {
     "name": "stdout",
     "output_type": "stream",
     "text": [
      "300/468 [==================>...........] - ETA: 2:21 - loss: 0.6167 - accuracy: 0.6239\n",
      "Epoch 00001: saving model to training_10_3/cp-0001.ckpt\n"
     ]
    },
    {
     "name": "stderr",
     "output_type": "stream",
     "text": [
      "W0622 23:48:23.373941 27080 callbacks.py:241] Method (on_train_batch_end) is slow compared to the batch update (0.313816). Check your callbacks.\n"
     ]
    },
    {
     "name": "stdout",
     "output_type": "stream",
     "text": [
      "301/468 [==================>...........] - ETA: 2:20 - loss: 0.6155 - accuracy: 0.6245\n",
      "Epoch 00001: saving model to training_10_3/cp-0001.ckpt\n"
     ]
    },
    {
     "name": "stderr",
     "output_type": "stream",
     "text": [
      "W0622 23:48:23.906744 27080 callbacks.py:241] Method (on_train_batch_end) is slow compared to the batch update (0.364164). Check your callbacks.\n"
     ]
    },
    {
     "name": "stdout",
     "output_type": "stream",
     "text": [
      "302/468 [==================>...........] - ETA: 2:19 - loss: 0.6146 - accuracy: 0.6250\n",
      "Epoch 00001: saving model to training_10_3/cp-0001.ckpt\n"
     ]
    },
    {
     "name": "stderr",
     "output_type": "stream",
     "text": [
      "W0622 23:48:24.482558 27080 callbacks.py:241] Method (on_train_batch_end) is slow compared to the batch update (0.363185). Check your callbacks.\n"
     ]
    },
    {
     "name": "stdout",
     "output_type": "stream",
     "text": [
      "303/468 [==================>...........] - ETA: 2:18 - loss: 0.6134 - accuracy: 0.6256\n",
      "Epoch 00001: saving model to training_10_3/cp-0001.ckpt\n"
     ]
    },
    {
     "name": "stderr",
     "output_type": "stream",
     "text": [
      "W0622 23:48:24.936173 27080 callbacks.py:241] Method (on_train_batch_end) is slow compared to the batch update (0.363185). Check your callbacks.\n"
     ]
    },
    {
     "name": "stdout",
     "output_type": "stream",
     "text": [
      "304/468 [==================>...........] - ETA: 2:17 - loss: 0.6123 - accuracy: 0.6262\n",
      "Epoch 00001: saving model to training_10_3/cp-0001.ckpt\n"
     ]
    },
    {
     "name": "stderr",
     "output_type": "stream",
     "text": [
      "W0622 23:48:25.389786 27080 callbacks.py:241] Method (on_train_batch_end) is slow compared to the batch update (0.335323). Check your callbacks.\n"
     ]
    },
    {
     "name": "stdout",
     "output_type": "stream",
     "text": [
      "305/468 [==================>...........] - ETA: 2:16 - loss: 0.6109 - accuracy: 0.6267\n",
      "Epoch 00001: saving model to training_10_3/cp-0001.ckpt\n"
     ]
    },
    {
     "name": "stderr",
     "output_type": "stream",
     "text": [
      "W0622 23:48:25.863932 27080 callbacks.py:241] Method (on_train_batch_end) is slow compared to the batch update (0.343632). Check your callbacks.\n"
     ]
    },
    {
     "name": "stdout",
     "output_type": "stream",
     "text": [
      "306/468 [==================>...........] - ETA: 2:15 - loss: 0.6100 - accuracy: 0.6273\n",
      "Epoch 00001: saving model to training_10_3/cp-0001.ckpt\n"
     ]
    },
    {
     "name": "stderr",
     "output_type": "stream",
     "text": [
      "W0622 23:48:26.428994 27080 callbacks.py:241] Method (on_train_batch_end) is slow compared to the batch update (0.343632). Check your callbacks.\n"
     ]
    },
    {
     "name": "stdout",
     "output_type": "stream",
     "text": [
      "307/468 [==================>...........] - ETA: 2:14 - loss: 0.6092 - accuracy: 0.6279\n",
      "Epoch 00001: saving model to training_10_3/cp-0001.ckpt\n"
     ]
    },
    {
     "name": "stderr",
     "output_type": "stream",
     "text": [
      "W0622 23:48:27.561073 27080 callbacks.py:241] Method (on_train_batch_end) is slow compared to the batch update (0.343632). Check your callbacks.\n"
     ]
    },
    {
     "name": "stdout",
     "output_type": "stream",
     "text": [
      "308/468 [==================>...........] - ETA: 2:13 - loss: 0.6083 - accuracy: 0.6284\n",
      "Epoch 00001: saving model to training_10_3/cp-0001.ckpt\n"
     ]
    },
    {
     "name": "stderr",
     "output_type": "stream",
     "text": [
      "W0622 23:48:27.959940 27080 callbacks.py:241] Method (on_train_batch_end) is slow compared to the batch update (0.343632). Check your callbacks.\n"
     ]
    },
    {
     "name": "stdout",
     "output_type": "stream",
     "text": [
      "309/468 [==================>...........] - ETA: 2:12 - loss: 0.6070 - accuracy: 0.6290\n",
      "Epoch 00001: saving model to training_10_3/cp-0001.ckpt\n"
     ]
    },
    {
     "name": "stderr",
     "output_type": "stream",
     "text": [
      "W0622 23:48:28.370540 27080 callbacks.py:241] Method (on_train_batch_end) is slow compared to the batch update (0.347542). Check your callbacks.\n"
     ]
    },
    {
     "name": "stdout",
     "output_type": "stream",
     "text": [
      "310/468 [==================>...........] - ETA: 2:11 - loss: 0.6059 - accuracy: 0.6295\n",
      "Epoch 00001: saving model to training_10_3/cp-0001.ckpt\n"
     ]
    },
    {
     "name": "stderr",
     "output_type": "stream",
     "text": [
      "W0622 23:48:28.791893 27080 callbacks.py:241] Method (on_train_batch_end) is slow compared to the batch update (0.358296). Check your callbacks.\n"
     ]
    },
    {
     "name": "stdout",
     "output_type": "stream",
     "text": [
      "311/468 [==================>...........] - ETA: 2:10 - loss: 0.6052 - accuracy: 0.6301\n",
      "Epoch 00001: saving model to training_10_3/cp-0001.ckpt\n"
     ]
    },
    {
     "name": "stderr",
     "output_type": "stream",
     "text": [
      "W0622 23:48:29.099852 27080 callbacks.py:241] Method (on_train_batch_end) is slow compared to the batch update (0.334344). Check your callbacks.\n"
     ]
    },
    {
     "name": "stdout",
     "output_type": "stream",
     "text": [
      "312/468 [===================>..........] - ETA: 2:09 - loss: 0.6041 - accuracy: 0.6306\n",
      "Epoch 00001: saving model to training_10_3/cp-0001.ckpt\n"
     ]
    },
    {
     "name": "stderr",
     "output_type": "stream",
     "text": [
      "W0622 23:48:29.453834 27080 callbacks.py:241] Method (on_train_batch_end) is slow compared to the batch update (0.319680). Check your callbacks.\n"
     ]
    },
    {
     "name": "stdout",
     "output_type": "stream",
     "text": [
      "313/468 [===================>..........] - ETA: 2:08 - loss: 0.6034 - accuracy: 0.6312\n",
      "Epoch 00001: saving model to training_10_3/cp-0001.ckpt\n"
     ]
    },
    {
     "name": "stderr",
     "output_type": "stream",
     "text": [
      "W0622 23:48:29.747025 27080 callbacks.py:241] Method (on_train_batch_end) is slow compared to the batch update (0.319680). Check your callbacks.\n"
     ]
    },
    {
     "name": "stdout",
     "output_type": "stream",
     "text": [
      "314/468 [===================>..........] - ETA: 2:07 - loss: 0.6023 - accuracy: 0.6317\n",
      "Epoch 00001: saving model to training_10_3/cp-0001.ckpt\n"
     ]
    },
    {
     "name": "stderr",
     "output_type": "stream",
     "text": [
      "W0622 23:48:30.165444 27080 callbacks.py:241] Method (on_train_batch_end) is slow compared to the batch update (0.334344). Check your callbacks.\n"
     ]
    },
    {
     "name": "stdout",
     "output_type": "stream",
     "text": [
      "315/468 [===================>..........] - ETA: 2:06 - loss: 0.6017 - accuracy: 0.6322\n",
      "Epoch 00001: saving model to training_10_3/cp-0001.ckpt\n"
     ]
    },
    {
     "name": "stderr",
     "output_type": "stream",
     "text": [
      "W0622 23:48:31.487182 27080 callbacks.py:241] Method (on_train_batch_end) is slow compared to the batch update (0.334344). Check your callbacks.\n"
     ]
    },
    {
     "name": "stdout",
     "output_type": "stream",
     "text": [
      "316/468 [===================>..........] - ETA: 2:05 - loss: 0.6015 - accuracy: 0.6328\n",
      "Epoch 00001: saving model to training_10_3/cp-0001.ckpt\n"
     ]
    },
    {
     "name": "stderr",
     "output_type": "stream",
     "text": [
      "W0622 23:48:32.035626 27080 callbacks.py:241] Method (on_train_batch_end) is slow compared to the batch update (0.334344). Check your callbacks.\n"
     ]
    },
    {
     "name": "stdout",
     "output_type": "stream",
     "text": [
      "317/468 [===================>..........] - ETA: 2:04 - loss: 0.6009 - accuracy: 0.6333\n",
      "Epoch 00001: saving model to training_10_3/cp-0001.ckpt\n"
     ]
    },
    {
     "name": "stderr",
     "output_type": "stream",
     "text": [
      "W0622 23:48:32.405165 27080 callbacks.py:241] Method (on_train_batch_end) is slow compared to the batch update (0.306483). Check your callbacks.\n"
     ]
    },
    {
     "name": "stdout",
     "output_type": "stream",
     "text": [
      "318/468 [===================>..........] - ETA: 2:03 - loss: 0.5998 - accuracy: 0.6338\n",
      "Epoch 00001: saving model to training_10_3/cp-0001.ckpt\n"
     ]
    },
    {
     "name": "stderr",
     "output_type": "stream",
     "text": [
      "W0622 23:48:32.705293 27080 callbacks.py:241] Method (on_train_batch_end) is slow compared to the batch update (0.306483). Check your callbacks.\n"
     ]
    },
    {
     "name": "stdout",
     "output_type": "stream",
     "text": [
      "319/468 [===================>..........] - ETA: 2:02 - loss: 0.5983 - accuracy: 0.6344\n",
      "Epoch 00001: saving model to training_10_3/cp-0001.ckpt\n"
     ]
    },
    {
     "name": "stderr",
     "output_type": "stream",
     "text": [
      "W0622 23:48:32.975115 27080 callbacks.py:241] Method (on_train_batch_end) is slow compared to the batch update (0.284534). Check your callbacks.\n"
     ]
    },
    {
     "name": "stdout",
     "output_type": "stream",
     "text": [
      "320/468 [===================>..........] - ETA: 2:01 - loss: 0.5973 - accuracy: 0.6349\n",
      "Epoch 00001: saving model to training_10_3/cp-0001.ckpt\n"
     ]
    },
    {
     "name": "stderr",
     "output_type": "stream",
     "text": [
      "W0622 23:48:33.341727 27080 callbacks.py:241] Method (on_train_batch_end) is slow compared to the batch update (0.277690). Check your callbacks.\n"
     ]
    },
    {
     "name": "stdout",
     "output_type": "stream",
     "text": [
      "321/468 [===================>..........] - ETA: 2:00 - loss: 0.5965 - accuracy: 0.6354\n",
      "Epoch 00001: saving model to training_10_3/cp-0001.ckpt\n"
     ]
    },
    {
     "name": "stderr",
     "output_type": "stream",
     "text": [
      "W0622 23:48:33.678024 27080 callbacks.py:241] Method (on_train_batch_end) is slow compared to the batch update (0.277690). Check your callbacks.\n"
     ]
    },
    {
     "name": "stdout",
     "output_type": "stream",
     "text": [
      "322/468 [===================>..........] - ETA: 1:59 - loss: 0.5956 - accuracy: 0.6360\n",
      "Epoch 00001: saving model to training_10_3/cp-0001.ckpt\n"
     ]
    },
    {
     "name": "stderr",
     "output_type": "stream",
     "text": [
      "W0622 23:48:34.353555 27080 callbacks.py:241] Method (on_train_batch_end) is slow compared to the batch update (0.282532). Check your callbacks.\n"
     ]
    },
    {
     "name": "stdout",
     "output_type": "stream",
     "text": [
      "323/468 [===================>..........] - ETA: 1:58 - loss: 0.5950 - accuracy: 0.6365\n",
      "Epoch 00001: saving model to training_10_3/cp-0001.ckpt\n"
     ]
    },
    {
     "name": "stderr",
     "output_type": "stream",
     "text": [
      "W0622 23:48:35.184531 27080 callbacks.py:241] Method (on_train_batch_end) is slow compared to the batch update (0.328968). Check your callbacks.\n"
     ]
    },
    {
     "name": "stdout",
     "output_type": "stream",
     "text": [
      "324/468 [===================>..........] - ETA: 1:57 - loss: 0.5936 - accuracy: 0.6370\n",
      "Epoch 00001: saving model to training_10_3/cp-0001.ckpt\n"
     ]
    },
    {
     "name": "stderr",
     "output_type": "stream",
     "text": [
      "W0622 23:48:35.630323 27080 callbacks.py:241] Method (on_train_batch_end) is slow compared to the batch update (0.282532). Check your callbacks.\n"
     ]
    },
    {
     "name": "stdout",
     "output_type": "stream",
     "text": [
      "325/468 [===================>..........] - ETA: 1:56 - loss: 0.5925 - accuracy: 0.6375\n",
      "Epoch 00001: saving model to training_10_3/cp-0001.ckpt\n"
     ]
    },
    {
     "name": "stderr",
     "output_type": "stream",
     "text": [
      "W0622 23:48:36.220804 27080 callbacks.py:241] Method (on_train_batch_end) is slow compared to the batch update (0.282532). Check your callbacks.\n"
     ]
    },
    {
     "name": "stdout",
     "output_type": "stream",
     "text": [
      "326/468 [===================>..........] - ETA: 1:55 - loss: 0.5918 - accuracy: 0.6380\n",
      "Epoch 00001: saving model to training_10_3/cp-0001.ckpt\n"
     ]
    },
    {
     "name": "stderr",
     "output_type": "stream",
     "text": [
      "W0622 23:48:36.518000 27080 callbacks.py:241] Method (on_train_batch_end) is slow compared to the batch update (0.267377). Check your callbacks.\n"
     ]
    },
    {
     "name": "stdout",
     "output_type": "stream",
     "text": [
      "327/468 [===================>..........] - ETA: 1:54 - loss: 0.5912 - accuracy: 0.6385\n",
      "Epoch 00001: saving model to training_10_3/cp-0001.ckpt\n"
     ]
    },
    {
     "name": "stderr",
     "output_type": "stream",
     "text": [
      "W0622 23:48:36.892429 27080 callbacks.py:241] Method (on_train_batch_end) is slow compared to the batch update (0.267377). Check your callbacks.\n"
     ]
    },
    {
     "name": "stdout",
     "output_type": "stream",
     "text": [
      "328/468 [====================>.........] - ETA: 1:53 - loss: 0.5906 - accuracy: 0.6391\n",
      "Epoch 00001: saving model to training_10_3/cp-0001.ckpt\n",
      "329/468 [====================>.........] - ETA: 1:52 - loss: 0.5899 - accuracy: 0.6396\n",
      "Epoch 00001: saving model to training_10_3/cp-0001.ckpt\n"
     ]
    },
    {
     "name": "stderr",
     "output_type": "stream",
     "text": [
      "W0622 23:48:38.079256 27080 callbacks.py:241] Method (on_train_batch_end) is slow compared to the batch update (0.345587). Check your callbacks.\n"
     ]
    },
    {
     "name": "stdout",
     "output_type": "stream",
     "text": [
      "330/468 [====================>.........] - ETA: 1:51 - loss: 0.5891 - accuracy: 0.6401\n",
      "Epoch 00001: saving model to training_10_3/cp-0001.ckpt\n"
     ]
    },
    {
     "name": "stderr",
     "output_type": "stream",
     "text": [
      "W0622 23:48:38.619877 27080 callbacks.py:241] Method (on_train_batch_end) is slow compared to the batch update (0.367094). Check your callbacks.\n"
     ]
    },
    {
     "name": "stdout",
     "output_type": "stream",
     "text": [
      "331/468 [====================>.........] - ETA: 1:51 - loss: 0.5885 - accuracy: 0.6406\n",
      "Epoch 00001: saving model to training_10_3/cp-0001.ckpt\n"
     ]
    },
    {
     "name": "stderr",
     "output_type": "stream",
     "text": [
      "W0622 23:48:39.575009 27080 callbacks.py:241] Method (on_train_batch_end) is slow compared to the batch update (0.387135). Check your callbacks.\n"
     ]
    },
    {
     "name": "stdout",
     "output_type": "stream",
     "text": [
      "332/468 [====================>.........] - ETA: 1:50 - loss: 0.5880 - accuracy: 0.6411\n",
      "Epoch 00001: saving model to training_10_3/cp-0001.ckpt\n"
     ]
    },
    {
     "name": "stderr",
     "output_type": "stream",
     "text": [
      "W0622 23:48:40.045241 27080 callbacks.py:241] Method (on_train_batch_end) is slow compared to the batch update (0.367094). Check your callbacks.\n"
     ]
    },
    {
     "name": "stdout",
     "output_type": "stream",
     "text": [
      "333/468 [====================>.........] - ETA: 1:49 - loss: 0.5871 - accuracy: 0.6416\n",
      "Epoch 00001: saving model to training_10_3/cp-0001.ckpt\n"
     ]
    },
    {
     "name": "stderr",
     "output_type": "stream",
     "text": [
      "W0622 23:48:40.436289 27080 callbacks.py:241] Method (on_train_batch_end) is slow compared to the batch update (0.354386). Check your callbacks.\n"
     ]
    },
    {
     "name": "stdout",
     "output_type": "stream",
     "text": [
      "334/468 [====================>.........] - ETA: 1:48 - loss: 0.5861 - accuracy: 0.6421\n",
      "Epoch 00001: saving model to training_10_3/cp-0001.ckpt\n"
     ]
    },
    {
     "name": "stderr",
     "output_type": "stream",
     "text": [
      "W0622 23:48:40.944649 27080 callbacks.py:241] Method (on_train_batch_end) is slow compared to the batch update (0.367094). Check your callbacks.\n"
     ]
    },
    {
     "name": "stdout",
     "output_type": "stream",
     "text": [
      "335/468 [====================>.........] - ETA: 1:47 - loss: 0.5850 - accuracy: 0.6426\n",
      "Epoch 00001: saving model to training_10_3/cp-0001.ckpt\n"
     ]
    },
    {
     "name": "stderr",
     "output_type": "stream",
     "text": [
      "W0622 23:48:41.420748 27080 callbacks.py:241] Method (on_train_batch_end) is slow compared to the batch update (0.354386). Check your callbacks.\n"
     ]
    },
    {
     "name": "stdout",
     "output_type": "stream",
     "text": [
      "336/468 [====================>.........] - ETA: 1:46 - loss: 0.5842 - accuracy: 0.6431\n",
      "Epoch 00001: saving model to training_10_3/cp-0001.ckpt\n"
     ]
    },
    {
     "name": "stderr",
     "output_type": "stream",
     "text": [
      "W0622 23:48:41.810818 27080 callbacks.py:241] Method (on_train_batch_end) is slow compared to the batch update (0.354386). Check your callbacks.\n"
     ]
    },
    {
     "name": "stdout",
     "output_type": "stream",
     "text": [
      "337/468 [====================>.........] - ETA: 1:45 - loss: 0.5835 - accuracy: 0.6435\n",
      "Epoch 00001: saving model to training_10_3/cp-0001.ckpt\n"
     ]
    },
    {
     "name": "stderr",
     "output_type": "stream",
     "text": [
      "W0622 23:48:42.193067 27080 callbacks.py:241] Method (on_train_batch_end) is slow compared to the batch update (0.354386). Check your callbacks.\n"
     ]
    },
    {
     "name": "stdout",
     "output_type": "stream",
     "text": [
      "338/468 [====================>.........] - ETA: 1:44 - loss: 0.5828 - accuracy: 0.6440\n",
      "Epoch 00001: saving model to training_10_3/cp-0001.ckpt\n"
     ]
    },
    {
     "name": "stderr",
     "output_type": "stream",
     "text": [
      "W0622 23:48:42.737600 27080 callbacks.py:241] Method (on_train_batch_end) is slow compared to the batch update (0.359764). Check your callbacks.\n"
     ]
    },
    {
     "name": "stdout",
     "output_type": "stream",
     "text": [
      "339/468 [====================>.........] - ETA: 1:43 - loss: 0.5819 - accuracy: 0.6445\n",
      "Epoch 00001: saving model to training_10_3/cp-0001.ckpt\n"
     ]
    },
    {
     "name": "stderr",
     "output_type": "stream",
     "text": [
      "W0622 23:48:43.212722 27080 callbacks.py:241] Method (on_train_batch_end) is slow compared to the batch update (0.341678). Check your callbacks.\n"
     ]
    },
    {
     "name": "stdout",
     "output_type": "stream",
     "text": [
      "340/468 [====================>.........] - ETA: 1:42 - loss: 0.5806 - accuracy: 0.6450\n",
      "Epoch 00001: saving model to training_10_3/cp-0001.ckpt\n"
     ]
    },
    {
     "name": "stderr",
     "output_type": "stream",
     "text": [
      "W0622 23:48:43.652649 27080 callbacks.py:241] Method (on_train_batch_end) is slow compared to the batch update (0.326035). Check your callbacks.\n"
     ]
    },
    {
     "name": "stdout",
     "output_type": "stream",
     "text": [
      "341/468 [====================>.........] - ETA: 1:41 - loss: 0.5795 - accuracy: 0.6455\n",
      "Epoch 00001: saving model to training_10_3/cp-0001.ckpt\n"
     ]
    },
    {
     "name": "stderr",
     "output_type": "stream",
     "text": [
      "W0622 23:48:44.170787 27080 callbacks.py:241] Method (on_train_batch_end) is slow compared to the batch update (0.326035). Check your callbacks.\n"
     ]
    },
    {
     "name": "stdout",
     "output_type": "stream",
     "text": [
      "342/468 [====================>.........] - ETA: 1:40 - loss: 0.5790 - accuracy: 0.6460\n",
      "Epoch 00001: saving model to training_10_3/cp-0001.ckpt\n"
     ]
    },
    {
     "name": "stderr",
     "output_type": "stream",
     "text": [
      "W0622 23:48:44.677192 27080 callbacks.py:241] Method (on_train_batch_end) is slow compared to the batch update (0.338745). Check your callbacks.\n"
     ]
    },
    {
     "name": "stdout",
     "output_type": "stream",
     "text": [
      "343/468 [====================>.........] - ETA: 1:39 - loss: 0.5778 - accuracy: 0.6465\n",
      "Epoch 00001: saving model to training_10_3/cp-0001.ckpt\n"
     ]
    },
    {
     "name": "stderr",
     "output_type": "stream",
     "text": [
      "W0622 23:48:45.122984 27080 callbacks.py:241] Method (on_train_batch_end) is slow compared to the batch update (0.337770). Check your callbacks.\n"
     ]
    },
    {
     "name": "stdout",
     "output_type": "stream",
     "text": [
      "344/468 [=====================>........] - ETA: 1:39 - loss: 0.5766 - accuracy: 0.6469\n",
      "Epoch 00001: saving model to training_10_3/cp-0001.ckpt\n"
     ]
    },
    {
     "name": "stderr",
     "output_type": "stream",
     "text": [
      "W0622 23:48:45.578555 27080 callbacks.py:241] Method (on_train_batch_end) is slow compared to the batch update (0.337770). Check your callbacks.\n"
     ]
    },
    {
     "name": "stdout",
     "output_type": "stream",
     "text": [
      "345/468 [=====================>........] - ETA: 1:38 - loss: 0.5757 - accuracy: 0.6474\n",
      "Epoch 00001: saving model to training_10_3/cp-0001.ckpt\n"
     ]
    },
    {
     "name": "stderr",
     "output_type": "stream",
     "text": [
      "W0622 23:48:46.055634 27080 callbacks.py:241] Method (on_train_batch_end) is slow compared to the batch update (0.340214). Check your callbacks.\n"
     ]
    },
    {
     "name": "stdout",
     "output_type": "stream",
     "text": [
      "346/468 [=====================>........] - ETA: 1:37 - loss: 0.5747 - accuracy: 0.6479\n",
      "Epoch 00001: saving model to training_10_3/cp-0001.ckpt\n"
     ]
    },
    {
     "name": "stderr",
     "output_type": "stream",
     "text": [
      "W0622 23:48:46.463298 27080 callbacks.py:241] Method (on_train_batch_end) is slow compared to the batch update (0.340214). Check your callbacks.\n"
     ]
    },
    {
     "name": "stdout",
     "output_type": "stream",
     "text": [
      "347/468 [=====================>........] - ETA: 1:36 - loss: 0.5738 - accuracy: 0.6484\n",
      "Epoch 00001: saving model to training_10_3/cp-0001.ckpt\n"
     ]
    },
    {
     "name": "stderr",
     "output_type": "stream",
     "text": [
      "W0622 23:48:47.083107 27080 callbacks.py:241] Method (on_train_batch_end) is slow compared to the batch update (0.344120). Check your callbacks.\n"
     ]
    },
    {
     "name": "stdout",
     "output_type": "stream",
     "text": [
      "348/468 [=====================>........] - ETA: 1:35 - loss: 0.5726 - accuracy: 0.6488\n",
      "Epoch 00001: saving model to training_10_3/cp-0001.ckpt\n"
     ]
    },
    {
     "name": "stderr",
     "output_type": "stream",
     "text": [
      "W0622 23:48:47.537700 27080 callbacks.py:241] Method (on_train_batch_end) is slow compared to the batch update (0.340214). Check your callbacks.\n"
     ]
    },
    {
     "name": "stdout",
     "output_type": "stream",
     "text": [
      "349/468 [=====================>........] - ETA: 1:34 - loss: 0.5719 - accuracy: 0.6493\n",
      "Epoch 00001: saving model to training_10_3/cp-0001.ckpt\n"
     ]
    },
    {
     "name": "stderr",
     "output_type": "stream",
     "text": [
      "W0622 23:48:48.009889 27080 callbacks.py:241] Method (on_train_batch_end) is slow compared to the batch update (0.344120). Check your callbacks.\n"
     ]
    },
    {
     "name": "stdout",
     "output_type": "stream",
     "text": [
      "350/468 [=====================>........] - ETA: 1:33 - loss: 0.5710 - accuracy: 0.6498\n",
      "Epoch 00001: saving model to training_10_3/cp-0001.ckpt\n"
     ]
    },
    {
     "name": "stderr",
     "output_type": "stream",
     "text": [
      "W0622 23:48:48.557355 27080 callbacks.py:241] Method (on_train_batch_end) is slow compared to the batch update (0.349008). Check your callbacks.\n"
     ]
    },
    {
     "name": "stdout",
     "output_type": "stream",
     "text": [
      "351/468 [=====================>........] - ETA: 1:32 - loss: 0.5702 - accuracy: 0.6502\n",
      "Epoch 00001: saving model to training_10_3/cp-0001.ckpt\n"
     ]
    },
    {
     "name": "stderr",
     "output_type": "stream",
     "text": [
      "W0622 23:48:49.081356 27080 callbacks.py:241] Method (on_train_batch_end) is slow compared to the batch update (0.360254). Check your callbacks.\n"
     ]
    },
    {
     "name": "stdout",
     "output_type": "stream",
     "text": [
      "352/468 [=====================>........] - ETA: 1:31 - loss: 0.5692 - accuracy: 0.6507\n",
      "Epoch 00001: saving model to training_10_3/cp-0001.ckpt\n"
     ]
    },
    {
     "name": "stderr",
     "output_type": "stream",
     "text": [
      "W0622 23:48:49.621978 27080 callbacks.py:241] Method (on_train_batch_end) is slow compared to the batch update (0.358786). Check your callbacks.\n"
     ]
    },
    {
     "name": "stdout",
     "output_type": "stream",
     "text": [
      "353/468 [=====================>........] - ETA: 1:30 - loss: 0.5680 - accuracy: 0.6512\n",
      "Epoch 00001: saving model to training_10_3/cp-0001.ckpt\n"
     ]
    },
    {
     "name": "stderr",
     "output_type": "stream",
     "text": [
      "W0622 23:48:50.159675 27080 callbacks.py:241] Method (on_train_batch_end) is slow compared to the batch update (0.368075). Check your callbacks.\n"
     ]
    },
    {
     "name": "stdout",
     "output_type": "stream",
     "text": [
      "354/468 [=====================>........] - ETA: 1:30 - loss: 0.5669 - accuracy: 0.6516\n",
      "Epoch 00001: saving model to training_10_3/cp-0001.ckpt\n",
      "355/468 [=====================>........] - ETA: 1:29 - loss: 0.5662 - accuracy: 0.6521\n",
      "Epoch 00001: saving model to training_10_3/cp-0001.ckpt\n"
     ]
    },
    {
     "name": "stderr",
     "output_type": "stream",
     "text": [
      "W0622 23:48:51.559614 27080 callbacks.py:241] Method (on_train_batch_end) is slow compared to the batch update (0.371005). Check your callbacks.\n"
     ]
    },
    {
     "name": "stdout",
     "output_type": "stream",
     "text": [
      "356/468 [=====================>........] - ETA: 1:28 - loss: 0.5655 - accuracy: 0.6526\n",
      "Epoch 00001: saving model to training_10_3/cp-0001.ckpt\n"
     ]
    },
    {
     "name": "stderr",
     "output_type": "stream",
     "text": [
      "W0622 23:48:52.077750 27080 callbacks.py:241] Method (on_train_batch_end) is slow compared to the batch update (0.385670). Check your callbacks.\n"
     ]
    },
    {
     "name": "stdout",
     "output_type": "stream",
     "text": [
      "\b\b\b\b\b\b\b\b\b\b\b\b\b\b\b\b\b\b\b\b\b\b\b\b\b\b\b\b\b\b\b\b\b\b\b\b\b\b\b\b\b\b\b\b\b\b\b\b\b\b\b\b\b\b\b\b\b\b\b\b\b\b\b\b\b\b\b\b\b\b\b\b\b\b\b\b\b\b\b\b\b\b\b\b\b\b\r",
      "357/468 [=====================>........] - ETA: 1:27 - loss: 0.5652 - accuracy: 0.6530"
     ]
    },
    {
     "name": "stderr",
     "output_type": "stream",
     "text": [
      "W0622 23:48:52.259590 27080 callbacks.py:241] Method (on_train_batch_end) is slow compared to the batch update (0.371005). Check your callbacks.\n"
     ]
    },
    {
     "name": "stdout",
     "output_type": "stream",
     "text": [
      "\n",
      "Epoch 00001: saving model to training_10_3/cp-0001.ckpt\n",
      "358/468 [=====================>........] - ETA: 1:26 - loss: 0.5643 - accuracy: 0.6535\n",
      "Epoch 00001: saving model to training_10_3/cp-0001.ckpt"
     ]
    },
    {
     "name": "stderr",
     "output_type": "stream",
     "text": [
      "W0622 23:48:52.507902 27080 callbacks.py:241] Method (on_train_batch_end) is slow compared to the batch update (0.371005). Check your callbacks.\n"
     ]
    },
    {
     "name": "stdout",
     "output_type": "stream",
     "text": [
      "\n",
      "359/468 [======================>.......] - ETA: 1:25 - loss: 0.5633 - accuracy: 0.6539\n",
      "Epoch 00001: saving model to training_10_3/cp-0001.ckpt\n"
     ]
    },
    {
     "name": "stderr",
     "output_type": "stream",
     "text": [
      "W0622 23:48:52.880376 27080 callbacks.py:241] Method (on_train_batch_end) is slow compared to the batch update (0.371005). Check your callbacks.\n"
     ]
    },
    {
     "name": "stdout",
     "output_type": "stream",
     "text": [
      "360/468 [======================>.......] - ETA: 1:24 - loss: 0.5626 - accuracy: 0.6544\n",
      "Epoch 00001: saving model to training_10_3/cp-0001.ckpt\n"
     ]
    },
    {
     "name": "stderr",
     "output_type": "stream",
     "text": [
      "W0622 23:48:53.264580 27080 callbacks.py:241] Method (on_train_batch_end) is slow compared to the batch update (0.347544). Check your callbacks.\n"
     ]
    },
    {
     "name": "stdout",
     "output_type": "stream",
     "text": [
      "361/468 [======================>.......] - ETA: 1:23 - loss: 0.5621 - accuracy: 0.6548\n",
      "Epoch 00001: saving model to training_10_3/cp-0001.ckpt\n"
     ]
    },
    {
     "name": "stderr",
     "output_type": "stream",
     "text": [
      "W0622 23:48:53.811066 27080 callbacks.py:241] Method (on_train_batch_end) is slow compared to the batch update (0.347544). Check your callbacks.\n"
     ]
    },
    {
     "name": "stdout",
     "output_type": "stream",
     "text": [
      "362/468 [======================>.......] - ETA: 1:22 - loss: 0.5612 - accuracy: 0.6553\n",
      "Epoch 00001: saving model to training_10_3/cp-0001.ckpt\n"
     ]
    },
    {
     "name": "stderr",
     "output_type": "stream",
     "text": [
      "W0622 23:48:54.228509 27080 callbacks.py:241] Method (on_train_batch_end) is slow compared to the batch update (0.314304). Check your callbacks.\n"
     ]
    },
    {
     "name": "stdout",
     "output_type": "stream",
     "text": [
      "363/468 [======================>.......] - ETA: 1:22 - loss: 0.5608 - accuracy: 0.6557\n",
      "Epoch 00001: saving model to training_10_3/cp-0001.ckpt\n"
     ]
    },
    {
     "name": "stderr",
     "output_type": "stream",
     "text": [
      "W0622 23:48:54.822901 27080 callbacks.py:241] Method (on_train_batch_end) is slow compared to the batch update (0.314304). Check your callbacks.\n"
     ]
    },
    {
     "name": "stdout",
     "output_type": "stream",
     "text": [
      "364/468 [======================>.......] - ETA: 1:21 - loss: 0.5597 - accuracy: 0.6562\n",
      "Epoch 00001: saving model to training_10_3/cp-0001.ckpt\n"
     ]
    },
    {
     "name": "stderr",
     "output_type": "stream",
     "text": [
      "W0622 23:48:56.321589 27080 callbacks.py:241] Method (on_train_batch_end) is slow compared to the batch update (0.314304). Check your callbacks.\n"
     ]
    },
    {
     "name": "stdout",
     "output_type": "stream",
     "text": [
      "365/468 [======================>.......] - ETA: 1:20 - loss: 0.5593 - accuracy: 0.6566\n",
      "Epoch 00001: saving model to training_10_3/cp-0001.ckpt\n"
     ]
    },
    {
     "name": "stderr",
     "output_type": "stream",
     "text": [
      "W0622 23:48:56.756625 27080 callbacks.py:241] Method (on_train_batch_end) is slow compared to the batch update (0.329947). Check your callbacks.\n"
     ]
    },
    {
     "name": "stdout",
     "output_type": "stream",
     "text": [
      "366/468 [======================>.......] - ETA: 1:19 - loss: 0.5591 - accuracy: 0.6571\n",
      "Epoch 00001: saving model to training_10_3/cp-0001.ckpt\n"
     ]
    },
    {
     "name": "stderr",
     "output_type": "stream",
     "text": [
      "W0622 23:48:57.014716 27080 callbacks.py:241] Method (on_train_batch_end) is slow compared to the batch update (0.314304). Check your callbacks.\n"
     ]
    },
    {
     "name": "stdout",
     "output_type": "stream",
     "text": [
      "367/468 [======================>.......] - ETA: 1:18 - loss: 0.5583 - accuracy: 0.6575\n",
      "Epoch 00001: saving model to training_10_3/cp-0001.ckpt\n"
     ]
    },
    {
     "name": "stderr",
     "output_type": "stream",
     "text": [
      "W0622 23:48:57.296269 27080 callbacks.py:241] Method (on_train_batch_end) is slow compared to the batch update (0.314304). Check your callbacks.\n"
     ]
    },
    {
     "name": "stdout",
     "output_type": "stream",
     "text": [
      "368/468 [======================>.......] - ETA: 1:17 - loss: 0.5575 - accuracy: 0.6579\n",
      "Epoch 00001: saving model to training_10_3/cp-0001.ckpt\n"
     ]
    },
    {
     "name": "stderr",
     "output_type": "stream",
     "text": [
      "W0622 23:48:57.859378 27080 callbacks.py:241] Method (on_train_batch_end) is slow compared to the batch update (0.329947). Check your callbacks.\n"
     ]
    },
    {
     "name": "stdout",
     "output_type": "stream",
     "text": [
      "369/468 [======================>.......] - ETA: 1:17 - loss: 0.5565 - accuracy: 0.6584\n",
      "Epoch 00001: saving model to training_10_3/cp-0001.ckpt\n"
     ]
    },
    {
     "name": "stderr",
     "output_type": "stream",
     "text": [
      "W0622 23:48:58.555444 27080 callbacks.py:241] Method (on_train_batch_end) is slow compared to the batch update (0.376383). Check your callbacks.\n"
     ]
    },
    {
     "name": "stdout",
     "output_type": "stream",
     "text": [
      "370/468 [======================>.......] - ETA: 1:16 - loss: 0.5557 - accuracy: 0.6588\n",
      "Epoch 00001: saving model to training_10_3/cp-0001.ckpt\n"
     ]
    },
    {
     "name": "stderr",
     "output_type": "stream",
     "text": [
      "W0622 23:48:59.071625 27080 callbacks.py:241] Method (on_train_batch_end) is slow compared to the batch update (0.409133). Check your callbacks.\n"
     ]
    },
    {
     "name": "stdout",
     "output_type": "stream",
     "text": [
      "371/468 [======================>.......] - ETA: 1:15 - loss: 0.5547 - accuracy: 0.6592\n",
      "Epoch 00001: saving model to training_10_3/cp-0001.ckpt\n"
     ]
    },
    {
     "name": "stderr",
     "output_type": "stream",
     "text": [
      "W0622 23:48:59.612248 27080 callbacks.py:241] Method (on_train_batch_end) is slow compared to the batch update (0.400825). Check your callbacks.\n"
     ]
    },
    {
     "name": "stdout",
     "output_type": "stream",
     "text": [
      "372/468 [======================>.......] - ETA: 1:14 - loss: 0.5540 - accuracy: 0.6597\n",
      "Epoch 00001: saving model to training_10_3/cp-0001.ckpt\n"
     ]
    },
    {
     "name": "stderr",
     "output_type": "stream",
     "text": [
      "W0622 23:49:00.124516 27080 callbacks.py:241] Method (on_train_batch_end) is slow compared to the batch update (0.400825). Check your callbacks.\n"
     ]
    },
    {
     "name": "stdout",
     "output_type": "stream",
     "text": [
      "373/468 [======================>.......] - ETA: 1:13 - loss: 0.5534 - accuracy: 0.6601\n",
      "Epoch 00001: saving model to training_10_3/cp-0001.ckpt\n"
     ]
    },
    {
     "name": "stderr",
     "output_type": "stream",
     "text": [
      "W0622 23:49:00.593774 27080 callbacks.py:241] Method (on_train_batch_end) is slow compared to the batch update (0.364650). Check your callbacks.\n"
     ]
    },
    {
     "name": "stdout",
     "output_type": "stream",
     "text": [
      "374/468 [======================>.......] - ETA: 1:12 - loss: 0.5527 - accuracy: 0.6605\n",
      "Epoch 00001: saving model to training_10_3/cp-0001.ckpt\n"
     ]
    },
    {
     "name": "stderr",
     "output_type": "stream",
     "text": [
      "W0622 23:49:01.027834 27080 callbacks.py:241] Method (on_train_batch_end) is slow compared to the batch update (0.338743). Check your callbacks.\n"
     ]
    },
    {
     "name": "stdout",
     "output_type": "stream",
     "text": [
      "375/468 [=======================>......] - ETA: 1:12 - loss: 0.5524 - accuracy: 0.6610\n",
      "Epoch 00001: saving model to training_10_3/cp-0001.ckpt\n"
     ]
    },
    {
     "name": "stderr",
     "output_type": "stream",
     "text": [
      "W0622 23:49:01.491226 27080 callbacks.py:241] Method (on_train_batch_end) is slow compared to the batch update (0.342167). Check your callbacks.\n"
     ]
    },
    {
     "name": "stdout",
     "output_type": "stream",
     "text": [
      "376/468 [=======================>......] - ETA: 1:11 - loss: 0.5517 - accuracy: 0.6614\n",
      "Epoch 00001: saving model to training_10_3/cp-0001.ckpt\n"
     ]
    },
    {
     "name": "stderr",
     "output_type": "stream",
     "text": [
      "W0622 23:49:01.880317 27080 callbacks.py:241] Method (on_train_batch_end) is slow compared to the batch update (0.342167). Check your callbacks.\n"
     ]
    },
    {
     "name": "stdout",
     "output_type": "stream",
     "text": [
      "377/468 [=======================>......] - ETA: 1:10 - loss: 0.5509 - accuracy: 0.6618\n",
      "Epoch 00001: saving model to training_10_3/cp-0001.ckpt\n"
     ]
    },
    {
     "name": "stderr",
     "output_type": "stream",
     "text": [
      "W0622 23:49:02.348595 27080 callbacks.py:241] Method (on_train_batch_end) is slow compared to the batch update (0.342167). Check your callbacks.\n"
     ]
    },
    {
     "name": "stdout",
     "output_type": "stream",
     "text": [
      "378/468 [=======================>......] - ETA: 1:09 - loss: 0.5502 - accuracy: 0.6622\n",
      "Epoch 00001: saving model to training_10_3/cp-0001.ckpt\n"
     ]
    },
    {
     "name": "stderr",
     "output_type": "stream",
     "text": [
      "W0622 23:49:02.944941 27080 callbacks.py:241] Method (on_train_batch_end) is slow compared to the batch update (0.342167). Check your callbacks.\n"
     ]
    },
    {
     "name": "stdout",
     "output_type": "stream",
     "text": [
      "379/468 [=======================>......] - ETA: 1:08 - loss: 0.5495 - accuracy: 0.6626\n",
      "Epoch 00001: saving model to training_10_3/cp-0001.ckpt\n"
     ]
    },
    {
     "name": "stderr",
     "output_type": "stream",
     "text": [
      "W0622 23:49:03.448415 27080 callbacks.py:241] Method (on_train_batch_end) is slow compared to the batch update (0.342167). Check your callbacks.\n"
     ]
    },
    {
     "name": "stdout",
     "output_type": "stream",
     "text": [
      "380/468 [=======================>......] - ETA: 1:07 - loss: 0.5489 - accuracy: 0.6631\n",
      "Epoch 00001: saving model to training_10_3/cp-0001.ckpt\n"
     ]
    },
    {
     "name": "stderr",
     "output_type": "stream",
     "text": [
      "W0622 23:49:04.606890 27080 callbacks.py:241] Method (on_train_batch_end) is slow compared to the batch update (0.342167). Check your callbacks.\n"
     ]
    },
    {
     "name": "stdout",
     "output_type": "stream",
     "text": [
      "381/468 [=======================>......] - ETA: 1:07 - loss: 0.5483 - accuracy: 0.6635\n",
      "Epoch 00001: saving model to training_10_3/cp-0001.ckpt\n"
     ]
    },
    {
     "name": "stderr",
     "output_type": "stream",
     "text": [
      "W0622 23:49:05.118185 27080 callbacks.py:241] Method (on_train_batch_end) is slow compared to the batch update (0.335810). Check your callbacks.\n"
     ]
    },
    {
     "name": "stdout",
     "output_type": "stream",
     "text": [
      "382/468 [=======================>......] - ETA: 1:06 - loss: 0.5478 - accuracy: 0.6639\n",
      "Epoch 00001: saving model to training_10_3/cp-0001.ckpt\n"
     ]
    },
    {
     "name": "stderr",
     "output_type": "stream",
     "text": [
      "W0622 23:49:05.527804 27080 callbacks.py:241] Method (on_train_batch_end) is slow compared to the batch update (0.337278). Check your callbacks.\n"
     ]
    },
    {
     "name": "stdout",
     "output_type": "stream",
     "text": [
      "383/468 [=======================>......] - ETA: 1:05 - loss: 0.5469 - accuracy: 0.6643\n",
      "Epoch 00001: saving model to training_10_3/cp-0001.ckpt\n"
     ]
    },
    {
     "name": "stderr",
     "output_type": "stream",
     "text": [
      "W0622 23:49:05.786880 27080 callbacks.py:241] Method (on_train_batch_end) is slow compared to the batch update (0.337278). Check your callbacks.\n"
     ]
    },
    {
     "name": "stdout",
     "output_type": "stream",
     "text": [
      "384/468 [=======================>......] - ETA: 1:04 - loss: 0.5461 - accuracy: 0.6647\n",
      "Epoch 00001: saving model to training_10_3/cp-0001.ckpt\n"
     ]
    },
    {
     "name": "stderr",
     "output_type": "stream",
     "text": [
      "W0622 23:49:06.165229 27080 callbacks.py:241] Method (on_train_batch_end) is slow compared to the batch update (0.328480). Check your callbacks.\n"
     ]
    },
    {
     "name": "stdout",
     "output_type": "stream",
     "text": [
      "385/468 [=======================>......] - ETA: 1:03 - loss: 0.5454 - accuracy: 0.6651\n",
      "Epoch 00001: saving model to training_10_3/cp-0001.ckpt\n"
     ]
    },
    {
     "name": "stderr",
     "output_type": "stream",
     "text": [
      "W0622 23:49:06.449698 27080 callbacks.py:241] Method (on_train_batch_end) is slow compared to the batch update (0.316750). Check your callbacks.\n"
     ]
    },
    {
     "name": "stdout",
     "output_type": "stream",
     "text": [
      "386/468 [=======================>......] - ETA: 1:02 - loss: 0.5449 - accuracy: 0.6655\n",
      "Epoch 00001: saving model to training_10_3/cp-0001.ckpt\n"
     ]
    },
    {
     "name": "stderr",
     "output_type": "stream",
     "text": [
      "W0622 23:49:06.914066 27080 callbacks.py:241] Method (on_train_batch_end) is slow compared to the batch update (0.328480). Check your callbacks.\n"
     ]
    },
    {
     "name": "stdout",
     "output_type": "stream",
     "text": [
      "387/468 [=======================>......] - ETA: 1:02 - loss: 0.5440 - accuracy: 0.6659\n",
      "Epoch 00001: saving model to training_10_3/cp-0001.ckpt\n"
     ]
    },
    {
     "name": "stderr",
     "output_type": "stream",
     "text": [
      "W0622 23:49:07.367681 27080 callbacks.py:241] Method (on_train_batch_end) is slow compared to the batch update (0.332390). Check your callbacks.\n"
     ]
    },
    {
     "name": "stdout",
     "output_type": "stream",
     "text": [
      "388/468 [=======================>......] - ETA: 1:01 - loss: 0.5434 - accuracy: 0.6664\n",
      "Epoch 00001: saving model to training_10_3/cp-0001.ckpt\n"
     ]
    },
    {
     "name": "stderr",
     "output_type": "stream",
     "text": [
      "W0622 23:49:07.932745 27080 callbacks.py:241] Method (on_train_batch_end) is slow compared to the batch update (0.332390). Check your callbacks.\n"
     ]
    },
    {
     "name": "stdout",
     "output_type": "stream",
     "text": [
      "389/468 [=======================>......] - ETA: 1:00 - loss: 0.5436 - accuracy: 0.6668\n",
      "Epoch 00001: saving model to training_10_3/cp-0001.ckpt\n"
     ]
    },
    {
     "name": "stderr",
     "output_type": "stream",
     "text": [
      "W0622 23:49:08.510516 27080 callbacks.py:241] Method (on_train_batch_end) is slow compared to the batch update (0.332390). Check your callbacks.\n"
     ]
    },
    {
     "name": "stdout",
     "output_type": "stream",
     "text": [
      "390/468 [========================>.....] - ETA: 59s - loss: 0.5428 - accuracy: 0.6672 \n",
      "Epoch 00001: saving model to training_10_3/cp-0001.ckpt\n"
     ]
    },
    {
     "name": "stderr",
     "output_type": "stream",
     "text": [
      "W0622 23:49:09.007144 27080 callbacks.py:241] Method (on_train_batch_end) is slow compared to the batch update (0.331412). Check your callbacks.\n"
     ]
    },
    {
     "name": "stdout",
     "output_type": "stream",
     "text": [
      "391/468 [========================>.....] - ETA: 58s - loss: 0.5419 - accuracy: 0.6676\n",
      "Epoch 00001: saving model to training_10_3/cp-0001.ckpt\n"
     ]
    },
    {
     "name": "stderr",
     "output_type": "stream",
     "text": [
      "W0622 23:49:09.522349 27080 callbacks.py:241] Method (on_train_batch_end) is slow compared to the batch update (0.334344). Check your callbacks.\n"
     ]
    },
    {
     "name": "stdout",
     "output_type": "stream",
     "text": [
      "392/468 [========================>.....] - ETA: 57s - loss: 0.5411 - accuracy: 0.6680\n",
      "Epoch 00001: saving model to training_10_3/cp-0001.ckpt\n"
     ]
    },
    {
     "name": "stderr",
     "output_type": "stream",
     "text": [
      "W0622 23:49:09.866470 27080 callbacks.py:241] Method (on_train_batch_end) is slow compared to the batch update (0.331412). Check your callbacks.\n"
     ]
    },
    {
     "name": "stdout",
     "output_type": "stream",
     "text": [
      "393/468 [========================>.....] - ETA: 57s - loss: 0.5403 - accuracy: 0.6684\n",
      "Epoch 00001: saving model to training_10_3/cp-0001.ckpt\n"
     ]
    },
    {
     "name": "stderr",
     "output_type": "stream",
     "text": [
      "W0622 23:49:10.183216 27080 callbacks.py:241] Method (on_train_batch_end) is slow compared to the batch update (0.331412). Check your callbacks.\n"
     ]
    },
    {
     "name": "stdout",
     "output_type": "stream",
     "text": [
      "394/468 [========================>.....] - ETA: 56s - loss: 0.5398 - accuracy: 0.6688\n",
      "Epoch 00001: saving model to training_10_3/cp-0001.ckpt\n"
     ]
    },
    {
     "name": "stderr",
     "output_type": "stream",
     "text": [
      "W0622 23:49:10.595771 27080 callbacks.py:241] Method (on_train_batch_end) is slow compared to the batch update (0.333367). Check your callbacks.\n"
     ]
    },
    {
     "name": "stdout",
     "output_type": "stream",
     "text": [
      "395/468 [========================>.....] - ETA: 55s - loss: 0.5390 - accuracy: 0.6692\n",
      "Epoch 00001: saving model to training_10_3/cp-0001.ckpt\n"
     ]
    },
    {
     "name": "stderr",
     "output_type": "stream",
     "text": [
      "W0622 23:49:11.179409 27080 callbacks.py:241] Method (on_train_batch_end) is slow compared to the batch update (0.344122). Check your callbacks.\n"
     ]
    },
    {
     "name": "stdout",
     "output_type": "stream",
     "text": [
      "396/468 [========================>.....] - ETA: 54s - loss: 0.5383 - accuracy: 0.6696\n",
      "Epoch 00001: saving model to training_10_3/cp-0001.ckpt\n"
     ]
    },
    {
     "name": "stderr",
     "output_type": "stream",
     "text": [
      "W0622 23:49:11.731762 27080 callbacks.py:241] Method (on_train_batch_end) is slow compared to the batch update (0.349987). Check your callbacks.\n"
     ]
    },
    {
     "name": "stdout",
     "output_type": "stream",
     "text": [
      "397/468 [========================>.....] - ETA: 53s - loss: 0.5373 - accuracy: 0.6700\n",
      "Epoch 00001: saving model to training_10_3/cp-0001.ckpt\n"
     ]
    },
    {
     "name": "stderr",
     "output_type": "stream",
     "text": [
      "W0622 23:49:12.156049 27080 callbacks.py:241] Method (on_train_batch_end) is slow compared to the batch update (0.349987). Check your callbacks.\n"
     ]
    },
    {
     "name": "stdout",
     "output_type": "stream",
     "text": [
      "398/468 [========================>.....] - ETA: 53s - loss: 0.5370 - accuracy: 0.6703\n",
      "Epoch 00001: saving model to training_10_3/cp-0001.ckpt\n"
     ]
    },
    {
     "name": "stderr",
     "output_type": "stream",
     "text": [
      "W0622 23:49:12.598909 27080 callbacks.py:241] Method (on_train_batch_end) is slow compared to the batch update (0.333367). Check your callbacks.\n"
     ]
    },
    {
     "name": "stdout",
     "output_type": "stream",
     "text": [
      "399/468 [========================>.....] - ETA: 52s - loss: 0.5361 - accuracy: 0.6707\n",
      "Epoch 00001: saving model to training_10_3/cp-0001.ckpt\n"
     ]
    },
    {
     "name": "stderr",
     "output_type": "stream",
     "text": [
      "W0622 23:49:13.095538 27080 callbacks.py:241] Method (on_train_batch_end) is slow compared to the batch update (0.333367). Check your callbacks.\n"
     ]
    },
    {
     "name": "stdout",
     "output_type": "stream",
     "text": [
      "400/468 [========================>.....] - ETA: 51s - loss: 0.5360 - accuracy: 0.6711\n",
      "Epoch 00001: saving model to training_10_3/cp-0001.ckpt\n"
     ]
    },
    {
     "name": "stderr",
     "output_type": "stream",
     "text": [
      "W0622 23:49:13.584348 27080 callbacks.py:241] Method (on_train_batch_end) is slow compared to the batch update (0.333856). Check your callbacks.\n"
     ]
    },
    {
     "name": "stdout",
     "output_type": "stream",
     "text": [
      "401/468 [========================>.....] - ETA: 50s - loss: 0.5356 - accuracy: 0.6715\n",
      "Epoch 00001: saving model to training_10_3/cp-0001.ckpt\n"
     ]
    },
    {
     "name": "stderr",
     "output_type": "stream",
     "text": [
      "W0622 23:49:14.103461 27080 callbacks.py:241] Method (on_train_batch_end) is slow compared to the batch update (0.333856). Check your callbacks.\n"
     ]
    },
    {
     "name": "stdout",
     "output_type": "stream",
     "text": [
      "402/468 [========================>.....] - ETA: 49s - loss: 0.5349 - accuracy: 0.6719\n",
      "Epoch 00001: saving model to training_10_3/cp-0001.ckpt\n"
     ]
    },
    {
     "name": "stderr",
     "output_type": "stream",
     "text": [
      "W0622 23:49:14.704696 27080 callbacks.py:241] Method (on_train_batch_end) is slow compared to the batch update (0.352919). Check your callbacks.\n"
     ]
    },
    {
     "name": "stdout",
     "output_type": "stream",
     "text": [
      "403/468 [========================>.....] - ETA: 49s - loss: 0.5346 - accuracy: 0.6723\n",
      "Epoch 00001: saving model to training_10_3/cp-0001.ckpt\n"
     ]
    },
    {
     "name": "stderr",
     "output_type": "stream",
     "text": [
      "W0622 23:49:15.100638 27080 callbacks.py:241] Method (on_train_batch_end) is slow compared to the batch update (0.352919). Check your callbacks.\n"
     ]
    },
    {
     "name": "stdout",
     "output_type": "stream",
     "text": [
      "404/468 [========================>.....] - ETA: 48s - loss: 0.5338 - accuracy: 0.6727\n",
      "Epoch 00001: saving model to training_10_3/cp-0001.ckpt\n"
     ]
    },
    {
     "name": "stderr",
     "output_type": "stream",
     "text": [
      "W0622 23:49:15.595305 27080 callbacks.py:241] Method (on_train_batch_end) is slow compared to the batch update (0.373938). Check your callbacks.\n"
     ]
    },
    {
     "name": "stdout",
     "output_type": "stream",
     "text": [
      "405/468 [========================>.....] - ETA: 47s - loss: 0.5331 - accuracy: 0.6731\n",
      "Epoch 00001: saving model to training_10_3/cp-0001.ckpt\n"
     ]
    },
    {
     "name": "stderr",
     "output_type": "stream",
     "text": [
      "W0622 23:49:16.150590 27080 callbacks.py:241] Method (on_train_batch_end) is slow compared to the batch update (0.373938). Check your callbacks.\n"
     ]
    },
    {
     "name": "stdout",
     "output_type": "stream",
     "text": [
      "406/468 [=========================>....] - ETA: 46s - loss: 0.5326 - accuracy: 0.6734\n",
      "Epoch 00001: saving model to training_10_3/cp-0001.ckpt\n"
     ]
    },
    {
     "name": "stderr",
     "output_type": "stream",
     "text": [
      "W0622 23:49:16.719563 27080 callbacks.py:241] Method (on_train_batch_end) is slow compared to the batch update (0.373938). Check your callbacks.\n"
     ]
    },
    {
     "name": "stdout",
     "output_type": "stream",
     "text": [
      "407/468 [=========================>....] - ETA: 45s - loss: 0.5321 - accuracy: 0.6738\n",
      "Epoch 00001: saving model to training_10_3/cp-0001.ckpt\n"
     ]
    },
    {
     "name": "stderr",
     "output_type": "stream",
     "text": [
      "W0622 23:49:17.276036 27080 callbacks.py:241] Method (on_train_batch_end) is slow compared to the batch update (0.392513). Check your callbacks.\n"
     ]
    },
    {
     "name": "stdout",
     "output_type": "stream",
     "text": [
      "408/468 [=========================>....] - ETA: 45s - loss: 0.5317 - accuracy: 0.6742\n",
      "Epoch 00001: saving model to training_10_3/cp-0001.ckpt\n"
     ]
    },
    {
     "name": "stderr",
     "output_type": "stream",
     "text": [
      "W0622 23:49:17.836210 27080 callbacks.py:241] Method (on_train_batch_end) is slow compared to the batch update (0.419397). Check your callbacks.\n"
     ]
    },
    {
     "name": "stdout",
     "output_type": "stream",
     "text": [
      "409/468 [=========================>....] - ETA: 44s - loss: 0.5310 - accuracy: 0.6746\n",
      "Epoch 00001: saving model to training_10_3/cp-0001.ckpt\n"
     ]
    },
    {
     "name": "stderr",
     "output_type": "stream",
     "text": [
      "W0622 23:49:18.257562 27080 callbacks.py:241] Method (on_train_batch_end) is slow compared to the batch update (0.419397). Check your callbacks.\n"
     ]
    },
    {
     "name": "stdout",
     "output_type": "stream",
     "text": [
      "410/468 [=========================>....] - ETA: 43s - loss: 0.5305 - accuracy: 0.6749\n",
      "Epoch 00001: saving model to training_10_3/cp-0001.ckpt\n"
     ]
    },
    {
     "name": "stderr",
     "output_type": "stream",
     "text": [
      "W0622 23:49:18.747349 27080 callbacks.py:241] Method (on_train_batch_end) is slow compared to the batch update (0.419397). Check your callbacks.\n"
     ]
    },
    {
     "name": "stdout",
     "output_type": "stream",
     "text": [
      "411/468 [=========================>....] - ETA: 42s - loss: 0.5300 - accuracy: 0.6753\n",
      "Epoch 00001: saving model to training_10_3/cp-0001.ckpt\n"
     ]
    },
    {
     "name": "stderr",
     "output_type": "stream",
     "text": [
      "W0622 23:49:19.276239 27080 callbacks.py:241] Method (on_train_batch_end) is slow compared to the batch update (0.422818). Check your callbacks.\n"
     ]
    },
    {
     "name": "stdout",
     "output_type": "stream",
     "text": [
      "412/468 [=========================>....] - ETA: 41s - loss: 0.5292 - accuracy: 0.6757\n",
      "Epoch 00001: saving model to training_10_3/cp-0001.ckpt\n"
     ]
    },
    {
     "name": "stderr",
     "output_type": "stream",
     "text": [
      "W0622 23:49:19.611562 27080 callbacks.py:241] Method (on_train_batch_end) is slow compared to the batch update (0.395935). Check your callbacks.\n"
     ]
    },
    {
     "name": "stdout",
     "output_type": "stream",
     "text": [
      "413/468 [=========================>....] - ETA: 41s - loss: 0.5287 - accuracy: 0.6761\n",
      "Epoch 00001: saving model to training_10_3/cp-0001.ckpt\n"
     ]
    },
    {
     "name": "stderr",
     "output_type": "stream",
     "text": [
      "W0622 23:49:20.020207 27080 callbacks.py:241] Method (on_train_batch_end) is slow compared to the batch update (0.395935). Check your callbacks.\n"
     ]
    },
    {
     "name": "stdout",
     "output_type": "stream",
     "text": [
      "414/468 [=========================>....] - ETA: 40s - loss: 0.5283 - accuracy: 0.6764\n",
      "Epoch 00001: saving model to training_10_3/cp-0001.ckpt\n"
     ]
    },
    {
     "name": "stderr",
     "output_type": "stream",
     "text": [
      "W0622 23:49:20.505104 27080 callbacks.py:241] Method (on_train_batch_end) is slow compared to the batch update (0.393979). Check your callbacks.\n"
     ]
    },
    {
     "name": "stdout",
     "output_type": "stream",
     "text": [
      "415/468 [=========================>....] - ETA: 39s - loss: 0.5278 - accuracy: 0.6768\n",
      "Epoch 00001: saving model to training_10_3/cp-0001.ckpt\n"
     ]
    },
    {
     "name": "stderr",
     "output_type": "stream",
     "text": [
      "W0622 23:49:20.934278 27080 callbacks.py:241] Method (on_train_batch_end) is slow compared to the batch update (0.368072). Check your callbacks.\n"
     ]
    },
    {
     "name": "stdout",
     "output_type": "stream",
     "text": [
      "416/468 [=========================>....] - ETA: 38s - loss: 0.5272 - accuracy: 0.6772\n",
      "Epoch 00001: saving model to training_10_3/cp-0001.ckpt\n"
     ]
    },
    {
     "name": "stderr",
     "output_type": "stream",
     "text": [
      "W0622 23:49:21.520849 27080 callbacks.py:241] Method (on_train_batch_end) is slow compared to the batch update (0.368072). Check your callbacks.\n"
     ]
    },
    {
     "name": "stdout",
     "output_type": "stream",
     "text": [
      "417/468 [=========================>....] - ETA: 38s - loss: 0.5263 - accuracy: 0.6775\n",
      "Epoch 00001: saving model to training_10_3/cp-0001.ckpt\n"
     ]
    },
    {
     "name": "stderr",
     "output_type": "stream",
     "text": [
      "W0622 23:49:21.980329 27080 callbacks.py:241] Method (on_train_batch_end) is slow compared to the batch update (0.348031). Check your callbacks.\n"
     ]
    },
    {
     "name": "stdout",
     "output_type": "stream",
     "text": [
      "418/468 [=========================>....] - ETA: 37s - loss: 0.5255 - accuracy: 0.6779\n",
      "Epoch 00001: saving model to training_10_3/cp-0001.ckpt\n"
     ]
    },
    {
     "name": "stderr",
     "output_type": "stream",
     "text": [
      "W0622 23:49:23.613927 27080 callbacks.py:241] Method (on_train_batch_end) is slow compared to the batch update (0.348031). Check your callbacks.\n"
     ]
    },
    {
     "name": "stdout",
     "output_type": "stream",
     "text": [
      "419/468 [=========================>....] - ETA: 36s - loss: 0.5246 - accuracy: 0.6783\n",
      "Epoch 00001: saving model to training_10_3/cp-0001.ckpt\n"
     ]
    },
    {
     "name": "stderr",
     "output_type": "stream",
     "text": [
      "W0622 23:49:24.078293 27080 callbacks.py:241] Method (on_train_batch_end) is slow compared to the batch update (0.356341). Check your callbacks.\n"
     ]
    },
    {
     "name": "stdout",
     "output_type": "stream",
     "text": [
      "420/468 [=========================>....] - ETA: 35s - loss: 0.5243 - accuracy: 0.6786\n",
      "Epoch 00001: saving model to training_10_3/cp-0001.ckpt\n"
     ]
    },
    {
     "name": "stderr",
     "output_type": "stream",
     "text": [
      "W0622 23:49:24.601326 27080 callbacks.py:241] Method (on_train_batch_end) is slow compared to the batch update (0.360740). Check your callbacks.\n"
     ]
    },
    {
     "name": "stdout",
     "output_type": "stream",
     "text": [
      "421/468 [=========================>....] - ETA: 35s - loss: 0.5238 - accuracy: 0.6790\n",
      "Epoch 00001: saving model to training_10_3/cp-0001.ckpt\n"
     ]
    },
    {
     "name": "stderr",
     "output_type": "stream",
     "text": [
      "W0622 23:49:24.993341 27080 callbacks.py:241] Method (on_train_batch_end) is slow compared to the batch update (0.343143). Check your callbacks.\n"
     ]
    },
    {
     "name": "stdout",
     "output_type": "stream",
     "text": [
      "422/468 [==========================>...] - ETA: 34s - loss: 0.5232 - accuracy: 0.6794\n",
      "Epoch 00001: saving model to training_10_3/cp-0001.ckpt\n"
     ]
    },
    {
     "name": "stderr",
     "output_type": "stream",
     "text": [
      "W0622 23:49:25.520278 27080 callbacks.py:241] Method (on_train_batch_end) is slow compared to the batch update (0.343143). Check your callbacks.\n"
     ]
    },
    {
     "name": "stdout",
     "output_type": "stream",
     "text": [
      "423/468 [==========================>...] - ETA: 33s - loss: 0.5225 - accuracy: 0.6797\n",
      "Epoch 00001: saving model to training_10_3/cp-0001.ckpt\n"
     ]
    },
    {
     "name": "stderr",
     "output_type": "stream",
     "text": [
      "W0622 23:49:26.031573 27080 callbacks.py:241] Method (on_train_batch_end) is slow compared to the batch update (0.360740). Check your callbacks.\n"
     ]
    },
    {
     "name": "stdout",
     "output_type": "stream",
     "text": [
      "424/468 [==========================>...] - ETA: 32s - loss: 0.5220 - accuracy: 0.6801\n",
      "Epoch 00001: saving model to training_10_3/cp-0001.ckpt\n"
     ]
    },
    {
     "name": "stderr",
     "output_type": "stream",
     "text": [
      "W0622 23:49:26.503761 27080 callbacks.py:241] Method (on_train_batch_end) is slow compared to the batch update (0.355849). Check your callbacks.\n"
     ]
    },
    {
     "name": "stdout",
     "output_type": "stream",
     "text": [
      "425/468 [==========================>...] - ETA: 31s - loss: 0.5210 - accuracy: 0.6804\n",
      "Epoch 00001: saving model to training_10_3/cp-0001.ckpt\n"
     ]
    },
    {
     "name": "stderr",
     "output_type": "stream",
     "text": [
      "W0622 23:49:27.087398 27080 callbacks.py:241] Method (on_train_batch_end) is slow compared to the batch update (0.377846). Check your callbacks.\n"
     ]
    },
    {
     "name": "stdout",
     "output_type": "stream",
     "text": [
      "426/468 [==========================>...] - ETA: 31s - loss: 0.5203 - accuracy: 0.6808\n",
      "Epoch 00001: saving model to training_10_3/cp-0001.ckpt\n"
     ]
    },
    {
     "name": "stderr",
     "output_type": "stream",
     "text": [
      "W0622 23:49:27.450094 27080 callbacks.py:241] Method (on_train_batch_end) is slow compared to the batch update (0.355849). Check your callbacks.\n"
     ]
    },
    {
     "name": "stdout",
     "output_type": "stream",
     "text": [
      "427/468 [==========================>...] - ETA: 30s - loss: 0.5199 - accuracy: 0.6811\n",
      "Epoch 00001: saving model to training_10_3/cp-0001.ckpt\n"
     ]
    },
    {
     "name": "stderr",
     "output_type": "stream",
     "text": [
      "W0622 23:49:28.009293 27080 callbacks.py:241] Method (on_train_batch_end) is slow compared to the batch update (0.377846). Check your callbacks.\n"
     ]
    },
    {
     "name": "stdout",
     "output_type": "stream",
     "text": [
      "428/468 [==========================>...] - ETA: 29s - loss: 0.5193 - accuracy: 0.6815\n",
      "Epoch 00001: saving model to training_10_3/cp-0001.ckpt\n"
     ]
    },
    {
     "name": "stderr",
     "output_type": "stream",
     "text": [
      "W0622 23:49:28.548935 27080 callbacks.py:241] Method (on_train_batch_end) is slow compared to the batch update (0.377846). Check your callbacks.\n"
     ]
    },
    {
     "name": "stdout",
     "output_type": "stream",
     "text": [
      "429/468 [==========================>...] - ETA: 28s - loss: 0.5187 - accuracy: 0.6819\n",
      "Epoch 00001: saving model to training_10_3/cp-0001.ckpt\n"
     ]
    },
    {
     "name": "stderr",
     "output_type": "stream",
     "text": [
      "W0622 23:49:28.971265 27080 callbacks.py:241] Method (on_train_batch_end) is slow compared to the batch update (0.377846). Check your callbacks.\n"
     ]
    },
    {
     "name": "stdout",
     "output_type": "stream",
     "text": [
      "430/468 [==========================>...] - ETA: 28s - loss: 0.5187 - accuracy: 0.6822\n",
      "Epoch 00001: saving model to training_10_3/cp-0001.ckpt\n"
     ]
    },
    {
     "name": "stderr",
     "output_type": "stream",
     "text": [
      "W0622 23:49:29.185363 27080 callbacks.py:241] Method (on_train_batch_end) is slow compared to the batch update (0.349983). Check your callbacks.\n"
     ]
    },
    {
     "name": "stdout",
     "output_type": "stream",
     "text": [
      "431/468 [==========================>...] - ETA: 27s - loss: 0.5182 - accuracy: 0.6826\n",
      "Epoch 00001: saving model to training_10_3/cp-0001.ckpt\n"
     ]
    },
    {
     "name": "stderr",
     "output_type": "stream",
     "text": [
      "W0622 23:49:29.409238 27080 callbacks.py:241] Method (on_train_batch_end) is slow compared to the batch update (0.328475). Check your callbacks.\n"
     ]
    },
    {
     "name": "stdout",
     "output_type": "stream",
     "text": [
      "432/468 [==========================>...] - ETA: 26s - loss: 0.5179 - accuracy: 0.6829\n",
      "Epoch 00001: saving model to training_10_3/cp-0001.ckpt\n"
     ]
    },
    {
     "name": "stderr",
     "output_type": "stream",
     "text": [
      "W0622 23:49:29.713278 27080 callbacks.py:241] Method (on_train_batch_end) is slow compared to the batch update (0.327984). Check your callbacks.\n"
     ]
    },
    {
     "name": "stdout",
     "output_type": "stream",
     "text": [
      "433/468 [==========================>...] - ETA: 25s - loss: 0.5175 - accuracy: 0.6833\n",
      "Epoch 00001: saving model to training_10_3/cp-0001.ckpt\n"
     ]
    },
    {
     "name": "stderr",
     "output_type": "stream",
     "text": [
      "W0622 23:49:30.233370 27080 callbacks.py:241] Method (on_train_batch_end) is slow compared to the batch update (0.327984). Check your callbacks.\n"
     ]
    },
    {
     "name": "stdout",
     "output_type": "stream",
     "text": [
      "434/468 [==========================>...] - ETA: 25s - loss: 0.5170 - accuracy: 0.6836\n",
      "Epoch 00001: saving model to training_10_3/cp-0001.ckpt\n"
     ]
    },
    {
     "name": "stderr",
     "output_type": "stream",
     "text": [
      "W0622 23:49:30.699692 27080 callbacks.py:241] Method (on_train_batch_end) is slow compared to the batch update (0.319678). Check your callbacks.\n"
     ]
    },
    {
     "name": "stdout",
     "output_type": "stream",
     "text": [
      "435/468 [==========================>...] - ETA: 24s - loss: 0.5164 - accuracy: 0.6839\n",
      "Epoch 00001: saving model to training_10_3/cp-0001.ckpt\n"
     ]
    },
    {
     "name": "stderr",
     "output_type": "stream",
     "text": [
      "W0622 23:49:31.093670 27080 callbacks.py:241] Method (on_train_batch_end) is slow compared to the batch update (0.298658). Check your callbacks.\n"
     ]
    },
    {
     "name": "stdout",
     "output_type": "stream",
     "text": [
      "436/468 [==========================>...] - ETA: 23s - loss: 0.5157 - accuracy: 0.6843\n",
      "Epoch 00001: saving model to training_10_3/cp-0001.ckpt\n"
     ]
    },
    {
     "name": "stderr",
     "output_type": "stream",
     "text": [
      "W0622 23:49:31.470054 27080 callbacks.py:241] Method (on_train_batch_end) is slow compared to the batch update (0.305016). Check your callbacks.\n"
     ]
    },
    {
     "name": "stdout",
     "output_type": "stream",
     "text": [
      "437/468 [===========================>..] - ETA: 22s - loss: 0.5151 - accuracy: 0.6846\n",
      "Epoch 00001: saving model to training_10_3/cp-0001.ckpt\n"
     ]
    },
    {
     "name": "stderr",
     "output_type": "stream",
     "text": [
      "W0622 23:49:32.102572 27080 callbacks.py:241] Method (on_train_batch_end) is slow compared to the batch update (0.305016). Check your callbacks.\n"
     ]
    },
    {
     "name": "stdout",
     "output_type": "stream",
     "text": [
      "438/468 [===========================>..] - ETA: 22s - loss: 0.5152 - accuracy: 0.6850\n",
      "Epoch 00001: saving model to training_10_3/cp-0001.ckpt\n"
     ]
    },
    {
     "name": "stderr",
     "output_type": "stream",
     "text": [
      "W0622 23:49:32.339158 27080 callbacks.py:241] Method (on_train_batch_end) is slow compared to the batch update (0.298658). Check your callbacks.\n"
     ]
    },
    {
     "name": "stdout",
     "output_type": "stream",
     "text": [
      "439/468 [===========================>..] - ETA: 21s - loss: 0.5146 - accuracy: 0.6853\n",
      "Epoch 00001: saving model to training_10_3/cp-0001.ckpt\n"
     ]
    },
    {
     "name": "stderr",
     "output_type": "stream",
     "text": [
      "W0622 23:49:32.604092 27080 callbacks.py:241] Method (on_train_batch_end) is slow compared to the batch update (0.280087). Check your callbacks.\n"
     ]
    },
    {
     "name": "stdout",
     "output_type": "stream",
     "text": [
      "440/468 [===========================>..] - ETA: 20s - loss: 0.5140 - accuracy: 0.6857\n",
      "Epoch 00001: saving model to training_10_3/cp-0001.ckpt\n"
     ]
    },
    {
     "name": "stderr",
     "output_type": "stream",
     "text": [
      "W0622 23:49:33.332416 27080 callbacks.py:241] Method (on_train_batch_end) is slow compared to the batch update (0.305016). Check your callbacks.\n"
     ]
    },
    {
     "name": "stdout",
     "output_type": "stream",
     "text": [
      "441/468 [===========================>..] - ETA: 19s - loss: 0.5135 - accuracy: 0.6860\n",
      "Epoch 00001: saving model to training_10_3/cp-0001.ckpt\n"
     ]
    },
    {
     "name": "stderr",
     "output_type": "stream",
     "text": [
      "W0622 23:49:33.943432 27080 callbacks.py:241] Method (on_train_batch_end) is slow compared to the batch update (0.326035). Check your callbacks.\n"
     ]
    },
    {
     "name": "stdout",
     "output_type": "stream",
     "text": [
      "442/468 [===========================>..] - ETA: 19s - loss: 0.5129 - accuracy: 0.6863\n",
      "Epoch 00001: saving model to training_10_3/cp-0001.ckpt\n"
     ]
    },
    {
     "name": "stderr",
     "output_type": "stream",
     "text": [
      "W0622 23:49:34.554438 27080 callbacks.py:241] Method (on_train_batch_end) is slow compared to the batch update (0.386643). Check your callbacks.\n"
     ]
    },
    {
     "name": "stdout",
     "output_type": "stream",
     "text": [
      "443/468 [===========================>..] - ETA: 18s - loss: 0.5124 - accuracy: 0.6867\n",
      "Epoch 00001: saving model to training_10_3/cp-0001.ckpt\n"
     ]
    },
    {
     "name": "stderr",
     "output_type": "stream",
     "text": [
      "W0622 23:49:35.045202 27080 callbacks.py:241] Method (on_train_batch_end) is slow compared to the batch update (0.365630). Check your callbacks.\n"
     ]
    },
    {
     "name": "stdout",
     "output_type": "stream",
     "text": [
      "444/468 [===========================>..] - ETA: 17s - loss: 0.5117 - accuracy: 0.6870\n",
      "Epoch 00001: saving model to training_10_3/cp-0001.ckpt\n"
     ]
    },
    {
     "name": "stderr",
     "output_type": "stream",
     "text": [
      "W0622 23:49:35.510547 27080 callbacks.py:241] Method (on_train_batch_end) is slow compared to the batch update (0.355853). Check your callbacks.\n"
     ]
    },
    {
     "name": "stdout",
     "output_type": "stream",
     "text": [
      "445/468 [===========================>..] - ETA: 16s - loss: 0.5112 - accuracy: 0.6873\n",
      "Epoch 00001: saving model to training_10_3/cp-0001.ckpt\n"
     ]
    },
    {
     "name": "stderr",
     "output_type": "stream",
     "text": [
      "W0622 23:49:35.906480 27080 callbacks.py:241] Method (on_train_batch_end) is slow compared to the batch update (0.355853). Check your callbacks.\n"
     ]
    },
    {
     "name": "stdout",
     "output_type": "stream",
     "text": [
      "\b\b\b\b\b\b\b\b\b\b\b\b\b\b\b\b\b\b\b\b\b\b\b\b\b\b\b\b\b\b\b\b\b\b\b\b\b\b\b\b\b\b\b\b\b\b\b\b\b\b\b\b\b\b\b\b\b\b\b\b\b\b\b\b\b\b\b\b\b\b\b\b\b\b\b\b\b\b\b\b\b\b\b\b\b\r",
      "446/468 [===========================>..] - ETA: 16s - loss: 0.5105 - accuracy: 0.6877"
     ]
    },
    {
     "name": "stderr",
     "output_type": "stream",
     "text": [
      "W0622 23:49:36.076585 27080 callbacks.py:241] Method (on_train_batch_end) is slow compared to the batch update (0.355853). Check your callbacks.\n"
     ]
    },
    {
     "name": "stdout",
     "output_type": "stream",
     "text": [
      "\n",
      "Epoch 00001: saving model to training_10_3/cp-0001.ckpt\n",
      "447/468 [===========================>..] - ETA: 15s - loss: 0.5099 - accuracy: 0.6880\n",
      "Epoch 00001: saving model to training_10_3/cp-0001.ckpt\n"
     ]
    },
    {
     "name": "stderr",
     "output_type": "stream",
     "text": [
      "W0622 23:49:36.288729 27080 callbacks.py:241] Method (on_train_batch_end) is slow compared to the batch update (0.302572). Check your callbacks.\n"
     ]
    },
    {
     "name": "stdout",
     "output_type": "stream",
     "text": [
      "448/468 [===========================>..] - ETA: 14s - loss: 0.5093 - accuracy: 0.6883\n",
      "Epoch 00001: saving model to training_10_3/cp-0001.ckpt\n"
     ]
    },
    {
     "name": "stderr",
     "output_type": "stream",
     "text": [
      "W0622 23:49:36.728656 27080 callbacks.py:241] Method (on_train_batch_end) is slow compared to the batch update (0.330434). Check your callbacks.\n"
     ]
    },
    {
     "name": "stdout",
     "output_type": "stream",
     "text": [
      "449/468 [===========================>..] - ETA: 13s - loss: 0.5086 - accuracy: 0.6887\n",
      "Epoch 00001: saving model to training_10_3/cp-0001.ckpt\n"
     ]
    },
    {
     "name": "stderr",
     "output_type": "stream",
     "text": [
      "W0622 23:49:37.073755 27080 callbacks.py:241] Method (on_train_batch_end) is slow compared to the batch update (0.330434). Check your callbacks.\n"
     ]
    },
    {
     "name": "stdout",
     "output_type": "stream",
     "text": [
      "450/468 [===========================>..] - ETA: 13s - loss: 0.5082 - accuracy: 0.6890\n",
      "Epoch 00001: saving model to training_10_3/cp-0001.ckpt\n"
     ]
    },
    {
     "name": "stderr",
     "output_type": "stream",
     "text": [
      "W0622 23:49:37.576252 27080 callbacks.py:241] Method (on_train_batch_end) is slow compared to the batch update (0.330434). Check your callbacks.\n"
     ]
    },
    {
     "name": "stdout",
     "output_type": "stream",
     "text": [
      "451/468 [===========================>..] - ETA: 12s - loss: 0.5076 - accuracy: 0.6893\n",
      "Epoch 00001: saving model to training_10_3/cp-0001.ckpt\n"
     ]
    },
    {
     "name": "stderr",
     "output_type": "stream",
     "text": [
      "W0622 23:49:37.902772 27080 callbacks.py:241] Method (on_train_batch_end) is slow compared to the batch update (0.302572). Check your callbacks.\n"
     ]
    },
    {
     "name": "stdout",
     "output_type": "stream",
     "text": [
      "452/468 [===========================>..] - ETA: 11s - loss: 0.5070 - accuracy: 0.6897\n",
      "Epoch 00001: saving model to training_10_3/cp-0001.ckpt\n"
     ]
    },
    {
     "name": "stderr",
     "output_type": "stream",
     "text": [
      "W0622 23:49:38.136424 27080 callbacks.py:241] Method (on_train_batch_end) is slow compared to the batch update (0.259068). Check your callbacks.\n"
     ]
    },
    {
     "name": "stdout",
     "output_type": "stream",
     "text": [
      "453/468 [============================>.] - ETA: 10s - loss: 0.5062 - accuracy: 0.6900\n",
      "Epoch 00001: saving model to training_10_3/cp-0001.ckpt\n"
     ]
    },
    {
     "name": "stderr",
     "output_type": "stream",
     "text": [
      "W0622 23:49:38.535292 27080 callbacks.py:241] Method (on_train_batch_end) is slow compared to the batch update (0.259068). Check your callbacks.\n"
     ]
    },
    {
     "name": "stdout",
     "output_type": "stream",
     "text": [
      "454/468 [============================>.] - ETA: 10s - loss: 0.5055 - accuracy: 0.6903\n",
      "Epoch 00001: saving model to training_10_3/cp-0001.ckpt\n"
     ]
    },
    {
     "name": "stderr",
     "output_type": "stream",
     "text": [
      "W0622 23:49:39.004547 27080 callbacks.py:241] Method (on_train_batch_end) is slow compared to the batch update (0.259068). Check your callbacks.\n"
     ]
    },
    {
     "name": "stdout",
     "output_type": "stream",
     "text": [
      "455/468 [============================>.] - ETA: 9s - loss: 0.5054 - accuracy: 0.6906 \n",
      "Epoch 00001: saving model to training_10_3/cp-0001.ckpt\n"
     ]
    },
    {
     "name": "stderr",
     "output_type": "stream",
     "text": [
      "W0622 23:49:39.464037 27080 callbacks.py:241] Method (on_train_batch_end) is slow compared to the batch update (0.278133). Check your callbacks.\n"
     ]
    },
    {
     "name": "stdout",
     "output_type": "stream",
     "text": [
      "456/468 [============================>.] - ETA: 8s - loss: 0.5048 - accuracy: 0.6910\n",
      "Epoch 00001: saving model to training_10_3/cp-0001.ckpt\n"
     ]
    },
    {
     "name": "stderr",
     "output_type": "stream",
     "text": [
      "W0622 23:49:39.853121 27080 callbacks.py:241] Method (on_train_batch_end) is slow compared to the batch update (0.285954). Check your callbacks.\n"
     ]
    },
    {
     "name": "stdout",
     "output_type": "stream",
     "text": [
      "457/468 [============================>.] - ETA: 7s - loss: 0.5041 - accuracy: 0.6913\n",
      "Epoch 00001: saving model to training_10_3/cp-0001.ckpt\n"
     ]
    },
    {
     "name": "stderr",
     "output_type": "stream",
     "text": [
      "W0622 23:49:40.649877 27080 callbacks.py:241] Method (on_train_batch_end) is slow compared to the batch update (0.325055). Check your callbacks.\n"
     ]
    },
    {
     "name": "stdout",
     "output_type": "stream",
     "text": [
      "458/468 [============================>.] - ETA: 7s - loss: 0.5034 - accuracy: 0.6916\n",
      "Epoch 00001: saving model to training_10_3/cp-0001.ckpt\n"
     ]
    },
    {
     "name": "stderr",
     "output_type": "stream",
     "text": [
      "W0622 23:49:41.016485 27080 callbacks.py:241] Method (on_train_batch_end) is slow compared to the batch update (0.285954). Check your callbacks.\n"
     ]
    },
    {
     "name": "stdout",
     "output_type": "stream",
     "text": [
      "459/468 [============================>.] - ETA: 6s - loss: 0.5030 - accuracy: 0.6919\n",
      "Epoch 00001: saving model to training_10_3/cp-0001.ckpt\n"
     ]
    },
    {
     "name": "stderr",
     "output_type": "stream",
     "text": [
      "W0622 23:49:41.457389 27080 callbacks.py:241] Method (on_train_batch_end) is slow compared to the batch update (0.316749). Check your callbacks.\n"
     ]
    },
    {
     "name": "stdout",
     "output_type": "stream",
     "text": [
      "460/468 [============================>.] - ETA: 5s - loss: 0.5026 - accuracy: 0.6923\n",
      "Epoch 00001: saving model to training_10_3/cp-0001.ckpt\n"
     ]
    },
    {
     "name": "stderr",
     "output_type": "stream",
     "text": [
      "W0622 23:49:41.883631 27080 callbacks.py:241] Method (on_train_batch_end) is slow compared to the batch update (0.285953). Check your callbacks.\n"
     ]
    },
    {
     "name": "stdout",
     "output_type": "stream",
     "text": [
      "461/468 [============================>.] - ETA: 5s - loss: 0.5023 - accuracy: 0.6926\n",
      "Epoch 00001: saving model to training_10_3/cp-0001.ckpt\n"
     ]
    },
    {
     "name": "stderr",
     "output_type": "stream",
     "text": [
      "W0622 23:49:42.501485 27080 callbacks.py:241] Method (on_train_batch_end) is slow compared to the batch update (0.316749). Check your callbacks.\n"
     ]
    },
    {
     "name": "stdout",
     "output_type": "stream",
     "text": [
      "462/468 [============================>.] - ETA: 4s - loss: 0.5017 - accuracy: 0.6929\n",
      "Epoch 00001: saving model to training_10_3/cp-0001.ckpt\n"
     ]
    },
    {
     "name": "stderr",
     "output_type": "stream",
     "text": [
      "W0622 23:49:43.058727 27080 callbacks.py:241] Method (on_train_batch_end) is slow compared to the batch update (0.325055). Check your callbacks.\n"
     ]
    },
    {
     "name": "stdout",
     "output_type": "stream",
     "text": [
      "463/468 [============================>.] - ETA: 3s - loss: 0.5011 - accuracy: 0.6932\n",
      "Epoch 00001: saving model to training_10_3/cp-0001.ckpt\n"
     ]
    },
    {
     "name": "stderr",
     "output_type": "stream",
     "text": [
      "W0622 23:49:43.449775 27080 callbacks.py:241] Method (on_train_batch_end) is slow compared to the batch update (0.316749). Check your callbacks.\n"
     ]
    },
    {
     "name": "stdout",
     "output_type": "stream",
     "text": [
      "464/468 [============================>.] - ETA: 2s - loss: 0.5005 - accuracy: 0.6935\n",
      "Epoch 00001: saving model to training_10_3/cp-0001.ckpt\n"
     ]
    },
    {
     "name": "stderr",
     "output_type": "stream",
     "text": [
      "W0622 23:49:43.845708 27080 callbacks.py:241] Method (on_train_batch_end) is slow compared to the batch update (0.285953). Check your callbacks.\n"
     ]
    },
    {
     "name": "stdout",
     "output_type": "stream",
     "text": [
      "465/468 [============================>.] - ETA: 2s - loss: 0.5000 - accuracy: 0.6938\n",
      "Epoch 00001: saving model to training_10_3/cp-0001.ckpt\n"
     ]
    },
    {
     "name": "stderr",
     "output_type": "stream",
     "text": [
      "W0622 23:49:44.285636 27080 callbacks.py:241] Method (on_train_batch_end) is slow compared to the batch update (0.258579). Check your callbacks.\n"
     ]
    },
    {
     "name": "stdout",
     "output_type": "stream",
     "text": [
      "466/468 [============================>.] - ETA: 1s - loss: 0.4996 - accuracy: 0.6942\n",
      "Epoch 00001: saving model to training_10_3/cp-0001.ckpt\n"
     ]
    },
    {
     "name": "stderr",
     "output_type": "stream",
     "text": [
      "W0622 23:49:44.968997 27080 callbacks.py:241] Method (on_train_batch_end) is slow compared to the batch update (0.289374). Check your callbacks.\n"
     ]
    },
    {
     "name": "stdout",
     "output_type": "stream",
     "text": [
      "467/468 [============================>.] - ETA: 0s - loss: 0.4992 - accuracy: 0.6945\n",
      "Epoch 00001: saving model to training_10_3/cp-0001.ckpt\n"
     ]
    },
    {
     "name": "stderr",
     "output_type": "stream",
     "text": [
      "W0622 23:49:46.415862 27080 callbacks.py:241] Method (on_train_batch_end) is slow compared to the batch update (0.289374). Check your callbacks.\n"
     ]
    },
    {
     "name": "stdout",
     "output_type": "stream",
     "text": [
      "\b\b\b\b\b\b\b\b\b\b\b\b\b\b\b\b\b\b\b\b\b\b\b\b\b\b\b\b\b\b\b\b\b\b\b\b\b\b\b\b\b\b\b\b\b\b\b\b\b\b\b\b\b\b\b\b\b\b\b\b\b\b\b\b\b\b\b\b\b\b\b\b\b\b\b\b\b\b\b\b\b\b\b\b\r",
      "468/468 [==============================] - 337s 720ms/step - loss: 0.4989 - accuracy: 0.6951 - val_loss: 0.1458 - val_accuracy: 0.9579\n"
     ]
    },
    {
     "data": {
      "text/plain": [
       "<tensorflow.python.keras.callbacks.History at 0x683aeff668>"
      ]
     },
     "execution_count": 32,
     "metadata": {},
     "output_type": "execute_result"
    }
   ],
   "source": [
    "#for checkpoint\n",
    "# 파일 이름에 에포크 번호를 포함시킵니다(`str.format` 포맷)\n",
    "checkpoint_path = \"training_10_3/cp-{epoch:04d}.ckpt\"\n",
    "checkpoint_dir = os.path.dirname(checkpoint_path)\n",
    "\n",
    "# 체크포인트 콜백 만들기\n",
    "cp_callback = tf.keras.callbacks.ModelCheckpoint(checkpoint_path,\n",
    "                                                 save_weights_only=True,\n",
    "                                                 verbose=1, save_freq=1)\n",
    "\n",
    "model.fit(train_dataset, epochs =1, ## dataset1 :용량문제--> 어떻게 해결?\n",
    "          validation_data =test_dataset,steps_per_epoch=training_iterations,\n",
    "          callbacks = [cp_callback],validation_steps=1)  # 훈련 단계에 콜백을 전달합니다\n"
   ]
  },
  {
   "cell_type": "markdown",
   "metadata": {},
   "source": [
    "============================================================================================================"
   ]
  }
 ],
 "metadata": {
  "kernelspec": {
   "display_name": "Python 3",
   "language": "python",
   "name": "python3"
  },
  "language_info": {
   "codemirror_mode": {
    "name": "ipython",
    "version": 3
   },
   "file_extension": ".py",
   "mimetype": "text/x-python",
   "name": "python",
   "nbconvert_exporter": "python",
   "pygments_lexer": "ipython3",
   "version": "3.7.3"
  }
 },
 "nbformat": 4,
 "nbformat_minor": 2
}
