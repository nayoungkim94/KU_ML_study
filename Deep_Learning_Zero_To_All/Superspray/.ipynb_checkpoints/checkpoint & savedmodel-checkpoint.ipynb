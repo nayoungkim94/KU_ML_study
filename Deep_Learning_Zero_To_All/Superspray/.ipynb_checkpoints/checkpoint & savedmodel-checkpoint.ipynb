{
 "cells": [
  {
   "cell_type": "markdown",
   "metadata": {},
   "source": [
    "https://www.tensorflow.org/beta/tutorials/keras/save_and_restore_models\n",
    "\n",
    "\n",
    "*** savedmodel 관련 내용 추가할 것"
   ]
  },
  {
   "cell_type": "code",
   "execution_count": 1,
   "metadata": {},
   "outputs": [
    {
     "data": {
      "text/plain": [
       "'2.0.0-beta1'"
      ]
     },
     "execution_count": 1,
     "metadata": {},
     "output_type": "execute_result"
    }
   ],
   "source": [
    "from __future__ import absolute_import, division, print_function, unicode_literals, unicode_literals\n",
    "\n",
    "import os\n",
    "\n",
    "!pip install -q tensorflow==2.0.0-beta1\n",
    "import tensorflow as tf\n",
    "from tensorflow import keras\n",
    "\n",
    "tf.__version__"
   ]
  },
  {
   "cell_type": "code",
   "execution_count": 3,
   "metadata": {},
   "outputs": [
    {
     "data": {
      "text/plain": [
       "784"
      ]
     },
     "execution_count": 3,
     "metadata": {},
     "output_type": "execute_result"
    }
   ],
   "source": [
    "#data import\n",
    "(train_images, train_labels), (test_images, test_labels) = tf.keras.datasets.mnist.load_data()\n",
    "#1000개만 가져옴\n",
    "train_labels = train_labels[:1000]\n",
    "test_labels = test_labels[:1000]\n",
    "#normalize\n",
    "train_images = train_images[:1000].reshape(-1, 28 * 28) / 255.0\n",
    "test_images = test_images[:1000].reshape(-1, 28 * 28) / 255.0\n",
    "#28*28=784이므로 이후에 input_shpae==784"
   ]
  },
  {
   "cell_type": "code",
   "execution_count": 4,
   "metadata": {},
   "outputs": [
    {
     "name": "stdout",
     "output_type": "stream",
     "text": [
      "Model: \"sequential\"\n",
      "_________________________________________________________________\n",
      "Layer (type)                 Output Shape              Param #   \n",
      "=================================================================\n",
      "dense (Dense)                (None, 512)               401920    \n",
      "_________________________________________________________________\n",
      "dropout (Dropout)            (None, 512)               0         \n",
      "_________________________________________________________________\n",
      "dense_1 (Dense)              (None, 10)                5130      \n",
      "=================================================================\n",
      "Total params: 407,050\n",
      "Trainable params: 407,050\n",
      "Non-trainable params: 0\n",
      "_________________________________________________________________\n"
     ]
    }
   ],
   "source": [
    "#model \n",
    "# 간단한 Sequential 모델을 반환합니다\n",
    "def create_model():\n",
    "  model = tf.keras.models.Sequential([\n",
    "    keras.layers.Dense(512, activation='relu', input_shape=(784,)),\n",
    "    keras.layers.Dropout(0.2),\n",
    "    keras.layers.Dense(10, activation='softmax')\n",
    "  ])\n",
    "\n",
    "  model.compile(optimizer='adam',\n",
    "                loss='sparse_categorical_crossentropy',\n",
    "                metrics=['accuracy'])\n",
    "\n",
    "  return model\n",
    "\n",
    "\n",
    "# 모델 객체를 만듭니다\n",
    "model = create_model()\n",
    "model.summary()"
   ]
  },
  {
   "cell_type": "markdown",
   "metadata": {},
   "source": [
    "### 훈련하는 동안 체크포인트 저장하기\n",
    "훈련 중간과 훈련 마지막에 체크포인트(checkpoint)를 자동으로 저장하도록 하는 것이 많이 사용하는 방법입니다. 다시 훈련하지 않고 모델을 재사용하거나 훈련 과정이 중지된 경우 이어서 훈련을 진행할 수 있습니다.\n",
    "\n",
    "tf.keras.callbacks.ModelCheckpoint은 이런 작업을 수행하는 콜백(callback)입니다. 이 콜백은 체크포인트 작업을 조정할 수 있도록 여러가지 매개변수를 제공합니다."
   ]
  },
  {
   "cell_type": "code",
   "execution_count": 10,
   "metadata": {},
   "outputs": [
    {
     "name": "stdout",
     "output_type": "stream",
     "text": [
      "Train on 1000 samples, validate on 1000 samples\n",
      "Epoch 1/10\n",
      "1000/1000 [==============================] - 1s 1ms/sample - loss: 1.1798 - accuracy: 0.6510 - val_loss: 0.7171 - val_accuracy: 0.7790\n",
      "Epoch 2/10\n",
      "1000/1000 [==============================] - 1s 906us/sample - loss: 0.4388 - accuracy: 0.8740 - val_loss: 0.5269 - val_accuracy: 0.8400\n",
      "Epoch 3/10\n",
      "1000/1000 [==============================] - 1s 1ms/sample - loss: 0.2918 - accuracy: 0.9210 - val_loss: 0.4703 - val_accuracy: 0.8570\n",
      "Epoch 4/10\n",
      "1000/1000 [==============================] - 1s 593us/sample - loss: 0.2181 - accuracy: 0.9500 - val_loss: 0.4167 - val_accuracy: 0.8670\n",
      "Epoch 5/10\n",
      "1000/1000 [==============================] - 1s 593us/sample - loss: 0.1605 - accuracy: 0.9700 - val_loss: 0.4309 - val_accuracy: 0.8590\n",
      "Epoch 6/10\n",
      "1000/1000 [==============================] - 1s 734us/sample - loss: 0.1131 - accuracy: 0.9850 - val_loss: 0.4148 - val_accuracy: 0.8670\n",
      "Epoch 7/10\n",
      "1000/1000 [==============================] - 1s 592us/sample - loss: 0.0887 - accuracy: 0.9830 - val_loss: 0.4211 - val_accuracy: 0.8570\n",
      "Epoch 8/10\n",
      "1000/1000 [==============================] - 1s 636us/sample - loss: 0.0665 - accuracy: 0.9950 - val_loss: 0.4204 - val_accuracy: 0.8630\n",
      "Epoch 9/10\n",
      "1000/1000 [==============================] - 1s 825us/sample - loss: 0.0530 - accuracy: 0.9960 - val_loss: 0.4015 - val_accuracy: 0.8750\n",
      "Epoch 10/10\n",
      "1000/1000 [==============================] - 1s 598us/sample - loss: 0.0381 - accuracy: 1.0000 - val_loss: 0.4158 - val_accuracy: 0.8650\n"
     ]
    },
    {
     "data": {
      "text/plain": [
       "<tensorflow.python.keras.callbacks.History at 0xb49b211b38>"
      ]
     },
     "execution_count": 10,
     "metadata": {},
     "output_type": "execute_result"
    }
   ],
   "source": [
    "checkpoint_path = \"training_1/cp.ckpt\"\n",
    "checkpoint_dir = os.path.dirname(checkpoint_path)\n",
    "\n",
    "# 체크포인트 콜백 만들기\n",
    "cp_callback = tf.keras.callbacks.ModelCheckpoint(checkpoint_path,\n",
    "                                                 save_weights_only=True,\n",
    "                                                 verbose=0) #save_freq= epoch가 디폴트값\n",
    "#verbose=0 or 1 ==>just say how do you want to 'see' the training progress for each epoch.\n",
    "model = create_model()\n",
    "\n",
    "model.fit(train_images, train_labels,  epochs = 10,\n",
    "          validation_data = (test_images,test_labels),\n",
    "          callbacks = [cp_callback])  # 훈련 단계에 콜백을 전달합니다 3#callback은 list형식으로 넣을것\n",
    "\n",
    "# 옵티마이저의 상태를 저장하는 것과 관련되어 경고가 발생할 수 있습니다.\n",
    "# 이 경고는 (그리고 이 노트북의 다른 비슷한 경고는) 이전 사용 방식을 권장하지 않기 위함이며 무시해도 좋습니다."
   ]
  },
  {
   "cell_type": "code",
   "execution_count": 18,
   "metadata": {},
   "outputs": [
    {
     "name": "stdout",
     "output_type": "stream",
     "text": [
      "Train on 1000 samples, validate on 1000 samples\n",
      "Epoch 1/10\n",
      " 992/1000 [============================>.] - ETA: 0s - loss: 1.1740 - accuracy: 0.6794\n",
      "Epoch 00001: saving model to training_2/cp.ckpt\n",
      "1000/1000 [==============================] - 2s 2ms/sample - loss: 1.1685 - accuracy: 0.6820 - val_loss: 0.7367 - val_accuracy: 0.7680\n",
      "Epoch 2/10\n",
      " 928/1000 [==========================>...] - ETA: 0s - loss: 0.4067 - accuracy: 0.8933\n",
      "Epoch 00002: saving model to training_2/cp.ckpt\n",
      "1000/1000 [==============================] - 1s 1ms/sample - loss: 0.4212 - accuracy: 0.8880 - val_loss: 0.5384 - val_accuracy: 0.8360\n",
      "Epoch 3/10\n",
      " 864/1000 [========================>.....] - ETA: 0s - loss: 0.2906 - accuracy: 0.9201\n",
      "Epoch 00003: saving model to training_2/cp.ckpt\n",
      "1000/1000 [==============================] - 1s 585us/sample - loss: 0.2872 - accuracy: 0.9200 - val_loss: 0.4623 - val_accuracy: 0.8610\n",
      "Epoch 4/10\n",
      " 992/1000 [============================>.] - ETA: 0s - loss: 0.2177 - accuracy: 0.9375\n",
      "Epoch 00004: saving model to training_2/cp.ckpt\n",
      "1000/1000 [==============================] - 1s 670us/sample - loss: 0.2178 - accuracy: 0.9370 - val_loss: 0.4231 - val_accuracy: 0.8600\n",
      "Epoch 5/10\n",
      " 928/1000 [==========================>...] - ETA: 0s - loss: 0.1519 - accuracy: 0.9623\n",
      "Epoch 00005: saving model to training_2/cp.ckpt\n",
      "1000/1000 [==============================] - 1s 764us/sample - loss: 0.1493 - accuracy: 0.9630 - val_loss: 0.4097 - val_accuracy: 0.8680\n",
      "Epoch 6/10\n",
      " 864/1000 [========================>.....] - ETA: 0s - loss: 0.1146 - accuracy: 0.9769\n",
      "Epoch 00006: saving model to training_2/cp.ckpt\n",
      "1000/1000 [==============================] - 1s 509us/sample - loss: 0.1129 - accuracy: 0.9790 - val_loss: 0.4201 - val_accuracy: 0.8660\n",
      "Epoch 7/10\n",
      " 928/1000 [==========================>...] - ETA: 0s - loss: 0.0904 - accuracy: 0.9860\n",
      "Epoch 00007: saving model to training_2/cp.ckpt\n",
      "1000/1000 [==============================] - 1s 712us/sample - loss: 0.0914 - accuracy: 0.9860 - val_loss: 0.3989 - val_accuracy: 0.8730\n",
      "Epoch 8/10\n",
      " 960/1000 [===========================>..] - ETA: 0s - loss: 0.0704 - accuracy: 0.9896\n",
      "Epoch 00008: saving model to training_2/cp.ckpt\n",
      "1000/1000 [==============================] - 1s 563us/sample - loss: 0.0690 - accuracy: 0.9900 - val_loss: 0.4063 - val_accuracy: 0.8700\n",
      "Epoch 9/10\n",
      " 896/1000 [=========================>....] - ETA: 0s - loss: 0.0478 - accuracy: 0.9967\n",
      "Epoch 00009: saving model to training_2/cp.ckpt\n",
      "1000/1000 [==============================] - 1s 629us/sample - loss: 0.0481 - accuracy: 0.9970 - val_loss: 0.4117 - val_accuracy: 0.8710\n",
      "Epoch 10/10\n",
      " 992/1000 [============================>.] - ETA: 0s - loss: 0.0376 - accuracy: 0.9990\n",
      "Epoch 00010: saving model to training_2/cp.ckpt\n",
      "1000/1000 [==============================] - 1s 662us/sample - loss: 0.0380 - accuracy: 0.9990 - val_loss: 0.4178 - val_accuracy: 0.8690\n"
     ]
    },
    {
     "data": {
      "text/plain": [
       "<tensorflow.python.keras.callbacks.History at 0xb49d773240>"
      ]
     },
     "execution_count": 18,
     "metadata": {},
     "output_type": "execute_result"
    }
   ],
   "source": [
    "checkpoint_path = \"training_2/cp.ckpt\"\n",
    "checkpoint_dir = os.path.dirname(checkpoint_path)\n",
    "\n",
    "# 체크포인트 콜백 만들기\n",
    "cp_callback = tf.keras.callbacks.ModelCheckpoint(checkpoint_path,\n",
    "                                                 save_weights_only=True,\n",
    "                                                 verbose=1) #save_freq= epoch가 디폴트값\n",
    "#verbose=0 or 1 ==>just say how do you want to 'see' the training progress for each epoch.\n",
    "#verbose  1로 설정 시 training/validation 과정 모두 뜨는 것?\n",
    "model = create_model()\n",
    "\n",
    "model.fit(train_images, train_labels,  epochs = 10,\n",
    "          validation_data = (test_images,test_labels),\n",
    "          callbacks = [cp_callback])  # 훈련 단계에 콜백을 전달합니다 3#callback은 list형식으로 넣을것\n",
    "\n",
    "# 옵티마이저의 상태를 저장하는 것과 관련되어 경고가 발생할 수 있습니다.\n",
    "# 이 경고는 (그리고 이 노트북의 다른 비슷한 경고는) 이전 사용 방식을 권장하지 않기 위함이며 무시해도 좋습니다."
   ]
  },
  {
   "cell_type": "code",
   "execution_count": 11,
   "metadata": {},
   "outputs": [
    {
     "name": "stdout",
     "output_type": "stream",
     "text": [
      "checkpoint\n",
      "cp.ckpt.data-00000-of-00001\n",
      "cp.ckpt.index\n"
     ]
    }
   ],
   "source": [
    "!ls {checkpoint_dir}"
   ]
  },
  {
   "cell_type": "markdown",
   "metadata": {},
   "source": [
    "훈련하지 않은 새로운 모델을 만들어 보겠습니다. 가중치만 복원할 땐 원본 모델과 \"동일한 구조\"로 모델을 만들어야 합니다. 여기서는 동일한 구조로 모델을 만들었으므로 다른 객체이지만 가중치를 공유할 수 있습니다.\n",
    "\n",
    "훈련하지 않은 새 모델을 만들고 테스트 세트에서 평가해 보죠. 훈련되지 않은 모델의 성능은 무작위로 선택하는 정도의 수준입니다(~10% 정확도):"
   ]
  },
  {
   "cell_type": "code",
   "execution_count": 16,
   "metadata": {},
   "outputs": [
    {
     "name": "stdout",
     "output_type": "stream",
     "text": [
      "1000/1000 [==============================] - 1s 764us/sample - loss: 2.3627 - accuracy: 0.1320\n",
      "훈련되지 않은 모델의 정확도: 13.20%\n"
     ]
    }
   ],
   "source": [
    "model = create_model()#위에서 만들어둔 모델의 구조를 그대로 사용\n",
    "\n",
    "loss, acc = model.evaluate(test_images, test_labels)\n",
    "print(\"훈련되지 않은 모델의 정확도: {:5.2f}%\".format(100*acc))"
   ]
  },
  {
   "cell_type": "code",
   "execution_count": 17,
   "metadata": {},
   "outputs": [
    {
     "name": "stdout",
     "output_type": "stream",
     "text": [
      "1000/1000 [==============================] - 1s 513us/sample - loss: 0.4139 - accuracy: 0.8730 - loss: 0.4138 - accuracy: 0.87\n",
      "복원된 모델의 정확도: 87.30%\n"
     ]
    }
   ],
   "source": [
    "model.load_weights(checkpoint_path)\n",
    "loss,acc = model.evaluate(test_images, test_labels)\n",
    "print(\"복원된 모델의 정확도: {:5.2f}%\".format(100*acc))"
   ]
  },
  {
   "cell_type": "markdown",
   "metadata": {},
   "source": [
    "### 체크포인트 콜백 매개변수\n",
    "이 콜백 함수는 몇 가지 매개변수를 제공합니다. \n",
    "체크포인트 이름을 고유하게 만들거나 체크포인트 주기(save_freq)를 조정할 수 있습니다.\n",
    "\n",
    "새로운 모델을 훈련하고 다섯 번의 에포크마다 고유한 이름으로 체크포인트를 저장해 보겠습니다:"
   ]
  },
  {
   "cell_type": "code",
   "execution_count": 24,
   "metadata": {},
   "outputs": [
    {
     "name": "stderr",
     "output_type": "stream",
     "text": [
      "W0622 16:32:16.647368 28836 callbacks.py:859] `period` argument is deprecated. Please use `save_freq` to specify the frequency in number of samples seen.\n"
     ]
    },
    {
     "name": "stdout",
     "output_type": "stream",
     "text": [
      "\n",
      "Epoch 00005: saving model to training_3/cp-0005.ckpt\n",
      "\n",
      "Epoch 00010: saving model to training_3/cp-0010.ckpt\n",
      "\n",
      "Epoch 00015: saving model to training_3/cp-0015.ckpt\n",
      "\n",
      "Epoch 00020: saving model to training_3/cp-0020.ckpt\n",
      "\n",
      "Epoch 00025: saving model to training_3/cp-0025.ckpt\n",
      "\n",
      "Epoch 00030: saving model to training_3/cp-0030.ckpt\n",
      "\n",
      "Epoch 00035: saving model to training_3/cp-0035.ckpt\n",
      "\n",
      "Epoch 00040: saving model to training_3/cp-0040.ckpt\n",
      "\n",
      "Epoch 00045: saving model to training_3/cp-0045.ckpt\n",
      "\n",
      "Epoch 00050: saving model to training_3/cp-0050.ckpt\n"
     ]
    },
    {
     "data": {
      "text/plain": [
       "<tensorflow.python.keras.callbacks.History at 0xb4a6acc0b8>"
      ]
     },
     "execution_count": 24,
     "metadata": {},
     "output_type": "execute_result"
    }
   ],
   "source": [
    "# 파일 이름에 에포크 번호를 포함시킵니다(`str.format` 포맷)\n",
    "checkpoint_path = \"training_3/cp-{epoch:04d}.ckpt\"\n",
    "checkpoint_dir = os.path.dirname(checkpoint_path)\n",
    "\n",
    "cp_callback = tf.keras.callbacks.ModelCheckpoint(\n",
    "    checkpoint_path, verbose=1, save_weights_only=True,\n",
    "    # 다섯 번째 에포크마다 가중치를 저장합니다\n",
    "    period=5)\n",
    "\n",
    "model = create_model()\n",
    "model.save_weights(checkpoint_path.format(epoch=0))\n",
    "model.fit(train_images, train_labels,\n",
    "          epochs = 50, callbacks = [cp_callback],\n",
    "          validation_data = (test_images,test_labels),\n",
    "          verbose=0)"
   ]
  },
  {
   "cell_type": "code",
   "execution_count": 25,
   "metadata": {},
   "outputs": [
    {
     "name": "stdout",
     "output_type": "stream",
     "text": [
      "checkpoint\n",
      "cp-0000.ckpt.data-00000-of-00001\n",
      "cp-0000.ckpt.index\n",
      "cp-0005.ckpt.data-00000-of-00001\n",
      "cp-0005.ckpt.index\n",
      "cp-0010.ckpt.data-00000-of-00001\n",
      "cp-0010.ckpt.index\n",
      "cp-0015.ckpt.data-00000-of-00001\n",
      "cp-0015.ckpt.index\n",
      "cp-0020.ckpt.data-00000-of-00001\n",
      "cp-0020.ckpt.index\n",
      "cp-0025.ckpt.data-00000-of-00001\n",
      "cp-0025.ckpt.index\n",
      "cp-0030.ckpt.data-00000-of-00001\n",
      "cp-0030.ckpt.index\n",
      "cp-0035.ckpt.data-00000-of-00001\n",
      "cp-0035.ckpt.index\n",
      "cp-0040.ckpt.data-00000-of-00001\n",
      "cp-0040.ckpt.index\n",
      "cp-0045.ckpt.data-00000-of-00001\n",
      "cp-0045.ckpt.index\n",
      "cp-0050.ckpt.data-00000-of-00001\n",
      "cp-0050.ckpt.index\n"
     ]
    }
   ],
   "source": [
    "! ls {checkpoint_dir} #10개 생성"
   ]
  },
  {
   "cell_type": "code",
   "execution_count": 26,
   "metadata": {},
   "outputs": [
    {
     "data": {
      "text/plain": [
       "'training_3\\\\cp-0050.ckpt'"
      ]
     },
     "execution_count": 26,
     "metadata": {},
     "output_type": "execute_result"
    }
   ],
   "source": [
    "latest = tf.train.latest_checkpoint(checkpoint_dir)\n",
    "latest"
   ]
  },
  {
   "cell_type": "markdown",
   "metadata": {},
   "source": [
    "노트: 텐서플로는 기본적으로 최근 5개의 체크포인트만 저장합니다.\n",
    "\n",
    "모델을 초기화하고 최근 체크포인트를 로드하여 테스트해 보겠습니다:"
   ]
  },
  {
   "cell_type": "code",
   "execution_count": 27,
   "metadata": {},
   "outputs": [
    {
     "name": "stdout",
     "output_type": "stream",
     "text": [
      "1000/1000 [==============================] - 0s 363us/sample - loss: 0.5064 - accuracy: 0.8720\n",
      "복원된 모델의 정확도: 87.20%\n"
     ]
    }
   ],
   "source": [
    "model = create_model()\n",
    "model.load_weights(latest)\n",
    "loss, acc = model.evaluate(test_images, test_labels)\n",
    "print(\"복원된 모델의 정확도: {:5.2f}%\".format(100*acc))"
   ]
  },
  {
   "cell_type": "code",
   "execution_count": null,
   "metadata": {},
   "outputs": [],
   "source": []
  },
  {
   "cell_type": "code",
   "execution_count": 22,
   "metadata": {},
   "outputs": [
    {
     "name": "stdout",
     "output_type": "stream",
     "text": [
      "\n",
      "Epoch 00001: saving model to training_2/cp-0001.ckpt\n",
      "\n",
      "Epoch 00001: saving model to training_2/cp-0001.ckpt\n",
      "\n",
      "Epoch 00001: saving model to training_2/cp-0001.ckpt\n"
     ]
    },
    {
     "name": "stderr",
     "output_type": "stream",
     "text": [
      "W0622 16:26:21.878682 28836 callbacks.py:241] Method (on_train_batch_end) is slow compared to the batch update (0.126601). Check your callbacks.\n"
     ]
    },
    {
     "name": "stdout",
     "output_type": "stream",
     "text": [
      "\n",
      "Epoch 00001: saving model to training_2/cp-0001.ckpt\n",
      "\n",
      "Epoch 00001: saving model to training_2/cp-0001.ckpt"
     ]
    },
    {
     "name": "stderr",
     "output_type": "stream",
     "text": [
      "W0622 16:26:22.042922 28836 callbacks.py:241] Method (on_train_batch_end) is slow compared to the batch update (0.150553). Check your callbacks.\n"
     ]
    },
    {
     "name": "stdout",
     "output_type": "stream",
     "text": [
      "\n",
      "\n",
      "Epoch 00001: saving model to training_2/cp-0001.ckpt\n"
     ]
    },
    {
     "name": "stderr",
     "output_type": "stream",
     "text": [
      "W0622 16:26:22.236490 28836 callbacks.py:241] Method (on_train_batch_end) is slow compared to the batch update (0.157396). Check your callbacks.\n",
      "W0622 16:26:22.358691 28836 callbacks.py:241] Method (on_train_batch_end) is slow compared to the batch update (0.150553). Check your callbacks.\n"
     ]
    },
    {
     "name": "stdout",
     "output_type": "stream",
     "text": [
      "\n",
      "Epoch 00001: saving model to training_2/cp-0001.ckpt\n",
      "\n",
      "Epoch 00001: saving model to training_2/cp-0001.ckpt\n"
     ]
    },
    {
     "name": "stderr",
     "output_type": "stream",
     "text": [
      "W0622 16:26:22.528797 28836 callbacks.py:241] Method (on_train_batch_end) is slow compared to the batch update (0.152508). Check your callbacks.\n",
      "W0622 16:26:22.649044 28836 callbacks.py:241] Method (on_train_batch_end) is slow compared to the batch update (0.150553). Check your callbacks.\n"
     ]
    },
    {
     "name": "stdout",
     "output_type": "stream",
     "text": [
      "\n",
      "Epoch 00001: saving model to training_2/cp-0001.ckpt\n",
      "\n",
      "Epoch 00001: saving model to training_2/cp-0001.ckpt\n"
     ]
    },
    {
     "name": "stderr",
     "output_type": "stream",
     "text": [
      "W0622 16:26:22.846524 28836 callbacks.py:241] Method (on_train_batch_end) is slow compared to the batch update (0.152508). Check your callbacks.\n",
      "W0622 16:26:22.957971 28836 callbacks.py:241] Method (on_train_batch_end) is slow compared to the batch update (0.152508). Check your callbacks.\n"
     ]
    },
    {
     "name": "stdout",
     "output_type": "stream",
     "text": [
      "\n",
      "Epoch 00001: saving model to training_2/cp-0001.ckpt\n",
      "\n",
      "Epoch 00001: saving model to training_2/cp-0001.ckpt\n"
     ]
    },
    {
     "name": "stderr",
     "output_type": "stream",
     "text": [
      "W0622 16:26:23.058666 28836 callbacks.py:241] Method (on_train_batch_end) is slow compared to the batch update (0.152508). Check your callbacks.\n",
      "W0622 16:26:23.241480 28836 callbacks.py:241] Method (on_train_batch_end) is slow compared to the batch update (0.152508). Check your callbacks.\n"
     ]
    },
    {
     "name": "stdout",
     "output_type": "stream",
     "text": [
      "\n",
      "Epoch 00001: saving model to training_2/cp-0001.ckpt\n",
      "\n",
      "Epoch 00001: saving model to training_2/cp-0001.ckpt\n"
     ]
    },
    {
     "name": "stderr",
     "output_type": "stream",
     "text": [
      "W0622 16:26:23.352927 28836 callbacks.py:241] Method (on_train_batch_end) is slow compared to the batch update (0.130023). Check your callbacks.\n",
      "W0622 16:26:23.494682 28836 callbacks.py:241] Method (on_train_batch_end) is slow compared to the batch update (0.115358). Check your callbacks.\n"
     ]
    },
    {
     "name": "stdout",
     "output_type": "stream",
     "text": [
      "\n",
      "Epoch 00001: saving model to training_2/cp-0001.ckpt\n",
      "\n",
      "Epoch 00001: saving model to training_2/cp-0001.ckpt\n"
     ]
    },
    {
     "name": "stderr",
     "output_type": "stream",
     "text": [
      "W0622 16:26:23.604175 28836 callbacks.py:241] Method (on_train_batch_end) is slow compared to the batch update (0.108515). Check your callbacks.\n",
      "W0622 16:26:23.752773 28836 callbacks.py:241] Method (on_train_batch_end) is slow compared to the batch update (0.115358). Check your callbacks.\n"
     ]
    },
    {
     "name": "stdout",
     "output_type": "stream",
     "text": [
      "\n",
      "Epoch 00001: saving model to training_2/cp-0001.ckpt\n",
      "\n",
      "Epoch 00001: saving model to training_2/cp-0001.ckpt\n"
     ]
    },
    {
     "name": "stderr",
     "output_type": "stream",
     "text": [
      "W0622 16:26:23.899415 28836 callbacks.py:241] Method (on_train_batch_end) is slow compared to the batch update (0.112425). Check your callbacks.\n",
      "W0622 16:26:24.105694 28836 callbacks.py:241] Method (on_train_batch_end) is slow compared to the batch update (0.118291). Check your callbacks.\n"
     ]
    },
    {
     "name": "stdout",
     "output_type": "stream",
     "text": [
      "\n",
      "Epoch 00001: saving model to training_2/cp-0001.ckpt\n",
      "\n",
      "Epoch 00001: saving model to training_2/cp-0001.ckpt\n"
     ]
    },
    {
     "name": "stderr",
     "output_type": "stream",
     "text": [
      "W0622 16:26:24.317835 28836 callbacks.py:241] Method (on_train_batch_end) is slow compared to the batch update (0.118291). Check your callbacks.\n",
      "W0622 16:26:24.428307 28836 callbacks.py:241] Method (on_train_batch_end) is slow compared to the batch update (0.118291). Check your callbacks.\n"
     ]
    },
    {
     "name": "stdout",
     "output_type": "stream",
     "text": [
      "\n",
      "Epoch 00001: saving model to training_2/cp-0001.ckpt\n",
      "\n",
      "Epoch 00001: saving model to training_2/cp-0001.ckpt\n"
     ]
    },
    {
     "name": "stderr",
     "output_type": "stream",
     "text": [
      "W0622 16:26:24.596457 28836 callbacks.py:241] Method (on_train_batch_end) is slow compared to the batch update (0.122690). Check your callbacks.\n",
      "W0622 16:26:24.742122 28836 callbacks.py:241] Method (on_train_batch_end) is slow compared to the batch update (0.118291). Check your callbacks.\n"
     ]
    },
    {
     "name": "stdout",
     "output_type": "stream",
     "text": [
      "\n",
      "Epoch 00001: saving model to training_2/cp-0001.ckpt\n",
      "\n",
      "Epoch 00001: saving model to training_2/cp-0001.ckpt\n"
     ]
    },
    {
     "name": "stderr",
     "output_type": "stream",
     "text": [
      "W0622 16:26:24.864324 28836 callbacks.py:241] Method (on_train_batch_end) is slow compared to the batch update (0.118291). Check your callbacks.\n",
      "W0622 16:26:24.972839 28836 callbacks.py:241] Method (on_train_batch_end) is slow compared to the batch update (0.110959). Check your callbacks.\n"
     ]
    },
    {
     "name": "stdout",
     "output_type": "stream",
     "text": [
      "\n",
      "Epoch 00001: saving model to training_2/cp-0001.ckpt\n",
      "\n",
      "Epoch 00001: saving model to training_2/cp-0001.ckpt\n"
     ]
    },
    {
     "name": "stderr",
     "output_type": "stream",
     "text": [
      "W0622 16:26:25.088199 28836 callbacks.py:241] Method (on_train_batch_end) is slow compared to the batch update (0.110959). Check your callbacks.\n",
      "W0622 16:26:25.215289 28836 callbacks.py:241] Method (on_train_batch_end) is slow compared to the batch update (0.105094). Check your callbacks.\n"
     ]
    },
    {
     "name": "stdout",
     "output_type": "stream",
     "text": [
      "\n",
      "Epoch 00001: saving model to training_2/cp-0001.ckpt\n",
      "\n",
      "Epoch 00001: saving model to training_2/cp-0001.ckpt\n"
     ]
    },
    {
     "name": "stderr",
     "output_type": "stream",
     "text": [
      "W0622 16:26:25.340423 28836 callbacks.py:241] Method (on_train_batch_end) is slow compared to the batch update (0.105094). Check your callbacks.\n",
      "W0622 16:26:25.489999 28836 callbacks.py:241] Method (on_train_batch_end) is slow compared to the batch update (0.105094). Check your callbacks.\n"
     ]
    },
    {
     "name": "stdout",
     "output_type": "stream",
     "text": [
      "\n",
      "Epoch 00001: saving model to training_2/cp-0001.ckpt\n",
      "\n",
      "Epoch 00001: saving model to training_2/cp-0001.ckpt\n"
     ]
    },
    {
     "name": "stderr",
     "output_type": "stream",
     "text": [
      "W0622 16:26:25.597537 28836 callbacks.py:241] Method (on_train_batch_end) is slow compared to the batch update (0.100695). Check your callbacks.\n",
      "W0622 16:26:25.700188 28836 callbacks.py:241] Method (on_train_batch_end) is slow compared to the batch update (0.100695). Check your callbacks.\n"
     ]
    },
    {
     "name": "stdout",
     "output_type": "stream",
     "text": [
      "\n",
      "Epoch 00001: saving model to training_2/cp-0001.ckpt\n",
      "\n",
      "Epoch 00001: saving model to training_2/cp-0001.ckpt\n",
      "\n",
      "Epoch 00002: saving model to training_2/cp-0002.ckpt\n",
      "\n",
      "Epoch 00002: saving model to training_2/cp-0002.ckpt\n",
      "\n",
      "Epoch 00002: saving model to training_2/cp-0002.ckpt\n",
      "\n",
      "Epoch 00002: saving model to training_2/cp-0002.ckpt\n",
      "\n",
      "Epoch 00002: saving model to training_2/cp-0002.ckpt\n",
      "\n",
      "Epoch 00002: saving model to training_2/cp-0002.ckpt\n",
      "\n",
      "Epoch 00002: saving model to training_2/cp-0002.ckpt\n",
      "\n",
      "Epoch 00002: saving model to training_2/cp-0002.ckpt\n",
      "\n",
      "Epoch 00002: saving model to training_2/cp-0002.ckpt\n",
      "\n",
      "Epoch 00002: saving model to training_2/cp-0002.ckpt\n",
      "\n",
      "Epoch 00002: saving model to training_2/cp-0002.ckpt\n",
      "\n",
      "Epoch 00002: saving model to training_2/cp-0002.ckpt\n",
      "\n",
      "Epoch 00002: saving model to training_2/cp-0002.ckpt\n",
      "\n",
      "Epoch 00002: saving model to training_2/cp-0002.ckpt\n",
      "\n",
      "Epoch 00002: saving model to training_2/cp-0002.ckpt\n",
      "\n",
      "Epoch 00002: saving model to training_2/cp-0002.ckpt\n",
      "\n",
      "Epoch 00002: saving model to training_2/cp-0002.ckpt\n",
      "\n",
      "Epoch 00002: saving model to training_2/cp-0002.ckpt\n",
      "\n",
      "Epoch 00002: saving model to training_2/cp-0002.ckpt\n",
      "\n",
      "Epoch 00002: saving model to training_2/cp-0002.ckpt\n",
      "\n",
      "Epoch 00002: saving model to training_2/cp-0002.ckpt\n",
      "\n",
      "Epoch 00002: saving model to training_2/cp-0002.ckpt\n",
      "\n",
      "Epoch 00002: saving model to training_2/cp-0002.ckpt\n"
     ]
    },
    {
     "name": "stderr",
     "output_type": "stream",
     "text": [
      "W0622 16:26:28.616418 28836 callbacks.py:241] Method (on_train_batch_end) is slow compared to the batch update (0.103139). Check your callbacks.\n"
     ]
    },
    {
     "name": "stdout",
     "output_type": "stream",
     "text": [
      "\n",
      "Epoch 00002: saving model to training_2/cp-0002.ckpt\n",
      "\n",
      "Epoch 00002: saving model to training_2/cp-0002.ckpt\n"
     ]
    },
    {
     "name": "stderr",
     "output_type": "stream",
     "text": [
      "W0622 16:26:28.786523 28836 callbacks.py:241] Method (on_train_batch_end) is slow compared to the batch update (0.103139). Check your callbacks.\n",
      "W0622 16:26:28.896994 28836 callbacks.py:241] Method (on_train_batch_end) is slow compared to the batch update (0.103629). Check your callbacks.\n"
     ]
    },
    {
     "name": "stdout",
     "output_type": "stream",
     "text": [
      "\n",
      "Epoch 00002: saving model to training_2/cp-0002.ckpt\n",
      "\n",
      "Epoch 00002: saving model to training_2/cp-0002.ckpt\n"
     ]
    },
    {
     "name": "stderr",
     "output_type": "stream",
     "text": [
      "W0622 16:26:29.116957 28836 callbacks.py:241] Method (on_train_batch_end) is slow compared to the batch update (0.128557). Check your callbacks.\n"
     ]
    },
    {
     "name": "stdout",
     "output_type": "stream",
     "text": [
      "\n",
      "Epoch 00002: saving model to training_2/cp-0002.ckpt\n"
     ]
    },
    {
     "name": "stderr",
     "output_type": "stream",
     "text": [
      "W0622 16:26:29.968462 28836 callbacks.py:241] Method (on_train_batch_end) is slow compared to the batch update (0.151043). Check your callbacks.\n",
      "W0622 16:26:30.086755 28836 callbacks.py:241] Method (on_train_batch_end) is slow compared to the batch update (0.151043). Check your callbacks.\n"
     ]
    },
    {
     "name": "stdout",
     "output_type": "stream",
     "text": [
      "\n",
      "Epoch 00002: saving model to training_2/cp-0002.ckpt\n",
      "\n",
      "Epoch 00002: saving model to training_2/cp-0002.ckpt\n"
     ]
    },
    {
     "name": "stderr",
     "output_type": "stream",
     "text": [
      "W0622 16:26:30.279344 28836 callbacks.py:241] Method (on_train_batch_end) is slow compared to the batch update (0.156420). Check your callbacks.\n",
      "W0622 16:26:30.380039 28836 callbacks.py:241] Method (on_train_batch_end) is slow compared to the batch update (0.151043). Check your callbacks.\n",
      "W0622 16:26:30.458248 28836 callbacks.py:241] Method (on_train_batch_end) is slow compared to the batch update (0.132957). Check your callbacks.\n"
     ]
    },
    {
     "name": "stdout",
     "output_type": "stream",
     "text": [
      "\n",
      "Epoch 00002: saving model to training_2/cp-0002.ckpt\n",
      "\n",
      "Epoch 00002: saving model to training_2/cp-0002.ckpt\n",
      "\n",
      "Epoch 00003: saving model to training_2/cp-0003.ckpt\n",
      "\n",
      "Epoch 00003: saving model to training_2/cp-0003.ckpt\n",
      "\n",
      "Epoch 00003: saving model to training_2/cp-0003.ckpt\n",
      "\n",
      "Epoch 00003: saving model to training_2/cp-0003.ckpt\n"
     ]
    },
    {
     "name": "stderr",
     "output_type": "stream",
     "text": [
      "W0622 16:26:31.016467 28836 callbacks.py:241] Method (on_train_batch_end) is slow compared to the batch update (0.104115). Check your callbacks.\n"
     ]
    },
    {
     "name": "stdout",
     "output_type": "stream",
     "text": [
      "\n",
      "Epoch 00003: saving model to training_2/cp-0003.ckpt\n",
      "\n",
      "Epoch 00003: saving model to training_2/cp-0003.ckpt\n",
      "\n",
      "Epoch 00003: saving model to training_2/cp-0003.ckpt\n",
      "\n",
      "Epoch 00003: saving model to training_2/cp-0003.ckpt\n",
      "\n",
      "Epoch 00003: saving model to training_2/cp-0003.ckpt\n",
      "\n",
      "Epoch 00003: saving model to training_2/cp-0003.ckpt\n",
      "\n",
      "Epoch 00003: saving model to training_2/cp-0003.ckpt\n",
      "\n",
      "Epoch 00003: saving model to training_2/cp-0003.ckpt\n",
      "\n",
      "Epoch 00003: saving model to training_2/cp-0003.ckpt\n",
      "\n",
      "Epoch 00003: saving model to training_2/cp-0003.ckpt\n",
      "\n",
      "Epoch 00003: saving model to training_2/cp-0003.ckpt\n",
      "\n",
      "Epoch 00003: saving model to training_2/cp-0003.ckpt\n",
      "\n",
      "Epoch 00003: saving model to training_2/cp-0003.ckpt\n",
      "\n",
      "Epoch 00003: saving model to training_2/cp-0003.ckpt\n",
      "\n",
      "Epoch 00003: saving model to training_2/cp-0003.ckpt\n",
      "\n",
      "Epoch 00003: saving model to training_2/cp-0003.ckpt\n",
      "\n",
      "Epoch 00003: saving model to training_2/cp-0003.ckpt\n",
      "\n",
      "Epoch 00003: saving model to training_2/cp-0003.ckpt\n",
      "\n",
      "Epoch 00003: saving model to training_2/cp-0003.ckpt\n",
      "\n",
      "Epoch 00003: saving model to training_2/cp-0003.ckpt\n",
      "\n",
      "Epoch 00003: saving model to training_2/cp-0003.ckpt\n",
      "\n",
      "Epoch 00003: saving model to training_2/cp-0003.ckpt\n",
      "\n",
      "Epoch 00003: saving model to training_2/cp-0003.ckpt\n",
      "\n",
      "Epoch 00003: saving model to training_2/cp-0003.ckpt\n",
      "\n",
      "Epoch 00003: saving model to training_2/cp-0003.ckpt\n",
      "\n",
      "Epoch 00003: saving model to training_2/cp-0003.ckpt\n",
      "\n",
      "Epoch 00003: saving model to training_2/cp-0003.ckpt\n",
      "\n",
      "Epoch 00003: saving model to training_2/cp-0003.ckpt\n"
     ]
    },
    {
     "name": "stderr",
     "output_type": "stream",
     "text": [
      "W0622 16:26:33.724472 28836 callbacks.py:241] Method (on_train_batch_end) is slow compared to the batch update (0.142720). Check your callbacks.\n"
     ]
    },
    {
     "name": "stdout",
     "output_type": "stream",
     "text": [
      "\n",
      "Epoch 00004: saving model to training_2/cp-0004.ckpt\n",
      "\n",
      "Epoch 00004: saving model to training_2/cp-0004.ckpt\n"
     ]
    },
    {
     "name": "stderr",
     "output_type": "stream",
     "text": [
      "W0622 16:26:33.854489 28836 callbacks.py:241] Method (on_train_batch_end) is slow compared to the batch update (0.128550). Check your callbacks.\n",
      "W0622 16:26:33.981580 28836 callbacks.py:241] Method (on_train_batch_end) is slow compared to the batch update (0.117314). Check your callbacks.\n"
     ]
    },
    {
     "name": "stdout",
     "output_type": "stream",
     "text": [
      "\n",
      "Epoch 00004: saving model to training_2/cp-0004.ckpt\n",
      "\n",
      "Epoch 00004: saving model to training_2/cp-0004.ckpt\n"
     ]
    },
    {
     "name": "stderr",
     "output_type": "stream",
     "text": [
      "W0622 16:26:34.098892 28836 callbacks.py:241] Method (on_train_batch_end) is slow compared to the batch update (0.115847). Check your callbacks.\n",
      "W0622 16:26:34.186879 28836 callbacks.py:241] Method (on_train_batch_end) is slow compared to the batch update (0.114379). Check your callbacks.\n",
      "W0622 16:26:34.262157 28836 callbacks.py:241] Method (on_train_batch_end) is slow compared to the batch update (0.108024). Check your callbacks.\n"
     ]
    },
    {
     "name": "stdout",
     "output_type": "stream",
     "text": [
      "\n",
      "Epoch 00004: saving model to training_2/cp-0004.ckpt\n",
      "\n",
      "Epoch 00004: saving model to training_2/cp-0004.ckpt\n",
      "\n",
      "Epoch 00004: saving model to training_2/cp-0004.ckpt\n"
     ]
    },
    {
     "name": "stderr",
     "output_type": "stream",
     "text": [
      "W0622 16:26:34.348186 28836 callbacks.py:241] Method (on_train_batch_end) is slow compared to the batch update (0.101668). Check your callbacks.\n",
      "W0622 16:26:34.531004 28836 callbacks.py:241] Method (on_train_batch_end) is slow compared to the batch update (0.100696). Check your callbacks.\n"
     ]
    },
    {
     "name": "stdout",
     "output_type": "stream",
     "text": [
      "\n",
      "Epoch 00004: saving model to training_2/cp-0004.ckpt\n",
      "\n",
      "Epoch 00004: saving model to training_2/cp-0004.ckpt\n",
      "\n",
      "Epoch 00004: saving model to training_2/cp-0004.ckpt\n",
      "\n",
      "Epoch 00004: saving model to training_2/cp-0004.ckpt\n",
      "\n",
      "Epoch 00004: saving model to training_2/cp-0004.ckpt\n",
      "\n",
      "Epoch 00004: saving model to training_2/cp-0004.ckpt\n",
      "\n",
      "Epoch 00004: saving model to training_2/cp-0004.ckpt\n",
      "\n",
      "Epoch 00004: saving model to training_2/cp-0004.ckpt\n",
      "\n",
      "Epoch 00004: saving model to training_2/cp-0004.ckpt\n",
      "\n",
      "Epoch 00004: saving model to training_2/cp-0004.ckpt\n",
      "\n",
      "Epoch 00004: saving model to training_2/cp-0004.ckpt\n",
      "\n",
      "Epoch 00004: saving model to training_2/cp-0004.ckpt\n",
      "\n",
      "Epoch 00004: saving model to training_2/cp-0004.ckpt\n",
      "\n",
      "Epoch 00004: saving model to training_2/cp-0004.ckpt\n",
      "\n",
      "Epoch 00004: saving model to training_2/cp-0004.ckpt\n",
      "\n",
      "Epoch 00004: saving model to training_2/cp-0004.ckpt\n",
      "\n",
      "Epoch 00004: saving model to training_2/cp-0004.ckpt\n",
      "\n",
      "Epoch 00004: saving model to training_2/cp-0004.ckpt\n",
      "\n",
      "Epoch 00004: saving model to training_2/cp-0004.ckpt\n",
      "\n",
      "Epoch 00004: saving model to training_2/cp-0004.ckpt\n",
      "\n",
      "Epoch 00004: saving model to training_2/cp-0004.ckpt\n",
      "\n",
      "Epoch 00004: saving model to training_2/cp-0004.ckpt\n",
      "\n",
      "Epoch 00004: saving model to training_2/cp-0004.ckpt\n",
      "\n",
      "Epoch 00004: saving model to training_2/cp-0004.ckpt\n",
      "\n",
      "Epoch 00004: saving model to training_2/cp-0004.ckpt\n"
     ]
    },
    {
     "name": "stderr",
     "output_type": "stream",
     "text": [
      "W0622 16:26:37.212604 28836 callbacks.py:241] Method (on_train_batch_end) is slow compared to the batch update (0.140777). Check your callbacks.\n"
     ]
    },
    {
     "name": "stdout",
     "output_type": "stream",
     "text": [
      "\n",
      "Epoch 00005: saving model to training_2/cp-0005.ckpt\n",
      "\n",
      "Epoch 00005: saving model to training_2/cp-0005.ckpt\n"
     ]
    },
    {
     "name": "stderr",
     "output_type": "stream",
     "text": [
      "W0622 16:26:37.317210 28836 callbacks.py:241] Method (on_train_batch_end) is slow compared to the batch update (0.114870). Check your callbacks.\n",
      "W0622 16:26:37.461896 28836 callbacks.py:241] Method (on_train_batch_end) is slow compared to the batch update (0.133932). Check your callbacks.\n"
     ]
    },
    {
     "name": "stdout",
     "output_type": "stream",
     "text": [
      "\n",
      "Epoch 00005: saving model to training_2/cp-0005.ckpt\n",
      "\n",
      "Epoch 00005: saving model to training_2/cp-0005.ckpt\n"
     ]
    },
    {
     "name": "stderr",
     "output_type": "stream",
     "text": [
      "W0622 16:26:37.592895 28836 callbacks.py:241] Method (on_train_batch_end) is slow compared to the batch update (0.122201). Check your callbacks.\n"
     ]
    },
    {
     "name": "stdout",
     "output_type": "stream",
     "text": [
      "\n",
      "Epoch 00005: saving model to training_2/cp-0005.ckpt\n"
     ]
    },
    {
     "name": "stderr",
     "output_type": "stream",
     "text": [
      "W0622 16:26:38.334908 28836 callbacks.py:241] Method (on_train_batch_end) is slow compared to the batch update (0.133932). Check your callbacks.\n",
      "W0622 16:26:38.412140 28836 callbacks.py:241] Method (on_train_batch_end) is slow compared to the batch update (0.122201). Check your callbacks.\n",
      "W0622 16:26:38.524566 28836 callbacks.py:241] Method (on_train_batch_end) is slow compared to the batch update (0.110470). Check your callbacks.\n"
     ]
    },
    {
     "name": "stdout",
     "output_type": "stream",
     "text": [
      "\n",
      "Epoch 00005: saving model to training_2/cp-0005.ckpt\n",
      "\n",
      "Epoch 00005: saving model to training_2/cp-0005.ckpt\n",
      "\n",
      "Epoch 00005: saving model to training_2/cp-0005.ckpt"
     ]
    },
    {
     "name": "stderr",
     "output_type": "stream",
     "text": [
      "W0622 16:26:38.655565 28836 callbacks.py:241] Method (on_train_batch_end) is slow compared to the batch update (0.115847). Check your callbacks.\n"
     ]
    },
    {
     "name": "stdout",
     "output_type": "stream",
     "text": [
      "\n",
      "\n",
      "Epoch 00005: saving model to training_2/cp-0005.ckpt\n"
     ]
    },
    {
     "name": "stderr",
     "output_type": "stream",
     "text": [
      "W0622 16:26:38.738664 28836 callbacks.py:241] Method (on_train_batch_end) is slow compared to the batch update (0.110470). Check your callbacks.\n",
      "W0622 16:26:38.886284 28836 callbacks.py:241] Method (on_train_batch_end) is slow compared to the batch update (0.115847). Check your callbacks.\n"
     ]
    },
    {
     "name": "stdout",
     "output_type": "stream",
     "text": [
      "\n",
      "Epoch 00005: saving model to training_2/cp-0005.ckpt\n",
      "\n",
      "Epoch 00005: saving model to training_2/cp-0005.ckpt\n"
     ]
    },
    {
     "name": "stderr",
     "output_type": "stream",
     "text": [
      "W0622 16:26:38.960583 28836 callbacks.py:241] Method (on_train_batch_end) is slow compared to the batch update (0.106560). Check your callbacks.\n",
      "W0622 16:26:39.036840 28836 callbacks.py:241] Method (on_train_batch_end) is slow compared to the batch update (0.106560). Check your callbacks.\n"
     ]
    },
    {
     "name": "stdout",
     "output_type": "stream",
     "text": [
      "\n",
      "Epoch 00005: saving model to training_2/cp-0005.ckpt\n",
      "\n",
      "Epoch 00005: saving model to training_2/cp-0005.ckpt\n",
      "\n",
      "Epoch 00005: saving model to training_2/cp-0005.ckpt\n",
      "\n",
      "Epoch 00005: saving model to training_2/cp-0005.ckpt\n",
      "\n",
      "Epoch 00005: saving model to training_2/cp-0005.ckpt\n",
      "\n",
      "Epoch 00005: saving model to training_2/cp-0005.ckpt\n",
      "\n",
      "Epoch 00005: saving model to training_2/cp-0005.ckpt\n",
      "\n",
      "Epoch 00005: saving model to training_2/cp-0005.ckpt\n",
      "\n",
      "Epoch 00005: saving model to training_2/cp-0005.ckpt\n",
      "\n",
      "Epoch 00005: saving model to training_2/cp-0005.ckpt\n",
      "\n",
      "Epoch 00005: saving model to training_2/cp-0005.ckpt\n",
      "\n",
      "Epoch 00005: saving model to training_2/cp-0005.ckpt\n",
      "\n",
      "Epoch 00005: saving model to training_2/cp-0005.ckpt\n",
      "\n",
      "Epoch 00005: saving model to training_2/cp-0005.ckpt\n",
      "\n",
      "Epoch 00005: saving model to training_2/cp-0005.ckpt\n",
      "\n",
      "Epoch 00005: saving model to training_2/cp-0005.ckpt\n",
      "\n",
      "Epoch 00005: saving model to training_2/cp-0005.ckpt\n",
      "\n",
      "Epoch 00005: saving model to training_2/cp-0005.ckpt\n"
     ]
    },
    {
     "name": "stderr",
     "output_type": "stream",
     "text": [
      "W0622 16:26:40.932437 28836 callbacks.py:241] Method (on_train_batch_end) is slow compared to the batch update (0.106559). Check your callbacks.\n",
      "W0622 16:26:41.086899 28836 callbacks.py:241] Method (on_train_batch_end) is slow compared to the batch update (0.118288). Check your callbacks.\n"
     ]
    },
    {
     "name": "stdout",
     "output_type": "stream",
     "text": [
      "\n",
      "Epoch 00005: saving model to training_2/cp-0005.ckpt\n",
      "\n",
      "Epoch 00005: saving model to training_2/cp-0005.ckpt\n"
     ]
    },
    {
     "name": "stderr",
     "output_type": "stream",
     "text": [
      "W0622 16:26:41.244296 28836 callbacks.py:241] Method (on_train_batch_end) is slow compared to the batch update (0.118288). Check your callbacks.\n",
      "W0622 16:26:41.326415 28836 callbacks.py:241] Method (on_train_batch_end) is slow compared to the batch update (0.111446). Check your callbacks.\n"
     ]
    },
    {
     "name": "stdout",
     "output_type": "stream",
     "text": [
      "\n",
      "Epoch 00005: saving model to training_2/cp-0005.ckpt\n"
     ]
    },
    {
     "name": "stderr",
     "output_type": "stream",
     "text": [
      "W0622 16:26:41.589394 28836 callbacks.py:241] Method (on_train_batch_end) is slow compared to the batch update (0.146642). Check your callbacks.\n"
     ]
    },
    {
     "name": "stdout",
     "output_type": "stream",
     "text": [
      "\n",
      "Epoch 00006: saving model to training_2/cp-0006.ckpt\n",
      "\n",
      "Epoch 00006: saving model to training_2/cp-0006.ckpt\n"
     ]
    },
    {
     "name": "stderr",
     "output_type": "stream",
     "text": [
      "W0622 16:26:41.698887 28836 callbacks.py:241] Method (on_train_batch_end) is slow compared to the batch update (0.119758). Check your callbacks.\n"
     ]
    },
    {
     "name": "stdout",
     "output_type": "stream",
     "text": [
      "\n",
      "Epoch 00006: saving model to training_2/cp-0006.ckpt\n",
      "\n",
      "Epoch 00006: saving model to training_2/cp-0006.ckpt\n",
      "\n",
      "Epoch 00006: saving model to training_2/cp-0006.ckpt\n",
      "\n",
      "Epoch 00006: saving model to training_2/cp-0006.ckpt\n",
      "\n",
      "Epoch 00006: saving model to training_2/cp-0006.ckpt\n",
      "\n",
      "Epoch 00006: saving model to training_2/cp-0006.ckpt\n",
      "\n",
      "Epoch 00006: saving model to training_2/cp-0006.ckpt\n",
      "\n",
      "Epoch 00006: saving model to training_2/cp-0006.ckpt\n",
      "\n",
      "Epoch 00006: saving model to training_2/cp-0006.ckpt\n",
      "\n",
      "Epoch 00006: saving model to training_2/cp-0006.ckpt\n"
     ]
    },
    {
     "name": "stderr",
     "output_type": "stream",
     "text": [
      "W0622 16:26:43.338353 28836 callbacks.py:241] Method (on_train_batch_end) is slow compared to the batch update (0.114869). Check your callbacks.\n"
     ]
    },
    {
     "name": "stdout",
     "output_type": "stream",
     "text": [
      "\n",
      "Epoch 00006: saving model to training_2/cp-0006.ckpt\n",
      "\n",
      "Epoch 00006: saving model to training_2/cp-0006.ckpt\n"
     ]
    },
    {
     "name": "stderr",
     "output_type": "stream",
     "text": [
      "W0622 16:26:43.565160 28836 callbacks.py:241] Method (on_train_batch_end) is slow compared to the batch update (0.132956). Check your callbacks.\n"
     ]
    },
    {
     "name": "stdout",
     "output_type": "stream",
     "text": [
      "\n",
      "Epoch 00006: saving model to training_2/cp-0006.ckpt\n"
     ]
    },
    {
     "name": "stderr",
     "output_type": "stream",
     "text": [
      "W0622 16:26:43.784146 28836 callbacks.py:241] Method (on_train_batch_end) is slow compared to the batch update (0.154464). Check your callbacks.\n",
      "W0622 16:26:43.981624 28836 callbacks.py:241] Method (on_train_batch_end) is slow compared to the batch update (0.172061). Check your callbacks.\n"
     ]
    },
    {
     "name": "stdout",
     "output_type": "stream",
     "text": [
      "\n",
      "Epoch 00006: saving model to training_2/cp-0006.ckpt\n",
      "\n",
      "Epoch 00006: saving model to training_2/cp-0006.ckpt\n"
     ]
    },
    {
     "name": "stderr",
     "output_type": "stream",
     "text": [
      "W0622 16:26:44.359961 28836 callbacks.py:241] Method (on_train_batch_end) is slow compared to the batch update (0.183793). Check your callbacks.\n",
      "W0622 16:26:44.458701 28836 callbacks.py:241] Method (on_train_batch_end) is slow compared to the batch update (0.183793). Check your callbacks.\n",
      "W0622 16:26:44.532999 28836 callbacks.py:241] Method (on_train_batch_end) is slow compared to the batch update (0.183793). Check your callbacks.\n"
     ]
    },
    {
     "name": "stdout",
     "output_type": "stream",
     "text": [
      "\n",
      "Epoch 00006: saving model to training_2/cp-0006.ckpt\n",
      "\n",
      "Epoch 00006: saving model to training_2/cp-0006.ckpt\n",
      "\n",
      "Epoch 00006: saving model to training_2/cp-0006.ckpt\n"
     ]
    },
    {
     "name": "stderr",
     "output_type": "stream",
     "text": [
      "W0622 16:26:44.605343 28836 callbacks.py:241] Method (on_train_batch_end) is slow compared to the batch update (0.183793). Check your callbacks.\n"
     ]
    },
    {
     "name": "stdout",
     "output_type": "stream",
     "text": [
      "\n",
      "Epoch 00006: saving model to training_2/cp-0006.ckpt\n"
     ]
    },
    {
     "name": "stderr",
     "output_type": "stream",
     "text": [
      "W0622 16:26:44.822374 28836 callbacks.py:241] Method (on_train_batch_end) is slow compared to the batch update (0.183793). Check your callbacks.\n",
      "W0622 16:26:45.038427 28836 callbacks.py:241] Method (on_train_batch_end) is slow compared to the batch update (0.172061). Check your callbacks.\n"
     ]
    },
    {
     "name": "stdout",
     "output_type": "stream",
     "text": [
      "\n",
      "Epoch 00006: saving model to training_2/cp-0006.ckpt\n",
      "\n",
      "Epoch 00006: saving model to training_2/cp-0006.ckpt"
     ]
    },
    {
     "name": "stderr",
     "output_type": "stream",
     "text": [
      "W0622 16:26:45.176270 28836 callbacks.py:241] Method (on_train_batch_end) is slow compared to the batch update (0.172060). Check your callbacks.\n"
     ]
    },
    {
     "name": "stdout",
     "output_type": "stream",
     "text": [
      "\n",
      "\n",
      "Epoch 00006: saving model to training_2/cp-0006.ckpt\n"
     ]
    },
    {
     "name": "stderr",
     "output_type": "stream",
     "text": [
      "W0622 16:26:45.294563 28836 callbacks.py:241] Method (on_train_batch_end) is slow compared to the batch update (0.148108). Check your callbacks.\n",
      "W0622 16:26:45.390369 28836 callbacks.py:241] Method (on_train_batch_end) is slow compared to the batch update (0.116824). Check your callbacks.\n"
     ]
    },
    {
     "name": "stdout",
     "output_type": "stream",
     "text": [
      "\n",
      "Epoch 00006: saving model to training_2/cp-0006.ckpt\n",
      "\n",
      "Epoch 00006: saving model to training_2/cp-0006.ckpt\n",
      "\n",
      "Epoch 00006: saving model to training_2/cp-0006.ckpt\n",
      "\n",
      "Epoch 00006: saving model to training_2/cp-0006.ckpt\n",
      "\n",
      "Epoch 00006: saving model to training_2/cp-0006.ckpt\n"
     ]
    },
    {
     "name": "stderr",
     "output_type": "stream",
     "text": [
      "W0622 16:26:45.901662 28836 callbacks.py:241] Method (on_train_batch_end) is slow compared to the batch update (0.103627). Check your callbacks.\n"
     ]
    },
    {
     "name": "stdout",
     "output_type": "stream",
     "text": [
      "\n",
      "Epoch 00006: saving model to training_2/cp-0006.ckpt\n",
      "\n",
      "Epoch 00006: saving model to training_2/cp-0006.ckpt\n",
      "\n",
      "Epoch 00006: saving model to training_2/cp-0006.ckpt\n",
      "\n",
      "Epoch 00007: saving model to training_2/cp-0007.ckpt\n"
     ]
    },
    {
     "name": "stderr",
     "output_type": "stream",
     "text": [
      "W0622 16:26:46.421758 28836 callbacks.py:241] Method (on_train_batch_end) is slow compared to the batch update (0.115359). Check your callbacks.\n"
     ]
    },
    {
     "name": "stdout",
     "output_type": "stream",
     "text": [
      "\n",
      "Epoch 00007: saving model to training_2/cp-0007.ckpt\n"
     ]
    },
    {
     "name": "stderr",
     "output_type": "stream",
     "text": [
      "W0622 16:26:46.607503 28836 callbacks.py:241] Method (on_train_batch_end) is slow compared to the batch update (0.146629). Check your callbacks.\n"
     ]
    },
    {
     "name": "stdout",
     "output_type": "stream",
     "text": [
      "\n",
      "Epoch 00007: saving model to training_2/cp-0007.ckpt\n",
      "\n",
      "Epoch 00007: saving model to training_2/cp-0007.ckpt\n"
     ]
    },
    {
     "name": "stderr",
     "output_type": "stream",
     "text": [
      "W0622 16:26:46.706242 28836 callbacks.py:241] Method (on_train_batch_end) is slow compared to the batch update (0.112420). Check your callbacks.\n"
     ]
    },
    {
     "name": "stdout",
     "output_type": "stream",
     "text": [
      "\n",
      "Epoch 00007: saving model to training_2/cp-0007.ckpt\n"
     ]
    },
    {
     "name": "stderr",
     "output_type": "stream",
     "text": [
      "W0622 16:26:46.977041 28836 callbacks.py:241] Method (on_train_batch_end) is slow compared to the batch update (0.146629). Check your callbacks.\n",
      "W0622 16:26:47.105109 28836 callbacks.py:241] Method (on_train_batch_end) is slow compared to the batch update (0.131970). Check your callbacks.\n"
     ]
    },
    {
     "name": "stdout",
     "output_type": "stream",
     "text": [
      "\n",
      "Epoch 00007: saving model to training_2/cp-0007.ckpt\n",
      "\n",
      "Epoch 00007: saving model to training_2/cp-0007.ckpt\n"
     ]
    },
    {
     "name": "stderr",
     "output_type": "stream",
     "text": [
      "W0622 16:26:47.184297 28836 callbacks.py:241] Method (on_train_batch_end) is slow compared to the batch update (0.117311). Check your callbacks.\n"
     ]
    },
    {
     "name": "stdout",
     "output_type": "stream",
     "text": [
      "\n",
      "Epoch 00007: saving model to training_2/cp-0007.ckpt\n",
      "\n",
      "Epoch 00007: saving model to training_2/cp-0007.ckpt\n"
     ]
    },
    {
     "name": "stderr",
     "output_type": "stream",
     "text": [
      "W0622 16:26:47.472693 28836 callbacks.py:241] Method (on_train_batch_end) is slow compared to the batch update (0.117311). Check your callbacks.\n",
      "W0622 16:26:47.578276 28836 callbacks.py:241] Method (on_train_batch_end) is slow compared to the batch update (0.105091). Check your callbacks.\n"
     ]
    },
    {
     "name": "stdout",
     "output_type": "stream",
     "text": [
      "\n",
      "Epoch 00007: saving model to training_2/cp-0007.ckpt\n",
      "\n",
      "Epoch 00007: saving model to training_2/cp-0007.ckpt\n"
     ]
    },
    {
     "name": "stderr",
     "output_type": "stream",
     "text": [
      "W0622 16:26:47.869606 28836 callbacks.py:241] Method (on_train_batch_end) is slow compared to the batch update (0.131970). Check your callbacks.\n"
     ]
    },
    {
     "name": "stdout",
     "output_type": "stream",
     "text": [
      "\n",
      "Epoch 00007: saving model to training_2/cp-0007.ckpt\n"
     ]
    },
    {
     "name": "stderr",
     "output_type": "stream",
     "text": [
      "W0622 16:26:48.526565 28836 callbacks.py:241] Method (on_train_batch_end) is slow compared to the batch update (0.131970). Check your callbacks.\n",
      "W0622 16:26:48.668319 28836 callbacks.py:241] Method (on_train_batch_end) is slow compared to the batch update (0.121713). Check your callbacks.\n"
     ]
    },
    {
     "name": "stdout",
     "output_type": "stream",
     "text": [
      "\n",
      "Epoch 00007: saving model to training_2/cp-0007.ckpt\n",
      "\n",
      "Epoch 00007: saving model to training_2/cp-0007.ckpt\n"
     ]
    },
    {
     "name": "stderr",
     "output_type": "stream",
     "text": [
      "W0622 16:26:48.998754 28836 callbacks.py:241] Method (on_train_batch_end) is slow compared to the batch update (0.159841). Check your callbacks.\n",
      "W0622 16:26:49.109225 28836 callbacks.py:241] Method (on_train_batch_end) is slow compared to the batch update (0.121713). Check your callbacks.\n",
      "W0622 16:26:49.199164 28836 callbacks.py:241] Method (on_train_batch_end) is slow compared to the batch update (0.109493). Check your callbacks.\n"
     ]
    },
    {
     "name": "stdout",
     "output_type": "stream",
     "text": [
      "\n",
      "Epoch 00007: saving model to training_2/cp-0007.ckpt\n",
      "\n",
      "Epoch 00007: saving model to training_2/cp-0007.ckpt\n"
     ]
    },
    {
     "name": "stderr",
     "output_type": "stream",
     "text": [
      "W0622 16:26:49.354606 28836 callbacks.py:241] Method (on_train_batch_end) is slow compared to the batch update (0.125624). Check your callbacks.\n"
     ]
    },
    {
     "name": "stdout",
     "output_type": "stream",
     "text": [
      "\n",
      "Epoch 00007: saving model to training_2/cp-0007.ckpt\n",
      "\n",
      "Epoch 00007: saving model to training_2/cp-0007.ckpt\n"
     ]
    },
    {
     "name": "stderr",
     "output_type": "stream",
     "text": [
      "W0622 16:26:49.441615 28836 callbacks.py:241] Method (on_train_batch_end) is slow compared to the batch update (0.125624). Check your callbacks.\n",
      "W0622 16:26:49.541332 28836 callbacks.py:241] Method (on_train_batch_end) is slow compared to the batch update (0.109003). Check your callbacks.\n"
     ]
    },
    {
     "name": "stdout",
     "output_type": "stream",
     "text": [
      "\n",
      "Epoch 00007: saving model to training_2/cp-0007.ckpt\n",
      "\n",
      "Epoch 00007: saving model to training_2/cp-0007.ckpt\n"
     ]
    },
    {
     "name": "stderr",
     "output_type": "stream",
     "text": [
      "W0622 16:26:49.672332 28836 callbacks.py:241] Method (on_train_batch_end) is slow compared to the batch update (0.122202). Check your callbacks.\n"
     ]
    },
    {
     "name": "stdout",
     "output_type": "stream",
     "text": [
      "\n",
      "Epoch 00007: saving model to training_2/cp-0007.ckpt\n"
     ]
    },
    {
     "name": "stderr",
     "output_type": "stream",
     "text": [
      "W0622 16:26:49.942155 28836 callbacks.py:241] Method (on_train_batch_end) is slow compared to the batch update (0.122202). Check your callbacks.\n",
      "W0622 16:26:50.053602 28836 callbacks.py:241] Method (on_train_batch_end) is slow compared to the batch update (0.109004). Check your callbacks.\n"
     ]
    },
    {
     "name": "stdout",
     "output_type": "stream",
     "text": [
      "\n",
      "Epoch 00007: saving model to training_2/cp-0007.ckpt\n",
      "\n",
      "Epoch 00007: saving model to training_2/cp-0007.ckpt\n"
     ]
    },
    {
     "name": "stderr",
     "output_type": "stream",
     "text": [
      "W0622 16:26:50.297030 28836 callbacks.py:241] Method (on_train_batch_end) is slow compared to the batch update (0.109004). Check your callbacks.\n",
      "W0622 16:26:50.548276 28836 callbacks.py:241] Method (on_train_batch_end) is slow compared to the batch update (0.109004). Check your callbacks.\n"
     ]
    },
    {
     "name": "stdout",
     "output_type": "stream",
     "text": [
      "\n",
      "Epoch 00007: saving model to training_2/cp-0007.ckpt\n",
      "\n",
      "Epoch 00007: saving model to training_2/cp-0007.ckpt\n"
     ]
    },
    {
     "name": "stderr",
     "output_type": "stream",
     "text": [
      "W0622 16:26:50.915861 28836 callbacks.py:241] Method (on_train_batch_end) is slow compared to the batch update (0.122202). Check your callbacks.\n"
     ]
    },
    {
     "name": "stdout",
     "output_type": "stream",
     "text": [
      "\n",
      "Epoch 00007: saving model to training_2/cp-0007.ckpt\n"
     ]
    },
    {
     "name": "stderr",
     "output_type": "stream",
     "text": [
      "W0622 16:26:51.291265 28836 callbacks.py:241] Method (on_train_batch_end) is slow compared to the batch update (0.139797). Check your callbacks.\n",
      "W0622 16:26:51.403695 28836 callbacks.py:241] Method (on_train_batch_end) is slow compared to the batch update (0.136865). Check your callbacks.\n"
     ]
    },
    {
     "name": "stdout",
     "output_type": "stream",
     "text": [
      "\n",
      "Epoch 00007: saving model to training_2/cp-0007.ckpt\n",
      "\n",
      "Epoch 00007: saving model to training_2/cp-0007.ckpt\n"
     ]
    },
    {
     "name": "stderr",
     "output_type": "stream",
     "text": [
      "W0622 16:26:51.556205 28836 callbacks.py:241] Method (on_train_batch_end) is slow compared to the batch update (0.145663). Check your callbacks.\n"
     ]
    },
    {
     "name": "stdout",
     "output_type": "stream",
     "text": [
      "\n",
      "Epoch 00007: saving model to training_2/cp-0007.ckpt\n"
     ]
    },
    {
     "name": "stderr",
     "output_type": "stream",
     "text": [
      "W0622 16:26:51.908143 28836 callbacks.py:241] Method (on_train_batch_end) is slow compared to the batch update (0.178902). Check your callbacks.\n",
      "W0622 16:26:52.018613 28836 callbacks.py:241] Method (on_train_batch_end) is slow compared to the batch update (0.178902). Check your callbacks.\n"
     ]
    },
    {
     "name": "stdout",
     "output_type": "stream",
     "text": [
      "\n",
      "Epoch 00007: saving model to training_2/cp-0007.ckpt\n",
      "\n",
      "Epoch 00007: saving model to training_2/cp-0007.ckpt\n"
     ]
    },
    {
     "name": "stderr",
     "output_type": "stream",
     "text": [
      "W0622 16:26:52.235643 28836 callbacks.py:241] Method (on_train_batch_end) is slow compared to the batch update (0.178902). Check your callbacks.\n",
      "W0622 16:26:52.364688 28836 callbacks.py:241] Method (on_train_batch_end) is slow compared to the batch update (0.178902). Check your callbacks.\n"
     ]
    },
    {
     "name": "stdout",
     "output_type": "stream",
     "text": [
      "\n",
      "Epoch 00007: saving model to training_2/cp-0007.ckpt\n",
      "\n",
      "Epoch 00008: saving model to training_2/cp-0008.ckpt\n",
      "\n",
      "Epoch 00008: saving model to training_2/cp-0008.ckpt\n",
      "\n",
      "Epoch 00008: saving model to training_2/cp-0008.ckpt\n",
      "\n",
      "Epoch 00008: saving model to training_2/cp-0008.ckpt\n",
      "\n",
      "Epoch 00008: saving model to training_2/cp-0008.ckpt\n",
      "\n",
      "Epoch 00008: saving model to training_2/cp-0008.ckpt\n",
      "\n",
      "Epoch 00008: saving model to training_2/cp-0008.ckpt\n",
      "\n",
      "Epoch 00008: saving model to training_2/cp-0008.ckpt\n",
      "\n",
      "Epoch 00008: saving model to training_2/cp-0008.ckpt\n",
      "\n",
      "Epoch 00008: saving model to training_2/cp-0008.ckpt\n",
      "\n",
      "Epoch 00008: saving model to training_2/cp-0008.ckpt\n",
      "\n",
      "Epoch 00008: saving model to training_2/cp-0008.ckpt\n",
      "\n",
      "Epoch 00008: saving model to training_2/cp-0008.ckpt\n",
      "\n",
      "Epoch 00008: saving model to training_2/cp-0008.ckpt\n",
      "\n",
      "Epoch 00008: saving model to training_2/cp-0008.ckpt\n",
      "\n",
      "Epoch 00008: saving model to training_2/cp-0008.ckpt\n",
      "\n",
      "Epoch 00008: saving model to training_2/cp-0008.ckpt\n"
     ]
    },
    {
     "name": "stderr",
     "output_type": "stream",
     "text": [
      "W0622 16:26:54.742255 28836 callbacks.py:241] Method (on_train_batch_end) is slow compared to the batch update (0.107048). Check your callbacks.\n"
     ]
    },
    {
     "name": "stdout",
     "output_type": "stream",
     "text": [
      "\n",
      "Epoch 00008: saving model to training_2/cp-0008.ckpt\n"
     ]
    },
    {
     "name": "stderr",
     "output_type": "stream",
     "text": [
      "W0622 16:26:54.960262 28836 callbacks.py:241] Method (on_train_batch_end) is slow compared to the batch update (0.153485). Check your callbacks.\n"
     ]
    },
    {
     "name": "stdout",
     "output_type": "stream",
     "text": [
      "\n",
      "Epoch 00008: saving model to training_2/cp-0008.ckpt\n"
     ]
    },
    {
     "name": "stderr",
     "output_type": "stream",
     "text": [
      "W0622 16:26:55.398234 28836 callbacks.py:241] Method (on_train_batch_end) is slow compared to the batch update (0.181347). Check your callbacks.\n"
     ]
    },
    {
     "name": "stdout",
     "output_type": "stream",
     "text": [
      "\n",
      "Epoch 00008: saving model to training_2/cp-0008.ckpt\n"
     ]
    },
    {
     "name": "stderr",
     "output_type": "stream",
     "text": [
      "W0622 16:26:55.671966 28836 callbacks.py:241] Method (on_train_batch_end) is slow compared to the batch update (0.190147). Check your callbacks.\n",
      "W0622 16:26:55.770705 28836 callbacks.py:241] Method (on_train_batch_end) is slow compared to the batch update (0.190147). Check your callbacks.\n",
      "W0622 16:26:55.865535 28836 callbacks.py:241] Method (on_train_batch_end) is slow compared to the batch update (0.190147). Check your callbacks.\n"
     ]
    },
    {
     "name": "stdout",
     "output_type": "stream",
     "text": [
      "\n",
      "Epoch 00008: saving model to training_2/cp-0008.ckpt\n",
      "\n",
      "Epoch 00008: saving model to training_2/cp-0008.ckpt\n"
     ]
    },
    {
     "name": "stderr",
     "output_type": "stream",
     "text": [
      "W0622 16:26:55.961340 28836 callbacks.py:241] Method (on_train_batch_end) is slow compared to the batch update (0.190147). Check your callbacks.\n",
      "W0622 16:26:56.035639 28836 callbacks.py:241] Method (on_train_batch_end) is slow compared to the batch update (0.184771). Check your callbacks.\n"
     ]
    },
    {
     "name": "stdout",
     "output_type": "stream",
     "text": [
      "\n",
      "Epoch 00008: saving model to training_2/cp-0008.ckpt\n",
      "\n",
      "Epoch 00008: saving model to training_2/cp-0008.ckpt\n",
      "\n",
      "Epoch 00008: saving model to training_2/cp-0008.ckpt\n"
     ]
    },
    {
     "name": "stderr",
     "output_type": "stream",
     "text": [
      "W0622 16:26:56.116782 28836 callbacks.py:241] Method (on_train_batch_end) is slow compared to the batch update (0.131000). Check your callbacks.\n"
     ]
    },
    {
     "name": "stdout",
     "output_type": "stream",
     "text": [
      "\n",
      "Epoch 00008: saving model to training_2/cp-0008.ckpt\n",
      "\n",
      "Epoch 00008: saving model to training_2/cp-0008.ckpt\n",
      "\n",
      "Epoch 00008: saving model to training_2/cp-0008.ckpt\n",
      "\n",
      "Epoch 00008: saving model to training_2/cp-0008.ckpt\n",
      "\n",
      "Epoch 00008: saving model to training_2/cp-0008.ckpt\n",
      "\n",
      "Epoch 00008: saving model to training_2/cp-0008.ckpt\n",
      "\n",
      "Epoch 00008: saving model to training_2/cp-0008.ckpt\n"
     ]
    },
    {
     "name": "stderr",
     "output_type": "stream",
     "text": [
      "W0622 16:26:57.152079 28836 callbacks.py:241] Method (on_train_batch_end) is slow compared to the batch update (0.110471). Check your callbacks.\n"
     ]
    },
    {
     "name": "stdout",
     "output_type": "stream",
     "text": [
      "\n",
      "Epoch 00009: saving model to training_2/cp-0009.ckpt\n"
     ]
    },
    {
     "name": "stderr",
     "output_type": "stream",
     "text": [
      "W0622 16:26:57.671194 28836 callbacks.py:241] Method (on_train_batch_end) is slow compared to the batch update (0.201388). Check your callbacks.\n"
     ]
    },
    {
     "name": "stdout",
     "output_type": "stream",
     "text": [
      "\n",
      "Epoch 00009: saving model to training_2/cp-0009.ckpt\n"
     ]
    },
    {
     "name": "stderr",
     "output_type": "stream",
     "text": [
      "W0622 16:26:58.059309 28836 callbacks.py:241] Method (on_train_batch_end) is slow compared to the batch update (0.280576). Check your callbacks.\n"
     ]
    },
    {
     "name": "stdout",
     "output_type": "stream",
     "text": [
      "\n",
      "Epoch 00009: saving model to training_2/cp-0009.ckpt\n"
     ]
    },
    {
     "name": "stderr",
     "output_type": "stream",
     "text": [
      "W0622 16:26:58.353573 28836 callbacks.py:241] Method (on_train_batch_end) is slow compared to the batch update (0.260046). Check your callbacks.\n",
      "W0622 16:26:58.464041 28836 callbacks.py:241] Method (on_train_batch_end) is slow compared to the batch update (0.230717). Check your callbacks.\n",
      "W0622 16:26:58.557892 28836 callbacks.py:241] Method (on_train_batch_end) is slow compared to the batch update (0.201388). Check your callbacks.\n"
     ]
    },
    {
     "name": "stdout",
     "output_type": "stream",
     "text": [
      "\n",
      "Epoch 00009: saving model to training_2/cp-0009.ckpt\n",
      "\n",
      "Epoch 00009: saving model to training_2/cp-0009.ckpt\n",
      "\n",
      "Epoch 00009: saving model to training_2/cp-0009.ckpt"
     ]
    },
    {
     "name": "stderr",
     "output_type": "stream",
     "text": [
      "W0622 16:26:58.659564 28836 callbacks.py:241] Method (on_train_batch_end) is slow compared to the batch update (0.146153). Check your callbacks.\n"
     ]
    },
    {
     "name": "stdout",
     "output_type": "stream",
     "text": [
      "\n",
      "\n",
      "Epoch 00009: saving model to training_2/cp-0009.ckpt\n",
      "\n",
      "Epoch 00009: saving model to training_2/cp-0009.ckpt\n",
      "\n",
      "Epoch 00009: saving model to training_2/cp-0009.ckpt\n",
      "\n",
      "Epoch 00009: saving model to training_2/cp-0009.ckpt\n",
      "\n",
      "Epoch 00009: saving model to training_2/cp-0009.ckpt\n",
      "\n",
      "Epoch 00009: saving model to training_2/cp-0009.ckpt\n",
      "\n",
      "Epoch 00009: saving model to training_2/cp-0009.ckpt\n",
      "\n",
      "Epoch 00009: saving model to training_2/cp-0009.ckpt\n",
      "\n",
      "Epoch 00009: saving model to training_2/cp-0009.ckpt\n",
      "\n",
      "Epoch 00009: saving model to training_2/cp-0009.ckpt\n",
      "\n",
      "Epoch 00009: saving model to training_2/cp-0009.ckpt\n",
      "\n",
      "Epoch 00009: saving model to training_2/cp-0009.ckpt\n",
      "\n",
      "Epoch 00009: saving model to training_2/cp-0009.ckpt\n",
      "\n",
      "Epoch 00009: saving model to training_2/cp-0009.ckpt\n",
      "\n",
      "Epoch 00009: saving model to training_2/cp-0009.ckpt\n",
      "\n",
      "Epoch 00009: saving model to training_2/cp-0009.ckpt\n",
      "\n",
      "Epoch 00009: saving model to training_2/cp-0009.ckpt\n",
      "\n",
      "Epoch 00009: saving model to training_2/cp-0009.ckpt\n",
      "\n",
      "Epoch 00009: saving model to training_2/cp-0009.ckpt\n",
      "\n",
      "Epoch 00009: saving model to training_2/cp-0009.ckpt\n",
      "\n",
      "Epoch 00009: saving model to training_2/cp-0009.ckpt\n",
      "\n",
      "Epoch 00009: saving model to training_2/cp-0009.ckpt\n",
      "\n",
      "Epoch 00009: saving model to training_2/cp-0009.ckpt\n",
      "\n",
      "Epoch 00009: saving model to training_2/cp-0009.ckpt\n",
      "\n",
      "Epoch 00009: saving model to training_2/cp-0009.ckpt\n",
      "\n",
      "Epoch 00009: saving model to training_2/cp-0009.ckpt\n",
      "\n",
      "Epoch 00010: saving model to training_2/cp-0010.ckpt\n",
      "\n",
      "Epoch 00010: saving model to training_2/cp-0010.ckpt\n",
      "\n",
      "Epoch 00010: saving model to training_2/cp-0010.ckpt\n",
      "\n",
      "Epoch 00010: saving model to training_2/cp-0010.ckpt\n",
      "\n",
      "Epoch 00010: saving model to training_2/cp-0010.ckpt\n",
      "\n",
      "Epoch 00010: saving model to training_2/cp-0010.ckpt\n",
      "\n",
      "Epoch 00010: saving model to training_2/cp-0010.ckpt\n",
      "\n",
      "Epoch 00010: saving model to training_2/cp-0010.ckpt\n",
      "\n",
      "Epoch 00010: saving model to training_2/cp-0010.ckpt\n",
      "\n",
      "Epoch 00010: saving model to training_2/cp-0010.ckpt\n",
      "\n",
      "Epoch 00010: saving model to training_2/cp-0010.ckpt\n",
      "\n",
      "Epoch 00010: saving model to training_2/cp-0010.ckpt\n",
      "\n",
      "Epoch 00010: saving model to training_2/cp-0010.ckpt\n",
      "\n",
      "Epoch 00010: saving model to training_2/cp-0010.ckpt\n",
      "\n",
      "Epoch 00010: saving model to training_2/cp-0010.ckpt\n",
      "\n",
      "Epoch 00010: saving model to training_2/cp-0010.ckpt\n"
     ]
    },
    {
     "name": "stderr",
     "output_type": "stream",
     "text": [
      "W0622 16:27:03.108105 28836 callbacks.py:241] Method (on_train_batch_end) is slow compared to the batch update (0.109197). Check your callbacks.\n"
     ]
    },
    {
     "name": "stdout",
     "output_type": "stream",
     "text": [
      "\n",
      "Epoch 00010: saving model to training_2/cp-0010.ckpt\n"
     ]
    },
    {
     "name": "stderr",
     "output_type": "stream",
     "text": [
      "W0622 16:27:03.645795 28836 callbacks.py:241] Method (on_train_batch_end) is slow compared to the batch update (0.109197). Check your callbacks.\n"
     ]
    },
    {
     "name": "stdout",
     "output_type": "stream",
     "text": [
      "\n",
      "Epoch 00010: saving model to training_2/cp-0010.ckpt\n"
     ]
    },
    {
     "name": "stderr",
     "output_type": "stream",
     "text": [
      "W0622 16:27:04.034887 28836 callbacks.py:241] Method (on_train_batch_end) is slow compared to the batch update (0.125816). Check your callbacks.\n"
     ]
    },
    {
     "name": "stdout",
     "output_type": "stream",
     "text": [
      "\n",
      "Epoch 00010: saving model to training_2/cp-0010.ckpt\n"
     ]
    },
    {
     "name": "stderr",
     "output_type": "stream",
     "text": [
      "W0622 16:27:04.285158 28836 callbacks.py:241] Method (on_train_batch_end) is slow compared to the batch update (0.137843). Check your callbacks.\n"
     ]
    },
    {
     "name": "stdout",
     "output_type": "stream",
     "text": [
      "\n",
      "Epoch 00010: saving model to training_2/cp-0010.ckpt\n"
     ]
    },
    {
     "name": "stderr",
     "output_type": "stream",
     "text": [
      "W0622 16:27:04.714329 28836 callbacks.py:241] Method (on_train_batch_end) is slow compared to the batch update (0.137843). Check your callbacks.\n",
      "W0622 16:27:04.849239 28836 callbacks.py:241] Method (on_train_batch_end) is slow compared to the batch update (0.128748). Check your callbacks.\n"
     ]
    },
    {
     "name": "stdout",
     "output_type": "stream",
     "text": [
      "\n",
      "Epoch 00010: saving model to training_2/cp-0010.ckpt\n",
      "\n",
      "Epoch 00010: saving model to training_2/cp-0010.ckpt\n"
     ]
    },
    {
     "name": "stderr",
     "output_type": "stream",
     "text": [
      "W0622 16:27:04.928427 28836 callbacks.py:241] Method (on_train_batch_end) is slow compared to the batch update (0.128748). Check your callbacks.\n",
      "W0622 16:27:05.003703 28836 callbacks.py:241] Method (on_train_batch_end) is slow compared to the batch update (0.128748). Check your callbacks.\n"
     ]
    },
    {
     "name": "stdout",
     "output_type": "stream",
     "text": [
      "\n",
      "Epoch 00010: saving model to training_2/cp-0010.ckpt\n",
      "\n",
      "Epoch 00010: saving model to training_2/cp-0010.ckpt\n"
     ]
    },
    {
     "name": "stderr",
     "output_type": "stream",
     "text": [
      "W0622 16:27:05.178697 28836 callbacks.py:241] Method (on_train_batch_end) is slow compared to the batch update (0.152507). Check your callbacks.\n",
      "W0622 16:27:05.272548 28836 callbacks.py:241] Method (on_train_batch_end) is slow compared to the batch update (0.140480). Check your callbacks.\n",
      "W0622 16:27:05.348802 28836 callbacks.py:241] Method (on_train_batch_end) is slow compared to the batch update (0.138332). Check your callbacks.\n"
     ]
    },
    {
     "name": "stdout",
     "output_type": "stream",
     "text": [
      "\n",
      "Epoch 00010: saving model to training_2/cp-0010.ckpt\n",
      "\n",
      "Epoch 00010: saving model to training_2/cp-0010.ckpt\n",
      "\n",
      "Epoch 00010: saving model to training_2/cp-0010.ckpt\n",
      "\n",
      "Epoch 00010: saving model to training_2/cp-0010.ckpt\n",
      "\n",
      "Epoch 00010: saving model to training_2/cp-0010.ckpt\n",
      "\n",
      "Epoch 00010: saving model to training_2/cp-0010.ckpt\n",
      "\n",
      "Epoch 00010: saving model to training_2/cp-0010.ckpt\n",
      "\n",
      "Epoch 00010: saving model to training_2/cp-0010.ckpt\n"
     ]
    },
    {
     "name": "stderr",
     "output_type": "stream",
     "text": [
      "W0622 16:27:06.567891 28836 callbacks.py:241] Method (on_train_batch_end) is slow compared to the batch update (0.102650). Check your callbacks.\n"
     ]
    },
    {
     "name": "stdout",
     "output_type": "stream",
     "text": [
      "\n",
      "Epoch 00011: saving model to training_2/cp-0011.ckpt\n",
      "\n",
      "Epoch 00011: saving model to training_2/cp-0011.ckpt\n"
     ]
    },
    {
     "name": "stderr",
     "output_type": "stream",
     "text": [
      "W0622 16:27:06.695958 28836 callbacks.py:241] Method (on_train_batch_end) is slow compared to the batch update (0.109493). Check your callbacks.\n",
      "W0622 16:27:06.819139 28836 callbacks.py:241] Method (on_train_batch_end) is slow compared to the batch update (0.106560). Check your callbacks.\n"
     ]
    },
    {
     "name": "stdout",
     "output_type": "stream",
     "text": [
      "\n",
      "Epoch 00011: saving model to training_2/cp-0011.ckpt\n",
      "\n",
      "Epoch 00011: saving model to training_2/cp-0011.ckpt\n"
     ]
    },
    {
     "name": "stderr",
     "output_type": "stream",
     "text": [
      "W0622 16:27:06.963826 28836 callbacks.py:241] Method (on_train_batch_end) is slow compared to the batch update (0.111448). Check your callbacks.\n",
      "W0622 16:27:07.138819 28836 callbacks.py:241] Method (on_train_batch_end) is slow compared to the batch update (0.116335). Check your callbacks.\n"
     ]
    },
    {
     "name": "stdout",
     "output_type": "stream",
     "text": [
      "\n",
      "Epoch 00011: saving model to training_2/cp-0011.ckpt\n",
      "\n",
      "Epoch 00011: saving model to training_2/cp-0011.ckpt\n"
     ]
    },
    {
     "name": "stderr",
     "output_type": "stream",
     "text": [
      "W0622 16:27:07.239513 28836 callbacks.py:241] Method (on_train_batch_end) is slow compared to the batch update (0.111448). Check your callbacks.\n",
      "W0622 16:27:07.410596 28836 callbacks.py:241] Method (on_train_batch_end) is slow compared to the batch update (0.116335). Check your callbacks.\n"
     ]
    },
    {
     "name": "stdout",
     "output_type": "stream",
     "text": [
      "\n",
      "Epoch 00011: saving model to training_2/cp-0011.ckpt\n",
      "\n",
      "Epoch 00011: saving model to training_2/cp-0011.ckpt\n"
     ]
    },
    {
     "name": "stderr",
     "output_type": "stream",
     "text": [
      "W0622 16:27:07.524000 28836 callbacks.py:241] Method (on_train_batch_end) is slow compared to the batch update (0.111448). Check your callbacks.\n"
     ]
    },
    {
     "name": "stdout",
     "output_type": "stream",
     "text": [
      "\n",
      "Epoch 00011: saving model to training_2/cp-0011.ckpt\n"
     ]
    },
    {
     "name": "stderr",
     "output_type": "stream",
     "text": [
      "W0622 16:27:07.960994 28836 callbacks.py:241] Method (on_train_batch_end) is slow compared to the batch update (0.116335). Check your callbacks.\n"
     ]
    },
    {
     "name": "stdout",
     "output_type": "stream",
     "text": [
      "\n",
      "Epoch 00011: saving model to training_2/cp-0011.ckpt\n"
     ]
    },
    {
     "name": "stderr",
     "output_type": "stream",
     "text": [
      "W0622 16:27:08.547569 28836 callbacks.py:241] Method (on_train_batch_end) is slow compared to the batch update (0.123180). Check your callbacks.\n"
     ]
    },
    {
     "name": "stdout",
     "output_type": "stream",
     "text": [
      "\n",
      "Epoch 00011: saving model to training_2/cp-0011.ckpt\n"
     ]
    },
    {
     "name": "stderr",
     "output_type": "stream",
     "text": [
      "W0622 16:27:08.862357 28836 callbacks.py:241] Method (on_train_batch_end) is slow compared to the batch update (0.139311). Check your callbacks.\n"
     ]
    },
    {
     "name": "stdout",
     "output_type": "stream",
     "text": [
      "\n",
      "Epoch 00011: saving model to training_2/cp-0011.ckpt\n"
     ]
    },
    {
     "name": "stderr",
     "output_type": "stream",
     "text": [
      "W0622 16:27:09.266113 28836 callbacks.py:241] Method (on_train_batch_end) is slow compared to the batch update (0.152997). Check your callbacks.\n"
     ]
    },
    {
     "name": "stdout",
     "output_type": "stream",
     "text": [
      "\n",
      "Epoch 00011: saving model to training_2/cp-0011.ckpt\n"
     ]
    },
    {
     "name": "stderr",
     "output_type": "stream",
     "text": [
      "W0622 16:27:09.746123 28836 callbacks.py:241] Method (on_train_batch_end) is slow compared to the batch update (0.193568). Check your callbacks.\n",
      "W0622 16:27:09.909389 28836 callbacks.py:241] Method (on_train_batch_end) is slow compared to the batch update (0.193568). Check your callbacks.\n"
     ]
    },
    {
     "name": "stdout",
     "output_type": "stream",
     "text": [
      "\n",
      "Epoch 00011: saving model to training_2/cp-0011.ckpt\n",
      "\n",
      "Epoch 00011: saving model to training_2/cp-0011.ckpt\n"
     ]
    },
    {
     "name": "stderr",
     "output_type": "stream",
     "text": [
      "W0622 16:27:10.522354 28836 callbacks.py:241] Method (on_train_batch_end) is slow compared to the batch update (0.308438). Check your callbacks.\n"
     ]
    },
    {
     "name": "stdout",
     "output_type": "stream",
     "text": [
      "\n",
      "Epoch 00011: saving model to training_2/cp-0011.ckpt\n"
     ]
    },
    {
     "name": "stderr",
     "output_type": "stream",
     "text": [
      "W0622 16:27:10.907533 28836 callbacks.py:241] Method (on_train_batch_end) is slow compared to the batch update (0.370028). Check your callbacks.\n",
      "W0622 16:27:11.105010 28836 callbacks.py:241] Method (on_train_batch_end) is slow compared to the batch update (0.370028). Check your callbacks.\n"
     ]
    },
    {
     "name": "stdout",
     "output_type": "stream",
     "text": [
      "\n",
      "Epoch 00011: saving model to training_2/cp-0011.ckpt\n",
      "\n",
      "Epoch 00011: saving model to training_2/cp-0011.ckpt\n"
     ]
    },
    {
     "name": "stderr",
     "output_type": "stream",
     "text": [
      "W0622 16:27:11.310310 28836 callbacks.py:241] Method (on_train_batch_end) is slow compared to the batch update (0.370028). Check your callbacks.\n"
     ]
    },
    {
     "name": "stdout",
     "output_type": "stream",
     "text": [
      "\n",
      "Epoch 00011: saving model to training_2/cp-0011.ckpt\n"
     ]
    },
    {
     "name": "stderr",
     "output_type": "stream",
     "text": [
      "W0622 16:27:11.526364 28836 callbacks.py:241] Method (on_train_batch_end) is slow compared to the batch update (0.291329). Check your callbacks.\n",
      "W0622 16:27:11.715044 28836 callbacks.py:241] Method (on_train_batch_end) is slow compared to the batch update (0.212143). Check your callbacks.\n"
     ]
    },
    {
     "name": "stdout",
     "output_type": "stream",
     "text": [
      "\n",
      "Epoch 00011: saving model to training_2/cp-0011.ckpt\n",
      "\n",
      "Epoch 00011: saving model to training_2/cp-0011.ckpt"
     ]
    },
    {
     "name": "stderr",
     "output_type": "stream",
     "text": [
      "W0622 16:27:11.904701 28836 callbacks.py:241] Method (on_train_batch_end) is slow compared to the batch update (0.191125). Check your callbacks.\n"
     ]
    },
    {
     "name": "stdout",
     "output_type": "stream",
     "text": [
      "\n",
      "\n",
      "Epoch 00011: saving model to training_2/cp-0011.ckpt\n"
     ]
    },
    {
     "name": "stderr",
     "output_type": "stream",
     "text": [
      "W0622 16:27:12.164747 28836 callbacks.py:241] Method (on_train_batch_end) is slow compared to the batch update (0.191125). Check your callbacks.\n",
      "W0622 16:27:12.319211 28836 callbacks.py:241] Method (on_train_batch_end) is slow compared to the batch update (0.178415). Check your callbacks.\n"
     ]
    },
    {
     "name": "stdout",
     "output_type": "stream",
     "text": [
      "\n",
      "Epoch 00011: saving model to training_2/cp-0011.ckpt\n",
      "\n",
      "Epoch 00011: saving model to training_2/cp-0011.ckpt\n"
     ]
    },
    {
     "name": "stderr",
     "output_type": "stream",
     "text": [
      "W0622 16:27:12.521578 28836 callbacks.py:241] Method (on_train_batch_end) is slow compared to the batch update (0.184282). Check your callbacks.\n",
      "W0622 16:27:12.644758 28836 callbacks.py:241] Method (on_train_batch_end) is slow compared to the batch update (0.174994). Check your callbacks.\n"
     ]
    },
    {
     "name": "stdout",
     "output_type": "stream",
     "text": [
      "\n",
      "Epoch 00011: saving model to training_2/cp-0011.ckpt\n",
      "\n",
      "Epoch 00011: saving model to training_2/cp-0011.ckpt\n"
     ]
    },
    {
     "name": "stderr",
     "output_type": "stream",
     "text": [
      "W0622 16:27:12.814863 28836 callbacks.py:241] Method (on_train_batch_end) is slow compared to the batch update (0.169127). Check your callbacks.\n",
      "W0622 16:27:13.026027 28836 callbacks.py:241] Method (on_train_batch_end) is slow compared to the batch update (0.170593). Check your callbacks.\n"
     ]
    },
    {
     "name": "stdout",
     "output_type": "stream",
     "text": [
      "\n",
      "Epoch 00011: saving model to training_2/cp-0011.ckpt\n",
      "\n",
      "Epoch 00011: saving model to training_2/cp-0011.ckpt"
     ]
    },
    {
     "name": "stderr",
     "output_type": "stream",
     "text": [
      "W0622 16:27:13.149208 28836 callbacks.py:241] Method (on_train_batch_end) is slow compared to the batch update (0.169127). Check your callbacks.\n"
     ]
    },
    {
     "name": "stdout",
     "output_type": "stream",
     "text": [
      "\n",
      "\n",
      "Epoch 00011: saving model to training_2/cp-0011.ckpt\n"
     ]
    },
    {
     "name": "stderr",
     "output_type": "stream",
     "text": [
      "W0622 16:27:13.273365 28836 callbacks.py:241] Method (on_train_batch_end) is slow compared to the batch update (0.162284). Check your callbacks.\n",
      "W0622 16:27:13.392634 28836 callbacks.py:241] Method (on_train_batch_end) is slow compared to the batch update (0.144198). Check your callbacks.\n"
     ]
    },
    {
     "name": "stdout",
     "output_type": "stream",
     "text": [
      "\n",
      "Epoch 00011: saving model to training_2/cp-0011.ckpt\n",
      "\n",
      "Epoch 00011: saving model to training_2/cp-0011.ckpt\n"
     ]
    },
    {
     "name": "stderr",
     "output_type": "stream",
     "text": [
      "W0622 16:27:13.494306 28836 callbacks.py:241] Method (on_train_batch_end) is slow compared to the batch update (0.121224). Check your callbacks.\n",
      "W0622 16:27:13.614552 28836 callbacks.py:241] Method (on_train_batch_end) is slow compared to the batch update (0.109004). Check your callbacks.\n"
     ]
    },
    {
     "name": "stdout",
     "output_type": "stream",
     "text": [
      "\n",
      "Epoch 00011: saving model to training_2/cp-0011.ckpt\n",
      "\n",
      "Epoch 00012: saving model to training_2/cp-0012.ckpt\n",
      "\n",
      "Epoch 00012: saving model to training_2/cp-0012.ckpt\n",
      "\n",
      "Epoch 00012: saving model to training_2/cp-0012.ckpt\n"
     ]
    },
    {
     "name": "stderr",
     "output_type": "stream",
     "text": [
      "W0622 16:27:14.354610 28836 callbacks.py:241] Method (on_train_batch_end) is slow compared to the batch update (0.104605). Check your callbacks.\n",
      "W0622 16:27:14.567730 28836 callbacks.py:241] Method (on_train_batch_end) is slow compared to the batch update (0.139310). Check your callbacks.\n"
     ]
    },
    {
     "name": "stdout",
     "output_type": "stream",
     "text": [
      "\n",
      "Epoch 00012: saving model to training_2/cp-0012.ckpt\n",
      "\n",
      "Epoch 00012: saving model to training_2/cp-0012.ckpt"
     ]
    },
    {
     "name": "stderr",
     "output_type": "stream",
     "text": [
      "W0622 16:27:14.745657 28836 callbacks.py:241] Method (on_train_batch_end) is slow compared to the batch update (0.162284). Check your callbacks.\n"
     ]
    },
    {
     "name": "stdout",
     "output_type": "stream",
     "text": [
      "\n",
      "\n",
      "Epoch 00012: saving model to training_2/cp-0012.ckpt\n"
     ]
    },
    {
     "name": "stderr",
     "output_type": "stream",
     "text": [
      "W0622 16:27:14.857105 28836 callbacks.py:241] Method (on_train_batch_end) is slow compared to the batch update (0.133445). Check your callbacks.\n",
      "W0622 16:27:14.983217 28836 callbacks.py:241] Method (on_train_batch_end) is slow compared to the batch update (0.109486). Check your callbacks.\n"
     ]
    },
    {
     "name": "stdout",
     "output_type": "stream",
     "text": [
      "\n",
      "Epoch 00012: saving model to training_2/cp-0012.ckpt\n",
      "\n",
      "Epoch 00012: saving model to training_2/cp-0012.ckpt\n"
     ]
    },
    {
     "name": "stderr",
     "output_type": "stream",
     "text": [
      "W0622 16:27:15.366443 28836 callbacks.py:241] Method (on_train_batch_end) is slow compared to the batch update (0.135885). Check your callbacks.\n"
     ]
    },
    {
     "name": "stdout",
     "output_type": "stream",
     "text": [
      "\n",
      "Epoch 00012: saving model to training_2/cp-0012.ckpt\n"
     ]
    },
    {
     "name": "stderr",
     "output_type": "stream",
     "text": [
      "W0622 16:27:15.589341 28836 callbacks.py:241] Method (on_train_batch_end) is slow compared to the batch update (0.162284). Check your callbacks.\n",
      "W0622 16:27:15.716430 28836 callbacks.py:241] Method (on_train_batch_end) is slow compared to the batch update (0.137354). Check your callbacks.\n"
     ]
    },
    {
     "name": "stdout",
     "output_type": "stream",
     "text": [
      "\n",
      "Epoch 00012: saving model to training_2/cp-0012.ckpt\n",
      "\n",
      "Epoch 00012: saving model to training_2/cp-0012.ckpt\n"
     ]
    },
    {
     "name": "stderr",
     "output_type": "stream",
     "text": [
      "W0622 16:27:15.859161 28836 callbacks.py:241] Method (on_train_batch_end) is slow compared to the batch update (0.143708). Check your callbacks.\n",
      "W0622 16:27:15.969633 28836 callbacks.py:241] Method (on_train_batch_end) is slow compared to the batch update (0.143708). Check your callbacks.\n"
     ]
    },
    {
     "name": "stdout",
     "output_type": "stream",
     "text": [
      "\n",
      "Epoch 00012: saving model to training_2/cp-0012.ckpt\n",
      "\n",
      "Epoch 00012: saving model to training_2/cp-0012.ckpt\n"
     ]
    },
    {
     "name": "stderr",
     "output_type": "stream",
     "text": [
      "W0622 16:27:16.074238 28836 callbacks.py:241] Method (on_train_batch_end) is slow compared to the batch update (0.118779). Check your callbacks.\n",
      "W0622 16:27:16.262917 28836 callbacks.py:241] Method (on_train_batch_end) is slow compared to the batch update (0.118779). Check your callbacks.\n"
     ]
    },
    {
     "name": "stdout",
     "output_type": "stream",
     "text": [
      "\n",
      "Epoch 00012: saving model to training_2/cp-0012.ckpt\n"
     ]
    },
    {
     "name": "stderr",
     "output_type": "stream",
     "text": [
      "W0622 16:27:16.422270 28836 callbacks.py:241] Method (on_train_batch_end) is slow compared to the batch update (0.118779). Check your callbacks.\n"
     ]
    },
    {
     "name": "stdout",
     "output_type": "stream",
     "text": [
      "\n",
      "Epoch 00012: saving model to training_2/cp-0012.ckpt\n",
      "\n",
      "Epoch 00012: saving model to training_2/cp-0012.ckpt\n"
     ]
    },
    {
     "name": "stderr",
     "output_type": "stream",
     "text": [
      "W0622 16:27:16.563047 28836 callbacks.py:241] Method (on_train_batch_end) is slow compared to the batch update (0.120246). Check your callbacks.\n",
      "W0622 16:27:16.695024 28836 callbacks.py:241] Method (on_train_batch_end) is slow compared to the batch update (0.121713). Check your callbacks.\n"
     ]
    },
    {
     "name": "stdout",
     "output_type": "stream",
     "text": [
      "\n",
      "Epoch 00012: saving model to training_2/cp-0012.ckpt\n",
      "\n",
      "Epoch 00012: saving model to training_2/cp-0012.ckpt\n"
     ]
    },
    {
     "name": "stderr",
     "output_type": "stream",
     "text": [
      "W0622 16:27:16.872951 28836 callbacks.py:241] Method (on_train_batch_end) is slow compared to the batch update (0.121713). Check your callbacks.\n",
      "W0622 16:27:17.021549 28836 callbacks.py:241] Method (on_train_batch_end) is slow compared to the batch update (0.121713). Check your callbacks.\n"
     ]
    },
    {
     "name": "stdout",
     "output_type": "stream",
     "text": [
      "\n",
      "Epoch 00012: saving model to training_2/cp-0012.ckpt\n",
      "\n",
      "Epoch 00012: saving model to training_2/cp-0012.ckpt\n"
     ]
    },
    {
     "name": "stderr",
     "output_type": "stream",
     "text": [
      "W0622 16:27:17.121265 28836 callbacks.py:241] Method (on_train_batch_end) is slow compared to the batch update (0.121713). Check your callbacks.\n",
      "W0622 16:27:17.247377 28836 callbacks.py:241] Method (on_train_batch_end) is slow compared to the batch update (0.116826). Check your callbacks.\n"
     ]
    },
    {
     "name": "stdout",
     "output_type": "stream",
     "text": [
      "\n",
      "Epoch 00012: saving model to training_2/cp-0012.ckpt\n",
      "\n",
      "Epoch 00012: saving model to training_2/cp-0012.ckpt\n"
     ]
    },
    {
     "name": "stderr",
     "output_type": "stream",
     "text": [
      "W0622 16:27:17.348072 28836 callbacks.py:241] Method (on_train_batch_end) is slow compared to the batch update (0.116826). Check your callbacks.\n",
      "W0622 16:27:17.452678 28836 callbacks.py:241] Method (on_train_batch_end) is slow compared to the batch update (0.116826). Check your callbacks.\n"
     ]
    },
    {
     "name": "stdout",
     "output_type": "stream",
     "text": [
      "\n",
      "Epoch 00012: saving model to training_2/cp-0012.ckpt\n",
      "\n",
      "Epoch 00012: saving model to training_2/cp-0012.ckpt\n"
     ]
    },
    {
     "name": "stderr",
     "output_type": "stream",
     "text": [
      "W0622 16:27:17.576836 28836 callbacks.py:241] Method (on_train_batch_end) is slow compared to the batch update (0.113404). Check your callbacks.\n",
      "W0622 16:27:17.710769 28836 callbacks.py:241] Method (on_train_batch_end) is slow compared to the batch update (0.113404). Check your callbacks.\n"
     ]
    },
    {
     "name": "stdout",
     "output_type": "stream",
     "text": [
      "\n",
      "Epoch 00012: saving model to training_2/cp-0012.ckpt\n",
      "\n",
      "Epoch 00012: saving model to training_2/cp-0012.ckpt\n"
     ]
    },
    {
     "name": "stderr",
     "output_type": "stream",
     "text": [
      "W0622 16:27:17.838837 28836 callbacks.py:241] Method (on_train_batch_end) is slow compared to the batch update (0.112426). Check your callbacks.\n",
      "W0622 16:27:17.968860 28836 callbacks.py:241] Method (on_train_batch_end) is slow compared to the batch update (0.112426). Check your callbacks.\n"
     ]
    },
    {
     "name": "stdout",
     "output_type": "stream",
     "text": [
      "\n",
      "Epoch 00012: saving model to training_2/cp-0012.ckpt\n",
      "\n",
      "Epoch 00012: saving model to training_2/cp-0012.ckpt\n"
     ]
    },
    {
     "name": "stderr",
     "output_type": "stream",
     "text": [
      "W0622 16:27:18.100838 28836 callbacks.py:241] Method (on_train_batch_end) is slow compared to the batch update (0.112426). Check your callbacks.\n",
      "W0622 16:27:18.232816 28836 callbacks.py:241] Method (on_train_batch_end) is slow compared to the batch update (0.112426). Check your callbacks.\n"
     ]
    },
    {
     "name": "stdout",
     "output_type": "stream",
     "text": [
      "\n",
      "Epoch 00012: saving model to training_2/cp-0012.ckpt\n",
      "\n",
      "Epoch 00012: saving model to training_2/cp-0012.ckpt\n"
     ]
    },
    {
     "name": "stderr",
     "output_type": "stream",
     "text": [
      "W0622 16:27:18.336442 28836 callbacks.py:241] Method (on_train_batch_end) is slow compared to the batch update (0.112426). Check your callbacks.\n",
      "W0622 16:27:18.444958 28836 callbacks.py:241] Method (on_train_batch_end) is slow compared to the batch update (0.112426). Check your callbacks.\n"
     ]
    },
    {
     "name": "stdout",
     "output_type": "stream",
     "text": [
      "\n",
      "Epoch 00012: saving model to training_2/cp-0012.ckpt\n",
      "\n",
      "Epoch 00012: saving model to training_2/cp-0012.ckpt\n"
     ]
    },
    {
     "name": "stderr",
     "output_type": "stream",
     "text": [
      "W0622 16:27:18.564228 28836 callbacks.py:241] Method (on_train_batch_end) is slow compared to the batch update (0.112426). Check your callbacks.\n"
     ]
    },
    {
     "name": "stdout",
     "output_type": "stream",
     "text": [
      "\n",
      "Epoch 00013: saving model to training_2/cp-0013.ckpt\n",
      "\n",
      "Epoch 00013: saving model to training_2/cp-0013.ckpt\n"
     ]
    },
    {
     "name": "stderr",
     "output_type": "stream",
     "text": [
      "W0622 16:27:18.997313 28836 callbacks.py:241] Method (on_train_batch_end) is slow compared to the batch update (0.106072). Check your callbacks.\n",
      "W0622 16:27:19.126358 28836 callbacks.py:241] Method (on_train_batch_end) is slow compared to the batch update (0.111449). Check your callbacks.\n"
     ]
    },
    {
     "name": "stdout",
     "output_type": "stream",
     "text": [
      "\n",
      "Epoch 00013: saving model to training_2/cp-0013.ckpt\n",
      "\n",
      "Epoch 00013: saving model to training_2/cp-0013.ckpt\n"
     ]
    },
    {
     "name": "stderr",
     "output_type": "stream",
     "text": [
      "W0622 16:27:19.261270 28836 callbacks.py:241] Method (on_train_batch_end) is slow compared to the batch update (0.111938). Check your callbacks.\n",
      "W0622 16:27:19.384449 28836 callbacks.py:241] Method (on_train_batch_end) is slow compared to the batch update (0.111449). Check your callbacks.\n"
     ]
    },
    {
     "name": "stdout",
     "output_type": "stream",
     "text": [
      "\n",
      "Epoch 00013: saving model to training_2/cp-0013.ckpt\n",
      "\n",
      "Epoch 00013: saving model to training_2/cp-0013.ckpt\n"
     ]
    },
    {
     "name": "stderr",
     "output_type": "stream",
     "text": [
      "W0622 16:27:19.778428 28836 callbacks.py:241] Method (on_train_batch_end) is slow compared to the batch update (0.111938). Check your callbacks.\n"
     ]
    },
    {
     "name": "stdout",
     "output_type": "stream",
     "text": [
      "\n",
      "Epoch 00013: saving model to training_2/cp-0013.ckpt\n"
     ]
    },
    {
     "name": "stderr",
     "output_type": "stream",
     "text": [
      "W0622 16:27:20.418769 28836 callbacks.py:241] Method (on_train_batch_end) is slow compared to the batch update (0.112426). Check your callbacks.\n",
      "W0622 16:27:20.609402 28836 callbacks.py:241] Method (on_train_batch_end) is slow compared to the batch update (0.113893). Check your callbacks.\n"
     ]
    },
    {
     "name": "stdout",
     "output_type": "stream",
     "text": [
      "\n",
      "Epoch 00013: saving model to training_2/cp-0013.ckpt\n",
      "\n",
      "Epoch 00013: saving model to training_2/cp-0013.ckpt\n"
     ]
    },
    {
     "name": "stderr",
     "output_type": "stream",
     "text": [
      "W0622 16:27:21.046398 28836 callbacks.py:241] Method (on_train_batch_end) is slow compared to the batch update (0.115360). Check your callbacks.\n",
      "W0622 16:27:21.154912 28836 callbacks.py:241] Method (on_train_batch_end) is slow compared to the batch update (0.113893). Check your callbacks.\n"
     ]
    },
    {
     "name": "stdout",
     "output_type": "stream",
     "text": [
      "\n",
      "Epoch 00013: saving model to training_2/cp-0013.ckpt\n",
      "\n",
      "Epoch 00013: saving model to training_2/cp-0013.ckpt\n"
     ]
    },
    {
     "name": "stderr",
     "output_type": "stream",
     "text": [
      "W0622 16:27:21.310355 28836 callbacks.py:241] Method (on_train_batch_end) is slow compared to the batch update (0.127090). Check your callbacks.\n",
      "W0622 16:27:21.448199 28836 callbacks.py:241] Method (on_train_batch_end) is slow compared to the batch update (0.130511). Check your callbacks.\n"
     ]
    },
    {
     "name": "stdout",
     "output_type": "stream",
     "text": [
      "\n",
      "Epoch 00013: saving model to training_2/cp-0013.ckpt\n",
      "\n",
      "Epoch 00013: saving model to training_2/cp-0013.ckpt\n"
     ]
    },
    {
     "name": "stderr",
     "output_type": "stream",
     "text": [
      "W0622 16:27:21.583109 28836 callbacks.py:241] Method (on_train_batch_end) is slow compared to the batch update (0.130511). Check your callbacks.\n",
      "W0622 16:27:21.714109 28836 callbacks.py:241] Method (on_train_batch_end) is slow compared to the batch update (0.130511). Check your callbacks.\n"
     ]
    },
    {
     "name": "stdout",
     "output_type": "stream",
     "text": [
      "\n",
      "Epoch 00013: saving model to training_2/cp-0013.ckpt\n",
      "\n",
      "Epoch 00013: saving model to training_2/cp-0013.ckpt\n"
     ]
    },
    {
     "name": "stderr",
     "output_type": "stream",
     "text": [
      "W0622 16:27:21.837290 28836 callbacks.py:241] Method (on_train_batch_end) is slow compared to the batch update (0.130511). Check your callbacks.\n",
      "W0622 16:27:21.940917 28836 callbacks.py:241] Method (on_train_batch_end) is slow compared to the batch update (0.121224). Check your callbacks.\n"
     ]
    },
    {
     "name": "stdout",
     "output_type": "stream",
     "text": [
      "\n",
      "Epoch 00013: saving model to training_2/cp-0013.ckpt\n",
      "\n",
      "Epoch 00013: saving model to training_2/cp-0013.ckpt\n"
     ]
    },
    {
     "name": "stderr",
     "output_type": "stream",
     "text": [
      "W0622 16:27:22.072896 28836 callbacks.py:241] Method (on_train_batch_end) is slow compared to the batch update (0.118291). Check your callbacks.\n",
      "W0622 16:27:22.238112 28836 callbacks.py:241] Method (on_train_batch_end) is slow compared to the batch update (0.118291). Check your callbacks.\n"
     ]
    },
    {
     "name": "stdout",
     "output_type": "stream",
     "text": [
      "\n",
      "Epoch 00013: saving model to training_2/cp-0013.ckpt\n",
      "\n",
      "Epoch 00013: saving model to training_2/cp-0013.ckpt\n"
     ]
    },
    {
     "name": "stderr",
     "output_type": "stream",
     "text": [
      "W0622 16:27:22.357381 28836 callbacks.py:241] Method (on_train_batch_end) is slow compared to the batch update (0.115847). Check your callbacks.\n",
      "W0622 16:27:22.479584 28836 callbacks.py:241] Method (on_train_batch_end) is slow compared to the batch update (0.115847). Check your callbacks.\n"
     ]
    },
    {
     "name": "stdout",
     "output_type": "stream",
     "text": [
      "\n",
      "Epoch 00013: saving model to training_2/cp-0013.ckpt\n",
      "\n",
      "Epoch 00013: saving model to training_2/cp-0013.ckpt\n"
     ]
    },
    {
     "name": "stderr",
     "output_type": "stream",
     "text": [
      "W0622 16:27:22.588099 28836 callbacks.py:241] Method (on_train_batch_end) is slow compared to the batch update (0.112426). Check your callbacks.\n",
      "W0622 16:27:22.739630 28836 callbacks.py:241] Method (on_train_batch_end) is slow compared to the batch update (0.112426). Check your callbacks.\n"
     ]
    },
    {
     "name": "stdout",
     "output_type": "stream",
     "text": [
      "\n",
      "Epoch 00013: saving model to training_2/cp-0013.ckpt\n",
      "\n",
      "Epoch 00013: saving model to training_2/cp-0013.ckpt\n"
     ]
    },
    {
     "name": "stderr",
     "output_type": "stream",
     "text": [
      "W0622 16:27:22.896048 28836 callbacks.py:241] Method (on_train_batch_end) is slow compared to the batch update (0.112426). Check your callbacks.\n",
      "W0622 16:27:23.001631 28836 callbacks.py:241] Method (on_train_batch_end) is slow compared to the batch update (0.108516). Check your callbacks.\n"
     ]
    },
    {
     "name": "stdout",
     "output_type": "stream",
     "text": [
      "\n",
      "Epoch 00013: saving model to training_2/cp-0013.ckpt\n",
      "\n",
      "Epoch 00013: saving model to training_2/cp-0013.ckpt\n"
     ]
    },
    {
     "name": "stderr",
     "output_type": "stream",
     "text": [
      "W0622 16:27:23.107214 28836 callbacks.py:241] Method (on_train_batch_end) is slow compared to the batch update (0.107050). Check your callbacks.\n",
      "W0622 16:27:23.305670 28836 callbacks.py:241] Method (on_train_batch_end) is slow compared to the batch update (0.111937). Check your callbacks.\n"
     ]
    },
    {
     "name": "stdout",
     "output_type": "stream",
     "text": [
      "\n",
      "Epoch 00013: saving model to training_2/cp-0013.ckpt\n",
      "\n",
      "Epoch 00013: saving model to training_2/cp-0013.ckpt"
     ]
    },
    {
     "name": "stderr",
     "output_type": "stream",
     "text": [
      "W0622 16:27:23.428850 28836 callbacks.py:241] Method (on_train_batch_end) is slow compared to the batch update (0.108515). Check your callbacks.\n"
     ]
    },
    {
     "name": "stdout",
     "output_type": "stream",
     "text": [
      "\n",
      "\n",
      "Epoch 00013: saving model to training_2/cp-0013.ckpt\n"
     ]
    },
    {
     "name": "stderr",
     "output_type": "stream",
     "text": [
      "W0622 16:27:23.562783 28836 callbacks.py:241] Method (on_train_batch_end) is slow compared to the batch update (0.108515). Check your callbacks.\n",
      "W0622 16:27:23.671300 28836 callbacks.py:241] Method (on_train_batch_end) is slow compared to the batch update (0.108515). Check your callbacks.\n"
     ]
    },
    {
     "name": "stdout",
     "output_type": "stream",
     "text": [
      "\n",
      "Epoch 00013: saving model to training_2/cp-0013.ckpt\n",
      "\n",
      "Epoch 00013: saving model to training_2/cp-0013.ckpt\n"
     ]
    },
    {
     "name": "stderr",
     "output_type": "stream",
     "text": [
      "W0622 16:27:23.830650 28836 callbacks.py:241] Method (on_train_batch_end) is slow compared to the batch update (0.113402). Check your callbacks.\n",
      "W0622 16:27:23.936233 28836 callbacks.py:241] Method (on_train_batch_end) is slow compared to the batch update (0.113402). Check your callbacks.\n"
     ]
    },
    {
     "name": "stdout",
     "output_type": "stream",
     "text": [
      "\n",
      "Epoch 00013: saving model to training_2/cp-0013.ckpt\n",
      "\n",
      "Epoch 00013: saving model to training_2/cp-0013.ckpt\n"
     ]
    },
    {
     "name": "stderr",
     "output_type": "stream",
     "text": [
      "W0622 16:27:24.066257 28836 callbacks.py:241] Method (on_train_batch_end) is slow compared to the batch update (0.113402). Check your callbacks.\n",
      "W0622 16:27:24.371272 28836 callbacks.py:241] Method (on_train_batch_end) is slow compared to the batch update (0.112427). Check your callbacks.\n"
     ]
    },
    {
     "name": "stdout",
     "output_type": "stream",
     "text": [
      "\n",
      "Epoch 00014: saving model to training_2/cp-0014.ckpt\n",
      "\n",
      "Epoch 00014: saving model to training_2/cp-0014.ckpt\n"
     ]
    },
    {
     "name": "stderr",
     "output_type": "stream",
     "text": [
      "W0622 16:27:24.543333 28836 callbacks.py:241] Method (on_train_batch_end) is slow compared to the batch update (0.132956). Check your callbacks.\n"
     ]
    },
    {
     "name": "stdout",
     "output_type": "stream",
     "text": [
      "\n",
      "Epoch 00014: saving model to training_2/cp-0014.ckpt\n"
     ]
    },
    {
     "name": "stderr",
     "output_type": "stream",
     "text": [
      "W0622 16:27:24.795560 28836 callbacks.py:241] Method (on_train_batch_end) is slow compared to the batch update (0.153485). Check your callbacks.\n"
     ]
    },
    {
     "name": "stdout",
     "output_type": "stream",
     "text": [
      "\n",
      "Epoch 00014: saving model to training_2/cp-0014.ckpt\n"
     ]
    },
    {
     "name": "stderr",
     "output_type": "stream",
     "text": [
      "W0622 16:27:25.051695 28836 callbacks.py:241] Method (on_train_batch_end) is slow compared to the batch update (0.168639). Check your callbacks.\n",
      "W0622 16:27:25.222779 28836 callbacks.py:241] Method (on_train_batch_end) is slow compared to the batch update (0.153485). Check your callbacks.\n"
     ]
    },
    {
     "name": "stdout",
     "output_type": "stream",
     "text": [
      "\n",
      "Epoch 00014: saving model to training_2/cp-0014.ckpt\n",
      "\n",
      "Epoch 00014: saving model to training_2/cp-0014.ckpt\n"
     ]
    },
    {
     "name": "stderr",
     "output_type": "stream",
     "text": [
      "W0622 16:27:25.367465 28836 callbacks.py:241] Method (on_train_batch_end) is slow compared to the batch update (0.145177). Check your callbacks.\n",
      "W0622 16:27:25.558099 28836 callbacks.py:241] Method (on_train_batch_end) is slow compared to the batch update (0.153485). Check your callbacks.\n"
     ]
    },
    {
     "name": "stdout",
     "output_type": "stream",
     "text": [
      "\n",
      "Epoch 00014: saving model to training_2/cp-0014.ckpt\n",
      "\n",
      "Epoch 00014: saving model to training_2/cp-0014.ckpt"
     ]
    },
    {
     "name": "stderr",
     "output_type": "stream",
     "text": [
      "W0622 16:27:25.738958 28836 callbacks.py:241] Method (on_train_batch_end) is slow compared to the batch update (0.159840). Check your callbacks.\n"
     ]
    },
    {
     "name": "stdout",
     "output_type": "stream",
     "text": [
      "\n",
      "\n",
      "Epoch 00014: saving model to training_2/cp-0014.ckpt\n"
     ]
    },
    {
     "name": "stderr",
     "output_type": "stream",
     "text": [
      "W0622 16:27:25.868983 28836 callbacks.py:241] Method (on_train_batch_end) is slow compared to the batch update (0.153485). Check your callbacks.\n",
      "W0622 16:27:25.996073 28836 callbacks.py:241] Method (on_train_batch_end) is slow compared to the batch update (0.145177). Check your callbacks.\n"
     ]
    },
    {
     "name": "stdout",
     "output_type": "stream",
     "text": [
      "\n",
      "Epoch 00014: saving model to training_2/cp-0014.ckpt\n",
      "\n",
      "Epoch 00014: saving model to training_2/cp-0014.ckpt\n"
     ]
    },
    {
     "name": "stderr",
     "output_type": "stream",
     "text": [
      "W0622 16:27:26.104588 28836 callbacks.py:241] Method (on_train_batch_end) is slow compared to the batch update (0.145177). Check your callbacks.\n",
      "W0622 16:27:26.229723 28836 callbacks.py:241] Method (on_train_batch_end) is slow compared to the batch update (0.132955). Check your callbacks.\n"
     ]
    },
    {
     "name": "stdout",
     "output_type": "stream",
     "text": [
      "\n",
      "Epoch 00014: saving model to training_2/cp-0014.ckpt\n",
      "\n",
      "Epoch 00014: saving model to training_2/cp-0014.ckpt\n"
     ]
    },
    {
     "name": "stderr",
     "output_type": "stream",
     "text": [
      "W0622 16:27:26.407648 28836 callbacks.py:241] Method (on_train_batch_end) is slow compared to the batch update (0.132955). Check your callbacks.\n"
     ]
    },
    {
     "name": "stdout",
     "output_type": "stream",
     "text": [
      "\n",
      "Epoch 00014: saving model to training_2/cp-0014.ckpt\n"
     ]
    },
    {
     "name": "stderr",
     "output_type": "stream",
     "text": [
      "W0622 16:27:26.683337 28836 callbacks.py:241] Method (on_train_batch_end) is slow compared to the batch update (0.132955). Check your callbacks.\n",
      "W0622 16:27:26.859308 28836 callbacks.py:241] Method (on_train_batch_end) is slow compared to the batch update (0.141753). Check your callbacks.\n"
     ]
    },
    {
     "name": "stdout",
     "output_type": "stream",
     "text": [
      "\n",
      "Epoch 00014: saving model to training_2/cp-0014.ckpt\n",
      "\n",
      "Epoch 00014: saving model to training_2/cp-0014.ckpt\n"
     ]
    },
    {
     "name": "stderr",
     "output_type": "stream",
     "text": [
      "W0622 16:27:27.074384 28836 callbacks.py:241] Method (on_train_batch_end) is slow compared to the batch update (0.158373). Check your callbacks.\n"
     ]
    },
    {
     "name": "stdout",
     "output_type": "stream",
     "text": [
      "\n",
      "Epoch 00014: saving model to training_2/cp-0014.ckpt\n"
     ]
    },
    {
     "name": "stderr",
     "output_type": "stream",
     "text": [
      "W0622 16:27:27.347138 28836 callbacks.py:241] Method (on_train_batch_end) is slow compared to the batch update (0.158373). Check your callbacks.\n"
     ]
    },
    {
     "name": "stdout",
     "output_type": "stream",
     "text": [
      "\n",
      "Epoch 00014: saving model to training_2/cp-0014.ckpt\n"
     ]
    },
    {
     "name": "stderr",
     "output_type": "stream",
     "text": [
      "W0622 16:27:27.978679 28836 callbacks.py:241] Method (on_train_batch_end) is slow compared to the batch update (0.158373). Check your callbacks.\n"
     ]
    },
    {
     "name": "stdout",
     "output_type": "stream",
     "text": [
      "\n",
      "Epoch 00014: saving model to training_2/cp-0014.ckpt\n"
     ]
    },
    {
     "name": "stderr",
     "output_type": "stream",
     "text": [
      "W0622 16:27:28.255344 28836 callbacks.py:241] Method (on_train_batch_end) is slow compared to the batch update (0.175970). Check your callbacks.\n"
     ]
    },
    {
     "name": "stdout",
     "output_type": "stream",
     "text": [
      "\n",
      "Epoch 00014: saving model to training_2/cp-0014.ckpt\n"
     ]
    },
    {
     "name": "stderr",
     "output_type": "stream",
     "text": [
      "W0622 16:27:28.586757 28836 callbacks.py:241] Method (on_train_batch_end) is slow compared to the batch update (0.211654). Check your callbacks.\n",
      "W0622 16:27:28.742198 28836 callbacks.py:241] Method (on_train_batch_end) is slow compared to the batch update (0.211654). Check your callbacks.\n"
     ]
    },
    {
     "name": "stdout",
     "output_type": "stream",
     "text": [
      "\n",
      "Epoch 00014: saving model to training_2/cp-0014.ckpt\n",
      "\n",
      "Epoch 00014: saving model to training_2/cp-0014.ckpt\n"
     ]
    },
    {
     "name": "stderr",
     "output_type": "stream",
     "text": [
      "W0622 16:27:29.085342 28836 callbacks.py:241] Method (on_train_batch_end) is slow compared to the batch update (0.239516). Check your callbacks.\n"
     ]
    },
    {
     "name": "stdout",
     "output_type": "stream",
     "text": [
      "\n",
      "Epoch 00014: saving model to training_2/cp-0014.ckpt\n"
     ]
    },
    {
     "name": "stderr",
     "output_type": "stream",
     "text": [
      "W0622 16:27:29.898720 28836 callbacks.py:241] Method (on_train_batch_end) is slow compared to the batch update (0.249781). Check your callbacks.\n"
     ]
    },
    {
     "name": "stdout",
     "output_type": "stream",
     "text": [
      "\n",
      "Epoch 00014: saving model to training_2/cp-0014.ckpt\n"
     ]
    },
    {
     "name": "stderr",
     "output_type": "stream",
     "text": [
      "W0622 16:27:30.301496 28836 callbacks.py:241] Method (on_train_batch_end) is slow compared to the batch update (0.271778). Check your callbacks.\n"
     ]
    },
    {
     "name": "stdout",
     "output_type": "stream",
     "text": [
      "\n",
      "Epoch 00014: saving model to training_2/cp-0014.ckpt\n"
     ]
    },
    {
     "name": "stderr",
     "output_type": "stream",
     "text": [
      "W0622 16:27:30.565453 28836 callbacks.py:241] Method (on_train_batch_end) is slow compared to the batch update (0.271778). Check your callbacks.\n"
     ]
    },
    {
     "name": "stdout",
     "output_type": "stream",
     "text": [
      "\n",
      "Epoch 00014: saving model to training_2/cp-0014.ckpt\n"
     ]
    },
    {
     "name": "stderr",
     "output_type": "stream",
     "text": [
      "W0622 16:27:31.050352 28836 callbacks.py:241] Method (on_train_batch_end) is slow compared to the batch update (0.303551). Check your callbacks.\n"
     ]
    },
    {
     "name": "stdout",
     "output_type": "stream",
     "text": [
      "\n",
      "Epoch 00014: saving model to training_2/cp-0014.ckpt\n"
     ]
    },
    {
     "name": "stderr",
     "output_type": "stream",
     "text": [
      "W0622 16:27:31.304533 28836 callbacks.py:241] Method (on_train_batch_end) is slow compared to the batch update (0.303551). Check your callbacks.\n",
      "W0622 16:27:31.477570 28836 callbacks.py:241] Method (on_train_batch_end) is slow compared to the batch update (0.265912). Check your callbacks.\n"
     ]
    },
    {
     "name": "stdout",
     "output_type": "stream",
     "text": [
      "\n",
      "Epoch 00014: saving model to training_2/cp-0014.ckpt\n",
      "\n",
      "Epoch 00014: saving model to training_2/cp-0014.ckpt\n"
     ]
    },
    {
     "name": "stderr",
     "output_type": "stream",
     "text": [
      "W0622 16:27:31.637901 28836 callbacks.py:241] Method (on_train_batch_end) is slow compared to the batch update (0.265423). Check your callbacks.\n"
     ]
    },
    {
     "name": "stdout",
     "output_type": "stream",
     "text": [
      "\n",
      "Epoch 00014: saving model to training_2/cp-0014.ckpt\n"
     ]
    },
    {
     "name": "stderr",
     "output_type": "stream",
     "text": [
      "W0622 16:27:31.899900 28836 callbacks.py:241] Method (on_train_batch_end) is slow compared to the batch update (0.238539). Check your callbacks.\n"
     ]
    },
    {
     "name": "stdout",
     "output_type": "stream",
     "text": [
      "\n",
      "Epoch 00014: saving model to training_2/cp-0014.ckpt\n"
     ]
    },
    {
     "name": "stderr",
     "output_type": "stream",
     "text": [
      "W0622 16:27:32.241090 28836 callbacks.py:241] Method (on_train_batch_end) is slow compared to the batch update (0.276667). Check your callbacks.\n",
      "W0622 16:27:32.381865 28836 callbacks.py:241] Method (on_train_batch_end) is slow compared to the batch update (0.238539). Check your callbacks.\n"
     ]
    },
    {
     "name": "stdout",
     "output_type": "stream",
     "text": [
      "\n",
      "Epoch 00014: saving model to training_2/cp-0014.ckpt\n"
     ]
    },
    {
     "name": "stderr",
     "output_type": "stream",
     "text": [
      "W0622 16:27:32.669285 28836 callbacks.py:241] Method (on_train_batch_end) is slow compared to the batch update (0.102649). Check your callbacks.\n"
     ]
    },
    {
     "name": "stdout",
     "output_type": "stream",
     "text": [
      "\n",
      "Epoch 00015: saving model to training_2/cp-0015.ckpt\n",
      "\n",
      "Epoch 00015: saving model to training_2/cp-0015.ckpt\n"
     ]
    },
    {
     "name": "stderr",
     "output_type": "stream",
     "text": [
      "W0622 16:27:32.824728 28836 callbacks.py:241] Method (on_train_batch_end) is slow compared to the batch update (0.116336). Check your callbacks.\n",
      "W0622 16:27:32.952794 28836 callbacks.py:241] Method (on_train_batch_end) is slow compared to the batch update (0.113404). Check your callbacks.\n"
     ]
    },
    {
     "name": "stdout",
     "output_type": "stream",
     "text": [
      "\n",
      "Epoch 00015: saving model to training_2/cp-0015.ckpt\n",
      "\n",
      "Epoch 00015: saving model to training_2/cp-0015.ckpt\n"
     ]
    },
    {
     "name": "stderr",
     "output_type": "stream",
     "text": [
      "W0622 16:27:33.083794 28836 callbacks.py:241] Method (on_train_batch_end) is slow compared to the batch update (0.114381). Check your callbacks.\n",
      "W0622 16:27:33.198176 28836 callbacks.py:241] Method (on_train_batch_end) is slow compared to the batch update (0.113404). Check your callbacks.\n"
     ]
    },
    {
     "name": "stdout",
     "output_type": "stream",
     "text": [
      "\n",
      "Epoch 00015: saving model to training_2/cp-0015.ckpt\n",
      "\n",
      "Epoch 00015: saving model to training_2/cp-0015.ckpt\n"
     ]
    },
    {
     "name": "stderr",
     "output_type": "stream",
     "text": [
      "W0622 16:27:33.350684 28836 callbacks.py:241] Method (on_train_batch_end) is slow compared to the batch update (0.114381). Check your callbacks.\n"
     ]
    },
    {
     "name": "stdout",
     "output_type": "stream",
     "text": [
      "\n",
      "Epoch 00015: saving model to training_2/cp-0015.ckpt\n"
     ]
    },
    {
     "name": "stderr",
     "output_type": "stream",
     "text": [
      "W0622 16:27:33.585314 28836 callbacks.py:241] Method (on_train_batch_end) is slow compared to the batch update (0.115359). Check your callbacks.\n"
     ]
    },
    {
     "name": "stdout",
     "output_type": "stream",
     "text": [
      "\n",
      "Epoch 00015: saving model to training_2/cp-0015.ckpt\n"
     ]
    },
    {
     "name": "stderr",
     "output_type": "stream",
     "text": [
      "W0622 16:27:33.919657 28836 callbacks.py:241] Method (on_train_batch_end) is slow compared to the batch update (0.122691). Check your callbacks.\n"
     ]
    },
    {
     "name": "stdout",
     "output_type": "stream",
     "text": [
      "\n",
      "Epoch 00015: saving model to training_2/cp-0015.ckpt\n"
     ]
    },
    {
     "name": "stderr",
     "output_type": "stream",
     "text": [
      "W0622 16:27:34.794625 28836 callbacks.py:241] Method (on_train_batch_end) is slow compared to the batch update (0.130023). Check your callbacks.\n",
      "W0622 16:27:34.948111 28836 callbacks.py:241] Method (on_train_batch_end) is slow compared to the batch update (0.130512). Check your callbacks.\n"
     ]
    },
    {
     "name": "stdout",
     "output_type": "stream",
     "text": [
      "\n",
      "Epoch 00015: saving model to training_2/cp-0015.ckpt\n",
      "\n",
      "Epoch 00015: saving model to training_2/cp-0015.ckpt\n"
     ]
    },
    {
     "name": "stderr",
     "output_type": "stream",
     "text": [
      "W0622 16:27:35.132881 28836 callbacks.py:241] Method (on_train_batch_end) is slow compared to the batch update (0.131978). Check your callbacks.\n"
     ]
    },
    {
     "name": "stdout",
     "output_type": "stream",
     "text": [
      "\n",
      "Epoch 00015: saving model to training_2/cp-0015.ckpt\n"
     ]
    },
    {
     "name": "stderr",
     "output_type": "stream",
     "text": [
      "W0622 16:27:35.530770 28836 callbacks.py:241] Method (on_train_batch_end) is slow compared to the batch update (0.151042). Check your callbacks.\n"
     ]
    },
    {
     "name": "stdout",
     "output_type": "stream",
     "text": [
      "\n",
      "Epoch 00015: saving model to training_2/cp-0015.ckpt\n"
     ]
    },
    {
     "name": "stderr",
     "output_type": "stream",
     "text": [
      "W0622 16:27:35.748779 28836 callbacks.py:241] Method (on_train_batch_end) is slow compared to the batch update (0.183792). Check your callbacks.\n"
     ]
    },
    {
     "name": "stdout",
     "output_type": "stream",
     "text": [
      "\n",
      "Epoch 00015: saving model to training_2/cp-0015.ckpt\n"
     ]
    },
    {
     "name": "stderr",
     "output_type": "stream",
     "text": [
      "W0622 16:27:35.970698 28836 callbacks.py:241] Method (on_train_batch_end) is slow compared to the batch update (0.200901). Check your callbacks.\n",
      "W0622 16:27:36.154490 28836 callbacks.py:241] Method (on_train_batch_end) is slow compared to the batch update (0.200901). Check your callbacks.\n"
     ]
    },
    {
     "name": "stdout",
     "output_type": "stream",
     "text": [
      "\n",
      "Epoch 00015: saving model to training_2/cp-0015.ckpt\n",
      "\n",
      "Epoch 00015: saving model to training_2/cp-0015.ckpt"
     ]
    },
    {
     "name": "stderr",
     "output_type": "stream",
     "text": [
      "W0622 16:27:36.298200 28836 callbacks.py:241] Method (on_train_batch_end) is slow compared to the batch update (0.200901). Check your callbacks.\n"
     ]
    },
    {
     "name": "stdout",
     "output_type": "stream",
     "text": [
      "\n",
      "\n",
      "Epoch 00015: saving model to training_2/cp-0015.ckpt\n"
     ]
    },
    {
     "name": "stderr",
     "output_type": "stream",
     "text": [
      "W0622 16:27:36.425289 28836 callbacks.py:241] Method (on_train_batch_end) is slow compared to the batch update (0.183792). Check your callbacks.\n",
      "W0622 16:27:36.553358 28836 callbacks.py:241] Method (on_train_batch_end) is slow compared to the batch update (0.168150). Check your callbacks.\n"
     ]
    },
    {
     "name": "stdout",
     "output_type": "stream",
     "text": [
      "\n",
      "Epoch 00015: saving model to training_2/cp-0015.ckpt\n",
      "\n",
      "Epoch 00015: saving model to training_2/cp-0015.ckpt\n"
     ]
    },
    {
     "name": "stderr",
     "output_type": "stream",
     "text": [
      "W0622 16:27:36.699022 28836 callbacks.py:241] Method (on_train_batch_end) is slow compared to the batch update (0.150064). Check your callbacks.\n",
      "W0622 16:27:36.860329 28836 callbacks.py:241] Method (on_train_batch_end) is slow compared to the batch update (0.149087). Check your callbacks.\n"
     ]
    },
    {
     "name": "stdout",
     "output_type": "stream",
     "text": [
      "\n",
      "Epoch 00015: saving model to training_2/cp-0015.ckpt\n",
      "\n",
      "Epoch 00015: saving model to training_2/cp-0015.ckpt\n"
     ]
    },
    {
     "name": "stderr",
     "output_type": "stream",
     "text": [
      "W0622 16:27:36.975687 28836 callbacks.py:241] Method (on_train_batch_end) is slow compared to the batch update (0.130023). Check your callbacks.\n",
      "W0622 16:27:37.107666 28836 callbacks.py:241] Method (on_train_batch_end) is slow compared to the batch update (0.126600). Check your callbacks.\n"
     ]
    },
    {
     "name": "stdout",
     "output_type": "stream",
     "text": [
      "\n",
      "Epoch 00015: saving model to training_2/cp-0015.ckpt\n",
      "\n",
      "Epoch 00015: saving model to training_2/cp-0015.ckpt\n"
     ]
    },
    {
     "name": "stderr",
     "output_type": "stream",
     "text": [
      "W0622 16:27:37.240622 28836 callbacks.py:241] Method (on_train_batch_end) is slow compared to the batch update (0.121224). Check your callbacks.\n",
      "W0622 16:27:37.370645 28836 callbacks.py:241] Method (on_train_batch_end) is slow compared to the batch update (0.116825). Check your callbacks.\n"
     ]
    },
    {
     "name": "stdout",
     "output_type": "stream",
     "text": [
      "\n",
      "Epoch 00015: saving model to training_2/cp-0015.ckpt\n",
      "\n",
      "Epoch 00015: saving model to training_2/cp-0015.ckpt\n"
     ]
    },
    {
     "name": "stderr",
     "output_type": "stream",
     "text": [
      "W0622 16:27:37.826215 28836 callbacks.py:241] Method (on_train_batch_end) is slow compared to the batch update (0.116825). Check your callbacks.\n"
     ]
    },
    {
     "name": "stdout",
     "output_type": "stream",
     "text": [
      "\n",
      "Epoch 00015: saving model to training_2/cp-0015.ckpt\n"
     ]
    },
    {
     "name": "stderr",
     "output_type": "stream",
     "text": [
      "W0622 16:27:38.219217 28836 callbacks.py:241] Method (on_train_batch_end) is slow compared to the batch update (0.116825). Check your callbacks.\n",
      "W0622 16:27:38.374657 28836 callbacks.py:241] Method (on_train_batch_end) is slow compared to the batch update (0.123668). Check your callbacks.\n"
     ]
    },
    {
     "name": "stdout",
     "output_type": "stream",
     "text": [
      "\n",
      "Epoch 00015: saving model to training_2/cp-0015.ckpt\n",
      "\n",
      "Epoch 00015: saving model to training_2/cp-0015.ckpt\n"
     ]
    },
    {
     "name": "stderr",
     "output_type": "stream",
     "text": [
      "W0622 16:27:38.614173 28836 callbacks.py:241] Method (on_train_batch_end) is slow compared to the batch update (0.130023). Check your callbacks.\n",
      "W0622 16:27:38.748107 28836 callbacks.py:241] Method (on_train_batch_end) is slow compared to the batch update (0.125623). Check your callbacks.\n"
     ]
    },
    {
     "name": "stdout",
     "output_type": "stream",
     "text": [
      "\n",
      "Epoch 00015: saving model to training_2/cp-0015.ckpt\n",
      "\n",
      "Epoch 00015: saving model to training_2/cp-0015.ckpt\n"
     ]
    },
    {
     "name": "stderr",
     "output_type": "stream",
     "text": [
      "W0622 16:27:38.864443 28836 callbacks.py:241] Method (on_train_batch_end) is slow compared to the batch update (0.119268). Check your callbacks.\n",
      "W0622 16:27:38.975892 28836 callbacks.py:241] Method (on_train_batch_end) is slow compared to the batch update (0.119268). Check your callbacks.\n"
     ]
    },
    {
     "name": "stdout",
     "output_type": "stream",
     "text": [
      "\n",
      "Epoch 00015: saving model to training_2/cp-0015.ckpt\n",
      "\n",
      "Epoch 00015: saving model to training_2/cp-0015.ckpt\n"
     ]
    },
    {
     "name": "stderr",
     "output_type": "stream",
     "text": [
      "W0622 16:27:39.099072 28836 callbacks.py:241] Method (on_train_batch_end) is slow compared to the batch update (0.119268). Check your callbacks.\n",
      "W0622 16:27:39.438305 28836 callbacks.py:241] Method (on_train_batch_end) is slow compared to the batch update (0.137845). Check your callbacks.\n"
     ]
    },
    {
     "name": "stdout",
     "output_type": "stream",
     "text": [
      "\n",
      "Epoch 00016: saving model to training_2/cp-0016.ckpt\n",
      "\n",
      "Epoch 00016: saving model to training_2/cp-0016.ckpt\n"
     ]
    },
    {
     "name": "stderr",
     "output_type": "stream",
     "text": [
      "W0622 16:27:39.841083 28836 callbacks.py:241] Method (on_train_batch_end) is slow compared to the batch update (0.261024). Check your callbacks.\n"
     ]
    },
    {
     "name": "stdout",
     "output_type": "stream",
     "text": [
      "\n",
      "Epoch 00016: saving model to training_2/cp-0016.ckpt\n"
     ]
    },
    {
     "name": "stderr",
     "output_type": "stream",
     "text": [
      "W0622 16:27:40.651527 28836 callbacks.py:241] Method (on_train_batch_end) is slow compared to the batch update (0.384203). Check your callbacks.\n"
     ]
    },
    {
     "name": "stdout",
     "output_type": "stream",
     "text": [
      "\n",
      "Epoch 00016: saving model to training_2/cp-0016.ckpt\n"
     ]
    },
    {
     "name": "stderr",
     "output_type": "stream",
     "text": [
      "W0622 16:27:41.386695 28836 callbacks.py:241] Method (on_train_batch_end) is slow compared to the batch update (0.548443). Check your callbacks.\n"
     ]
    },
    {
     "name": "stdout",
     "output_type": "stream",
     "text": [
      "\n",
      "Epoch 00016: saving model to training_2/cp-0016.ckpt\n"
     ]
    },
    {
     "name": "stderr",
     "output_type": "stream",
     "text": [
      "W0622 16:27:41.578309 28836 callbacks.py:241] Method (on_train_batch_end) is slow compared to the batch update (0.384203). Check your callbacks.\n",
      "W0622 16:27:41.721041 28836 callbacks.py:241] Method (on_train_batch_end) is slow compared to the batch update (0.278620). Check your callbacks.\n"
     ]
    },
    {
     "name": "stdout",
     "output_type": "stream",
     "text": [
      "\n",
      "Epoch 00016: saving model to training_2/cp-0016.ckpt\n",
      "\n",
      "Epoch 00016: saving model to training_2/cp-0016.ckpt\n"
     ]
    },
    {
     "name": "stderr",
     "output_type": "stream",
     "text": [
      "W0622 16:27:41.989885 28836 callbacks.py:241] Method (on_train_batch_end) is slow compared to the batch update (0.253203). Check your callbacks.\n"
     ]
    },
    {
     "name": "stdout",
     "output_type": "stream",
     "text": [
      "\n",
      "Epoch 00016: saving model to training_2/cp-0016.ckpt\n"
     ]
    },
    {
     "name": "stderr",
     "output_type": "stream",
     "text": [
      "W0622 16:27:42.260685 28836 callbacks.py:241] Method (on_train_batch_end) is slow compared to the batch update (0.240983). Check your callbacks.\n",
      "W0622 16:27:42.405374 28836 callbacks.py:241] Method (on_train_batch_end) is slow compared to the batch update (0.228762). Check your callbacks.\n"
     ]
    },
    {
     "name": "stdout",
     "output_type": "stream",
     "text": [
      "\n",
      "Epoch 00016: saving model to training_2/cp-0016.ckpt\n",
      "\n",
      "Epoch 00016: saving model to training_2/cp-0016.ckpt\n"
     ]
    },
    {
     "name": "stderr",
     "output_type": "stream",
     "text": [
      "W0622 16:27:42.522686 28836 callbacks.py:241] Method (on_train_batch_end) is slow compared to the batch update (0.200900). Check your callbacks.\n",
      "W0622 16:27:42.717232 28836 callbacks.py:241] Method (on_train_batch_end) is slow compared to the batch update (0.202367). Check your callbacks.\n"
     ]
    },
    {
     "name": "stdout",
     "output_type": "stream",
     "text": [
      "\n",
      "Epoch 00016: saving model to training_2/cp-0016.ckpt\n"
     ]
    },
    {
     "name": "stderr",
     "output_type": "stream",
     "text": [
      "W0622 16:27:42.862897 28836 callbacks.py:241] Method (on_train_batch_end) is slow compared to the batch update (0.174504). Check your callbacks.\n"
     ]
    },
    {
     "name": "stdout",
     "output_type": "stream",
     "text": [
      "\n",
      "Epoch 00016: saving model to training_2/cp-0016.ckpt\n",
      "\n",
      "Epoch 00016: saving model to training_2/cp-0016.ckpt\n"
     ]
    },
    {
     "name": "stderr",
     "output_type": "stream",
     "text": [
      "W0622 16:27:43.003674 28836 callbacks.py:241] Method (on_train_batch_end) is slow compared to the batch update (0.150552). Check your callbacks.\n",
      "W0622 16:27:43.153249 28836 callbacks.py:241] Method (on_train_batch_end) is slow compared to the batch update (0.130511). Check your callbacks.\n"
     ]
    },
    {
     "name": "stdout",
     "output_type": "stream",
     "text": [
      "\n",
      "Epoch 00016: saving model to training_2/cp-0016.ckpt\n",
      "\n",
      "Epoch 00016: saving model to training_2/cp-0016.ckpt\n"
     ]
    },
    {
     "name": "stderr",
     "output_type": "stream",
     "text": [
      "W0622 16:27:43.369303 28836 callbacks.py:241] Method (on_train_batch_end) is slow compared to the batch update (0.130511). Check your callbacks.\n",
      "W0622 16:27:43.566781 28836 callbacks.py:241] Method (on_train_batch_end) is slow compared to the batch update (0.154463). Check your callbacks.\n"
     ]
    },
    {
     "name": "stdout",
     "output_type": "stream",
     "text": [
      "\n",
      "Epoch 00016: saving model to training_2/cp-0016.ckpt\n",
      "\n",
      "Epoch 00016: saving model to training_2/cp-0016.ckpt\n"
     ]
    },
    {
     "name": "stderr",
     "output_type": "stream",
     "text": [
      "W0622 16:27:43.958806 28836 callbacks.py:241] Method (on_train_batch_end) is slow compared to the batch update (0.154463). Check your callbacks.\n",
      "W0622 16:27:44.103493 28836 callbacks.py:241] Method (on_train_batch_end) is slow compared to the batch update (0.130511). Check your callbacks.\n"
     ]
    },
    {
     "name": "stdout",
     "output_type": "stream",
     "text": [
      "\n",
      "Epoch 00016: saving model to training_2/cp-0016.ckpt\n",
      "\n",
      "Epoch 00016: saving model to training_2/cp-0016.ckpt\n"
     ]
    },
    {
     "name": "stderr",
     "output_type": "stream",
     "text": [
      "W0622 16:27:44.255023 28836 callbacks.py:241] Method (on_train_batch_end) is slow compared to the batch update (0.134911). Check your callbacks.\n",
      "W0622 16:27:44.428062 28836 callbacks.py:241] Method (on_train_batch_end) is slow compared to the batch update (0.134911). Check your callbacks.\n"
     ]
    },
    {
     "name": "stdout",
     "output_type": "stream",
     "text": [
      "\n",
      "Epoch 00016: saving model to training_2/cp-0016.ckpt\n",
      "\n",
      "Epoch 00016: saving model to training_2/cp-0016.ckpt\n"
     ]
    },
    {
     "name": "stderr",
     "output_type": "stream",
     "text": [
      "W0622 16:27:44.561995 28836 callbacks.py:241] Method (on_train_batch_end) is slow compared to the batch update (0.131001). Check your callbacks.\n",
      "W0622 16:27:44.707660 28836 callbacks.py:241] Method (on_train_batch_end) is slow compared to the batch update (0.131490). Check your callbacks.\n"
     ]
    },
    {
     "name": "stdout",
     "output_type": "stream",
     "text": [
      "\n",
      "Epoch 00016: saving model to training_2/cp-0016.ckpt\n",
      "\n",
      "Epoch 00016: saving model to training_2/cp-0016.ckpt\n"
     ]
    },
    {
     "name": "stderr",
     "output_type": "stream",
     "text": [
      "W0622 16:27:44.841594 28836 callbacks.py:241] Method (on_train_batch_end) is slow compared to the batch update (0.131490). Check your callbacks.\n",
      "W0622 16:27:44.968683 28836 callbacks.py:241] Method (on_train_batch_end) is slow compared to the batch update (0.129534). Check your callbacks.\n"
     ]
    },
    {
     "name": "stdout",
     "output_type": "stream",
     "text": [
      "\n",
      "Epoch 00016: saving model to training_2/cp-0016.ckpt\n",
      "\n",
      "Epoch 00016: saving model to training_2/cp-0016.ckpt\n"
     ]
    },
    {
     "name": "stderr",
     "output_type": "stream",
     "text": [
      "W0622 16:27:45.098708 28836 callbacks.py:241] Method (on_train_batch_end) is slow compared to the batch update (0.127579). Check your callbacks.\n",
      "W0622 16:27:45.219931 28836 callbacks.py:241] Method (on_train_batch_end) is slow compared to the batch update (0.123179). Check your callbacks.\n"
     ]
    },
    {
     "name": "stdout",
     "output_type": "stream",
     "text": [
      "\n",
      "Epoch 00016: saving model to training_2/cp-0016.ckpt\n",
      "\n",
      "Epoch 00016: saving model to training_2/cp-0016.ckpt\n"
     ]
    },
    {
     "name": "stderr",
     "output_type": "stream",
     "text": [
      "W0622 16:27:45.396880 28836 callbacks.py:241] Method (on_train_batch_end) is slow compared to the batch update (0.123179). Check your callbacks.\n"
     ]
    },
    {
     "name": "stdout",
     "output_type": "stream",
     "text": [
      "\n",
      "Epoch 00016: saving model to training_2/cp-0016.ckpt\n"
     ]
    },
    {
     "name": "stderr",
     "output_type": "stream",
     "text": [
      "W0622 16:27:45.978563 28836 callbacks.py:241] Method (on_train_batch_end) is slow compared to the batch update (0.124646). Check your callbacks.\n",
      "W0622 16:27:46.113474 28836 callbacks.py:241] Method (on_train_batch_end) is slow compared to the batch update (0.118781). Check your callbacks.\n"
     ]
    },
    {
     "name": "stdout",
     "output_type": "stream",
     "text": [
      "\n",
      "Epoch 00016: saving model to training_2/cp-0016.ckpt\n",
      "\n",
      "Epoch 00016: saving model to training_2/cp-0016.ckpt\n"
     ]
    },
    {
     "name": "stderr",
     "output_type": "stream",
     "text": [
      "W0622 16:27:46.253273 28836 callbacks.py:241] Method (on_train_batch_end) is slow compared to the batch update (0.118781). Check your callbacks.\n",
      "W0622 16:27:46.406758 28836 callbacks.py:241] Method (on_train_batch_end) is slow compared to the batch update (0.118292). Check your callbacks.\n"
     ]
    },
    {
     "name": "stdout",
     "output_type": "stream",
     "text": [
      "\n",
      "Epoch 00016: saving model to training_2/cp-0016.ckpt\n",
      "\n",
      "Epoch 00016: saving model to training_2/cp-0016.ckpt\n"
     ]
    },
    {
     "name": "stderr",
     "output_type": "stream",
     "text": [
      "W0622 16:27:46.538737 28836 callbacks.py:241] Method (on_train_batch_end) is slow compared to the batch update (0.118292). Check your callbacks.\n",
      "W0622 16:27:46.876992 28836 callbacks.py:241] Method (on_train_batch_end) is slow compared to the batch update (0.137844). Check your callbacks.\n"
     ]
    },
    {
     "name": "stdout",
     "output_type": "stream",
     "text": [
      "\n",
      "Epoch 00017: saving model to training_2/cp-0017.ckpt\n",
      "\n",
      "Epoch 00017: saving model to training_2/cp-0017.ckpt\n"
     ]
    },
    {
     "name": "stderr",
     "output_type": "stream",
     "text": [
      "W0622 16:27:47.006037 28836 callbacks.py:241] Method (on_train_batch_end) is slow compared to the batch update (0.126112). Check your callbacks.\n",
      "W0622 16:27:47.140949 28836 callbacks.py:241] Method (on_train_batch_end) is slow compared to the batch update (0.122202). Check your callbacks.\n"
     ]
    },
    {
     "name": "stdout",
     "output_type": "stream",
     "text": [
      "\n",
      "Epoch 00017: saving model to training_2/cp-0017.ckpt\n",
      "\n",
      "Epoch 00017: saving model to training_2/cp-0017.ckpt\n"
     ]
    },
    {
     "name": "stderr",
     "output_type": "stream",
     "text": [
      "W0622 16:27:47.275860 28836 callbacks.py:241] Method (on_train_batch_end) is slow compared to the batch update (0.121713). Check your callbacks.\n",
      "W0622 16:27:47.436189 28836 callbacks.py:241] Method (on_train_batch_end) is slow compared to the batch update (0.122202). Check your callbacks.\n"
     ]
    },
    {
     "name": "stdout",
     "output_type": "stream",
     "text": [
      "\n",
      "Epoch 00017: saving model to training_2/cp-0017.ckpt\n",
      "\n",
      "Epoch 00017: saving model to training_2/cp-0017.ckpt\n"
     ]
    },
    {
     "name": "stderr",
     "output_type": "stream",
     "text": [
      "W0622 16:27:47.563279 28836 callbacks.py:241] Method (on_train_batch_end) is slow compared to the batch update (0.121713). Check your callbacks.\n",
      "W0622 16:27:47.691348 28836 callbacks.py:241] Method (on_train_batch_end) is slow compared to the batch update (0.121224). Check your callbacks.\n"
     ]
    },
    {
     "name": "stdout",
     "output_type": "stream",
     "text": [
      "\n",
      "Epoch 00017: saving model to training_2/cp-0017.ckpt\n",
      "\n",
      "Epoch 00017: saving model to training_2/cp-0017.ckpt\n"
     ]
    },
    {
     "name": "stderr",
     "output_type": "stream",
     "text": [
      "W0622 16:27:47.831146 28836 callbacks.py:241] Method (on_train_batch_end) is slow compared to the batch update (0.121713). Check your callbacks.\n",
      "W0622 16:27:47.958237 28836 callbacks.py:241] Method (on_train_batch_end) is slow compared to the batch update (0.121224). Check your callbacks.\n"
     ]
    },
    {
     "name": "stdout",
     "output_type": "stream",
     "text": [
      "\n",
      "Epoch 00017: saving model to training_2/cp-0017.ckpt\n",
      "\n",
      "Epoch 00017: saving model to training_2/cp-0017.ckpt\n"
     ]
    },
    {
     "name": "stderr",
     "output_type": "stream",
     "text": [
      "W0622 16:27:48.096080 28836 callbacks.py:241] Method (on_train_batch_end) is slow compared to the batch update (0.121713). Check your callbacks.\n",
      "W0622 16:27:48.235880 28836 callbacks.py:241] Method (on_train_batch_end) is slow compared to the batch update (0.121713). Check your callbacks.\n"
     ]
    },
    {
     "name": "stdout",
     "output_type": "stream",
     "text": [
      "\n",
      "Epoch 00017: saving model to training_2/cp-0017.ckpt\n",
      "\n",
      "Epoch 00017: saving model to training_2/cp-0017.ckpt\n"
     ]
    },
    {
     "name": "stderr",
     "output_type": "stream",
     "text": [
      "W0622 16:27:48.364925 28836 callbacks.py:241] Method (on_train_batch_end) is slow compared to the batch update (0.121713). Check your callbacks.\n",
      "W0622 16:27:48.495926 28836 callbacks.py:241] Method (on_train_batch_end) is slow compared to the batch update (0.119270). Check your callbacks.\n"
     ]
    },
    {
     "name": "stdout",
     "output_type": "stream",
     "text": [
      "\n",
      "Epoch 00017: saving model to training_2/cp-0017.ckpt\n",
      "\n",
      "Epoch 00017: saving model to training_2/cp-0017.ckpt\n"
     ]
    },
    {
     "name": "stderr",
     "output_type": "stream",
     "text": [
      "W0622 16:27:48.638658 28836 callbacks.py:241] Method (on_train_batch_end) is slow compared to the batch update (0.120247). Check your callbacks.\n",
      "W0622 16:27:48.773569 28836 callbacks.py:241] Method (on_train_batch_end) is slow compared to the batch update (0.118781). Check your callbacks.\n"
     ]
    },
    {
     "name": "stdout",
     "output_type": "stream",
     "text": [
      "\n",
      "Epoch 00017: saving model to training_2/cp-0017.ckpt\n",
      "\n",
      "Epoch 00017: saving model to training_2/cp-0017.ckpt\n"
     ]
    },
    {
     "name": "stderr",
     "output_type": "stream",
     "text": [
      "W0622 16:27:48.906525 28836 callbacks.py:241] Method (on_train_batch_end) is slow compared to the batch update (0.119758). Check your callbacks.\n",
      "W0622 16:27:49.047302 28836 callbacks.py:241] Method (on_train_batch_end) is slow compared to the batch update (0.121713). Check your callbacks.\n"
     ]
    },
    {
     "name": "stdout",
     "output_type": "stream",
     "text": [
      "\n",
      "Epoch 00017: saving model to training_2/cp-0017.ckpt\n",
      "\n",
      "Epoch 00017: saving model to training_2/cp-0017.ckpt\n"
     ]
    },
    {
     "name": "stderr",
     "output_type": "stream",
     "text": [
      "W0622 16:27:49.178303 28836 callbacks.py:241] Method (on_train_batch_end) is slow compared to the batch update (0.119758). Check your callbacks.\n",
      "W0622 16:27:49.322990 28836 callbacks.py:241] Method (on_train_batch_end) is slow compared to the batch update (0.121225). Check your callbacks.\n"
     ]
    },
    {
     "name": "stdout",
     "output_type": "stream",
     "text": [
      "\n",
      "Epoch 00017: saving model to training_2/cp-0017.ckpt\n",
      "\n",
      "Epoch 00017: saving model to training_2/cp-0017.ckpt\n"
     ]
    },
    {
     "name": "stderr",
     "output_type": "stream",
     "text": [
      "W0622 16:27:49.456923 28836 callbacks.py:241] Method (on_train_batch_end) is slow compared to the batch update (0.120735). Check your callbacks.\n",
      "W0622 16:27:49.594767 28836 callbacks.py:241] Method (on_train_batch_end) is slow compared to the batch update (0.120735). Check your callbacks.\n"
     ]
    },
    {
     "name": "stdout",
     "output_type": "stream",
     "text": [
      "\n",
      "Epoch 00017: saving model to training_2/cp-0017.ckpt\n",
      "\n",
      "Epoch 00017: saving model to training_2/cp-0017.ckpt\n"
     ]
    },
    {
     "name": "stderr",
     "output_type": "stream",
     "text": [
      "W0622 16:27:49.734566 28836 callbacks.py:241] Method (on_train_batch_end) is slow compared to the batch update (0.121224). Check your callbacks.\n",
      "W0622 16:27:49.863612 28836 callbacks.py:241] Method (on_train_batch_end) is slow compared to the batch update (0.121224). Check your callbacks.\n"
     ]
    },
    {
     "name": "stdout",
     "output_type": "stream",
     "text": [
      "\n",
      "Epoch 00017: saving model to training_2/cp-0017.ckpt\n",
      "\n",
      "Epoch 00017: saving model to training_2/cp-0017.ckpt\n"
     ]
    },
    {
     "name": "stderr",
     "output_type": "stream",
     "text": [
      "W0622 16:27:50.001457 28836 callbacks.py:241] Method (on_train_batch_end) is slow compared to the batch update (0.121224). Check your callbacks.\n",
      "W0622 16:27:50.133434 28836 callbacks.py:241] Method (on_train_batch_end) is slow compared to the batch update (0.121224). Check your callbacks.\n"
     ]
    },
    {
     "name": "stdout",
     "output_type": "stream",
     "text": [
      "\n",
      "Epoch 00017: saving model to training_2/cp-0017.ckpt\n",
      "\n",
      "Epoch 00017: saving model to training_2/cp-0017.ckpt\n"
     ]
    },
    {
     "name": "stderr",
     "output_type": "stream",
     "text": [
      "W0622 16:27:50.288875 28836 callbacks.py:241] Method (on_train_batch_end) is slow compared to the batch update (0.121714). Check your callbacks.\n",
      "W0622 16:27:50.422810 28836 callbacks.py:241] Method (on_train_batch_end) is slow compared to the batch update (0.121224). Check your callbacks.\n"
     ]
    },
    {
     "name": "stdout",
     "output_type": "stream",
     "text": [
      "\n",
      "Epoch 00017: saving model to training_2/cp-0017.ckpt\n",
      "\n",
      "Epoch 00017: saving model to training_2/cp-0017.ckpt\n"
     ]
    },
    {
     "name": "stderr",
     "output_type": "stream",
     "text": [
      "W0622 16:27:50.549899 28836 callbacks.py:241] Method (on_train_batch_end) is slow compared to the batch update (0.121224). Check your callbacks.\n",
      "W0622 16:27:50.722937 28836 callbacks.py:241] Method (on_train_batch_end) is slow compared to the batch update (0.121224). Check your callbacks.\n"
     ]
    },
    {
     "name": "stdout",
     "output_type": "stream",
     "text": [
      "\n",
      "Epoch 00017: saving model to training_2/cp-0017.ckpt\n",
      "\n",
      "Epoch 00017: saving model to training_2/cp-0017.ckpt\n"
     ]
    },
    {
     "name": "stderr",
     "output_type": "stream",
     "text": [
      "W0622 16:27:50.822654 28836 callbacks.py:241] Method (on_train_batch_end) is slow compared to the batch update (0.119757). Check your callbacks.\n",
      "W0622 16:27:50.942902 28836 callbacks.py:241] Method (on_train_batch_end) is slow compared to the batch update (0.117802). Check your callbacks.\n"
     ]
    },
    {
     "name": "stdout",
     "output_type": "stream",
     "text": [
      "\n",
      "Epoch 00017: saving model to training_2/cp-0017.ckpt\n",
      "\n",
      "Epoch 00017: saving model to training_2/cp-0017.ckpt\n"
     ]
    },
    {
     "name": "stderr",
     "output_type": "stream",
     "text": [
      "W0622 16:27:51.054350 28836 callbacks.py:241] Method (on_train_batch_end) is slow compared to the batch update (0.115358). Check your callbacks.\n"
     ]
    },
    {
     "name": "stdout",
     "output_type": "stream",
     "text": [
      "\n",
      "Epoch 00018: saving model to training_2/cp-0018.ckpt\n",
      "\n",
      "Epoch 00018: saving model to training_2/cp-0018.ckpt\n"
     ]
    },
    {
     "name": "stderr",
     "output_type": "stream",
     "text": [
      "W0622 16:27:51.449307 28836 callbacks.py:241] Method (on_train_batch_end) is slow compared to the batch update (0.103139). Check your callbacks.\n",
      "W0622 16:27:51.604748 28836 callbacks.py:241] Method (on_train_batch_end) is slow compared to the batch update (0.113405). Check your callbacks.\n"
     ]
    },
    {
     "name": "stdout",
     "output_type": "stream",
     "text": [
      "\n",
      "Epoch 00018: saving model to training_2/cp-0018.ckpt\n",
      "\n",
      "Epoch 00018: saving model to training_2/cp-0018.ckpt\n"
     ]
    },
    {
     "name": "stderr",
     "output_type": "stream",
     "text": [
      "W0622 16:27:51.715218 28836 callbacks.py:241] Method (on_train_batch_end) is slow compared to the batch update (0.105094). Check your callbacks.\n"
     ]
    },
    {
     "name": "stdout",
     "output_type": "stream",
     "text": [
      "\n",
      "Epoch 00018: saving model to training_2/cp-0018.ckpt\n",
      "\n",
      "Epoch 00018: saving model to training_2/cp-0018.ckpt\n",
      "\n",
      "Epoch 00018: saving model to training_2/cp-0018.ckpt\n",
      "\n",
      "Epoch 00018: saving model to training_2/cp-0018.ckpt\n",
      "\n",
      "Epoch 00018: saving model to training_2/cp-0018.ckpt\n",
      "\n",
      "Epoch 00018: saving model to training_2/cp-0018.ckpt\n"
     ]
    },
    {
     "name": "stderr",
     "output_type": "stream",
     "text": [
      "W0622 16:27:52.501222 28836 callbacks.py:241] Method (on_train_batch_end) is slow compared to the batch update (0.103626). Check your callbacks.\n"
     ]
    },
    {
     "name": "stdout",
     "output_type": "stream",
     "text": [
      "\n",
      "Epoch 00018: saving model to training_2/cp-0018.ckpt\n",
      "\n",
      "Epoch 00018: saving model to training_2/cp-0018.ckpt\n"
     ]
    },
    {
     "name": "stderr",
     "output_type": "stream",
     "text": [
      "W0622 16:27:52.623425 28836 callbacks.py:241] Method (on_train_batch_end) is slow compared to the batch update (0.101672). Check your callbacks.\n",
      "W0622 16:27:52.758336 28836 callbacks.py:241] Method (on_train_batch_end) is slow compared to the batch update (0.101672). Check your callbacks.\n"
     ]
    },
    {
     "name": "stdout",
     "output_type": "stream",
     "text": [
      "\n",
      "Epoch 00018: saving model to training_2/cp-0018.ckpt\n",
      "\n",
      "Epoch 00018: saving model to training_2/cp-0018.ckpt\n"
     ]
    },
    {
     "name": "stderr",
     "output_type": "stream",
     "text": [
      "W0622 16:27:52.876628 28836 callbacks.py:241] Method (on_train_batch_end) is slow compared to the batch update (0.105583). Check your callbacks.\n",
      "W0622 16:27:52.997851 28836 callbacks.py:241] Method (on_train_batch_end) is slow compared to the batch update (0.106071). Check your callbacks.\n"
     ]
    },
    {
     "name": "stdout",
     "output_type": "stream",
     "text": [
      "\n",
      "Epoch 00018: saving model to training_2/cp-0018.ckpt\n",
      "\n",
      "Epoch 00018: saving model to training_2/cp-0018.ckpt\n"
     ]
    },
    {
     "name": "stderr",
     "output_type": "stream",
     "text": [
      "W0622 16:27:53.099525 28836 callbacks.py:241] Method (on_train_batch_end) is slow compared to the batch update (0.106071). Check your callbacks.\n",
      "W0622 16:27:53.227591 28836 callbacks.py:241] Method (on_train_batch_end) is slow compared to the batch update (0.106071). Check your callbacks.\n"
     ]
    },
    {
     "name": "stdout",
     "output_type": "stream",
     "text": [
      "\n",
      "Epoch 00018: saving model to training_2/cp-0018.ckpt\n",
      "\n",
      "Epoch 00018: saving model to training_2/cp-0018.ckpt\n"
     ]
    },
    {
     "name": "stderr",
     "output_type": "stream",
     "text": [
      "W0622 16:27:53.351749 28836 callbacks.py:241] Method (on_train_batch_end) is slow compared to the batch update (0.108026). Check your callbacks.\n",
      "W0622 16:27:53.475907 28836 callbacks.py:241] Method (on_train_batch_end) is slow compared to the batch update (0.108025). Check your callbacks.\n"
     ]
    },
    {
     "name": "stdout",
     "output_type": "stream",
     "text": [
      "\n",
      "Epoch 00018: saving model to training_2/cp-0018.ckpt\n",
      "\n",
      "Epoch 00018: saving model to training_2/cp-0018.ckpt\n"
     ]
    },
    {
     "name": "stderr",
     "output_type": "stream",
     "text": [
      "W0622 16:27:53.600064 28836 callbacks.py:241] Method (on_train_batch_end) is slow compared to the batch update (0.109493). Check your callbacks.\n",
      "W0622 16:27:53.725199 28836 callbacks.py:241] Method (on_train_batch_end) is slow compared to the batch update (0.109493). Check your callbacks.\n"
     ]
    },
    {
     "name": "stdout",
     "output_type": "stream",
     "text": [
      "\n",
      "Epoch 00018: saving model to training_2/cp-0018.ckpt\n",
      "\n",
      "Epoch 00018: saving model to training_2/cp-0018.ckpt\n"
     ]
    },
    {
     "name": "stderr",
     "output_type": "stream",
     "text": [
      "W0622 16:27:53.845446 28836 callbacks.py:241] Method (on_train_batch_end) is slow compared to the batch update (0.109493). Check your callbacks.\n",
      "W0622 16:27:53.969603 28836 callbacks.py:241] Method (on_train_batch_end) is slow compared to the batch update (0.109493). Check your callbacks.\n"
     ]
    },
    {
     "name": "stdout",
     "output_type": "stream",
     "text": [
      "\n",
      "Epoch 00018: saving model to training_2/cp-0018.ckpt\n",
      "\n",
      "Epoch 00018: saving model to training_2/cp-0018.ckpt\n"
     ]
    },
    {
     "name": "stderr",
     "output_type": "stream",
     "text": [
      "W0622 16:27:54.111358 28836 callbacks.py:241] Method (on_train_batch_end) is slow compared to the batch update (0.109982). Check your callbacks.\n",
      "W0622 16:27:54.252133 28836 callbacks.py:241] Method (on_train_batch_end) is slow compared to the batch update (0.110470). Check your callbacks.\n"
     ]
    },
    {
     "name": "stdout",
     "output_type": "stream",
     "text": [
      "\n",
      "Epoch 00018: saving model to training_2/cp-0018.ckpt\n",
      "\n",
      "Epoch 00018: saving model to training_2/cp-0018.ckpt\n"
     ]
    },
    {
     "name": "stderr",
     "output_type": "stream",
     "text": [
      "W0622 16:27:54.380202 28836 callbacks.py:241] Method (on_train_batch_end) is slow compared to the batch update (0.110471). Check your callbacks.\n",
      "W0622 16:27:54.520979 28836 callbacks.py:241] Method (on_train_batch_end) is slow compared to the batch update (0.110471). Check your callbacks.\n"
     ]
    },
    {
     "name": "stdout",
     "output_type": "stream",
     "text": [
      "\n",
      "Epoch 00018: saving model to training_2/cp-0018.ckpt\n",
      "\n",
      "Epoch 00018: saving model to training_2/cp-0018.ckpt\n"
     ]
    },
    {
     "name": "stderr",
     "output_type": "stream",
     "text": [
      "W0622 16:27:54.738988 28836 callbacks.py:241] Method (on_train_batch_end) is slow compared to the batch update (0.110960). Check your callbacks.\n",
      "W0622 16:27:54.913003 28836 callbacks.py:241] Method (on_train_batch_end) is slow compared to the batch update (0.117803). Check your callbacks.\n"
     ]
    },
    {
     "name": "stdout",
     "output_type": "stream",
     "text": [
      "\n",
      "Epoch 00018: saving model to training_2/cp-0018.ckpt\n",
      "\n",
      "Epoch 00018: saving model to training_2/cp-0018.ckpt\n"
     ]
    },
    {
     "name": "stderr",
     "output_type": "stream",
     "text": [
      "W0622 16:27:55.033250 28836 callbacks.py:241] Method (on_train_batch_end) is slow compared to the batch update (0.117803). Check your callbacks.\n",
      "W0622 16:27:55.149588 28836 callbacks.py:241] Method (on_train_batch_end) is slow compared to the batch update (0.117803). Check your callbacks.\n"
     ]
    },
    {
     "name": "stdout",
     "output_type": "stream",
     "text": [
      "\n",
      "Epoch 00018: saving model to training_2/cp-0018.ckpt\n",
      "\n",
      "Epoch 00018: saving model to training_2/cp-0018.ckpt\n"
     ]
    },
    {
     "name": "stderr",
     "output_type": "stream",
     "text": [
      "W0622 16:27:55.271788 28836 callbacks.py:241] Method (on_train_batch_end) is slow compared to the batch update (0.118292). Check your callbacks.\n",
      "W0622 16:27:55.547477 28836 callbacks.py:241] Method (on_train_batch_end) is slow compared to the batch update (0.100695). Check your callbacks.\n"
     ]
    },
    {
     "name": "stdout",
     "output_type": "stream",
     "text": [
      "\n",
      "Epoch 00019: saving model to training_2/cp-0019.ckpt\n",
      "\n",
      "Epoch 00019: saving model to training_2/cp-0019.ckpt\n"
     ]
    },
    {
     "name": "stderr",
     "output_type": "stream",
     "text": [
      "W0622 16:27:55.680433 28836 callbacks.py:241] Method (on_train_batch_end) is slow compared to the batch update (0.109493). Check your callbacks.\n",
      "W0622 16:27:55.848582 28836 callbacks.py:241] Method (on_train_batch_end) is slow compared to the batch update (0.118291). Check your callbacks.\n"
     ]
    },
    {
     "name": "stdout",
     "output_type": "stream",
     "text": [
      "\n",
      "Epoch 00019: saving model to training_2/cp-0019.ckpt\n",
      "\n",
      "Epoch 00019: saving model to training_2/cp-0019.ckpt\n"
     ]
    },
    {
     "name": "stderr",
     "output_type": "stream",
     "text": [
      "W0622 16:27:55.981539 28836 callbacks.py:241] Method (on_train_batch_end) is slow compared to the batch update (0.117314). Check your callbacks.\n",
      "W0622 16:27:56.129159 28836 callbacks.py:241] Method (on_train_batch_end) is slow compared to the batch update (0.118291). Check your callbacks.\n"
     ]
    },
    {
     "name": "stdout",
     "output_type": "stream",
     "text": [
      "\n",
      "Epoch 00019: saving model to training_2/cp-0019.ckpt\n",
      "\n",
      "Epoch 00019: saving model to training_2/cp-0019.ckpt\n"
     ]
    },
    {
     "name": "stderr",
     "output_type": "stream",
     "text": [
      "W0622 16:27:56.306107 28836 callbacks.py:241] Method (on_train_batch_end) is slow compared to the batch update (0.125624). Check your callbacks.\n",
      "W0622 16:27:56.422444 28836 callbacks.py:241] Method (on_train_batch_end) is slow compared to the batch update (0.118291). Check your callbacks.\n"
     ]
    },
    {
     "name": "stdout",
     "output_type": "stream",
     "text": [
      "\n",
      "Epoch 00019: saving model to training_2/cp-0019.ckpt\n",
      "\n",
      "Epoch 00019: saving model to training_2/cp-0019.ckpt\n"
     ]
    },
    {
     "name": "stderr",
     "output_type": "stream",
     "text": [
      "W0622 16:27:56.541713 28836 callbacks.py:241] Method (on_train_batch_end) is slow compared to the batch update (0.117314). Check your callbacks.\n",
      "W0622 16:27:56.641430 28836 callbacks.py:241] Method (on_train_batch_end) is slow compared to the batch update (0.116336). Check your callbacks.\n"
     ]
    },
    {
     "name": "stdout",
     "output_type": "stream",
     "text": [
      "\n",
      "Epoch 00019: saving model to training_2/cp-0019.ckpt\n",
      "\n",
      "Epoch 00019: saving model to training_2/cp-0019.ckpt\n"
     ]
    },
    {
     "name": "stderr",
     "output_type": "stream",
     "text": [
      "W0622 16:27:56.755811 28836 callbacks.py:241] Method (on_train_batch_end) is slow compared to the batch update (0.110470). Check your callbacks.\n",
      "W0622 16:27:56.855528 28836 callbacks.py:241] Method (on_train_batch_end) is slow compared to the batch update (0.110470). Check your callbacks.\n",
      "W0622 16:27:56.950357 28836 callbacks.py:241] Method (on_train_batch_end) is slow compared to the batch update (0.104117). Check your callbacks.\n"
     ]
    },
    {
     "name": "stdout",
     "output_type": "stream",
     "text": [
      "\n",
      "Epoch 00019: saving model to training_2/cp-0019.ckpt\n",
      "\n",
      "Epoch 00019: saving model to training_2/cp-0019.ckpt\n",
      "\n",
      "Epoch 00019: saving model to training_2/cp-0019.ckpt"
     ]
    },
    {
     "name": "stderr",
     "output_type": "stream",
     "text": [
      "W0622 16:27:57.064738 28836 callbacks.py:241] Method (on_train_batch_end) is slow compared to the batch update (0.103139). Check your callbacks.\n"
     ]
    },
    {
     "name": "stdout",
     "output_type": "stream",
     "text": [
      "\n",
      "\n",
      "Epoch 00019: saving model to training_2/cp-0019.ckpt\n"
     ]
    },
    {
     "name": "stderr",
     "output_type": "stream",
     "text": [
      "W0622 16:27:57.169342 28836 callbacks.py:241] Method (on_train_batch_end) is slow compared to the batch update (0.102161). Check your callbacks.\n",
      "W0622 16:27:57.294478 28836 callbacks.py:241] Method (on_train_batch_end) is slow compared to the batch update (0.102161). Check your callbacks.\n"
     ]
    },
    {
     "name": "stdout",
     "output_type": "stream",
     "text": [
      "\n",
      "Epoch 00019: saving model to training_2/cp-0019.ckpt\n",
      "\n",
      "Epoch 00019: saving model to training_2/cp-0019.ckpt\n",
      "\n",
      "Epoch 00019: saving model to training_2/cp-0019.ckpt\n",
      "\n",
      "Epoch 00019: saving model to training_2/cp-0019.ckpt\n"
     ]
    },
    {
     "name": "stderr",
     "output_type": "stream",
     "text": [
      "W0622 16:27:57.742227 28836 callbacks.py:241] Method (on_train_batch_end) is slow compared to the batch update (0.100695). Check your callbacks.\n"
     ]
    },
    {
     "name": "stdout",
     "output_type": "stream",
     "text": [
      "\n",
      "Epoch 00019: saving model to training_2/cp-0019.ckpt\n",
      "\n",
      "Epoch 00019: saving model to training_2/cp-0019.ckpt\n"
     ]
    },
    {
     "name": "stderr",
     "output_type": "stream",
     "text": [
      "W0622 16:27:57.860518 28836 callbacks.py:241] Method (on_train_batch_end) is slow compared to the batch update (0.100695). Check your callbacks.\n",
      "W0622 16:27:57.962191 28836 callbacks.py:241] Method (on_train_batch_end) is slow compared to the batch update (0.100695). Check your callbacks.\n"
     ]
    },
    {
     "name": "stdout",
     "output_type": "stream",
     "text": [
      "\n",
      "Epoch 00019: saving model to training_2/cp-0019.ckpt\n",
      "\n",
      "Epoch 00019: saving model to training_2/cp-0019.ckpt\n"
     ]
    },
    {
     "name": "stderr",
     "output_type": "stream",
     "text": [
      "W0622 16:27:58.078527 28836 callbacks.py:241] Method (on_train_batch_end) is slow compared to the batch update (0.102161). Check your callbacks.\n",
      "W0622 16:27:58.216371 28836 callbacks.py:241] Method (on_train_batch_end) is slow compared to the batch update (0.102650). Check your callbacks.\n"
     ]
    },
    {
     "name": "stdout",
     "output_type": "stream",
     "text": [
      "\n",
      "Epoch 00019: saving model to training_2/cp-0019.ckpt\n",
      "\n",
      "Epoch 00019: saving model to training_2/cp-0019.ckpt\n"
     ]
    },
    {
     "name": "stderr",
     "output_type": "stream",
     "text": [
      "W0622 16:27:58.350305 28836 callbacks.py:241] Method (on_train_batch_end) is slow compared to the batch update (0.104116). Check your callbacks.\n",
      "W0622 16:27:58.448068 28836 callbacks.py:241] Method (on_train_batch_end) is slow compared to the batch update (0.102650). Check your callbacks.\n"
     ]
    },
    {
     "name": "stdout",
     "output_type": "stream",
     "text": [
      "\n",
      "Epoch 00019: saving model to training_2/cp-0019.ckpt\n",
      "\n",
      "Epoch 00019: saving model to training_2/cp-0019.ckpt\n"
     ]
    },
    {
     "name": "stderr",
     "output_type": "stream",
     "text": [
      "W0622 16:27:58.565380 28836 callbacks.py:241] Method (on_train_batch_end) is slow compared to the batch update (0.103628). Check your callbacks.\n",
      "W0622 16:27:58.680739 28836 callbacks.py:241] Method (on_train_batch_end) is slow compared to the batch update (0.102650). Check your callbacks.\n"
     ]
    },
    {
     "name": "stdout",
     "output_type": "stream",
     "text": [
      "\n",
      "Epoch 00019: saving model to training_2/cp-0019.ckpt\n",
      "\n",
      "Epoch 00019: saving model to training_2/cp-0019.ckpt\n"
     ]
    },
    {
     "name": "stderr",
     "output_type": "stream",
     "text": [
      "W0622 16:27:58.790232 28836 callbacks.py:241] Method (on_train_batch_end) is slow compared to the batch update (0.102650). Check your callbacks.\n",
      "W0622 16:27:58.896792 28836 callbacks.py:241] Method (on_train_batch_end) is slow compared to the batch update (0.102650). Check your callbacks.\n"
     ]
    },
    {
     "name": "stdout",
     "output_type": "stream",
     "text": [
      "\n",
      "Epoch 00019: saving model to training_2/cp-0019.ckpt\n",
      "\n",
      "Epoch 00019: saving model to training_2/cp-0019.ckpt\n"
     ]
    },
    {
     "name": "stderr",
     "output_type": "stream",
     "text": [
      "W0622 16:27:59.104047 28836 callbacks.py:241] Method (on_train_batch_end) is slow compared to the batch update (0.101672). Check your callbacks.\n"
     ]
    },
    {
     "name": "stdout",
     "output_type": "stream",
     "text": [
      "\n",
      "Epoch 00019: saving model to training_2/cp-0019.ckpt\n",
      "\n",
      "Epoch 00019: saving model to training_2/cp-0019.ckpt\n"
     ]
    },
    {
     "name": "stderr",
     "output_type": "stream",
     "text": [
      "W0622 16:27:59.240913 28836 callbacks.py:241] Method (on_train_batch_end) is slow compared to the batch update (0.101672). Check your callbacks.\n",
      "W0622 16:27:59.528332 28836 callbacks.py:241] Method (on_train_batch_end) is slow compared to the batch update (0.102650). Check your callbacks.\n"
     ]
    },
    {
     "name": "stdout",
     "output_type": "stream",
     "text": [
      "\n",
      "Epoch 00020: saving model to training_2/cp-0020.ckpt\n",
      "\n",
      "Epoch 00020: saving model to training_2/cp-0020.ckpt\n"
     ]
    },
    {
     "name": "stderr",
     "output_type": "stream",
     "text": [
      "W0622 16:27:59.639781 28836 callbacks.py:241] Method (on_train_batch_end) is slow compared to the batch update (0.100695). Check your callbacks.\n",
      "W0622 16:27:59.755140 28836 callbacks.py:241] Method (on_train_batch_end) is slow compared to the batch update (0.102649). Check your callbacks.\n"
     ]
    },
    {
     "name": "stdout",
     "output_type": "stream",
     "text": [
      "\n",
      "Epoch 00020: saving model to training_2/cp-0020.ckpt\n",
      "\n",
      "Epoch 00020: saving model to training_2/cp-0020.ckpt\n"
     ]
    },
    {
     "name": "stderr",
     "output_type": "stream",
     "text": [
      "W0622 16:27:59.872454 28836 callbacks.py:241] Method (on_train_batch_end) is slow compared to the batch update (0.102650). Check your callbacks.\n",
      "W0622 16:27:59.980970 28836 callbacks.py:241] Method (on_train_batch_end) is slow compared to the batch update (0.102649). Check your callbacks.\n"
     ]
    },
    {
     "name": "stdout",
     "output_type": "stream",
     "text": [
      "\n",
      "Epoch 00020: saving model to training_2/cp-0020.ckpt\n",
      "\n",
      "Epoch 00020: saving model to training_2/cp-0020.ckpt\n"
     ]
    },
    {
     "name": "stderr",
     "output_type": "stream",
     "text": [
      "W0622 16:28:00.098283 28836 callbacks.py:241] Method (on_train_batch_end) is slow compared to the batch update (0.102650). Check your callbacks.\n",
      "W0622 16:28:00.226351 28836 callbacks.py:241] Method (on_train_batch_end) is slow compared to the batch update (0.102650). Check your callbacks.\n"
     ]
    },
    {
     "name": "stdout",
     "output_type": "stream",
     "text": [
      "\n",
      "Epoch 00020: saving model to training_2/cp-0020.ckpt\n",
      "\n",
      "Epoch 00020: saving model to training_2/cp-0020.ckpt\n"
     ]
    },
    {
     "name": "stderr",
     "output_type": "stream",
     "text": [
      "W0622 16:28:00.327046 28836 callbacks.py:241] Method (on_train_batch_end) is slow compared to the batch update (0.102650). Check your callbacks.\n",
      "W0622 16:28:00.421875 28836 callbacks.py:241] Method (on_train_batch_end) is slow compared to the batch update (0.102649). Check your callbacks.\n"
     ]
    },
    {
     "name": "stdout",
     "output_type": "stream",
     "text": [
      "\n",
      "Epoch 00020: saving model to training_2/cp-0020.ckpt\n",
      "\n",
      "Epoch 00020: saving model to training_2/cp-0020.ckpt\n"
     ]
    },
    {
     "name": "stderr",
     "output_type": "stream",
     "text": [
      "W0622 16:28:00.562652 28836 callbacks.py:241] Method (on_train_batch_end) is slow compared to the batch update (0.102650). Check your callbacks.\n"
     ]
    },
    {
     "name": "stdout",
     "output_type": "stream",
     "text": [
      "\n",
      "Epoch 00020: saving model to training_2/cp-0020.ckpt\n"
     ]
    },
    {
     "name": "stderr",
     "output_type": "stream",
     "text": [
      "W0622 16:28:00.832474 28836 callbacks.py:241] Method (on_train_batch_end) is slow compared to the batch update (0.103138). Check your callbacks.\n"
     ]
    },
    {
     "name": "stdout",
     "output_type": "stream",
     "text": [
      "\n",
      "Epoch 00020: saving model to training_2/cp-0020.ckpt\n"
     ]
    },
    {
     "name": "stderr",
     "output_type": "stream",
     "text": [
      "W0622 16:28:01.043641 28836 callbacks.py:241] Method (on_train_batch_end) is slow compared to the batch update (0.104115). Check your callbacks.\n",
      "W0622 16:28:01.147266 28836 callbacks.py:241] Method (on_train_batch_end) is slow compared to the batch update (0.104115). Check your callbacks.\n"
     ]
    },
    {
     "name": "stdout",
     "output_type": "stream",
     "text": [
      "\n",
      "Epoch 00020: saving model to training_2/cp-0020.ckpt\n",
      "\n",
      "Epoch 00020: saving model to training_2/cp-0020.ckpt\n"
     ]
    },
    {
     "name": "stderr",
     "output_type": "stream",
     "text": [
      "W0622 16:28:01.290978 28836 callbacks.py:241] Method (on_train_batch_end) is slow compared to the batch update (0.109981). Check your callbacks.\n",
      "W0622 16:28:01.408290 28836 callbacks.py:241] Method (on_train_batch_end) is slow compared to the batch update (0.109981). Check your callbacks.\n"
     ]
    },
    {
     "name": "stdout",
     "output_type": "stream",
     "text": [
      "\n",
      "Epoch 00020: saving model to training_2/cp-0020.ckpt\n",
      "\n",
      "Epoch 00020: saving model to training_2/cp-0020.ckpt\n"
     ]
    },
    {
     "name": "stderr",
     "output_type": "stream",
     "text": [
      "W0622 16:28:01.517782 28836 callbacks.py:241] Method (on_train_batch_end) is slow compared to the batch update (0.109492). Check your callbacks.\n"
     ]
    },
    {
     "name": "stdout",
     "output_type": "stream",
     "text": [
      "\n",
      "Epoch 00020: saving model to training_2/cp-0020.ckpt\n",
      "\n",
      "Epoch 00020: saving model to training_2/cp-0020.ckpt\n"
     ]
    },
    {
     "name": "stderr",
     "output_type": "stream",
     "text": [
      "W0622 16:28:01.740679 28836 callbacks.py:241] Method (on_train_batch_end) is slow compared to the batch update (0.106559). Check your callbacks.\n",
      "W0622 16:28:01.838441 28836 callbacks.py:241] Method (on_train_batch_end) is slow compared to the batch update (0.106559). Check your callbacks.\n"
     ]
    },
    {
     "name": "stdout",
     "output_type": "stream",
     "text": [
      "\n",
      "Epoch 00020: saving model to training_2/cp-0020.ckpt\n",
      "\n",
      "Epoch 00020: saving model to training_2/cp-0020.ckpt\n"
     ]
    },
    {
     "name": "stderr",
     "output_type": "stream",
     "text": [
      "W0622 16:28:02.000725 28836 callbacks.py:241] Method (on_train_batch_end) is slow compared to the batch update (0.106559). Check your callbacks.\n",
      "W0622 16:28:02.123905 28836 callbacks.py:241] Method (on_train_batch_end) is slow compared to the batch update (0.106559). Check your callbacks.\n"
     ]
    },
    {
     "name": "stdout",
     "output_type": "stream",
     "text": [
      "\n",
      "Epoch 00020: saving model to training_2/cp-0020.ckpt\n",
      "\n",
      "Epoch 00020: saving model to training_2/cp-0020.ckpt\n"
     ]
    },
    {
     "name": "stderr",
     "output_type": "stream",
     "text": [
      "W0622 16:28:02.245131 28836 callbacks.py:241] Method (on_train_batch_end) is slow compared to the batch update (0.105093). Check your callbacks.\n",
      "W0622 16:28:02.386884 28836 callbacks.py:241] Method (on_train_batch_end) is slow compared to the batch update (0.108026). Check your callbacks.\n"
     ]
    },
    {
     "name": "stdout",
     "output_type": "stream",
     "text": [
      "\n",
      "Epoch 00020: saving model to training_2/cp-0020.ckpt\n",
      "\n",
      "Epoch 00020: saving model to training_2/cp-0020.ckpt\n"
     ]
    },
    {
     "name": "stderr",
     "output_type": "stream",
     "text": [
      "W0622 16:28:02.532549 28836 callbacks.py:241] Method (on_train_batch_end) is slow compared to the batch update (0.108026). Check your callbacks.\n",
      "W0622 16:28:02.650842 28836 callbacks.py:241] Method (on_train_batch_end) is slow compared to the batch update (0.108026). Check your callbacks.\n"
     ]
    },
    {
     "name": "stdout",
     "output_type": "stream",
     "text": [
      "\n",
      "Epoch 00020: saving model to training_2/cp-0020.ckpt\n",
      "\n",
      "Epoch 00020: saving model to training_2/cp-0020.ckpt\n"
     ]
    },
    {
     "name": "stderr",
     "output_type": "stream",
     "text": [
      "W0622 16:28:02.771088 28836 callbacks.py:241] Method (on_train_batch_end) is slow compared to the batch update (0.108515). Check your callbacks.\n",
      "W0622 16:28:02.868850 28836 callbacks.py:241] Method (on_train_batch_end) is slow compared to the batch update (0.108515). Check your callbacks.\n",
      "W0622 16:28:02.964657 28836 callbacks.py:241] Method (on_train_batch_end) is slow compared to the batch update (0.107049). Check your callbacks.\n"
     ]
    },
    {
     "name": "stdout",
     "output_type": "stream",
     "text": [
      "\n",
      "Epoch 00020: saving model to training_2/cp-0020.ckpt\n",
      "\n",
      "Epoch 00020: saving model to training_2/cp-0020.ckpt\n",
      "\n",
      "Epoch 00020: saving model to training_2/cp-0020.ckpt"
     ]
    },
    {
     "name": "stderr",
     "output_type": "stream",
     "text": [
      "W0622 16:28:03.054597 28836 callbacks.py:241] Method (on_train_batch_end) is slow compared to the batch update (0.107049). Check your callbacks.\n",
      "W0622 16:28:03.153337 28836 callbacks.py:241] Method (on_train_batch_end) is slow compared to the batch update (0.105094). Check your callbacks.\n"
     ]
    },
    {
     "name": "stdout",
     "output_type": "stream",
     "text": [
      "\n",
      "\n",
      "Epoch 00020: saving model to training_2/cp-0020.ckpt\n"
     ]
    },
    {
     "name": "stderr",
     "output_type": "stream",
     "text": [
      "W0622 16:28:03.273584 28836 callbacks.py:241] Method (on_train_batch_end) is slow compared to the batch update (0.105094). Check your callbacks.\n"
     ]
    },
    {
     "name": "stdout",
     "output_type": "stream",
     "text": [
      "\n",
      "Epoch 00020: saving model to training_2/cp-0020.ckpt\n",
      "\n",
      "Epoch 00020: saving model to training_2/cp-0020.ckpt\n"
     ]
    },
    {
     "name": "stderr",
     "output_type": "stream",
     "text": [
      "W0622 16:28:03.409472 28836 callbacks.py:241] Method (on_train_batch_end) is slow compared to the batch update (0.105094). Check your callbacks.\n"
     ]
    },
    {
     "name": "stdout",
     "output_type": "stream",
     "text": [
      "\n",
      "Epoch 00021: saving model to training_2/cp-0021.ckpt\n",
      "\n",
      "Epoch 00021: saving model to training_2/cp-0021.ckpt\n",
      "\n",
      "Epoch 00021: saving model to training_2/cp-0021.ckpt\n",
      "\n",
      "Epoch 00021: saving model to training_2/cp-0021.ckpt\n",
      "\n",
      "Epoch 00021: saving model to training_2/cp-0021.ckpt\n",
      "\n",
      "Epoch 00021: saving model to training_2/cp-0021.ckpt\n",
      "\n",
      "Epoch 00021: saving model to training_2/cp-0021.ckpt\n",
      "\n",
      "Epoch 00021: saving model to training_2/cp-0021.ckpt\n",
      "\n",
      "Epoch 00021: saving model to training_2/cp-0021.ckpt\n",
      "\n",
      "Epoch 00021: saving model to training_2/cp-0021.ckpt\n",
      "\n",
      "Epoch 00021: saving model to training_2/cp-0021.ckpt\n",
      "\n",
      "Epoch 00021: saving model to training_2/cp-0021.ckpt\n",
      "\n",
      "Epoch 00021: saving model to training_2/cp-0021.ckpt\n",
      "\n",
      "Epoch 00021: saving model to training_2/cp-0021.ckpt\n",
      "\n",
      "Epoch 00021: saving model to training_2/cp-0021.ckpt\n",
      "\n",
      "Epoch 00021: saving model to training_2/cp-0021.ckpt\n",
      "\n",
      "Epoch 00021: saving model to training_2/cp-0021.ckpt\n",
      "\n",
      "Epoch 00021: saving model to training_2/cp-0021.ckpt\n",
      "\n",
      "Epoch 00021: saving model to training_2/cp-0021.ckpt\n",
      "\n",
      "Epoch 00021: saving model to training_2/cp-0021.ckpt\n",
      "\n",
      "Epoch 00021: saving model to training_2/cp-0021.ckpt\n",
      "\n",
      "Epoch 00021: saving model to training_2/cp-0021.ckpt\n",
      "\n",
      "Epoch 00021: saving model to training_2/cp-0021.ckpt\n",
      "\n",
      "Epoch 00021: saving model to training_2/cp-0021.ckpt\n",
      "\n",
      "Epoch 00021: saving model to training_2/cp-0021.ckpt\n",
      "\n",
      "Epoch 00021: saving model to training_2/cp-0021.ckpt\n",
      "\n",
      "Epoch 00021: saving model to training_2/cp-0021.ckpt\n",
      "\n",
      "Epoch 00021: saving model to training_2/cp-0021.ckpt\n",
      "\n",
      "Epoch 00021: saving model to training_2/cp-0021.ckpt\n",
      "\n",
      "Epoch 00021: saving model to training_2/cp-0021.ckpt\n",
      "\n",
      "Epoch 00021: saving model to training_2/cp-0021.ckpt\n",
      "\n",
      "Epoch 00021: saving model to training_2/cp-0021.ckpt\n",
      "\n",
      "Epoch 00022: saving model to training_2/cp-0022.ckpt\n",
      "\n",
      "Epoch 00022: saving model to training_2/cp-0022.ckpt\n",
      "\n",
      "Epoch 00022: saving model to training_2/cp-0022.ckpt\n",
      "\n",
      "Epoch 00022: saving model to training_2/cp-0022.ckpt\n",
      "\n",
      "Epoch 00022: saving model to training_2/cp-0022.ckpt\n",
      "\n",
      "Epoch 00022: saving model to training_2/cp-0022.ckpt\n",
      "\n",
      "Epoch 00022: saving model to training_2/cp-0022.ckpt\n",
      "\n",
      "Epoch 00022: saving model to training_2/cp-0022.ckpt\n",
      "\n",
      "Epoch 00022: saving model to training_2/cp-0022.ckpt\n",
      "\n",
      "Epoch 00022: saving model to training_2/cp-0022.ckpt\n",
      "\n",
      "Epoch 00022: saving model to training_2/cp-0022.ckpt\n",
      "\n",
      "Epoch 00022: saving model to training_2/cp-0022.ckpt\n",
      "\n",
      "Epoch 00022: saving model to training_2/cp-0022.ckpt\n",
      "\n",
      "Epoch 00022: saving model to training_2/cp-0022.ckpt\n",
      "\n",
      "Epoch 00022: saving model to training_2/cp-0022.ckpt\n",
      "\n",
      "Epoch 00022: saving model to training_2/cp-0022.ckpt\n",
      "\n",
      "Epoch 00022: saving model to training_2/cp-0022.ckpt\n",
      "\n",
      "Epoch 00022: saving model to training_2/cp-0022.ckpt\n",
      "\n",
      "Epoch 00022: saving model to training_2/cp-0022.ckpt\n",
      "\n",
      "Epoch 00022: saving model to training_2/cp-0022.ckpt\n",
      "\n",
      "Epoch 00022: saving model to training_2/cp-0022.ckpt\n",
      "\n",
      "Epoch 00022: saving model to training_2/cp-0022.ckpt\n",
      "\n",
      "Epoch 00022: saving model to training_2/cp-0022.ckpt\n",
      "\n",
      "Epoch 00022: saving model to training_2/cp-0022.ckpt\n"
     ]
    },
    {
     "name": "stderr",
     "output_type": "stream",
     "text": [
      "W0622 16:28:09.462876 28836 callbacks.py:241] Method (on_train_batch_end) is slow compared to the batch update (0.104116). Check your callbacks.\n"
     ]
    },
    {
     "name": "stdout",
     "output_type": "stream",
     "text": [
      "\n",
      "Epoch 00022: saving model to training_2/cp-0022.ckpt\n",
      "\n",
      "Epoch 00022: saving model to training_2/cp-0022.ckpt\n",
      "\n",
      "Epoch 00022: saving model to training_2/cp-0022.ckpt\n",
      "\n",
      "Epoch 00022: saving model to training_2/cp-0022.ckpt\n",
      "\n",
      "Epoch 00022: saving model to training_2/cp-0022.ckpt\n",
      "\n",
      "Epoch 00022: saving model to training_2/cp-0022.ckpt\n",
      "\n",
      "Epoch 00022: saving model to training_2/cp-0022.ckpt\n",
      "\n",
      "Epoch 00022: saving model to training_2/cp-0022.ckpt\n",
      "\n",
      "Epoch 00023: saving model to training_2/cp-0023.ckpt\n",
      "\n",
      "Epoch 00023: saving model to training_2/cp-0023.ckpt\n"
     ]
    },
    {
     "name": "stderr",
     "output_type": "stream",
     "text": [
      "W0622 16:28:10.606688 28836 callbacks.py:241] Method (on_train_batch_end) is slow compared to the batch update (0.102158). Check your callbacks.\n"
     ]
    },
    {
     "name": "stdout",
     "output_type": "stream",
     "text": [
      "\n",
      "Epoch 00023: saving model to training_2/cp-0023.ckpt\n",
      "\n",
      "Epoch 00023: saving model to training_2/cp-0023.ckpt\n",
      "\n",
      "Epoch 00023: saving model to training_2/cp-0023.ckpt\n",
      "\n",
      "Epoch 00023: saving model to training_2/cp-0023.ckpt\n",
      "\n",
      "Epoch 00023: saving model to training_2/cp-0023.ckpt\n",
      "\n",
      "Epoch 00023: saving model to training_2/cp-0023.ckpt\n",
      "\n",
      "Epoch 00023: saving model to training_2/cp-0023.ckpt\n",
      "\n",
      "Epoch 00023: saving model to training_2/cp-0023.ckpt\n",
      "\n",
      "Epoch 00023: saving model to training_2/cp-0023.ckpt\n",
      "\n",
      "Epoch 00023: saving model to training_2/cp-0023.ckpt\n",
      "\n",
      "Epoch 00023: saving model to training_2/cp-0023.ckpt\n",
      "\n",
      "Epoch 00023: saving model to training_2/cp-0023.ckpt\n",
      "\n",
      "Epoch 00023: saving model to training_2/cp-0023.ckpt\n",
      "\n",
      "Epoch 00023: saving model to training_2/cp-0023.ckpt\n",
      "\n",
      "Epoch 00023: saving model to training_2/cp-0023.ckpt\n",
      "\n",
      "Epoch 00023: saving model to training_2/cp-0023.ckpt\n",
      "\n",
      "Epoch 00023: saving model to training_2/cp-0023.ckpt\n",
      "\n",
      "Epoch 00023: saving model to training_2/cp-0023.ckpt\n",
      "\n",
      "Epoch 00023: saving model to training_2/cp-0023.ckpt\n",
      "\n",
      "Epoch 00023: saving model to training_2/cp-0023.ckpt\n",
      "\n",
      "Epoch 00023: saving model to training_2/cp-0023.ckpt\n",
      "\n",
      "Epoch 00023: saving model to training_2/cp-0023.ckpt\n",
      "\n",
      "Epoch 00023: saving model to training_2/cp-0023.ckpt\n",
      "\n",
      "Epoch 00023: saving model to training_2/cp-0023.ckpt\n",
      "\n",
      "Epoch 00023: saving model to training_2/cp-0023.ckpt\n",
      "\n",
      "Epoch 00023: saving model to training_2/cp-0023.ckpt\n",
      "\n",
      "Epoch 00023: saving model to training_2/cp-0023.ckpt\n",
      "\n",
      "Epoch 00023: saving model to training_2/cp-0023.ckpt\n",
      "\n",
      "Epoch 00023: saving model to training_2/cp-0023.ckpt\n",
      "\n",
      "Epoch 00023: saving model to training_2/cp-0023.ckpt\n",
      "\n",
      "Epoch 00024: saving model to training_2/cp-0024.ckpt\n"
     ]
    },
    {
     "name": "stderr",
     "output_type": "stream",
     "text": [
      "W0622 16:28:13.896369 28836 callbacks.py:241] Method (on_train_batch_end) is slow compared to the batch update (0.198456). Check your callbacks.\n"
     ]
    },
    {
     "name": "stdout",
     "output_type": "stream",
     "text": [
      "\n",
      "Epoch 00024: saving model to training_2/cp-0024.ckpt\n"
     ]
    },
    {
     "name": "stderr",
     "output_type": "stream",
     "text": [
      "W0622 16:28:14.108513 28836 callbacks.py:241] Method (on_train_batch_end) is slow compared to the batch update (0.192591). Check your callbacks.\n"
     ]
    },
    {
     "name": "stdout",
     "output_type": "stream",
     "text": [
      "\n",
      "Epoch 00024: saving model to training_2/cp-0024.ckpt\n"
     ]
    },
    {
     "name": "stderr",
     "output_type": "stream",
     "text": [
      "W0622 16:28:14.325545 28836 callbacks.py:241] Method (on_train_batch_end) is slow compared to the batch update (0.194545). Check your callbacks.\n",
      "W0622 16:28:14.520089 28836 callbacks.py:241] Method (on_train_batch_end) is slow compared to the batch update (0.190635). Check your callbacks.\n"
     ]
    },
    {
     "name": "stdout",
     "output_type": "stream",
     "text": [
      "\n",
      "Epoch 00024: saving model to training_2/cp-0024.ckpt\n",
      "\n",
      "Epoch 00024: saving model to training_2/cp-0024.ckpt\n"
     ]
    },
    {
     "name": "stderr",
     "output_type": "stream",
     "text": [
      "W0622 16:28:14.739075 28836 callbacks.py:241] Method (on_train_batch_end) is slow compared to the batch update (0.193569). Check your callbacks.\n",
      "W0622 16:28:14.942420 28836 callbacks.py:241] Method (on_train_batch_end) is slow compared to the batch update (0.190147). Check your callbacks.\n"
     ]
    },
    {
     "name": "stdout",
     "output_type": "stream",
     "text": [
      "\n",
      "Epoch 00024: saving model to training_2/cp-0024.ckpt\n",
      "\n",
      "Epoch 00024: saving model to training_2/cp-0024.ckpt"
     ]
    },
    {
     "name": "stderr",
     "output_type": "stream",
     "text": [
      "W0622 16:28:15.135010 28836 callbacks.py:241] Method (on_train_batch_end) is slow compared to the batch update (0.186725). Check your callbacks.\n"
     ]
    },
    {
     "name": "stdout",
     "output_type": "stream",
     "text": [
      "\n",
      "\n",
      "Epoch 00024: saving model to training_2/cp-0024.ckpt"
     ]
    },
    {
     "name": "stderr",
     "output_type": "stream",
     "text": [
      "W0622 16:28:15.266010 28836 callbacks.py:241] Method (on_train_batch_end) is slow compared to the batch update (0.180860). Check your callbacks.\n"
     ]
    },
    {
     "name": "stdout",
     "output_type": "stream",
     "text": [
      "\n",
      "\n",
      "Epoch 00024: saving model to training_2/cp-0024.ckpt\n"
     ]
    },
    {
     "name": "stderr",
     "output_type": "stream",
     "text": [
      "W0622 16:28:15.402876 28836 callbacks.py:241] Method (on_train_batch_end) is slow compared to the batch update (0.174994). Check your callbacks.\n",
      "W0622 16:28:15.478152 28836 callbacks.py:241] Method (on_train_batch_end) is slow compared to the batch update (0.173527). Check your callbacks.\n",
      "W0622 16:28:15.551473 28836 callbacks.py:241] Method (on_train_batch_end) is slow compared to the batch update (0.170594). Check your callbacks.\n"
     ]
    },
    {
     "name": "stdout",
     "output_type": "stream",
     "text": [
      "\n",
      "Epoch 00024: saving model to training_2/cp-0024.ckpt\n",
      "\n",
      "Epoch 00024: saving model to training_2/cp-0024.ckpt\n",
      "\n",
      "Epoch 00024: saving model to training_2/cp-0024.ckpt\n"
     ]
    },
    {
     "name": "stderr",
     "output_type": "stream",
     "text": [
      "W0622 16:28:15.623818 28836 callbacks.py:241] Method (on_train_batch_end) is slow compared to the batch update (0.148109). Check your callbacks.\n",
      "W0622 16:28:15.717670 28836 callbacks.py:241] Method (on_train_batch_end) is slow compared to the batch update (0.117314). Check your callbacks.\n"
     ]
    },
    {
     "name": "stdout",
     "output_type": "stream",
     "text": [
      "\n",
      "Epoch 00024: saving model to training_2/cp-0024.ckpt\n",
      "\n",
      "Epoch 00024: saving model to training_2/cp-0024.ckpt\n",
      "\n",
      "Epoch 00024: saving model to training_2/cp-0024.ckpt\n",
      "\n",
      "Epoch 00024: saving model to training_2/cp-0024.ckpt\n",
      "\n",
      "Epoch 00024: saving model to training_2/cp-0024.ckpt\n",
      "\n",
      "Epoch 00024: saving model to training_2/cp-0024.ckpt\n",
      "\n",
      "Epoch 00024: saving model to training_2/cp-0024.ckpt\n",
      "\n",
      "Epoch 00024: saving model to training_2/cp-0024.ckpt\n",
      "\n",
      "Epoch 00024: saving model to training_2/cp-0024.ckpt\n",
      "\n",
      "Epoch 00024: saving model to training_2/cp-0024.ckpt\n",
      "\n",
      "Epoch 00024: saving model to training_2/cp-0024.ckpt\n",
      "\n",
      "Epoch 00024: saving model to training_2/cp-0024.ckpt\n",
      "\n",
      "Epoch 00024: saving model to training_2/cp-0024.ckpt\n",
      "\n",
      "Epoch 00024: saving model to training_2/cp-0024.ckpt\n",
      "\n",
      "Epoch 00024: saving model to training_2/cp-0024.ckpt\n",
      "\n",
      "Epoch 00024: saving model to training_2/cp-0024.ckpt\n",
      "\n",
      "Epoch 00024: saving model to training_2/cp-0024.ckpt\n",
      "\n",
      "Epoch 00024: saving model to training_2/cp-0024.ckpt\n",
      "\n",
      "Epoch 00024: saving model to training_2/cp-0024.ckpt\n",
      "\n",
      "Epoch 00024: saving model to training_2/cp-0024.ckpt\n",
      "\n",
      "Epoch 00025: saving model to training_2/cp-0025.ckpt\n",
      "\n",
      "Epoch 00025: saving model to training_2/cp-0025.ckpt\n",
      "\n",
      "Epoch 00025: saving model to training_2/cp-0025.ckpt\n",
      "\n",
      "Epoch 00025: saving model to training_2/cp-0025.ckpt\n",
      "\n",
      "Epoch 00025: saving model to training_2/cp-0025.ckpt\n",
      "\n",
      "Epoch 00025: saving model to training_2/cp-0025.ckpt\n",
      "\n",
      "Epoch 00025: saving model to training_2/cp-0025.ckpt\n",
      "\n",
      "Epoch 00025: saving model to training_2/cp-0025.ckpt\n",
      "\n",
      "Epoch 00025: saving model to training_2/cp-0025.ckpt\n",
      "\n",
      "Epoch 00025: saving model to training_2/cp-0025.ckpt\n",
      "\n",
      "Epoch 00025: saving model to training_2/cp-0025.ckpt\n",
      "\n",
      "Epoch 00025: saving model to training_2/cp-0025.ckpt\n",
      "\n",
      "Epoch 00025: saving model to training_2/cp-0025.ckpt\n",
      "\n",
      "Epoch 00025: saving model to training_2/cp-0025.ckpt\n",
      "\n",
      "Epoch 00025: saving model to training_2/cp-0025.ckpt\n",
      "\n",
      "Epoch 00025: saving model to training_2/cp-0025.ckpt\n",
      "\n",
      "Epoch 00025: saving model to training_2/cp-0025.ckpt\n",
      "\n",
      "Epoch 00025: saving model to training_2/cp-0025.ckpt\n",
      "\n",
      "Epoch 00025: saving model to training_2/cp-0025.ckpt\n",
      "\n",
      "Epoch 00025: saving model to training_2/cp-0025.ckpt\n",
      "\n",
      "Epoch 00025: saving model to training_2/cp-0025.ckpt\n",
      "\n",
      "Epoch 00025: saving model to training_2/cp-0025.ckpt\n",
      "\n",
      "Epoch 00025: saving model to training_2/cp-0025.ckpt\n",
      "\n",
      "Epoch 00025: saving model to training_2/cp-0025.ckpt\n",
      "\n",
      "Epoch 00025: saving model to training_2/cp-0025.ckpt\n",
      "\n",
      "Epoch 00025: saving model to training_2/cp-0025.ckpt\n",
      "\n",
      "Epoch 00025: saving model to training_2/cp-0025.ckpt\n",
      "\n",
      "Epoch 00025: saving model to training_2/cp-0025.ckpt\n",
      "\n",
      "Epoch 00025: saving model to training_2/cp-0025.ckpt\n",
      "\n",
      "Epoch 00025: saving model to training_2/cp-0025.ckpt\n",
      "\n",
      "Epoch 00025: saving model to training_2/cp-0025.ckpt\n",
      "\n",
      "Epoch 00025: saving model to training_2/cp-0025.ckpt\n"
     ]
    },
    {
     "name": "stderr",
     "output_type": "stream",
     "text": [
      "W0622 16:28:20.694716 28836 callbacks.py:241] Method (on_train_batch_end) is slow compared to the batch update (0.106560). Check your callbacks.\n"
     ]
    },
    {
     "name": "stdout",
     "output_type": "stream",
     "text": [
      "\n",
      "Epoch 00026: saving model to training_2/cp-0026.ckpt\n",
      "\n",
      "Epoch 00026: saving model to training_2/cp-0026.ckpt\n",
      "\n",
      "Epoch 00026: saving model to training_2/cp-0026.ckpt\n"
     ]
    },
    {
     "name": "stderr",
     "output_type": "stream",
     "text": [
      "W0622 16:28:21.116070 28836 callbacks.py:241] Method (on_train_batch_end) is slow compared to the batch update (0.106560). Check your callbacks.\n",
      "W0622 16:28:21.249025 28836 callbacks.py:241] Method (on_train_batch_end) is slow compared to the batch update (0.110958). Check your callbacks.\n"
     ]
    },
    {
     "name": "stdout",
     "output_type": "stream",
     "text": [
      "\n",
      "Epoch 00026: saving model to training_2/cp-0026.ckpt\n",
      "\n",
      "Epoch 00026: saving model to training_2/cp-0026.ckpt\n"
     ]
    },
    {
     "name": "stderr",
     "output_type": "stream",
     "text": [
      "W0622 16:28:21.339943 28836 callbacks.py:241] Method (on_train_batch_end) is slow compared to the batch update (0.106560). Check your callbacks.\n",
      "W0622 16:28:21.491475 28836 callbacks.py:241] Method (on_train_batch_end) is slow compared to the batch update (0.110958). Check your callbacks.\n"
     ]
    },
    {
     "name": "stdout",
     "output_type": "stream",
     "text": [
      "\n",
      "Epoch 00026: saving model to training_2/cp-0026.ckpt\n",
      "\n",
      "Epoch 00026: saving model to training_2/cp-0026.ckpt\n"
     ]
    },
    {
     "name": "stderr",
     "output_type": "stream",
     "text": [
      "W0622 16:28:21.623453 28836 callbacks.py:241] Method (on_train_batch_end) is slow compared to the batch update (0.115357). Check your callbacks.\n",
      "W0622 16:28:21.718282 28836 callbacks.py:241] Method (on_train_batch_end) is slow compared to the batch update (0.110958). Check your callbacks.\n",
      "W0622 16:28:21.812133 28836 callbacks.py:241] Method (on_train_batch_end) is slow compared to the batch update (0.106560). Check your callbacks.\n"
     ]
    },
    {
     "name": "stdout",
     "output_type": "stream",
     "text": [
      "\n",
      "Epoch 00026: saving model to training_2/cp-0026.ckpt\n",
      "\n",
      "Epoch 00026: saving model to training_2/cp-0026.ckpt\n"
     ]
    },
    {
     "name": "stderr",
     "output_type": "stream",
     "text": [
      "W0622 16:28:21.951932 28836 callbacks.py:241] Method (on_train_batch_end) is slow compared to the batch update (0.110958). Check your callbacks.\n"
     ]
    },
    {
     "name": "stdout",
     "output_type": "stream",
     "text": [
      "\n",
      "Epoch 00026: saving model to training_2/cp-0026.ckpt\n",
      "\n",
      "Epoch 00026: saving model to training_2/cp-0026.ckpt\n",
      "\n",
      "Epoch 00026: saving model to training_2/cp-0026.ckpt\n",
      "\n",
      "Epoch 00026: saving model to training_2/cp-0026.ckpt\n",
      "\n",
      "Epoch 00026: saving model to training_2/cp-0026.ckpt\n",
      "\n",
      "Epoch 00026: saving model to training_2/cp-0026.ckpt\n"
     ]
    },
    {
     "name": "stderr",
     "output_type": "stream",
     "text": [
      "W0622 16:28:22.735981 28836 callbacks.py:241] Method (on_train_batch_end) is slow compared to the batch update (0.101183). Check your callbacks.\n",
      "W0622 16:28:22.852317 28836 callbacks.py:241] Method (on_train_batch_end) is slow compared to the batch update (0.101183). Check your callbacks.\n"
     ]
    },
    {
     "name": "stdout",
     "output_type": "stream",
     "text": [
      "\n",
      "Epoch 00026: saving model to training_2/cp-0026.ckpt\n",
      "\n",
      "Epoch 00026: saving model to training_2/cp-0026.ckpt\n"
     ]
    },
    {
     "name": "stderr",
     "output_type": "stream",
     "text": [
      "W0622 16:28:22.983318 28836 callbacks.py:241] Method (on_train_batch_end) is slow compared to the batch update (0.101183). Check your callbacks.\n",
      "W0622 16:28:23.075214 28836 callbacks.py:241] Method (on_train_batch_end) is slow compared to the batch update (0.101183). Check your callbacks.\n",
      "W0622 16:28:23.171998 28836 callbacks.py:241] Method (on_train_batch_end) is slow compared to the batch update (0.101183). Check your callbacks.\n"
     ]
    },
    {
     "name": "stdout",
     "output_type": "stream",
     "text": [
      "\n",
      "Epoch 00026: saving model to training_2/cp-0026.ckpt\n",
      "\n",
      "Epoch 00026: saving model to training_2/cp-0026.ckpt\n",
      "\n",
      "Epoch 00026: saving model to training_2/cp-0026.ckpt\n",
      "\n",
      "Epoch 00026: saving model to training_2/cp-0026.ckpt\n",
      "\n",
      "Epoch 00026: saving model to training_2/cp-0026.ckpt\n",
      "\n",
      "Epoch 00026: saving model to training_2/cp-0026.ckpt\n",
      "\n",
      "Epoch 00026: saving model to training_2/cp-0026.ckpt\n",
      "\n",
      "Epoch 00026: saving model to training_2/cp-0026.ckpt\n",
      "\n",
      "Epoch 00026: saving model to training_2/cp-0026.ckpt\n",
      "\n",
      "Epoch 00026: saving model to training_2/cp-0026.ckpt\n",
      "\n",
      "Epoch 00026: saving model to training_2/cp-0026.ckpt\n",
      "\n",
      "Epoch 00026: saving model to training_2/cp-0026.ckpt\n",
      "\n",
      "Epoch 00026: saving model to training_2/cp-0026.ckpt\n"
     ]
    },
    {
     "name": "stderr",
     "output_type": "stream",
     "text": [
      "W0622 16:28:25.391189 28836 callbacks.py:241] Method (on_train_batch_end) is slow compared to the batch update (0.103139). Check your callbacks.\n",
      "W0622 16:28:25.498726 28836 callbacks.py:241] Method (on_train_batch_end) is slow compared to the batch update (0.103139). Check your callbacks.\n"
     ]
    },
    {
     "name": "stdout",
     "output_type": "stream",
     "text": [
      "\n",
      "Epoch 00026: saving model to training_2/cp-0026.ckpt\n",
      "\n",
      "Epoch 00026: saving model to training_2/cp-0026.ckpt\n"
     ]
    },
    {
     "name": "stderr",
     "output_type": "stream",
     "text": [
      "W0622 16:28:25.629729 28836 callbacks.py:241] Method (on_train_batch_end) is slow compared to the batch update (0.116337). Check your callbacks.\n"
     ]
    },
    {
     "name": "stdout",
     "output_type": "stream",
     "text": [
      "\n",
      "Epoch 00027: saving model to training_2/cp-0027.ckpt\n",
      "\n",
      "Epoch 00027: saving model to training_2/cp-0027.ckpt\n",
      "\n",
      "Epoch 00027: saving model to training_2/cp-0027.ckpt\n",
      "\n",
      "Epoch 00027: saving model to training_2/cp-0027.ckpt\n",
      "\n",
      "Epoch 00027: saving model to training_2/cp-0027.ckpt\n",
      "\n",
      "Epoch 00027: saving model to training_2/cp-0027.ckpt\n",
      "\n",
      "Epoch 00027: saving model to training_2/cp-0027.ckpt\n",
      "\n",
      "Epoch 00027: saving model to training_2/cp-0027.ckpt\n",
      "\n",
      "Epoch 00027: saving model to training_2/cp-0027.ckpt\n",
      "\n",
      "Epoch 00027: saving model to training_2/cp-0027.ckpt\n",
      "\n",
      "Epoch 00027: saving model to training_2/cp-0027.ckpt\n"
     ]
    },
    {
     "name": "stderr",
     "output_type": "stream",
     "text": [
      "W0622 16:28:27.219331 28836 callbacks.py:241] Method (on_train_batch_end) is slow compared to the batch update (0.102161). Check your callbacks.\n",
      "W0622 16:28:27.364020 28836 callbacks.py:241] Method (on_train_batch_end) is slow compared to the batch update (0.106071). Check your callbacks.\n"
     ]
    },
    {
     "name": "stdout",
     "output_type": "stream",
     "text": [
      "\n",
      "Epoch 00027: saving model to training_2/cp-0027.ckpt\n",
      "\n",
      "Epoch 00027: saving model to training_2/cp-0027.ckpt\n"
     ]
    },
    {
     "name": "stderr",
     "output_type": "stream",
     "text": [
      "W0622 16:28:27.536080 28836 callbacks.py:241] Method (on_train_batch_end) is slow compared to the batch update (0.106071). Check your callbacks.\n",
      "W0622 16:28:27.623088 28836 callbacks.py:241] Method (on_train_batch_end) is slow compared to the batch update (0.106071). Check your callbacks.\n",
      "W0622 16:28:27.712051 28836 callbacks.py:241] Method (on_train_batch_end) is slow compared to the batch update (0.100694). Check your callbacks.\n"
     ]
    },
    {
     "name": "stdout",
     "output_type": "stream",
     "text": [
      "\n",
      "Epoch 00027: saving model to training_2/cp-0027.ckpt\n",
      "\n",
      "Epoch 00027: saving model to training_2/cp-0027.ckpt\n",
      "\n",
      "Epoch 00027: saving model to training_2/cp-0027.ckpt\n"
     ]
    },
    {
     "name": "stderr",
     "output_type": "stream",
     "text": [
      "W0622 16:28:27.820567 28836 callbacks.py:241] Method (on_train_batch_end) is slow compared to the batch update (0.100694). Check your callbacks.\n"
     ]
    },
    {
     "name": "stdout",
     "output_type": "stream",
     "text": [
      "\n",
      "Epoch 00027: saving model to training_2/cp-0027.ckpt\n",
      "\n",
      "Epoch 00027: saving model to training_2/cp-0027.ckpt\n"
     ]
    },
    {
     "name": "stderr",
     "output_type": "stream",
     "text": [
      "W0622 16:28:28.059105 28836 callbacks.py:241] Method (on_train_batch_end) is slow compared to the batch update (0.117314). Check your callbacks.\n"
     ]
    },
    {
     "name": "stdout",
     "output_type": "stream",
     "text": [
      "\n",
      "Epoch 00027: saving model to training_2/cp-0027.ckpt\n"
     ]
    },
    {
     "name": "stderr",
     "output_type": "stream",
     "text": [
      "W0622 16:28:28.372920 28836 callbacks.py:241] Method (on_train_batch_end) is slow compared to the batch update (0.117314). Check your callbacks.\n",
      "W0622 16:28:28.499033 28836 callbacks.py:241] Method (on_train_batch_end) is slow compared to the batch update (0.107538). Check your callbacks.\n"
     ]
    },
    {
     "name": "stdout",
     "output_type": "stream",
     "text": [
      "\n",
      "Epoch 00027: saving model to training_2/cp-0027.ckpt\n",
      "\n",
      "Epoch 00027: saving model to training_2/cp-0027.ckpt\n"
     ]
    },
    {
     "name": "stderr",
     "output_type": "stream",
     "text": [
      "W0622 16:28:28.632967 28836 callbacks.py:241] Method (on_train_batch_end) is slow compared to the batch update (0.115848). Check your callbacks.\n",
      "W0622 16:28:28.750280 28836 callbacks.py:241] Method (on_train_batch_end) is slow compared to the batch update (0.107049). Check your callbacks.\n"
     ]
    },
    {
     "name": "stdout",
     "output_type": "stream",
     "text": [
      "\n",
      "Epoch 00027: saving model to training_2/cp-0027.ckpt\n",
      "\n",
      "Epoch 00027: saving model to training_2/cp-0027.ckpt\n",
      "\n",
      "Epoch 00027: saving model to training_2/cp-0027.ckpt\n"
     ]
    },
    {
     "name": "stderr",
     "output_type": "stream",
     "text": [
      "W0622 16:28:29.229314 28836 callbacks.py:241] Method (on_train_batch_end) is slow compared to the batch update (0.107049). Check your callbacks.\n",
      "W0622 16:28:29.359336 28836 callbacks.py:241] Method (on_train_batch_end) is slow compared to the batch update (0.111449). Check your callbacks.\n"
     ]
    },
    {
     "name": "stdout",
     "output_type": "stream",
     "text": [
      "\n",
      "Epoch 00027: saving model to training_2/cp-0027.ckpt\n",
      "\n",
      "Epoch 00027: saving model to training_2/cp-0027.ckpt\n"
     ]
    },
    {
     "name": "stderr",
     "output_type": "stream",
     "text": [
      "W0622 16:28:29.472739 28836 callbacks.py:241] Method (on_train_batch_end) is slow compared to the batch update (0.111449). Check your callbacks.\n"
     ]
    },
    {
     "name": "stdout",
     "output_type": "stream",
     "text": [
      "\n",
      "Epoch 00027: saving model to training_2/cp-0027.ckpt\n"
     ]
    },
    {
     "name": "stderr",
     "output_type": "stream",
     "text": [
      "W0622 16:28:29.886271 28836 callbacks.py:241] Method (on_train_batch_end) is slow compared to the batch update (0.116825). Check your callbacks.\n",
      "W0622 16:28:29.987943 28836 callbacks.py:241] Method (on_train_batch_end) is slow compared to the batch update (0.111449). Check your callbacks.\n"
     ]
    },
    {
     "name": "stdout",
     "output_type": "stream",
     "text": [
      "\n",
      "Epoch 00027: saving model to training_2/cp-0027.ckpt\n",
      "\n",
      "Epoch 00027: saving model to training_2/cp-0027.ckpt\n"
     ]
    },
    {
     "name": "stderr",
     "output_type": "stream",
     "text": [
      "W0622 16:28:30.108191 28836 callbacks.py:241] Method (on_train_batch_end) is slow compared to the batch update (0.109494). Check your callbacks.\n"
     ]
    },
    {
     "name": "stdout",
     "output_type": "stream",
     "text": [
      "\n",
      "Epoch 00027: saving model to training_2/cp-0027.ckpt\n"
     ]
    },
    {
     "name": "stderr",
     "output_type": "stream",
     "text": [
      "W0622 16:28:30.470889 28836 callbacks.py:241] Method (on_train_batch_end) is slow compared to the batch update (0.110471). Check your callbacks.\n"
     ]
    },
    {
     "name": "stdout",
     "output_type": "stream",
     "text": [
      "\n",
      "Epoch 00027: saving model to training_2/cp-0027.ckpt\n"
     ]
    },
    {
     "name": "stderr",
     "output_type": "stream",
     "text": [
      "W0622 16:28:30.777857 28836 callbacks.py:241] Method (on_train_batch_end) is slow compared to the batch update (0.110471). Check your callbacks.\n",
      "W0622 16:28:30.891261 28836 callbacks.py:241] Method (on_train_batch_end) is slow compared to the batch update (0.110471). Check your callbacks.\n"
     ]
    },
    {
     "name": "stdout",
     "output_type": "stream",
     "text": [
      "\n",
      "Epoch 00027: saving model to training_2/cp-0027.ckpt\n"
     ]
    },
    {
     "name": "stderr",
     "output_type": "stream",
     "text": [
      "W0622 16:28:31.428950 28836 callbacks.py:241] Method (on_train_batch_end) is slow compared to the batch update (0.145663). Check your callbacks.\n"
     ]
    },
    {
     "name": "stdout",
     "output_type": "stream",
     "text": [
      "\n",
      "Epoch 00028: saving model to training_2/cp-0028.ckpt\n",
      "\n",
      "Epoch 00028: saving model to training_2/cp-0028.ckpt\n"
     ]
    },
    {
     "name": "stderr",
     "output_type": "stream",
     "text": [
      "W0622 16:28:31.519869 28836 callbacks.py:241] Method (on_train_batch_end) is slow compared to the batch update (0.110959). Check your callbacks.\n",
      "W0622 16:28:31.638161 28836 callbacks.py:241] Method (on_train_batch_end) is slow compared to the batch update (0.104603). Check your callbacks.\n"
     ]
    },
    {
     "name": "stdout",
     "output_type": "stream",
     "text": [
      "\n",
      "Epoch 00028: saving model to training_2/cp-0028.ckpt\n",
      "\n",
      "Epoch 00028: saving model to training_2/cp-0028.ckpt\n"
     ]
    },
    {
     "name": "stderr",
     "output_type": "stream",
     "text": [
      "W0622 16:28:31.757430 28836 callbacks.py:241] Method (on_train_batch_end) is slow compared to the batch update (0.106559). Check your callbacks.\n",
      "W0622 16:28:31.868879 28836 callbacks.py:241] Method (on_train_batch_end) is slow compared to the batch update (0.104603). Check your callbacks.\n"
     ]
    },
    {
     "name": "stdout",
     "output_type": "stream",
     "text": [
      "\n",
      "Epoch 00028: saving model to training_2/cp-0028.ckpt\n",
      "\n",
      "Epoch 00028: saving model to training_2/cp-0028.ckpt\n"
     ]
    },
    {
     "name": "stderr",
     "output_type": "stream",
     "text": [
      "W0622 16:28:31.976416 28836 callbacks.py:241] Method (on_train_batch_end) is slow compared to the batch update (0.100205). Check your callbacks.\n",
      "W0622 16:28:32.133812 28836 callbacks.py:241] Method (on_train_batch_end) is slow compared to the batch update (0.104603). Check your callbacks.\n"
     ]
    },
    {
     "name": "stdout",
     "output_type": "stream",
     "text": [
      "\n",
      "Epoch 00028: saving model to training_2/cp-0028.ckpt\n",
      "\n",
      "Epoch 00028: saving model to training_2/cp-0028.ckpt\n"
     ]
    },
    {
     "name": "stderr",
     "output_type": "stream",
     "text": [
      "W0622 16:28:32.253082 28836 callbacks.py:241] Method (on_train_batch_end) is slow compared to the batch update (0.106559). Check your callbacks.\n"
     ]
    },
    {
     "name": "stdout",
     "output_type": "stream",
     "text": [
      "\n",
      "Epoch 00028: saving model to training_2/cp-0028.ckpt\n"
     ]
    },
    {
     "name": "stderr",
     "output_type": "stream",
     "text": [
      "W0622 16:28:32.635331 28836 callbacks.py:241] Method (on_train_batch_end) is slow compared to the batch update (0.108514). Check your callbacks.\n",
      "W0622 16:28:32.763398 28836 callbacks.py:241] Method (on_train_batch_end) is slow compared to the batch update (0.107536). Check your callbacks.\n"
     ]
    },
    {
     "name": "stdout",
     "output_type": "stream",
     "text": [
      "\n",
      "Epoch 00028: saving model to training_2/cp-0028.ckpt\n",
      "\n",
      "Epoch 00028: saving model to training_2/cp-0028.ckpt\n"
     ]
    },
    {
     "name": "stderr",
     "output_type": "stream",
     "text": [
      "W0622 16:28:32.875824 28836 callbacks.py:241] Method (on_train_batch_end) is slow compared to the batch update (0.105581). Check your callbacks.\n",
      "W0622 16:28:33.017578 28836 callbacks.py:241] Method (on_train_batch_end) is slow compared to the batch update (0.107536). Check your callbacks.\n"
     ]
    },
    {
     "name": "stdout",
     "output_type": "stream",
     "text": [
      "\n",
      "Epoch 00028: saving model to training_2/cp-0028.ckpt\n",
      "\n",
      "Epoch 00028: saving model to training_2/cp-0028.ckpt\n"
     ]
    },
    {
     "name": "stderr",
     "output_type": "stream",
     "text": [
      "W0622 16:28:33.155422 28836 callbacks.py:241] Method (on_train_batch_end) is slow compared to the batch update (0.108515). Check your callbacks.\n"
     ]
    },
    {
     "name": "stdout",
     "output_type": "stream",
     "text": [
      "\n",
      "Epoch 00028: saving model to training_2/cp-0028.ckpt\n"
     ]
    },
    {
     "name": "stderr",
     "output_type": "stream",
     "text": [
      "W0622 16:28:33.378318 28836 callbacks.py:241] Method (on_train_batch_end) is slow compared to the batch update (0.115358). Check your callbacks.\n"
     ]
    },
    {
     "name": "stdout",
     "output_type": "stream",
     "text": [
      "\n",
      "Epoch 00028: saving model to training_2/cp-0028.ckpt\n"
     ]
    },
    {
     "name": "stderr",
     "output_type": "stream",
     "text": [
      "W0622 16:28:34.047009 28836 callbacks.py:241] Method (on_train_batch_end) is slow compared to the batch update (0.125624). Check your callbacks.\n",
      "W0622 16:28:34.161390 28836 callbacks.py:241] Method (on_train_batch_end) is slow compared to the batch update (0.125624). Check your callbacks.\n"
     ]
    },
    {
     "name": "stdout",
     "output_type": "stream",
     "text": [
      "\n",
      "Epoch 00028: saving model to training_2/cp-0028.ckpt\n",
      "\n",
      "Epoch 00028: saving model to training_2/cp-0028.ckpt\n"
     ]
    },
    {
     "name": "stderr",
     "output_type": "stream",
     "text": [
      "W0622 16:28:34.278704 28836 callbacks.py:241] Method (on_train_batch_end) is slow compared to the batch update (0.115358). Check your callbacks.\n",
      "W0622 16:28:34.473250 28836 callbacks.py:241] Method (on_train_batch_end) is slow compared to the batch update (0.125624). Check your callbacks.\n"
     ]
    },
    {
     "name": "stdout",
     "output_type": "stream",
     "text": [
      "\n",
      "Epoch 00028: saving model to training_2/cp-0028.ckpt\n",
      "\n",
      "Epoch 00028: saving model to training_2/cp-0028.ckpt\n"
     ]
    },
    {
     "name": "stderr",
     "output_type": "stream",
     "text": [
      "W0622 16:28:34.817373 28836 callbacks.py:241] Method (on_train_batch_end) is slow compared to the batch update (0.125624). Check your callbacks.\n",
      "W0622 16:28:34.953260 28836 callbacks.py:241] Method (on_train_batch_end) is slow compared to the batch update (0.125624). Check your callbacks.\n"
     ]
    },
    {
     "name": "stdout",
     "output_type": "stream",
     "text": [
      "\n",
      "Epoch 00028: saving model to training_2/cp-0028.ckpt\n",
      "\n",
      "Epoch 00028: saving model to training_2/cp-0028.ckpt\n"
     ]
    },
    {
     "name": "stderr",
     "output_type": "stream",
     "text": [
      "W0622 16:28:35.245567 28836 callbacks.py:241] Method (on_train_batch_end) is slow compared to the batch update (0.155442). Check your callbacks.\n",
      "W0622 16:28:35.430337 28836 callbacks.py:241] Method (on_train_batch_end) is slow compared to the batch update (0.154464). Check your callbacks.\n"
     ]
    },
    {
     "name": "stdout",
     "output_type": "stream",
     "text": [
      "\n",
      "Epoch 00028: saving model to training_2/cp-0028.ckpt\n",
      "\n",
      "Epoch 00028: saving model to training_2/cp-0028.ckpt\n"
     ]
    },
    {
     "name": "stderr",
     "output_type": "stream",
     "text": [
      "W0622 16:28:35.540807 28836 callbacks.py:241] Method (on_train_batch_end) is slow compared to the batch update (0.154464). Check your callbacks.\n",
      "W0622 16:28:35.673763 28836 callbacks.py:241] Method (on_train_batch_end) is slow compared to the batch update (0.124646). Check your callbacks.\n"
     ]
    },
    {
     "name": "stdout",
     "output_type": "stream",
     "text": [
      "\n",
      "Epoch 00028: saving model to training_2/cp-0028.ckpt\n",
      "\n",
      "Epoch 00028: saving model to training_2/cp-0028.ckpt\n"
     ]
    },
    {
     "name": "stderr",
     "output_type": "stream",
     "text": [
      "W0622 16:28:35.787168 28836 callbacks.py:241] Method (on_train_batch_end) is slow compared to the batch update (0.120246). Check your callbacks.\n"
     ]
    },
    {
     "name": "stdout",
     "output_type": "stream",
     "text": [
      "\n",
      "Epoch 00028: saving model to training_2/cp-0028.ckpt\n"
     ]
    },
    {
     "name": "stderr",
     "output_type": "stream",
     "text": [
      "W0622 16:28:35.986600 28836 callbacks.py:241] Method (on_train_batch_end) is slow compared to the batch update (0.124646). Check your callbacks.\n"
     ]
    },
    {
     "name": "stdout",
     "output_type": "stream",
     "text": [
      "\n",
      "Epoch 00028: saving model to training_2/cp-0028.ckpt\n"
     ]
    },
    {
     "name": "stderr",
     "output_type": "stream",
     "text": [
      "W0622 16:28:36.457813 28836 callbacks.py:241] Method (on_train_batch_end) is slow compared to the batch update (0.154464). Check your callbacks.\n",
      "W0622 16:28:36.591746 28836 callbacks.py:241] Method (on_train_batch_end) is slow compared to the batch update (0.124646). Check your callbacks.\n"
     ]
    },
    {
     "name": "stdout",
     "output_type": "stream",
     "text": [
      "\n",
      "Epoch 00028: saving model to training_2/cp-0028.ckpt\n",
      "\n",
      "Epoch 00028: saving model to training_2/cp-0028.ckpt\n"
     ]
    },
    {
     "name": "stderr",
     "output_type": "stream",
     "text": [
      "W0622 16:28:36.708083 28836 callbacks.py:241] Method (on_train_batch_end) is slow compared to the batch update (0.120246). Check your callbacks.\n",
      "W0622 16:28:36.886008 28836 callbacks.py:241] Method (on_train_batch_end) is slow compared to the batch update (0.118780). Check your callbacks.\n"
     ]
    },
    {
     "name": "stdout",
     "output_type": "stream",
     "text": [
      "\n",
      "Epoch 00028: saving model to training_2/cp-0028.ckpt\n",
      "\n",
      "Epoch 00028: saving model to training_2/cp-0028.ckpt\n"
     ]
    },
    {
     "name": "stderr",
     "output_type": "stream",
     "text": [
      "W0622 16:28:37.012121 28836 callbacks.py:241] Method (on_train_batch_end) is slow compared to the batch update (0.113892). Check your callbacks.\n",
      "W0622 16:28:37.186137 28836 callbacks.py:241] Method (on_train_batch_end) is slow compared to the batch update (0.113892). Check your callbacks.\n"
     ]
    },
    {
     "name": "stdout",
     "output_type": "stream",
     "text": [
      "\n",
      "Epoch 00028: saving model to training_2/cp-0028.ckpt\n",
      "\n",
      "Epoch 00029: saving model to training_2/cp-0029.ckpt\n"
     ]
    },
    {
     "name": "stderr",
     "output_type": "stream",
     "text": [
      "W0622 16:28:37.585982 28836 callbacks.py:241] Method (on_train_batch_end) is slow compared to the batch update (0.182815). Check your callbacks.\n",
      "W0622 16:28:37.697431 28836 callbacks.py:241] Method (on_train_batch_end) is slow compared to the batch update (0.140777). Check your callbacks.\n"
     ]
    },
    {
     "name": "stdout",
     "output_type": "stream",
     "text": [
      "\n",
      "Epoch 00029: saving model to training_2/cp-0029.ckpt\n",
      "\n",
      "Epoch 00029: saving model to training_2/cp-0029.ckpt\n"
     ]
    },
    {
     "name": "stderr",
     "output_type": "stream",
     "text": [
      "W0622 16:28:37.813767 28836 callbacks.py:241] Method (on_train_batch_end) is slow compared to the batch update (0.104604). Check your callbacks.\n",
      "W0622 16:28:37.921304 28836 callbacks.py:241] Method (on_train_batch_end) is slow compared to the batch update (0.101672). Check your callbacks.\n"
     ]
    },
    {
     "name": "stdout",
     "output_type": "stream",
     "text": [
      "\n",
      "Epoch 00029: saving model to training_2/cp-0029.ckpt\n",
      "\n",
      "Epoch 00029: saving model to training_2/cp-0029.ckpt\n"
     ]
    },
    {
     "name": "stderr",
     "output_type": "stream",
     "text": [
      "W0622 16:28:38.035685 28836 callbacks.py:241] Method (on_train_batch_end) is slow compared to the batch update (0.103626). Check your callbacks.\n",
      "W0622 16:28:38.122694 28836 callbacks.py:241] Method (on_train_batch_end) is slow compared to the batch update (0.101182). Check your callbacks.\n"
     ]
    },
    {
     "name": "stdout",
     "output_type": "stream",
     "text": [
      "\n",
      "Epoch 00029: saving model to training_2/cp-0029.ckpt\n",
      "\n",
      "Epoch 00029: saving model to training_2/cp-0029.ckpt\n"
     ]
    },
    {
     "name": "stderr",
     "output_type": "stream",
     "text": [
      "W0622 16:28:38.246852 28836 callbacks.py:241] Method (on_train_batch_end) is slow compared to the batch update (0.103626). Check your callbacks.\n",
      "W0622 16:28:38.357323 28836 callbacks.py:241] Method (on_train_batch_end) is slow compared to the batch update (0.101182). Check your callbacks.\n"
     ]
    },
    {
     "name": "stdout",
     "output_type": "stream",
     "text": [
      "\n",
      "Epoch 00029: saving model to training_2/cp-0029.ckpt\n",
      "\n",
      "Epoch 00029: saving model to training_2/cp-0029.ckpt\n",
      "\n",
      "Epoch 00029: saving model to training_2/cp-0029.ckpt\n",
      "\n",
      "Epoch 00029: saving model to training_2/cp-0029.ckpt\n",
      "\n",
      "Epoch 00029: saving model to training_2/cp-0029.ckpt\n",
      "\n",
      "Epoch 00029: saving model to training_2/cp-0029.ckpt\n",
      "\n",
      "Epoch 00029: saving model to training_2/cp-0029.ckpt\n",
      "\n",
      "Epoch 00029: saving model to training_2/cp-0029.ckpt\n",
      "\n",
      "Epoch 00029: saving model to training_2/cp-0029.ckpt\n",
      "\n",
      "Epoch 00029: saving model to training_2/cp-0029.ckpt\n",
      "\n",
      "Epoch 00029: saving model to training_2/cp-0029.ckpt\n",
      "\n",
      "Epoch 00029: saving model to training_2/cp-0029.ckpt\n",
      "\n",
      "Epoch 00029: saving model to training_2/cp-0029.ckpt\n",
      "\n",
      "Epoch 00029: saving model to training_2/cp-0029.ckpt\n",
      "\n",
      "Epoch 00029: saving model to training_2/cp-0029.ckpt\n",
      "\n",
      "Epoch 00029: saving model to training_2/cp-0029.ckpt\n",
      "\n",
      "Epoch 00029: saving model to training_2/cp-0029.ckpt\n",
      "\n",
      "Epoch 00029: saving model to training_2/cp-0029.ckpt\n"
     ]
    },
    {
     "name": "stderr",
     "output_type": "stream",
     "text": [
      "W0622 16:28:40.186443 28836 callbacks.py:241] Method (on_train_batch_end) is slow compared to the batch update (0.102659). Check your callbacks.\n",
      "W0622 16:28:40.373169 28836 callbacks.py:241] Method (on_train_batch_end) is slow compared to the batch update (0.111937). Check your callbacks.\n"
     ]
    },
    {
     "name": "stdout",
     "output_type": "stream",
     "text": [
      "\n",
      "Epoch 00029: saving model to training_2/cp-0029.ckpt\n",
      "\n",
      "Epoch 00029: saving model to training_2/cp-0029.ckpt\n"
     ]
    },
    {
     "name": "stderr",
     "output_type": "stream",
     "text": [
      "W0622 16:28:40.598999 28836 callbacks.py:241] Method (on_train_batch_end) is slow compared to the batch update (0.120738). Check your callbacks.\n"
     ]
    },
    {
     "name": "stdout",
     "output_type": "stream",
     "text": [
      "\n",
      "Epoch 00029: saving model to training_2/cp-0029.ckpt\n"
     ]
    },
    {
     "name": "stderr",
     "output_type": "stream",
     "text": [
      "W0622 16:28:40.975380 28836 callbacks.py:241] Method (on_train_batch_end) is slow compared to the batch update (0.124648). Check your callbacks.\n"
     ]
    },
    {
     "name": "stdout",
     "output_type": "stream",
     "text": [
      "\n",
      "Epoch 00029: saving model to training_2/cp-0029.ckpt\n"
     ]
    },
    {
     "name": "stderr",
     "output_type": "stream",
     "text": [
      "W0622 16:28:41.190457 28836 callbacks.py:241] Method (on_train_batch_end) is slow compared to the batch update (0.124648). Check your callbacks.\n"
     ]
    },
    {
     "name": "stdout",
     "output_type": "stream",
     "text": [
      "\n",
      "Epoch 00029: saving model to training_2/cp-0029.ckpt\n"
     ]
    },
    {
     "name": "stderr",
     "output_type": "stream",
     "text": [
      "W0622 16:28:41.431928 28836 callbacks.py:241] Method (on_train_batch_end) is slow compared to the batch update (0.151043). Check your callbacks.\n",
      "W0622 16:28:41.600079 28836 callbacks.py:241] Method (on_train_batch_end) is slow compared to the batch update (0.159842). Check your callbacks.\n"
     ]
    },
    {
     "name": "stdout",
     "output_type": "stream",
     "text": [
      "\n",
      "Epoch 00029: saving model to training_2/cp-0029.ckpt\n",
      "\n",
      "Epoch 00029: saving model to training_2/cp-0029.ckpt\n"
     ]
    },
    {
     "name": "stderr",
     "output_type": "stream",
     "text": [
      "W0622 16:28:41.803423 28836 callbacks.py:241] Method (on_train_batch_end) is slow compared to the batch update (0.181838). Check your callbacks.\n"
     ]
    },
    {
     "name": "stdout",
     "output_type": "stream",
     "text": [
      "\n",
      "Epoch 00030: saving model to training_2/cp-0030.ckpt\n",
      "\n",
      "Epoch 00030: saving model to training_2/cp-0030.ckpt\n",
      "\n",
      "Epoch 00030: saving model to training_2/cp-0030.ckpt\n",
      "\n",
      "Epoch 00030: saving model to training_2/cp-0030.ckpt\n",
      "\n",
      "Epoch 00030: saving model to training_2/cp-0030.ckpt\n",
      "\n",
      "Epoch 00030: saving model to training_2/cp-0030.ckpt\n",
      "\n",
      "Epoch 00030: saving model to training_2/cp-0030.ckpt\n",
      "\n",
      "Epoch 00030: saving model to training_2/cp-0030.ckpt\n",
      "\n",
      "Epoch 00030: saving model to training_2/cp-0030.ckpt\n",
      "\n",
      "Epoch 00030: saving model to training_2/cp-0030.ckpt\n",
      "\n",
      "Epoch 00030: saving model to training_2/cp-0030.ckpt\n",
      "\n",
      "Epoch 00030: saving model to training_2/cp-0030.ckpt\n",
      "\n",
      "Epoch 00030: saving model to training_2/cp-0030.ckpt\n",
      "\n",
      "Epoch 00030: saving model to training_2/cp-0030.ckpt\n",
      "\n",
      "Epoch 00030: saving model to training_2/cp-0030.ckpt\n",
      "\n",
      "Epoch 00030: saving model to training_2/cp-0030.ckpt\n",
      "\n",
      "Epoch 00030: saving model to training_2/cp-0030.ckpt\n",
      "\n",
      "Epoch 00030: saving model to training_2/cp-0030.ckpt\n",
      "\n",
      "Epoch 00030: saving model to training_2/cp-0030.ckpt\n",
      "\n",
      "Epoch 00030: saving model to training_2/cp-0030.ckpt\n",
      "\n",
      "Epoch 00030: saving model to training_2/cp-0030.ckpt\n",
      "\n",
      "Epoch 00030: saving model to training_2/cp-0030.ckpt\n",
      "\n",
      "Epoch 00030: saving model to training_2/cp-0030.ckpt\n",
      "\n",
      "Epoch 00030: saving model to training_2/cp-0030.ckpt\n",
      "\n",
      "Epoch 00030: saving model to training_2/cp-0030.ckpt\n",
      "\n",
      "Epoch 00030: saving model to training_2/cp-0030.ckpt\n",
      "\n",
      "Epoch 00030: saving model to training_2/cp-0030.ckpt\n",
      "\n",
      "Epoch 00030: saving model to training_2/cp-0030.ckpt\n",
      "\n",
      "Epoch 00030: saving model to training_2/cp-0030.ckpt\n",
      "\n",
      "Epoch 00030: saving model to training_2/cp-0030.ckpt\n"
     ]
    },
    {
     "name": "stderr",
     "output_type": "stream",
     "text": [
      "W0622 16:28:45.003162 28836 callbacks.py:241] Method (on_train_batch_end) is slow compared to the batch update (0.100205). Check your callbacks.\n",
      "W0622 16:28:45.198685 28836 callbacks.py:241] Method (on_train_batch_end) is slow compared to the batch update (0.105583). Check your callbacks.\n"
     ]
    },
    {
     "name": "stdout",
     "output_type": "stream",
     "text": [
      "\n",
      "Epoch 00030: saving model to training_2/cp-0030.ckpt\n",
      "\n",
      "Epoch 00030: saving model to training_2/cp-0030.ckpt"
     ]
    },
    {
     "name": "stderr",
     "output_type": "stream",
     "text": [
      "W0622 16:28:45.301336 28836 callbacks.py:241] Method (on_train_batch_end) is slow compared to the batch update (0.105583). Check your callbacks.\n"
     ]
    },
    {
     "name": "stdout",
     "output_type": "stream",
     "text": [
      "\n"
     ]
    },
    {
     "data": {
      "text/plain": [
       "<tensorflow.python.keras.callbacks.History at 0xb4a385f198>"
      ]
     },
     "execution_count": 22,
     "metadata": {},
     "output_type": "execute_result"
    }
   ],
   "source": [
    "# 파일 이름에 에포크 번호를 포함시킵니다(`str.format` 포맷)\n",
    "checkpoint_path = \"training_2/cp-{epoch:04d}.ckpt\"\n",
    "checkpoint_dir = os.path.dirname(checkpoint_path)\n",
    "\n",
    "cp_callback = tf.keras.callbacks.ModelCheckpoint(\n",
    "    checkpoint_path, verbose=1, save_weights_only=True,\n",
    "    # 다섯 번째 배치마다 가중치를 저장합니다\n",
    "    save_freq=5)\n",
    "\n",
    "model = create_model()\n",
    "model.save_weights(checkpoint_path.format(epoch=0))\n",
    "model.fit(train_images, train_labels,\n",
    "          epochs = 50, callbacks = [cp_callback],\n",
    "          validation_data = (test_images,test_labels),\n",
    "          verbose=0)"
   ]
  },
  {
   "cell_type": "code",
   "execution_count": null,
   "metadata": {},
   "outputs": [],
   "source": []
  },
  {
   "cell_type": "markdown",
   "metadata": {},
   "source": [
    "###  수동으로 가중치 저장하기"
   ]
  },
  {
   "cell_type": "code",
   "execution_count": null,
   "metadata": {},
   "outputs": [],
   "source": [
    "# 가중치를 저장합니다\n",
    "model.save_weights('./checkpoints/my_checkpoint')\n",
    "\n",
    "# 가중치를 복원합니다\n",
    "model = create_model()\n",
    "model.load_weights('./checkpoints/my_checkpoint')\n",
    "\n",
    "loss,acc = model.evaluate(test_images, test_labels)\n",
    "print(\"복원된 모델의 정확도: {:5.2f}%\".format(100*acc))"
   ]
  },
  {
   "cell_type": "code",
   "execution_count": null,
   "metadata": {},
   "outputs": [],
   "source": []
  },
  {
   "cell_type": "code",
   "execution_count": null,
   "metadata": {},
   "outputs": [],
   "source": []
  },
  {
   "cell_type": "code",
   "execution_count": null,
   "metadata": {},
   "outputs": [],
   "source": []
  },
  {
   "cell_type": "code",
   "execution_count": null,
   "metadata": {},
   "outputs": [],
   "source": []
  },
  {
   "cell_type": "code",
   "execution_count": 6,
   "metadata": {},
   "outputs": [],
   "source": [
    "import datetime\n",
    "\n",
    "class MyCustomCallback(tf.keras.callbacks.Callback):\n",
    "\n",
    "  def on_train_batch_begin(self, batch, logs=None):\n",
    "    print('Training: batch {} begins at {}'.format(batch, datetime.datetime.now().time()))\n",
    "\n",
    "  def on_train_batch_end(self, batch, logs=None):\n",
    "    print('Training: batch {} ends at {}'.format(batch, datetime.datetime.now().time()))\n",
    "\n",
    "  def on_test_batch_begin(self, batch, logs=None):\n",
    "    print('Evaluating: batch {} begins at {}'.format(batch, datetime.datetime.now().time()))\n",
    "\n",
    "  def on_test_batch_end(self, batch, logs=None):\n",
    "    print('Evaluating: batch {} ends at {}'.format(batch, datetime.datetime.now().time()))"
   ]
  }
 ],
 "metadata": {
  "kernelspec": {
   "display_name": "Python 3",
   "language": "python",
   "name": "python3"
  },
  "language_info": {
   "codemirror_mode": {
    "name": "ipython",
    "version": 3
   },
   "file_extension": ".py",
   "mimetype": "text/x-python",
   "name": "python",
   "nbconvert_exporter": "python",
   "pygments_lexer": "ipython3",
   "version": "3.7.3"
  }
 },
 "nbformat": 4,
 "nbformat_minor": 2
}
