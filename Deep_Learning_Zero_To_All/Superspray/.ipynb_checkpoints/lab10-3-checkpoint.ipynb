{
 "cells": [
  {
   "cell_type": "code",
   "execution_count": null,
   "metadata": {},
   "outputs": [],
   "source": [
    "lab10-2"
   ]
  },
  {
   "cell_type": "markdown",
   "metadata": {},
   "source": [
    "# lab 10-3 : dropout\n"
   ]
  },
  {
   "cell_type": "code",
   "execution_count": 2,
   "metadata": {},
   "outputs": [],
   "source": [
    "import tensorflow as tf\n",
    "import numpy as np\n",
    "from tensorflow.keras.utils import to_categorical\n",
    "from tensorflow.keras.datasets import mnist\n",
    "from time import time\n",
    "import os\n",
    "import datetime"
   ]
  },
  {
   "cell_type": "code",
   "execution_count": 3,
   "metadata": {},
   "outputs": [],
   "source": [
    "def load_mnist() :\n",
    "    (train_data, train_labels), (test_data, test_labels) = mnist.load_data()\n",
    "    train_data = np.expand_dims(train_data, axis=-1) # [N, 28, 28] -> [N, 28, 28, 1]\n",
    "    test_data = np.expand_dims(test_data, axis=-1) # [N, 28, 28] -> [N, 28, 28, 1]\n",
    "\n",
    "    train_data, test_data = normalize(train_data, test_data)\n",
    "\n",
    "    train_labels = to_categorical(train_labels, 10) # [N,] -> [N, 10]\n",
    "    test_labels = to_categorical(test_labels, 10) # [N,] -> [N, 10]\n",
    "\n",
    "    return train_data, train_labels, test_data, test_labels\n",
    "\n",
    "def normalize(train_data, test_data):\n",
    "    train_data = train_data.astype(np.float32) / 255.0\n",
    "    test_data = test_data.astype(np.float32) / 255.0\n",
    "\n",
    "    return train_data, test_data"
   ]
  },
  {
   "cell_type": "code",
   "execution_count": 18,
   "metadata": {},
   "outputs": [
    {
     "data": {
      "text/plain": [
       "<BatchDataset shapes: ((None, 28, 28, 1), (None, 10)), types: (tf.float32, tf.float32)>"
      ]
     },
     "execution_count": 18,
     "metadata": {},
     "output_type": "execute_result"
    }
   ],
   "source": [
    "\"\"\" dataset \"\"\"\n",
    "train_x, train_y, test_x, test_y = load_mnist()\n",
    "\n",
    "\"\"\" parameters \"\"\" #초모수값 지정\n",
    "learning_rate = 0.001\n",
    "batch_size = 128\n",
    "\n",
    "training_epochs = 1\n",
    "training_iterations = len(train_x) // batch_size #468\n",
    "label_dim = 10\n",
    "\n",
    "train_flag = True\n",
    "\n",
    "\"\"\" Graph Input using Dataset API \"\"\"\n",
    "train_dataset = tf.data.Dataset.from_tensor_slices((train_x, train_y)).\\\n",
    "    shuffle(buffer_size=100000).\\\n",
    "    prefetch(buffer_size=batch_size).\\\n",
    "    batch(batch_size).repeat()\n",
    "test_dataset = tf.data.Dataset.from_tensor_slices((test_x, test_y)).\\\n",
    "    shuffle(buffer_size=100000).\\\n",
    "    prefetch(buffer_size=len(test_x)).\\\n",
    "    batch(len(test_x))\n",
    "\n",
    "test_dataset\n",
    "#train_iterator = train_dataset.make_one_shot_iterator()\n",
    "#test_iterator = test_dataset.make_one_shot_iterator()"
   ]
  },
  {
   "cell_type": "code",
   "execution_count": 7,
   "metadata": {},
   "outputs": [],
   "source": [
    "###수정!!\n",
    "\n",
    "\n",
    "\n",
    "class create_model_class(tf.keras.Model):\n",
    "    def __init__(self, label_dim):\n",
    "        super(create_model_class, self).__init__()\n",
    "        ###Xavier initialization 이용\n",
    "        weight_init = tf.kerasv.initializers.glorot_uniform()\n",
    "\n",
    "        self.model = tf.keras.Sequential()\n",
    "        self.model.add(tf.keras.layers.Flatten())\n",
    "        self.model.add(tf.keras.layers.Dense(512,kernel_initializer=weight_init, input_shape=(784,),activation=\"relu\"))\n",
    "        self.model.add(tf.keras.layers.Dropout(rate=0.5))\n",
    "\n",
    "        for i in range(3) :\n",
    "               self.model.add(tf.keras.layers.Dense(512, kernel_initializer=weight_init))\n",
    "               self.model.add(relu())\n",
    "               self.model.add(tf.keras.layers.Dropout(rate=0.5))\n",
    "\n",
    "\n",
    "        self.model.add(tf.keras.layers.Dense(label_dim, kernel_initializer=weight_init,activation='softmax'))\n",
    "        self.model.compile(optimizer='adam',\n",
    "                loss=custom_loss,\n",
    "                metrics=['accuracy'])\n",
    "    def call(self, x, training=None, mask=None):\n",
    "\n",
    "        x = self.model(x)\n",
    "\n",
    "        return x\n",
    "    \n",
    "# Create a loss function\n",
    "def custom_loss(y_true, y_pred):\n",
    "    return  tf.reduce_mean(tf.nn.softmax_cross_entropy_with_logits(y_pred,y_true))\n"
   ]
  },
  {
   "cell_type": "code",
   "execution_count": 13,
   "metadata": {},
   "outputs": [],
   "source": [
    "def create_model_function(label_dim) :\n",
    "    weight_init = tf.keras.initializers.glorot_uniform()\n",
    "\n",
    "    model = tf.keras.models.Sequential()\n",
    "    model.add(tf.keras.layers.Flatten())\n",
    "    model.add(tf.keras.layers.Dense(512,kernel_initializer=weight_init, input_shape=(784,),activation=\"relu\"))\n",
    "    model.add(tf.keras.layers.Dropout(rate=0.5))\n",
    "    \n",
    "    for i in range(3) :\n",
    "        model.add(tf.keras.layers.Dense(512, kernel_initializer=weight_init))\n",
    "        model.add(tf.keras.layers.ReLU())\n",
    "        model.add(tf.keras.layers.Dropout(rate=0.5))\n",
    "\n",
    "    model.add(tf.keras.layers.Dense(label_dim,kernel_initializer= weight_init,activation='softmax'))\n",
    "    \n",
    "    model.compile(optimizer='adam',\n",
    "                loss='categorical_crossentropy',\n",
    "                metrics=['accuracy'])\n",
    "\n",
    "    return model\n",
    "\n",
    "model = create_model_function(label_dim)\n",
    "#model.summary()"
   ]
  },
  {
   "cell_type": "code",
   "execution_count": 15,
   "metadata": {
    "scrolled": true
   },
   "outputs": [
    {
     "name": "stdout",
     "output_type": "stream",
     "text": [
      "\n",
      "Epoch 00001: saving model to training_10_3/cp-0001.ckpt\n",
      "  1/468 [..............................] - ETA: 46:27 - loss: 2.4211 - accuracy: 0.1484\n",
      "Epoch 00001: saving model to training_10_3/cp-0001.ckpt\n"
     ]
    },
    {
     "name": "stderr",
     "output_type": "stream",
     "text": [
      "W0622 22:33:08.169953  7048 callbacks.py:241] Method (on_train_batch_end) is slow compared to the batch update (0.659403). Check your callbacks.\n"
     ]
    },
    {
     "name": "stdout",
     "output_type": "stream",
     "text": [
      "  2/468 [..............................] - ETA: 25:39 - loss: 2.3951 - accuracy: 0.1328\n",
      "Epoch 00001: saving model to training_10_3/cp-0001.ckpt\n"
     ]
    },
    {
     "name": "stderr",
     "output_type": "stream",
     "text": [
      "W0622 22:33:08.621611  7048 callbacks.py:241] Method (on_train_batch_end) is slow compared to the batch update (0.591441). Check your callbacks.\n"
     ]
    },
    {
     "name": "stdout",
     "output_type": "stream",
     "text": [
      "  3/468 [..............................] - ETA: 18:14 - loss: 2.3785 - accuracy: 0.1302\n",
      "Epoch 00001: saving model to training_10_3/cp-0001.ckpt\n"
     ]
    },
    {
     "name": "stderr",
     "output_type": "stream",
     "text": [
      "W0622 22:33:09.215024  7048 callbacks.py:241] Method (on_train_batch_end) is slow compared to the batch update (0.560650). Check your callbacks.\n"
     ]
    },
    {
     "name": "stdout",
     "output_type": "stream",
     "text": [
      "  4/468 [..............................] - ETA: 14:47 - loss: 2.3668 - accuracy: 0.1309\n",
      "Epoch 00001: saving model to training_10_3/cp-0001.ckpt\n"
     ]
    },
    {
     "name": "stderr",
     "output_type": "stream",
     "text": [
      "W0622 22:33:09.775199  7048 callbacks.py:241] Method (on_train_batch_end) is slow compared to the batch update (0.529859). Check your callbacks.\n"
     ]
    },
    {
     "name": "stdout",
     "output_type": "stream",
     "text": [
      "  5/468 [..............................] - ETA: 12:40 - loss: 2.3630 - accuracy: 0.1234\n",
      "Epoch 00001: saving model to training_10_3/cp-0001.ckpt\n"
     ]
    },
    {
     "name": "stderr",
     "output_type": "stream",
     "text": [
      "W0622 22:33:10.550449  7048 callbacks.py:241] Method (on_train_batch_end) is slow compared to the batch update (0.560650). Check your callbacks.\n"
     ]
    },
    {
     "name": "stdout",
     "output_type": "stream",
     "text": [
      "  6/468 [..............................] - ETA: 11:32 - loss: 2.3476 - accuracy: 0.1276\n",
      "Epoch 00001: saving model to training_10_3/cp-0001.ckpt\n"
     ]
    },
    {
     "name": "stderr",
     "output_type": "stream",
     "text": [
      "W0622 22:33:11.189812  7048 callbacks.py:241] Method (on_train_batch_end) is slow compared to the batch update (0.529859). Check your callbacks.\n"
     ]
    },
    {
     "name": "stdout",
     "output_type": "stream",
     "text": [
      "  7/468 [..............................] - ETA: 10:34 - loss: 2.3360 - accuracy: 0.1362\n",
      "Epoch 00001: saving model to training_10_3/cp-0001.ckpt\n"
     ]
    },
    {
     "name": "stderr",
     "output_type": "stream",
     "text": [
      "W0622 22:33:11.983638  7048 callbacks.py:241] Method (on_train_batch_end) is slow compared to the batch update (0.560650). Check your callbacks.\n"
     ]
    },
    {
     "name": "stdout",
     "output_type": "stream",
     "text": [
      "  8/468 [..............................] - ETA: 9:59 - loss: 2.3223 - accuracy: 0.1436 \n",
      "Epoch 00001: saving model to training_10_3/cp-0001.ckpt\n"
     ]
    },
    {
     "name": "stderr",
     "output_type": "stream",
     "text": [
      "W0622 22:33:12.604423  7048 callbacks.py:241] Method (on_train_batch_end) is slow compared to the batch update (0.529859). Check your callbacks.\n"
     ]
    },
    {
     "name": "stdout",
     "output_type": "stream",
     "text": [
      "  9/468 [..............................] - ETA: 9:23 - loss: 2.3117 - accuracy: 0.1458\n",
      "Epoch 00001: saving model to training_10_3/cp-0001.ckpt\n"
     ]
    },
    {
     "name": "stderr",
     "output_type": "stream",
     "text": [
      "W0622 22:33:13.122559  7048 callbacks.py:241] Method (on_train_batch_end) is slow compared to the batch update (0.504934). Check your callbacks.\n"
     ]
    },
    {
     "name": "stdout",
     "output_type": "stream",
     "text": [
      " 10/468 [..............................] - ETA: 8:49 - loss: 2.3059 - accuracy: 0.1477\n",
      "Epoch 00001: saving model to training_10_3/cp-0001.ckpt\n"
     ]
    },
    {
     "name": "stderr",
     "output_type": "stream",
     "text": [
      "W0622 22:33:13.763877  7048 callbacks.py:241] Method (on_train_batch_end) is slow compared to the batch update (0.504934). Check your callbacks.\n"
     ]
    },
    {
     "name": "stdout",
     "output_type": "stream",
     "text": [
      " 11/468 [..............................] - ETA: 8:26 - loss: 2.3005 - accuracy: 0.1491\n",
      "Epoch 00001: saving model to training_10_3/cp-0001.ckpt\n"
     ]
    },
    {
     "name": "stderr",
     "output_type": "stream",
     "text": [
      "W0622 22:33:14.489268  7048 callbacks.py:241] Method (on_train_batch_end) is slow compared to the batch update (0.504934). Check your callbacks.\n"
     ]
    },
    {
     "name": "stdout",
     "output_type": "stream",
     "text": [
      " 12/468 [..............................] - ETA: 8:11 - loss: 2.2853 - accuracy: 0.1556\n",
      "Epoch 00001: saving model to training_10_3/cp-0001.ckpt\n"
     ]
    },
    {
     "name": "stderr",
     "output_type": "stream",
     "text": [
      "W0622 22:33:15.253773  7048 callbacks.py:241] Method (on_train_batch_end) is slow compared to the batch update (0.541107). Check your callbacks.\n"
     ]
    },
    {
     "name": "stdout",
     "output_type": "stream",
     "text": [
      " 13/468 [..............................] - ETA: 7:59 - loss: 2.2739 - accuracy: 0.1653\n",
      "Epoch 00001: saving model to training_10_3/cp-0001.ckpt\n"
     ]
    },
    {
     "name": "stderr",
     "output_type": "stream",
     "text": [
      "W0622 22:33:15.759191  7048 callbacks.py:241] Method (on_train_batch_end) is slow compared to the batch update (0.516182). Check your callbacks.\n"
     ]
    },
    {
     "name": "stdout",
     "output_type": "stream",
     "text": [
      " 14/468 [..............................] - ETA: 7:40 - loss: 2.2643 - accuracy: 0.1719\n",
      "Epoch 00001: saving model to training_10_3/cp-0001.ckpt\n"
     ]
    },
    {
     "name": "stderr",
     "output_type": "stream",
     "text": [
      "W0622 22:33:16.303725  7048 callbacks.py:241] Method (on_train_batch_end) is slow compared to the batch update (0.522538). Check your callbacks.\n"
     ]
    },
    {
     "name": "stdout",
     "output_type": "stream",
     "text": [
      " 15/468 [..............................] - ETA: 7:25 - loss: 2.2514 - accuracy: 0.1797\n",
      "Epoch 00001: saving model to training_10_3/cp-0001.ckpt\n"
     ]
    },
    {
     "name": "stderr",
     "output_type": "stream",
     "text": [
      "W0622 22:33:16.999788  7048 callbacks.py:241] Method (on_train_batch_end) is slow compared to the batch update (0.520581). Check your callbacks.\n"
     ]
    },
    {
     "name": "stdout",
     "output_type": "stream",
     "text": [
      " 16/468 [>.............................] - ETA: 7:16 - loss: 2.2370 - accuracy: 0.1899\n",
      "Epoch 00001: saving model to training_10_3/cp-0001.ckpt\n"
     ]
    },
    {
     "name": "stderr",
     "output_type": "stream",
     "text": [
      "W0622 22:33:17.886487  7048 callbacks.py:241] Method (on_train_batch_end) is slow compared to the batch update (0.550399). Check your callbacks.\n"
     ]
    },
    {
     "name": "stdout",
     "output_type": "stream",
     "text": [
      " 17/468 [>.............................] - ETA: 7:13 - loss: 2.2241 - accuracy: 0.1985\n",
      "Epoch 00001: saving model to training_10_3/cp-0001.ckpt\n"
     ]
    },
    {
     "name": "stderr",
     "output_type": "stream",
     "text": [
      "W0622 22:33:18.846507  7048 callbacks.py:241] Method (on_train_batch_end) is slow compared to the batch update (0.550399). Check your callbacks.\n"
     ]
    },
    {
     "name": "stdout",
     "output_type": "stream",
     "text": [
      " 18/468 [>.............................] - ETA: 7:12 - loss: 2.2073 - accuracy: 0.2105\n",
      "Epoch 00001: saving model to training_10_3/cp-0001.ckpt\n"
     ]
    },
    {
     "name": "stderr",
     "output_type": "stream",
     "text": [
      "W0622 22:33:19.474137  7048 callbacks.py:241] Method (on_train_batch_end) is slow compared to the batch update (0.550399). Check your callbacks.\n"
     ]
    },
    {
     "name": "stdout",
     "output_type": "stream",
     "text": [
      " 19/468 [>.............................] - ETA: 7:03 - loss: 2.1833 - accuracy: 0.2278\n",
      "Epoch 00001: saving model to training_10_3/cp-0001.ckpt\n"
     ]
    },
    {
     "name": "stderr",
     "output_type": "stream",
     "text": [
      "W0622 22:33:20.274805  7048 callbacks.py:241] Method (on_train_batch_end) is slow compared to the batch update (0.561153). Check your callbacks.\n"
     ]
    },
    {
     "name": "stdout",
     "output_type": "stream",
     "text": [
      " 20/468 [>.............................] - ETA: 6:59 - loss: 2.1633 - accuracy: 0.2391\n",
      "Epoch 00001: saving model to training_10_3/cp-0001.ckpt\n"
     ]
    },
    {
     "name": "stderr",
     "output_type": "stream",
     "text": [
      "W0622 22:33:21.535930  7048 callbacks.py:241] Method (on_train_batch_end) is slow compared to the batch update (0.561153). Check your callbacks.\n"
     ]
    },
    {
     "name": "stdout",
     "output_type": "stream",
     "text": [
      " 21/468 [>.............................] - ETA: 7:05 - loss: 2.1436 - accuracy: 0.2474\n",
      "Epoch 00001: saving model to training_10_3/cp-0001.ckpt\n"
     ]
    },
    {
     "name": "stderr",
     "output_type": "stream",
     "text": [
      "W0622 22:33:22.332687  7048 callbacks.py:241] Method (on_train_batch_end) is slow compared to the batch update (0.559197). Check your callbacks.\n"
     ]
    },
    {
     "name": "stdout",
     "output_type": "stream",
     "text": [
      " 22/468 [>.............................] - ETA: 7:01 - loss: 2.1261 - accuracy: 0.2550\n",
      "Epoch 00001: saving model to training_10_3/cp-0001.ckpt\n"
     ]
    },
    {
     "name": "stderr",
     "output_type": "stream",
     "text": [
      "W0622 22:33:22.814653  7048 callbacks.py:241] Method (on_train_batch_end) is slow compared to the batch update (0.548442). Check your callbacks.\n"
     ]
    },
    {
     "name": "stdout",
     "output_type": "stream",
     "text": [
      " 23/468 [>.............................] - ETA: 6:51 - loss: 2.1071 - accuracy: 0.2615\n",
      "Epoch 00001: saving model to training_10_3/cp-0001.ckpt\n"
     ]
    },
    {
     "name": "stderr",
     "output_type": "stream",
     "text": [
      "W0622 22:33:23.569373  7048 callbacks.py:241] Method (on_train_batch_end) is slow compared to the batch update (0.559197). Check your callbacks.\n"
     ]
    },
    {
     "name": "stdout",
     "output_type": "stream",
     "text": [
      " 24/468 [>.............................] - ETA: 6:47 - loss: 2.0842 - accuracy: 0.2718\n",
      "Epoch 00001: saving model to training_10_3/cp-0001.ckpt\n"
     ]
    },
    {
     "name": "stderr",
     "output_type": "stream",
     "text": [
      "W0622 22:33:24.816812  7048 callbacks.py:241] Method (on_train_batch_end) is slow compared to the batch update (0.629585). Check your callbacks.\n"
     ]
    },
    {
     "name": "stdout",
     "output_type": "stream",
     "text": [
      " 25/468 [>.............................] - ETA: 6:52 - loss: 2.0583 - accuracy: 0.2803\n",
      "Epoch 00001: saving model to training_10_3/cp-0001.ckpt\n"
     ]
    },
    {
     "name": "stderr",
     "output_type": "stream",
     "text": [
      "W0622 22:33:25.646811  7048 callbacks.py:241] Method (on_train_batch_end) is slow compared to the batch update (0.704368). Check your callbacks.\n"
     ]
    },
    {
     "name": "stdout",
     "output_type": "stream",
     "text": [
      " 26/468 [>.............................] - ETA: 6:49 - loss: 2.0328 - accuracy: 0.2897\n",
      "Epoch 00001: saving model to training_10_3/cp-0001.ckpt\n"
     ]
    },
    {
     "name": "stderr",
     "output_type": "stream",
     "text": [
      "W0622 22:33:26.730009  7048 callbacks.py:241] Method (on_train_batch_end) is slow compared to the batch update (0.720504). Check your callbacks.\n"
     ]
    },
    {
     "name": "stdout",
     "output_type": "stream",
     "text": [
      " 27/468 [>.............................] - ETA: 6:51 - loss: 2.0107 - accuracy: 0.2989\n",
      "Epoch 00001: saving model to training_10_3/cp-0001.ckpt\n"
     ]
    },
    {
     "name": "stderr",
     "output_type": "stream",
     "text": [
      "W0622 22:33:28.043926  7048 callbacks.py:241] Method (on_train_batch_end) is slow compared to the batch update (0.720504). Check your callbacks.\n"
     ]
    },
    {
     "name": "stdout",
     "output_type": "stream",
     "text": [
      " 28/468 [>.............................] - ETA: 6:56 - loss: 1.9792 - accuracy: 0.3103\n",
      "Epoch 00001: saving model to training_10_3/cp-0001.ckpt\n"
     ]
    },
    {
     "name": "stderr",
     "output_type": "stream",
     "text": [
      "W0622 22:33:28.678403  7048 callbacks.py:241] Method (on_train_batch_end) is slow compared to the batch update (0.720504). Check your callbacks.\n"
     ]
    },
    {
     "name": "stdout",
     "output_type": "stream",
     "text": [
      " 29/468 [>.............................] - ETA: 6:50 - loss: 1.9627 - accuracy: 0.3147\n",
      "Epoch 00001: saving model to training_10_3/cp-0001.ckpt\n"
     ]
    },
    {
     "name": "stderr",
     "output_type": "stream",
     "text": [
      "W0622 22:33:29.445830  7048 callbacks.py:241] Method (on_train_batch_end) is slow compared to the batch update (0.733700). Check your callbacks.\n"
     ]
    },
    {
     "name": "stdout",
     "output_type": "stream",
     "text": [
      " 30/468 [>.............................] - ETA: 6:47 - loss: 1.9374 - accuracy: 0.3232\n",
      "Epoch 00001: saving model to training_10_3/cp-0001.ckpt\n"
     ]
    },
    {
     "name": "stderr",
     "output_type": "stream",
     "text": [
      "W0622 22:33:30.349147  7048 callbacks.py:241] Method (on_train_batch_end) is slow compared to the batch update (0.733700). Check your callbacks.\n"
     ]
    },
    {
     "name": "stdout",
     "output_type": "stream",
     "text": [
      " 31/468 [>.............................] - ETA: 6:45 - loss: 1.9181 - accuracy: 0.3296\n",
      "Epoch 00001: saving model to training_10_3/cp-0001.ckpt\n"
     ]
    },
    {
     "name": "stderr",
     "output_type": "stream",
     "text": [
      "W0622 22:33:30.880975  7048 callbacks.py:241] Method (on_train_batch_end) is slow compared to the batch update (0.733700). Check your callbacks.\n"
     ]
    },
    {
     "name": "stdout",
     "output_type": "stream",
     "text": [
      " 32/468 [=>............................] - ETA: 6:39 - loss: 1.8991 - accuracy: 0.3352\n",
      "Epoch 00001: saving model to training_10_3/cp-0001.ckpt\n"
     ]
    },
    {
     "name": "stderr",
     "output_type": "stream",
     "text": [
      "W0622 22:33:31.417712  7048 callbacks.py:241] Method (on_train_batch_end) is slow compared to the batch update (0.733700). Check your callbacks.\n"
     ]
    },
    {
     "name": "stdout",
     "output_type": "stream",
     "text": [
      " 33/468 [=>............................] - ETA: 6:33 - loss: 1.8825 - accuracy: 0.3414\n",
      "Epoch 00001: saving model to training_10_3/cp-0001.ckpt\n"
     ]
    },
    {
     "name": "stderr",
     "output_type": "stream",
     "text": [
      "W0622 22:33:32.248657  7048 callbacks.py:241] Method (on_train_batch_end) is slow compared to the batch update (0.733700). Check your callbacks.\n"
     ]
    },
    {
     "name": "stdout",
     "output_type": "stream",
     "text": [
      " 34/468 [=>............................] - ETA: 6:31 - loss: 1.8576 - accuracy: 0.3518\n",
      "Epoch 00001: saving model to training_10_3/cp-0001.ckpt\n"
     ]
    },
    {
     "name": "stderr",
     "output_type": "stream",
     "text": [
      "W0622 22:33:33.004356  7048 callbacks.py:241] Method (on_train_batch_end) is slow compared to the batch update (0.680909). Check your callbacks.\n"
     ]
    },
    {
     "name": "stdout",
     "output_type": "stream",
     "text": [
      " 35/468 [=>............................] - ETA: 6:28 - loss: 1.8370 - accuracy: 0.3587\n",
      "Epoch 00001: saving model to training_10_3/cp-0001.ckpt\n"
     ]
    },
    {
     "name": "stderr",
     "output_type": "stream",
     "text": [
      "W0622 22:33:33.544976  7048 callbacks.py:241] Method (on_train_batch_end) is slow compared to the batch update (0.592926). Check your callbacks.\n"
     ]
    },
    {
     "name": "stdout",
     "output_type": "stream",
     "text": [
      " 36/468 [=>............................] - ETA: 6:23 - loss: 1.8186 - accuracy: 0.3657\n",
      "Epoch 00001: saving model to training_10_3/cp-0001.ckpt\n"
     ]
    },
    {
     "name": "stderr",
     "output_type": "stream",
     "text": [
      "W0622 22:33:33.817732  7048 callbacks.py:241] Method (on_train_batch_end) is slow compared to the batch update (0.509828). Check your callbacks.\n"
     ]
    },
    {
     "name": "stdout",
     "output_type": "stream",
     "text": [
      " 37/468 [=>............................] - ETA: 6:15 - loss: 1.7985 - accuracy: 0.3714\n",
      "Epoch 00001: saving model to training_10_3/cp-0001.ckpt\n"
     ]
    },
    {
     "name": "stderr",
     "output_type": "stream",
     "text": [
      "W0622 22:33:34.252771  7048 callbacks.py:241] Method (on_train_batch_end) is slow compared to the batch update (0.477568). Check your callbacks.\n"
     ]
    },
    {
     "name": "stdout",
     "output_type": "stream",
     "text": [
      " 38/468 [=>............................] - ETA: 6:09 - loss: 1.7777 - accuracy: 0.3789\n",
      "Epoch 00001: saving model to training_10_3/cp-0001.ckpt\n"
     ]
    },
    {
     "name": "stderr",
     "output_type": "stream",
     "text": [
      "W0622 22:33:34.695631  7048 callbacks.py:241] Method (on_train_batch_end) is slow compared to the batch update (0.442371). Check your callbacks.\n"
     ]
    },
    {
     "name": "stdout",
     "output_type": "stream",
     "text": [
      " 39/468 [=>............................] - ETA: 6:04 - loss: 1.7581 - accuracy: 0.3860\n",
      "Epoch 00001: saving model to training_10_3/cp-0001.ckpt\n"
     ]
    },
    {
     "name": "stderr",
     "output_type": "stream",
     "text": [
      "W0622 22:33:35.527585  7048 callbacks.py:241] Method (on_train_batch_end) is slow compared to the batch update (0.442371). Check your callbacks.\n"
     ]
    },
    {
     "name": "stdout",
     "output_type": "stream",
     "text": [
      " 40/468 [=>............................] - ETA: 6:03 - loss: 1.7385 - accuracy: 0.3918\n",
      "Epoch 00001: saving model to training_10_3/cp-0001.ckpt\n"
     ]
    },
    {
     "name": "stderr",
     "output_type": "stream",
     "text": [
      "W0622 22:33:36.292081  7048 callbacks.py:241] Method (on_train_batch_end) is slow compared to the batch update (0.414998). Check your callbacks.\n"
     ]
    },
    {
     "name": "stdout",
     "output_type": "stream",
     "text": [
      " 41/468 [=>............................] - ETA: 6:01 - loss: 1.7184 - accuracy: 0.3990\n",
      "Epoch 00001: saving model to training_10_3/cp-0001.ckpt\n"
     ]
    },
    {
     "name": "stderr",
     "output_type": "stream",
     "text": [
      "W0622 22:33:36.921665  7048 callbacks.py:241] Method (on_train_batch_end) is slow compared to the batch update (0.452637). Check your callbacks.\n"
     ]
    },
    {
     "name": "stdout",
     "output_type": "stream",
     "text": [
      " 42/468 [=>............................] - ETA: 5:58 - loss: 1.7006 - accuracy: 0.4055\n",
      "Epoch 00001: saving model to training_10_3/cp-0001.ckpt\n"
     ]
    },
    {
     "name": "stderr",
     "output_type": "stream",
     "text": [
      "W0622 22:33:37.288271  7048 callbacks.py:241] Method (on_train_batch_end) is slow compared to the batch update (0.414998). Check your callbacks.\n"
     ]
    },
    {
     "name": "stdout",
     "output_type": "stream",
     "text": [
      " 43/468 [=>............................] - ETA: 5:53 - loss: 1.6787 - accuracy: 0.4139\n",
      "Epoch 00001: saving model to training_10_3/cp-0001.ckpt\n"
     ]
    },
    {
     "name": "stderr",
     "output_type": "stream",
     "text": [
      "W0622 22:33:37.753620  7048 callbacks.py:241] Method (on_train_batch_end) is slow compared to the batch update (0.398379). Check your callbacks.\n"
     ]
    },
    {
     "name": "stdout",
     "output_type": "stream",
     "text": [
      " 44/468 [=>............................] - ETA: 5:48 - loss: 1.6667 - accuracy: 0.4180\n",
      "Epoch 00001: saving model to training_10_3/cp-0001.ckpt\n"
     ]
    },
    {
     "name": "stderr",
     "output_type": "stream",
     "text": [
      "W0622 22:33:38.595348  7048 callbacks.py:241] Method (on_train_batch_end) is slow compared to the batch update (0.398379). Check your callbacks.\n"
     ]
    },
    {
     "name": "stdout",
     "output_type": "stream",
     "text": [
      " 45/468 [=>............................] - ETA: 5:48 - loss: 1.6471 - accuracy: 0.4252\n",
      "Epoch 00001: saving model to training_10_3/cp-0001.ckpt\n"
     ]
    },
    {
     "name": "stderr",
     "output_type": "stream",
     "text": [
      "W0622 22:33:39.191694  7048 callbacks.py:241] Method (on_train_batch_end) is slow compared to the batch update (0.386159). Check your callbacks.\n"
     ]
    },
    {
     "name": "stdout",
     "output_type": "stream",
     "text": [
      " 46/468 [=>............................] - ETA: 5:45 - loss: 1.6335 - accuracy: 0.4302\n",
      "Epoch 00001: saving model to training_10_3/cp-0001.ckpt\n"
     ]
    },
    {
     "name": "stderr",
     "output_type": "stream",
     "text": [
      "W0622 22:33:40.496810  7048 callbacks.py:241] Method (on_train_batch_end) is slow compared to the batch update (0.408644). Check your callbacks.\n"
     ]
    },
    {
     "name": "stdout",
     "output_type": "stream",
     "text": [
      " 47/468 [==>...........................] - ETA: 5:48 - loss: 1.6180 - accuracy: 0.4363\n",
      "Epoch 00001: saving model to training_10_3/cp-0001.ckpt\n"
     ]
    },
    {
     "name": "stderr",
     "output_type": "stream",
     "text": [
      "W0622 22:33:41.378620  7048 callbacks.py:241] Method (on_train_batch_end) is slow compared to the batch update (0.455081). Check your callbacks.\n"
     ]
    },
    {
     "name": "stdout",
     "output_type": "stream",
     "text": [
      " 48/468 [==>...........................] - ETA: 5:48 - loss: 1.5991 - accuracy: 0.4430\n",
      "Epoch 00001: saving model to training_10_3/cp-0001.ckpt\n"
     ]
    },
    {
     "name": "stderr",
     "output_type": "stream",
     "text": [
      "W0622 22:33:42.013093  7048 callbacks.py:241] Method (on_train_batch_end) is slow compared to the batch update (0.455081). Check your callbacks.\n"
     ]
    },
    {
     "name": "stdout",
     "output_type": "stream",
     "text": [
      " 49/468 [==>...........................] - ETA: 5:45 - loss: 1.5813 - accuracy: 0.4496\n",
      "Epoch 00001: saving model to training_10_3/cp-0001.ckpt\n"
     ]
    },
    {
     "name": "stderr",
     "output_type": "stream",
     "text": [
      "W0622 22:33:42.634859  7048 callbacks.py:241] Method (on_train_batch_end) is slow compared to the batch update (0.442371). Check your callbacks.\n"
     ]
    },
    {
     "name": "stdout",
     "output_type": "stream",
     "text": [
      " 50/468 [==>...........................] - ETA: 5:43 - loss: 1.5667 - accuracy: 0.4542\n",
      "Epoch 00001: saving model to training_10_3/cp-0001.ckpt\n"
     ]
    },
    {
     "name": "stderr",
     "output_type": "stream",
     "text": [
      "W0622 22:33:43.322123  7048 callbacks.py:241] Method (on_train_batch_end) is slow compared to the batch update (0.472189). Check your callbacks.\n"
     ]
    },
    {
     "name": "stdout",
     "output_type": "stream",
     "text": [
      " 51/468 [==>...........................] - ETA: 5:41 - loss: 1.5527 - accuracy: 0.4591\n",
      "Epoch 00001: saving model to training_10_3/cp-0001.ckpt\n"
     ]
    },
    {
     "name": "stderr",
     "output_type": "stream",
     "text": [
      "W0622 22:33:43.622251  7048 callbacks.py:241] Method (on_train_batch_end) is slow compared to the batch update (0.425752). Check your callbacks.\n"
     ]
    },
    {
     "name": "stdout",
     "output_type": "stream",
     "text": [
      " 52/468 [==>...........................] - ETA: 5:36 - loss: 1.5392 - accuracy: 0.4633\n",
      "Epoch 00001: saving model to training_10_3/cp-0001.ckpt\n"
     ]
    },
    {
     "name": "stderr",
     "output_type": "stream",
     "text": [
      "W0622 22:33:44.439416  7048 callbacks.py:241] Method (on_train_batch_end) is slow compared to the batch update (0.531822). Check your callbacks.\n"
     ]
    },
    {
     "name": "stdout",
     "output_type": "stream",
     "text": [
      " 53/468 [==>...........................] - ETA: 5:35 - loss: 1.5236 - accuracy: 0.4693\n",
      "Epoch 00001: saving model to training_10_3/cp-0001.ckpt\n"
     ]
    },
    {
     "name": "stderr",
     "output_type": "stream",
     "text": [
      "W0622 22:33:44.874457  7048 callbacks.py:241] Method (on_train_batch_end) is slow compared to the batch update (0.531822). Check your callbacks.\n"
     ]
    },
    {
     "name": "stdout",
     "output_type": "stream",
     "text": [
      " 54/468 [==>...........................] - ETA: 5:32 - loss: 1.5173 - accuracy: 0.4722\n",
      "Epoch 00001: saving model to training_10_3/cp-0001.ckpt\n"
     ]
    },
    {
     "name": "stderr",
     "output_type": "stream",
     "text": [
      "W0622 22:33:45.545103  7048 callbacks.py:241] Method (on_train_batch_end) is slow compared to the batch update (0.517648). Check your callbacks.\n"
     ]
    },
    {
     "name": "stdout",
     "output_type": "stream",
     "text": [
      " 55/468 [==>...........................] - ETA: 5:30 - loss: 1.5054 - accuracy: 0.4766\n",
      "Epoch 00001: saving model to training_10_3/cp-0001.ckpt\n"
     ]
    },
    {
     "name": "stderr",
     "output_type": "stream",
     "text": [
      "W0622 22:33:45.988957  7048 callbacks.py:241] Method (on_train_batch_end) is slow compared to the batch update (0.517648). Check your callbacks.\n"
     ]
    },
    {
     "name": "stdout",
     "output_type": "stream",
     "text": [
      " 56/468 [==>...........................] - ETA: 5:26 - loss: 1.4919 - accuracy: 0.4814\n",
      "Epoch 00001: saving model to training_10_3/cp-0001.ckpt\n"
     ]
    },
    {
     "name": "stderr",
     "output_type": "stream",
     "text": [
      "W0622 22:33:46.291024  7048 callbacks.py:241] Method (on_train_batch_end) is slow compared to the batch update (0.429182). Check your callbacks.\n"
     ]
    },
    {
     "name": "stdout",
     "output_type": "stream",
     "text": [
      " 57/468 [==>...........................] - ETA: 5:22 - loss: 1.4772 - accuracy: 0.4867\n",
      "Epoch 00001: saving model to training_10_3/cp-0001.ckpt\n"
     ]
    },
    {
     "name": "stderr",
     "output_type": "stream",
     "text": [
      "W0622 22:33:46.855109  7048 callbacks.py:241] Method (on_train_batch_end) is slow compared to the batch update (0.429182). Check your callbacks.\n"
     ]
    },
    {
     "name": "stdout",
     "output_type": "stream",
     "text": [
      " 58/468 [==>...........................] - ETA: 5:20 - loss: 1.4637 - accuracy: 0.4915\n",
      "Epoch 00001: saving model to training_10_3/cp-0001.ckpt\n"
     ]
    },
    {
     "name": "stderr",
     "output_type": "stream",
     "text": [
      "W0622 22:33:47.317523  7048 callbacks.py:241] Method (on_train_batch_end) is slow compared to the batch update (0.429182). Check your callbacks.\n"
     ]
    },
    {
     "name": "stdout",
     "output_type": "stream",
     "text": [
      " 59/468 [==>...........................] - ETA: 5:17 - loss: 1.4493 - accuracy: 0.4972\n",
      "Epoch 00001: saving model to training_10_3/cp-0001.ckpt\n"
     ]
    },
    {
     "name": "stderr",
     "output_type": "stream",
     "text": [
      "W0622 22:33:47.515978  7048 callbacks.py:241] Method (on_train_batch_end) is slow compared to the batch update (0.372969). Check your callbacks.\n"
     ]
    },
    {
     "name": "stdout",
     "output_type": "stream",
     "text": [
      " 60/468 [==>...........................] - ETA: 5:12 - loss: 1.4366 - accuracy: 0.5021\n",
      "Epoch 00001: saving model to training_10_3/cp-0001.ckpt\n"
     ]
    },
    {
     "name": "stderr",
     "output_type": "stream",
     "text": [
      "W0622 22:33:48.155343  7048 callbacks.py:241] Method (on_train_batch_end) is slow compared to the batch update (0.372969). Check your callbacks.\n"
     ]
    },
    {
     "name": "stdout",
     "output_type": "stream",
     "text": [
      " 61/468 [==>...........................] - ETA: 5:10 - loss: 1.4283 - accuracy: 0.5054\n",
      "Epoch 00001: saving model to training_10_3/cp-0001.ckpt\n"
     ]
    },
    {
     "name": "stderr",
     "output_type": "stream",
     "text": [
      "W0622 22:33:49.425265  7048 callbacks.py:241] Method (on_train_batch_end) is slow compared to the batch update (0.454601). Check your callbacks.\n"
     ]
    },
    {
     "name": "stdout",
     "output_type": "stream",
     "text": [
      " 62/468 [==>...........................] - ETA: 5:13 - loss: 1.4199 - accuracy: 0.5086\n",
      "Epoch 00001: saving model to training_10_3/cp-0001.ckpt\n"
     ]
    },
    {
     "name": "stderr",
     "output_type": "stream",
     "text": [
      "W0622 22:33:50.079289  7048 callbacks.py:241] Method (on_train_batch_end) is slow compared to the batch update (0.372969). Check your callbacks.\n"
     ]
    },
    {
     "name": "stdout",
     "output_type": "stream",
     "text": [
      " 63/468 [===>..........................] - ETA: 5:11 - loss: 1.4079 - accuracy: 0.5126\n",
      "Epoch 00001: saving model to training_10_3/cp-0001.ckpt\n"
     ]
    },
    {
     "name": "stderr",
     "output_type": "stream",
     "text": [
      "W0622 22:33:50.502601  7048 callbacks.py:241] Method (on_train_batch_end) is slow compared to the batch update (0.372969). Check your callbacks.\n"
     ]
    },
    {
     "name": "stdout",
     "output_type": "stream",
     "text": [
      " 64/468 [===>..........................] - ETA: 5:08 - loss: 1.3956 - accuracy: 0.5177\n",
      "Epoch 00001: saving model to training_10_3/cp-0001.ckpt\n"
     ]
    },
    {
     "name": "stderr",
     "output_type": "stream",
     "text": [
      "W0622 22:33:50.955234  7048 callbacks.py:241] Method (on_train_batch_end) is slow compared to the batch update (0.339726). Check your callbacks.\n"
     ]
    },
    {
     "name": "stdout",
     "output_type": "stream",
     "text": [
      " 65/468 [===>..........................] - ETA: 5:06 - loss: 1.3866 - accuracy: 0.5213\n",
      "Epoch 00001: saving model to training_10_3/cp-0001.ckpt\n"
     ]
    },
    {
     "name": "stderr",
     "output_type": "stream",
     "text": [
      "W0622 22:33:51.168355  7048 callbacks.py:241] Method (on_train_batch_end) is slow compared to the batch update (0.327016). Check your callbacks.\n"
     ]
    },
    {
     "name": "stdout",
     "output_type": "stream",
     "text": [
      " 66/468 [===>..........................] - ETA: 5:02 - loss: 1.3757 - accuracy: 0.5257\n",
      "Epoch 00001: saving model to training_10_3/cp-0001.ckpt\n"
     ]
    },
    {
     "name": "stderr",
     "output_type": "stream",
     "text": [
      "W0622 22:33:51.574068  7048 callbacks.py:241] Method (on_train_batch_end) is slow compared to the batch update (0.339237). Check your callbacks.\n"
     ]
    },
    {
     "name": "stdout",
     "output_type": "stream",
     "text": [
      " 67/468 [===>..........................] - ETA: 4:59 - loss: 1.3656 - accuracy: 0.5293\n",
      "Epoch 00001: saving model to training_10_3/cp-0001.ckpt\n"
     ]
    },
    {
     "name": "stderr",
     "output_type": "stream",
     "text": [
      "W0622 22:33:52.338562  7048 callbacks.py:241] Method (on_train_batch_end) is slow compared to the batch update (0.339237). Check your callbacks.\n"
     ]
    },
    {
     "name": "stdout",
     "output_type": "stream",
     "text": [
      " 68/468 [===>..........................] - ETA: 4:58 - loss: 1.3539 - accuracy: 0.5337\n",
      "Epoch 00001: saving model to training_10_3/cp-0001.ckpt\n"
     ]
    },
    {
     "name": "stderr",
     "output_type": "stream",
     "text": [
      "W0622 22:33:53.025829  7048 callbacks.py:241] Method (on_train_batch_end) is slow compared to the batch update (0.339237). Check your callbacks.\n"
     ]
    },
    {
     "name": "stdout",
     "output_type": "stream",
     "text": [
      " 69/468 [===>..........................] - ETA: 4:57 - loss: 1.3430 - accuracy: 0.5379\n",
      "Epoch 00001: saving model to training_10_3/cp-0001.ckpt\n"
     ]
    },
    {
     "name": "stderr",
     "output_type": "stream",
     "text": [
      "W0622 22:33:53.794234  7048 callbacks.py:241] Method (on_train_batch_end) is slow compared to the batch update (0.418421). Check your callbacks.\n"
     ]
    },
    {
     "name": "stdout",
     "output_type": "stream",
     "text": [
      " 70/468 [===>..........................] - ETA: 4:56 - loss: 1.3330 - accuracy: 0.5415\n",
      "Epoch 00001: saving model to training_10_3/cp-0001.ckpt\n"
     ]
    },
    {
     "name": "stderr",
     "output_type": "stream",
     "text": [
      "W0622 22:33:54.326057  7048 callbacks.py:241] Method (on_train_batch_end) is slow compared to the batch update (0.399356). Check your callbacks.\n"
     ]
    },
    {
     "name": "stdout",
     "output_type": "stream",
     "text": [
      " 71/468 [===>..........................] - ETA: 4:55 - loss: 1.3248 - accuracy: 0.5442\n",
      "Epoch 00001: saving model to training_10_3/cp-0001.ckpt\n"
     ]
    },
    {
     "name": "stderr",
     "output_type": "stream",
     "text": [
      "W0622 22:33:54.999636  7048 callbacks.py:241] Method (on_train_batch_end) is slow compared to the batch update (0.399356). Check your callbacks.\n"
     ]
    },
    {
     "name": "stdout",
     "output_type": "stream",
     "text": [
      " 72/468 [===>..........................] - ETA: 4:53 - loss: 1.3142 - accuracy: 0.5475\n",
      "Epoch 00001: saving model to training_10_3/cp-0001.ckpt\n"
     ]
    },
    {
     "name": "stderr",
     "output_type": "stream",
     "text": [
      "W0622 22:33:55.798350  7048 callbacks.py:241] Method (on_train_batch_end) is slow compared to the batch update (0.471701). Check your callbacks.\n"
     ]
    },
    {
     "name": "stdout",
     "output_type": "stream",
     "text": [
      " 73/468 [===>..........................] - ETA: 4:53 - loss: 1.3041 - accuracy: 0.5503\n",
      "Epoch 00001: saving model to training_10_3/cp-0001.ckpt\n"
     ]
    },
    {
     "name": "stderr",
     "output_type": "stream",
     "text": [
      "W0622 22:33:56.631278  7048 callbacks.py:241] Method (on_train_batch_end) is slow compared to the batch update (0.529380). Check your callbacks.\n"
     ]
    },
    {
     "name": "stdout",
     "output_type": "stream",
     "text": [
      " 74/468 [===>..........................] - ETA: 4:53 - loss: 1.2945 - accuracy: 0.5538\n",
      "Epoch 00001: saving model to training_10_3/cp-0001.ckpt\n"
     ]
    },
    {
     "name": "stderr",
     "output_type": "stream",
     "text": [
      "W0622 22:33:57.193408  7048 callbacks.py:241] Method (on_train_batch_end) is slow compared to the batch update (0.541119). Check your callbacks.\n"
     ]
    },
    {
     "name": "stdout",
     "output_type": "stream",
     "text": [
      " 75/468 [===>..........................] - ETA: 4:51 - loss: 1.2876 - accuracy: 0.5566\n",
      "Epoch 00001: saving model to training_10_3/cp-0001.ckpt\n"
     ]
    },
    {
     "name": "stderr",
     "output_type": "stream",
     "text": [
      "W0622 22:33:57.816149  7048 callbacks.py:241] Method (on_train_batch_end) is slow compared to the batch update (0.557241). Check your callbacks.\n"
     ]
    },
    {
     "name": "stdout",
     "output_type": "stream",
     "text": [
      " 76/468 [===>..........................] - ETA: 4:50 - loss: 1.2792 - accuracy: 0.5596\n",
      "Epoch 00001: saving model to training_10_3/cp-0001.ckpt\n"
     ]
    },
    {
     "name": "stderr",
     "output_type": "stream",
     "text": [
      "W0622 22:33:58.073266  7048 callbacks.py:241] Method (on_train_batch_end) is slow compared to the batch update (0.557241). Check your callbacks.\n"
     ]
    },
    {
     "name": "stdout",
     "output_type": "stream",
     "text": [
      " 77/468 [===>..........................] - ETA: 4:46 - loss: 1.2706 - accuracy: 0.5631\n",
      "Epoch 00001: saving model to training_10_3/cp-0001.ckpt\n"
     ]
    },
    {
     "name": "stderr",
     "output_type": "stream",
     "text": [
      "W0622 22:33:58.580646  7048 callbacks.py:241] Method (on_train_batch_end) is slow compared to the batch update (0.530365). Check your callbacks.\n"
     ]
    },
    {
     "name": "stdout",
     "output_type": "stream",
     "text": [
      " 78/468 [====>.........................] - ETA: 4:45 - loss: 1.2618 - accuracy: 0.5666\n",
      "Epoch 00001: saving model to training_10_3/cp-0001.ckpt\n"
     ]
    },
    {
     "name": "stderr",
     "output_type": "stream",
     "text": [
      "W0622 22:33:59.212186  7048 callbacks.py:241] Method (on_train_batch_end) is slow compared to the batch update (0.557241). Check your callbacks.\n"
     ]
    },
    {
     "name": "stdout",
     "output_type": "stream",
     "text": [
      " 79/468 [====>.........................] - ETA: 4:43 - loss: 1.2530 - accuracy: 0.5697\n",
      "Epoch 00001: saving model to training_10_3/cp-0001.ckpt\n"
     ]
    },
    {
     "name": "stderr",
     "output_type": "stream",
     "text": [
      "W0622 22:33:59.565107  7048 callbacks.py:241] Method (on_train_batch_end) is slow compared to the batch update (0.530365). Check your callbacks.\n"
     ]
    },
    {
     "name": "stdout",
     "output_type": "stream",
     "text": [
      " 80/468 [====>.........................] - ETA: 4:41 - loss: 1.2429 - accuracy: 0.5732\n",
      "Epoch 00001: saving model to training_10_3/cp-0001.ckpt\n"
     ]
    },
    {
     "name": "stderr",
     "output_type": "stream",
     "text": [
      "W0622 22:33:59.820265  7048 callbacks.py:241] Method (on_train_batch_end) is slow compared to the batch update (0.530365). Check your callbacks.\n"
     ]
    },
    {
     "name": "stdout",
     "output_type": "stream",
     "text": [
      " 81/468 [====>.........................] - ETA: 4:38 - loss: 1.2341 - accuracy: 0.5762\n",
      "Epoch 00001: saving model to training_10_3/cp-0001.ckpt\n"
     ]
    },
    {
     "name": "stderr",
     "output_type": "stream",
     "text": [
      "W0622 22:34:00.321782  7048 callbacks.py:241] Method (on_train_batch_end) is slow compared to the batch update (0.487350). Check your callbacks.\n"
     ]
    },
    {
     "name": "stdout",
     "output_type": "stream",
     "text": [
      " 82/468 [====>.........................] - ETA: 4:36 - loss: 1.2254 - accuracy: 0.5796\n",
      "Epoch 00001: saving model to training_10_3/cp-0001.ckpt\n"
     ]
    },
    {
     "name": "stderr",
     "output_type": "stream",
     "text": [
      "W0622 22:34:00.918129  7048 callbacks.py:241] Method (on_train_batch_end) is slow compared to the batch update (0.487350). Check your callbacks.\n"
     ]
    },
    {
     "name": "stdout",
     "output_type": "stream",
     "text": [
      " 83/468 [====>.........................] - ETA: 4:35 - loss: 1.2202 - accuracy: 0.5817\n",
      "Epoch 00001: saving model to training_10_3/cp-0001.ckpt\n"
     ]
    },
    {
     "name": "stderr",
     "output_type": "stream",
     "text": [
      "W0622 22:34:01.947561  7048 callbacks.py:241] Method (on_train_batch_end) is slow compared to the batch update (0.487350). Check your callbacks.\n"
     ]
    },
    {
     "name": "stdout",
     "output_type": "stream",
     "text": [
      " 84/468 [====>.........................] - ETA: 4:36 - loss: 1.2109 - accuracy: 0.5849\n",
      "Epoch 00001: saving model to training_10_3/cp-0001.ckpt\n"
     ]
    },
    {
     "name": "stderr",
     "output_type": "stream",
     "text": [
      "W0622 22:34:02.798085  7048 callbacks.py:241] Method (on_train_batch_end) is slow compared to the batch update (0.503473). Check your callbacks.\n"
     ]
    },
    {
     "name": "stdout",
     "output_type": "stream",
     "text": [
      " 85/468 [====>.........................] - ETA: 4:35 - loss: 1.2021 - accuracy: 0.5881\n",
      "Epoch 00001: saving model to training_10_3/cp-0001.ckpt\n"
     ]
    },
    {
     "name": "stderr",
     "output_type": "stream",
     "text": [
      "W0622 22:34:03.236057  7048 callbacks.py:241] Method (on_train_batch_end) is slow compared to the batch update (0.429660). Check your callbacks.\n"
     ]
    },
    {
     "name": "stdout",
     "output_type": "stream",
     "text": [
      " 86/468 [====>.........................] - ETA: 4:33 - loss: 1.1938 - accuracy: 0.5910\n",
      "Epoch 00001: saving model to training_10_3/cp-0001.ckpt\n"
     ]
    },
    {
     "name": "stderr",
     "output_type": "stream",
     "text": [
      "W0622 22:34:03.896928  7048 callbacks.py:241] Method (on_train_batch_end) is slow compared to the batch update (0.506406). Check your callbacks.\n"
     ]
    },
    {
     "name": "stdout",
     "output_type": "stream",
     "text": [
      " 87/468 [====>.........................] - ETA: 4:32 - loss: 1.1873 - accuracy: 0.5932\n",
      "Epoch 00001: saving model to training_10_3/cp-0001.ckpt\n"
     ]
    },
    {
     "name": "stderr",
     "output_type": "stream",
     "text": [
      "W0622 22:34:05.260702  7048 callbacks.py:241] Method (on_train_batch_end) is slow compared to the batch update (0.552843). Check your callbacks.\n"
     ]
    },
    {
     "name": "stdout",
     "output_type": "stream",
     "text": [
      " 88/468 [====>.........................] - ETA: 4:35 - loss: 1.1784 - accuracy: 0.5962\n",
      "Epoch 00001: saving model to training_10_3/cp-0001.ckpt\n"
     ]
    },
    {
     "name": "stderr",
     "output_type": "stream",
     "text": [
      "W0622 22:34:05.921572  7048 callbacks.py:241] Method (on_train_batch_end) is slow compared to the batch update (0.506406). Check your callbacks.\n"
     ]
    },
    {
     "name": "stdout",
     "output_type": "stream",
     "text": [
      " 89/468 [====>.........................] - ETA: 4:34 - loss: 1.1700 - accuracy: 0.5991\n",
      "Epoch 00001: saving model to training_10_3/cp-0001.ckpt\n"
     ]
    },
    {
     "name": "stderr",
     "output_type": "stream",
     "text": [
      "W0622 22:34:06.507164  7048 callbacks.py:241] Method (on_train_batch_end) is slow compared to the batch update (0.522048). Check your callbacks.\n"
     ]
    },
    {
     "name": "stdout",
     "output_type": "stream",
     "text": [
      " 90/468 [====>.........................] - ETA: 4:32 - loss: 1.1646 - accuracy: 0.6019\n",
      "Epoch 00001: saving model to training_10_3/cp-0001.ckpt\n"
     ]
    },
    {
     "name": "stderr",
     "output_type": "stream",
     "text": [
      "W0622 22:34:06.997928  7048 callbacks.py:241] Method (on_train_batch_end) is slow compared to the batch update (0.522048). Check your callbacks.\n"
     ]
    },
    {
     "name": "stdout",
     "output_type": "stream",
     "text": [
      " 91/468 [====>.........................] - ETA: 4:31 - loss: 1.1607 - accuracy: 0.6039\n",
      "Epoch 00001: saving model to training_10_3/cp-0001.ckpt\n"
     ]
    },
    {
     "name": "stderr",
     "output_type": "stream",
     "text": [
      "W0622 22:34:07.764379  7048 callbacks.py:241] Method (on_train_batch_end) is slow compared to the batch update (0.552843). Check your callbacks.\n"
     ]
    },
    {
     "name": "stdout",
     "output_type": "stream",
     "text": [
      " 92/468 [====>.........................] - ETA: 4:30 - loss: 1.1537 - accuracy: 0.6063\n",
      "Epoch 00001: saving model to training_10_3/cp-0001.ckpt\n"
     ]
    },
    {
     "name": "stderr",
     "output_type": "stream",
     "text": [
      "W0622 22:34:08.128053  7048 callbacks.py:241] Method (on_train_batch_end) is slow compared to the batch update (0.522537). Check your callbacks.\n"
     ]
    },
    {
     "name": "stdout",
     "output_type": "stream",
     "text": [
      " 93/468 [====>.........................] - ETA: 4:28 - loss: 1.1482 - accuracy: 0.6085\n",
      "Epoch 00001: saving model to training_10_3/cp-0001.ckpt\n"
     ]
    },
    {
     "name": "stderr",
     "output_type": "stream",
     "text": [
      "W0622 22:34:09.380380  7048 callbacks.py:241] Method (on_train_batch_end) is slow compared to the batch update (0.522537). Check your callbacks.\n"
     ]
    },
    {
     "name": "stdout",
     "output_type": "stream",
     "text": [
      " 94/468 [=====>........................] - ETA: 4:29 - loss: 1.1430 - accuracy: 0.6102\n",
      "Epoch 00001: saving model to training_10_3/cp-0001.ckpt\n"
     ]
    },
    {
     "name": "stderr",
     "output_type": "stream",
     "text": [
      "W0622 22:34:10.451848  7048 callbacks.py:241] Method (on_train_batch_end) is slow compared to the batch update (0.522537). Check your callbacks.\n"
     ]
    },
    {
     "name": "stdout",
     "output_type": "stream",
     "text": [
      " 95/468 [=====>........................] - ETA: 4:30 - loss: 1.1358 - accuracy: 0.6127\n",
      "Epoch 00001: saving model to training_10_3/cp-0001.ckpt\n"
     ]
    },
    {
     "name": "stderr",
     "output_type": "stream",
     "text": [
      "W0622 22:34:11.585883  7048 callbacks.py:241] Method (on_train_batch_end) is slow compared to the batch update (0.608078). Check your callbacks.\n"
     ]
    },
    {
     "name": "stdout",
     "output_type": "stream",
     "text": [
      " 96/468 [=====>........................] - ETA: 4:31 - loss: 1.1292 - accuracy: 0.6153\n",
      "Epoch 00001: saving model to training_10_3/cp-0001.ckpt\n"
     ]
    },
    {
     "name": "stderr",
     "output_type": "stream",
     "text": [
      "W0622 22:34:12.666151  7048 callbacks.py:241] Method (on_train_batch_end) is slow compared to the batch update (0.706328). Check your callbacks.\n"
     ]
    },
    {
     "name": "stdout",
     "output_type": "stream",
     "text": [
      " 97/468 [=====>........................] - ETA: 4:31 - loss: 1.1246 - accuracy: 0.6172\n",
      "Epoch 00001: saving model to training_10_3/cp-0001.ckpt\n"
     ]
    },
    {
     "name": "stderr",
     "output_type": "stream",
     "text": [
      "W0622 22:34:13.565558  7048 callbacks.py:241] Method (on_train_batch_end) is slow compared to the batch update (0.706328). Check your callbacks.\n"
     ]
    },
    {
     "name": "stdout",
     "output_type": "stream",
     "text": [
      " 98/468 [=====>........................] - ETA: 4:31 - loss: 1.1182 - accuracy: 0.6196\n",
      "Epoch 00001: saving model to training_10_3/cp-0001.ckpt\n"
     ]
    },
    {
     "name": "stderr",
     "output_type": "stream",
     "text": [
      "W0622 22:34:14.061211  7048 callbacks.py:241] Method (on_train_batch_end) is slow compared to the batch update (0.706328). Check your callbacks.\n"
     ]
    },
    {
     "name": "stdout",
     "output_type": "stream",
     "text": [
      " 99/468 [=====>........................] - ETA: 4:30 - loss: 1.1120 - accuracy: 0.6217\n",
      "Epoch 00001: saving model to training_10_3/cp-0001.ckpt\n"
     ]
    },
    {
     "name": "stderr",
     "output_type": "stream",
     "text": [
      "W0622 22:34:15.079886  7048 callbacks.py:241] Method (on_train_batch_end) is slow compared to the batch update (0.745441). Check your callbacks.\n"
     ]
    },
    {
     "name": "stdout",
     "output_type": "stream",
     "text": [
      "100/468 [=====>........................] - ETA: 4:30 - loss: 1.1058 - accuracy: 0.6241\n",
      "Epoch 00001: saving model to training_10_3/cp-0001.ckpt\n"
     ]
    },
    {
     "name": "stderr",
     "output_type": "stream",
     "text": [
      "W0622 22:34:15.993960  7048 callbacks.py:241] Method (on_train_batch_end) is slow compared to the batch update (0.764496). Check your callbacks.\n"
     ]
    },
    {
     "name": "stdout",
     "output_type": "stream",
     "text": [
      "101/468 [=====>........................] - ETA: 4:30 - loss: 1.1016 - accuracy: 0.6258\n",
      "Epoch 00001: saving model to training_10_3/cp-0001.ckpt\n"
     ]
    },
    {
     "name": "stderr",
     "output_type": "stream",
     "text": [
      "W0622 22:34:17.741938  7048 callbacks.py:241] Method (on_train_batch_end) is slow compared to the batch update (0.783071). Check your callbacks.\n"
     ]
    },
    {
     "name": "stdout",
     "output_type": "stream",
     "text": [
      "102/468 [=====>........................] - ETA: 4:33 - loss: 1.0987 - accuracy: 0.6275\n",
      "Epoch 00001: saving model to training_10_3/cp-0001.ckpt\n"
     ]
    },
    {
     "name": "stderr",
     "output_type": "stream",
     "text": [
      "W0622 22:34:18.405739  7048 callbacks.py:241] Method (on_train_batch_end) is slow compared to the batch update (0.783071). Check your callbacks.\n"
     ]
    },
    {
     "name": "stdout",
     "output_type": "stream",
     "text": [
      "103/468 [=====>........................] - ETA: 4:32 - loss: 1.0934 - accuracy: 0.6296\n",
      "Epoch 00001: saving model to training_10_3/cp-0001.ckpt\n"
     ]
    },
    {
     "name": "stderr",
     "output_type": "stream",
     "text": [
      "W0622 22:34:19.417575  7048 callbacks.py:241] Method (on_train_batch_end) is slow compared to the batch update (0.791871). Check your callbacks.\n"
     ]
    },
    {
     "name": "stdout",
     "output_type": "stream",
     "text": [
      "104/468 [=====>........................] - ETA: 4:32 - loss: 1.0876 - accuracy: 0.6315\n",
      "Epoch 00001: saving model to training_10_3/cp-0001.ckpt\n"
     ]
    },
    {
     "name": "stderr",
     "output_type": "stream",
     "text": [
      "W0622 22:34:21.066812  7048 callbacks.py:241] Method (on_train_batch_end) is slow compared to the batch update (0.791871). Check your callbacks.\n"
     ]
    },
    {
     "name": "stdout",
     "output_type": "stream",
     "text": [
      "105/468 [=====>........................] - ETA: 4:34 - loss: 1.0830 - accuracy: 0.6330\n",
      "Epoch 00001: saving model to training_10_3/cp-0001.ckpt\n"
     ]
    },
    {
     "name": "stderr",
     "output_type": "stream",
     "text": [
      "W0622 22:34:22.706278  7048 callbacks.py:241] Method (on_train_batch_end) is slow compared to the batch update (0.791871). Check your callbacks.\n"
     ]
    },
    {
     "name": "stdout",
     "output_type": "stream",
     "text": [
      "106/468 [=====>........................] - ETA: 4:37 - loss: 1.0794 - accuracy: 0.6343\n",
      "Epoch 00001: saving model to training_10_3/cp-0001.ckpt\n"
     ]
    },
    {
     "name": "stderr",
     "output_type": "stream",
     "text": [
      "W0622 22:34:23.658476  7048 callbacks.py:241] Method (on_train_batch_end) is slow compared to the batch update (0.783071). Check your callbacks.\n"
     ]
    },
    {
     "name": "stdout",
     "output_type": "stream",
     "text": [
      "107/468 [=====>........................] - ETA: 4:36 - loss: 1.0751 - accuracy: 0.6361\n",
      "Epoch 00001: saving model to training_10_3/cp-0001.ckpt\n"
     ]
    },
    {
     "name": "stderr",
     "output_type": "stream",
     "text": [
      "W0622 22:34:24.132620  7048 callbacks.py:241] Method (on_train_batch_end) is slow compared to the batch update (0.764016). Check your callbacks.\n"
     ]
    },
    {
     "name": "stdout",
     "output_type": "stream",
     "text": [
      "108/468 [=====>........................] - ETA: 4:35 - loss: 1.0694 - accuracy: 0.6382\n",
      "Epoch 00001: saving model to training_10_3/cp-0001.ckpt\n"
     ]
    },
    {
     "name": "stderr",
     "output_type": "stream",
     "text": [
      "W0622 22:34:24.989991  7048 callbacks.py:241] Method (on_train_batch_end) is slow compared to the batch update (0.771340). Check your callbacks.\n"
     ]
    },
    {
     "name": "stdout",
     "output_type": "stream",
     "text": [
      "109/468 [=====>........................] - ETA: 4:34 - loss: 1.0652 - accuracy: 0.6398\n",
      "Epoch 00001: saving model to training_10_3/cp-0001.ckpt\n"
     ]
    },
    {
     "name": "stderr",
     "output_type": "stream",
     "text": [
      "W0622 22:34:25.790660  7048 callbacks.py:241] Method (on_train_batch_end) is slow compared to the batch update (0.771340). Check your callbacks.\n"
     ]
    },
    {
     "name": "stdout",
     "output_type": "stream",
     "text": [
      "110/468 [======>.......................] - ETA: 4:34 - loss: 1.0588 - accuracy: 0.6421\n",
      "Epoch 00001: saving model to training_10_3/cp-0001.ckpt\n"
     ]
    },
    {
     "name": "stderr",
     "output_type": "stream",
     "text": [
      "W0622 22:34:26.521916  7048 callbacks.py:241] Method (on_train_batch_end) is slow compared to the batch update (0.684819). Check your callbacks.\n"
     ]
    },
    {
     "name": "stdout",
     "output_type": "stream",
     "text": [
      "111/468 [======>.......................] - ETA: 4:33 - loss: 1.0521 - accuracy: 0.6445\n",
      "Epoch 00001: saving model to training_10_3/cp-0001.ckpt\n"
     ]
    },
    {
     "name": "stderr",
     "output_type": "stream",
     "text": [
      "W0622 22:34:27.152479  7048 callbacks.py:241] Method (on_train_batch_end) is slow compared to the batch update (0.609543). Check your callbacks.\n"
     ]
    },
    {
     "name": "stdout",
     "output_type": "stream",
     "text": [
      "112/468 [======>.......................] - ETA: 4:32 - loss: 1.0459 - accuracy: 0.6470\n",
      "Epoch 00001: saving model to training_10_3/cp-0001.ckpt\n"
     ]
    },
    {
     "name": "stderr",
     "output_type": "stream",
     "text": [
      "W0622 22:34:27.672572  7048 callbacks.py:241] Method (on_train_batch_end) is slow compared to the batch update (0.609543). Check your callbacks.\n"
     ]
    },
    {
     "name": "stdout",
     "output_type": "stream",
     "text": [
      "113/468 [======>.......................] - ETA: 4:30 - loss: 1.0411 - accuracy: 0.6489\n",
      "Epoch 00001: saving model to training_10_3/cp-0001.ckpt\n"
     ]
    },
    {
     "name": "stderr",
     "output_type": "stream",
     "text": [
      "W0622 22:34:28.393076  7048 callbacks.py:241] Method (on_train_batch_end) is slow compared to the batch update (0.581683). Check your callbacks.\n"
     ]
    },
    {
     "name": "stdout",
     "output_type": "stream",
     "text": [
      "114/468 [======>.......................] - ETA: 4:29 - loss: 1.0361 - accuracy: 0.6508\n",
      "Epoch 00001: saving model to training_10_3/cp-0001.ckpt\n"
     ]
    },
    {
     "name": "stderr",
     "output_type": "stream",
     "text": [
      "W0622 22:34:28.899480  7048 callbacks.py:241] Method (on_train_batch_end) is slow compared to the batch update (0.558221). Check your callbacks.\n"
     ]
    },
    {
     "name": "stdout",
     "output_type": "stream",
     "text": [
      "115/468 [======>.......................] - ETA: 4:28 - loss: 1.0319 - accuracy: 0.6524\n",
      "Epoch 00001: saving model to training_10_3/cp-0001.ckpt\n"
     ]
    },
    {
     "name": "stderr",
     "output_type": "stream",
     "text": [
      "W0622 22:34:29.397087  7048 callbacks.py:241] Method (on_train_batch_end) is slow compared to the batch update (0.541601). Check your callbacks.\n"
     ]
    },
    {
     "name": "stdout",
     "output_type": "stream",
     "text": [
      "116/468 [======>.......................] - ETA: 4:26 - loss: 1.0274 - accuracy: 0.6543\n",
      "Epoch 00001: saving model to training_10_3/cp-0001.ckpt\n"
     ]
    },
    {
     "name": "stderr",
     "output_type": "stream",
     "text": [
      "W0622 22:34:30.182115  7048 callbacks.py:241] Method (on_train_batch_end) is slow compared to the batch update (0.541601). Check your callbacks.\n"
     ]
    },
    {
     "name": "stdout",
     "output_type": "stream",
     "text": [
      "117/468 [======>.......................] - ETA: 4:25 - loss: 1.0219 - accuracy: 0.6564\n",
      "Epoch 00001: saving model to training_10_3/cp-0001.ckpt\n"
     ]
    },
    {
     "name": "stderr",
     "output_type": "stream",
     "text": [
      "W0622 22:34:31.374807  7048 callbacks.py:241] Method (on_train_batch_end) is slow compared to the batch update (0.558221). Check your callbacks.\n"
     ]
    },
    {
     "name": "stdout",
     "output_type": "stream",
     "text": [
      "118/468 [======>.......................] - ETA: 4:26 - loss: 1.0178 - accuracy: 0.6580\n",
      "Epoch 00001: saving model to training_10_3/cp-0001.ckpt\n"
     ]
    },
    {
     "name": "stderr",
     "output_type": "stream",
     "text": [
      "W0622 22:34:32.211647  7048 callbacks.py:241] Method (on_train_batch_end) is slow compared to the batch update (0.558221). Check your callbacks.\n"
     ]
    },
    {
     "name": "stdout",
     "output_type": "stream",
     "text": [
      "119/468 [======>.......................] - ETA: 4:25 - loss: 1.0123 - accuracy: 0.6599\n",
      "Epoch 00001: saving model to training_10_3/cp-0001.ckpt\n"
     ]
    },
    {
     "name": "stderr",
     "output_type": "stream",
     "text": [
      "W0622 22:34:33.322220  7048 callbacks.py:241] Method (on_train_batch_end) is slow compared to the batch update (0.558221). Check your callbacks.\n"
     ]
    },
    {
     "name": "stdout",
     "output_type": "stream",
     "text": [
      "120/468 [======>.......................] - ETA: 4:26 - loss: 1.0074 - accuracy: 0.6616\n",
      "Epoch 00001: saving model to training_10_3/cp-0001.ckpt\n"
     ]
    },
    {
     "name": "stderr",
     "output_type": "stream",
     "text": [
      "W0622 22:34:33.853066  7048 callbacks.py:241] Method (on_train_batch_end) is slow compared to the batch update (0.541601). Check your callbacks.\n"
     ]
    },
    {
     "name": "stdout",
     "output_type": "stream",
     "text": [
      "121/468 [======>.......................] - ETA: 4:24 - loss: 1.0032 - accuracy: 0.6632\n",
      "Epoch 00001: saving model to training_10_3/cp-0001.ckpt\n"
     ]
    },
    {
     "name": "stderr",
     "output_type": "stream",
     "text": [
      "W0622 22:34:34.155149  7048 callbacks.py:241] Method (on_train_batch_end) is slow compared to the batch update (0.484410). Check your callbacks.\n"
     ]
    },
    {
     "name": "stdout",
     "output_type": "stream",
     "text": [
      "122/468 [======>.......................] - ETA: 4:22 - loss: 0.9985 - accuracy: 0.6648\n",
      "Epoch 00001: saving model to training_10_3/cp-0001.ckpt\n"
     ]
    },
    {
     "name": "stderr",
     "output_type": "stream",
     "text": [
      "W0622 22:34:34.721189  7048 callbacks.py:241] Method (on_train_batch_end) is slow compared to the batch update (0.525469). Check your callbacks.\n"
     ]
    },
    {
     "name": "stdout",
     "output_type": "stream",
     "text": [
      "123/468 [======>.......................] - ETA: 4:21 - loss: 0.9942 - accuracy: 0.6663\n",
      "Epoch 00001: saving model to training_10_3/cp-0001.ckpt\n"
     ]
    },
    {
     "name": "stderr",
     "output_type": "stream",
     "text": [
      "W0622 22:34:35.360551  7048 callbacks.py:241] Method (on_train_batch_end) is slow compared to the batch update (0.539644). Check your callbacks.\n"
     ]
    },
    {
     "name": "stdout",
     "output_type": "stream",
     "text": [
      "124/468 [======>.......................] - ETA: 4:20 - loss: 0.9897 - accuracy: 0.6678\n",
      "Epoch 00001: saving model to training_10_3/cp-0001.ckpt\n"
     ]
    },
    {
     "name": "stderr",
     "output_type": "stream",
     "text": [
      "W0622 22:34:36.188592  7048 callbacks.py:241] Method (on_train_batch_end) is slow compared to the batch update (0.586571). Check your callbacks.\n"
     ]
    },
    {
     "name": "stdout",
     "output_type": "stream",
     "text": [
      "125/468 [=======>......................] - ETA: 4:19 - loss: 0.9844 - accuracy: 0.6695\n",
      "Epoch 00001: saving model to training_10_3/cp-0001.ckpt\n"
     ]
    },
    {
     "name": "stderr",
     "output_type": "stream",
     "text": [
      "W0622 22:34:36.735082  7048 callbacks.py:241] Method (on_train_batch_end) is slow compared to the batch update (0.586571). Check your callbacks.\n"
     ]
    },
    {
     "name": "stdout",
     "output_type": "stream",
     "text": [
      "126/468 [=======>......................] - ETA: 4:18 - loss: 0.9786 - accuracy: 0.6714\n",
      "Epoch 00001: saving model to training_10_3/cp-0001.ckpt\n"
     ]
    },
    {
     "name": "stderr",
     "output_type": "stream",
     "text": [
      "W0622 22:34:37.479047  7048 callbacks.py:241] Method (on_train_batch_end) is slow compared to the batch update (0.571907). Check your callbacks.\n"
     ]
    },
    {
     "name": "stdout",
     "output_type": "stream",
     "text": [
      "127/468 [=======>......................] - ETA: 4:17 - loss: 0.9755 - accuracy: 0.6729\n",
      "Epoch 00001: saving model to training_10_3/cp-0001.ckpt\n"
     ]
    },
    {
     "name": "stderr",
     "output_type": "stream",
     "text": [
      "W0622 22:34:37.973722  7048 callbacks.py:241] Method (on_train_batch_end) is slow compared to the batch update (0.524980). Check your callbacks.\n"
     ]
    },
    {
     "name": "stdout",
     "output_type": "stream",
     "text": [
      "128/468 [=======>......................] - ETA: 4:16 - loss: 0.9714 - accuracy: 0.6744\n",
      "Epoch 00001: saving model to training_10_3/cp-0001.ckpt\n"
     ]
    },
    {
     "name": "stderr",
     "output_type": "stream",
     "text": [
      "W0622 22:34:38.506523  7048 callbacks.py:241] Method (on_train_batch_end) is slow compared to the batch update (0.484409). Check your callbacks.\n"
     ]
    },
    {
     "name": "stdout",
     "output_type": "stream",
     "text": [
      "129/468 [=======>......................] - ETA: 4:14 - loss: 0.9662 - accuracy: 0.6760\n",
      "Epoch 00001: saving model to training_10_3/cp-0001.ckpt\n"
     ]
    },
    {
     "name": "stderr",
     "output_type": "stream",
     "text": [
      "W0622 22:34:39.401042  7048 callbacks.py:241] Method (on_train_batch_end) is slow compared to the batch update (0.484409). Check your callbacks.\n"
     ]
    },
    {
     "name": "stdout",
     "output_type": "stream",
     "text": [
      "130/468 [=======>......................] - ETA: 4:14 - loss: 0.9619 - accuracy: 0.6777\n",
      "Epoch 00001: saving model to training_10_3/cp-0001.ckpt\n"
     ]
    },
    {
     "name": "stderr",
     "output_type": "stream",
     "text": [
      "W0622 22:34:40.115681  7048 callbacks.py:241] Method (on_train_batch_end) is slow compared to the batch update (0.524980). Check your callbacks.\n"
     ]
    },
    {
     "name": "stdout",
     "output_type": "stream",
     "text": [
      "131/468 [=======>......................] - ETA: 4:13 - loss: 0.9576 - accuracy: 0.6789\n",
      "Epoch 00001: saving model to training_10_3/cp-0001.ckpt\n"
     ]
    },
    {
     "name": "stderr",
     "output_type": "stream",
     "text": [
      "W0622 22:34:40.840095  7048 callbacks.py:241] Method (on_train_batch_end) is slow compared to the batch update (0.568974). Check your callbacks.\n"
     ]
    },
    {
     "name": "stdout",
     "output_type": "stream",
     "text": [
      "132/468 [=======>......................] - ETA: 4:12 - loss: 0.9528 - accuracy: 0.6804\n",
      "Epoch 00001: saving model to training_10_3/cp-0001.ckpt\n"
     ]
    },
    {
     "name": "stderr",
     "output_type": "stream",
     "text": [
      "W0622 22:34:41.610457  7048 callbacks.py:241] Method (on_train_batch_end) is slow compared to the batch update (0.583639). Check your callbacks.\n"
     ]
    },
    {
     "name": "stdout",
     "output_type": "stream",
     "text": [
      "133/468 [=======>......................] - ETA: 4:12 - loss: 0.9490 - accuracy: 0.6816\n",
      "Epoch 00001: saving model to training_10_3/cp-0001.ckpt\n"
     ]
    },
    {
     "name": "stderr",
     "output_type": "stream",
     "text": [
      "W0622 22:34:42.397439  7048 callbacks.py:241] Method (on_train_batch_end) is slow compared to the batch update (0.599769). Check your callbacks.\n"
     ]
    },
    {
     "name": "stdout",
     "output_type": "stream",
     "text": [
      "134/468 [=======>......................] - ETA: 4:11 - loss: 0.9460 - accuracy: 0.6828\n",
      "Epoch 00001: saving model to training_10_3/cp-0001.ckpt\n"
     ]
    },
    {
     "name": "stderr",
     "output_type": "stream",
     "text": [
      "W0622 22:34:42.691700  7048 callbacks.py:241] Method (on_train_batch_end) is slow compared to the batch update (0.568974). Check your callbacks.\n"
     ]
    },
    {
     "name": "stdout",
     "output_type": "stream",
     "text": [
      "135/468 [=======>......................] - ETA: 4:09 - loss: 0.9417 - accuracy: 0.6841\n",
      "Epoch 00001: saving model to training_10_3/cp-0001.ckpt\n"
     ]
    },
    {
     "name": "stderr",
     "output_type": "stream",
     "text": [
      "W0622 22:34:43.177575  7048 callbacks.py:241] Method (on_train_batch_end) is slow compared to the batch update (0.568974). Check your callbacks.\n"
     ]
    },
    {
     "name": "stdout",
     "output_type": "stream",
     "text": [
      "136/468 [=======>......................] - ETA: 4:08 - loss: 0.9386 - accuracy: 0.6853\n",
      "Epoch 00001: saving model to training_10_3/cp-0001.ckpt\n"
     ]
    },
    {
     "name": "stderr",
     "output_type": "stream",
     "text": [
      "W0622 22:34:43.732865  7048 callbacks.py:241] Method (on_train_batch_end) is slow compared to the batch update (0.540623). Check your callbacks.\n"
     ]
    },
    {
     "name": "stdout",
     "output_type": "stream",
     "text": [
      "137/468 [=======>......................] - ETA: 4:06 - loss: 0.9349 - accuracy: 0.6865\n",
      "Epoch 00001: saving model to training_10_3/cp-0001.ckpt\n"
     ]
    },
    {
     "name": "stderr",
     "output_type": "stream",
     "text": [
      "W0622 22:34:44.763272  7048 callbacks.py:241] Method (on_train_batch_end) is slow compared to the batch update (0.599769). Check your callbacks.\n"
     ]
    },
    {
     "name": "stdout",
     "output_type": "stream",
     "text": [
      "138/468 [=======>......................] - ETA: 4:06 - loss: 0.9299 - accuracy: 0.6883\n",
      "Epoch 00001: saving model to training_10_3/cp-0001.ckpt\n"
     ]
    },
    {
     "name": "stderr",
     "output_type": "stream",
     "text": [
      "W0622 22:34:45.385036  7048 callbacks.py:241] Method (on_train_batch_end) is slow compared to the batch update (0.599769). Check your callbacks.\n"
     ]
    },
    {
     "name": "stdout",
     "output_type": "stream",
     "text": [
      "139/468 [=======>......................] - ETA: 4:05 - loss: 0.9264 - accuracy: 0.6893\n",
      "Epoch 00001: saving model to training_10_3/cp-0001.ckpt\n"
     ]
    },
    {
     "name": "stderr",
     "output_type": "stream",
     "text": [
      "W0622 22:34:45.765328  7048 callbacks.py:241] Method (on_train_batch_end) is slow compared to the batch update (0.540623). Check your callbacks.\n"
     ]
    },
    {
     "name": "stdout",
     "output_type": "stream",
     "text": [
      "140/468 [=======>......................] - ETA: 4:04 - loss: 0.9216 - accuracy: 0.6909\n",
      "Epoch 00001: saving model to training_10_3/cp-0001.ckpt\n"
     ]
    },
    {
     "name": "stderr",
     "output_type": "stream",
     "text": [
      "W0622 22:34:46.028308  7048 callbacks.py:241] Method (on_train_batch_end) is slow compared to the batch update (0.490276). Check your callbacks.\n"
     ]
    },
    {
     "name": "stdout",
     "output_type": "stream",
     "text": [
      "141/468 [========>.....................] - ETA: 4:02 - loss: 0.9183 - accuracy: 0.6922\n",
      "Epoch 00001: saving model to training_10_3/cp-0001.ckpt\n"
     ]
    },
    {
     "name": "stderr",
     "output_type": "stream",
     "text": [
      "W0622 22:34:46.652026  7048 callbacks.py:241] Method (on_train_batch_end) is slow compared to the batch update (0.490276). Check your callbacks.\n"
     ]
    },
    {
     "name": "stdout",
     "output_type": "stream",
     "text": [
      "142/468 [========>.....................] - ETA: 4:01 - loss: 0.9152 - accuracy: 0.6932\n",
      "Epoch 00001: saving model to training_10_3/cp-0001.ckpt\n"
     ]
    },
    {
     "name": "stderr",
     "output_type": "stream",
     "text": [
      "W0622 22:34:46.979528  7048 callbacks.py:241] Method (on_train_batch_end) is slow compared to the batch update (0.455080). Check your callbacks.\n"
     ]
    },
    {
     "name": "stdout",
     "output_type": "stream",
     "text": [
      "143/468 [========>.....................] - ETA: 3:59 - loss: 0.9117 - accuracy: 0.6945\n",
      "Epoch 00001: saving model to training_10_3/cp-0001.ckpt\n"
     ]
    },
    {
     "name": "stderr",
     "output_type": "stream",
     "text": [
      "W0622 22:34:47.284544  7048 callbacks.py:241] Method (on_train_batch_end) is slow compared to the batch update (0.371004). Check your callbacks.\n"
     ]
    },
    {
     "name": "stdout",
     "output_type": "stream",
     "text": [
      "144/468 [========>.....................] - ETA: 3:57 - loss: 0.9085 - accuracy: 0.6959\n",
      "Epoch 00001: saving model to training_10_3/cp-0001.ckpt\n"
     ]
    },
    {
     "name": "stderr",
     "output_type": "stream",
     "text": [
      "W0622 22:34:47.680482  7048 callbacks.py:241] Method (on_train_batch_end) is slow compared to the batch update (0.384693). Check your callbacks.\n"
     ]
    },
    {
     "name": "stdout",
     "output_type": "stream",
     "text": [
      "145/468 [========>.....................] - ETA: 3:56 - loss: 0.9052 - accuracy: 0.6970\n",
      "Epoch 00001: saving model to training_10_3/cp-0001.ckpt\n"
     ]
    },
    {
     "name": "stderr",
     "output_type": "stream",
     "text": [
      "W0622 22:34:48.123339  7048 callbacks.py:241] Method (on_train_batch_end) is slow compared to the batch update (0.364164). Check your callbacks.\n"
     ]
    },
    {
     "name": "stdout",
     "output_type": "stream",
     "text": [
      "146/468 [========>.....................] - ETA: 3:55 - loss: 0.9022 - accuracy: 0.6980\n",
      "Epoch 00001: saving model to training_10_3/cp-0001.ckpt\n"
     ]
    },
    {
     "name": "stderr",
     "output_type": "stream",
     "text": [
      "W0622 22:34:48.465507  7048 callbacks.py:241] Method (on_train_batch_end) is slow compared to the batch update (0.325548). Check your callbacks.\n"
     ]
    },
    {
     "name": "stdout",
     "output_type": "stream",
     "text": [
      "147/468 [========>.....................] - ETA: 3:53 - loss: 0.8980 - accuracy: 0.6994\n",
      "Epoch 00001: saving model to training_10_3/cp-0001.ckpt\n"
     ]
    },
    {
     "name": "stderr",
     "output_type": "stream",
     "text": [
      "W0622 22:34:49.118555  7048 callbacks.py:241] Method (on_train_batch_end) is slow compared to the batch update (0.325548). Check your callbacks.\n"
     ]
    },
    {
     "name": "stdout",
     "output_type": "stream",
     "text": [
      "148/468 [========>.....................] - ETA: 3:52 - loss: 0.8955 - accuracy: 0.7005\n",
      "Epoch 00001: saving model to training_10_3/cp-0001.ckpt\n"
     ]
    },
    {
     "name": "stderr",
     "output_type": "stream",
     "text": [
      "W0622 22:34:50.143097  7048 callbacks.py:241] Method (on_train_batch_end) is slow compared to the batch update (0.325548). Check your callbacks.\n"
     ]
    },
    {
     "name": "stdout",
     "output_type": "stream",
     "text": [
      "149/468 [========>.....................] - ETA: 3:52 - loss: 0.8918 - accuracy: 0.7019\n",
      "Epoch 00001: saving model to training_10_3/cp-0001.ckpt\n"
     ]
    },
    {
     "name": "stderr",
     "output_type": "stream",
     "text": [
      "W0622 22:34:50.498949  7048 callbacks.py:241] Method (on_train_batch_end) is slow compared to the batch update (0.315772). Check your callbacks.\n"
     ]
    },
    {
     "name": "stdout",
     "output_type": "stream",
     "text": [
      "150/468 [========>.....................] - ETA: 3:50 - loss: 0.8875 - accuracy: 0.7035\n",
      "Epoch 00001: saving model to training_10_3/cp-0001.ckpt\n"
     ]
    },
    {
     "name": "stderr",
     "output_type": "stream",
     "text": [
      "W0622 22:34:51.092362  7048 callbacks.py:241] Method (on_train_batch_end) is slow compared to the batch update (0.364164). Check your callbacks.\n"
     ]
    },
    {
     "name": "stdout",
     "output_type": "stream",
     "text": [
      "151/468 [========>.....................] - ETA: 3:49 - loss: 0.8841 - accuracy: 0.7046\n",
      "Epoch 00001: saving model to training_10_3/cp-0001.ckpt\n"
     ]
    },
    {
     "name": "stderr",
     "output_type": "stream",
     "text": [
      "W0622 22:34:51.588014  7048 callbacks.py:241] Method (on_train_batch_end) is slow compared to the batch update (0.362698). Check your callbacks.\n"
     ]
    },
    {
     "name": "stdout",
     "output_type": "stream",
     "text": [
      "\b\b\b\b\b\b\b\b\b\b\b\b\b\b\b\b\b\b\b\b\b\b\b\b\b\b\b\b\b\b\b\b\b\b\b\b\b\b\b\b\b\b\b\b\b\b\b\b\b\b\b\b\b\b\b\b\b\b\b\b\b\b\b\b\b\b\b\b\b\b\b\b\b\b\b\b\b\b\b\b\b\b\b\b\b\b\r",
      "152/468 [========>.....................] - ETA: 3:48 - loss: 0.8804 - accuracy: 0.7060"
     ]
    },
    {
     "name": "stderr",
     "output_type": "stream",
     "text": [
      "W0622 22:34:51.768873  7048 callbacks.py:241] Method (on_train_batch_end) is slow compared to the batch update (0.362698). Check your callbacks.\n"
     ]
    },
    {
     "name": "stdout",
     "output_type": "stream",
     "text": [
      "\n",
      "Epoch 00001: saving model to training_10_3/cp-0001.ckpt\n",
      "153/468 [========>.....................] - ETA: 3:46 - loss: 0.8769 - accuracy: 0.7072\n",
      "Epoch 00001: saving model to training_10_3/cp-0001.ckpt\n"
     ]
    },
    {
     "name": "stderr",
     "output_type": "stream",
     "text": [
      "W0622 22:34:52.715207  7048 callbacks.py:241] Method (on_train_batch_end) is slow compared to the batch update (0.387625). Check your callbacks.\n"
     ]
    },
    {
     "name": "stdout",
     "output_type": "stream",
     "text": [
      "154/468 [========>.....................] - ETA: 3:46 - loss: 0.8733 - accuracy: 0.7084\n",
      "Epoch 00001: saving model to training_10_3/cp-0001.ckpt\n"
     ]
    },
    {
     "name": "stderr",
     "output_type": "stream",
     "text": [
      "W0622 22:34:53.625369  7048 callbacks.py:241] Method (on_train_batch_end) is slow compared to the batch update (0.448236). Check your callbacks.\n"
     ]
    },
    {
     "name": "stdout",
     "output_type": "stream",
     "text": [
      "155/468 [========>.....................] - ETA: 3:46 - loss: 0.8698 - accuracy: 0.7096\n",
      "Epoch 00001: saving model to training_10_3/cp-0001.ckpt\n"
     ]
    },
    {
     "name": "stderr",
     "output_type": "stream",
     "text": [
      "W0622 22:34:54.126886  7048 callbacks.py:241] Method (on_train_batch_end) is slow compared to the batch update (0.446770). Check your callbacks.\n"
     ]
    },
    {
     "name": "stdout",
     "output_type": "stream",
     "text": [
      "\b\b\b\b\b\b\b\b\b\b\b\b\b\b\b\b\b\b\b\b\b\b\b\b\b\b\b\b\b\b\b\b\b\b\b\b\b\b\b\b\b\b\b\b\b\b\b\b\b\b\b\b\b\b\b\b\b\b\b\b\b\b\b\b\b\b\b\b\b\b\b\b\b\b\b\b\b\b\b\b\b\b\b\b\b\b\r",
      "156/468 [=========>....................] - ETA: 3:45 - loss: 0.8663 - accuracy: 0.7108"
     ]
    },
    {
     "name": "stderr",
     "output_type": "stream",
     "text": [
      "W0622 22:34:54.302856  7048 callbacks.py:241] Method (on_train_batch_end) is slow compared to the batch update (0.446770). Check your callbacks.\n"
     ]
    },
    {
     "name": "stdout",
     "output_type": "stream",
     "text": [
      "\n",
      "Epoch 00001: saving model to training_10_3/cp-0001.ckpt\n",
      "157/468 [=========>....................] - ETA: 3:43 - loss: 0.8631 - accuracy: 0.7118\n",
      "Epoch 00001: saving model to training_10_3/cp-0001.ckpt\n"
     ]
    },
    {
     "name": "stderr",
     "output_type": "stream",
     "text": [
      "W0622 22:34:54.767223  7048 callbacks.py:241] Method (on_train_batch_end) is slow compared to the batch update (0.399356). Check your callbacks.\n"
     ]
    },
    {
     "name": "stdout",
     "output_type": "stream",
     "text": [
      "158/468 [=========>....................] - ETA: 3:42 - loss: 0.8599 - accuracy: 0.7128\n",
      "Epoch 00001: saving model to training_10_3/cp-0001.ckpt\n"
     ]
    },
    {
     "name": "stderr",
     "output_type": "stream",
     "text": [
      "W0622 22:34:55.235504  7048 callbacks.py:241] Method (on_train_batch_end) is slow compared to the batch update (0.394468). Check your callbacks.\n"
     ]
    },
    {
     "name": "stdout",
     "output_type": "stream",
     "text": [
      "159/468 [=========>....................] - ETA: 3:40 - loss: 0.8558 - accuracy: 0.7143\n",
      "Epoch 00001: saving model to training_10_3/cp-0001.ckpt\n"
     ]
    },
    {
     "name": "stderr",
     "output_type": "stream",
     "text": [
      "W0622 22:34:56.187703  7048 callbacks.py:241] Method (on_train_batch_end) is slow compared to the batch update (0.407665). Check your callbacks.\n"
     ]
    },
    {
     "name": "stdout",
     "output_type": "stream",
     "text": [
      "160/468 [=========>....................] - ETA: 3:40 - loss: 0.8529 - accuracy: 0.7152\n",
      "Epoch 00001: saving model to training_10_3/cp-0001.ckpt\n"
     ]
    },
    {
     "name": "stderr",
     "output_type": "stream",
     "text": [
      "W0622 22:34:56.574840  7048 callbacks.py:241] Method (on_train_batch_end) is slow compared to the batch update (0.394468). Check your callbacks.\n"
     ]
    },
    {
     "name": "stdout",
     "output_type": "stream",
     "text": [
      "161/468 [=========>....................] - ETA: 3:39 - loss: 0.8499 - accuracy: 0.7163\n",
      "Epoch 00001: saving model to training_10_3/cp-0001.ckpt\n"
     ]
    },
    {
     "name": "stderr",
     "output_type": "stream",
     "text": [
      "W0622 22:34:56.985446  7048 callbacks.py:241] Method (on_train_batch_end) is slow compared to the batch update (0.370030). Check your callbacks.\n"
     ]
    },
    {
     "name": "stdout",
     "output_type": "stream",
     "text": [
      "162/468 [=========>....................] - ETA: 3:38 - loss: 0.8470 - accuracy: 0.7173\n",
      "Epoch 00001: saving model to training_10_3/cp-0001.ckpt\n"
     ]
    },
    {
     "name": "stderr",
     "output_type": "stream",
     "text": [
      "W0622 22:34:57.379417  7048 callbacks.py:241] Method (on_train_batch_end) is slow compared to the batch update (0.370030). Check your callbacks.\n"
     ]
    },
    {
     "name": "stdout",
     "output_type": "stream",
     "text": [
      "163/468 [=========>....................] - ETA: 3:36 - loss: 0.8433 - accuracy: 0.7185\n",
      "Epoch 00001: saving model to training_10_3/cp-0001.ckpt\n"
     ]
    },
    {
     "name": "stderr",
     "output_type": "stream",
     "text": [
      "W0622 22:34:57.735278  7048 callbacks.py:241] Method (on_train_batch_end) is slow compared to the batch update (0.314306). Check your callbacks.\n"
     ]
    },
    {
     "name": "stdout",
     "output_type": "stream",
     "text": [
      "164/468 [=========>....................] - ETA: 3:35 - loss: 0.8406 - accuracy: 0.7194\n",
      "Epoch 00001: saving model to training_10_3/cp-0001.ckpt\n"
     ]
    },
    {
     "name": "stderr",
     "output_type": "stream",
     "text": [
      "W0622 22:34:58.048107  7048 callbacks.py:241] Method (on_train_batch_end) is slow compared to the batch update (0.284974). Check your callbacks.\n"
     ]
    },
    {
     "name": "stdout",
     "output_type": "stream",
     "text": [
      "165/468 [=========>....................] - ETA: 3:33 - loss: 0.8375 - accuracy: 0.7205\n",
      "Epoch 00001: saving model to training_10_3/cp-0001.ckpt\n"
     ]
    },
    {
     "name": "stderr",
     "output_type": "stream",
     "text": [
      "W0622 22:34:58.332593  7048 callbacks.py:241] Method (on_train_batch_end) is slow compared to the batch update (0.284974). Check your callbacks.\n"
     ]
    },
    {
     "name": "stdout",
     "output_type": "stream",
     "text": [
      "166/468 [=========>....................] - ETA: 3:32 - loss: 0.8348 - accuracy: 0.7214\n",
      "Epoch 00001: saving model to training_10_3/cp-0001.ckpt\n"
     ]
    },
    {
     "name": "stderr",
     "output_type": "stream",
     "text": [
      "W0622 22:34:58.789140  7048 callbacks.py:241] Method (on_train_batch_end) is slow compared to the batch update (0.314306). Check your callbacks.\n"
     ]
    },
    {
     "name": "stdout",
     "output_type": "stream",
     "text": [
      "167/468 [=========>....................] - ETA: 3:31 - loss: 0.8333 - accuracy: 0.7223\n",
      "Epoch 00001: saving model to training_10_3/cp-0001.ckpt\n"
     ]
    },
    {
     "name": "stderr",
     "output_type": "stream",
     "text": [
      "W0622 22:34:59.179209  7048 callbacks.py:241] Method (on_train_batch_end) is slow compared to the batch update (0.314306). Check your callbacks.\n"
     ]
    },
    {
     "name": "stdout",
     "output_type": "stream",
     "text": [
      "168/468 [=========>....................] - ETA: 3:30 - loss: 0.8319 - accuracy: 0.7229\n",
      "Epoch 00001: saving model to training_10_3/cp-0001.ckpt\n"
     ]
    },
    {
     "name": "stderr",
     "output_type": "stream",
     "text": [
      "W0622 22:34:59.431435  7048 callbacks.py:241] Method (on_train_batch_end) is slow compared to the batch update (0.284974). Check your callbacks.\n"
     ]
    },
    {
     "name": "stdout",
     "output_type": "stream",
     "text": [
      "\b\b\b\b\b\b\b\b\b\b\b\b\b\b\b\b\b\b\b\b\b\b\b\b\b\b\b\b\b\b\b\b\b\b\b\b\b\b\b\b\b\b\b\b\b\b\b\b\b\b\b\b\b\b\b\b\b\b\b\b\b\b\b\b\b\b\b\b\b\b\b\b\b\b\b\b\b\b\b\b\b\b\b\b\b\b\r",
      "169/468 [=========>....................] - ETA: 3:28 - loss: 0.8289 - accuracy: 0.7241"
     ]
    },
    {
     "name": "stderr",
     "output_type": "stream",
     "text": [
      "W0622 22:34:59.618160  7048 callbacks.py:241] Method (on_train_batch_end) is slow compared to the batch update (0.272759). Check your callbacks.\n"
     ]
    },
    {
     "name": "stdout",
     "output_type": "stream",
     "text": [
      "\n",
      "Epoch 00001: saving model to training_10_3/cp-0001.ckpt\n",
      "170/468 [=========>....................] - ETA: 3:26 - loss: 0.8261 - accuracy: 0.7252\n",
      "Epoch 00001: saving model to training_10_3/cp-0001.ckpt\n"
     ]
    },
    {
     "name": "stderr",
     "output_type": "stream",
     "text": [
      "W0622 22:34:59.942728  7048 callbacks.py:241] Method (on_train_batch_end) is slow compared to the batch update (0.268848). Check your callbacks.\n"
     ]
    },
    {
     "name": "stdout",
     "output_type": "stream",
     "text": [
      "171/468 [=========>....................] - ETA: 3:25 - loss: 0.8229 - accuracy: 0.7263\n",
      "Epoch 00001: saving model to training_10_3/cp-0001.ckpt\n"
     ]
    },
    {
     "name": "stderr",
     "output_type": "stream",
     "text": [
      "W0622 22:35:00.376790  7048 callbacks.py:241] Method (on_train_batch_end) is slow compared to the batch update (0.268848). Check your callbacks.\n"
     ]
    },
    {
     "name": "stdout",
     "output_type": "stream",
     "text": [
      "172/468 [==========>...................] - ETA: 3:24 - loss: 0.8201 - accuracy: 0.7273\n",
      "Epoch 00001: saving model to training_10_3/cp-0001.ckpt\n"
     ]
    },
    {
     "name": "stderr",
     "output_type": "stream",
     "text": [
      "W0622 22:35:00.817695  7048 callbacks.py:241] Method (on_train_batch_end) is slow compared to the batch update (0.268848). Check your callbacks.\n"
     ]
    },
    {
     "name": "stdout",
     "output_type": "stream",
     "text": [
      "173/468 [==========>...................] - ETA: 3:23 - loss: 0.8181 - accuracy: 0.7280\n",
      "Epoch 00001: saving model to training_10_3/cp-0001.ckpt\n"
     ]
    },
    {
     "name": "stderr",
     "output_type": "stream",
     "text": [
      "W0622 22:35:01.032771  7048 callbacks.py:241] Method (on_train_batch_end) is slow compared to the batch update (0.253202). Check your callbacks.\n"
     ]
    },
    {
     "name": "stdout",
     "output_type": "stream",
     "text": [
      "174/468 [==========>...................] - ETA: 3:21 - loss: 0.8156 - accuracy: 0.7289\n",
      "Epoch 00001: saving model to training_10_3/cp-0001.ckpt\n"
     ]
    },
    {
     "name": "stderr",
     "output_type": "stream",
     "text": [
      "W0622 22:35:01.302593  7048 callbacks.py:241] Method (on_train_batch_end) is slow compared to the batch update (0.247825). Check your callbacks.\n"
     ]
    },
    {
     "name": "stdout",
     "output_type": "stream",
     "text": [
      "175/468 [==========>...................] - ETA: 3:20 - loss: 0.8134 - accuracy: 0.7298\n",
      "Epoch 00001: saving model to training_10_3/cp-0001.ckpt\n"
     ]
    },
    {
     "name": "stderr",
     "output_type": "stream",
     "text": [
      "W0622 22:35:01.846152  7048 callbacks.py:241] Method (on_train_batch_end) is slow compared to the batch update (0.302083). Check your callbacks.\n"
     ]
    },
    {
     "name": "stdout",
     "output_type": "stream",
     "text": [
      "176/468 [==========>...................] - ETA: 3:19 - loss: 0.8116 - accuracy: 0.7305\n",
      "Epoch 00001: saving model to training_10_3/cp-0001.ckpt\n"
     ]
    },
    {
     "name": "stderr",
     "output_type": "stream",
     "text": [
      "W0622 22:35:02.498220  7048 callbacks.py:241] Method (on_train_batch_end) is slow compared to the batch update (0.302083). Check your callbacks.\n"
     ]
    },
    {
     "name": "stdout",
     "output_type": "stream",
     "text": [
      "177/468 [==========>...................] - ETA: 3:18 - loss: 0.8093 - accuracy: 0.7314\n",
      "Epoch 00001: saving model to training_10_3/cp-0001.ckpt\n"
     ]
    },
    {
     "name": "stderr",
     "output_type": "stream",
     "text": [
      "W0622 22:35:03.060350  7048 callbacks.py:241] Method (on_train_batch_end) is slow compared to the batch update (0.302083). Check your callbacks.\n"
     ]
    },
    {
     "name": "stdout",
     "output_type": "stream",
     "text": [
      "178/468 [==========>...................] - ETA: 3:17 - loss: 0.8076 - accuracy: 0.7320\n",
      "Epoch 00001: saving model to training_10_3/cp-0001.ckpt\n"
     ]
    },
    {
     "name": "stderr",
     "output_type": "stream",
     "text": [
      "W0622 22:35:03.727083  7048 callbacks.py:241] Method (on_train_batch_end) is slow compared to the batch update (0.361718). Check your callbacks.\n"
     ]
    },
    {
     "name": "stdout",
     "output_type": "stream",
     "text": [
      "179/468 [==========>...................] - ETA: 3:17 - loss: 0.8062 - accuracy: 0.7327\n",
      "Epoch 00001: saving model to training_10_3/cp-0001.ckpt\n"
     ]
    },
    {
     "name": "stderr",
     "output_type": "stream",
     "text": [
      "W0622 22:35:04.369378  7048 callbacks.py:241] Method (on_train_batch_end) is slow compared to the batch update (0.415976). Check your callbacks.\n"
     ]
    },
    {
     "name": "stdout",
     "output_type": "stream",
     "text": [
      "180/468 [==========>...................] - ETA: 3:16 - loss: 0.8041 - accuracy: 0.7336\n",
      "Epoch 00001: saving model to training_10_3/cp-0001.ckpt\n"
     ]
    },
    {
     "name": "stderr",
     "output_type": "stream",
     "text": [
      "W0622 22:35:04.856232  7048 callbacks.py:241] Method (on_train_batch_end) is slow compared to the batch update (0.438462). Check your callbacks.\n"
     ]
    },
    {
     "name": "stdout",
     "output_type": "stream",
     "text": [
      "181/468 [==========>...................] - ETA: 3:15 - loss: 0.8015 - accuracy: 0.7344\n",
      "Epoch 00001: saving model to training_10_3/cp-0001.ckpt\n"
     ]
    },
    {
     "name": "stderr",
     "output_type": "stream",
     "text": [
      "W0622 22:35:05.664722  7048 callbacks.py:241] Method (on_train_batch_end) is slow compared to the batch update (0.446281). Check your callbacks.\n"
     ]
    },
    {
     "name": "stdout",
     "output_type": "stream",
     "text": [
      "182/468 [==========>...................] - ETA: 3:15 - loss: 0.7988 - accuracy: 0.7353\n",
      "Epoch 00001: saving model to training_10_3/cp-0001.ckpt\n"
     ]
    },
    {
     "name": "stderr",
     "output_type": "stream",
     "text": [
      "W0622 22:35:06.332435  7048 callbacks.py:241] Method (on_train_batch_end) is slow compared to the batch update (0.474143). Check your callbacks.\n"
     ]
    },
    {
     "name": "stdout",
     "output_type": "stream",
     "text": [
      "183/468 [==========>...................] - ETA: 3:14 - loss: 0.7961 - accuracy: 0.7364\n",
      "Epoch 00001: saving model to training_10_3/cp-0001.ckpt\n"
     ]
    },
    {
     "name": "stderr",
     "output_type": "stream",
     "text": [
      "W0622 22:35:07.119416  7048 callbacks.py:241] Method (on_train_batch_end) is slow compared to the batch update (0.480010). Check your callbacks.\n"
     ]
    },
    {
     "name": "stdout",
     "output_type": "stream",
     "text": [
      "184/468 [==========>...................] - ETA: 3:13 - loss: 0.7932 - accuracy: 0.7374\n",
      "Epoch 00001: saving model to training_10_3/cp-0001.ckpt\n"
     ]
    },
    {
     "name": "stderr",
     "output_type": "stream",
     "text": [
      "W0622 22:35:09.321007  7048 callbacks.py:241] Method (on_train_batch_end) is slow compared to the batch update (0.498586). Check your callbacks.\n"
     ]
    },
    {
     "name": "stdout",
     "output_type": "stream",
     "text": [
      "185/468 [==========>...................] - ETA: 3:15 - loss: 0.7906 - accuracy: 0.7384\n",
      "Epoch 00001: saving model to training_10_3/cp-0001.ckpt\n"
     ]
    },
    {
     "name": "stderr",
     "output_type": "stream",
     "text": [
      "W0622 22:35:09.740406  7048 callbacks.py:241] Method (on_train_batch_end) is slow compared to the batch update (0.480010). Check your callbacks.\n"
     ]
    },
    {
     "name": "stdout",
     "output_type": "stream",
     "text": [
      "186/468 [==========>...................] - ETA: 3:14 - loss: 0.7876 - accuracy: 0.7395\n",
      "Epoch 00001: saving model to training_10_3/cp-0001.ckpt\n"
     ]
    },
    {
     "name": "stderr",
     "output_type": "stream",
     "text": [
      "W0622 22:35:10.324043  7048 callbacks.py:241] Method (on_train_batch_end) is slow compared to the batch update (0.480010). Check your callbacks.\n"
     ]
    },
    {
     "name": "stdout",
     "output_type": "stream",
     "text": [
      "187/468 [==========>...................] - ETA: 3:13 - loss: 0.7853 - accuracy: 0.7403\n",
      "Epoch 00001: saving model to training_10_3/cp-0001.ckpt\n"
     ]
    },
    {
     "name": "stderr",
     "output_type": "stream",
     "text": [
      "W0622 22:35:10.896928  7048 callbacks.py:241] Method (on_train_batch_end) is slow compared to the batch update (0.480010). Check your callbacks.\n"
     ]
    },
    {
     "name": "stdout",
     "output_type": "stream",
     "text": [
      "188/468 [===========>..................] - ETA: 3:12 - loss: 0.7824 - accuracy: 0.7414\n",
      "Epoch 00001: saving model to training_10_3/cp-0001.ckpt\n"
     ]
    },
    {
     "name": "stderr",
     "output_type": "stream",
     "text": [
      "W0622 22:35:11.692711  7048 callbacks.py:241] Method (on_train_batch_end) is slow compared to the batch update (0.503962). Check your callbacks.\n"
     ]
    },
    {
     "name": "stdout",
     "output_type": "stream",
     "text": [
      "189/468 [===========>..................] - ETA: 3:12 - loss: 0.7799 - accuracy: 0.7424\n",
      "Epoch 00001: saving model to training_10_3/cp-0001.ckpt\n"
     ]
    },
    {
     "name": "stderr",
     "output_type": "stream",
     "text": [
      "W0622 22:35:12.439605  7048 callbacks.py:241] Method (on_train_batch_end) is slow compared to the batch update (0.503962). Check your callbacks.\n"
     ]
    },
    {
     "name": "stdout",
     "output_type": "stream",
     "text": [
      "190/468 [===========>..................] - ETA: 3:11 - loss: 0.7772 - accuracy: 0.7434\n",
      "Epoch 00001: saving model to training_10_3/cp-0001.ckpt\n"
     ]
    },
    {
     "name": "stderr",
     "output_type": "stream",
     "text": [
      "W0622 22:35:12.967519  7048 callbacks.py:241] Method (on_train_batch_end) is slow compared to the batch update (0.503962). Check your callbacks.\n"
     ]
    },
    {
     "name": "stdout",
     "output_type": "stream",
     "text": [
      "191/468 [===========>..................] - ETA: 3:10 - loss: 0.7747 - accuracy: 0.7444\n",
      "Epoch 00001: saving model to training_10_3/cp-0001.ckpt\n"
     ]
    },
    {
     "name": "stderr",
     "output_type": "stream",
     "text": [
      "W0622 22:35:13.176728  7048 callbacks.py:241] Method (on_train_batch_end) is slow compared to the batch update (0.480010). Check your callbacks.\n"
     ]
    },
    {
     "name": "stdout",
     "output_type": "stream",
     "text": [
      "192/468 [===========>..................] - ETA: 3:09 - loss: 0.7721 - accuracy: 0.7452\n",
      "Epoch 00001: saving model to training_10_3/cp-0001.ckpt\n"
     ]
    },
    {
     "name": "stderr",
     "output_type": "stream",
     "text": [
      "W0622 22:35:13.563865  7048 callbacks.py:241] Method (on_train_batch_end) is slow compared to the batch update (0.450682). Check your callbacks.\n"
     ]
    },
    {
     "name": "stdout",
     "output_type": "stream",
     "text": [
      "193/468 [===========>..................] - ETA: 3:08 - loss: 0.7693 - accuracy: 0.7462\n",
      "Epoch 00001: saving model to training_10_3/cp-0001.ckpt\n"
     ]
    },
    {
     "name": "stderr",
     "output_type": "stream",
     "text": [
      "W0622 22:35:13.879639  7048 callbacks.py:241] Method (on_train_batch_end) is slow compared to the batch update (0.410598). Check your callbacks.\n"
     ]
    },
    {
     "name": "stdout",
     "output_type": "stream",
     "text": [
      "194/468 [===========>..................] - ETA: 3:06 - loss: 0.7670 - accuracy: 0.7471\n",
      "Epoch 00001: saving model to training_10_3/cp-0001.ckpt\n"
     ]
    },
    {
     "name": "stderr",
     "output_type": "stream",
     "text": [
      "W0622 22:35:14.310766  7048 callbacks.py:241] Method (on_train_batch_end) is slow compared to the batch update (0.385181). Check your callbacks.\n"
     ]
    },
    {
     "name": "stdout",
     "output_type": "stream",
     "text": [
      "195/468 [===========>..................] - ETA: 3:05 - loss: 0.7652 - accuracy: 0.7481\n",
      "Epoch 00001: saving model to training_10_3/cp-0001.ckpt\n"
     ]
    },
    {
     "name": "stderr",
     "output_type": "stream",
     "text": [
      "W0622 22:35:14.973589  7048 callbacks.py:241] Method (on_train_batch_end) is slow compared to the batch update (0.385181). Check your callbacks.\n"
     ]
    },
    {
     "name": "stdout",
     "output_type": "stream",
     "text": [
      "196/468 [===========>..................] - ETA: 3:05 - loss: 0.7629 - accuracy: 0.7489\n",
      "Epoch 00001: saving model to training_10_3/cp-0001.ckpt\n"
     ]
    },
    {
     "name": "stderr",
     "output_type": "stream",
     "text": [
      "W0622 22:35:15.368548  7048 callbacks.py:241] Method (on_train_batch_end) is slow compared to the batch update (0.375892). Check your callbacks.\n"
     ]
    },
    {
     "name": "stdout",
     "output_type": "stream",
     "text": [
      "197/468 [===========>..................] - ETA: 3:04 - loss: 0.7609 - accuracy: 0.7496\n",
      "Epoch 00001: saving model to training_10_3/cp-0001.ckpt\n"
     ]
    },
    {
     "name": "stderr",
     "output_type": "stream",
     "text": [
      "W0622 22:35:16.000088  7048 callbacks.py:241] Method (on_train_batch_end) is slow compared to the batch update (0.378827). Check your callbacks.\n"
     ]
    },
    {
     "name": "stdout",
     "output_type": "stream",
     "text": [
      "198/468 [===========>..................] - ETA: 3:03 - loss: 0.7592 - accuracy: 0.7503\n",
      "Epoch 00001: saving model to training_10_3/cp-0001.ckpt\n"
     ]
    },
    {
     "name": "stderr",
     "output_type": "stream",
     "text": [
      "W0622 22:35:16.511381  7048 callbacks.py:241] Method (on_train_batch_end) is slow compared to the batch update (0.378827). Check your callbacks.\n"
     ]
    },
    {
     "name": "stdout",
     "output_type": "stream",
     "text": [
      "199/468 [===========>..................] - ETA: 3:02 - loss: 0.7571 - accuracy: 0.7509\n",
      "Epoch 00001: saving model to training_10_3/cp-0001.ckpt\n"
     ]
    },
    {
     "name": "stderr",
     "output_type": "stream",
     "text": [
      "W0622 22:35:17.225042  7048 callbacks.py:241] Method (on_train_batch_end) is slow compared to the batch update (0.378827). Check your callbacks.\n"
     ]
    },
    {
     "name": "stdout",
     "output_type": "stream",
     "text": [
      "200/468 [===========>..................] - ETA: 3:01 - loss: 0.7548 - accuracy: 0.7517\n",
      "Epoch 00001: saving model to training_10_3/cp-0001.ckpt\n"
     ]
    },
    {
     "name": "stderr",
     "output_type": "stream",
     "text": [
      "W0622 22:35:17.696253  7048 callbacks.py:241] Method (on_train_batch_end) is slow compared to the batch update (0.367095). Check your callbacks.\n"
     ]
    },
    {
     "name": "stdout",
     "output_type": "stream",
     "text": [
      "201/468 [===========>..................] - ETA: 3:00 - loss: 0.7527 - accuracy: 0.7525\n",
      "Epoch 00001: saving model to training_10_3/cp-0001.ckpt\n"
     ]
    },
    {
     "name": "stderr",
     "output_type": "stream",
     "text": [
      "W0622 22:35:18.345389  7048 callbacks.py:241] Method (on_train_batch_end) is slow compared to the batch update (0.378827). Check your callbacks.\n"
     ]
    },
    {
     "name": "stdout",
     "output_type": "stream",
     "text": [
      "202/468 [===========>..................] - ETA: 3:00 - loss: 0.7504 - accuracy: 0.7534\n",
      "Epoch 00001: saving model to training_10_3/cp-0001.ckpt\n"
     ]
    },
    {
     "name": "stderr",
     "output_type": "stream",
     "text": [
      "W0622 22:35:18.923163  7048 callbacks.py:241] Method (on_train_batch_end) is slow compared to the batch update (0.424287). Check your callbacks.\n"
     ]
    },
    {
     "name": "stdout",
     "output_type": "stream",
     "text": [
      "203/468 [============>.................] - ETA: 2:59 - loss: 0.7486 - accuracy: 0.7540\n",
      "Epoch 00001: saving model to training_10_3/cp-0001.ckpt\n"
     ]
    },
    {
     "name": "stderr",
     "output_type": "stream",
     "text": [
      "W0622 22:35:19.793241  7048 callbacks.py:241] Method (on_train_batch_end) is slow compared to the batch update (0.463879). Check your callbacks.\n"
     ]
    },
    {
     "name": "stdout",
     "output_type": "stream",
     "text": [
      "204/468 [============>.................] - ETA: 2:58 - loss: 0.7472 - accuracy: 0.7544\n",
      "Epoch 00001: saving model to training_10_3/cp-0001.ckpt\n"
     ]
    },
    {
     "name": "stderr",
     "output_type": "stream",
     "text": [
      "W0622 22:35:20.812895  7048 callbacks.py:241] Method (on_train_batch_end) is slow compared to the batch update (0.467789). Check your callbacks.\n"
     ]
    },
    {
     "name": "stdout",
     "output_type": "stream",
     "text": [
      "205/468 [============>.................] - ETA: 2:58 - loss: 0.7448 - accuracy: 0.7553\n",
      "Epoch 00001: saving model to training_10_3/cp-0001.ckpt\n"
     ]
    },
    {
     "name": "stderr",
     "output_type": "stream",
     "text": [
      "W0622 22:35:21.523624  7048 callbacks.py:241] Method (on_train_batch_end) is slow compared to the batch update (0.494186). Check your callbacks.\n"
     ]
    },
    {
     "name": "stdout",
     "output_type": "stream",
     "text": [
      "206/468 [============>.................] - ETA: 2:58 - loss: 0.7428 - accuracy: 0.7559\n",
      "Epoch 00001: saving model to training_10_3/cp-0001.ckpt\n"
     ]
    },
    {
     "name": "stderr",
     "output_type": "stream",
     "text": [
      "W0622 22:35:23.331235  7048 callbacks.py:241] Method (on_train_batch_end) is slow compared to the batch update (0.545023). Check your callbacks.\n"
     ]
    },
    {
     "name": "stdout",
     "output_type": "stream",
     "text": [
      "207/468 [============>.................] - ETA: 2:58 - loss: 0.7409 - accuracy: 0.7566\n",
      "Epoch 00001: saving model to training_10_3/cp-0001.ckpt\n"
     ]
    },
    {
     "name": "stderr",
     "output_type": "stream",
     "text": [
      "W0622 22:35:24.126039  7048 callbacks.py:241] Method (on_train_batch_end) is slow compared to the batch update (0.580216). Check your callbacks.\n"
     ]
    },
    {
     "name": "stdout",
     "output_type": "stream",
     "text": [
      "208/468 [============>.................] - ETA: 2:58 - loss: 0.7390 - accuracy: 0.7574\n",
      "Epoch 00001: saving model to training_10_3/cp-0001.ckpt\n"
     ]
    },
    {
     "name": "stderr",
     "output_type": "stream",
     "text": [
      "W0622 22:35:24.448652  7048 callbacks.py:241] Method (on_train_batch_end) is slow compared to the batch update (0.580216). Check your callbacks.\n"
     ]
    },
    {
     "name": "stdout",
     "output_type": "stream",
     "text": [
      "209/468 [============>.................] - ETA: 2:57 - loss: 0.7376 - accuracy: 0.7581\n",
      "Epoch 00001: saving model to training_10_3/cp-0001.ckpt\n"
     ]
    },
    {
     "name": "stderr",
     "output_type": "stream",
     "text": [
      "W0622 22:35:24.964835  7048 callbacks.py:241] Method (on_train_batch_end) is slow compared to the batch update (0.545023). Check your callbacks.\n"
     ]
    },
    {
     "name": "stdout",
     "output_type": "stream",
     "text": [
      "210/468 [============>.................] - ETA: 2:56 - loss: 0.7355 - accuracy: 0.7589\n",
      "Epoch 00001: saving model to training_10_3/cp-0001.ckpt\n"
     ]
    },
    {
     "name": "stderr",
     "output_type": "stream",
     "text": [
      "W0622 22:35:25.563135  7048 callbacks.py:241] Method (on_train_batch_end) is slow compared to the batch update (0.545023). Check your callbacks.\n"
     ]
    },
    {
     "name": "stdout",
     "output_type": "stream",
     "text": [
      "211/468 [============>.................] - ETA: 2:55 - loss: 0.7331 - accuracy: 0.7597\n",
      "Epoch 00001: saving model to training_10_3/cp-0001.ckpt\n"
     ]
    },
    {
     "name": "stderr",
     "output_type": "stream",
     "text": [
      "W0622 22:35:26.311990  7048 callbacks.py:241] Method (on_train_batch_end) is slow compared to the batch update (0.545023). Check your callbacks.\n"
     ]
    },
    {
     "name": "stdout",
     "output_type": "stream",
     "text": [
      "212/468 [============>.................] - ETA: 2:54 - loss: 0.7306 - accuracy: 0.7605\n",
      "Epoch 00001: saving model to training_10_3/cp-0001.ckpt\n"
     ]
    },
    {
     "name": "stderr",
     "output_type": "stream",
     "text": [
      "W0622 22:35:26.789067  7048 callbacks.py:241] Method (on_train_batch_end) is slow compared to the batch update (0.529380). Check your callbacks.\n"
     ]
    },
    {
     "name": "stdout",
     "output_type": "stream",
     "text": [
      "213/468 [============>.................] - ETA: 2:53 - loss: 0.7288 - accuracy: 0.7611\n",
      "Epoch 00001: saving model to training_10_3/cp-0001.ckpt\n"
     ]
    },
    {
     "name": "stderr",
     "output_type": "stream",
     "text": [
      "W0622 22:35:27.755930  7048 callbacks.py:241] Method (on_train_batch_end) is slow compared to the batch update (0.529380). Check your callbacks.\n"
     ]
    },
    {
     "name": "stdout",
     "output_type": "stream",
     "text": [
      "214/468 [============>.................] - ETA: 2:53 - loss: 0.7269 - accuracy: 0.7616\n",
      "Epoch 00001: saving model to training_10_3/cp-0001.ckpt\n"
     ]
    },
    {
     "name": "stderr",
     "output_type": "stream",
     "text": [
      "W0622 22:35:28.794160  7048 callbacks.py:241] Method (on_train_batch_end) is slow compared to the batch update (0.529380). Check your callbacks.\n"
     ]
    },
    {
     "name": "stdout",
     "output_type": "stream",
     "text": [
      "215/468 [============>.................] - ETA: 2:53 - loss: 0.7251 - accuracy: 0.7623\n",
      "Epoch 00001: saving model to training_10_3/cp-0001.ckpt\n"
     ]
    },
    {
     "name": "stderr",
     "output_type": "stream",
     "text": [
      "W0622 22:35:29.580164  7048 callbacks.py:241] Method (on_train_batch_end) is slow compared to the batch update (0.474144). Check your callbacks.\n"
     ]
    },
    {
     "name": "stdout",
     "output_type": "stream",
     "text": [
      "216/468 [============>.................] - ETA: 2:52 - loss: 0.7241 - accuracy: 0.7628\n",
      "Epoch 00001: saving model to training_10_3/cp-0001.ckpt\n"
     ]
    },
    {
     "name": "stderr",
     "output_type": "stream",
     "text": [
      "W0622 22:35:29.952635  7048 callbacks.py:241] Method (on_train_batch_end) is slow compared to the batch update (0.432106). Check your callbacks.\n"
     ]
    },
    {
     "name": "stdout",
     "output_type": "stream",
     "text": [
      "217/468 [============>.................] - ETA: 2:51 - loss: 0.7227 - accuracy: 0.7633\n",
      "Epoch 00001: saving model to training_10_3/cp-0001.ckpt\n"
     ]
    },
    {
     "name": "stderr",
     "output_type": "stream",
     "text": [
      "W0622 22:35:30.537250  7048 callbacks.py:241] Method (on_train_batch_end) is slow compared to the batch update (0.432106). Check your callbacks.\n"
     ]
    },
    {
     "name": "stdout",
     "output_type": "stream",
     "text": [
      "218/468 [============>.................] - ETA: 2:50 - loss: 0.7205 - accuracy: 0.7640\n",
      "Epoch 00001: saving model to training_10_3/cp-0001.ckpt\n"
     ]
    },
    {
     "name": "stderr",
     "output_type": "stream",
     "text": [
      "W0622 22:35:30.771878  7048 callbacks.py:241] Method (on_train_batch_end) is slow compared to the batch update (0.432106). Check your callbacks.\n"
     ]
    },
    {
     "name": "stdout",
     "output_type": "stream",
     "text": [
      "219/468 [=============>................] - ETA: 2:49 - loss: 0.7182 - accuracy: 0.7647\n",
      "Epoch 00001: saving model to training_10_3/cp-0001.ckpt\n"
     ]
    },
    {
     "name": "stderr",
     "output_type": "stream",
     "text": [
      "W0622 22:35:31.345740  7048 callbacks.py:241] Method (on_train_batch_end) is slow compared to the batch update (0.474144). Check your callbacks.\n"
     ]
    },
    {
     "name": "stdout",
     "output_type": "stream",
     "text": [
      "220/468 [=============>................] - ETA: 2:48 - loss: 0.7165 - accuracy: 0.7654\n",
      "Epoch 00001: saving model to training_10_3/cp-0001.ckpt\n"
     ]
    },
    {
     "name": "stderr",
     "output_type": "stream",
     "text": [
      "W0622 22:35:31.772958  7048 callbacks.py:241] Method (on_train_batch_end) is slow compared to the batch update (0.474144). Check your callbacks.\n"
     ]
    },
    {
     "name": "stdout",
     "output_type": "stream",
     "text": [
      "221/468 [=============>................] - ETA: 2:47 - loss: 0.7149 - accuracy: 0.7661\n",
      "Epoch 00001: saving model to training_10_3/cp-0001.ckpt\n"
     ]
    },
    {
     "name": "stderr",
     "output_type": "stream",
     "text": [
      "W0622 22:35:32.105348  7048 callbacks.py:241] Method (on_train_batch_end) is slow compared to the batch update (0.418419). Check your callbacks.\n"
     ]
    },
    {
     "name": "stdout",
     "output_type": "stream",
     "text": [
      "222/468 [=============>................] - ETA: 2:46 - loss: 0.7132 - accuracy: 0.7669\n",
      "Epoch 00001: saving model to training_10_3/cp-0001.ckpt\n"
     ]
    },
    {
     "name": "stderr",
     "output_type": "stream",
     "text": [
      "W0622 22:35:32.463155  7048 callbacks.py:241] Method (on_train_batch_end) is slow compared to the batch update (0.418419). Check your callbacks.\n"
     ]
    },
    {
     "name": "stdout",
     "output_type": "stream",
     "text": [
      "223/468 [=============>................] - ETA: 2:45 - loss: 0.7120 - accuracy: 0.7674\n",
      "Epoch 00001: saving model to training_10_3/cp-0001.ckpt\n"
     ]
    },
    {
     "name": "stderr",
     "output_type": "stream",
     "text": [
      "W0622 22:35:32.927524  7048 callbacks.py:241] Method (on_train_batch_end) is slow compared to the batch update (0.386158). Check your callbacks.\n"
     ]
    },
    {
     "name": "stdout",
     "output_type": "stream",
     "text": [
      "\b\b\b\b\b\b\b\b\b\b\b\b\b\b\b\b\b\b\b\b\b\b\b\b\b\b\b\b\b\b\b\b\b\b\b\b\b\b\b\b\b\b\b\b\b\b\b\b\b\b\b\b\b\b\b\b\b\b\b\b\b\b\b\b\b\b\b\b\b\b\b\b\b\b\b\b\b\b\b\b\b\b\b\b\b\b\r",
      "224/468 [=============>................] - ETA: 2:44 - loss: 0.7104 - accuracy: 0.7680"
     ]
    },
    {
     "name": "stderr",
     "output_type": "stream",
     "text": [
      "W0622 22:35:33.124024  7048 callbacks.py:241] Method (on_train_batch_end) is slow compared to the batch update (0.347053). Check your callbacks.\n"
     ]
    },
    {
     "name": "stdout",
     "output_type": "stream",
     "text": [
      "\n",
      "Epoch 00001: saving model to training_10_3/cp-0001.ckpt\n",
      "225/468 [=============>................] - ETA: 2:43 - loss: 0.7086 - accuracy: 0.7686\n",
      "Epoch 00001: saving model to training_10_3/cp-0001.ckpt\n"
     ]
    },
    {
     "name": "stderr",
     "output_type": "stream",
     "text": [
      "W0622 22:35:33.705706  7048 callbacks.py:241] Method (on_train_batch_end) is slow compared to the batch update (0.347053). Check your callbacks.\n"
     ]
    },
    {
     "name": "stdout",
     "output_type": "stream",
     "text": [
      "226/468 [=============>................] - ETA: 2:42 - loss: 0.7075 - accuracy: 0.7692\n",
      "Epoch 00001: saving model to training_10_3/cp-0001.ckpt\n"
     ]
    },
    {
     "name": "stderr",
     "output_type": "stream",
     "text": [
      "W0622 22:35:34.053739  7048 callbacks.py:241] Method (on_train_batch_end) is slow compared to the batch update (0.334345). Check your callbacks.\n"
     ]
    },
    {
     "name": "stdout",
     "output_type": "stream",
     "text": [
      "\b\b\b\b\b\b\b\b\b\b\b\b\b\b\b\b\b\b\b\b\b\b\b\b\b\b\b\b\b\b\b\b\b\b\b\b\b\b\b\b\b\b\b\b\b\b\b\b\b\b\b\b\b\b\b\b\b\b\b\b\b\b\b\b\b\b\b\b\b\b\b\b\b\b\b\b\b\b\b\b\b\b\b\b\b\b\r",
      "227/468 [=============>................] - ETA: 2:41 - loss: 0.7062 - accuracy: 0.7696"
     ]
    },
    {
     "name": "stderr",
     "output_type": "stream",
     "text": [
      "W0622 22:35:34.236552  7048 callbacks.py:241] Method (on_train_batch_end) is slow compared to the batch update (0.275199). Check your callbacks.\n"
     ]
    },
    {
     "name": "stdout",
     "output_type": "stream",
     "text": [
      "\n",
      "Epoch 00001: saving model to training_10_3/cp-0001.ckpt\n",
      "228/468 [=============>................] - ETA: 2:40 - loss: 0.7044 - accuracy: 0.7704\n",
      "Epoch 00001: saving model to training_10_3/cp-0001.ckpt\n"
     ]
    },
    {
     "name": "stderr",
     "output_type": "stream",
     "text": [
      "W0622 22:35:34.708742  7048 callbacks.py:241] Method (on_train_batch_end) is slow compared to the batch update (0.334345). Check your callbacks.\n"
     ]
    },
    {
     "name": "stdout",
     "output_type": "stream",
     "text": [
      "229/468 [=============>................] - ETA: 2:39 - loss: 0.7026 - accuracy: 0.7710\n",
      "Epoch 00001: saving model to training_10_3/cp-0001.ckpt\n"
     ]
    },
    {
     "name": "stderr",
     "output_type": "stream",
     "text": [
      "W0622 22:35:35.124230  7048 callbacks.py:241] Method (on_train_batch_end) is slow compared to the batch update (0.330924). Check your callbacks.\n"
     ]
    },
    {
     "name": "stdout",
     "output_type": "stream",
     "text": [
      "230/468 [=============>................] - ETA: 2:38 - loss: 0.7009 - accuracy: 0.7715\n",
      "Epoch 00001: saving model to training_10_3/cp-0001.ckpt\n"
     ]
    },
    {
     "name": "stderr",
     "output_type": "stream",
     "text": [
      "W0622 22:35:35.903390  7048 callbacks.py:241] Method (on_train_batch_end) is slow compared to the batch update (0.330924). Check your callbacks.\n"
     ]
    },
    {
     "name": "stdout",
     "output_type": "stream",
     "text": [
      "231/468 [=============>................] - ETA: 2:38 - loss: 0.6993 - accuracy: 0.7719\n",
      "Epoch 00001: saving model to training_10_3/cp-0001.ckpt\n"
     ]
    },
    {
     "name": "stderr",
     "output_type": "stream",
     "text": [
      "W0622 22:35:36.401976  7048 callbacks.py:241] Method (on_train_batch_end) is slow compared to the batch update (0.375894). Check your callbacks.\n"
     ]
    },
    {
     "name": "stdout",
     "output_type": "stream",
     "text": [
      "232/468 [=============>................] - ETA: 2:37 - loss: 0.6987 - accuracy: 0.7723\n",
      "Epoch 00001: saving model to training_10_3/cp-0001.ckpt\n"
     ]
    },
    {
     "name": "stderr",
     "output_type": "stream",
     "text": [
      "W0622 22:35:36.905447  7048 callbacks.py:241] Method (on_train_batch_end) is slow compared to the batch update (0.375894). Check your callbacks.\n"
     ]
    },
    {
     "name": "stdout",
     "output_type": "stream",
     "text": [
      "233/468 [=============>................] - ETA: 2:36 - loss: 0.6973 - accuracy: 0.7728\n",
      "Epoch 00001: saving model to training_10_3/cp-0001.ckpt\n"
     ]
    },
    {
     "name": "stderr",
     "output_type": "stream",
     "text": [
      "W0622 22:35:37.109769  7048 callbacks.py:241] Method (on_train_batch_end) is slow compared to the batch update (0.369539). Check your callbacks.\n"
     ]
    },
    {
     "name": "stdout",
     "output_type": "stream",
     "text": [
      "234/468 [==============>...............] - ETA: 2:35 - loss: 0.6959 - accuracy: 0.7731\n",
      "Epoch 00001: saving model to training_10_3/cp-0001.ckpt\n"
     ]
    },
    {
     "name": "stderr",
     "output_type": "stream",
     "text": [
      "W0622 22:35:37.434340  7048 callbacks.py:241] Method (on_train_batch_end) is slow compared to the batch update (0.369539). Check your callbacks.\n"
     ]
    },
    {
     "name": "stdout",
     "output_type": "stream",
     "text": [
      "235/468 [==============>...............] - ETA: 2:34 - loss: 0.6947 - accuracy: 0.7736\n",
      "Epoch 00001: saving model to training_10_3/cp-0001.ckpt\n"
     ]
    },
    {
     "name": "stderr",
     "output_type": "stream",
     "text": [
      "W0622 22:35:38.057080  7048 callbacks.py:241] Method (on_train_batch_end) is slow compared to the batch update (0.369539). Check your callbacks.\n"
     ]
    },
    {
     "name": "stdout",
     "output_type": "stream",
     "text": [
      "236/468 [==============>...............] - ETA: 2:33 - loss: 0.6933 - accuracy: 0.7741\n",
      "Epoch 00001: saving model to training_10_3/cp-0001.ckpt\n"
     ]
    },
    {
     "name": "stderr",
     "output_type": "stream",
     "text": [
      "W0622 22:35:38.438351  7048 callbacks.py:241] Method (on_train_batch_end) is slow compared to the batch update (0.369539). Check your callbacks.\n"
     ]
    },
    {
     "name": "stdout",
     "output_type": "stream",
     "text": [
      "237/468 [==============>...............] - ETA: 2:32 - loss: 0.6918 - accuracy: 0.7747\n",
      "Epoch 00001: saving model to training_10_3/cp-0001.ckpt\n"
     ]
    },
    {
     "name": "stderr",
     "output_type": "stream",
     "text": [
      "W0622 22:35:39.278126  7048 callbacks.py:241] Method (on_train_batch_end) is slow compared to the batch update (0.375894). Check your callbacks.\n"
     ]
    },
    {
     "name": "stdout",
     "output_type": "stream",
     "text": [
      "238/468 [==============>...............] - ETA: 2:32 - loss: 0.6901 - accuracy: 0.7753\n",
      "Epoch 00001: saving model to training_10_3/cp-0001.ckpt\n"
     ]
    },
    {
     "name": "stderr",
     "output_type": "stream",
     "text": [
      "W0622 22:35:40.143314  7048 callbacks.py:241] Method (on_train_batch_end) is slow compared to the batch update (0.375894). Check your callbacks.\n"
     ]
    },
    {
     "name": "stdout",
     "output_type": "stream",
     "text": [
      "239/468 [==============>...............] - ETA: 2:31 - loss: 0.6882 - accuracy: 0.7760\n",
      "Epoch 00001: saving model to training_10_3/cp-0001.ckpt\n"
     ]
    },
    {
     "name": "stderr",
     "output_type": "stream",
     "text": [
      "W0622 22:35:40.686869  7048 callbacks.py:241] Method (on_train_batch_end) is slow compared to the batch update (0.391535). Check your callbacks.\n"
     ]
    },
    {
     "name": "stdout",
     "output_type": "stream",
     "text": [
      "240/468 [==============>...............] - ETA: 2:31 - loss: 0.6867 - accuracy: 0.7765\n",
      "Epoch 00001: saving model to training_10_3/cp-0001.ckpt\n"
     ]
    },
    {
     "name": "stderr",
     "output_type": "stream",
     "text": [
      "W0622 22:35:41.938227  7048 callbacks.py:241] Method (on_train_batch_end) is slow compared to the batch update (0.391535). Check your callbacks.\n"
     ]
    },
    {
     "name": "stdout",
     "output_type": "stream",
     "text": [
      "241/468 [==============>...............] - ETA: 2:31 - loss: 0.6849 - accuracy: 0.7771\n",
      "Epoch 00001: saving model to training_10_3/cp-0001.ckpt\n"
     ]
    },
    {
     "name": "stderr",
     "output_type": "stream",
     "text": [
      "W0622 22:35:42.288205  7048 callbacks.py:241] Method (on_train_batch_end) is slow compared to the batch update (0.385180). Check your callbacks.\n"
     ]
    },
    {
     "name": "stdout",
     "output_type": "stream",
     "text": [
      "242/468 [==============>...............] - ETA: 2:30 - loss: 0.6834 - accuracy: 0.7777\n",
      "Epoch 00001: saving model to training_10_3/cp-0001.ckpt\n"
     ]
    },
    {
     "name": "stderr",
     "output_type": "stream",
     "text": [
      "W0622 22:35:42.918770  7048 callbacks.py:241] Method (on_train_batch_end) is slow compared to the batch update (0.446768). Check your callbacks.\n"
     ]
    },
    {
     "name": "stdout",
     "output_type": "stream",
     "text": [
      "243/468 [==============>...............] - ETA: 2:29 - loss: 0.6824 - accuracy: 0.7780\n",
      "Epoch 00001: saving model to training_10_3/cp-0001.ckpt\n"
     ]
    },
    {
     "name": "stderr",
     "output_type": "stream",
     "text": [
      "W0622 22:35:43.756587  7048 callbacks.py:241] Method (on_train_batch_end) is slow compared to the batch update (0.517158). Check your callbacks.\n"
     ]
    },
    {
     "name": "stdout",
     "output_type": "stream",
     "text": [
      "244/468 [==============>...............] - ETA: 2:28 - loss: 0.6812 - accuracy: 0.7785\n",
      "Epoch 00001: saving model to training_10_3/cp-0001.ckpt\n"
     ]
    },
    {
     "name": "stderr",
     "output_type": "stream",
     "text": [
      "W0622 22:35:44.612002  7048 callbacks.py:241] Method (on_train_batch_end) is slow compared to the batch update (0.562131). Check your callbacks.\n"
     ]
    },
    {
     "name": "stdout",
     "output_type": "stream",
     "text": [
      "245/468 [==============>...............] - ETA: 2:28 - loss: 0.6794 - accuracy: 0.7791\n",
      "Epoch 00001: saving model to training_10_3/cp-0001.ckpt\n"
     ]
    },
    {
     "name": "stderr",
     "output_type": "stream",
     "text": [
      "W0622 22:35:45.071480  7048 callbacks.py:241] Method (on_train_batch_end) is slow compared to the batch update (0.517158). Check your callbacks.\n"
     ]
    },
    {
     "name": "stdout",
     "output_type": "stream",
     "text": [
      "246/468 [==============>...............] - ETA: 2:27 - loss: 0.6780 - accuracy: 0.7795\n",
      "Epoch 00001: saving model to training_10_3/cp-0001.ckpt\n"
     ]
    },
    {
     "name": "stderr",
     "output_type": "stream",
     "text": [
      "W0622 22:35:45.623834  7048 callbacks.py:241] Method (on_train_batch_end) is slow compared to the batch update (0.517158). Check your callbacks.\n"
     ]
    },
    {
     "name": "stdout",
     "output_type": "stream",
     "text": [
      "247/468 [==============>...............] - ETA: 2:26 - loss: 0.6770 - accuracy: 0.7799\n",
      "Epoch 00001: saving model to training_10_3/cp-0001.ckpt\n"
     ]
    },
    {
     "name": "stderr",
     "output_type": "stream",
     "text": [
      "W0622 22:35:46.026620  7048 callbacks.py:241] Method (on_train_batch_end) is slow compared to the batch update (0.446768). Check your callbacks.\n"
     ]
    },
    {
     "name": "stdout",
     "output_type": "stream",
     "text": [
      "248/468 [==============>...............] - ETA: 2:25 - loss: 0.6765 - accuracy: 0.7803\n",
      "Epoch 00001: saving model to training_10_3/cp-0001.ckpt\n"
     ]
    },
    {
     "name": "stderr",
     "output_type": "stream",
     "text": [
      "W0622 22:35:46.526176  7048 callbacks.py:241] Method (on_train_batch_end) is slow compared to the batch update (0.419886). Check your callbacks.\n"
     ]
    },
    {
     "name": "stdout",
     "output_type": "stream",
     "text": [
      "249/468 [==============>...............] - ETA: 2:25 - loss: 0.6751 - accuracy: 0.7808\n",
      "Epoch 00001: saving model to training_10_3/cp-0001.ckpt\n"
     ]
    },
    {
     "name": "stderr",
     "output_type": "stream",
     "text": [
      "W0622 22:35:47.039425  7048 callbacks.py:241] Method (on_train_batch_end) is slow compared to the batch update (0.419398). Check your callbacks.\n"
     ]
    },
    {
     "name": "stdout",
     "output_type": "stream",
     "text": [
      "250/468 [===============>..............] - ETA: 2:24 - loss: 0.6738 - accuracy: 0.7814\n",
      "Epoch 00001: saving model to training_10_3/cp-0001.ckpt\n"
     ]
    },
    {
     "name": "stderr",
     "output_type": "stream",
     "text": [
      "W0622 22:35:47.652391  7048 callbacks.py:241] Method (on_train_batch_end) is slow compared to the batch update (0.419398). Check your callbacks.\n"
     ]
    },
    {
     "name": "stdout",
     "output_type": "stream",
     "text": [
      "251/468 [===============>..............] - ETA: 2:23 - loss: 0.6729 - accuracy: 0.7818\n",
      "Epoch 00001: saving model to training_10_3/cp-0001.ckpt\n"
     ]
    },
    {
     "name": "stderr",
     "output_type": "stream",
     "text": [
      "W0622 22:35:48.722881  7048 callbacks.py:241] Method (on_train_batch_end) is slow compared to the batch update (0.451170). Check your callbacks.\n"
     ]
    },
    {
     "name": "stdout",
     "output_type": "stream",
     "text": [
      "252/468 [===============>..............] - ETA: 2:23 - loss: 0.6710 - accuracy: 0.7825\n",
      "Epoch 00001: saving model to training_10_3/cp-0001.ckpt\n"
     ]
    },
    {
     "name": "stderr",
     "output_type": "stream",
     "text": [
      "W0622 22:35:49.155964  7048 callbacks.py:241] Method (on_train_batch_end) is slow compared to the batch update (0.419398). Check your callbacks.\n"
     ]
    },
    {
     "name": "stdout",
     "output_type": "stream",
     "text": [
      "253/468 [===============>..............] - ETA: 2:22 - loss: 0.6697 - accuracy: 0.7830\n",
      "Epoch 00001: saving model to training_10_3/cp-0001.ckpt\n"
     ]
    },
    {
     "name": "stderr",
     "output_type": "stream",
     "text": [
      "W0622 22:35:49.608601  7048 callbacks.py:241] Method (on_train_batch_end) is slow compared to the batch update (0.393000). Check your callbacks.\n"
     ]
    },
    {
     "name": "stdout",
     "output_type": "stream",
     "text": [
      "254/468 [===============>..............] - ETA: 2:21 - loss: 0.6683 - accuracy: 0.7835\n",
      "Epoch 00001: saving model to training_10_3/cp-0001.ckpt\n"
     ]
    },
    {
     "name": "stderr",
     "output_type": "stream",
     "text": [
      "W0622 22:35:50.081769  7048 callbacks.py:241] Method (on_train_batch_end) is slow compared to the batch update (0.380291). Check your callbacks.\n"
     ]
    },
    {
     "name": "stdout",
     "output_type": "stream",
     "text": [
      "255/468 [===============>..............] - ETA: 2:20 - loss: 0.6671 - accuracy: 0.7838\n",
      "Epoch 00001: saving model to training_10_3/cp-0001.ckpt\n"
     ]
    },
    {
     "name": "stderr",
     "output_type": "stream",
     "text": [
      "W0622 22:35:50.321283  7048 callbacks.py:241] Method (on_train_batch_end) is slow compared to the batch update (0.364162). Check your callbacks.\n"
     ]
    },
    {
     "name": "stdout",
     "output_type": "stream",
     "text": [
      "\b\b\b\b\b\b\b\b\b\b\b\b\b\b\b\b\b\b\b\b\b\b\b\b\b\b\b\b\b\b\b\b\b\b\b\b\b\b\b\b\b\b\b\b\b\b\b\b\b\b\b\b\b\b\b\b\b\b\b\b\b\b\b\b\b\b\b\b\b\b\b\b\b\b\b\b\b\b\b\b\b\b\b\b\b\b\r",
      "256/468 [===============>..............] - ETA: 2:19 - loss: 0.6655 - accuracy: 0.7844"
     ]
    },
    {
     "name": "stderr",
     "output_type": "stream",
     "text": [
      "W0622 22:35:50.494322  7048 callbacks.py:241] Method (on_train_batch_end) is slow compared to the batch update (0.364162). Check your callbacks.\n"
     ]
    },
    {
     "name": "stdout",
     "output_type": "stream",
     "text": [
      "\n",
      "Epoch 00001: saving model to training_10_3/cp-0001.ckpt\n",
      "257/468 [===============>..............] - ETA: 2:18 - loss: 0.6640 - accuracy: 0.7849\n",
      "Epoch 00001: saving model to training_10_3/cp-0001.ckpt\n"
     ]
    },
    {
     "name": "stderr",
     "output_type": "stream",
     "text": [
      "W0622 22:35:50.838443  7048 callbacks.py:241] Method (on_train_batch_end) is slow compared to the batch update (0.364162). Check your callbacks.\n"
     ]
    },
    {
     "name": "stdout",
     "output_type": "stream",
     "text": [
      "\b\b\b\b\b\b\b\b\b\b\b\b\b\b\b\b\b\b\b\b\b\b\b\b\b\b\b\b\b\b\b\b\b\b\b\b\b\b\b\b\b\b\b\b\b\b\b\b\b\b\b\b\b\b\b\b\b\b\b\b\b\b\b\b\b\b\b\b\b\b\b\b\b\b\b\b\b\b\b\b\b\b\b\b\b\b\r",
      "258/468 [===============>..............] - ETA: 2:17 - loss: 0.6629 - accuracy: 0.7852"
     ]
    },
    {
     "name": "stderr",
     "output_type": "stream",
     "text": [
      "W0622 22:35:51.015392  7048 callbacks.py:241] Method (on_train_batch_end) is slow compared to the batch update (0.345098). Check your callbacks.\n"
     ]
    },
    {
     "name": "stdout",
     "output_type": "stream",
     "text": [
      "\n",
      "Epoch 00001: saving model to training_10_3/cp-0001.ckpt\n",
      "259/468 [===============>..............] - ETA: 2:16 - loss: 0.6619 - accuracy: 0.7855\n",
      "Epoch 00001: saving model to training_10_3/cp-0001.ckpt\n"
     ]
    },
    {
     "name": "stderr",
     "output_type": "stream",
     "text": [
      "W0622 22:35:51.326275  7048 callbacks.py:241] Method (on_train_batch_end) is slow compared to the batch update (0.315769). Check your callbacks.\n"
     ]
    },
    {
     "name": "stdout",
     "output_type": "stream",
     "text": [
      "260/468 [===============>..............] - ETA: 2:15 - loss: 0.6603 - accuracy: 0.7861\n",
      "Epoch 00001: saving model to training_10_3/cp-0001.ckpt\n"
     ]
    },
    {
     "name": "stderr",
     "output_type": "stream",
     "text": [
      "W0622 22:35:51.745674  7048 callbacks.py:241] Method (on_train_batch_end) is slow compared to the batch update (0.315769). Check your callbacks.\n"
     ]
    },
    {
     "name": "stdout",
     "output_type": "stream",
     "text": [
      "261/468 [===============>..............] - ETA: 2:14 - loss: 0.6590 - accuracy: 0.7865\n",
      "Epoch 00001: saving model to training_10_3/cp-0001.ckpt\n"
     ]
    },
    {
     "name": "stderr",
     "output_type": "stream",
     "text": [
      "W0622 22:35:52.230570  7048 callbacks.py:241] Method (on_train_batch_end) is slow compared to the batch update (0.315769). Check your callbacks.\n"
     ]
    },
    {
     "name": "stdout",
     "output_type": "stream",
     "text": [
      "262/468 [===============>..............] - ETA: 2:14 - loss: 0.6576 - accuracy: 0.7870\n",
      "Epoch 00001: saving model to training_10_3/cp-0001.ckpt\n"
     ]
    },
    {
     "name": "stderr",
     "output_type": "stream",
     "text": [
      "W0622 22:35:52.843537  7048 callbacks.py:241] Method (on_train_batch_end) is slow compared to the batch update (0.327010). Check your callbacks.\n"
     ]
    },
    {
     "name": "stdout",
     "output_type": "stream",
     "text": [
      "263/468 [===============>..............] - ETA: 2:13 - loss: 0.6564 - accuracy: 0.7874\n",
      "Epoch 00001: saving model to training_10_3/cp-0001.ckpt\n"
     ]
    },
    {
     "name": "stderr",
     "output_type": "stream",
     "text": [
      "W0622 22:35:53.510270  7048 callbacks.py:241] Method (on_train_batch_end) is slow compared to the batch update (0.327010). Check your callbacks.\n"
     ]
    },
    {
     "name": "stdout",
     "output_type": "stream",
     "text": [
      "264/468 [===============>..............] - ETA: 2:12 - loss: 0.6550 - accuracy: 0.7879\n",
      "Epoch 00001: saving model to training_10_3/cp-0001.ckpt\n"
     ]
    },
    {
     "name": "stderr",
     "output_type": "stream",
     "text": [
      "W0622 22:35:53.846570  7048 callbacks.py:241] Method (on_train_batch_end) is slow compared to the batch update (0.290838). Check your callbacks.\n"
     ]
    },
    {
     "name": "stdout",
     "output_type": "stream",
     "text": [
      "265/468 [===============>..............] - ETA: 2:11 - loss: 0.6542 - accuracy: 0.7882\n",
      "Epoch 00001: saving model to training_10_3/cp-0001.ckpt\n"
     ]
    },
    {
     "name": "stderr",
     "output_type": "stream",
     "text": [
      "W0622 22:35:54.108572  7048 callbacks.py:241] Method (on_train_batch_end) is slow compared to the batch update (0.290838). Check your callbacks.\n"
     ]
    },
    {
     "name": "stdout",
     "output_type": "stream",
     "text": [
      "266/468 [================>.............] - ETA: 2:11 - loss: 0.6528 - accuracy: 0.7887\n",
      "Epoch 00001: saving model to training_10_3/cp-0001.ckpt\n"
     ]
    },
    {
     "name": "stderr",
     "output_type": "stream",
     "text": [
      "W0622 22:35:54.519172  7048 callbacks.py:241] Method (on_train_batch_end) is slow compared to the batch update (0.304037). Check your callbacks.\n"
     ]
    },
    {
     "name": "stdout",
     "output_type": "stream",
     "text": [
      "267/468 [================>.............] - ETA: 2:10 - loss: 0.6521 - accuracy: 0.7889\n",
      "Epoch 00001: saving model to training_10_3/cp-0001.ckpt\n"
     ]
    },
    {
     "name": "stderr",
     "output_type": "stream",
     "text": [
      "W0622 22:35:55.208391  7048 callbacks.py:241] Method (on_train_batch_end) is slow compared to the batch update (0.336787). Check your callbacks.\n"
     ]
    },
    {
     "name": "stdout",
     "output_type": "stream",
     "text": [
      "\b\b\b\b\b\b\b\b\b\b\b\b\b\b\b\b\b\b\b\b\b\b\b\b\b\b\b\b\b\b\b\b\b\b\b\b\b\b\b\b\b\b\b\b\b\b\b\b\b\b\b\b\b\b\b\b\b\b\b\b\b\b\b\b\b\b\b\b\b\b\b\b\b\b\b\b\b\b\b\b\b\b\b\b\b\b\r",
      "268/468 [================>.............] - ETA: 2:09 - loss: 0.6503 - accuracy: 0.7896"
     ]
    },
    {
     "name": "stderr",
     "output_type": "stream",
     "text": [
      "W0622 22:35:55.401959  7048 callbacks.py:241] Method (on_train_batch_end) is slow compared to the batch update (0.336787). Check your callbacks.\n"
     ]
    },
    {
     "name": "stdout",
     "output_type": "stream",
     "text": [
      "\n",
      "Epoch 00001: saving model to training_10_3/cp-0001.ckpt\n",
      "269/468 [================>.............] - ETA: 2:08 - loss: 0.6494 - accuracy: 0.7900\n",
      "Epoch 00001: saving model to training_10_3/cp-0001.ckpt\n"
     ]
    },
    {
     "name": "stderr",
     "output_type": "stream",
     "text": [
      "W0622 22:35:55.796916  7048 callbacks.py:241] Method (on_train_batch_end) is slow compared to the batch update (0.355363). Check your callbacks.\n"
     ]
    },
    {
     "name": "stdout",
     "output_type": "stream",
     "text": [
      "270/468 [================>.............] - ETA: 2:07 - loss: 0.6484 - accuracy: 0.7904\n",
      "Epoch 00001: saving model to training_10_3/cp-0001.ckpt\n"
     ]
    },
    {
     "name": "stderr",
     "output_type": "stream",
     "text": [
      "W0622 22:35:56.306257  7048 callbacks.py:241] Method (on_train_batch_end) is slow compared to the batch update (0.355363). Check your callbacks.\n"
     ]
    },
    {
     "name": "stdout",
     "output_type": "stream",
     "text": [
      "271/468 [================>.............] - ETA: 2:07 - loss: 0.6478 - accuracy: 0.7907\n",
      "Epoch 00001: saving model to training_10_3/cp-0001.ckpt\n"
     ]
    },
    {
     "name": "stderr",
     "output_type": "stream",
     "text": [
      "W0622 22:35:57.165583  7048 callbacks.py:241] Method (on_train_batch_end) is slow compared to the batch update (0.373450). Check your callbacks.\n"
     ]
    },
    {
     "name": "stdout",
     "output_type": "stream",
     "text": [
      "272/468 [================>.............] - ETA: 2:06 - loss: 0.6463 - accuracy: 0.7912\n",
      "Epoch 00001: saving model to training_10_3/cp-0001.ckpt\n"
     ]
    },
    {
     "name": "stderr",
     "output_type": "stream",
     "text": [
      "W0622 22:35:57.796146  7048 callbacks.py:241] Method (on_train_batch_end) is slow compared to the batch update (0.373450). Check your callbacks.\n"
     ]
    },
    {
     "name": "stdout",
     "output_type": "stream",
     "text": [
      "273/468 [================>.............] - ETA: 2:05 - loss: 0.6451 - accuracy: 0.7917\n",
      "Epoch 00001: saving model to training_10_3/cp-0001.ckpt\n"
     ]
    },
    {
     "name": "stderr",
     "output_type": "stream",
     "text": [
      "W0622 22:35:58.084540  7048 callbacks.py:241] Method (on_train_batch_end) is slow compared to the batch update (0.332390). Check your callbacks.\n"
     ]
    },
    {
     "name": "stdout",
     "output_type": "stream",
     "text": [
      "274/468 [================>.............] - ETA: 2:04 - loss: 0.6439 - accuracy: 0.7920\n",
      "Epoch 00001: saving model to training_10_3/cp-0001.ckpt\n"
     ]
    },
    {
     "name": "stderr",
     "output_type": "stream",
     "text": [
      "W0622 22:35:58.300594  7048 callbacks.py:241] Method (on_train_batch_end) is slow compared to the batch update (0.332390). Check your callbacks.\n"
     ]
    },
    {
     "name": "stdout",
     "output_type": "stream",
     "text": [
      "275/468 [================>.............] - ETA: 2:04 - loss: 0.6427 - accuracy: 0.7926\n",
      "Epoch 00001: saving model to training_10_3/cp-0001.ckpt\n"
     ]
    },
    {
     "name": "stderr",
     "output_type": "stream",
     "text": [
      "W0622 22:35:58.938987  7048 callbacks.py:241] Method (on_train_batch_end) is slow compared to the batch update (0.373450). Check your callbacks.\n"
     ]
    },
    {
     "name": "stdout",
     "output_type": "stream",
     "text": [
      "276/468 [================>.............] - ETA: 2:03 - loss: 0.6416 - accuracy: 0.7929\n",
      "Epoch 00001: saving model to training_10_3/cp-0001.ckpt\n"
     ]
    },
    {
     "name": "stderr",
     "output_type": "stream",
     "text": [
      "W0622 22:35:59.213687  7048 callbacks.py:241] Method (on_train_batch_end) is slow compared to the batch update (0.373450). Check your callbacks.\n"
     ]
    },
    {
     "name": "stdout",
     "output_type": "stream",
     "text": [
      "277/468 [================>.............] - ETA: 2:02 - loss: 0.6403 - accuracy: 0.7933\n",
      "Epoch 00001: saving model to training_10_3/cp-0001.ckpt\n"
     ]
    },
    {
     "name": "stderr",
     "output_type": "stream",
     "text": [
      "W0622 22:35:59.705429  7048 callbacks.py:241] Method (on_train_batch_end) is slow compared to the batch update (0.373450). Check your callbacks.\n"
     ]
    },
    {
     "name": "stdout",
     "output_type": "stream",
     "text": [
      "278/468 [================>.............] - ETA: 2:01 - loss: 0.6387 - accuracy: 0.7939\n",
      "Epoch 00001: saving model to training_10_3/cp-0001.ckpt\n"
     ]
    },
    {
     "name": "stderr",
     "output_type": "stream",
     "text": [
      "W0622 22:36:00.245074  7048 callbacks.py:241] Method (on_train_batch_end) is slow compared to the batch update (0.397401). Check your callbacks.\n"
     ]
    },
    {
     "name": "stdout",
     "output_type": "stream",
     "text": [
      "279/468 [================>.............] - ETA: 2:01 - loss: 0.6374 - accuracy: 0.7943\n",
      "Epoch 00001: saving model to training_10_3/cp-0001.ckpt\n"
     ]
    },
    {
     "name": "stderr",
     "output_type": "stream",
     "text": [
      "W0622 22:36:00.538362  7048 callbacks.py:241] Method (on_train_batch_end) is slow compared to the batch update (0.397401). Check your callbacks.\n"
     ]
    },
    {
     "name": "stdout",
     "output_type": "stream",
     "text": [
      "280/468 [================>.............] - ETA: 2:00 - loss: 0.6363 - accuracy: 0.7946\n",
      "Epoch 00001: saving model to training_10_3/cp-0001.ckpt\n"
     ]
    },
    {
     "name": "stderr",
     "output_type": "stream",
     "text": [
      "W0622 22:36:00.910831  7048 callbacks.py:241] Method (on_train_batch_end) is slow compared to the batch update (0.352920). Check your callbacks.\n"
     ]
    },
    {
     "name": "stdout",
     "output_type": "stream",
     "text": [
      "281/468 [=================>............] - ETA: 1:59 - loss: 0.6349 - accuracy: 0.7951\n",
      "Epoch 00001: saving model to training_10_3/cp-0001.ckpt\n"
     ]
    },
    {
     "name": "stderr",
     "output_type": "stream",
     "text": [
      "W0622 22:36:01.473938  7048 callbacks.py:241] Method (on_train_batch_end) is slow compared to the batch update (0.352920). Check your callbacks.\n"
     ]
    },
    {
     "name": "stdout",
     "output_type": "stream",
     "text": [
      "282/468 [=================>............] - ETA: 1:58 - loss: 0.6340 - accuracy: 0.7954\n",
      "Epoch 00001: saving model to training_10_3/cp-0001.ckpt\n"
     ]
    },
    {
     "name": "stderr",
     "output_type": "stream",
     "text": [
      "W0622 22:36:02.082017  7048 callbacks.py:241] Method (on_train_batch_end) is slow compared to the batch update (0.362695). Check your callbacks.\n"
     ]
    },
    {
     "name": "stdout",
     "output_type": "stream",
     "text": [
      "283/468 [=================>............] - ETA: 1:58 - loss: 0.6333 - accuracy: 0.7955\n",
      "Epoch 00001: saving model to training_10_3/cp-0001.ckpt\n"
     ]
    },
    {
     "name": "stderr",
     "output_type": "stream",
     "text": [
      "W0622 22:36:02.686186  7048 callbacks.py:241] Method (on_train_batch_end) is slow compared to the batch update (0.430151). Check your callbacks.\n"
     ]
    },
    {
     "name": "stdout",
     "output_type": "stream",
     "text": [
      "284/468 [=================>............] - ETA: 1:57 - loss: 0.6319 - accuracy: 0.7960\n",
      "Epoch 00001: saving model to training_10_3/cp-0001.ckpt\n"
     ]
    },
    {
     "name": "stderr",
     "output_type": "stream",
     "text": [
      "W0622 22:36:03.374425  7048 callbacks.py:241] Method (on_train_batch_end) is slow compared to the batch update (0.456058). Check your callbacks.\n"
     ]
    },
    {
     "name": "stdout",
     "output_type": "stream",
     "text": [
      "285/468 [=================>............] - ETA: 1:56 - loss: 0.6310 - accuracy: 0.7964\n",
      "Epoch 00001: saving model to training_10_3/cp-0001.ckpt\n"
     ]
    },
    {
     "name": "stderr",
     "output_type": "stream",
     "text": [
      "W0622 22:36:03.734189  7048 callbacks.py:241] Method (on_train_batch_end) is slow compared to the batch update (0.430151). Check your callbacks.\n"
     ]
    },
    {
     "name": "stdout",
     "output_type": "stream",
     "text": [
      "286/468 [=================>............] - ETA: 1:55 - loss: 0.6302 - accuracy: 0.7967\n",
      "Epoch 00001: saving model to training_10_3/cp-0001.ckpt\n"
     ]
    },
    {
     "name": "stderr",
     "output_type": "stream",
     "text": [
      "W0622 22:36:04.191713  7048 callbacks.py:241] Method (on_train_batch_end) is slow compared to the batch update (0.430151). Check your callbacks.\n"
     ]
    },
    {
     "name": "stdout",
     "output_type": "stream",
     "text": [
      "287/468 [=================>............] - ETA: 1:55 - loss: 0.6288 - accuracy: 0.7972\n",
      "Epoch 00001: saving model to training_10_3/cp-0001.ckpt\n"
     ]
    },
    {
     "name": "stderr",
     "output_type": "stream",
     "text": [
      "W0622 22:36:04.435141  7048 callbacks.py:241] Method (on_train_batch_end) is slow compared to the batch update (0.425752). Check your callbacks.\n"
     ]
    },
    {
     "name": "stdout",
     "output_type": "stream",
     "text": [
      "288/468 [=================>............] - ETA: 1:54 - loss: 0.6278 - accuracy: 0.7976\n",
      "Epoch 00001: saving model to training_10_3/cp-0001.ckpt\n"
     ]
    },
    {
     "name": "stderr",
     "output_type": "stream",
     "text": [
      "W0622 22:36:04.718649  7048 callbacks.py:241] Method (on_train_batch_end) is slow compared to the batch update (0.363183). Check your callbacks.\n"
     ]
    },
    {
     "name": "stdout",
     "output_type": "stream",
     "text": [
      "289/468 [=================>............] - ETA: 1:53 - loss: 0.6265 - accuracy: 0.7981\n",
      "Epoch 00001: saving model to training_10_3/cp-0001.ckpt\n"
     ]
    },
    {
     "name": "stderr",
     "output_type": "stream",
     "text": [
      "W0622 22:36:05.172263  7048 callbacks.py:241] Method (on_train_batch_end) is slow compared to the batch update (0.409621). Check your callbacks.\n"
     ]
    },
    {
     "name": "stdout",
     "output_type": "stream",
     "text": [
      "290/468 [=================>............] - ETA: 1:52 - loss: 0.6252 - accuracy: 0.7986\n",
      "Epoch 00001: saving model to training_10_3/cp-0001.ckpt\n"
     ]
    },
    {
     "name": "stderr",
     "output_type": "stream",
     "text": [
      "W0622 22:36:05.549624  7048 callbacks.py:241] Method (on_train_batch_end) is slow compared to the batch update (0.409621). Check your callbacks.\n"
     ]
    },
    {
     "name": "stdout",
     "output_type": "stream",
     "text": [
      "291/468 [=================>............] - ETA: 1:51 - loss: 0.6236 - accuracy: 0.7992\n",
      "Epoch 00001: saving model to training_10_3/cp-0001.ckpt\n"
     ]
    },
    {
     "name": "stderr",
     "output_type": "stream",
     "text": [
      "W0622 22:36:06.035502  7048 callbacks.py:241] Method (on_train_batch_end) is slow compared to the batch update (0.378826). Check your callbacks.\n"
     ]
    },
    {
     "name": "stdout",
     "output_type": "stream",
     "text": [
      "292/468 [=================>............] - ETA: 1:51 - loss: 0.6227 - accuracy: 0.7997\n",
      "Epoch 00001: saving model to training_10_3/cp-0001.ckpt\n"
     ]
    },
    {
     "name": "stderr",
     "output_type": "stream",
     "text": [
      "W0622 22:36:06.745250  7048 callbacks.py:241] Method (on_train_batch_end) is slow compared to the batch update (0.378826). Check your callbacks.\n"
     ]
    },
    {
     "name": "stdout",
     "output_type": "stream",
     "text": [
      "293/468 [=================>............] - ETA: 1:50 - loss: 0.6214 - accuracy: 0.8002\n",
      "Epoch 00001: saving model to training_10_3/cp-0001.ckpt\n"
     ]
    },
    {
     "name": "stderr",
     "output_type": "stream",
     "text": [
      "W0622 22:36:07.235039  7048 callbacks.py:241] Method (on_train_batch_end) is slow compared to the batch update (0.347543). Check your callbacks.\n"
     ]
    },
    {
     "name": "stdout",
     "output_type": "stream",
     "text": [
      "294/468 [=================>............] - ETA: 1:49 - loss: 0.6203 - accuracy: 0.8006\n",
      "Epoch 00001: saving model to training_10_3/cp-0001.ckpt\n"
     ]
    },
    {
     "name": "stderr",
     "output_type": "stream",
     "text": [
      "W0622 22:36:07.798142  7048 callbacks.py:241] Method (on_train_batch_end) is slow compared to the batch update (0.347543). Check your callbacks.\n"
     ]
    },
    {
     "name": "stdout",
     "output_type": "stream",
     "text": [
      "295/468 [=================>............] - ETA: 1:49 - loss: 0.6192 - accuracy: 0.8009\n",
      "Epoch 00001: saving model to training_10_3/cp-0001.ckpt\n"
     ]
    },
    {
     "name": "stderr",
     "output_type": "stream",
     "text": [
      "W0622 22:36:08.256645  7048 callbacks.py:241] Method (on_train_batch_end) is slow compared to the batch update (0.347543). Check your callbacks.\n"
     ]
    },
    {
     "name": "stdout",
     "output_type": "stream",
     "text": [
      "296/468 [=================>............] - ETA: 1:48 - loss: 0.6179 - accuracy: 0.8013\n",
      "Epoch 00001: saving model to training_10_3/cp-0001.ckpt\n"
     ]
    },
    {
     "name": "stderr",
     "output_type": "stream",
     "text": [
      "W0622 22:36:08.797267  7048 callbacks.py:241] Method (on_train_batch_end) is slow compared to the batch update (0.347543). Check your callbacks.\n"
     ]
    },
    {
     "name": "stdout",
     "output_type": "stream",
     "text": [
      "297/468 [==================>...........] - ETA: 1:47 - loss: 0.6170 - accuracy: 0.8017\n",
      "Epoch 00001: saving model to training_10_3/cp-0001.ckpt\n"
     ]
    },
    {
     "name": "stderr",
     "output_type": "stream",
     "text": [
      "W0622 22:36:09.450315  7048 callbacks.py:241] Method (on_train_batch_end) is slow compared to the batch update (0.378827). Check your callbacks.\n"
     ]
    },
    {
     "name": "stdout",
     "output_type": "stream",
     "text": [
      "298/468 [==================>...........] - ETA: 1:47 - loss: 0.6163 - accuracy: 0.8018\n",
      "Epoch 00001: saving model to training_10_3/cp-0001.ckpt\n"
     ]
    },
    {
     "name": "stderr",
     "output_type": "stream",
     "text": [
      "W0622 22:36:09.826696  7048 callbacks.py:241] Method (on_train_batch_end) is slow compared to the batch update (0.378827). Check your callbacks.\n"
     ]
    },
    {
     "name": "stdout",
     "output_type": "stream",
     "text": [
      "\b\b\b\b\b\b\b\b\b\b\b\b\b\b\b\b\b\b\b\b\b\b\b\b\b\b\b\b\b\b\b\b\b\b\b\b\b\b\b\b\b\b\b\b\b\b\b\b\b\b\b\b\b\b\b\b\b\b\b\b\b\b\b\b\b\b\b\b\b\b\b\b\b\b\b\b\b\b\b\b\b\b\b\b\b\b\r",
      "299/468 [==================>...........] - ETA: 1:46 - loss: 0.6155 - accuracy: 0.8021"
     ]
    },
    {
     "name": "stderr",
     "output_type": "stream",
     "text": [
      "W0622 22:36:09.998758  7048 callbacks.py:241] Method (on_train_batch_end) is slow compared to the batch update (0.347543). Check your callbacks.\n"
     ]
    },
    {
     "name": "stdout",
     "output_type": "stream",
     "text": [
      "\n",
      "Epoch 00001: saving model to training_10_3/cp-0001.ckpt\n",
      "300/468 [==================>...........] - ETA: 1:45 - loss: 0.6146 - accuracy: 0.8026\n",
      "Epoch 00001: saving model to training_10_3/cp-0001.ckpt\n"
     ]
    },
    {
     "name": "stderr",
     "output_type": "stream",
     "text": [
      "W0622 22:36:10.402513  7048 callbacks.py:241] Method (on_train_batch_end) is slow compared to the batch update (0.351454). Check your callbacks.\n"
     ]
    },
    {
     "name": "stdout",
     "output_type": "stream",
     "text": [
      "301/468 [==================>...........] - ETA: 1:44 - loss: 0.6139 - accuracy: 0.8029\n",
      "Epoch 00001: saving model to training_10_3/cp-0001.ckpt\n"
     ]
    },
    {
     "name": "stderr",
     "output_type": "stream",
     "text": [
      "W0622 22:36:11.038944  7048 callbacks.py:241] Method (on_train_batch_end) is slow compared to the batch update (0.386158). Check your callbacks.\n"
     ]
    },
    {
     "name": "stdout",
     "output_type": "stream",
     "text": [
      "302/468 [==================>...........] - ETA: 1:44 - loss: 0.6131 - accuracy: 0.8032\n",
      "Epoch 00001: saving model to training_10_3/cp-0001.ckpt\n"
     ]
    },
    {
     "name": "stderr",
     "output_type": "stream",
     "text": [
      "W0622 22:36:11.865029  7048 callbacks.py:241] Method (on_train_batch_end) is slow compared to the batch update (0.386158). Check your callbacks.\n"
     ]
    },
    {
     "name": "stdout",
     "output_type": "stream",
     "text": [
      "303/468 [==================>...........] - ETA: 1:43 - loss: 0.6121 - accuracy: 0.8037\n",
      "Epoch 00001: saving model to training_10_3/cp-0001.ckpt\n"
     ]
    },
    {
     "name": "stderr",
     "output_type": "stream",
     "text": [
      "W0622 22:36:12.390989  7048 callbacks.py:241] Method (on_train_batch_end) is slow compared to the batch update (0.387623). Check your callbacks.\n"
     ]
    },
    {
     "name": "stdout",
     "output_type": "stream",
     "text": [
      "304/468 [==================>...........] - ETA: 1:42 - loss: 0.6111 - accuracy: 0.8041\n",
      "Epoch 00001: saving model to training_10_3/cp-0001.ckpt\n"
     ]
    },
    {
     "name": "stderr",
     "output_type": "stream",
     "text": [
      "W0622 22:36:12.724354  7048 callbacks.py:241] Method (on_train_batch_end) is slow compared to the batch update (0.356340). Check your callbacks.\n"
     ]
    },
    {
     "name": "stdout",
     "output_type": "stream",
     "text": [
      "305/468 [==================>...........] - ETA: 1:42 - loss: 0.6103 - accuracy: 0.8044\n",
      "Epoch 00001: saving model to training_10_3/cp-0001.ckpt\n"
     ]
    },
    {
     "name": "stderr",
     "output_type": "stream",
     "text": [
      "W0622 22:36:13.141796  7048 callbacks.py:241] Method (on_train_batch_end) is slow compared to the batch update (0.366605). Check your callbacks.\n"
     ]
    },
    {
     "name": "stdout",
     "output_type": "stream",
     "text": [
      "306/468 [==================>...........] - ETA: 1:41 - loss: 0.6095 - accuracy: 0.8046\n",
      "Epoch 00001: saving model to training_10_3/cp-0001.ckpt\n"
     ]
    },
    {
     "name": "stderr",
     "output_type": "stream",
     "text": [
      "W0622 22:36:13.434104  7048 callbacks.py:241] Method (on_train_batch_end) is slow compared to the batch update (0.356340). Check your callbacks.\n"
     ]
    },
    {
     "name": "stdout",
     "output_type": "stream",
     "text": [
      "307/468 [==================>...........] - ETA: 1:40 - loss: 0.6086 - accuracy: 0.8049\n",
      "Epoch 00001: saving model to training_10_3/cp-0001.ckpt\n"
     ]
    },
    {
     "name": "stderr",
     "output_type": "stream",
     "text": [
      "W0622 22:36:13.659933  7048 callbacks.py:241] Method (on_train_batch_end) is slow compared to the batch update (0.323591). Check your callbacks.\n"
     ]
    },
    {
     "name": "stdout",
     "output_type": "stream",
     "text": [
      "308/468 [==================>...........] - ETA: 1:39 - loss: 0.6076 - accuracy: 0.8052\n",
      "Epoch 00001: saving model to training_10_3/cp-0001.ckpt\n"
     ]
    },
    {
     "name": "stderr",
     "output_type": "stream",
     "text": [
      "W0622 22:36:13.968861  7048 callbacks.py:241] Method (on_train_batch_end) is slow compared to the batch update (0.323591). Check your callbacks.\n"
     ]
    },
    {
     "name": "stdout",
     "output_type": "stream",
     "text": [
      "309/468 [==================>...........] - ETA: 1:39 - loss: 0.6069 - accuracy: 0.8056\n",
      "Epoch 00001: saving model to training_10_3/cp-0001.ckpt\n"
     ]
    },
    {
     "name": "stderr",
     "output_type": "stream",
     "text": [
      "W0622 22:36:14.395112  7048 callbacks.py:241] Method (on_train_batch_end) is slow compared to the batch update (0.356340). Check your callbacks.\n"
     ]
    },
    {
     "name": "stdout",
     "output_type": "stream",
     "text": [
      "310/468 [==================>...........] - ETA: 1:38 - loss: 0.6060 - accuracy: 0.8059\n",
      "Epoch 00001: saving model to training_10_3/cp-0001.ckpt\n"
     ]
    },
    {
     "name": "stderr",
     "output_type": "stream",
     "text": [
      "W0622 22:36:14.878047  7048 callbacks.py:241] Method (on_train_batch_end) is slow compared to the batch update (0.357812). Check your callbacks.\n"
     ]
    },
    {
     "name": "stdout",
     "output_type": "stream",
     "text": [
      "311/468 [==================>...........] - ETA: 1:37 - loss: 0.6047 - accuracy: 0.8063\n",
      "Epoch 00001: saving model to training_10_3/cp-0001.ckpt\n"
     ]
    },
    {
     "name": "stderr",
     "output_type": "stream",
     "text": [
      "W0622 22:36:15.477325  7048 callbacks.py:241] Method (on_train_batch_end) is slow compared to the batch update (0.357812). Check your callbacks.\n"
     ]
    },
    {
     "name": "stdout",
     "output_type": "stream",
     "text": [
      "312/468 [===================>..........] - ETA: 1:36 - loss: 0.6033 - accuracy: 0.8067\n",
      "Epoch 00001: saving model to training_10_3/cp-0001.ckpt\n"
     ]
    },
    {
     "name": "stderr",
     "output_type": "stream",
     "text": [
      "W0622 22:36:15.986662  7048 callbacks.py:241] Method (on_train_batch_end) is slow compared to the batch update (0.357812). Check your callbacks.\n"
     ]
    },
    {
     "name": "stdout",
     "output_type": "stream",
     "text": [
      "313/468 [===================>..........] - ETA: 1:36 - loss: 0.6029 - accuracy: 0.8070\n",
      "Epoch 00001: saving model to training_10_3/cp-0001.ckpt\n"
     ]
    },
    {
     "name": "stderr",
     "output_type": "stream",
     "text": [
      "W0622 22:36:16.516530  7048 callbacks.py:241] Method (on_train_batch_end) is slow compared to the batch update (0.366117). Check your callbacks.\n"
     ]
    },
    {
     "name": "stdout",
     "output_type": "stream",
     "text": [
      "314/468 [===================>..........] - ETA: 1:35 - loss: 0.6019 - accuracy: 0.8074\n",
      "Epoch 00001: saving model to training_10_3/cp-0001.ckpt\n"
     ]
    },
    {
     "name": "stderr",
     "output_type": "stream",
     "text": [
      "W0622 22:36:16.937883  7048 callbacks.py:241] Method (on_train_batch_end) is slow compared to the batch update (0.374422). Check your callbacks.\n"
     ]
    },
    {
     "name": "stdout",
     "output_type": "stream",
     "text": [
      "315/468 [===================>..........] - ETA: 1:34 - loss: 0.6008 - accuracy: 0.8078\n",
      "Epoch 00001: saving model to training_10_3/cp-0001.ckpt\n"
     ]
    },
    {
     "name": "stderr",
     "output_type": "stream",
     "text": [
      "W0622 22:36:17.422782  7048 callbacks.py:241] Method (on_train_batch_end) is slow compared to the batch update (0.374422). Check your callbacks.\n"
     ]
    },
    {
     "name": "stdout",
     "output_type": "stream",
     "text": [
      "316/468 [===================>..........] - ETA: 1:34 - loss: 0.6001 - accuracy: 0.8081\n",
      "Epoch 00001: saving model to training_10_3/cp-0001.ckpt\n"
     ]
    },
    {
     "name": "stderr",
     "output_type": "stream",
     "text": [
      "W0622 22:36:17.910614  7048 callbacks.py:241] Method (on_train_batch_end) is slow compared to the batch update (0.374422). Check your callbacks.\n"
     ]
    },
    {
     "name": "stdout",
     "output_type": "stream",
     "text": [
      "317/468 [===================>..........] - ETA: 1:33 - loss: 0.5988 - accuracy: 0.8085\n",
      "Epoch 00001: saving model to training_10_3/cp-0001.ckpt\n"
     ]
    },
    {
     "name": "stderr",
     "output_type": "stream",
     "text": [
      "W0622 22:36:18.603744  7048 callbacks.py:241] Method (on_train_batch_end) is slow compared to the batch update (0.377361). Check your callbacks.\n"
     ]
    },
    {
     "name": "stdout",
     "output_type": "stream",
     "text": [
      "318/468 [===================>..........] - ETA: 1:32 - loss: 0.5977 - accuracy: 0.8090\n",
      "Epoch 00001: saving model to training_10_3/cp-0001.ckpt\n"
     ]
    },
    {
     "name": "stderr",
     "output_type": "stream",
     "text": [
      "W0622 22:36:19.271461  7048 callbacks.py:241] Method (on_train_batch_end) is slow compared to the batch update (0.380781). Check your callbacks.\n"
     ]
    },
    {
     "name": "stdout",
     "output_type": "stream",
     "text": [
      "319/468 [===================>..........] - ETA: 1:32 - loss: 0.5964 - accuracy: 0.8094\n",
      "Epoch 00001: saving model to training_10_3/cp-0001.ckpt\n"
     ]
    },
    {
     "name": "stderr",
     "output_type": "stream",
     "text": [
      "W0622 22:36:19.953832  7048 callbacks.py:241] Method (on_train_batch_end) is slow compared to the batch update (0.411577). Check your callbacks.\n"
     ]
    },
    {
     "name": "stdout",
     "output_type": "stream",
     "text": [
      "320/468 [===================>..........] - ETA: 1:31 - loss: 0.5957 - accuracy: 0.8097\n",
      "Epoch 00001: saving model to training_10_3/cp-0001.ckpt\n"
     ]
    },
    {
     "name": "stderr",
     "output_type": "stream",
     "text": [
      "W0622 22:36:20.650872  7048 callbacks.py:241] Method (on_train_batch_end) is slow compared to the batch update (0.450682). Check your callbacks.\n"
     ]
    },
    {
     "name": "stdout",
     "output_type": "stream",
     "text": [
      "321/468 [===================>..........] - ETA: 1:31 - loss: 0.5947 - accuracy: 0.8099\n",
      "Epoch 00001: saving model to training_10_3/cp-0001.ckpt\n"
     ]
    },
    {
     "name": "stderr",
     "output_type": "stream",
     "text": [
      "W0622 22:36:21.121105  7048 callbacks.py:241] Method (on_train_batch_end) is slow compared to the batch update (0.411577). Check your callbacks.\n"
     ]
    },
    {
     "name": "stdout",
     "output_type": "stream",
     "text": [
      "322/468 [===================>..........] - ETA: 1:30 - loss: 0.5941 - accuracy: 0.8101\n",
      "Epoch 00001: saving model to training_10_3/cp-0001.ckpt\n"
     ]
    },
    {
     "name": "stderr",
     "output_type": "stream",
     "text": [
      "W0622 22:36:21.448626  7048 callbacks.py:241] Method (on_train_batch_end) is slow compared to the batch update (0.411577). Check your callbacks.\n"
     ]
    },
    {
     "name": "stdout",
     "output_type": "stream",
     "text": [
      "323/468 [===================>..........] - ETA: 1:29 - loss: 0.5928 - accuracy: 0.8106\n",
      "Epoch 00001: saving model to training_10_3/cp-0001.ckpt\n"
     ]
    },
    {
     "name": "stderr",
     "output_type": "stream",
     "text": [
      "W0622 22:36:21.748735  7048 callbacks.py:241] Method (on_train_batch_end) is slow compared to the batch update (0.411577). Check your callbacks.\n"
     ]
    },
    {
     "name": "stdout",
     "output_type": "stream",
     "text": [
      "324/468 [===================>..........] - ETA: 1:28 - loss: 0.5915 - accuracy: 0.8110\n",
      "Epoch 00001: saving model to training_10_3/cp-0001.ckpt\n"
     ]
    },
    {
     "name": "stderr",
     "output_type": "stream",
     "text": [
      "W0622 22:36:22.116321  7048 callbacks.py:241] Method (on_train_batch_end) is slow compared to the batch update (0.378337). Check your callbacks.\n"
     ]
    },
    {
     "name": "stdout",
     "output_type": "stream",
     "text": [
      "\b\b\b\b\b\b\b\b\b\b\b\b\b\b\b\b\b\b\b\b\b\b\b\b\b\b\b\b\b\b\b\b\b\b\b\b\b\b\b\b\b\b\b\b\b\b\b\b\b\b\b\b\b\b\b\b\b\b\b\b\b\b\b\b\b\b\b\b\b\b\b\b\b\b\b\b\b\b\b\b\b\b\b\b\b\b\r",
      "325/468 [===================>..........] - ETA: 1:28 - loss: 0.5906 - accuracy: 0.8114"
     ]
    },
    {
     "name": "stderr",
     "output_type": "stream",
     "text": [
      "W0622 22:36:22.298157  7048 callbacks.py:241] Method (on_train_batch_end) is slow compared to the batch update (0.311859). Check your callbacks.\n"
     ]
    },
    {
     "name": "stdout",
     "output_type": "stream",
     "text": [
      "\n",
      "Epoch 00001: saving model to training_10_3/cp-0001.ckpt\n",
      "326/468 [===================>..........] - ETA: 1:27 - loss: 0.5897 - accuracy: 0.8116\n",
      "Epoch 00001: saving model to training_10_3/cp-0001.ckpt\n"
     ]
    },
    {
     "name": "stderr",
     "output_type": "stream",
     "text": [
      "W0622 22:36:22.579710  7048 callbacks.py:241] Method (on_train_batch_end) is slow compared to the batch update (0.311859). Check your callbacks.\n"
     ]
    },
    {
     "name": "stdout",
     "output_type": "stream",
     "text": [
      "327/468 [===================>..........] - ETA: 1:26 - loss: 0.5888 - accuracy: 0.8120\n",
      "Epoch 00001: saving model to training_10_3/cp-0001.ckpt\n"
     ]
    },
    {
     "name": "stderr",
     "output_type": "stream",
     "text": [
      "W0622 22:36:22.926764  7048 callbacks.py:241] Method (on_train_batch_end) is slow compared to the batch update (0.306483). Check your callbacks.\n"
     ]
    },
    {
     "name": "stdout",
     "output_type": "stream",
     "text": [
      "328/468 [====================>.........] - ETA: 1:25 - loss: 0.5884 - accuracy: 0.8121\n",
      "Epoch 00001: saving model to training_10_3/cp-0001.ckpt\n"
     ]
    },
    {
     "name": "stderr",
     "output_type": "stream",
     "text": [
      "W0622 22:36:23.248401  7048 callbacks.py:241] Method (on_train_batch_end) is slow compared to the batch update (0.290352). Check your callbacks.\n"
     ]
    },
    {
     "name": "stdout",
     "output_type": "stream",
     "text": [
      "329/468 [====================>.........] - ETA: 1:25 - loss: 0.5875 - accuracy: 0.8124\n",
      "Epoch 00001: saving model to training_10_3/cp-0001.ckpt\n"
     ]
    },
    {
     "name": "stderr",
     "output_type": "stream",
     "text": [
      "W0622 22:36:23.458588  7048 callbacks.py:241] Method (on_train_batch_end) is slow compared to the batch update (0.275208). Check your callbacks.\n"
     ]
    },
    {
     "name": "stdout",
     "output_type": "stream",
     "text": [
      "330/468 [====================>.........] - ETA: 1:24 - loss: 0.5864 - accuracy: 0.8127\n",
      "Epoch 00001: saving model to training_10_3/cp-0001.ckpt\n"
     ]
    },
    {
     "name": "stderr",
     "output_type": "stream",
     "text": [
      "W0622 22:36:23.771425  7048 callbacks.py:241] Method (on_train_batch_end) is slow compared to the batch update (0.263477). Check your callbacks.\n"
     ]
    },
    {
     "name": "stdout",
     "output_type": "stream",
     "text": [
      "331/468 [====================>.........] - ETA: 1:23 - loss: 0.5853 - accuracy: 0.8131\n",
      "Epoch 00001: saving model to training_10_3/cp-0001.ckpt\n"
     ]
    },
    {
     "name": "stderr",
     "output_type": "stream",
     "text": [
      "W0622 22:36:24.122390  7048 callbacks.py:241] Method (on_train_batch_end) is slow compared to the batch update (0.263477). Check your callbacks.\n"
     ]
    },
    {
     "name": "stdout",
     "output_type": "stream",
     "text": [
      "332/468 [====================>.........] - ETA: 1:22 - loss: 0.5844 - accuracy: 0.8134\n",
      "Epoch 00001: saving model to training_10_3/cp-0001.ckpt\n"
     ]
    },
    {
     "name": "stderr",
     "output_type": "stream",
     "text": [
      "W0622 22:36:24.667901  7048 callbacks.py:241] Method (on_train_batch_end) is slow compared to the batch update (0.264934). Check your callbacks.\n"
     ]
    },
    {
     "name": "stdout",
     "output_type": "stream",
     "text": [
      "333/468 [====================>.........] - ETA: 1:22 - loss: 0.5834 - accuracy: 0.8136\n",
      "Epoch 00001: saving model to training_10_3/cp-0001.ckpt\n"
     ]
    },
    {
     "name": "stderr",
     "output_type": "stream",
     "text": [
      "W0622 22:36:25.383516  7048 callbacks.py:241] Method (on_train_batch_end) is slow compared to the batch update (0.290352). Check your callbacks.\n"
     ]
    },
    {
     "name": "stdout",
     "output_type": "stream",
     "text": [
      "334/468 [====================>.........] - ETA: 1:21 - loss: 0.5826 - accuracy: 0.8139\n",
      "Epoch 00001: saving model to training_10_3/cp-0001.ckpt\n"
     ]
    },
    {
     "name": "stderr",
     "output_type": "stream",
     "text": [
      "W0622 22:36:25.946624  7048 callbacks.py:241] Method (on_train_batch_end) is slow compared to the batch update (0.290352). Check your callbacks.\n"
     ]
    },
    {
     "name": "stdout",
     "output_type": "stream",
     "text": [
      "335/468 [====================>.........] - ETA: 1:21 - loss: 0.5817 - accuracy: 0.8142\n",
      "Epoch 00001: saving model to training_10_3/cp-0001.ckpt\n"
     ]
    },
    {
     "name": "stderr",
     "output_type": "stream",
     "text": [
      "W0622 22:36:26.460851  7048 callbacks.py:241] Method (on_train_batch_end) is slow compared to the batch update (0.306971). Check your callbacks.\n"
     ]
    },
    {
     "name": "stdout",
     "output_type": "stream",
     "text": [
      "336/468 [====================>.........] - ETA: 1:20 - loss: 0.5809 - accuracy: 0.8144\n",
      "Epoch 00001: saving model to training_10_3/cp-0001.ckpt\n"
     ]
    },
    {
     "name": "stderr",
     "output_type": "stream",
     "text": [
      "W0622 22:36:27.050354  7048 callbacks.py:241] Method (on_train_batch_end) is slow compared to the batch update (0.325547). Check your callbacks.\n"
     ]
    },
    {
     "name": "stdout",
     "output_type": "stream",
     "text": [
      "337/468 [====================>.........] - ETA: 1:19 - loss: 0.5796 - accuracy: 0.8148\n",
      "Epoch 00001: saving model to training_10_3/cp-0001.ckpt\n"
     ]
    },
    {
     "name": "stderr",
     "output_type": "stream",
     "text": [
      "W0622 22:36:27.649634  7048 callbacks.py:241] Method (on_train_batch_end) is slow compared to the batch update (0.370028). Check your callbacks.\n"
     ]
    },
    {
     "name": "stdout",
     "output_type": "stream",
     "text": [
      "338/468 [====================>.........] - ETA: 1:19 - loss: 0.5791 - accuracy: 0.8150\n",
      "Epoch 00001: saving model to training_10_3/cp-0001.ckpt\n"
     ]
    },
    {
     "name": "stderr",
     "output_type": "stream",
     "text": [
      "W0622 22:36:28.196120  7048 callbacks.py:241] Method (on_train_batch_end) is slow compared to the batch update (0.408155). Check your callbacks.\n"
     ]
    },
    {
     "name": "stdout",
     "output_type": "stream",
     "text": [
      "339/468 [====================>.........] - ETA: 1:18 - loss: 0.5780 - accuracy: 0.8153\n",
      "Epoch 00001: saving model to training_10_3/cp-0001.ckpt\n"
     ]
    },
    {
     "name": "stderr",
     "output_type": "stream",
     "text": [
      "W0622 22:36:28.639959  7048 callbacks.py:241] Method (on_train_batch_end) is slow compared to the batch update (0.408155). Check your callbacks.\n"
     ]
    },
    {
     "name": "stdout",
     "output_type": "stream",
     "text": [
      "340/468 [====================>.........] - ETA: 1:17 - loss: 0.5770 - accuracy: 0.8156\n",
      "Epoch 00001: saving model to training_10_3/cp-0001.ckpt\n"
     ]
    },
    {
     "name": "stderr",
     "output_type": "stream",
     "text": [
      "W0622 22:36:29.343843  7048 callbacks.py:241] Method (on_train_batch_end) is slow compared to the batch update (0.430150). Check your callbacks.\n"
     ]
    },
    {
     "name": "stdout",
     "output_type": "stream",
     "text": [
      "341/468 [====================>.........] - ETA: 1:17 - loss: 0.5761 - accuracy: 0.8158\n",
      "Epoch 00001: saving model to training_10_3/cp-0001.ckpt\n"
     ]
    },
    {
     "name": "stderr",
     "output_type": "stream",
     "text": [
      "W0622 22:36:29.988094  7048 callbacks.py:241] Method (on_train_batch_end) is slow compared to the batch update (0.471210). Check your callbacks.\n"
     ]
    },
    {
     "name": "stdout",
     "output_type": "stream",
     "text": [
      "342/468 [====================>.........] - ETA: 1:16 - loss: 0.5751 - accuracy: 0.8162\n",
      "Epoch 00001: saving model to training_10_3/cp-0001.ckpt\n"
     ]
    },
    {
     "name": "stderr",
     "output_type": "stream",
     "text": [
      "W0622 22:36:30.708596  7048 callbacks.py:241] Method (on_train_batch_end) is slow compared to the batch update (0.471210). Check your callbacks.\n"
     ]
    },
    {
     "name": "stdout",
     "output_type": "stream",
     "text": [
      "343/468 [====================>.........] - ETA: 1:16 - loss: 0.5739 - accuracy: 0.8166\n",
      "Epoch 00001: saving model to training_10_3/cp-0001.ckpt\n"
     ]
    },
    {
     "name": "stderr",
     "output_type": "stream",
     "text": [
      "W0622 22:36:30.951048  7048 callbacks.py:241] Method (on_train_batch_end) is slow compared to the batch update (0.430150). Check your callbacks.\n"
     ]
    },
    {
     "name": "stdout",
     "output_type": "stream",
     "text": [
      "344/468 [=====================>........] - ETA: 1:15 - loss: 0.5733 - accuracy: 0.8168\n",
      "Epoch 00001: saving model to training_10_3/cp-0001.ckpt\n"
     ]
    },
    {
     "name": "stderr",
     "output_type": "stream",
     "text": [
      "W0622 22:36:31.235530  7048 callbacks.py:241] Method (on_train_batch_end) is slow compared to the batch update (0.430150). Check your callbacks.\n"
     ]
    },
    {
     "name": "stdout",
     "output_type": "stream",
     "text": [
      "345/468 [=====================>........] - ETA: 1:14 - loss: 0.5725 - accuracy: 0.8172\n",
      "Epoch 00001: saving model to training_10_3/cp-0001.ckpt\n"
     ]
    },
    {
     "name": "stderr",
     "output_type": "stream",
     "text": [
      "W0622 22:36:31.483845  7048 callbacks.py:241] Method (on_train_batch_end) is slow compared to the batch update (0.430150). Check your callbacks.\n"
     ]
    },
    {
     "name": "stdout",
     "output_type": "stream",
     "text": [
      "\b\b\b\b\b\b\b\b\b\b\b\b\b\b\b\b\b\b\b\b\b\b\b\b\b\b\b\b\b\b\b\b\b\b\b\b\b\b\b\b\b\b\b\b\b\b\b\b\b\b\b\b\b\b\b\b\b\b\b\b\b\b\b\b\b\b\b\b\b\b\b\b\b\b\b\b\b\b\b\b\b\b\b\b\b\b\r",
      "346/468 [=====================>........] - ETA: 1:14 - loss: 0.5721 - accuracy: 0.8174"
     ]
    },
    {
     "name": "stderr",
     "output_type": "stream",
     "text": [
      "W0622 22:36:31.678391  7048 callbacks.py:241] Method (on_train_batch_end) is slow compared to the batch update (0.378338). Check your callbacks.\n"
     ]
    },
    {
     "name": "stdout",
     "output_type": "stream",
     "text": [
      "\n",
      "Epoch 00001: saving model to training_10_3/cp-0001.ckpt\n",
      "347/468 [=====================>........] - ETA: 1:13 - loss: 0.5713 - accuracy: 0.8177\n",
      "Epoch 00001: saving model to training_10_3/cp-0001.ckpt\n"
     ]
    },
    {
     "name": "stderr",
     "output_type": "stream",
     "text": [
      "W0622 22:36:32.050863  7048 callbacks.py:241] Method (on_train_batch_end) is slow compared to the batch update (0.329946). Check your callbacks.\n"
     ]
    },
    {
     "name": "stdout",
     "output_type": "stream",
     "text": [
      "348/468 [=====================>........] - ETA: 1:12 - loss: 0.5703 - accuracy: 0.8180\n",
      "Epoch 00001: saving model to training_10_3/cp-0001.ckpt\n"
     ]
    },
    {
     "name": "stderr",
     "output_type": "stream",
     "text": [
      "W0622 22:36:32.372498  7048 callbacks.py:241] Method (on_train_batch_end) is slow compared to the batch update (0.295730). Check your callbacks.\n"
     ]
    },
    {
     "name": "stdout",
     "output_type": "stream",
     "text": [
      "349/468 [=====================>........] - ETA: 1:11 - loss: 0.5696 - accuracy: 0.8183\n",
      "Epoch 00001: saving model to training_10_3/cp-0001.ckpt\n"
     ]
    },
    {
     "name": "stderr",
     "output_type": "stream",
     "text": [
      "W0622 22:36:32.787009  7048 callbacks.py:241] Method (on_train_batch_end) is slow compared to the batch update (0.295730). Check your callbacks.\n"
     ]
    },
    {
     "name": "stdout",
     "output_type": "stream",
     "text": [
      "350/468 [=====================>........] - ETA: 1:11 - loss: 0.5688 - accuracy: 0.8185\n",
      "Epoch 00001: saving model to training_10_3/cp-0001.ckpt\n"
     ]
    },
    {
     "name": "stderr",
     "output_type": "stream",
     "text": [
      "W0622 22:36:33.115488  7048 callbacks.py:241] Method (on_train_batch_end) is slow compared to the batch update (0.273244). Check your callbacks.\n"
     ]
    },
    {
     "name": "stdout",
     "output_type": "stream",
     "text": [
      "\b\b\b\b\b\b\b\b\b\b\b\b\b\b\b\b\b\b\b\b\b\b\b\b\b\b\b\b\b\b\b\b\b\b\b\b\b\b\b\b\b\b\b\b\b\b\b\b\b\b\b\b\b\b\b\b\b\b\b\b\b\b\b\b\b\b\b\b\b\b\b\b\b\b\b\b\b\b\b\b\b\b\b\b\b\b\r",
      "351/468 [=====================>........] - ETA: 1:10 - loss: 0.5677 - accuracy: 0.8189"
     ]
    },
    {
     "name": "stderr",
     "output_type": "stream",
     "text": [
      "W0622 22:36:33.301234  7048 callbacks.py:241] Method (on_train_batch_end) is slow compared to the batch update (0.251248). Check your callbacks.\n"
     ]
    },
    {
     "name": "stdout",
     "output_type": "stream",
     "text": [
      "\n",
      "Epoch 00001: saving model to training_10_3/cp-0001.ckpt\n",
      "352/468 [=====================>........] - ETA: 1:09 - loss: 0.5672 - accuracy: 0.8191\n",
      "Epoch 00001: saving model to training_10_3/cp-0001.ckpt\n"
     ]
    },
    {
     "name": "stderr",
     "output_type": "stream",
     "text": [
      "W0622 22:36:33.587677  7048 callbacks.py:241] Method (on_train_batch_end) is slow compared to the batch update (0.237072). Check your callbacks.\n"
     ]
    },
    {
     "name": "stdout",
     "output_type": "stream",
     "text": [
      "353/468 [=====================>........] - ETA: 1:09 - loss: 0.5665 - accuracy: 0.8195\n",
      "Epoch 00001: saving model to training_10_3/cp-0001.ckpt\n"
     ]
    },
    {
     "name": "stderr",
     "output_type": "stream",
     "text": [
      "W0622 22:36:33.921045  7048 callbacks.py:241] Method (on_train_batch_end) is slow compared to the batch update (0.256625). Check your callbacks.\n"
     ]
    },
    {
     "name": "stdout",
     "output_type": "stream",
     "text": [
      "354/468 [=====================>........] - ETA: 1:08 - loss: 0.5659 - accuracy: 0.8197\n",
      "Epoch 00001: saving model to training_10_3/cp-0001.ckpt\n"
     ]
    },
    {
     "name": "stderr",
     "output_type": "stream",
     "text": [
      "W0622 22:36:34.542810  7048 callbacks.py:241] Method (on_train_batch_end) is slow compared to the batch update (0.273244). Check your callbacks.\n"
     ]
    },
    {
     "name": "stdout",
     "output_type": "stream",
     "text": [
      "355/468 [=====================>........] - ETA: 1:07 - loss: 0.5647 - accuracy: 0.8201\n",
      "Epoch 00001: saving model to training_10_3/cp-0001.ckpt\n"
     ]
    },
    {
     "name": "stderr",
     "output_type": "stream",
     "text": [
      "W0622 22:36:35.054105  7048 callbacks.py:241] Method (on_train_batch_end) is slow compared to the batch update (0.281554). Check your callbacks.\n"
     ]
    },
    {
     "name": "stdout",
     "output_type": "stream",
     "text": [
      "356/468 [=====================>........] - ETA: 1:07 - loss: 0.5638 - accuracy: 0.8204\n",
      "Epoch 00001: saving model to training_10_3/cp-0001.ckpt\n"
     ]
    },
    {
     "name": "stderr",
     "output_type": "stream",
     "text": [
      "W0622 22:36:35.572241  7048 callbacks.py:241] Method (on_train_batch_end) is slow compared to the batch update (0.304039). Check your callbacks.\n"
     ]
    },
    {
     "name": "stdout",
     "output_type": "stream",
     "text": [
      "357/468 [=====================>........] - ETA: 1:06 - loss: 0.5630 - accuracy: 0.8207\n",
      "Epoch 00001: saving model to training_10_3/cp-0001.ckpt\n"
     ]
    },
    {
     "name": "stderr",
     "output_type": "stream",
     "text": [
      "W0622 22:36:36.122640  7048 callbacks.py:241] Method (on_train_batch_end) is slow compared to the batch update (0.308438). Check your callbacks.\n"
     ]
    },
    {
     "name": "stdout",
     "output_type": "stream",
     "text": [
      "358/468 [=====================>........] - ETA: 1:05 - loss: 0.5623 - accuracy: 0.8209\n",
      "Epoch 00001: saving model to training_10_3/cp-0001.ckpt\n"
     ]
    },
    {
     "name": "stderr",
     "output_type": "stream",
     "text": [
      "W0622 22:36:36.654460  7048 callbacks.py:241] Method (on_train_batch_end) is slow compared to the batch update (0.334833). Check your callbacks.\n"
     ]
    },
    {
     "name": "stdout",
     "output_type": "stream",
     "text": [
      "359/468 [======================>.......] - ETA: 1:05 - loss: 0.5616 - accuracy: 0.8212\n",
      "Epoch 00001: saving model to training_10_3/cp-0001.ckpt\n"
     ]
    },
    {
     "name": "stderr",
     "output_type": "stream",
     "text": [
      "W0622 22:36:36.850962  7048 callbacks.py:241] Method (on_train_batch_end) is slow compared to the batch update (0.308438). Check your callbacks.\n"
     ]
    },
    {
     "name": "stdout",
     "output_type": "stream",
     "text": [
      "360/468 [======================>.......] - ETA: 1:04 - loss: 0.5607 - accuracy: 0.8215\n",
      "Epoch 00001: saving model to training_10_3/cp-0001.ckpt\n"
     ]
    },
    {
     "name": "stderr",
     "output_type": "stream",
     "text": [
      "W0622 22:36:37.269383  7048 callbacks.py:241] Method (on_train_batch_end) is slow compared to the batch update (0.351943). Check your callbacks.\n"
     ]
    },
    {
     "name": "stdout",
     "output_type": "stream",
     "text": [
      "361/468 [======================>.......] - ETA: 1:03 - loss: 0.5598 - accuracy: 0.8218\n",
      "Epoch 00001: saving model to training_10_3/cp-0001.ckpt\n"
     ]
    },
    {
     "name": "stderr",
     "output_type": "stream",
     "text": [
      "W0622 22:36:37.529428  7048 callbacks.py:241] Method (on_train_batch_end) is slow compared to the batch update (0.351943). Check your callbacks.\n"
     ]
    },
    {
     "name": "stdout",
     "output_type": "stream",
     "text": [
      "362/468 [======================>.......] - ETA: 1:03 - loss: 0.5595 - accuracy: 0.8219\n",
      "Epoch 00001: saving model to training_10_3/cp-0001.ckpt\n"
     ]
    },
    {
     "name": "stderr",
     "output_type": "stream",
     "text": [
      "W0622 22:36:37.802184  7048 callbacks.py:241] Method (on_train_batch_end) is slow compared to the batch update (0.351943). Check your callbacks.\n"
     ]
    },
    {
     "name": "stdout",
     "output_type": "stream",
     "text": [
      "363/468 [======================>.......] - ETA: 1:02 - loss: 0.5583 - accuracy: 0.8222\n",
      "Epoch 00001: saving model to training_10_3/cp-0001.ckpt\n"
     ]
    },
    {
     "name": "stderr",
     "output_type": "stream",
     "text": [
      "W0622 22:36:38.129685  7048 callbacks.py:241] Method (on_train_batch_end) is slow compared to the batch update (0.351943). Check your callbacks.\n"
     ]
    },
    {
     "name": "stdout",
     "output_type": "stream",
     "text": [
      "364/468 [======================>.......] - ETA: 1:01 - loss: 0.5577 - accuracy: 0.8225\n",
      "Epoch 00001: saving model to training_10_3/cp-0001.ckpt\n"
     ]
    },
    {
     "name": "stderr",
     "output_type": "stream",
     "text": [
      "W0622 22:36:38.649778  7048 callbacks.py:241] Method (on_train_batch_end) is slow compared to the batch update (0.351943). Check your callbacks.\n"
     ]
    },
    {
     "name": "stdout",
     "output_type": "stream",
     "text": [
      "365/468 [======================>.......] - ETA: 1:01 - loss: 0.5570 - accuracy: 0.8227\n",
      "Epoch 00001: saving model to training_10_3/cp-0001.ckpt\n"
     ]
    },
    {
     "name": "stderr",
     "output_type": "stream",
     "text": [
      "W0622 22:36:39.247103  7048 callbacks.py:241] Method (on_train_batch_end) is slow compared to the batch update (0.375405). Check your callbacks.\n"
     ]
    },
    {
     "name": "stdout",
     "output_type": "stream",
     "text": [
      "366/468 [======================>.......] - ETA: 1:00 - loss: 0.5562 - accuracy: 0.8230\n",
      "Epoch 00001: saving model to training_10_3/cp-0001.ckpt\n"
     ]
    },
    {
     "name": "stderr",
     "output_type": "stream",
     "text": [
      "W0622 22:36:39.758397  7048 callbacks.py:241] Method (on_train_batch_end) is slow compared to the batch update (0.374427). Check your callbacks.\n"
     ]
    },
    {
     "name": "stdout",
     "output_type": "stream",
     "text": [
      "367/468 [======================>.......] - ETA: 1:00 - loss: 0.5555 - accuracy: 0.8233\n",
      "Epoch 00001: saving model to training_10_3/cp-0001.ckpt\n"
     ]
    },
    {
     "name": "stderr",
     "output_type": "stream",
     "text": [
      "W0622 22:36:40.216897  7048 callbacks.py:241] Method (on_train_batch_end) is slow compared to the batch update (0.359274). Check your callbacks.\n"
     ]
    },
    {
     "name": "stdout",
     "output_type": "stream",
     "text": [
      "368/468 [======================>.......] - ETA: 59s - loss: 0.5546 - accuracy: 0.8236 \n",
      "Epoch 00001: saving model to training_10_3/cp-0001.ckpt\n"
     ]
    },
    {
     "name": "stderr",
     "output_type": "stream",
     "text": [
      "W0622 22:36:40.535600  7048 callbacks.py:241] Method (on_train_batch_end) is slow compared to the batch update (0.310393). Check your callbacks.\n"
     ]
    },
    {
     "name": "stdout",
     "output_type": "stream",
     "text": [
      "369/468 [======================>.......] - ETA: 58s - loss: 0.5539 - accuracy: 0.8238\n",
      "Epoch 00001: saving model to training_10_3/cp-0001.ckpt\n"
     ]
    },
    {
     "name": "stderr",
     "output_type": "stream",
     "text": [
      "W0622 22:36:40.782938  7048 callbacks.py:241] Method (on_train_batch_end) is slow compared to the batch update (0.310393). Check your callbacks.\n"
     ]
    },
    {
     "name": "stdout",
     "output_type": "stream",
     "text": [
      "370/468 [======================>.......] - ETA: 58s - loss: 0.5538 - accuracy: 0.8239\n",
      "Epoch 00001: saving model to training_10_3/cp-0001.ckpt\n"
     ]
    },
    {
     "name": "stderr",
     "output_type": "stream",
     "text": [
      "W0622 22:36:41.253174  7048 callbacks.py:241] Method (on_train_batch_end) is slow compared to the batch update (0.310393). Check your callbacks.\n"
     ]
    },
    {
     "name": "stdout",
     "output_type": "stream",
     "text": [
      "371/468 [======================>.......] - ETA: 57s - loss: 0.5533 - accuracy: 0.8241\n",
      "Epoch 00001: saving model to training_10_3/cp-0001.ckpt\n"
     ]
    },
    {
     "name": "stderr",
     "output_type": "stream",
     "text": [
      "W0622 22:36:41.522994  7048 callbacks.py:241] Method (on_train_batch_end) is slow compared to the batch update (0.310393). Check your callbacks.\n"
     ]
    },
    {
     "name": "stdout",
     "output_type": "stream",
     "text": [
      "372/468 [======================>.......] - ETA: 56s - loss: 0.5526 - accuracy: 0.8244\n",
      "Epoch 00001: saving model to training_10_3/cp-0001.ckpt\n"
     ]
    },
    {
     "name": "stderr",
     "output_type": "stream",
     "text": [
      "W0622 22:36:41.863204  7048 callbacks.py:241] Method (on_train_batch_end) is slow compared to the batch update (0.319681). Check your callbacks.\n"
     ]
    },
    {
     "name": "stdout",
     "output_type": "stream",
     "text": [
      "373/468 [======================>.......] - ETA: 56s - loss: 0.5515 - accuracy: 0.8247\n",
      "Epoch 00001: saving model to training_10_3/cp-0001.ckpt\n"
     ]
    },
    {
     "name": "stderr",
     "output_type": "stream",
     "text": [
      "W0622 22:36:42.245452  7048 callbacks.py:241] Method (on_train_batch_end) is slow compared to the batch update (0.338744). Check your callbacks.\n"
     ]
    },
    {
     "name": "stdout",
     "output_type": "stream",
     "text": [
      "374/468 [======================>.......] - ETA: 55s - loss: 0.5510 - accuracy: 0.8249\n",
      "Epoch 00001: saving model to training_10_3/cp-0001.ckpt\n"
     ]
    },
    {
     "name": "stderr",
     "output_type": "stream",
     "text": [
      "W0622 22:36:42.602283  7048 callbacks.py:241] Method (on_train_batch_end) is slow compared to the batch update (0.317725). Check your callbacks.\n"
     ]
    },
    {
     "name": "stdout",
     "output_type": "stream",
     "text": [
      "375/468 [=======================>......] - ETA: 54s - loss: 0.5503 - accuracy: 0.8251\n",
      "Epoch 00001: saving model to training_10_3/cp-0001.ckpt\n"
     ]
    },
    {
     "name": "stderr",
     "output_type": "stream",
     "text": [
      "W0622 22:36:42.874060  7048 callbacks.py:241] Method (on_train_batch_end) is slow compared to the batch update (0.298662). Check your callbacks.\n"
     ]
    },
    {
     "name": "stdout",
     "output_type": "stream",
     "text": [
      "376/468 [=======================>......] - ETA: 54s - loss: 0.5496 - accuracy: 0.8254\n",
      "Epoch 00001: saving model to training_10_3/cp-0001.ckpt\n"
     ]
    },
    {
     "name": "stderr",
     "output_type": "stream",
     "text": [
      "W0622 22:36:43.370692  7048 callbacks.py:241] Method (on_train_batch_end) is slow compared to the batch update (0.298662). Check your callbacks.\n"
     ]
    },
    {
     "name": "stdout",
     "output_type": "stream",
     "text": [
      "377/468 [=======================>......] - ETA: 53s - loss: 0.5490 - accuracy: 0.8256\n",
      "Epoch 00001: saving model to training_10_3/cp-0001.ckpt\n"
     ]
    },
    {
     "name": "stderr",
     "output_type": "stream",
     "text": [
      "W0622 22:36:43.874165  7048 callbacks.py:241] Method (on_train_batch_end) is slow compared to the batch update (0.298662). Check your callbacks.\n"
     ]
    },
    {
     "name": "stdout",
     "output_type": "stream",
     "text": [
      "378/468 [=======================>......] - ETA: 52s - loss: 0.5481 - accuracy: 0.8259\n",
      "Epoch 00001: saving model to training_10_3/cp-0001.ckpt\n"
     ]
    },
    {
     "name": "stderr",
     "output_type": "stream",
     "text": [
      "W0622 22:36:44.439134  7048 callbacks.py:241] Method (on_train_batch_end) is slow compared to the batch update (0.317725). Check your callbacks.\n"
     ]
    },
    {
     "name": "stdout",
     "output_type": "stream",
     "text": [
      "379/468 [=======================>......] - ETA: 52s - loss: 0.5474 - accuracy: 0.8260\n",
      "Epoch 00001: saving model to training_10_3/cp-0001.ckpt\n"
     ]
    },
    {
     "name": "stderr",
     "output_type": "stream",
     "text": [
      "W0622 22:36:44.947495  7048 callbacks.py:241] Method (on_train_batch_end) is slow compared to the batch update (0.355853). Check your callbacks.\n"
     ]
    },
    {
     "name": "stdout",
     "output_type": "stream",
     "text": [
      "380/468 [=======================>......] - ETA: 51s - loss: 0.5470 - accuracy: 0.8263\n",
      "Epoch 00001: saving model to training_10_3/cp-0001.ckpt\n"
     ]
    },
    {
     "name": "stderr",
     "output_type": "stream",
     "text": [
      "W0622 22:36:45.386443  7048 callbacks.py:241] Method (on_train_batch_end) is slow compared to the batch update (0.339232). Check your callbacks.\n"
     ]
    },
    {
     "name": "stdout",
     "output_type": "stream",
     "text": [
      "381/468 [=======================>......] - ETA: 51s - loss: 0.5463 - accuracy: 0.8265\n",
      "Epoch 00001: saving model to training_10_3/cp-0001.ckpt\n"
     ]
    },
    {
     "name": "stderr",
     "output_type": "stream",
     "text": [
      "W0622 22:36:45.700259  7048 callbacks.py:241] Method (on_train_batch_end) is slow compared to the batch update (0.339232). Check your callbacks.\n"
     ]
    },
    {
     "name": "stdout",
     "output_type": "stream",
     "text": [
      "382/468 [=======================>......] - ETA: 50s - loss: 0.5454 - accuracy: 0.8268\n",
      "Epoch 00001: saving model to training_10_3/cp-0001.ckpt\n"
     ]
    },
    {
     "name": "stderr",
     "output_type": "stream",
     "text": [
      "W0622 22:36:46.099129  7048 callbacks.py:241] Method (on_train_batch_end) is slow compared to the batch update (0.349009). Check your callbacks.\n"
     ]
    },
    {
     "name": "stdout",
     "output_type": "stream",
     "text": [
      "383/468 [=======================>......] - ETA: 49s - loss: 0.5447 - accuracy: 0.8270\n",
      "Epoch 00001: saving model to training_10_3/cp-0001.ckpt\n"
     ]
    },
    {
     "name": "stderr",
     "output_type": "stream",
     "text": [
      "W0622 22:36:46.563495  7048 callbacks.py:241] Method (on_train_batch_end) is slow compared to the batch update (0.349009). Check your callbacks.\n"
     ]
    },
    {
     "name": "stdout",
     "output_type": "stream",
     "text": [
      "384/468 [=======================>......] - ETA: 49s - loss: 0.5440 - accuracy: 0.8272\n",
      "Epoch 00001: saving model to training_10_3/cp-0001.ckpt\n"
     ]
    },
    {
     "name": "stderr",
     "output_type": "stream",
     "text": [
      "W0622 22:36:47.106073  7048 callbacks.py:241] Method (on_train_batch_end) is slow compared to the batch update (0.365630). Check your callbacks.\n"
     ]
    },
    {
     "name": "stdout",
     "output_type": "stream",
     "text": [
      "385/468 [=======================>......] - ETA: 48s - loss: 0.5434 - accuracy: 0.8275\n",
      "Epoch 00001: saving model to training_10_3/cp-0001.ckpt\n"
     ]
    },
    {
     "name": "stderr",
     "output_type": "stream",
     "text": [
      "W0622 22:36:47.767921  7048 callbacks.py:241] Method (on_train_batch_end) is slow compared to the batch update (0.381759). Check your callbacks.\n"
     ]
    },
    {
     "name": "stdout",
     "output_type": "stream",
     "text": [
      "386/468 [=======================>......] - ETA: 48s - loss: 0.5427 - accuracy: 0.8277\n",
      "Epoch 00001: saving model to training_10_3/cp-0001.ckpt\n"
     ]
    },
    {
     "name": "stderr",
     "output_type": "stream",
     "text": [
      "W0622 22:36:48.105196  7048 callbacks.py:241] Method (on_train_batch_end) is slow compared to the batch update (0.365630). Check your callbacks.\n"
     ]
    },
    {
     "name": "stdout",
     "output_type": "stream",
     "text": [
      "387/468 [=======================>......] - ETA: 47s - loss: 0.5422 - accuracy: 0.8279\n",
      "Epoch 00001: saving model to training_10_3/cp-0001.ckpt\n"
     ]
    },
    {
     "name": "stderr",
     "output_type": "stream",
     "text": [
      "W0622 22:36:48.464959  7048 callbacks.py:241] Method (on_train_batch_end) is slow compared to the batch update (0.349009). Check your callbacks.\n"
     ]
    },
    {
     "name": "stdout",
     "output_type": "stream",
     "text": [
      "388/468 [=======================>......] - ETA: 46s - loss: 0.5415 - accuracy: 0.8281\n",
      "Epoch 00001: saving model to training_10_3/cp-0001.ckpt\n"
     ]
    },
    {
     "name": "stderr",
     "output_type": "stream",
     "text": [
      "W0622 22:36:48.783663  7048 callbacks.py:241] Method (on_train_batch_end) is slow compared to the batch update (0.339233). Check your callbacks.\n"
     ]
    },
    {
     "name": "stdout",
     "output_type": "stream",
     "text": [
      "389/468 [=======================>......] - ETA: 46s - loss: 0.5403 - accuracy: 0.8285\n",
      "Epoch 00001: saving model to training_10_3/cp-0001.ckpt\n"
     ]
    },
    {
     "name": "stderr",
     "output_type": "stream",
     "text": [
      "W0622 22:36:49.205015  7048 callbacks.py:241] Method (on_train_batch_end) is slow compared to the batch update (0.339233). Check your callbacks.\n"
     ]
    },
    {
     "name": "stdout",
     "output_type": "stream",
     "text": [
      "390/468 [========================>.....] - ETA: 45s - loss: 0.5396 - accuracy: 0.8287\n",
      "Epoch 00001: saving model to training_10_3/cp-0001.ckpt\n"
     ]
    },
    {
     "name": "stderr",
     "output_type": "stream",
     "text": [
      "W0622 22:36:49.680139  7048 callbacks.py:241] Method (on_train_batch_end) is slow compared to the batch update (0.341189). Check your callbacks.\n"
     ]
    },
    {
     "name": "stdout",
     "output_type": "stream",
     "text": [
      "391/468 [========================>.....] - ETA: 44s - loss: 0.5391 - accuracy: 0.8289\n",
      "Epoch 00001: saving model to training_10_3/cp-0001.ckpt\n"
     ]
    },
    {
     "name": "stderr",
     "output_type": "stream",
     "text": [
      "W0622 22:36:50.078029  7048 callbacks.py:241] Method (on_train_batch_end) is slow compared to the batch update (0.341189). Check your callbacks.\n"
     ]
    },
    {
     "name": "stdout",
     "output_type": "stream",
     "text": [
      "392/468 [========================>.....] - ETA: 44s - loss: 0.5384 - accuracy: 0.8291\n",
      "Epoch 00001: saving model to training_10_3/cp-0001.ckpt\n"
     ]
    },
    {
     "name": "stderr",
     "output_type": "stream",
     "text": [
      "W0622 22:36:50.696862  7048 callbacks.py:241] Method (on_train_batch_end) is slow compared to the batch update (0.349009). Check your callbacks.\n"
     ]
    },
    {
     "name": "stdout",
     "output_type": "stream",
     "text": [
      "393/468 [========================>.....] - ETA: 43s - loss: 0.5377 - accuracy: 0.8294\n",
      "Epoch 00001: saving model to training_10_3/cp-0001.ckpt\n"
     ]
    },
    {
     "name": "stderr",
     "output_type": "stream",
     "text": [
      "W0622 22:36:51.149495  7048 callbacks.py:241] Method (on_train_batch_end) is slow compared to the batch update (0.344120). Check your callbacks.\n"
     ]
    },
    {
     "name": "stdout",
     "output_type": "stream",
     "text": [
      "394/468 [========================>.....] - ETA: 43s - loss: 0.5367 - accuracy: 0.8297\n",
      "Epoch 00001: saving model to training_10_3/cp-0001.ckpt\n"
     ]
    },
    {
     "name": "stderr",
     "output_type": "stream",
     "text": [
      "W0622 22:36:51.546408  7048 callbacks.py:241] Method (on_train_batch_end) is slow compared to the batch update (0.338254). Check your callbacks.\n"
     ]
    },
    {
     "name": "stdout",
     "output_type": "stream",
     "text": [
      "395/468 [========================>.....] - ETA: 42s - loss: 0.5359 - accuracy: 0.8299\n",
      "Epoch 00001: saving model to training_10_3/cp-0001.ckpt\n"
     ]
    },
    {
     "name": "stderr",
     "output_type": "stream",
     "text": [
      "W0622 22:36:51.787879  7048 callbacks.py:241] Method (on_train_batch_end) is slow compared to the batch update (0.318701). Check your callbacks.\n"
     ]
    },
    {
     "name": "stdout",
     "output_type": "stream",
     "text": [
      "396/468 [========================>.....] - ETA: 41s - loss: 0.5352 - accuracy: 0.8301\n",
      "Epoch 00001: saving model to training_10_3/cp-0001.ckpt\n"
     ]
    },
    {
     "name": "stderr",
     "output_type": "stream",
     "text": [
      "W0622 22:36:52.434085  7048 callbacks.py:241] Method (on_train_batch_end) is slow compared to the batch update (0.338254). Check your callbacks.\n"
     ]
    },
    {
     "name": "stdout",
     "output_type": "stream",
     "text": [
      "397/468 [========================>.....] - ETA: 41s - loss: 0.5345 - accuracy: 0.8303\n",
      "Epoch 00001: saving model to training_10_3/cp-0001.ckpt\n"
     ]
    },
    {
     "name": "stderr",
     "output_type": "stream",
     "text": [
      "W0622 22:36:53.167298  7048 callbacks.py:241] Method (on_train_batch_end) is slow compared to the batch update (0.360740). Check your callbacks.\n"
     ]
    },
    {
     "name": "stdout",
     "output_type": "stream",
     "text": [
      "398/468 [========================>.....] - ETA: 40s - loss: 0.5338 - accuracy: 0.8306\n",
      "Epoch 00001: saving model to training_10_3/cp-0001.ckpt\n"
     ]
    },
    {
     "name": "stderr",
     "output_type": "stream",
     "text": [
      "W0622 22:36:53.639489  7048 callbacks.py:241] Method (on_train_batch_end) is slow compared to the batch update (0.360740). Check your callbacks.\n"
     ]
    },
    {
     "name": "stdout",
     "output_type": "stream",
     "text": [
      "399/468 [========================>.....] - ETA: 40s - loss: 0.5335 - accuracy: 0.8307\n",
      "Epoch 00001: saving model to training_10_3/cp-0001.ckpt\n"
     ]
    },
    {
     "name": "stderr",
     "output_type": "stream",
     "text": [
      "W0622 22:36:54.121451  7048 callbacks.py:241] Method (on_train_batch_end) is slow compared to the batch update (0.355362). Check your callbacks.\n"
     ]
    },
    {
     "name": "stdout",
     "output_type": "stream",
     "text": [
      "400/468 [========================>.....] - ETA: 39s - loss: 0.5330 - accuracy: 0.8309\n",
      "Epoch 00001: saving model to training_10_3/cp-0001.ckpt\n"
     ]
    },
    {
     "name": "stderr",
     "output_type": "stream",
     "text": [
      "W0622 22:36:54.641545  7048 callbacks.py:241] Method (on_train_batch_end) is slow compared to the batch update (0.355362). Check your callbacks.\n"
     ]
    },
    {
     "name": "stdout",
     "output_type": "stream",
     "text": [
      "401/468 [========================>.....] - ETA: 38s - loss: 0.5323 - accuracy: 0.8311\n",
      "Epoch 00001: saving model to training_10_3/cp-0001.ckpt\n"
     ]
    },
    {
     "name": "stderr",
     "output_type": "stream",
     "text": [
      "W0622 22:36:55.342496  7048 callbacks.py:241] Method (on_train_batch_end) is slow compared to the batch update (0.415976). Check your callbacks.\n"
     ]
    },
    {
     "name": "stdout",
     "output_type": "stream",
     "text": [
      "402/468 [========================>.....] - ETA: 38s - loss: 0.5316 - accuracy: 0.8313\n",
      "Epoch 00001: saving model to training_10_3/cp-0001.ckpt\n"
     ]
    },
    {
     "name": "stderr",
     "output_type": "stream",
     "text": [
      "W0622 22:36:55.953506  7048 callbacks.py:241] Method (on_train_batch_end) is slow compared to the batch update (0.415976). Check your callbacks.\n"
     ]
    },
    {
     "name": "stdout",
     "output_type": "stream",
     "text": [
      "403/468 [========================>.....] - ETA: 37s - loss: 0.5306 - accuracy: 0.8316\n",
      "Epoch 00001: saving model to training_10_3/cp-0001.ckpt\n"
     ]
    },
    {
     "name": "stderr",
     "output_type": "stream",
     "text": [
      "W0622 22:36:56.341620  7048 callbacks.py:241] Method (on_train_batch_end) is slow compared to the batch update (0.415976). Check your callbacks.\n"
     ]
    },
    {
     "name": "stdout",
     "output_type": "stream",
     "text": [
      "404/468 [========================>.....] - ETA: 37s - loss: 0.5298 - accuracy: 0.8319\n",
      "Epoch 00001: saving model to training_10_3/cp-0001.ckpt\n"
     ]
    },
    {
     "name": "stderr",
     "output_type": "stream",
     "text": [
      "W0622 22:36:56.645658  7048 callbacks.py:241] Method (on_train_batch_end) is slow compared to the batch update (0.415976). Check your callbacks.\n"
     ]
    },
    {
     "name": "stdout",
     "output_type": "stream",
     "text": [
      "405/468 [========================>.....] - ETA: 36s - loss: 0.5291 - accuracy: 0.8321\n",
      "Epoch 00001: saving model to training_10_3/cp-0001.ckpt\n"
     ]
    },
    {
     "name": "stderr",
     "output_type": "stream",
     "text": [
      "W0622 22:36:57.137401  7048 callbacks.py:241] Method (on_train_batch_end) is slow compared to the batch update (0.460948). Check your callbacks.\n"
     ]
    },
    {
     "name": "stdout",
     "output_type": "stream",
     "text": [
      "406/468 [=========================>....] - ETA: 35s - loss: 0.5282 - accuracy: 0.8324\n",
      "Epoch 00001: saving model to training_10_3/cp-0001.ckpt\n"
     ]
    },
    {
     "name": "stderr",
     "output_type": "stream",
     "text": [
      "W0622 22:36:57.687799  7048 callbacks.py:241] Method (on_train_batch_end) is slow compared to the batch update (0.438951). Check your callbacks.\n"
     ]
    },
    {
     "name": "stdout",
     "output_type": "stream",
     "text": [
      "407/468 [=========================>....] - ETA: 35s - loss: 0.5273 - accuracy: 0.8327\n",
      "Epoch 00001: saving model to training_10_3/cp-0001.ckpt\n"
     ]
    },
    {
     "name": "stderr",
     "output_type": "stream",
     "text": [
      "W0622 22:36:58.083733  7048 callbacks.py:241] Method (on_train_batch_end) is slow compared to the batch update (0.393978). Check your callbacks.\n"
     ]
    },
    {
     "name": "stdout",
     "output_type": "stream",
     "text": [
      "408/468 [=========================>....] - ETA: 34s - loss: 0.5264 - accuracy: 0.8330\n",
      "Epoch 00001: saving model to training_10_3/cp-0001.ckpt\n"
     ]
    },
    {
     "name": "stderr",
     "output_type": "stream",
     "text": [
      "W0622 22:36:58.708430  7048 callbacks.py:241] Method (on_train_batch_end) is slow compared to the batch update (0.438951). Check your callbacks.\n"
     ]
    },
    {
     "name": "stdout",
     "output_type": "stream",
     "text": [
      "409/468 [=========================>....] - ETA: 34s - loss: 0.5256 - accuracy: 0.8333\n",
      "Epoch 00001: saving model to training_10_3/cp-0001.ckpt\n"
     ]
    },
    {
     "name": "stderr",
     "output_type": "stream",
     "text": [
      "W0622 22:36:59.188440  7048 callbacks.py:241] Method (on_train_batch_end) is slow compared to the batch update (0.438951). Check your callbacks.\n"
     ]
    },
    {
     "name": "stdout",
     "output_type": "stream",
     "text": [
      "410/468 [=========================>....] - ETA: 33s - loss: 0.5253 - accuracy: 0.8334\n",
      "Epoch 00001: saving model to training_10_3/cp-0001.ckpt\n"
     ]
    },
    {
     "name": "stderr",
     "output_type": "stream",
     "text": [
      "W0622 22:36:59.457285  7048 callbacks.py:241] Method (on_train_batch_end) is slow compared to the batch update (0.400336). Check your callbacks.\n"
     ]
    },
    {
     "name": "stdout",
     "output_type": "stream",
     "text": [
      "411/468 [=========================>....] - ETA: 32s - loss: 0.5247 - accuracy: 0.8336\n",
      "Epoch 00001: saving model to training_10_3/cp-0001.ckpt\n"
     ]
    },
    {
     "name": "stderr",
     "output_type": "stream",
     "text": [
      "W0622 22:36:59.936318  7048 callbacks.py:241] Method (on_train_batch_end) is slow compared to the batch update (0.393494). Check your callbacks.\n"
     ]
    },
    {
     "name": "stdout",
     "output_type": "stream",
     "text": [
      "412/468 [=========================>....] - ETA: 32s - loss: 0.5244 - accuracy: 0.8337\n",
      "Epoch 00001: saving model to training_10_3/cp-0001.ckpt\n"
     ]
    },
    {
     "name": "stderr",
     "output_type": "stream",
     "text": [
      "W0622 22:37:00.483783  7048 callbacks.py:241] Method (on_train_batch_end) is slow compared to the batch update (0.390559). Check your callbacks.\n"
     ]
    },
    {
     "name": "stdout",
     "output_type": "stream",
     "text": [
      "413/468 [=========================>....] - ETA: 31s - loss: 0.5236 - accuracy: 0.8340\n",
      "Epoch 00001: saving model to training_10_3/cp-0001.ckpt\n"
     ]
    },
    {
     "name": "stderr",
     "output_type": "stream",
     "text": [
      "W0622 22:37:01.283474  7048 callbacks.py:241] Method (on_train_batch_end) is slow compared to the batch update (0.415487). Check your callbacks.\n"
     ]
    },
    {
     "name": "stdout",
     "output_type": "stream",
     "text": [
      "414/468 [=========================>....] - ETA: 31s - loss: 0.5230 - accuracy: 0.8342\n",
      "Epoch 00001: saving model to training_10_3/cp-0001.ckpt\n"
     ]
    },
    {
     "name": "stderr",
     "output_type": "stream",
     "text": [
      "W0622 22:37:01.734156  7048 callbacks.py:241] Method (on_train_batch_end) is slow compared to the batch update (0.415487). Check your callbacks.\n"
     ]
    },
    {
     "name": "stdout",
     "output_type": "stream",
     "text": [
      "415/468 [=========================>....] - ETA: 30s - loss: 0.5222 - accuracy: 0.8344\n",
      "Epoch 00001: saving model to training_10_3/cp-0001.ckpt\n"
     ]
    },
    {
     "name": "stderr",
     "output_type": "stream",
     "text": [
      "W0622 22:37:02.273798  7048 callbacks.py:241] Method (on_train_batch_end) is slow compared to the batch update (0.390559). Check your callbacks.\n"
     ]
    },
    {
     "name": "stdout",
     "output_type": "stream",
     "text": [
      "\b\b\b\b\b\b\b\b\b\b\b\b\b\b\b\b\b\b\b\b\b\b\b\b\b\b\b\b\b\b\b\b\b\b\b\b\b\b\b\b\b\b\b\b\b\b\b\b\b\b\b\b\b\b\b\b\b\b\b\b\b\b\b\b\b\b\b\b\b\b\b\b\b\b\b\b\b\b\b\b\b\b\b\b\b\r",
      "416/468 [=========================>....] - ETA: 30s - loss: 0.5215 - accuracy: 0.8346"
     ]
    },
    {
     "name": "stderr",
     "output_type": "stream",
     "text": [
      "W0622 22:37:02.459546  7048 callbacks.py:241] Method (on_train_batch_end) is slow compared to the batch update (0.357321). Check your callbacks.\n"
     ]
    },
    {
     "name": "stdout",
     "output_type": "stream",
     "text": [
      "\n",
      "Epoch 00001: saving model to training_10_3/cp-0001.ckpt\n",
      "417/468 [=========================>....] - ETA: 29s - loss: 0.5208 - accuracy: 0.8348\n",
      "Epoch 00001: saving model to training_10_3/cp-0001.ckpt\n"
     ]
    },
    {
     "name": "stderr",
     "output_type": "stream",
     "text": [
      "W0622 22:37:02.823219  7048 callbacks.py:241] Method (on_train_batch_end) is slow compared to the batch update (0.357321). Check your callbacks.\n"
     ]
    },
    {
     "name": "stdout",
     "output_type": "stream",
     "text": [
      "\b\b\b\b\b\b\b\b\b\b\b\b\b\b\b\b\b\b\b\b\b\b\b\b\b\b\b\b\b\b\b\b\b\b\b\b\b\b\b\b\b\b\b\b\b\b\b\b\b\b\b\b\b\b\b\b\b\b\b\b\b\b\b\b\b\b\b\b\b\b\b\b\b\b\b\b\b\b\b\b\b\b\b\b\b\r",
      "418/468 [=========================>....] - ETA: 28s - loss: 0.5202 - accuracy: 0.8350"
     ]
    },
    {
     "name": "stderr",
     "output_type": "stream",
     "text": [
      "W0622 22:37:02.997244  7048 callbacks.py:241] Method (on_train_batch_end) is slow compared to the batch update (0.335321). Check your callbacks.\n"
     ]
    },
    {
     "name": "stdout",
     "output_type": "stream",
     "text": [
      "\n",
      "Epoch 00001: saving model to training_10_3/cp-0001.ckpt\n",
      "419/468 [=========================>....] - ETA: 28s - loss: 0.5199 - accuracy: 0.8352\n",
      "Epoch 00001: saving model to training_10_3/cp-0001.ckpt\n"
     ]
    },
    {
     "name": "stderr",
     "output_type": "stream",
     "text": [
      "W0622 22:37:03.346245  7048 callbacks.py:241] Method (on_train_batch_end) is slow compared to the batch update (0.314303). Check your callbacks.\n"
     ]
    },
    {
     "name": "stdout",
     "output_type": "stream",
     "text": [
      "420/468 [=========================>....] - ETA: 27s - loss: 0.5192 - accuracy: 0.8355\n",
      "Epoch 00001: saving model to training_10_3/cp-0001.ckpt\n"
     ]
    },
    {
     "name": "stderr",
     "output_type": "stream",
     "text": [
      "W0622 22:37:03.588694  7048 callbacks.py:241] Method (on_train_batch_end) is slow compared to the batch update (0.314303). Check your callbacks.\n"
     ]
    },
    {
     "name": "stdout",
     "output_type": "stream",
     "text": [
      "421/468 [=========================>....] - ETA: 27s - loss: 0.5185 - accuracy: 0.8357\n",
      "Epoch 00001: saving model to training_10_3/cp-0001.ckpt\n"
     ]
    },
    {
     "name": "stderr",
     "output_type": "stream",
     "text": [
      "W0622 22:37:04.004180  7048 callbacks.py:241] Method (on_train_batch_end) is slow compared to the batch update (0.314303). Check your callbacks.\n"
     ]
    },
    {
     "name": "stdout",
     "output_type": "stream",
     "text": [
      "422/468 [==========================>...] - ETA: 26s - loss: 0.5178 - accuracy: 0.8359\n",
      "Epoch 00001: saving model to training_10_3/cp-0001.ckpt\n"
     ]
    },
    {
     "name": "stderr",
     "output_type": "stream",
     "text": [
      "W0622 22:37:04.439228  7048 callbacks.py:241] Method (on_train_batch_end) is slow compared to the batch update (0.314303). Check your callbacks.\n"
     ]
    },
    {
     "name": "stdout",
     "output_type": "stream",
     "text": [
      "423/468 [==========================>...] - ETA: 25s - loss: 0.5173 - accuracy: 0.8361\n",
      "Epoch 00001: saving model to training_10_3/cp-0001.ckpt\n"
     ]
    },
    {
     "name": "stderr",
     "output_type": "stream",
     "text": [
      "W0622 22:37:04.910433  7048 callbacks.py:241] Method (on_train_batch_end) is slow compared to the batch update (0.314303). Check your callbacks.\n"
     ]
    },
    {
     "name": "stdout",
     "output_type": "stream",
     "text": [
      "424/468 [==========================>...] - ETA: 25s - loss: 0.5167 - accuracy: 0.8363\n",
      "Epoch 00001: saving model to training_10_3/cp-0001.ckpt\n"
     ]
    },
    {
     "name": "stderr",
     "output_type": "stream",
     "text": [
      "W0622 22:37:05.422704  7048 callbacks.py:241] Method (on_train_batch_end) is slow compared to the batch update (0.314303). Check your callbacks.\n"
     ]
    },
    {
     "name": "stdout",
     "output_type": "stream",
     "text": [
      "425/468 [==========================>...] - ETA: 24s - loss: 0.5164 - accuracy: 0.8364\n",
      "Epoch 00001: saving model to training_10_3/cp-0001.ckpt\n"
     ]
    },
    {
     "name": "stderr",
     "output_type": "stream",
     "text": [
      "W0622 22:37:05.949639  7048 callbacks.py:241] Method (on_train_batch_end) is slow compared to the batch update (0.327501). Check your callbacks.\n"
     ]
    },
    {
     "name": "stdout",
     "output_type": "stream",
     "text": [
      "426/468 [==========================>...] - ETA: 24s - loss: 0.5159 - accuracy: 0.8366\n",
      "Epoch 00001: saving model to training_10_3/cp-0001.ckpt\n"
     ]
    },
    {
     "name": "stderr",
     "output_type": "stream",
     "text": [
      "W0622 22:37:06.376857  7048 callbacks.py:241] Method (on_train_batch_end) is slow compared to the batch update (0.327501). Check your callbacks.\n"
     ]
    },
    {
     "name": "stdout",
     "output_type": "stream",
     "text": [
      "427/468 [==========================>...] - ETA: 23s - loss: 0.5155 - accuracy: 0.8367\n",
      "Epoch 00001: saving model to training_10_3/cp-0001.ckpt\n"
     ]
    },
    {
     "name": "stderr",
     "output_type": "stream",
     "text": [
      "W0622 22:37:06.664277  7048 callbacks.py:241] Method (on_train_batch_end) is slow compared to the batch update (0.325546). Check your callbacks.\n"
     ]
    },
    {
     "name": "stdout",
     "output_type": "stream",
     "text": [
      "428/468 [==========================>...] - ETA: 22s - loss: 0.5149 - accuracy: 0.8369\n",
      "Epoch 00001: saving model to training_10_3/cp-0001.ckpt\n"
     ]
    },
    {
     "name": "stderr",
     "output_type": "stream",
     "text": [
      "W0622 22:37:07.021107  7048 callbacks.py:241] Method (on_train_batch_end) is slow compared to the batch update (0.325546). Check your callbacks.\n"
     ]
    },
    {
     "name": "stdout",
     "output_type": "stream",
     "text": [
      "429/468 [==========================>...] - ETA: 22s - loss: 0.5141 - accuracy: 0.8372\n",
      "Epoch 00001: saving model to training_10_3/cp-0001.ckpt\n"
     ]
    },
    {
     "name": "stderr",
     "output_type": "stream",
     "text": [
      "W0622 22:37:07.363272  7048 callbacks.py:241] Method (on_train_batch_end) is slow compared to the batch update (0.325546). Check your callbacks.\n"
     ]
    },
    {
     "name": "stdout",
     "output_type": "stream",
     "text": [
      "430/468 [==========================>...] - ETA: 21s - loss: 0.5134 - accuracy: 0.8374\n",
      "Epoch 00001: saving model to training_10_3/cp-0001.ckpt\n"
     ]
    },
    {
     "name": "stderr",
     "output_type": "stream",
     "text": [
      "W0622 22:37:07.713260  7048 callbacks.py:241] Method (on_train_batch_end) is slow compared to the batch update (0.326035). Check your callbacks.\n"
     ]
    },
    {
     "name": "stdout",
     "output_type": "stream",
     "text": [
      "431/468 [==========================>...] - ETA: 21s - loss: 0.5131 - accuracy: 0.8375\n",
      "Epoch 00001: saving model to training_10_3/cp-0001.ckpt\n"
     ]
    },
    {
     "name": "stderr",
     "output_type": "stream",
     "text": [
      "W0622 22:37:07.971350  7048 callbacks.py:241] Method (on_train_batch_end) is slow compared to the batch update (0.300617). Check your callbacks.\n"
     ]
    },
    {
     "name": "stdout",
     "output_type": "stream",
     "text": [
      "\b\b\b\b\b\b\b\b\b\b\b\b\b\b\b\b\b\b\b\b\b\b\b\b\b\b\b\b\b\b\b\b\b\b\b\b\b\b\b\b\b\b\b\b\b\b\b\b\b\b\b\b\b\b\b\b\b\b\b\b\b\b\b\b\b\b\b\b\b\b\b\b\b\b\b\b\b\b\b\b\b\b\b\b\b\r",
      "432/468 [==========================>...] - ETA: 20s - loss: 0.5126 - accuracy: 0.8377"
     ]
    },
    {
     "name": "stderr",
     "output_type": "stream",
     "text": [
      "W0622 22:37:08.155142  7048 callbacks.py:241] Method (on_train_batch_end) is slow compared to the batch update (0.299150). Check your callbacks.\n"
     ]
    },
    {
     "name": "stdout",
     "output_type": "stream",
     "text": [
      "\n",
      "Epoch 00001: saving model to training_10_3/cp-0001.ckpt\n",
      "433/468 [==========================>...] - ETA: 19s - loss: 0.5120 - accuracy: 0.8379\n",
      "Epoch 00001: saving model to training_10_3/cp-0001.ckpt\n"
     ]
    },
    {
     "name": "stderr",
     "output_type": "stream",
     "text": [
      "W0622 22:37:08.433763  7048 callbacks.py:241] Method (on_train_batch_end) is slow compared to the batch update (0.297683). Check your callbacks.\n"
     ]
    },
    {
     "name": "stdout",
     "output_type": "stream",
     "text": [
      "434/468 [==========================>...] - ETA: 19s - loss: 0.5114 - accuracy: 0.8381\n",
      "Epoch 00001: saving model to training_10_3/cp-0001.ckpt\n"
     ]
    },
    {
     "name": "stderr",
     "output_type": "stream",
     "text": [
      "W0622 22:37:08.945058  7048 callbacks.py:241] Method (on_train_batch_end) is slow compared to the batch update (0.297683). Check your callbacks.\n"
     ]
    },
    {
     "name": "stdout",
     "output_type": "stream",
     "text": [
      "435/468 [==========================>...] - ETA: 18s - loss: 0.5109 - accuracy: 0.8382\n",
      "Epoch 00001: saving model to training_10_3/cp-0001.ckpt\n"
     ]
    },
    {
     "name": "stderr",
     "output_type": "stream",
     "text": [
      "W0622 22:37:09.419202  7048 callbacks.py:241] Method (on_train_batch_end) is slow compared to the batch update (0.297683). Check your callbacks.\n"
     ]
    },
    {
     "name": "stdout",
     "output_type": "stream",
     "text": [
      "436/468 [==========================>...] - ETA: 18s - loss: 0.5103 - accuracy: 0.8384\n",
      "Epoch 00001: saving model to training_10_3/cp-0001.ckpt\n"
     ]
    },
    {
     "name": "stderr",
     "output_type": "stream",
     "text": [
      "W0622 22:37:10.197385  7048 callbacks.py:241] Method (on_train_batch_end) is slow compared to the batch update (0.297683). Check your callbacks.\n"
     ]
    },
    {
     "name": "stdout",
     "output_type": "stream",
     "text": [
      "437/468 [===========================>..] - ETA: 17s - loss: 0.5097 - accuracy: 0.8386\n",
      "Epoch 00001: saving model to training_10_3/cp-0001.ckpt\n"
     ]
    },
    {
     "name": "stderr",
     "output_type": "stream",
     "text": [
      "W0622 22:37:10.835769  7048 callbacks.py:241] Method (on_train_batch_end) is slow compared to the batch update (0.299639). Check your callbacks.\n"
     ]
    },
    {
     "name": "stdout",
     "output_type": "stream",
     "text": [
      "438/468 [===========================>..] - ETA: 17s - loss: 0.5090 - accuracy: 0.8388\n",
      "Epoch 00001: saving model to training_10_3/cp-0001.ckpt\n"
     ]
    },
    {
     "name": "stderr",
     "output_type": "stream",
     "text": [
      "W0622 22:37:11.123193  7048 callbacks.py:241] Method (on_train_batch_end) is slow compared to the batch update (0.299151). Check your callbacks.\n"
     ]
    },
    {
     "name": "stdout",
     "output_type": "stream",
     "text": [
      "439/468 [===========================>..] - ETA: 16s - loss: 0.5083 - accuracy: 0.8391\n",
      "Epoch 00001: saving model to training_10_3/cp-0001.ckpt\n"
     ]
    },
    {
     "name": "stderr",
     "output_type": "stream",
     "text": [
      "W0622 22:37:11.738115  7048 callbacks.py:241] Method (on_train_batch_end) is slow compared to the batch update (0.334345). Check your callbacks.\n"
     ]
    },
    {
     "name": "stdout",
     "output_type": "stream",
     "text": [
      "440/468 [===========================>..] - ETA: 15s - loss: 0.5079 - accuracy: 0.8392\n",
      "Epoch 00001: saving model to training_10_3/cp-0001.ckpt\n"
     ]
    },
    {
     "name": "stderr",
     "output_type": "stream",
     "text": [
      "W0622 22:37:12.189774  7048 callbacks.py:241] Method (on_train_batch_end) is slow compared to the batch update (0.370031). Check your callbacks.\n"
     ]
    },
    {
     "name": "stdout",
     "output_type": "stream",
     "text": [
      "\b\b\b\b\b\b\b\b\b\b\b\b\b\b\b\b\b\b\b\b\b\b\b\b\b\b\b\b\b\b\b\b\b\b\b\b\b\b\b\b\b\b\b\b\b\b\b\b\b\b\b\b\b\b\b\b\b\b\b\b\b\b\b\b\b\b\b\b\b\b\b\b\b\b\b\b\b\b\b\b\b\b\b\b\b\r",
      "441/468 [===========================>..] - ETA: 15s - loss: 0.5072 - accuracy: 0.8395"
     ]
    },
    {
     "name": "stderr",
     "output_type": "stream",
     "text": [
      "W0622 22:37:12.382358  7048 callbacks.py:241] Method (on_train_batch_end) is slow compared to the batch update (0.370031). Check your callbacks.\n"
     ]
    },
    {
     "name": "stdout",
     "output_type": "stream",
     "text": [
      "\n",
      "Epoch 00001: saving model to training_10_3/cp-0001.ckpt\n",
      "442/468 [===========================>..] - ETA: 14s - loss: 0.5065 - accuracy: 0.8397\n",
      "Epoch 00001: saving model to training_10_3/cp-0001.ckpt\n"
     ]
    },
    {
     "name": "stderr",
     "output_type": "stream",
     "text": [
      "W0622 22:37:12.630672  7048 callbacks.py:241] Method (on_train_batch_end) is slow compared to the batch update (0.370031). Check your callbacks.\n"
     ]
    },
    {
     "name": "stdout",
     "output_type": "stream",
     "text": [
      "443/468 [===========================>..] - ETA: 14s - loss: 0.5059 - accuracy: 0.8399\n",
      "Epoch 00001: saving model to training_10_3/cp-0001.ckpt\n"
     ]
    },
    {
     "name": "stderr",
     "output_type": "stream",
     "text": [
      "W0622 22:37:12.944506  7048 callbacks.py:241] Method (on_train_batch_end) is slow compared to the batch update (0.370031). Check your callbacks.\n"
     ]
    },
    {
     "name": "stdout",
     "output_type": "stream",
     "text": [
      "444/468 [===========================>..] - ETA: 13s - loss: 0.5053 - accuracy: 0.8401\n",
      "Epoch 00001: saving model to training_10_3/cp-0001.ckpt\n"
     ]
    },
    {
     "name": "stderr",
     "output_type": "stream",
     "text": [
      "W0622 22:37:13.286657  7048 callbacks.py:241] Method (on_train_batch_end) is slow compared to the batch update (0.317236). Check your callbacks.\n"
     ]
    },
    {
     "name": "stdout",
     "output_type": "stream",
     "text": [
      "445/468 [===========================>..] - ETA: 13s - loss: 0.5050 - accuracy: 0.8402\n",
      "Epoch 00001: saving model to training_10_3/cp-0001.ckpt\n"
     ]
    },
    {
     "name": "stderr",
     "output_type": "stream",
     "text": [
      "W0622 22:37:13.588738  7048 callbacks.py:241] Method (on_train_batch_end) is slow compared to the batch update (0.264935). Check your callbacks.\n"
     ]
    },
    {
     "name": "stdout",
     "output_type": "stream",
     "text": [
      "446/468 [===========================>..] - ETA: 12s - loss: 0.5045 - accuracy: 0.8404\n",
      "Epoch 00001: saving model to training_10_3/cp-0001.ckpt\n"
     ]
    },
    {
     "name": "stderr",
     "output_type": "stream",
     "text": [
      "W0622 22:37:13.902552  7048 callbacks.py:241] Method (on_train_batch_end) is slow compared to the batch update (0.261514). Check your callbacks.\n"
     ]
    },
    {
     "name": "stdout",
     "output_type": "stream",
     "text": [
      "447/468 [===========================>..] - ETA: 11s - loss: 0.5042 - accuracy: 0.8405\n",
      "Epoch 00001: saving model to training_10_3/cp-0001.ckpt\n"
     ]
    },
    {
     "name": "stderr",
     "output_type": "stream",
     "text": [
      "W0622 22:37:14.119583  7048 callbacks.py:241] Method (on_train_batch_end) is slow compared to the batch update (0.255647). Check your callbacks.\n"
     ]
    },
    {
     "name": "stdout",
     "output_type": "stream",
     "text": [
      "448/468 [===========================>..] - ETA: 11s - loss: 0.5037 - accuracy: 0.8407\n",
      "Epoch 00001: saving model to training_10_3/cp-0001.ckpt\n"
     ]
    },
    {
     "name": "stderr",
     "output_type": "stream",
     "text": [
      "W0622 22:37:14.536048  7048 callbacks.py:241] Method (on_train_batch_end) is slow compared to the batch update (0.261514). Check your callbacks.\n"
     ]
    },
    {
     "name": "stdout",
     "output_type": "stream",
     "text": [
      "449/468 [===========================>..] - ETA: 10s - loss: 0.5030 - accuracy: 0.8409\n",
      "Epoch 00001: saving model to training_10_3/cp-0001.ckpt\n"
     ]
    },
    {
     "name": "stderr",
     "output_type": "stream",
     "text": [
      "W0622 22:37:14.835199  7048 callbacks.py:241] Method (on_train_batch_end) is slow compared to the batch update (0.255647). Check your callbacks.\n"
     ]
    },
    {
     "name": "stdout",
     "output_type": "stream",
     "text": [
      "\b\b\b\b\b\b\b\b\b\b\b\b\b\b\b\b\b\b\b\b\b\b\b\b\b\b\b\b\b\b\b\b\b\b\b\b\b\b\b\b\b\b\b\b\b\b\b\b\b\b\b\b\b\b\b\b\b\b\b\b\b\b\b\b\b\b\b\b\b\b\b\b\b\b\b\b\b\b\b\b\b\b\b\b\b\r",
      "450/468 [===========================>..] - ETA: 10s - loss: 0.5026 - accuracy: 0.8410"
     ]
    },
    {
     "name": "stderr",
     "output_type": "stream",
     "text": [
      "W0622 22:37:15.010193  7048 callbacks.py:241] Method (on_train_batch_end) is slow compared to the batch update (0.245382). Check your callbacks.\n"
     ]
    },
    {
     "name": "stdout",
     "output_type": "stream",
     "text": [
      "\n",
      "Epoch 00001: saving model to training_10_3/cp-0001.ckpt\n",
      "451/468 [===========================>..] - ETA: 9s - loss: 0.5019 - accuracy: 0.8412 \n",
      "Epoch 00001: saving model to training_10_3/cp-0001.ckpt\n"
     ]
    },
    {
     "name": "stderr",
     "output_type": "stream",
     "text": [
      "W0622 22:37:15.274148  7048 callbacks.py:241] Method (on_train_batch_end) is slow compared to the batch update (0.245382). Check your callbacks.\n"
     ]
    },
    {
     "name": "stdout",
     "output_type": "stream",
     "text": [
      "452/468 [===========================>..] - ETA: 8s - loss: 0.5014 - accuracy: 0.8414\n",
      "Epoch 00001: saving model to training_10_3/cp-0001.ckpt\n"
     ]
    },
    {
     "name": "stderr",
     "output_type": "stream",
     "text": [
      "W0622 22:37:15.599695  7048 callbacks.py:241] Method (on_train_batch_end) is slow compared to the batch update (0.255647). Check your callbacks.\n"
     ]
    },
    {
     "name": "stdout",
     "output_type": "stream",
     "text": [
      "453/468 [============================>.] - ETA: 8s - loss: 0.5011 - accuracy: 0.8416\n",
      "Epoch 00001: saving model to training_10_3/cp-0001.ckpt\n"
     ]
    },
    {
     "name": "stderr",
     "output_type": "stream",
     "text": [
      "W0622 22:37:15.891025  7048 callbacks.py:241] Method (on_train_batch_end) is slow compared to the batch update (0.245382). Check your callbacks.\n"
     ]
    },
    {
     "name": "stdout",
     "output_type": "stream",
     "text": [
      "454/468 [============================>.] - ETA: 7s - loss: 0.5007 - accuracy: 0.8418\n",
      "Epoch 00001: saving model to training_10_3/cp-0001.ckpt\n"
     ]
    },
    {
     "name": "stderr",
     "output_type": "stream",
     "text": [
      "W0622 22:37:16.300648  7048 callbacks.py:241] Method (on_train_batch_end) is slow compared to the batch update (0.245382). Check your callbacks.\n"
     ]
    },
    {
     "name": "stdout",
     "output_type": "stream",
     "text": [
      "455/468 [============================>.] - ETA: 7s - loss: 0.5002 - accuracy: 0.8420\n",
      "Epoch 00001: saving model to training_10_3/cp-0001.ckpt\n"
     ]
    },
    {
     "name": "stderr",
     "output_type": "stream",
     "text": [
      "W0622 22:37:16.860823  7048 callbacks.py:241] Method (on_train_batch_end) is slow compared to the batch update (0.245382). Check your callbacks.\n"
     ]
    },
    {
     "name": "stdout",
     "output_type": "stream",
     "text": [
      "456/468 [============================>.] - ETA: 6s - loss: 0.4998 - accuracy: 0.8421\n",
      "Epoch 00001: saving model to training_10_3/cp-0001.ckpt\n"
     ]
    },
    {
     "name": "stderr",
     "output_type": "stream",
     "text": [
      "W0622 22:37:17.730901  7048 callbacks.py:241] Method (on_train_batch_end) is slow compared to the batch update (0.260046). Check your callbacks.\n"
     ]
    },
    {
     "name": "stdout",
     "output_type": "stream",
     "text": [
      "457/468 [============================>.] - ETA: 6s - loss: 0.4991 - accuracy: 0.8424\n",
      "Epoch 00001: saving model to training_10_3/cp-0001.ckpt\n"
     ]
    },
    {
     "name": "stderr",
     "output_type": "stream",
     "text": [
      "W0622 22:37:18.390792  7048 callbacks.py:241] Method (on_train_batch_end) is slow compared to the batch update (0.323103). Check your callbacks.\n"
     ]
    },
    {
     "name": "stdout",
     "output_type": "stream",
     "text": [
      "458/468 [============================>.] - ETA: 5s - loss: 0.4984 - accuracy: 0.8426\n",
      "Epoch 00001: saving model to training_10_3/cp-0001.ckpt\n"
     ]
    },
    {
     "name": "stderr",
     "output_type": "stream",
     "text": [
      "W0622 22:37:18.735890  7048 callbacks.py:241] Method (on_train_batch_end) is slow compared to the batch update (0.280087). Check your callbacks.\n"
     ]
    },
    {
     "name": "stdout",
     "output_type": "stream",
     "text": [
      "459/468 [============================>.] - ETA: 5s - loss: 0.4978 - accuracy: 0.8428\n",
      "Epoch 00001: saving model to training_10_3/cp-0001.ckpt\n"
     ]
    },
    {
     "name": "stderr",
     "output_type": "stream",
     "text": [
      "W0622 22:37:19.124982  7048 callbacks.py:241] Method (on_train_batch_end) is slow compared to the batch update (0.298661). Check your callbacks.\n"
     ]
    },
    {
     "name": "stdout",
     "output_type": "stream",
     "text": [
      "460/468 [============================>.] - ETA: 4s - loss: 0.4974 - accuracy: 0.8430\n",
      "Epoch 00001: saving model to training_10_3/cp-0001.ckpt\n"
     ]
    },
    {
     "name": "stderr",
     "output_type": "stream",
     "text": [
      "W0622 22:37:19.408491  7048 callbacks.py:241] Method (on_train_batch_end) is slow compared to the batch update (0.298661). Check your callbacks.\n"
     ]
    },
    {
     "name": "stdout",
     "output_type": "stream",
     "text": [
      "461/468 [============================>.] - ETA: 3s - loss: 0.4972 - accuracy: 0.8431\n",
      "Epoch 00001: saving model to training_10_3/cp-0001.ckpt\n"
     ]
    },
    {
     "name": "stderr",
     "output_type": "stream",
     "text": [
      "W0622 22:37:19.753590  7048 callbacks.py:241] Method (on_train_batch_end) is slow compared to the batch update (0.308930). Check your callbacks.\n"
     ]
    },
    {
     "name": "stdout",
     "output_type": "stream",
     "text": [
      "462/468 [============================>.] - ETA: 3s - loss: 0.4968 - accuracy: 0.8433\n",
      "Epoch 00001: saving model to training_10_3/cp-0001.ckpt\n"
     ]
    },
    {
     "name": "stderr",
     "output_type": "stream",
     "text": [
      "W0622 22:37:20.104554  7048 callbacks.py:241] Method (on_train_batch_end) is slow compared to the batch update (0.308930). Check your callbacks.\n"
     ]
    },
    {
     "name": "stdout",
     "output_type": "stream",
     "text": [
      "463/468 [============================>.] - ETA: 2s - loss: 0.4962 - accuracy: 0.8434\n",
      "Epoch 00001: saving model to training_10_3/cp-0001.ckpt\n"
     ]
    },
    {
     "name": "stderr",
     "output_type": "stream",
     "text": [
      "W0622 22:37:20.400772  7048 callbacks.py:241] Method (on_train_batch_end) is slow compared to the batch update (0.308930). Check your callbacks.\n"
     ]
    },
    {
     "name": "stdout",
     "output_type": "stream",
     "text": [
      "464/468 [============================>.] - ETA: 2s - loss: 0.4956 - accuracy: 0.8436\n",
      "Epoch 00001: saving model to training_10_3/cp-0001.ckpt\n"
     ]
    },
    {
     "name": "stderr",
     "output_type": "stream",
     "text": [
      "W0622 22:37:20.660818  7048 callbacks.py:241] Method (on_train_batch_end) is slow compared to the batch update (0.290355). Check your callbacks.\n"
     ]
    },
    {
     "name": "stdout",
     "output_type": "stream",
     "text": [
      "465/468 [============================>.] - ETA: 1s - loss: 0.4949 - accuracy: 0.8438\n",
      "Epoch 00001: saving model to training_10_3/cp-0001.ckpt\n"
     ]
    },
    {
     "name": "stderr",
     "output_type": "stream",
     "text": [
      "W0622 22:37:21.017648  7048 callbacks.py:241] Method (on_train_batch_end) is slow compared to the batch update (0.290355). Check your callbacks.\n"
     ]
    },
    {
     "name": "stdout",
     "output_type": "stream",
     "text": [
      "466/468 [============================>.] - ETA: 1s - loss: 0.4944 - accuracy: 0.8439\n",
      "Epoch 00001: saving model to training_10_3/cp-0001.ckpt\n"
     ]
    },
    {
     "name": "stderr",
     "output_type": "stream",
     "text": [
      "W0622 22:37:21.486905  7048 callbacks.py:241] Method (on_train_batch_end) is slow compared to the batch update (0.290355). Check your callbacks.\n"
     ]
    },
    {
     "name": "stdout",
     "output_type": "stream",
     "text": [
      "467/468 [============================>.] - ETA: 0s - loss: 0.4938 - accuracy: 0.8442\n",
      "Epoch 00001: saving model to training_10_3/cp-0001.ckpt\n"
     ]
    },
    {
     "name": "stderr",
     "output_type": "stream",
     "text": [
      "W0622 22:37:21.880884  7048 callbacks.py:241] Method (on_train_batch_end) is slow compared to the batch update (0.273731). Check your callbacks.\n"
     ]
    },
    {
     "name": "stdout",
     "output_type": "stream",
     "text": [
      "\b\b\b\b\b\b\b\b\b\b\b\b\b\b\b\b\b\b\b\b\b\b\b\b\b\b\b\b\b\b\b\b\b\b\b\b\b\b\b\b\b\b\b\b\b\b\b\b\b\b\b\b\b\b\b\b\b\b\b\b\b\b\b\b\b\b\b\b\b\b\b\b\b\b\b\b\b\b\b\b\b\b\b\b\r",
      "468/468 [==============================] - 261s 559ms/step - loss: 0.4931 - accuracy: 0.8444 - val_loss: 0.1520 - val_accuracy: 0.9553\n"
     ]
    },
    {
     "data": {
      "text/plain": [
       "<tensorflow.python.keras.callbacks.History at 0xa25c31afd0>"
      ]
     },
     "execution_count": 15,
     "metadata": {},
     "output_type": "execute_result"
    }
   ],
   "source": [
    "#for checkpoint\n",
    "# 파일 이름에 에포크 번호를 포함시킵니다(`str.format` 포맷)\n",
    "checkpoint_path = \"training_10_3/cp-{epoch:04d}.ckpt\"\n",
    "checkpoint_dir = os.path.dirname(checkpoint_path)\n",
    "\n",
    "# 체크포인트 콜백 만들기\n",
    "cp_callback = tf.keras.callbacks.ModelCheckpoint(checkpoint_path,\n",
    "                                                 save_weights_only=True,\n",
    "                                                 verbose=1, save_freq=1)\n",
    "\n",
    "model.fit(train_dataset, epochs =1,\n",
    "          validation_data =test_dataset,steps_per_epoch=training_iterations,\n",
    "          callbacks = [cp_callback],validation_steps=1)  # 훈련 단계에 콜백을 전달합니다\n"
   ]
  },
  {
   "cell_type": "markdown",
   "metadata": {},
   "source": [
    "============================================================================================================"
   ]
  },
  {
   "cell_type": "code",
   "execution_count": null,
   "metadata": {},
   "outputs": [],
   "source": []
  },
  {
   "cell_type": "code",
   "execution_count": 17,
   "metadata": {},
   "outputs": [
    {
     "ename": "TypeError",
     "evalue": "'RepeatDataset' object is not subscriptable",
     "output_type": "error",
     "traceback": [
      "\u001b[1;31m---------------------------------------------------------------------------\u001b[0m",
      "\u001b[1;31mTypeError\u001b[0m                                 Traceback (most recent call last)",
      "\u001b[1;32m<ipython-input-17-4640cdb3ce36>\u001b[0m in \u001b[0;36m<module>\u001b[1;34m\u001b[0m\n\u001b[0;32m      2\u001b[0m \u001b[0mrange\u001b[0m\u001b[1;33m(\u001b[0m\u001b[1;36m10\u001b[0m\u001b[1;33m)\u001b[0m\u001b[1;33m\u001b[0m\u001b[1;33m\u001b[0m\u001b[0m\n\u001b[0;32m      3\u001b[0m )\n\u001b[1;32m----> 4\u001b[1;33m \u001b[0mtrain_dataset\u001b[0m\u001b[1;33m[\u001b[0m\u001b[1;36m1\u001b[0m\u001b[1;33m:\u001b[0m\u001b[1;36m2\u001b[0m\u001b[1;33m,\u001b[0m\u001b[1;33m]\u001b[0m\u001b[1;33m\u001b[0m\u001b[1;33m\u001b[0m\u001b[0m\n\u001b[0m",
      "\u001b[1;31mTypeError\u001b[0m: 'RepeatDataset' object is not subscriptable"
     ]
    }
   ],
   "source": [
    "tf.random.shuffle(\n",
    "range(10)\n",
    ")\n",
    "train_dataset[1:2,]"
   ]
  }
 ],
 "metadata": {
  "kernelspec": {
   "display_name": "Python 3",
   "language": "python",
   "name": "python3"
  },
  "language_info": {
   "codemirror_mode": {
    "name": "ipython",
    "version": 3
   },
   "file_extension": ".py",
   "mimetype": "text/x-python",
   "name": "python",
   "nbconvert_exporter": "python",
   "pygments_lexer": "ipython3",
   "version": "3.7.3"
  }
 },
 "nbformat": 4,
 "nbformat_minor": 2
}
