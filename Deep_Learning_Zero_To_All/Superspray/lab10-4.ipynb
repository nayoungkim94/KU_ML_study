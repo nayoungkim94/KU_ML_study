{
 "cells": [
  {
   "cell_type": "markdown",
   "metadata": {},
   "source": [
    "# lab 10-4 : batch normalization\n",
    "layer->normalization->activation"
   ]
  },
  {
   "cell_type": "code",
   "execution_count": 2,
   "metadata": {},
   "outputs": [],
   "source": [
    "import tensorflow as tf\n",
    "import numpy as np\n",
    "from tensorflow.keras.utils import to_categorical\n",
    "from tensorflow.keras.datasets import mnist\n",
    "from time import time\n",
    "import os\n",
    "import datetime"
   ]
  },
  {
   "cell_type": "code",
   "execution_count": 3,
   "metadata": {},
   "outputs": [],
   "source": [
    "def load_mnist() :\n",
    "    (train_data, train_labels), (test_data, test_labels) = mnist.load_data()\n",
    "    train_data = np.expand_dims(train_data, axis=-1) # [N, 28, 28] -> [N, 28, 28, 1]\n",
    "    test_data = np.expand_dims(test_data, axis=-1) # [N, 28, 28] -> [N, 28, 28, 1]\n",
    "\n",
    "    train_data, test_data = normalize(train_data, test_data)\n",
    "\n",
    "    train_labels = to_categorical(train_labels, 10) # [N,] -> [N, 10]\n",
    "    test_labels = to_categorical(test_labels, 10) # [N,] -> [N, 10]\n",
    "\n",
    "    return train_data, train_labels, test_data, test_labels\n",
    "\n",
    "def normalize(train_data, test_data):\n",
    "    train_data = train_data.astype(np.float32) / 255.0\n",
    "    test_data = test_data.astype(np.float32) / 255.0\n",
    "\n",
    "    return train_data, test_data"
   ]
  },
  {
   "cell_type": "code",
   "execution_count": 4,
   "metadata": {},
   "outputs": [],
   "source": [
    "\"\"\" dataset \"\"\"\n",
    "train_x, train_y, test_x, test_y = load_mnist()\n",
    "##train:60000\n",
    "##test:10000 --test_x.shape\n",
    "\n",
    "\"\"\" parameters \"\"\" #초모수값 지정\n",
    "learning_rate = 0.001\n",
    "batch_size = 128\n",
    "\n",
    "training_epochs = 1\n",
    "training_iterations = len(train_x) // batch_size #468\n",
    "label_dim = 10\n",
    "\n",
    "train_flag = True\n",
    "\n",
    "\"\"\" Graph Input using Dataset API \"\"\"\n",
    "train_dataset = tf.data.Dataset.from_tensor_slices((train_x, train_y)).\\\n",
    "    shuffle(buffer_size=100000).\\\n",
    "    prefetch(buffer_size=batch_size).\\\n",
    "    batch(batch_size).repeat()\n",
    "test_dataset = tf.data.Dataset.from_tensor_slices((test_x, test_y)).\\\n",
    "    shuffle(buffer_size=100000).\\\n",
    "    prefetch(buffer_size=len(test_x)).\\\n",
    "    batch(len(test_x))\n",
    "train_dataset1=train_dataset.shuffle(len(train_x))\n",
    "test_dataset1=test_dataset.shuffle(len(test_x))\n",
    "##참고:https://stackoverflow.com/questions/50437234/tensorflow-dataset-shuffle-then-batch-or-batch-then-shuffle\n",
    "#train_iterator = train_dataset.make_one_shot_iterator() 대신 batch에 대해 shuffle!\n",
    "#test_iterator = test_dataset.make_one_shot_iterator()\n"
   ]
  },
  {
   "cell_type": "code",
   "execution_count": 8,
   "metadata": {},
   "outputs": [],
   "source": [
    "###수정!!\n",
    "\n",
    "\n",
    "\n",
    "class create_model_class(tf.keras.Model):\n",
    "    def __init__(self, label_dim):\n",
    "        super(create_model_class, self).__init__()\n",
    "        ###Xavier initialization 이용\n",
    "        weight_init = tf.kerasv.initializers.glorot_uniform()\n",
    "\n",
    "        self.model = tf.keras.Sequential()\n",
    "        self.model.add(tf.keras.layers.Flatten())\n",
    "        self.model.add(tf.keras.layers.Dense(512,kernel_initializer=weight_init, input_shape=(784,)))\n",
    "        self.model.add(tf.keras.layers.BatchNormalization())\n",
    "        self.model.add(relu())\n",
    "\n",
    "        for i in range(3) :\n",
    "               self.model.add(tf.keras.layers.Dense(512, kernel_initializer=weight_init))\n",
    "               self.model.add(tf.keras.layers.BatchNormalization())\n",
    "               self.model.add(relu())\n",
    "              \n",
    "\n",
    "\n",
    "        self.model.add(tf.keras.layers.Dense(label_dim, kernel_initializer=weight_init,activation='softmax'))\n",
    "        self.model.compile(optimizer='adam',\n",
    "                loss=custom_loss,\n",
    "                metrics=['accuracy'])\n",
    "    def call(self, x, training=None, mask=None):\n",
    "\n",
    "        x = self.model(x)\n",
    "\n",
    "        return x\n",
    "    \n",
    "# Create a loss function\n",
    "def custom_loss(y_true, y_pred):\n",
    "    return  tf.reduce_mean(tf.nn.softmax_cross_entropy_with_logits(y_pred,y_true))\n"
   ]
  },
  {
   "cell_type": "code",
   "execution_count": 6,
   "metadata": {},
   "outputs": [],
   "source": [
    "def create_model_function(label_dim) :\n",
    "    weight_init = tf.keras.initializers.glorot_uniform()\n",
    "\n",
    "    model = tf.keras.models.Sequential()\n",
    "    model.add(tf.keras.layers.Flatten())\n",
    "    model.add(tf.keras.layers.Dense(512,kernel_initializer=weight_init, input_shape=(784,)))\n",
    "    model.add(tf.keras.layers.BatchNormalization())\n",
    "    model.add(tf.keras.layers.ReLU())\n",
    "    \n",
    "    for i in range(3) :\n",
    "        model.add(tf.keras.layers.Dense(512, kernel_initializer=weight_init))\n",
    "        model.add(tf.keras.layers.BatchNormalization())\n",
    "        model.add(tf.keras.layers.ReLU())\n",
    "       \n",
    "    model.add(tf.keras.layers.Dense(label_dim,kernel_initializer= weight_init,activation='softmax'))\n",
    "    \n",
    "    model.compile(optimizer='adam',\n",
    "                loss='categorical_crossentropy',\n",
    "                metrics=['accuracy'])\n",
    "\n",
    "    return model\n",
    "\n",
    "model = create_model_function(label_dim)\n",
    "#model.summary()"
   ]
  },
  {
   "cell_type": "code",
   "execution_count": 7,
   "metadata": {
    "scrolled": true
   },
   "outputs": [
    {
     "name": "stderr",
     "output_type": "stream",
     "text": [
      "WARNING: Logging before flag parsing goes to stderr.\n",
      "W0622 23:59:00.228539  5744 deprecation.py:323] From C:\\ProgramData\\Anaconda3\\lib\\site-packages\\tensorflow\\python\\ops\\math_grad.py:1250: add_dispatch_support.<locals>.wrapper (from tensorflow.python.ops.array_ops) is deprecated and will be removed in a future version.\n",
      "Instructions for updating:\n",
      "Use tf.where in 2.0, which has the same broadcast rule as np.where\n"
     ]
    },
    {
     "name": "stdout",
     "output_type": "stream",
     "text": [
      "\n",
      "Epoch 00001: saving model to training_10_4/cp-0001.ckpt\n",
      "  1/468 [..............................] - ETA: 1:33:31 - loss: 2.5213 - accuracy: 0.1250\n",
      "Epoch 00001: saving model to training_10_4/cp-0001.ckpt\n"
     ]
    },
    {
     "name": "stderr",
     "output_type": "stream",
     "text": [
      "W0622 23:59:10.584436  5744 callbacks.py:241] Method (on_train_batch_end) is slow compared to the batch update (0.371983). Check your callbacks.\n"
     ]
    },
    {
     "name": "stdout",
     "output_type": "stream",
     "text": [
      "  2/468 [..............................] - ETA: 48:33 - loss: 1.9688 - accuracy: 0.2383  \n",
      "Epoch 00001: saving model to training_10_4/cp-0001.ckpt\n"
     ]
    },
    {
     "name": "stderr",
     "output_type": "stream",
     "text": [
      "W0622 23:59:10.926633  5744 callbacks.py:241] Method (on_train_batch_end) is slow compared to the batch update (0.329456). Check your callbacks.\n"
     ]
    },
    {
     "name": "stdout",
     "output_type": "stream",
     "text": [
      "  3/468 [..............................] - ETA: 33:11 - loss: 1.6218 - accuracy: 0.3168\n",
      "Epoch 00001: saving model to training_10_4/cp-0001.ckpt\n"
     ]
    },
    {
     "name": "stderr",
     "output_type": "stream",
     "text": [
      "W0622 23:59:11.204262  5744 callbacks.py:241] Method (on_train_batch_end) is slow compared to the batch update (0.304529). Check your callbacks.\n"
     ]
    },
    {
     "name": "stdout",
     "output_type": "stream",
     "text": [
      "  4/468 [..............................] - ETA: 25:22 - loss: 1.4273 - accuracy: 0.3729\n",
      "Epoch 00001: saving model to training_10_4/cp-0001.ckpt\n"
     ]
    },
    {
     "name": "stderr",
     "output_type": "stream",
     "text": [
      "W0622 23:59:11.718473  5744 callbacks.py:241] Method (on_train_batch_end) is slow compared to the batch update (0.329456). Check your callbacks.\n"
     ]
    },
    {
     "name": "stdout",
     "output_type": "stream",
     "text": [
      "  5/468 [..............................] - ETA: 21:03 - loss: 1.2899 - accuracy: 0.4158\n",
      "Epoch 00001: saving model to training_10_4/cp-0001.ckpt\n"
     ]
    },
    {
     "name": "stderr",
     "output_type": "stream",
     "text": [
      "W0622 23:59:12.266946  5744 callbacks.py:241] Method (on_train_batch_end) is slow compared to the batch update (0.361719). Check your callbacks.\n"
     ]
    },
    {
     "name": "stdout",
     "output_type": "stream",
     "text": [
      "  6/468 [..............................] - ETA: 18:12 - loss: 1.1666 - accuracy: 0.4502\n",
      "Epoch 00001: saving model to training_10_4/cp-0001.ckpt\n"
     ]
    },
    {
     "name": "stderr",
     "output_type": "stream",
     "text": [
      "W0622 23:59:12.849577  5744 callbacks.py:241] Method (on_train_batch_end) is slow compared to the batch update (0.393981). Check your callbacks.\n"
     ]
    },
    {
     "name": "stdout",
     "output_type": "stream",
     "text": [
      "  7/468 [..............................] - ETA: 16:12 - loss: 1.0914 - accuracy: 0.4784\n",
      "Epoch 00001: saving model to training_10_4/cp-0001.ckpt\n"
     ]
    },
    {
     "name": "stderr",
     "output_type": "stream",
     "text": [
      "W0622 23:59:13.317854  5744 callbacks.py:241] Method (on_train_batch_end) is slow compared to the batch update (0.369539). Check your callbacks.\n"
     ]
    },
    {
     "name": "stdout",
     "output_type": "stream",
     "text": [
      "  8/468 [..............................] - ETA: 14:36 - loss: 1.0126 - accuracy: 0.5029\n",
      "Epoch 00001: saving model to training_10_4/cp-0001.ckpt\n"
     ]
    },
    {
     "name": "stderr",
     "output_type": "stream",
     "text": [
      "W0622 23:59:13.823282  5744 callbacks.py:241] Method (on_train_batch_end) is slow compared to the batch update (0.393979). Check your callbacks.\n"
     ]
    },
    {
     "name": "stdout",
     "output_type": "stream",
     "text": [
      "  9/468 [..............................] - ETA: 13:23 - loss: 0.9576 - accuracy: 0.5240\n",
      "Epoch 00001: saving model to training_10_4/cp-0001.ckpt\n"
     ]
    },
    {
     "name": "stderr",
     "output_type": "stream",
     "text": [
      "W0622 23:59:14.269074  5744 callbacks.py:241] Method (on_train_batch_end) is slow compared to the batch update (0.369538). Check your callbacks.\n"
     ]
    },
    {
     "name": "stdout",
     "output_type": "stream",
     "text": [
      " 10/468 [..............................] - ETA: 12:21 - loss: 0.9067 - accuracy: 0.5426\n",
      "Epoch 00001: saving model to training_10_4/cp-0001.ckpt\n"
     ]
    },
    {
     "name": "stderr",
     "output_type": "stream",
     "text": [
      "W0622 23:59:14.630792  5744 callbacks.py:241] Method (on_train_batch_end) is slow compared to the batch update (0.337277). Check your callbacks.\n"
     ]
    },
    {
     "name": "stdout",
     "output_type": "stream",
     "text": [
      " 11/468 [..............................] - ETA: 11:27 - loss: 0.8499 - accuracy: 0.5597\n",
      "Epoch 00001: saving model to training_10_4/cp-0001.ckpt\n"
     ]
    },
    {
     "name": "stderr",
     "output_type": "stream",
     "text": [
      "W0622 23:59:14.851735  5744 callbacks.py:241] Method (on_train_batch_end) is slow compared to the batch update (0.330434). Check your callbacks.\n"
     ]
    },
    {
     "name": "stdout",
     "output_type": "stream",
     "text": [
      " 12/468 [..............................] - ETA: 10:37 - loss: 0.8184 - accuracy: 0.5750\n",
      "Epoch 00001: saving model to training_10_4/cp-0001.ckpt\n"
     ]
    },
    {
     "name": "stderr",
     "output_type": "stream",
     "text": [
      "W0622 23:59:15.305350  5744 callbacks.py:241] Method (on_train_batch_end) is slow compared to the batch update (0.357318). Check your callbacks.\n"
     ]
    },
    {
     "name": "stdout",
     "output_type": "stream",
     "text": [
      " 13/468 [..............................] - ETA: 10:02 - loss: 0.7920 - accuracy: 0.5886\n",
      "Epoch 00001: saving model to training_10_4/cp-0001.ckpt\n"
     ]
    },
    {
     "name": "stderr",
     "output_type": "stream",
     "text": [
      "W0622 23:59:15.832285  5744 callbacks.py:241] Method (on_train_batch_end) is slow compared to the batch update (0.381759). Check your callbacks.\n"
     ]
    },
    {
     "name": "stdout",
     "output_type": "stream",
     "text": [
      " 14/468 [..............................] - ETA: 9:35 - loss: 0.7751 - accuracy: 0.6009 \n",
      "Epoch 00001: saving model to training_10_4/cp-0001.ckpt\n"
     ]
    },
    {
     "name": "stderr",
     "output_type": "stream",
     "text": [
      "W0622 23:59:16.412991  5744 callbacks.py:241] Method (on_train_batch_end) is slow compared to the batch update (0.381759). Check your callbacks.\n"
     ]
    },
    {
     "name": "stdout",
     "output_type": "stream",
     "text": [
      " 15/468 [..............................] - ETA: 9:13 - loss: 0.7424 - accuracy: 0.6123\n",
      "Epoch 00001: saving model to training_10_4/cp-0001.ckpt\n"
     ]
    },
    {
     "name": "stderr",
     "output_type": "stream",
     "text": [
      "W0622 23:59:17.035732  5744 callbacks.py:241] Method (on_train_batch_end) is slow compared to the batch update (0.381759). Check your callbacks.\n"
     ]
    },
    {
     "name": "stdout",
     "output_type": "stream",
     "text": [
      " 16/468 [>.............................] - ETA: 8:55 - loss: 0.7133 - accuracy: 0.6227\n",
      "Epoch 00001: saving model to training_10_4/cp-0001.ckpt\n"
     ]
    },
    {
     "name": "stderr",
     "output_type": "stream",
     "text": [
      "W0622 23:59:17.262537  5744 callbacks.py:241] Method (on_train_batch_end) is slow compared to the batch update (0.357318). Check your callbacks.\n"
     ]
    },
    {
     "name": "stdout",
     "output_type": "stream",
     "text": [
      " 17/468 [>.............................] - ETA: 8:28 - loss: 0.6898 - accuracy: 0.6325\n",
      "Epoch 00001: saving model to training_10_4/cp-0001.ckpt\n"
     ]
    },
    {
     "name": "stderr",
     "output_type": "stream",
     "text": [
      "W0622 23:59:17.500098  5744 callbacks.py:241] Method (on_train_batch_end) is slow compared to the batch update (0.342655). Check your callbacks.\n"
     ]
    },
    {
     "name": "stdout",
     "output_type": "stream",
     "text": [
      " 18/468 [>.............................] - ETA: 8:05 - loss: 0.6716 - accuracy: 0.6414\n",
      "Epoch 00001: saving model to training_10_4/cp-0001.ckpt\n"
     ]
    },
    {
     "name": "stderr",
     "output_type": "stream",
     "text": [
      "W0622 23:59:17.768943  5744 callbacks.py:241] Method (on_train_batch_end) is slow compared to the batch update (0.304041). Check your callbacks.\n"
     ]
    },
    {
     "name": "stdout",
     "output_type": "stream",
     "text": [
      " 19/468 [>.............................] - ETA: 7:45 - loss: 0.6514 - accuracy: 0.6497\n",
      "Epoch 00001: saving model to training_10_4/cp-0001.ckpt\n"
     ]
    },
    {
     "name": "stderr",
     "output_type": "stream",
     "text": [
      "W0622 23:59:18.220603  5744 callbacks.py:241] Method (on_train_batch_end) is slow compared to the batch update (0.330925). Check your callbacks.\n"
     ]
    },
    {
     "name": "stdout",
     "output_type": "stream",
     "text": [
      " 20/468 [>.............................] - ETA: 7:31 - loss: 0.6316 - accuracy: 0.6574\n",
      "Epoch 00001: saving model to training_10_4/cp-0001.ckpt\n"
     ]
    },
    {
     "name": "stderr",
     "output_type": "stream",
     "text": [
      "W0622 23:59:18.683016  5744 callbacks.py:241] Method (on_train_batch_end) is slow compared to the batch update (0.346076). Check your callbacks.\n"
     ]
    },
    {
     "name": "stdout",
     "output_type": "stream",
     "text": [
      " 21/468 [>.............................] - ETA: 7:18 - loss: 0.6167 - accuracy: 0.6645\n",
      "Epoch 00001: saving model to training_10_4/cp-0001.ckpt\n"
     ]
    },
    {
     "name": "stderr",
     "output_type": "stream",
     "text": [
      "W0622 23:59:19.484661  5744 callbacks.py:241] Method (on_train_batch_end) is slow compared to the batch update (0.380783). Check your callbacks.\n"
     ]
    },
    {
     "name": "stdout",
     "output_type": "stream",
     "text": [
      " 22/468 [>.............................] - ETA: 7:13 - loss: 0.6001 - accuracy: 0.6713\n",
      "Epoch 00001: saving model to training_10_4/cp-0001.ckpt\n"
     ]
    },
    {
     "name": "stderr",
     "output_type": "stream",
     "text": [
      "W0622 23:59:20.099584  5744 callbacks.py:241] Method (on_train_batch_end) is slow compared to the batch update (0.396425). Check your callbacks.\n"
     ]
    },
    {
     "name": "stdout",
     "output_type": "stream",
     "text": [
      " 23/468 [>.............................] - ETA: 7:06 - loss: 0.5896 - accuracy: 0.6775\n",
      "Epoch 00001: saving model to training_10_4/cp-0001.ckpt\n"
     ]
    },
    {
     "name": "stderr",
     "output_type": "stream",
     "text": [
      "W0622 23:59:20.468144  5744 callbacks.py:241] Method (on_train_batch_end) is slow compared to the batch update (0.357319). Check your callbacks.\n"
     ]
    },
    {
     "name": "stdout",
     "output_type": "stream",
     "text": [
      " 24/468 [>.............................] - ETA: 6:54 - loss: 0.5760 - accuracy: 0.6835\n",
      "Epoch 00001: saving model to training_10_4/cp-0001.ckpt\n"
     ]
    },
    {
     "name": "stderr",
     "output_type": "stream",
     "text": [
      "W0622 23:59:20.990191  5744 callbacks.py:241] Method (on_train_batch_end) is slow compared to the batch update (0.357319). Check your callbacks.\n"
     ]
    },
    {
     "name": "stdout",
     "output_type": "stream",
     "text": [
      " 25/468 [>.............................] - ETA: 6:45 - loss: 0.5633 - accuracy: 0.6890\n",
      "Epoch 00001: saving model to training_10_4/cp-0001.ckpt\n"
     ]
    },
    {
     "name": "stderr",
     "output_type": "stream",
     "text": [
      "W0622 23:59:21.252193  5744 callbacks.py:241] Method (on_train_batch_end) is slow compared to the batch update (0.284486). Check your callbacks.\n"
     ]
    },
    {
     "name": "stdout",
     "output_type": "stream",
     "text": [
      " 26/468 [>.............................] - ETA: 6:33 - loss: 0.5513 - accuracy: 0.6943\n",
      "Epoch 00001: saving model to training_10_4/cp-0001.ckpt\n"
     ]
    },
    {
     "name": "stderr",
     "output_type": "stream",
     "text": [
      "W0622 23:59:21.852451  5744 callbacks.py:241] Method (on_train_batch_end) is slow compared to the batch update (0.357319). Check your callbacks.\n"
     ]
    },
    {
     "name": "stdout",
     "output_type": "stream",
     "text": [
      " 27/468 [>.............................] - ETA: 6:28 - loss: 0.5379 - accuracy: 0.6994\n",
      "Epoch 00001: saving model to training_10_4/cp-0001.ckpt\n"
     ]
    },
    {
     "name": "stderr",
     "output_type": "stream",
     "text": [
      "W0622 23:59:22.630634  5744 callbacks.py:241] Method (on_train_batch_end) is slow compared to the batch update (0.403757). Check your callbacks.\n"
     ]
    },
    {
     "name": "stdout",
     "output_type": "stream",
     "text": [
      " 28/468 [>.............................] - ETA: 6:25 - loss: 0.5303 - accuracy: 0.7041\n",
      "Epoch 00001: saving model to training_10_4/cp-0001.ckpt\n"
     ]
    },
    {
     "name": "stderr",
     "output_type": "stream",
     "text": [
      "W0622 23:59:23.478228  5744 callbacks.py:241] Method (on_train_batch_end) is slow compared to the batch update (0.435040). Check your callbacks.\n"
     ]
    },
    {
     "name": "stdout",
     "output_type": "stream",
     "text": [
      " 29/468 [>.............................] - ETA: 6:24 - loss: 0.5195 - accuracy: 0.7087\n",
      "Epoch 00001: saving model to training_10_4/cp-0001.ckpt\n"
     ]
    },
    {
     "name": "stderr",
     "output_type": "stream",
     "text": [
      "W0622 23:59:24.012014  5744 callbacks.py:241] Method (on_train_batch_end) is slow compared to the batch update (0.435040). Check your callbacks.\n"
     ]
    },
    {
     "name": "stdout",
     "output_type": "stream",
     "text": [
      " 30/468 [>.............................] - ETA: 6:18 - loss: 0.5108 - accuracy: 0.7130\n",
      "Epoch 00001: saving model to training_10_4/cp-0001.ckpt\n"
     ]
    },
    {
     "name": "stderr",
     "output_type": "stream",
     "text": [
      "W0622 23:59:24.534053  5744 callbacks.py:241] Method (on_train_batch_end) is slow compared to the batch update (0.435040). Check your callbacks.\n"
     ]
    },
    {
     "name": "stdout",
     "output_type": "stream",
     "text": [
      " 31/468 [>.............................] - ETA: 6:12 - loss: 0.5013 - accuracy: 0.7171\n",
      "Epoch 00001: saving model to training_10_4/cp-0001.ckpt\n"
     ]
    },
    {
     "name": "stderr",
     "output_type": "stream",
     "text": [
      "W0622 23:59:25.308325  5744 callbacks.py:241] Method (on_train_batch_end) is slow compared to the batch update (0.435040). Check your callbacks.\n"
     ]
    },
    {
     "name": "stdout",
     "output_type": "stream",
     "text": [
      " 32/468 [=>............................] - ETA: 6:10 - loss: 0.4928 - accuracy: 0.7210\n",
      "Epoch 00001: saving model to training_10_4/cp-0001.ckpt\n"
     ]
    },
    {
     "name": "stderr",
     "output_type": "stream",
     "text": [
      "W0622 23:59:25.590855  5744 callbacks.py:241] Method (on_train_batch_end) is slow compared to the batch update (0.427218). Check your callbacks.\n"
     ]
    },
    {
     "name": "stdout",
     "output_type": "stream",
     "text": [
      " 33/468 [=>............................] - ETA: 6:02 - loss: 0.4852 - accuracy: 0.7248\n",
      "Epoch 00001: saving model to training_10_4/cp-0001.ckpt\n"
     ]
    },
    {
     "name": "stderr",
     "output_type": "stream",
     "text": [
      "W0622 23:59:26.138322  5744 callbacks.py:241] Method (on_train_batch_end) is slow compared to the batch update (0.459969). Check your callbacks.\n"
     ]
    },
    {
     "name": "stdout",
     "output_type": "stream",
     "text": [
      " 34/468 [=>............................] - ETA: 5:58 - loss: 0.4762 - accuracy: 0.7285\n",
      "Epoch 00001: saving model to training_10_4/cp-0001.ckpt\n"
     ]
    },
    {
     "name": "stderr",
     "output_type": "stream",
     "text": [
      "W0622 23:59:26.745426  5744 callbacks.py:241] Method (on_train_batch_end) is slow compared to the batch update (0.481479). Check your callbacks.\n"
     ]
    },
    {
     "name": "stdout",
     "output_type": "stream",
     "text": [
      " 35/468 [=>............................] - ETA: 5:54 - loss: 0.4706 - accuracy: 0.7320\n",
      "Epoch 00001: saving model to training_10_4/cp-0001.ckpt\n"
     ]
    },
    {
     "name": "stderr",
     "output_type": "stream",
     "text": [
      "W0622 23:59:27.832531  5744 callbacks.py:241] Method (on_train_batch_end) is slow compared to the batch update (0.520584). Check your callbacks.\n"
     ]
    },
    {
     "name": "stdout",
     "output_type": "stream",
     "text": [
      " 36/468 [=>............................] - ETA: 5:57 - loss: 0.4629 - accuracy: 0.7353\n",
      "Epoch 00001: saving model to training_10_4/cp-0001.ckpt\n"
     ]
    },
    {
     "name": "stderr",
     "output_type": "stream",
     "text": [
      "W0622 23:59:28.078891  5744 callbacks.py:241] Method (on_train_batch_end) is slow compared to the batch update (0.481479). Check your callbacks.\n"
     ]
    },
    {
     "name": "stdout",
     "output_type": "stream",
     "text": [
      " 37/468 [=>............................] - ETA: 5:49 - loss: 0.4546 - accuracy: 0.7386\n",
      "Epoch 00001: saving model to training_10_4/cp-0001.ckpt\n"
     ]
    },
    {
     "name": "stderr",
     "output_type": "stream",
     "text": [
      "W0622 23:59:28.382931  5744 callbacks.py:241] Method (on_train_batch_end) is slow compared to the batch update (0.432596). Check your callbacks.\n"
     ]
    },
    {
     "name": "stdout",
     "output_type": "stream",
     "text": [
      " 38/468 [=>............................] - ETA: 5:42 - loss: 0.4488 - accuracy: 0.7418\n",
      "Epoch 00001: saving model to training_10_4/cp-0001.ckpt\n"
     ]
    },
    {
     "name": "stderr",
     "output_type": "stream",
     "text": [
      "W0622 23:59:28.628311  5744 callbacks.py:241] Method (on_train_batch_end) is slow compared to the batch update (0.394958). Check your callbacks.\n"
     ]
    },
    {
     "name": "stdout",
     "output_type": "stream",
     "text": [
      " 39/468 [=>............................] - ETA: 5:36 - loss: 0.4447 - accuracy: 0.7448\n",
      "Epoch 00001: saving model to training_10_4/cp-0001.ckpt\n"
     ]
    },
    {
     "name": "stderr",
     "output_type": "stream",
     "text": [
      "W0622 23:59:29.297005  5744 callbacks.py:241] Method (on_train_batch_end) is slow compared to the batch update (0.427709). Check your callbacks.\n"
     ]
    },
    {
     "name": "stdout",
     "output_type": "stream",
     "text": [
      " 40/468 [=>............................] - ETA: 5:34 - loss: 0.4403 - accuracy: 0.7477\n",
      "Epoch 00001: saving model to training_10_4/cp-0001.ckpt\n"
     ]
    },
    {
     "name": "stderr",
     "output_type": "stream",
     "text": [
      "W0622 23:59:30.477963  5744 callbacks.py:241] Method (on_train_batch_end) is slow compared to the batch update (0.481479). Check your callbacks.\n"
     ]
    },
    {
     "name": "stdout",
     "output_type": "stream",
     "text": [
      " 41/468 [=>............................] - ETA: 5:37 - loss: 0.4343 - accuracy: 0.7504\n",
      "Epoch 00001: saving model to training_10_4/cp-0001.ckpt\n"
     ]
    },
    {
     "name": "stderr",
     "output_type": "stream",
     "text": [
      "W0622 23:59:31.370529  5744 callbacks.py:241] Method (on_train_batch_end) is slow compared to the batch update (0.481479). Check your callbacks.\n"
     ]
    },
    {
     "name": "stdout",
     "output_type": "stream",
     "text": [
      " 42/468 [=>............................] - ETA: 5:37 - loss: 0.4295 - accuracy: 0.7531\n",
      "Epoch 00001: saving model to training_10_4/cp-0001.ckpt\n"
     ]
    },
    {
     "name": "stderr",
     "output_type": "stream",
     "text": [
      "W0622 23:59:32.191726  5744 callbacks.py:241] Method (on_train_batch_end) is slow compared to the batch update (0.546002). Check your callbacks.\n"
     ]
    },
    {
     "name": "stdout",
     "output_type": "stream",
     "text": [
      " 43/468 [=>............................] - ETA: 5:37 - loss: 0.4266 - accuracy: 0.7557\n",
      "Epoch 00001: saving model to training_10_4/cp-0001.ckpt\n"
     ]
    },
    {
     "name": "stderr",
     "output_type": "stream",
     "text": [
      "W0622 23:59:32.856506  5744 callbacks.py:241] Method (on_train_batch_end) is slow compared to the batch update (0.570929). Check your callbacks.\n"
     ]
    },
    {
     "name": "stdout",
     "output_type": "stream",
     "text": [
      " 44/468 [=>............................] - ETA: 5:35 - loss: 0.4204 - accuracy: 0.7582\n",
      "Epoch 00001: saving model to training_10_4/cp-0001.ckpt\n"
     ]
    },
    {
     "name": "stderr",
     "output_type": "stream",
     "text": [
      "W0622 23:59:33.662062  5744 callbacks.py:241] Method (on_train_batch_end) is slow compared to the batch update (0.599280). Check your callbacks.\n"
     ]
    },
    {
     "name": "stdout",
     "output_type": "stream",
     "text": [
      " 45/468 [=>............................] - ETA: 5:34 - loss: 0.4164 - accuracy: 0.7607\n",
      "Epoch 00001: saving model to training_10_4/cp-0001.ckpt\n"
     ]
    },
    {
     "name": "stderr",
     "output_type": "stream",
     "text": [
      "W0622 23:59:34.233969  5744 callbacks.py:241] Method (on_train_batch_end) is slow compared to the batch update (0.570929). Check your callbacks.\n"
     ]
    },
    {
     "name": "stdout",
     "output_type": "stream",
     "text": [
      " 46/468 [=>............................] - ETA: 5:31 - loss: 0.4125 - accuracy: 0.7630\n",
      "Epoch 00001: saving model to training_10_4/cp-0001.ckpt\n"
     ]
    },
    {
     "name": "stderr",
     "output_type": "stream",
     "text": [
      "W0622 23:59:34.716911  5744 callbacks.py:241] Method (on_train_batch_end) is slow compared to the batch update (0.570929). Check your callbacks.\n"
     ]
    },
    {
     "name": "stdout",
     "output_type": "stream",
     "text": [
      " 47/468 [==>...........................] - ETA: 5:28 - loss: 0.4102 - accuracy: 0.7653\n",
      "Epoch 00001: saving model to training_10_4/cp-0001.ckpt\n"
     ]
    },
    {
     "name": "stderr",
     "output_type": "stream",
     "text": [
      "W0622 23:59:35.649558  5744 callbacks.py:241] Method (on_train_batch_end) is slow compared to the batch update (0.599280). Check your callbacks.\n"
     ]
    },
    {
     "name": "stdout",
     "output_type": "stream",
     "text": [
      " 48/468 [==>...........................] - ETA: 5:28 - loss: 0.4056 - accuracy: 0.7675\n",
      "Epoch 00001: saving model to training_10_4/cp-0001.ckpt\n"
     ]
    },
    {
     "name": "stderr",
     "output_type": "stream",
     "text": [
      "W0622 23:59:36.455113  5744 callbacks.py:241] Method (on_train_batch_end) is slow compared to the batch update (0.637894). Check your callbacks.\n"
     ]
    },
    {
     "name": "stdout",
     "output_type": "stream",
     "text": [
      " 49/468 [==>...........................] - ETA: 5:28 - loss: 0.4024 - accuracy: 0.7697\n",
      "Epoch 00001: saving model to training_10_4/cp-0001.ckpt\n"
     ]
    },
    {
     "name": "stderr",
     "output_type": "stream",
     "text": [
      "W0622 23:59:37.101318  5744 callbacks.py:241] Method (on_train_batch_end) is slow compared to the batch update (0.633006). Check your callbacks.\n"
     ]
    },
    {
     "name": "stdout",
     "output_type": "stream",
     "text": [
      " 50/468 [==>...........................] - ETA: 5:26 - loss: 0.3976 - accuracy: 0.7718\n",
      "Epoch 00001: saving model to training_10_4/cp-0001.ckpt\n"
     ]
    },
    {
     "name": "stderr",
     "output_type": "stream",
     "text": [
      "W0622 23:59:37.802270  5744 callbacks.py:241] Method (on_train_batch_end) is slow compared to the batch update (0.570929). Check your callbacks.\n"
     ]
    },
    {
     "name": "stdout",
     "output_type": "stream",
     "text": [
      " 51/468 [==>...........................] - ETA: 5:24 - loss: 0.3947 - accuracy: 0.7738\n",
      "Epoch 00001: saving model to training_10_4/cp-0001.ckpt\n"
     ]
    },
    {
     "name": "stderr",
     "output_type": "stream",
     "text": [
      "W0622 23:59:38.609785  5744 callbacks.py:241] Method (on_train_batch_end) is slow compared to the batch update (0.568975). Check your callbacks.\n"
     ]
    },
    {
     "name": "stdout",
     "output_type": "stream",
     "text": [
      " 52/468 [==>...........................] - ETA: 5:24 - loss: 0.3909 - accuracy: 0.7758\n",
      "Epoch 00001: saving model to training_10_4/cp-0001.ckpt\n"
     ]
    },
    {
     "name": "stderr",
     "output_type": "stream",
     "text": [
      "W0622 23:59:39.263813  5744 callbacks.py:241] Method (on_train_batch_end) is slow compared to the batch update (0.537200). Check your callbacks.\n"
     ]
    },
    {
     "name": "stdout",
     "output_type": "stream",
     "text": [
      " 53/468 [==>...........................] - ETA: 5:22 - loss: 0.3870 - accuracy: 0.7777\n",
      "Epoch 00001: saving model to training_10_4/cp-0001.ckpt\n"
     ]
    },
    {
     "name": "stderr",
     "output_type": "stream",
     "text": [
      "W0622 23:59:39.766304  5744 callbacks.py:241] Method (on_train_batch_end) is slow compared to the batch update (0.511293). Check your callbacks.\n"
     ]
    },
    {
     "name": "stdout",
     "output_type": "stream",
     "text": [
      " 54/468 [==>...........................] - ETA: 5:19 - loss: 0.3847 - accuracy: 0.7796\n",
      "Epoch 00001: saving model to training_10_4/cp-0001.ckpt\n"
     ]
    },
    {
     "name": "stderr",
     "output_type": "stream",
     "text": [
      "W0622 23:59:40.283463  5744 callbacks.py:241] Method (on_train_batch_end) is slow compared to the batch update (0.488319). Check your callbacks.\n"
     ]
    },
    {
     "name": "stdout",
     "output_type": "stream",
     "text": [
      " 55/468 [==>...........................] - ETA: 5:16 - loss: 0.3820 - accuracy: 0.7814\n",
      "Epoch 00001: saving model to training_10_4/cp-0001.ckpt\n"
     ]
    },
    {
     "name": "stderr",
     "output_type": "stream",
     "text": [
      "W0622 23:59:40.853412  5744 callbacks.py:241] Method (on_train_batch_end) is slow compared to the batch update (0.488319). Check your callbacks.\n"
     ]
    },
    {
     "name": "stdout",
     "output_type": "stream",
     "text": [
      " 56/468 [==>...........................] - ETA: 5:14 - loss: 0.3771 - accuracy: 0.7832\n",
      "Epoch 00001: saving model to training_10_4/cp-0001.ckpt\n"
     ]
    },
    {
     "name": "stderr",
     "output_type": "stream",
     "text": [
      "W0622 23:59:41.288453  5744 callbacks.py:241] Method (on_train_batch_end) is slow compared to the batch update (0.488319). Check your callbacks.\n"
     ]
    },
    {
     "name": "stdout",
     "output_type": "stream",
     "text": [
      " 57/468 [==>...........................] - ETA: 5:11 - loss: 0.3765 - accuracy: 0.7849\n",
      "Epoch 00001: saving model to training_10_4/cp-0001.ckpt\n"
     ]
    },
    {
     "name": "stderr",
     "output_type": "stream",
     "text": [
      "W0622 23:59:41.904352  5744 callbacks.py:241] Method (on_train_batch_end) is slow compared to the batch update (0.488319). Check your callbacks.\n"
     ]
    },
    {
     "name": "stdout",
     "output_type": "stream",
     "text": [
      " 58/468 [==>...........................] - ETA: 5:09 - loss: 0.3760 - accuracy: 0.7866\n",
      "Epoch 00001: saving model to training_10_4/cp-0001.ckpt\n"
     ]
    },
    {
     "name": "stderr",
     "output_type": "stream",
     "text": [
      "W0622 23:59:42.418578  5744 callbacks.py:241] Method (on_train_batch_end) is slow compared to the batch update (0.456058). Check your callbacks.\n"
     ]
    },
    {
     "name": "stdout",
     "output_type": "stream",
     "text": [
      " 59/468 [==>...........................] - ETA: 5:07 - loss: 0.3724 - accuracy: 0.7882\n",
      "Epoch 00001: saving model to training_10_4/cp-0001.ckpt\n"
     ]
    },
    {
     "name": "stderr",
     "output_type": "stream",
     "text": [
      "W0622 23:59:43.225111  5744 callbacks.py:241] Method (on_train_batch_end) is slow compared to the batch update (0.463390). Check your callbacks.\n"
     ]
    },
    {
     "name": "stdout",
     "output_type": "stream",
     "text": [
      " 60/468 [==>...........................] - ETA: 5:07 - loss: 0.3699 - accuracy: 0.7898\n",
      "Epoch 00001: saving model to training_10_4/cp-0001.ckpt\n"
     ]
    },
    {
     "name": "stderr",
     "output_type": "stream",
     "text": [
      "W0622 23:59:43.921174  5744 callbacks.py:241] Method (on_train_batch_end) is slow compared to the batch update (0.475610). Check your callbacks.\n"
     ]
    },
    {
     "name": "stdout",
     "output_type": "stream",
     "text": [
      " 61/468 [==>...........................] - ETA: 5:05 - loss: 0.3694 - accuracy: 0.7914\n",
      "Epoch 00001: saving model to training_10_4/cp-0001.ckpt\n"
     ]
    },
    {
     "name": "stderr",
     "output_type": "stream",
     "text": [
      "W0622 23:59:44.604529  5744 callbacks.py:241] Method (on_train_batch_end) is slow compared to the batch update (0.475610). Check your callbacks.\n"
     ]
    },
    {
     "name": "stdout",
     "output_type": "stream",
     "text": [
      " 62/468 [==>...........................] - ETA: 5:04 - loss: 0.3684 - accuracy: 0.7929\n",
      "Epoch 00001: saving model to training_10_4/cp-0001.ckpt\n"
     ]
    },
    {
     "name": "stderr",
     "output_type": "stream",
     "text": [
      "W0622 23:59:45.248779  5744 callbacks.py:241] Method (on_train_batch_end) is slow compared to the batch update (0.475610). Check your callbacks.\n"
     ]
    },
    {
     "name": "stdout",
     "output_type": "stream",
     "text": [
      " 63/468 [===>..........................] - ETA: 5:03 - loss: 0.3661 - accuracy: 0.7943\n",
      "Epoch 00001: saving model to training_10_4/cp-0001.ckpt\n"
     ]
    },
    {
     "name": "stderr",
     "output_type": "stream",
     "text": [
      "W0622 23:59:45.771805  5744 callbacks.py:241] Method (on_train_batch_end) is slow compared to the batch update (0.475610). Check your callbacks.\n"
     ]
    },
    {
     "name": "stdout",
     "output_type": "stream",
     "text": [
      " 64/468 [===>..........................] - ETA: 5:01 - loss: 0.3645 - accuracy: 0.7958\n",
      "Epoch 00001: saving model to training_10_4/cp-0001.ckpt\n"
     ]
    },
    {
     "name": "stderr",
     "output_type": "stream",
     "text": [
      "W0622 23:59:46.347620  5744 callbacks.py:241] Method (on_train_batch_end) is slow compared to the batch update (0.480987). Check your callbacks.\n"
     ]
    },
    {
     "name": "stdout",
     "output_type": "stream",
     "text": [
      " 65/468 [===>..........................] - ETA: 4:59 - loss: 0.3636 - accuracy: 0.7972\n",
      "Epoch 00001: saving model to training_10_4/cp-0001.ckpt\n"
     ]
    },
    {
     "name": "stderr",
     "output_type": "stream",
     "text": [
      "W0622 23:59:46.828608  5744 callbacks.py:241] Method (on_train_batch_end) is slow compared to the batch update (0.480987). Check your callbacks.\n"
     ]
    },
    {
     "name": "stdout",
     "output_type": "stream",
     "text": [
      " 66/468 [===>..........................] - ETA: 4:56 - loss: 0.3612 - accuracy: 0.7985\n",
      "Epoch 00001: saving model to training_10_4/cp-0001.ckpt\n"
     ]
    },
    {
     "name": "stderr",
     "output_type": "stream",
     "text": [
      "W0622 23:59:47.561820  5744 callbacks.py:241] Method (on_train_batch_end) is slow compared to the batch update (0.531822). Check your callbacks.\n"
     ]
    },
    {
     "name": "stdout",
     "output_type": "stream",
     "text": [
      " 67/468 [===>..........................] - ETA: 4:56 - loss: 0.3585 - accuracy: 0.7998\n",
      "Epoch 00001: saving model to training_10_4/cp-0001.ckpt\n"
     ]
    },
    {
     "name": "stderr",
     "output_type": "stream",
     "text": [
      "W0622 23:59:48.111242  5744 callbacks.py:241] Method (on_train_batch_end) is slow compared to the batch update (0.495650). Check your callbacks.\n"
     ]
    },
    {
     "name": "stdout",
     "output_type": "stream",
     "text": [
      " 68/468 [===>..........................] - ETA: 4:54 - loss: 0.3564 - accuracy: 0.8012\n",
      "Epoch 00001: saving model to training_10_4/cp-0001.ckpt\n"
     ]
    },
    {
     "name": "stderr",
     "output_type": "stream",
     "text": [
      "W0622 23:59:48.585386  5744 callbacks.py:241] Method (on_train_batch_end) is slow compared to the batch update (0.495650). Check your callbacks.\n"
     ]
    },
    {
     "name": "stdout",
     "output_type": "stream",
     "text": [
      " 69/468 [===>..........................] - ETA: 4:52 - loss: 0.3540 - accuracy: 0.8024\n",
      "Epoch 00001: saving model to training_10_4/cp-0001.ckpt\n"
     ]
    },
    {
     "name": "stderr",
     "output_type": "stream",
     "text": [
      "W0622 23:59:49.334239  5744 callbacks.py:241] Method (on_train_batch_end) is slow compared to the batch update (0.495650). Check your callbacks.\n"
     ]
    },
    {
     "name": "stdout",
     "output_type": "stream",
     "text": [
      " 70/468 [===>..........................] - ETA: 4:51 - loss: 0.3513 - accuracy: 0.8037\n",
      "Epoch 00001: saving model to training_10_4/cp-0001.ckpt\n"
     ]
    },
    {
     "name": "stderr",
     "output_type": "stream",
     "text": [
      "W0622 23:59:49.930586  5744 callbacks.py:241] Method (on_train_batch_end) is slow compared to the batch update (0.470233). Check your callbacks.\n"
     ]
    },
    {
     "name": "stdout",
     "output_type": "stream",
     "text": [
      " 71/468 [===>..........................] - ETA: 4:49 - loss: 0.3518 - accuracy: 0.8049\n",
      "Epoch 00001: saving model to training_10_4/cp-0001.ckpt\n"
     ]
    },
    {
     "name": "stderr",
     "output_type": "stream",
     "text": [
      "W0622 23:59:50.414506  5744 callbacks.py:241] Method (on_train_batch_end) is slow compared to the batch update (0.444815). Check your callbacks.\n"
     ]
    },
    {
     "name": "stdout",
     "output_type": "stream",
     "text": [
      " 72/468 [===>..........................] - ETA: 4:47 - loss: 0.3496 - accuracy: 0.8061\n",
      "Epoch 00001: saving model to training_10_4/cp-0001.ckpt\n"
     ]
    },
    {
     "name": "stderr",
     "output_type": "stream",
     "text": [
      "W0622 23:59:50.865189  5744 callbacks.py:241] Method (on_train_batch_end) is slow compared to the batch update (0.412554). Check your callbacks.\n"
     ]
    },
    {
     "name": "stdout",
     "output_type": "stream",
     "text": [
      " 73/468 [===>..........................] - ETA: 4:45 - loss: 0.3468 - accuracy: 0.8073\n",
      "Epoch 00001: saving model to training_10_4/cp-0001.ckpt\n"
     ]
    },
    {
     "name": "stderr",
     "output_type": "stream",
     "text": [
      "W0622 23:59:51.303160  5744 callbacks.py:241] Method (on_train_batch_end) is slow compared to the batch update (0.412554). Check your callbacks.\n"
     ]
    },
    {
     "name": "stdout",
     "output_type": "stream",
     "text": [
      " 74/468 [===>..........................] - ETA: 4:43 - loss: 0.3455 - accuracy: 0.8084\n",
      "Epoch 00001: saving model to training_10_4/cp-0001.ckpt\n"
     ]
    },
    {
     "name": "stderr",
     "output_type": "stream",
     "text": [
      "W0622 23:59:51.915148  5744 callbacks.py:241] Method (on_train_batch_end) is slow compared to the batch update (0.415487). Check your callbacks.\n"
     ]
    },
    {
     "name": "stdout",
     "output_type": "stream",
     "text": [
      " 75/468 [===>..........................] - ETA: 4:42 - loss: 0.3438 - accuracy: 0.8095\n",
      "Epoch 00001: saving model to training_10_4/cp-0001.ckpt\n"
     ]
    },
    {
     "name": "stderr",
     "output_type": "stream",
     "text": [
      "W0622 23:59:52.458704  5744 callbacks.py:241] Method (on_train_batch_end) is slow compared to the batch update (0.448726). Check your callbacks.\n"
     ]
    },
    {
     "name": "stdout",
     "output_type": "stream",
     "text": [
      " 76/468 [===>..........................] - ETA: 4:40 - loss: 0.3411 - accuracy: 0.8106\n",
      "Epoch 00001: saving model to training_10_4/cp-0001.ckpt\n"
     ]
    },
    {
     "name": "stderr",
     "output_type": "stream",
     "text": [
      "W0622 23:59:52.932737  5744 callbacks.py:241] Method (on_train_batch_end) is slow compared to the batch update (0.415487). Check your callbacks.\n"
     ]
    },
    {
     "name": "stdout",
     "output_type": "stream",
     "text": [
      " 77/468 [===>..........................] - ETA: 4:38 - loss: 0.3382 - accuracy: 0.8117\n",
      "Epoch 00001: saving model to training_10_4/cp-0001.ckpt\n"
     ]
    },
    {
     "name": "stderr",
     "output_type": "stream",
     "text": [
      "W0622 23:59:53.494164  5744 callbacks.py:241] Method (on_train_batch_end) is slow compared to the batch update (0.416466). Check your callbacks.\n"
     ]
    },
    {
     "name": "stdout",
     "output_type": "stream",
     "text": [
      " 78/468 [====>.........................] - ETA: 4:37 - loss: 0.3382 - accuracy: 0.8127\n",
      "Epoch 00001: saving model to training_10_4/cp-0001.ckpt\n"
     ]
    },
    {
     "name": "stderr",
     "output_type": "stream",
     "text": [
      "W0622 23:59:54.119838  5744 callbacks.py:241] Method (on_train_batch_end) is slow compared to the batch update (0.458696). Check your callbacks.\n"
     ]
    },
    {
     "name": "stdout",
     "output_type": "stream",
     "text": [
      " 79/468 [====>.........................] - ETA: 4:35 - loss: 0.3364 - accuracy: 0.8138\n",
      "Epoch 00001: saving model to training_10_4/cp-0001.ckpt\n"
     ]
    },
    {
     "name": "stderr",
     "output_type": "stream",
     "text": [
      "W0622 23:59:54.679035  5744 callbacks.py:241] Method (on_train_batch_end) is slow compared to the batch update (0.439442). Check your callbacks.\n"
     ]
    },
    {
     "name": "stdout",
     "output_type": "stream",
     "text": [
      " 80/468 [====>.........................] - ETA: 4:34 - loss: 0.3339 - accuracy: 0.8148\n",
      "Epoch 00001: saving model to training_10_4/cp-0001.ckpt\n"
     ]
    },
    {
     "name": "stderr",
     "output_type": "stream",
     "text": [
      "W0622 23:59:55.181529  5744 callbacks.py:241] Method (on_train_batch_end) is slow compared to the batch update (0.410602). Check your callbacks.\n"
     ]
    },
    {
     "name": "stdout",
     "output_type": "stream",
     "text": [
      " 81/468 [====>.........................] - ETA: 4:32 - loss: 0.3317 - accuracy: 0.8158\n",
      "Epoch 00001: saving model to training_10_4/cp-0001.ckpt\n"
     ]
    },
    {
     "name": "stderr",
     "output_type": "stream",
     "text": [
      "W0622 23:59:55.720195  5744 callbacks.py:241] Method (on_train_batch_end) is slow compared to the batch update (0.413533). Check your callbacks.\n"
     ]
    },
    {
     "name": "stdout",
     "output_type": "stream",
     "text": [
      "\b\b\b\b\b\b\b\b\b\b\b\b\b\b\b\b\b\b\b\b\b\b\b\b\b\b\b\b\b\b\b\b\b\b\b\b\b\b\b\b\b\b\b\b\b\b\b\b\b\b\b\b\b\b\b\b\b\b\b\b\b\b\b\b\b\b\b\b\b\b\b\b\b\b\b\b\b\b\b\b\b\b\b\b\b\b\r",
      " 82/468 [====>.........................] - ETA: 4:31 - loss: 0.3301 - accuracy: 0.8168"
     ]
    },
    {
     "name": "stderr",
     "output_type": "stream",
     "text": [
      "W0622 23:59:55.926472  5744 callbacks.py:241] Method (on_train_batch_end) is slow compared to the batch update (0.413533). Check your callbacks.\n"
     ]
    },
    {
     "name": "stdout",
     "output_type": "stream",
     "text": [
      "\n",
      "Epoch 00001: saving model to training_10_4/cp-0001.ckpt\n",
      " 83/468 [====>.........................] - ETA: 4:28 - loss: 0.3285 - accuracy: 0.8177\n",
      "Epoch 00001: saving model to training_10_4/cp-0001.ckpt\n"
     ]
    },
    {
     "name": "stderr",
     "output_type": "stream",
     "text": [
      "W0622 23:59:56.327298  5744 callbacks.py:241] Method (on_train_batch_end) is slow compared to the batch update (0.413533). Check your callbacks.\n"
     ]
    },
    {
     "name": "stdout",
     "output_type": "stream",
     "text": [
      " 84/468 [====>.........................] - ETA: 4:26 - loss: 0.3275 - accuracy: 0.8187\n",
      "Epoch 00001: saving model to training_10_4/cp-0001.ckpt\n"
     ]
    },
    {
     "name": "stderr",
     "output_type": "stream",
     "text": [
      "W0622 23:59:56.975457  5744 callbacks.py:241] Method (on_train_batch_end) is slow compared to the batch update (0.413533). Check your callbacks.\n"
     ]
    },
    {
     "name": "stdout",
     "output_type": "stream",
     "text": [
      " 85/468 [====>.........................] - ETA: 4:25 - loss: 0.3270 - accuracy: 0.8196\n",
      "Epoch 00001: saving model to training_10_4/cp-0001.ckpt\n"
     ]
    },
    {
     "name": "stderr",
     "output_type": "stream",
     "text": [
      "W0622 23:59:57.696936  5744 callbacks.py:241] Method (on_train_batch_end) is slow compared to the batch update (0.413533). Check your callbacks.\n"
     ]
    },
    {
     "name": "stdout",
     "output_type": "stream",
     "text": [
      " 86/468 [====>.........................] - ETA: 4:24 - loss: 0.3240 - accuracy: 0.8205\n",
      "Epoch 00001: saving model to training_10_4/cp-0001.ckpt\n"
     ]
    },
    {
     "name": "stderr",
     "output_type": "stream",
     "text": [
      "W0622 23:59:58.159351  5744 callbacks.py:241] Method (on_train_batch_end) is slow compared to the batch update (0.413533). Check your callbacks.\n"
     ]
    },
    {
     "name": "stdout",
     "output_type": "stream",
     "text": [
      " 87/468 [====>.........................] - ETA: 4:23 - loss: 0.3220 - accuracy: 0.8214\n",
      "Epoch 00001: saving model to training_10_4/cp-0001.ckpt\n"
     ]
    },
    {
     "name": "stderr",
     "output_type": "stream",
     "text": [
      "W0622 23:59:59.514328  5744 callbacks.py:241] Method (on_train_batch_end) is slow compared to the batch update (0.413533). Check your callbacks.\n"
     ]
    },
    {
     "name": "stdout",
     "output_type": "stream",
     "text": [
      " 88/468 [====>.........................] - ETA: 4:25 - loss: 0.3215 - accuracy: 0.8223\n",
      "Epoch 00001: saving model to training_10_4/cp-0001.ckpt\n"
     ]
    },
    {
     "name": "stderr",
     "output_type": "stream",
     "text": [
      "W0622 23:59:59.893641  5744 callbacks.py:241] Method (on_train_batch_end) is slow compared to the batch update (0.394957). Check your callbacks.\n"
     ]
    },
    {
     "name": "stdout",
     "output_type": "stream",
     "text": [
      " 89/468 [====>.........................] - ETA: 4:23 - loss: 0.3193 - accuracy: 0.8231\n",
      "Epoch 00001: saving model to training_10_4/cp-0001.ckpt\n"
     ]
    },
    {
     "name": "stderr",
     "output_type": "stream",
     "text": [
      "W0623 00:00:00.384406  5744 callbacks.py:241] Method (on_train_batch_end) is slow compared to the batch update (0.394957). Check your callbacks.\n"
     ]
    },
    {
     "name": "stdout",
     "output_type": "stream",
     "text": [
      " 90/468 [====>.........................] - ETA: 4:21 - loss: 0.3177 - accuracy: 0.8240\n",
      "Epoch 00001: saving model to training_10_4/cp-0001.ckpt\n"
     ]
    },
    {
     "name": "stderr",
     "output_type": "stream",
     "text": [
      "W0623 00:00:01.210494  5744 callbacks.py:241] Method (on_train_batch_end) is slow compared to the batch update (0.417930). Check your callbacks.\n"
     ]
    },
    {
     "name": "stdout",
     "output_type": "stream",
     "text": [
      " 91/468 [====>.........................] - ETA: 4:21 - loss: 0.3167 - accuracy: 0.8248\n",
      "Epoch 00001: saving model to training_10_4/cp-0001.ckpt\n"
     ]
    },
    {
     "name": "stderr",
     "output_type": "stream",
     "text": [
      "W0623 00:00:01.715922  5744 callbacks.py:241] Method (on_train_batch_end) is slow compared to the batch update (0.412066). Check your callbacks.\n"
     ]
    },
    {
     "name": "stdout",
     "output_type": "stream",
     "text": [
      " 92/468 [====>.........................] - ETA: 4:20 - loss: 0.3154 - accuracy: 0.8257\n",
      "Epoch 00001: saving model to training_10_4/cp-0001.ckpt\n"
     ]
    },
    {
     "name": "stderr",
     "output_type": "stream",
     "text": [
      "W0623 00:00:02.408074  5744 callbacks.py:241] Method (on_train_batch_end) is slow compared to the batch update (0.444817). Check your callbacks.\n"
     ]
    },
    {
     "name": "stdout",
     "output_type": "stream",
     "text": [
      " 93/468 [====>.........................] - ETA: 4:19 - loss: 0.3134 - accuracy: 0.8265\n",
      "Epoch 00001: saving model to training_10_4/cp-0001.ckpt\n"
     ]
    },
    {
     "name": "stderr",
     "output_type": "stream",
     "text": [
      "W0623 00:00:03.056233  5744 callbacks.py:241] Method (on_train_batch_end) is slow compared to the batch update (0.484899). Check your callbacks.\n"
     ]
    },
    {
     "name": "stdout",
     "output_type": "stream",
     "text": [
      " 94/468 [=====>........................] - ETA: 4:18 - loss: 0.3113 - accuracy: 0.8273\n",
      "Epoch 00001: saving model to training_10_4/cp-0001.ckpt\n"
     ]
    },
    {
     "name": "stderr",
     "output_type": "stream",
     "text": [
      "W0623 00:00:03.638893  5744 callbacks.py:241] Method (on_train_batch_end) is slow compared to the batch update (0.478055). Check your callbacks.\n"
     ]
    },
    {
     "name": "stdout",
     "output_type": "stream",
     "text": [
      " 95/468 [=====>........................] - ETA: 4:17 - loss: 0.3097 - accuracy: 0.8281\n",
      "Epoch 00001: saving model to training_10_4/cp-0001.ckpt\n"
     ]
    },
    {
     "name": "stderr",
     "output_type": "stream",
     "text": [
      "W0623 00:00:04.242081  5744 callbacks.py:241] Method (on_train_batch_end) is slow compared to the batch update (0.426241). Check your callbacks.\n"
     ]
    },
    {
     "name": "stdout",
     "output_type": "stream",
     "text": [
      " 96/468 [=====>........................] - ETA: 4:16 - loss: 0.3083 - accuracy: 0.8289\n",
      "Epoch 00001: saving model to training_10_4/cp-0001.ckpt\n"
     ]
    },
    {
     "name": "stderr",
     "output_type": "stream",
     "text": [
      "W0623 00:00:04.632151  5744 callbacks.py:241] Method (on_train_batch_end) is slow compared to the batch update (0.426241). Check your callbacks.\n"
     ]
    },
    {
     "name": "stdout",
     "output_type": "stream",
     "text": [
      " 97/468 [=====>........................] - ETA: 4:14 - loss: 0.3067 - accuracy: 0.8296\n",
      "Epoch 00001: saving model to training_10_4/cp-0001.ckpt\n"
     ]
    },
    {
     "name": "stderr",
     "output_type": "stream",
     "text": [
      "W0623 00:00:05.307687  5744 callbacks.py:241] Method (on_train_batch_end) is slow compared to the batch update (0.426241). Check your callbacks.\n"
     ]
    },
    {
     "name": "stdout",
     "output_type": "stream",
     "text": [
      " 98/468 [=====>........................] - ETA: 4:13 - loss: 0.3055 - accuracy: 0.8304\n",
      "Epoch 00001: saving model to training_10_4/cp-0001.ckpt\n"
     ]
    },
    {
     "name": "stderr",
     "output_type": "stream",
     "text": [
      "W0623 00:00:05.723171  5744 callbacks.py:241] Method (on_train_batch_end) is slow compared to the batch update (0.426241). Check your callbacks.\n"
     ]
    },
    {
     "name": "stdout",
     "output_type": "stream",
     "text": [
      " 99/468 [=====>........................] - ETA: 4:12 - loss: 0.3043 - accuracy: 0.8312\n",
      "Epoch 00001: saving model to training_10_4/cp-0001.ckpt\n"
     ]
    },
    {
     "name": "stderr",
     "output_type": "stream",
     "text": [
      "W0623 00:00:06.100533  5744 callbacks.py:241] Method (on_train_batch_end) is slow compared to the batch update (0.407666). Check your callbacks.\n"
     ]
    },
    {
     "name": "stdout",
     "output_type": "stream",
     "text": [
      "100/468 [=====>........................] - ETA: 4:10 - loss: 0.3031 - accuracy: 0.8319\n",
      "Epoch 00001: saving model to training_10_4/cp-0001.ckpt\n"
     ]
    },
    {
     "name": "stderr",
     "output_type": "stream",
     "text": [
      "W0623 00:00:06.551214  5744 callbacks.py:241] Method (on_train_batch_end) is slow compared to the batch update (0.393491). Check your callbacks.\n"
     ]
    },
    {
     "name": "stdout",
     "output_type": "stream",
     "text": [
      "101/468 [=====>........................] - ETA: 4:08 - loss: 0.3008 - accuracy: 0.8326\n",
      "Epoch 00001: saving model to training_10_4/cp-0001.ckpt\n"
     ]
    },
    {
     "name": "stderr",
     "output_type": "stream",
     "text": [
      "W0623 00:00:07.102589  5744 callbacks.py:241] Method (on_train_batch_end) is slow compared to the batch update (0.407666). Check your callbacks.\n"
     ]
    },
    {
     "name": "stdout",
     "output_type": "stream",
     "text": [
      "102/468 [=====>........................] - ETA: 4:07 - loss: 0.2989 - accuracy: 0.8333\n",
      "Epoch 00001: saving model to training_10_4/cp-0001.ckpt\n"
     ]
    },
    {
     "name": "stderr",
     "output_type": "stream",
     "text": [
      "W0623 00:00:07.605085  5744 callbacks.py:241] Method (on_train_batch_end) is slow compared to the batch update (0.378826). Check your callbacks.\n"
     ]
    },
    {
     "name": "stdout",
     "output_type": "stream",
     "text": [
      "103/468 [=====>........................] - ETA: 4:06 - loss: 0.2973 - accuracy: 0.8340\n",
      "Epoch 00001: saving model to training_10_4/cp-0001.ckpt\n"
     ]
    },
    {
     "name": "stderr",
     "output_type": "stream",
     "text": [
      "W0623 00:00:08.114424  5744 callbacks.py:241] Method (on_train_batch_end) is slow compared to the batch update (0.374916). Check your callbacks.\n"
     ]
    },
    {
     "name": "stdout",
     "output_type": "stream",
     "text": [
      "104/468 [=====>........................] - ETA: 4:05 - loss: 0.2961 - accuracy: 0.8347\n",
      "Epoch 00001: saving model to training_10_4/cp-0001.ckpt\n"
     ]
    },
    {
     "name": "stderr",
     "output_type": "stream",
     "text": [
      "W0623 00:00:08.590523  5744 callbacks.py:241] Method (on_train_batch_end) is slow compared to the batch update (0.351455). Check your callbacks.\n"
     ]
    },
    {
     "name": "stdout",
     "output_type": "stream",
     "text": [
      "105/468 [=====>........................] - ETA: 4:03 - loss: 0.2948 - accuracy: 0.8354\n",
      "Epoch 00001: saving model to training_10_4/cp-0001.ckpt\n"
     ]
    },
    {
     "name": "stderr",
     "output_type": "stream",
     "text": [
      "W0623 00:00:09.021652  5744 callbacks.py:241] Method (on_train_batch_end) is slow compared to the batch update (0.345099). Check your callbacks.\n"
     ]
    },
    {
     "name": "stdout",
     "output_type": "stream",
     "text": [
      "106/468 [=====>........................] - ETA: 4:02 - loss: 0.2941 - accuracy: 0.8361\n",
      "Epoch 00001: saving model to training_10_4/cp-0001.ckpt\n"
     ]
    },
    {
     "name": "stderr",
     "output_type": "stream",
     "text": [
      "W0623 00:00:09.414652  5744 callbacks.py:241] Method (on_train_batch_end) is slow compared to the batch update (0.344120). Check your callbacks.\n"
     ]
    },
    {
     "name": "stdout",
     "output_type": "stream",
     "text": [
      "107/468 [=====>........................] - ETA: 4:00 - loss: 0.2930 - accuracy: 0.8368\n",
      "Epoch 00001: saving model to training_10_4/cp-0001.ckpt\n"
     ]
    },
    {
     "name": "stderr",
     "output_type": "stream",
     "text": [
      "W0623 00:00:09.836006  5744 callbacks.py:241] Method (on_train_batch_end) is slow compared to the batch update (0.344120). Check your callbacks.\n"
     ]
    },
    {
     "name": "stdout",
     "output_type": "stream",
     "text": [
      "108/468 [=====>........................] - ETA: 3:59 - loss: 0.2916 - accuracy: 0.8374\n",
      "Epoch 00001: saving model to training_10_4/cp-0001.ckpt\n"
     ]
    },
    {
     "name": "stderr",
     "output_type": "stream",
     "text": [
      "W0623 00:00:10.546734  5744 callbacks.py:241] Method (on_train_batch_end) is slow compared to the batch update (0.350476). Check your callbacks.\n"
     ]
    },
    {
     "name": "stdout",
     "output_type": "stream",
     "text": [
      "109/468 [=====>........................] - ETA: 3:58 - loss: 0.2906 - accuracy: 0.8381\n",
      "Epoch 00001: saving model to training_10_4/cp-0001.ckpt\n"
     ]
    },
    {
     "name": "stderr",
     "output_type": "stream",
     "text": [
      "W0623 00:00:11.164588  5744 callbacks.py:241] Method (on_train_batch_end) is slow compared to the batch update (0.369051). Check your callbacks.\n"
     ]
    },
    {
     "name": "stdout",
     "output_type": "stream",
     "text": [
      "110/468 [======>.......................] - ETA: 3:57 - loss: 0.2894 - accuracy: 0.8387\n",
      "Epoch 00001: saving model to training_10_4/cp-0001.ckpt\n"
     ]
    },
    {
     "name": "stderr",
     "output_type": "stream",
     "text": [
      "W0623 00:00:11.714011  5744 callbacks.py:241] Method (on_train_batch_end) is slow compared to the batch update (0.387137). Check your callbacks.\n"
     ]
    },
    {
     "name": "stdout",
     "output_type": "stream",
     "text": [
      "111/468 [======>.......................] - ETA: 3:56 - loss: 0.2895 - accuracy: 0.8394\n",
      "Epoch 00001: saving model to training_10_4/cp-0001.ckpt\n"
     ]
    },
    {
     "name": "stderr",
     "output_type": "stream",
     "text": [
      "W0623 00:00:12.124609  5744 callbacks.py:241] Method (on_train_batch_end) is slow compared to the batch update (0.369051). Check your callbacks.\n"
     ]
    },
    {
     "name": "stdout",
     "output_type": "stream",
     "text": [
      "112/468 [======>.......................] - ETA: 3:55 - loss: 0.2879 - accuracy: 0.8400\n",
      "Epoch 00001: saving model to training_10_4/cp-0001.ckpt\n"
     ]
    },
    {
     "name": "stderr",
     "output_type": "stream",
     "text": [
      "W0623 00:00:12.625149  5744 callbacks.py:241] Method (on_train_batch_end) is slow compared to the batch update (0.384694). Check your callbacks.\n"
     ]
    },
    {
     "name": "stdout",
     "output_type": "stream",
     "text": [
      "113/468 [======>.......................] - ETA: 3:54 - loss: 0.2872 - accuracy: 0.8406\n",
      "Epoch 00001: saving model to training_10_4/cp-0001.ckpt\n"
     ]
    },
    {
     "name": "stderr",
     "output_type": "stream",
     "text": [
      "W0623 00:00:13.022060  5744 callbacks.py:241] Method (on_train_batch_end) is slow compared to the batch update (0.362696). Check your callbacks.\n"
     ]
    },
    {
     "name": "stdout",
     "output_type": "stream",
     "text": [
      "114/468 [======>.......................] - ETA: 3:52 - loss: 0.2860 - accuracy: 0.8412\n",
      "Epoch 00001: saving model to training_10_4/cp-0001.ckpt\n"
     ]
    },
    {
     "name": "stderr",
     "output_type": "stream",
     "text": [
      "W0623 00:00:13.480563  5744 callbacks.py:241] Method (on_train_batch_end) is slow compared to the batch update (0.364164). Check your callbacks.\n"
     ]
    },
    {
     "name": "stdout",
     "output_type": "stream",
     "text": [
      "115/468 [======>.......................] - ETA: 3:51 - loss: 0.2853 - accuracy: 0.8418\n",
      "Epoch 00001: saving model to training_10_4/cp-0001.ckpt\n"
     ]
    },
    {
     "name": "stderr",
     "output_type": "stream",
     "text": [
      "W0623 00:00:14.105261  5744 callbacks.py:241] Method (on_train_batch_end) is slow compared to the batch update (0.384694). Check your callbacks.\n"
     ]
    },
    {
     "name": "stdout",
     "output_type": "stream",
     "text": [
      "116/468 [======>.......................] - ETA: 3:50 - loss: 0.2839 - accuracy: 0.8424\n",
      "Epoch 00001: saving model to training_10_4/cp-0001.ckpt\n"
     ]
    },
    {
     "name": "stderr",
     "output_type": "stream",
     "text": [
      "W0623 00:00:14.597003  5744 callbacks.py:241] Method (on_train_batch_end) is slow compared to the batch update (0.384694). Check your callbacks.\n"
     ]
    },
    {
     "name": "stdout",
     "output_type": "stream",
     "text": [
      "117/468 [======>.......................] - ETA: 3:49 - loss: 0.2822 - accuracy: 0.8430\n",
      "Epoch 00001: saving model to training_10_4/cp-0001.ckpt\n"
     ]
    },
    {
     "name": "stderr",
     "output_type": "stream",
     "text": [
      "W0623 00:00:15.208990  5744 callbacks.py:241] Method (on_train_batch_end) is slow compared to the batch update (0.396912). Check your callbacks.\n"
     ]
    },
    {
     "name": "stdout",
     "output_type": "stream",
     "text": [
      "118/468 [======>.......................] - ETA: 3:48 - loss: 0.2808 - accuracy: 0.8436\n",
      "Epoch 00001: saving model to training_10_4/cp-0001.ckpt\n"
     ]
    },
    {
     "name": "stderr",
     "output_type": "stream",
     "text": [
      "W0623 00:00:15.691933  5744 callbacks.py:241] Method (on_train_batch_end) is slow compared to the batch update (0.384693). Check your callbacks.\n"
     ]
    },
    {
     "name": "stdout",
     "output_type": "stream",
     "text": [
      "119/468 [======>.......................] - ETA: 3:47 - loss: 0.2800 - accuracy: 0.8442\n",
      "Epoch 00001: saving model to training_10_4/cp-0001.ckpt\n"
     ]
    },
    {
     "name": "stderr",
     "output_type": "stream",
     "text": [
      "W0623 00:00:16.276548  5744 callbacks.py:241] Method (on_train_batch_end) is slow compared to the batch update (0.384693). Check your callbacks.\n"
     ]
    },
    {
     "name": "stdout",
     "output_type": "stream",
     "text": [
      "120/468 [======>.......................] - ETA: 3:46 - loss: 0.2796 - accuracy: 0.8447\n",
      "Epoch 00001: saving model to training_10_4/cp-0001.ckpt\n"
     ]
    },
    {
     "name": "stderr",
     "output_type": "stream",
     "text": [
      "W0623 00:00:16.734071  5744 callbacks.py:241] Method (on_train_batch_end) is slow compared to the batch update (0.377361). Check your callbacks.\n"
     ]
    },
    {
     "name": "stdout",
     "output_type": "stream",
     "text": [
      "121/468 [======>.......................] - ETA: 3:45 - loss: 0.2786 - accuracy: 0.8453\n",
      "Epoch 00001: saving model to training_10_4/cp-0001.ckpt\n"
     ]
    },
    {
     "name": "stderr",
     "output_type": "stream",
     "text": [
      "W0623 00:00:17.252208  5744 callbacks.py:241] Method (on_train_batch_end) is slow compared to the batch update (0.384693). Check your callbacks.\n"
     ]
    },
    {
     "name": "stdout",
     "output_type": "stream",
     "text": [
      "122/468 [======>.......................] - ETA: 3:44 - loss: 0.2780 - accuracy: 0.8459\n",
      "Epoch 00001: saving model to training_10_4/cp-0001.ckpt\n"
     ]
    },
    {
     "name": "stderr",
     "output_type": "stream",
     "text": [
      "W0623 00:00:17.770351  5744 callbacks.py:241] Method (on_train_batch_end) is slow compared to the batch update (0.386650). Check your callbacks.\n"
     ]
    },
    {
     "name": "stdout",
     "output_type": "stream",
     "text": [
      "123/468 [======>.......................] - ETA: 3:43 - loss: 0.2773 - accuracy: 0.8464\n",
      "Epoch 00001: saving model to training_10_4/cp-0001.ckpt\n"
     ]
    },
    {
     "name": "stderr",
     "output_type": "stream",
     "text": [
      "W0623 00:00:18.278707  5744 callbacks.py:241] Method (on_train_batch_end) is slow compared to the batch update (0.394960). Check your callbacks.\n"
     ]
    },
    {
     "name": "stdout",
     "output_type": "stream",
     "text": [
      "124/468 [======>.......................] - ETA: 3:42 - loss: 0.2767 - accuracy: 0.8469\n",
      "Epoch 00001: saving model to training_10_4/cp-0001.ckpt\n"
     ]
    },
    {
     "name": "stderr",
     "output_type": "stream",
     "text": [
      "W0623 00:00:18.864299  5744 callbacks.py:241] Method (on_train_batch_end) is slow compared to the batch update (0.422331). Check your callbacks.\n"
     ]
    },
    {
     "name": "stdout",
     "output_type": "stream",
     "text": [
      "125/468 [=======>......................] - ETA: 3:41 - loss: 0.2754 - accuracy: 0.8475\n",
      "Epoch 00001: saving model to training_10_4/cp-0001.ckpt\n"
     ]
    },
    {
     "name": "stderr",
     "output_type": "stream",
     "text": [
      "W0623 00:00:19.636616  5744 callbacks.py:241] Method (on_train_batch_end) is slow compared to the batch update (0.422331). Check your callbacks.\n"
     ]
    },
    {
     "name": "stdout",
     "output_type": "stream",
     "text": [
      "126/468 [=======>......................] - ETA: 3:41 - loss: 0.2749 - accuracy: 0.8480\n",
      "Epoch 00001: saving model to training_10_4/cp-0001.ckpt\n"
     ]
    },
    {
     "name": "stderr",
     "output_type": "stream",
     "text": [
      "W0623 00:00:20.279889  5744 callbacks.py:241] Method (on_train_batch_end) is slow compared to the batch update (0.456060). Check your callbacks.\n"
     ]
    },
    {
     "name": "stdout",
     "output_type": "stream",
     "text": [
      "127/468 [=======>......................] - ETA: 3:40 - loss: 0.2738 - accuracy: 0.8485\n",
      "Epoch 00001: saving model to training_10_4/cp-0001.ckpt\n"
     ]
    },
    {
     "name": "stderr",
     "output_type": "stream",
     "text": [
      "W0623 00:00:20.806824  5744 callbacks.py:241] Method (on_train_batch_end) is slow compared to the batch update (0.450682). Check your callbacks.\n"
     ]
    },
    {
     "name": "stdout",
     "output_type": "stream",
     "text": [
      "128/468 [=======>......................] - ETA: 3:39 - loss: 0.2734 - accuracy: 0.8490\n",
      "Epoch 00001: saving model to training_10_4/cp-0001.ckpt\n"
     ]
    },
    {
     "name": "stderr",
     "output_type": "stream",
     "text": [
      "W0623 00:00:21.297589  5744 callbacks.py:241] Method (on_train_batch_end) is slow compared to the batch update (0.450682). Check your callbacks.\n"
     ]
    },
    {
     "name": "stdout",
     "output_type": "stream",
     "text": [
      "129/468 [=======>......................] - ETA: 3:38 - loss: 0.2720 - accuracy: 0.8495\n",
      "Epoch 00001: saving model to training_10_4/cp-0001.ckpt\n"
     ]
    },
    {
     "name": "stderr",
     "output_type": "stream",
     "text": [
      "W0623 00:00:22.015157  5744 callbacks.py:241] Method (on_train_batch_end) is slow compared to the batch update (0.452638). Check your callbacks.\n"
     ]
    },
    {
     "name": "stdout",
     "output_type": "stream",
     "text": [
      "130/468 [=======>......................] - ETA: 3:38 - loss: 0.2713 - accuracy: 0.8500\n",
      "Epoch 00001: saving model to training_10_4/cp-0001.ckpt\n"
     ]
    },
    {
     "name": "stderr",
     "output_type": "stream",
     "text": [
      "W0623 00:00:22.346570  5744 callbacks.py:241] Method (on_train_batch_end) is slow compared to the batch update (0.452638). Check your callbacks.\n"
     ]
    },
    {
     "name": "stdout",
     "output_type": "stream",
     "text": [
      "131/468 [=======>......................] - ETA: 3:36 - loss: 0.2702 - accuracy: 0.8505\n",
      "Epoch 00001: saving model to training_10_4/cp-0001.ckpt\n"
     ]
    },
    {
     "name": "stderr",
     "output_type": "stream",
     "text": [
      "W0623 00:00:22.701446  5744 callbacks.py:241] Method (on_train_batch_end) is slow compared to the batch update (0.416954). Check your callbacks.\n"
     ]
    },
    {
     "name": "stdout",
     "output_type": "stream",
     "text": [
      "132/468 [=======>......................] - ETA: 3:35 - loss: 0.2695 - accuracy: 0.8510\n",
      "Epoch 00001: saving model to training_10_4/cp-0001.ckpt\n"
     ]
    },
    {
     "name": "stderr",
     "output_type": "stream",
     "text": [
      "W0623 00:00:23.164836  5744 callbacks.py:241] Method (on_train_batch_end) is slow compared to the batch update (0.416954). Check your callbacks.\n"
     ]
    },
    {
     "name": "stdout",
     "output_type": "stream",
     "text": [
      "133/468 [=======>......................] - ETA: 3:34 - loss: 0.2679 - accuracy: 0.8515\n",
      "Epoch 00001: saving model to training_10_4/cp-0001.ckpt\n"
     ]
    },
    {
     "name": "stderr",
     "output_type": "stream",
     "text": [
      "W0623 00:00:23.820820  5744 callbacks.py:241] Method (on_train_batch_end) is slow compared to the batch update (0.462413). Check your callbacks.\n"
     ]
    },
    {
     "name": "stdout",
     "output_type": "stream",
     "text": [
      "134/468 [=======>......................] - ETA: 3:33 - loss: 0.2668 - accuracy: 0.8520\n",
      "Epoch 00001: saving model to training_10_4/cp-0001.ckpt\n"
     ]
    },
    {
     "name": "stderr",
     "output_type": "stream",
     "text": [
      "W0623 00:00:24.335044  5744 callbacks.py:241] Method (on_train_batch_end) is slow compared to the batch update (0.411089). Check your callbacks.\n"
     ]
    },
    {
     "name": "stdout",
     "output_type": "stream",
     "text": [
      "135/468 [=======>......................] - ETA: 3:32 - loss: 0.2654 - accuracy: 0.8524\n",
      "Epoch 00001: saving model to training_10_4/cp-0001.ckpt\n"
     ]
    },
    {
     "name": "stderr",
     "output_type": "stream",
     "text": [
      "W0623 00:00:24.982227  5744 callbacks.py:241] Method (on_train_batch_end) is slow compared to the batch update (0.411089). Check your callbacks.\n"
     ]
    },
    {
     "name": "stdout",
     "output_type": "stream",
     "text": [
      "136/468 [=======>......................] - ETA: 3:32 - loss: 0.2649 - accuracy: 0.8529\n",
      "Epoch 00001: saving model to training_10_4/cp-0001.ckpt\n"
     ]
    },
    {
     "name": "stderr",
     "output_type": "stream",
     "text": [
      "W0623 00:00:25.543379  5744 callbacks.py:241] Method (on_train_batch_end) is slow compared to the batch update (0.408156). Check your callbacks.\n"
     ]
    },
    {
     "name": "stdout",
     "output_type": "stream",
     "text": [
      "137/468 [=======>......................] - ETA: 3:31 - loss: 0.2638 - accuracy: 0.8534\n",
      "Epoch 00001: saving model to training_10_4/cp-0001.ckpt\n"
     ]
    },
    {
     "name": "stderr",
     "output_type": "stream",
     "text": [
      "W0623 00:00:26.031208  5744 callbacks.py:241] Method (on_train_batch_end) is slow compared to the batch update (0.379806). Check your callbacks.\n"
     ]
    },
    {
     "name": "stdout",
     "output_type": "stream",
     "text": [
      "138/468 [=======>......................] - ETA: 3:30 - loss: 0.2624 - accuracy: 0.8538\n",
      "Epoch 00001: saving model to training_10_4/cp-0001.ckpt\n"
     ]
    },
    {
     "name": "stderr",
     "output_type": "stream",
     "text": [
      "W0623 00:00:26.421279  5744 callbacks.py:241] Method (on_train_batch_end) is slow compared to the batch update (0.378826). Check your callbacks.\n"
     ]
    },
    {
     "name": "stdout",
     "output_type": "stream",
     "text": [
      "139/468 [=======>......................] - ETA: 3:29 - loss: 0.2615 - accuracy: 0.8543\n",
      "Epoch 00001: saving model to training_10_4/cp-0001.ckpt\n"
     ]
    },
    {
     "name": "stderr",
     "output_type": "stream",
     "text": [
      "W0623 00:00:26.955057  5744 callbacks.py:241] Method (on_train_batch_end) is slow compared to the batch update (0.378826). Check your callbacks.\n"
     ]
    },
    {
     "name": "stdout",
     "output_type": "stream",
     "text": [
      "140/468 [=======>......................] - ETA: 3:28 - loss: 0.2607 - accuracy: 0.8547\n",
      "Epoch 00001: saving model to training_10_4/cp-0001.ckpt\n"
     ]
    },
    {
     "name": "stderr",
     "output_type": "stream",
     "text": [
      "W0623 00:00:27.356857  5744 callbacks.py:241] Method (on_train_batch_end) is slow compared to the batch update (0.378826). Check your callbacks.\n"
     ]
    },
    {
     "name": "stdout",
     "output_type": "stream",
     "text": [
      "141/468 [========>.....................] - ETA: 3:27 - loss: 0.2601 - accuracy: 0.8552\n",
      "Epoch 00001: saving model to training_10_4/cp-0001.ckpt\n"
     ]
    },
    {
     "name": "stderr",
     "output_type": "stream",
     "text": [
      "W0623 00:00:27.842741  5744 callbacks.py:241] Method (on_train_batch_end) is slow compared to the batch update (0.386159). Check your callbacks.\n"
     ]
    },
    {
     "name": "stdout",
     "output_type": "stream",
     "text": [
      "142/468 [========>.....................] - ETA: 3:26 - loss: 0.2601 - accuracy: 0.8556\n",
      "Epoch 00001: saving model to training_10_4/cp-0001.ckpt\n"
     ]
    },
    {
     "name": "stderr",
     "output_type": "stream",
     "text": [
      "W0623 00:00:28.381408  5744 callbacks.py:241] Method (on_train_batch_end) is slow compared to the batch update (0.407667). Check your callbacks.\n"
     ]
    },
    {
     "name": "stdout",
     "output_type": "stream",
     "text": [
      "143/468 [========>.....................] - ETA: 3:25 - loss: 0.2595 - accuracy: 0.8561\n",
      "Epoch 00001: saving model to training_10_4/cp-0001.ckpt\n"
     ]
    },
    {
     "name": "stderr",
     "output_type": "stream",
     "text": [
      "W0623 00:00:28.887805  5744 callbacks.py:241] Method (on_train_batch_end) is slow compared to the batch update (0.402290). Check your callbacks.\n"
     ]
    },
    {
     "name": "stdout",
     "output_type": "stream",
     "text": [
      "144/468 [========>.....................] - ETA: 3:24 - loss: 0.2588 - accuracy: 0.8565\n",
      "Epoch 00001: saving model to training_10_4/cp-0001.ckpt\n"
     ]
    },
    {
     "name": "stderr",
     "output_type": "stream",
     "text": [
      "W0623 00:00:29.433316  5744 callbacks.py:241] Method (on_train_batch_end) is slow compared to the batch update (0.423798). Check your callbacks.\n"
     ]
    },
    {
     "name": "stdout",
     "output_type": "stream",
     "text": [
      "145/468 [========>.....................] - ETA: 3:23 - loss: 0.2579 - accuracy: 0.8569\n",
      "Epoch 00001: saving model to training_10_4/cp-0001.ckpt\n"
     ]
    },
    {
     "name": "stderr",
     "output_type": "stream",
     "text": [
      "W0623 00:00:29.922125  5744 callbacks.py:241] Method (on_train_batch_end) is slow compared to the batch update (0.406201). Check your callbacks.\n"
     ]
    },
    {
     "name": "stdout",
     "output_type": "stream",
     "text": [
      "146/468 [========>.....................] - ETA: 3:22 - loss: 0.2568 - accuracy: 0.8574\n",
      "Epoch 00001: saving model to training_10_4/cp-0001.ckpt\n"
     ]
    },
    {
     "name": "stderr",
     "output_type": "stream",
     "text": [
      "W0623 00:00:30.308284  5744 callbacks.py:241] Method (on_train_batch_end) is slow compared to the batch update (0.390070). Check your callbacks.\n"
     ]
    },
    {
     "name": "stdout",
     "output_type": "stream",
     "text": [
      "147/468 [========>.....................] - ETA: 3:21 - loss: 0.2567 - accuracy: 0.8578\n",
      "Epoch 00001: saving model to training_10_4/cp-0001.ckpt\n"
     ]
    },
    {
     "name": "stderr",
     "output_type": "stream",
     "text": [
      "W0623 00:00:30.701287  5744 callbacks.py:241] Method (on_train_batch_end) is slow compared to the batch update (0.390070). Check your callbacks.\n"
     ]
    },
    {
     "name": "stdout",
     "output_type": "stream",
     "text": [
      "148/468 [========>.....................] - ETA: 3:20 - loss: 0.2561 - accuracy: 0.8582\n",
      "Epoch 00001: saving model to training_10_4/cp-0001.ckpt\n"
     ]
    },
    {
     "name": "stderr",
     "output_type": "stream",
     "text": [
      "W0623 00:00:31.142189  5744 callbacks.py:241] Method (on_train_batch_end) is slow compared to the batch update (0.390070). Check your callbacks.\n"
     ]
    },
    {
     "name": "stdout",
     "output_type": "stream",
     "text": [
      "149/468 [========>.....................] - ETA: 3:19 - loss: 0.2559 - accuracy: 0.8586\n",
      "Epoch 00001: saving model to training_10_4/cp-0001.ckpt\n"
     ]
    },
    {
     "name": "stderr",
     "output_type": "stream",
     "text": [
      "W0623 00:00:31.649574  5744 callbacks.py:241] Method (on_train_batch_end) is slow compared to the batch update (0.390070). Check your callbacks.\n"
     ]
    },
    {
     "name": "stdout",
     "output_type": "stream",
     "text": [
      "150/468 [========>.....................] - ETA: 3:18 - loss: 0.2555 - accuracy: 0.8590\n",
      "Epoch 00001: saving model to training_10_4/cp-0001.ckpt\n"
     ]
    },
    {
     "name": "stderr",
     "output_type": "stream",
     "text": [
      "W0623 00:00:32.115903  5744 callbacks.py:241] Method (on_train_batch_end) is slow compared to the batch update (0.390070). Check your callbacks.\n"
     ]
    },
    {
     "name": "stdout",
     "output_type": "stream",
     "text": [
      "151/468 [========>.....................] - ETA: 3:17 - loss: 0.2551 - accuracy: 0.8594\n",
      "Epoch 00001: saving model to training_10_4/cp-0001.ckpt\n"
     ]
    },
    {
     "name": "stderr",
     "output_type": "stream",
     "text": [
      "W0623 00:00:32.722023  5744 callbacks.py:241] Method (on_train_batch_end) is slow compared to the batch update (0.399846). Check your callbacks.\n"
     ]
    },
    {
     "name": "stdout",
     "output_type": "stream",
     "text": [
      "152/468 [========>.....................] - ETA: 3:16 - loss: 0.2543 - accuracy: 0.8598\n",
      "Epoch 00001: saving model to training_10_4/cp-0001.ckpt\n"
     ]
    },
    {
     "name": "stderr",
     "output_type": "stream",
     "text": [
      "W0623 00:00:33.203008  5744 callbacks.py:241] Method (on_train_batch_end) is slow compared to the batch update (0.377849). Check your callbacks.\n"
     ]
    },
    {
     "name": "stdout",
     "output_type": "stream",
     "text": [
      "153/468 [========>.....................] - ETA: 3:15 - loss: 0.2533 - accuracy: 0.8602\n",
      "Epoch 00001: saving model to training_10_4/cp-0001.ckpt\n"
     ]
    },
    {
     "name": "stderr",
     "output_type": "stream",
     "text": [
      "W0623 00:00:33.639029  5744 callbacks.py:241] Method (on_train_batch_end) is slow compared to the batch update (0.361232). Check your callbacks.\n"
     ]
    },
    {
     "name": "stdout",
     "output_type": "stream",
     "text": [
      "154/468 [========>.....................] - ETA: 3:14 - loss: 0.2529 - accuracy: 0.8606\n",
      "Epoch 00001: saving model to training_10_4/cp-0001.ckpt\n"
     ]
    },
    {
     "name": "stderr",
     "output_type": "stream",
     "text": [
      "W0623 00:00:34.055488  5744 callbacks.py:241] Method (on_train_batch_end) is slow compared to the batch update (0.352922). Check your callbacks.\n"
     ]
    },
    {
     "name": "stdout",
     "output_type": "stream",
     "text": [
      "155/468 [========>.....................] - ETA: 3:13 - loss: 0.2521 - accuracy: 0.8610\n",
      "Epoch 00001: saving model to training_10_4/cp-0001.ckpt\n"
     ]
    },
    {
     "name": "stderr",
     "output_type": "stream",
     "text": [
      "W0623 00:00:34.533543  5744 callbacks.py:241] Method (on_train_batch_end) is slow compared to the batch update (0.352922). Check your callbacks.\n"
     ]
    },
    {
     "name": "stdout",
     "output_type": "stream",
     "text": [
      "156/468 [=========>....................] - ETA: 3:12 - loss: 0.2508 - accuracy: 0.8614\n",
      "Epoch 00001: saving model to training_10_4/cp-0001.ckpt\n"
     ]
    },
    {
     "name": "stderr",
     "output_type": "stream",
     "text": [
      "W0623 00:00:35.084919  5744 callbacks.py:241] Method (on_train_batch_end) is slow compared to the batch update (0.361232). Check your callbacks.\n"
     ]
    },
    {
     "name": "stdout",
     "output_type": "stream",
     "text": [
      "157/468 [=========>....................] - ETA: 3:12 - loss: 0.2501 - accuracy: 0.8617\n",
      "Epoch 00001: saving model to training_10_4/cp-0001.ckpt\n"
     ]
    },
    {
     "name": "stderr",
     "output_type": "stream",
     "text": [
      "W0623 00:00:35.684206  5744 callbacks.py:241] Method (on_train_batch_end) is slow compared to the batch update (0.365140). Check your callbacks.\n"
     ]
    },
    {
     "name": "stdout",
     "output_type": "stream",
     "text": [
      "158/468 [=========>....................] - ETA: 3:11 - loss: 0.2500 - accuracy: 0.8621\n",
      "Epoch 00001: saving model to training_10_4/cp-0001.ckpt\n"
     ]
    },
    {
     "name": "stderr",
     "output_type": "stream",
     "text": [
      "W0623 00:00:36.162254  5744 callbacks.py:241] Method (on_train_batch_end) is slow compared to the batch update (0.375405). Check your callbacks.\n"
     ]
    },
    {
     "name": "stdout",
     "output_type": "stream",
     "text": [
      "159/468 [=========>....................] - ETA: 3:10 - loss: 0.2490 - accuracy: 0.8625\n",
      "Epoch 00001: saving model to training_10_4/cp-0001.ckpt\n"
     ]
    },
    {
     "name": "stderr",
     "output_type": "stream",
     "text": [
      "W0623 00:00:36.745891  5744 callbacks.py:241] Method (on_train_batch_end) is slow compared to the batch update (0.375405). Check your callbacks.\n"
     ]
    },
    {
     "name": "stdout",
     "output_type": "stream",
     "text": [
      "160/468 [=========>....................] - ETA: 3:09 - loss: 0.2483 - accuracy: 0.8629\n",
      "Epoch 00001: saving model to training_10_4/cp-0001.ckpt\n"
     ]
    },
    {
     "name": "stderr",
     "output_type": "stream",
     "text": [
      "W0623 00:00:37.283581  5744 callbacks.py:241] Method (on_train_batch_end) is slow compared to the batch update (0.412063). Check your callbacks.\n"
     ]
    },
    {
     "name": "stdout",
     "output_type": "stream",
     "text": [
      "161/468 [=========>....................] - ETA: 3:09 - loss: 0.2480 - accuracy: 0.8632\n",
      "Epoch 00001: saving model to training_10_4/cp-0001.ckpt\n"
     ]
    },
    {
     "name": "stderr",
     "output_type": "stream",
     "text": [
      "W0623 00:00:37.761641  5744 callbacks.py:241] Method (on_train_batch_end) is slow compared to the batch update (0.375405). Check your callbacks.\n"
     ]
    },
    {
     "name": "stdout",
     "output_type": "stream",
     "text": [
      "162/468 [=========>....................] - ETA: 3:08 - loss: 0.2472 - accuracy: 0.8636\n",
      "Epoch 00001: saving model to training_10_4/cp-0001.ckpt\n"
     ]
    },
    {
     "name": "stderr",
     "output_type": "stream",
     "text": [
      "W0623 00:00:38.220145  5744 callbacks.py:241] Method (on_train_batch_end) is slow compared to the batch update (0.377365). Check your callbacks.\n"
     ]
    },
    {
     "name": "stdout",
     "output_type": "stream",
     "text": [
      "163/468 [=========>....................] - ETA: 3:07 - loss: 0.2463 - accuracy: 0.8639\n",
      "Epoch 00001: saving model to training_10_4/cp-0001.ckpt\n"
     ]
    },
    {
     "name": "stderr",
     "output_type": "stream",
     "text": [
      "W0623 00:00:38.598474  5744 callbacks.py:241] Method (on_train_batch_end) is slow compared to the batch update (0.377365). Check your callbacks.\n"
     ]
    },
    {
     "name": "stdout",
     "output_type": "stream",
     "text": [
      "164/468 [=========>....................] - ETA: 3:06 - loss: 0.2455 - accuracy: 0.8643\n",
      "Epoch 00001: saving model to training_10_4/cp-0001.ckpt\n"
     ]
    },
    {
     "name": "stderr",
     "output_type": "stream",
     "text": [
      "W0623 00:00:38.956288  5744 callbacks.py:241] Method (on_train_batch_end) is slow compared to the batch update (0.377365). Check your callbacks.\n"
     ]
    },
    {
     "name": "stdout",
     "output_type": "stream",
     "text": [
      "165/468 [=========>....................] - ETA: 3:05 - loss: 0.2447 - accuracy: 0.8647\n",
      "Epoch 00001: saving model to training_10_4/cp-0001.ckpt\n"
     ]
    },
    {
     "name": "stderr",
     "output_type": "stream",
     "text": [
      "W0623 00:00:39.402077  5744 callbacks.py:241] Method (on_train_batch_end) is slow compared to the batch update (0.377365). Check your callbacks.\n"
     ]
    },
    {
     "name": "stdout",
     "output_type": "stream",
     "text": [
      "166/468 [=========>....................] - ETA: 3:04 - loss: 0.2440 - accuracy: 0.8650\n",
      "Epoch 00001: saving model to training_10_4/cp-0001.ckpt\n"
     ]
    },
    {
     "name": "stderr",
     "output_type": "stream",
     "text": [
      "W0623 00:00:39.848848  5744 callbacks.py:241] Method (on_train_batch_end) is slow compared to the batch update (0.369055). Check your callbacks.\n"
     ]
    },
    {
     "name": "stdout",
     "output_type": "stream",
     "text": [
      "167/468 [=========>....................] - ETA: 3:03 - loss: 0.2432 - accuracy: 0.8654\n",
      "Epoch 00001: saving model to training_10_4/cp-0001.ckpt\n"
     ]
    },
    {
     "name": "stderr",
     "output_type": "stream",
     "text": [
      "W0623 00:00:40.392403  5744 callbacks.py:241] Method (on_train_batch_end) is slow compared to the batch update (0.369055). Check your callbacks.\n"
     ]
    },
    {
     "name": "stdout",
     "output_type": "stream",
     "text": [
      "168/468 [=========>....................] - ETA: 3:02 - loss: 0.2426 - accuracy: 0.8657\n",
      "Epoch 00001: saving model to training_10_4/cp-0001.ckpt\n"
     ]
    },
    {
     "name": "stderr",
     "output_type": "stream",
     "text": [
      "W0623 00:00:40.787367  5744 callbacks.py:241] Method (on_train_batch_end) is slow compared to the batch update (0.361229). Check your callbacks.\n"
     ]
    },
    {
     "name": "stdout",
     "output_type": "stream",
     "text": [
      "169/468 [=========>....................] - ETA: 3:01 - loss: 0.2422 - accuracy: 0.8660\n",
      "Epoch 00001: saving model to training_10_4/cp-0001.ckpt\n"
     ]
    },
    {
     "name": "stderr",
     "output_type": "stream",
     "text": [
      "W0623 00:00:41.336798  5744 callbacks.py:241] Method (on_train_batch_end) is slow compared to the batch update (0.361229). Check your callbacks.\n"
     ]
    },
    {
     "name": "stdout",
     "output_type": "stream",
     "text": [
      "170/468 [=========>....................] - ETA: 3:01 - loss: 0.2420 - accuracy: 0.8664\n",
      "Epoch 00001: saving model to training_10_4/cp-0001.ckpt\n"
     ]
    },
    {
     "name": "stderr",
     "output_type": "stream",
     "text": [
      "W0623 00:00:41.709252  5744 callbacks.py:241] Method (on_train_batch_end) is slow compared to the batch update (0.354386). Check your callbacks.\n"
     ]
    },
    {
     "name": "stdout",
     "output_type": "stream",
     "text": [
      "171/468 [=========>....................] - ETA: 2:59 - loss: 0.2425 - accuracy: 0.8667\n",
      "Epoch 00001: saving model to training_10_4/cp-0001.ckpt\n"
     ]
    },
    {
     "name": "stderr",
     "output_type": "stream",
     "text": [
      "W0623 00:00:42.243031  5744 callbacks.py:241] Method (on_train_batch_end) is slow compared to the batch update (0.354386). Check your callbacks.\n"
     ]
    },
    {
     "name": "stdout",
     "output_type": "stream",
     "text": [
      "172/468 [==========>...................] - ETA: 2:59 - loss: 0.2422 - accuracy: 0.8671\n",
      "Epoch 00001: saving model to training_10_4/cp-0001.ckpt\n"
     ]
    },
    {
     "name": "stderr",
     "output_type": "stream",
     "text": [
      "W0623 00:00:42.859906  5744 callbacks.py:241] Method (on_train_batch_end) is slow compared to the batch update (0.354386). Check your callbacks.\n"
     ]
    },
    {
     "name": "stdout",
     "output_type": "stream",
     "text": [
      "173/468 [==========>...................] - ETA: 2:58 - loss: 0.2415 - accuracy: 0.8674\n",
      "Epoch 00001: saving model to training_10_4/cp-0001.ckpt\n"
     ]
    },
    {
     "name": "stderr",
     "output_type": "stream",
     "text": [
      "W0623 00:00:43.347739  5744 callbacks.py:241] Method (on_train_batch_end) is slow compared to the batch update (0.375406). Check your callbacks.\n"
     ]
    },
    {
     "name": "stdout",
     "output_type": "stream",
     "text": [
      "174/468 [==========>...................] - ETA: 2:57 - loss: 0.2405 - accuracy: 0.8677\n",
      "Epoch 00001: saving model to training_10_4/cp-0001.ckpt\n"
     ]
    },
    {
     "name": "stderr",
     "output_type": "stream",
     "text": [
      "W0623 00:00:43.806241  5744 callbacks.py:241] Method (on_train_batch_end) is slow compared to the batch update (0.375406). Check your callbacks.\n"
     ]
    },
    {
     "name": "stdout",
     "output_type": "stream",
     "text": [
      "175/468 [==========>...................] - ETA: 2:57 - loss: 0.2401 - accuracy: 0.8680\n",
      "Epoch 00001: saving model to training_10_4/cp-0001.ckpt\n"
     ]
    },
    {
     "name": "stderr",
     "output_type": "stream",
     "text": [
      "W0623 00:00:44.090725  5744 callbacks.py:241] Method (on_train_batch_end) is slow compared to the batch update (0.375406). Check your callbacks.\n"
     ]
    },
    {
     "name": "stdout",
     "output_type": "stream",
     "text": [
      "176/468 [==========>...................] - ETA: 2:55 - loss: 0.2396 - accuracy: 0.8684\n",
      "Epoch 00001: saving model to training_10_4/cp-0001.ckpt\n"
     ]
    },
    {
     "name": "stderr",
     "output_type": "stream",
     "text": [
      "W0623 00:00:44.443647  5744 callbacks.py:241] Method (on_train_batch_end) is slow compared to the batch update (0.356832). Check your callbacks.\n"
     ]
    },
    {
     "name": "stdout",
     "output_type": "stream",
     "text": [
      "177/468 [==========>...................] - ETA: 2:54 - loss: 0.2391 - accuracy: 0.8687\n",
      "Epoch 00001: saving model to training_10_4/cp-0001.ckpt\n"
     ]
    },
    {
     "name": "stderr",
     "output_type": "stream",
     "text": [
      "W0623 00:00:45.200322  5744 callbacks.py:241] Method (on_train_batch_end) is slow compared to the batch update (0.356832). Check your callbacks.\n"
     ]
    },
    {
     "name": "stdout",
     "output_type": "stream",
     "text": [
      "178/468 [==========>...................] - ETA: 2:54 - loss: 0.2385 - accuracy: 0.8690\n",
      "Epoch 00001: saving model to training_10_4/cp-0001.ckpt\n"
     ]
    },
    {
     "name": "stderr",
     "output_type": "stream",
     "text": [
      "W0623 00:00:46.301118  5744 callbacks.py:241] Method (on_train_batch_end) is slow compared to the batch update (0.409133). Check your callbacks.\n"
     ]
    },
    {
     "name": "stdout",
     "output_type": "stream",
     "text": [
      "179/468 [==========>...................] - ETA: 2:54 - loss: 0.2381 - accuracy: 0.8693\n",
      "Epoch 00001: saving model to training_10_4/cp-0001.ckpt\n"
     ]
    },
    {
     "name": "stderr",
     "output_type": "stream",
     "text": [
      "W0623 00:00:46.683366  5744 callbacks.py:241] Method (on_train_batch_end) is slow compared to the batch update (0.356832). Check your callbacks.\n"
     ]
    },
    {
     "name": "stdout",
     "output_type": "stream",
     "text": [
      "180/468 [==========>...................] - ETA: 2:53 - loss: 0.2378 - accuracy: 0.8696\n",
      "Epoch 00001: saving model to training_10_4/cp-0001.ckpt\n"
     ]
    },
    {
     "name": "stderr",
     "output_type": "stream",
     "text": [
      "W0623 00:00:47.107651  5744 callbacks.py:241] Method (on_train_batch_end) is slow compared to the batch update (0.385182). Check your callbacks.\n"
     ]
    },
    {
     "name": "stdout",
     "output_type": "stream",
     "text": [
      "181/468 [==========>...................] - ETA: 2:52 - loss: 0.2377 - accuracy: 0.8699\n",
      "Epoch 00001: saving model to training_10_4/cp-0001.ckpt\n"
     ]
    },
    {
     "name": "stderr",
     "output_type": "stream",
     "text": [
      "W0623 00:00:47.466436  5744 callbacks.py:241] Method (on_train_batch_end) is slow compared to the batch update (0.348032). Check your callbacks.\n"
     ]
    },
    {
     "name": "stdout",
     "output_type": "stream",
     "text": [
      "182/468 [==========>...................] - ETA: 2:51 - loss: 0.2372 - accuracy: 0.8702\n",
      "Epoch 00001: saving model to training_10_4/cp-0001.ckpt\n"
     ]
    },
    {
     "name": "stderr",
     "output_type": "stream",
     "text": [
      "W0623 00:00:47.904411  5744 callbacks.py:241] Method (on_train_batch_end) is slow compared to the batch update (0.348032). Check your callbacks.\n"
     ]
    },
    {
     "name": "stdout",
     "output_type": "stream",
     "text": [
      "183/468 [==========>...................] - ETA: 2:51 - loss: 0.2365 - accuracy: 0.8705\n",
      "Epoch 00001: saving model to training_10_4/cp-0001.ckpt\n"
     ]
    },
    {
     "name": "stderr",
     "output_type": "stream",
     "text": [
      "W0623 00:00:48.630779  5744 callbacks.py:241] Method (on_train_batch_end) is slow compared to the batch update (0.348032). Check your callbacks.\n"
     ]
    },
    {
     "name": "stdout",
     "output_type": "stream",
     "text": [
      "184/468 [==========>...................] - ETA: 2:50 - loss: 0.2356 - accuracy: 0.8708\n",
      "Epoch 00001: saving model to training_10_4/cp-0001.ckpt\n"
     ]
    },
    {
     "name": "stderr",
     "output_type": "stream",
     "text": [
      "W0623 00:00:49.259388  5744 callbacks.py:241] Method (on_train_batch_end) is slow compared to the batch update (0.388111). Check your callbacks.\n"
     ]
    },
    {
     "name": "stdout",
     "output_type": "stream",
     "text": [
      "185/468 [==========>...................] - ETA: 2:50 - loss: 0.2352 - accuracy: 0.8711\n",
      "Epoch 00001: saving model to training_10_4/cp-0001.ckpt\n"
     ]
    },
    {
     "name": "stderr",
     "output_type": "stream",
     "text": [
      "W0623 00:00:49.873330  5744 callbacks.py:241] Method (on_train_batch_end) is slow compared to the batch update (0.425260). Check your callbacks.\n"
     ]
    },
    {
     "name": "stdout",
     "output_type": "stream",
     "text": [
      "186/468 [==========>...................] - ETA: 2:49 - loss: 0.2347 - accuracy: 0.8714\n",
      "Epoch 00001: saving model to training_10_4/cp-0001.ckpt\n"
     ]
    },
    {
     "name": "stderr",
     "output_type": "stream",
     "text": [
      "W0623 00:00:50.144129  5744 callbacks.py:241] Method (on_train_batch_end) is slow compared to the batch update (0.425260). Check your callbacks.\n"
     ]
    },
    {
     "name": "stdout",
     "output_type": "stream",
     "text": [
      "187/468 [==========>...................] - ETA: 2:48 - loss: 0.2338 - accuracy: 0.8717\n",
      "Epoch 00001: saving model to training_10_4/cp-0001.ckpt\n"
     ]
    },
    {
     "name": "stderr",
     "output_type": "stream",
     "text": [
      "W0623 00:00:50.546908  5744 callbacks.py:241] Method (on_train_batch_end) is slow compared to the batch update (0.388111). Check your callbacks.\n"
     ]
    },
    {
     "name": "stdout",
     "output_type": "stream",
     "text": [
      "188/468 [===========>..................] - ETA: 2:47 - loss: 0.2333 - accuracy: 0.8720\n",
      "Epoch 00001: saving model to training_10_4/cp-0001.ckpt\n"
     ]
    },
    {
     "name": "stderr",
     "output_type": "stream",
     "text": [
      "W0623 00:00:50.968261  5744 callbacks.py:241] Method (on_train_batch_end) is slow compared to the batch update (0.373938). Check your callbacks.\n"
     ]
    },
    {
     "name": "stdout",
     "output_type": "stream",
     "text": [
      "189/468 [===========>..................] - ETA: 2:46 - loss: 0.2326 - accuracy: 0.8723\n",
      "Epoch 00001: saving model to training_10_4/cp-0001.ckpt\n"
     ]
    },
    {
     "name": "stderr",
     "output_type": "stream",
     "text": [
      "W0623 00:00:51.245908  5744 callbacks.py:241] Method (on_train_batch_end) is slow compared to the batch update (0.373938). Check your callbacks.\n"
     ]
    },
    {
     "name": "stdout",
     "output_type": "stream",
     "text": [
      "190/468 [===========>..................] - ETA: 2:45 - loss: 0.2321 - accuracy: 0.8726\n",
      "Epoch 00001: saving model to training_10_4/cp-0001.ckpt\n"
     ]
    },
    {
     "name": "stderr",
     "output_type": "stream",
     "text": [
      "W0623 00:00:51.711250  5744 callbacks.py:241] Method (on_train_batch_end) is slow compared to the batch update (0.384692). Check your callbacks.\n"
     ]
    },
    {
     "name": "stdout",
     "output_type": "stream",
     "text": [
      "191/468 [===========>..................] - ETA: 2:44 - loss: 0.2317 - accuracy: 0.8729\n",
      "Epoch 00001: saving model to training_10_4/cp-0001.ckpt\n"
     ]
    },
    {
     "name": "stderr",
     "output_type": "stream",
     "text": [
      "W0623 00:00:51.988892  5744 callbacks.py:241] Method (on_train_batch_end) is slow compared to the batch update (0.384692). Check your callbacks.\n"
     ]
    },
    {
     "name": "stdout",
     "output_type": "stream",
     "text": [
      "192/468 [===========>..................] - ETA: 2:43 - loss: 0.2315 - accuracy: 0.8732\n",
      "Epoch 00001: saving model to training_10_4/cp-0001.ckpt\n"
     ]
    },
    {
     "name": "stderr",
     "output_type": "stream",
     "text": [
      "W0623 00:00:55.168102  5744 callbacks.py:241] Method (on_train_batch_end) is slow compared to the batch update (0.384692). Check your callbacks.\n"
     ]
    },
    {
     "name": "stdout",
     "output_type": "stream",
     "text": [
      "193/468 [===========>..................] - ETA: 2:46 - loss: 0.2308 - accuracy: 0.8735\n",
      "Epoch 00001: saving model to training_10_4/cp-0001.ckpt\n"
     ]
    },
    {
     "name": "stderr",
     "output_type": "stream",
     "text": [
      "W0623 00:00:55.618783  5744 callbacks.py:241] Method (on_train_batch_end) is slow compared to the batch update (0.367584). Check your callbacks.\n"
     ]
    },
    {
     "name": "stdout",
     "output_type": "stream",
     "text": [
      "194/468 [===========>..................] - ETA: 2:46 - loss: 0.2299 - accuracy: 0.8737\n",
      "Epoch 00001: saving model to training_10_4/cp-0001.ckpt\n"
     ]
    },
    {
     "name": "stderr",
     "output_type": "stream",
     "text": [
      "W0623 00:00:56.092928  5744 callbacks.py:241] Method (on_train_batch_end) is slow compared to the batch update (0.367584). Check your callbacks.\n"
     ]
    },
    {
     "name": "stdout",
     "output_type": "stream",
     "text": [
      "195/468 [===========>..................] - ETA: 2:45 - loss: 0.2296 - accuracy: 0.8740\n",
      "Epoch 00001: saving model to training_10_4/cp-0001.ckpt\n"
     ]
    },
    {
     "name": "stderr",
     "output_type": "stream",
     "text": [
      "W0623 00:00:56.445848  5744 callbacks.py:241] Method (on_train_batch_end) is slow compared to the batch update (0.359274). Check your callbacks.\n"
     ]
    },
    {
     "name": "stdout",
     "output_type": "stream",
     "text": [
      "196/468 [===========>..................] - ETA: 2:44 - loss: 0.2295 - accuracy: 0.8743\n",
      "Epoch 00001: saving model to training_10_4/cp-0001.ckpt\n"
     ]
    },
    {
     "name": "stderr",
     "output_type": "stream",
     "text": [
      "W0623 00:00:57.098895  5744 callbacks.py:241] Method (on_train_batch_end) is slow compared to the batch update (0.367584). Check your callbacks.\n"
     ]
    },
    {
     "name": "stdout",
     "output_type": "stream",
     "text": [
      "197/468 [===========>..................] - ETA: 2:43 - loss: 0.2289 - accuracy: 0.8746\n",
      "Epoch 00001: saving model to training_10_4/cp-0001.ckpt\n"
     ]
    },
    {
     "name": "stderr",
     "output_type": "stream",
     "text": [
      "W0623 00:00:57.500706  5744 callbacks.py:241] Method (on_train_batch_end) is slow compared to the batch update (0.367584). Check your callbacks.\n"
     ]
    },
    {
     "name": "stdout",
     "output_type": "stream",
     "text": [
      "198/468 [===========>..................] - ETA: 2:42 - loss: 0.2288 - accuracy: 0.8748\n",
      "Epoch 00001: saving model to training_10_4/cp-0001.ckpt\n"
     ]
    },
    {
     "name": "stderr",
     "output_type": "stream",
     "text": [
      "W0623 00:00:57.959198  5744 callbacks.py:241] Method (on_train_batch_end) is slow compared to the batch update (0.373449). Check your callbacks.\n"
     ]
    },
    {
     "name": "stdout",
     "output_type": "stream",
     "text": [
      "199/468 [===========>..................] - ETA: 2:42 - loss: 0.2287 - accuracy: 0.8751\n",
      "Epoch 00001: saving model to training_10_4/cp-0001.ckpt\n"
     ]
    },
    {
     "name": "stderr",
     "output_type": "stream",
     "text": [
      "W0623 00:00:58.336559  5744 callbacks.py:241] Method (on_train_batch_end) is slow compared to the batch update (0.373449). Check your callbacks.\n"
     ]
    },
    {
     "name": "stdout",
     "output_type": "stream",
     "text": [
      "200/468 [===========>..................] - ETA: 2:41 - loss: 0.2281 - accuracy: 0.8754\n",
      "Epoch 00001: saving model to training_10_4/cp-0001.ckpt\n"
     ]
    },
    {
     "name": "stderr",
     "output_type": "stream",
     "text": [
      "W0623 00:00:58.662106  5744 callbacks.py:241] Method (on_train_batch_end) is slow compared to the batch update (0.352435). Check your callbacks.\n"
     ]
    },
    {
     "name": "stdout",
     "output_type": "stream",
     "text": [
      "201/468 [===========>..................] - ETA: 2:40 - loss: 0.2279 - accuracy: 0.8756\n",
      "Epoch 00001: saving model to training_10_4/cp-0001.ckpt\n"
     ]
    },
    {
     "name": "stderr",
     "output_type": "stream",
     "text": [
      "W0623 00:00:59.131365  5744 callbacks.py:241] Method (on_train_batch_end) is slow compared to the batch update (0.362207). Check your callbacks.\n"
     ]
    },
    {
     "name": "stdout",
     "output_type": "stream",
     "text": [
      "202/468 [===========>..................] - ETA: 2:39 - loss: 0.2279 - accuracy: 0.8759\n",
      "Epoch 00001: saving model to training_10_4/cp-0001.ckpt\n"
     ]
    },
    {
     "name": "stderr",
     "output_type": "stream",
     "text": [
      "W0623 00:00:59.540007  5744 callbacks.py:241] Method (on_train_batch_end) is slow compared to the batch update (0.350969). Check your callbacks.\n"
     ]
    },
    {
     "name": "stdout",
     "output_type": "stream",
     "text": [
      "203/468 [============>.................] - ETA: 2:38 - loss: 0.2278 - accuracy: 0.8762\n",
      "Epoch 00001: saving model to training_10_4/cp-0001.ckpt\n"
     ]
    },
    {
     "name": "stderr",
     "output_type": "stream",
     "text": [
      "W0623 00:01:00.006331  5744 callbacks.py:241] Method (on_train_batch_end) is slow compared to the batch update (0.344127). Check your callbacks.\n"
     ]
    },
    {
     "name": "stdout",
     "output_type": "stream",
     "text": [
      "204/468 [============>.................] - ETA: 2:37 - loss: 0.2275 - accuracy: 0.8764\n",
      "Epoch 00001: saving model to training_10_4/cp-0001.ckpt\n"
     ]
    },
    {
     "name": "stderr",
     "output_type": "stream",
     "text": [
      "W0623 00:01:00.603655  5744 callbacks.py:241] Method (on_train_batch_end) is slow compared to the batch update (0.341193). Check your callbacks.\n"
     ]
    },
    {
     "name": "stdout",
     "output_type": "stream",
     "text": [
      "205/468 [============>.................] - ETA: 2:37 - loss: 0.2269 - accuracy: 0.8767\n",
      "Epoch 00001: saving model to training_10_4/cp-0001.ckpt\n"
     ]
    },
    {
     "name": "stderr",
     "output_type": "stream",
     "text": [
      "W0623 00:01:01.236173  5744 callbacks.py:241] Method (on_train_batch_end) is slow compared to the batch update (0.344127). Check your callbacks.\n"
     ]
    },
    {
     "name": "stdout",
     "output_type": "stream",
     "text": [
      "206/468 [============>.................] - ETA: 2:36 - loss: 0.2268 - accuracy: 0.8769\n",
      "Epoch 00001: saving model to training_10_4/cp-0001.ckpt\n"
     ]
    },
    {
     "name": "stderr",
     "output_type": "stream",
     "text": [
      "W0623 00:01:02.080833  5744 callbacks.py:241] Method (on_train_batch_end) is slow compared to the batch update (0.344127). Check your callbacks.\n"
     ]
    },
    {
     "name": "stdout",
     "output_type": "stream",
     "text": [
      "207/468 [============>.................] - ETA: 2:36 - loss: 0.2266 - accuracy: 0.8772\n",
      "Epoch 00001: saving model to training_10_4/cp-0001.ckpt\n"
     ]
    },
    {
     "name": "stderr",
     "output_type": "stream",
     "text": [
      "W0623 00:01:02.575506  5744 callbacks.py:241] Method (on_train_batch_end) is slow compared to the batch update (0.353898). Check your callbacks.\n"
     ]
    },
    {
     "name": "stdout",
     "output_type": "stream",
     "text": [
      "208/468 [============>.................] - ETA: 2:35 - loss: 0.2259 - accuracy: 0.8774\n",
      "Epoch 00001: saving model to training_10_4/cp-0001.ckpt\n"
     ]
    },
    {
     "name": "stderr",
     "output_type": "stream",
     "text": [
      "W0623 00:01:02.992949  5744 callbacks.py:241] Method (on_train_batch_end) is slow compared to the batch update (0.353898). Check your callbacks.\n"
     ]
    },
    {
     "name": "stdout",
     "output_type": "stream",
     "text": [
      "209/468 [============>.................] - ETA: 2:34 - loss: 0.2253 - accuracy: 0.8777\n",
      "Epoch 00001: saving model to training_10_4/cp-0001.ckpt\n"
     ]
    },
    {
     "name": "stderr",
     "output_type": "stream",
     "text": [
      "W0623 00:01:03.526728  5744 callbacks.py:241] Method (on_train_batch_end) is slow compared to the batch update (0.360740). Check your callbacks.\n"
     ]
    },
    {
     "name": "stdout",
     "output_type": "stream",
     "text": [
      "210/468 [============>.................] - ETA: 2:34 - loss: 0.2251 - accuracy: 0.8779\n",
      "Epoch 00001: saving model to training_10_4/cp-0001.ckpt\n"
     ]
    },
    {
     "name": "stderr",
     "output_type": "stream",
     "text": [
      "W0623 00:01:04.932540  5744 callbacks.py:241] Method (on_train_batch_end) is slow compared to the batch update (0.364652). Check your callbacks.\n"
     ]
    },
    {
     "name": "stdout",
     "output_type": "stream",
     "text": [
      "211/468 [============>.................] - ETA: 2:34 - loss: 0.2248 - accuracy: 0.8782\n",
      "Epoch 00001: saving model to training_10_4/cp-0001.ckpt\n"
     ]
    },
    {
     "name": "stderr",
     "output_type": "stream",
     "text": [
      "W0623 00:01:05.291326  5744 callbacks.py:241] Method (on_train_batch_end) is slow compared to the batch update (0.364651). Check your callbacks.\n"
     ]
    },
    {
     "name": "stdout",
     "output_type": "stream",
     "text": [
      "212/468 [============>.................] - ETA: 2:33 - loss: 0.2247 - accuracy: 0.8784\n",
      "Epoch 00001: saving model to training_10_4/cp-0001.ckpt\n"
     ]
    },
    {
     "name": "stderr",
     "output_type": "stream",
     "text": [
      "W0623 00:01:05.568969  5744 callbacks.py:241] Method (on_train_batch_end) is slow compared to the batch update (0.364651). Check your callbacks.\n"
     ]
    },
    {
     "name": "stdout",
     "output_type": "stream",
     "text": [
      "213/468 [============>.................] - ETA: 2:32 - loss: 0.2244 - accuracy: 0.8787\n",
      "Epoch 00001: saving model to training_10_4/cp-0001.ckpt\n"
     ]
    },
    {
     "name": "stderr",
     "output_type": "stream",
     "text": [
      "W0623 00:01:05.850523  5744 callbacks.py:241] Method (on_train_batch_end) is slow compared to the batch update (0.364651). Check your callbacks.\n"
     ]
    },
    {
     "name": "stdout",
     "output_type": "stream",
     "text": [
      "214/468 [============>.................] - ETA: 2:31 - loss: 0.2242 - accuracy: 0.8789\n",
      "Epoch 00001: saving model to training_10_4/cp-0001.ckpt\n"
     ]
    },
    {
     "name": "stderr",
     "output_type": "stream",
     "text": [
      "W0623 00:01:06.341287  5744 callbacks.py:241] Method (on_train_batch_end) is slow compared to the batch update (0.385181). Check your callbacks.\n"
     ]
    },
    {
     "name": "stdout",
     "output_type": "stream",
     "text": [
      "215/468 [============>.................] - ETA: 2:30 - loss: 0.2240 - accuracy: 0.8791\n",
      "Epoch 00001: saving model to training_10_4/cp-0001.ckpt\n"
     ]
    },
    {
     "name": "stderr",
     "output_type": "stream",
     "text": [
      "W0623 00:01:06.860402  5744 callbacks.py:241] Method (on_train_batch_end) is slow compared to the batch update (0.385181). Check your callbacks.\n"
     ]
    },
    {
     "name": "stdout",
     "output_type": "stream",
     "text": [
      "216/468 [============>.................] - ETA: 2:30 - loss: 0.2234 - accuracy: 0.8794\n",
      "Epoch 00001: saving model to training_10_4/cp-0001.ckpt\n"
     ]
    },
    {
     "name": "stderr",
     "output_type": "stream",
     "text": [
      "W0623 00:01:08.485203  5744 callbacks.py:241] Method (on_train_batch_end) is slow compared to the batch update (0.385181). Check your callbacks.\n"
     ]
    },
    {
     "name": "stdout",
     "output_type": "stream",
     "text": [
      "217/468 [============>.................] - ETA: 2:30 - loss: 0.2228 - accuracy: 0.8796\n",
      "Epoch 00001: saving model to training_10_4/cp-0001.ckpt\n"
     ]
    },
    {
     "name": "stderr",
     "output_type": "stream",
     "text": [
      "W0623 00:01:10.074806  5744 callbacks.py:241] Method (on_train_batch_end) is slow compared to the batch update (0.424286). Check your callbacks.\n"
     ]
    },
    {
     "name": "stdout",
     "output_type": "stream",
     "text": [
      "218/468 [============>.................] - ETA: 2:31 - loss: 0.2228 - accuracy: 0.8798\n",
      "Epoch 00001: saving model to training_10_4/cp-0001.ckpt\n"
     ]
    },
    {
     "name": "stderr",
     "output_type": "stream",
     "text": [
      "W0623 00:01:10.458031  5744 callbacks.py:241] Method (on_train_batch_end) is slow compared to the batch update (0.424286). Check your callbacks.\n"
     ]
    },
    {
     "name": "stdout",
     "output_type": "stream",
     "text": [
      "219/468 [=============>................] - ETA: 2:30 - loss: 0.2222 - accuracy: 0.8801\n",
      "Epoch 00001: saving model to training_10_4/cp-0001.ckpt\n"
     ]
    },
    {
     "name": "stderr",
     "output_type": "stream",
     "text": [
      "W0623 00:01:10.803130  5744 callbacks.py:241] Method (on_train_batch_end) is slow compared to the batch update (0.375405). Check your callbacks.\n"
     ]
    },
    {
     "name": "stdout",
     "output_type": "stream",
     "text": [
      "220/468 [=============>................] - ETA: 2:29 - loss: 0.2220 - accuracy: 0.8803\n",
      "Epoch 00001: saving model to training_10_4/cp-0001.ckpt\n"
     ]
    },
    {
     "name": "stderr",
     "output_type": "stream",
     "text": [
      "W0623 00:01:11.290961  5744 callbacks.py:241] Method (on_train_batch_end) is slow compared to the batch update (0.354385). Check your callbacks.\n"
     ]
    },
    {
     "name": "stdout",
     "output_type": "stream",
     "text": [
      "221/468 [=============>................] - ETA: 2:28 - loss: 0.2216 - accuracy: 0.8805\n",
      "Epoch 00001: saving model to training_10_4/cp-0001.ckpt\n"
     ]
    },
    {
     "name": "stderr",
     "output_type": "stream",
     "text": [
      "W0623 00:01:11.647792  5744 callbacks.py:241] Method (on_train_batch_end) is slow compared to the batch update (0.354385). Check your callbacks.\n"
     ]
    },
    {
     "name": "stdout",
     "output_type": "stream",
     "text": [
      "222/468 [=============>................] - ETA: 2:28 - loss: 0.2213 - accuracy: 0.8808\n",
      "Epoch 00001: saving model to training_10_4/cp-0001.ckpt\n"
     ]
    },
    {
     "name": "stderr",
     "output_type": "stream",
     "text": [
      "W0623 00:01:11.954763  5744 callbacks.py:241] Method (on_train_batch_end) is slow compared to the batch update (0.354385). Check your callbacks.\n"
     ]
    },
    {
     "name": "stdout",
     "output_type": "stream",
     "text": [
      "223/468 [=============>................] - ETA: 2:27 - loss: 0.2208 - accuracy: 0.8810\n",
      "Epoch 00001: saving model to training_10_4/cp-0001.ckpt\n"
     ]
    },
    {
     "name": "stderr",
     "output_type": "stream",
     "text": [
      "W0623 00:01:12.324303  5744 callbacks.py:241] Method (on_train_batch_end) is slow compared to the batch update (0.354385). Check your callbacks.\n"
     ]
    },
    {
     "name": "stdout",
     "output_type": "stream",
     "text": [
      "224/468 [=============>................] - ETA: 2:26 - loss: 0.2205 - accuracy: 0.8812\n",
      "Epoch 00001: saving model to training_10_4/cp-0001.ckpt\n"
     ]
    },
    {
     "name": "stderr",
     "output_type": "stream",
     "text": [
      "W0623 00:01:12.900119  5744 callbacks.py:241] Method (on_train_batch_end) is slow compared to the batch update (0.354385). Check your callbacks.\n"
     ]
    },
    {
     "name": "stdout",
     "output_type": "stream",
     "text": [
      "225/468 [=============>................] - ETA: 2:25 - loss: 0.2199 - accuracy: 0.8814\n",
      "Epoch 00001: saving model to training_10_4/cp-0001.ckpt\n"
     ]
    },
    {
     "name": "stderr",
     "output_type": "stream",
     "text": [
      "W0623 00:01:13.338092  5744 callbacks.py:241] Method (on_train_batch_end) is slow compared to the batch update (0.301595). Check your callbacks.\n"
     ]
    },
    {
     "name": "stdout",
     "output_type": "stream",
     "text": [
      "226/468 [=============>................] - ETA: 2:24 - loss: 0.2195 - accuracy: 0.8816\n",
      "Epoch 00001: saving model to training_10_4/cp-0001.ckpt\n"
     ]
    },
    {
     "name": "stderr",
     "output_type": "stream",
     "text": [
      "W0623 00:01:13.858183  5744 callbacks.py:241] Method (on_train_batch_end) is slow compared to the batch update (0.301595). Check your callbacks.\n"
     ]
    },
    {
     "name": "stdout",
     "output_type": "stream",
     "text": [
      "227/468 [=============>................] - ETA: 2:24 - loss: 0.2191 - accuracy: 0.8819\n",
      "Epoch 00001: saving model to training_10_4/cp-0001.ckpt\n"
     ]
    },
    {
     "name": "stderr",
     "output_type": "stream",
     "text": [
      "W0623 00:01:14.228699  5744 callbacks.py:241] Method (on_train_batch_end) is slow compared to the batch update (0.292796). Check your callbacks.\n"
     ]
    },
    {
     "name": "stdout",
     "output_type": "stream",
     "text": [
      "228/468 [=============>................] - ETA: 2:23 - loss: 0.2188 - accuracy: 0.8821\n",
      "Epoch 00001: saving model to training_10_4/cp-0001.ckpt\n"
     ]
    },
    {
     "name": "stderr",
     "output_type": "stream",
     "text": [
      "W0623 00:01:14.492657  5744 callbacks.py:241] Method (on_train_batch_end) is slow compared to the batch update (0.283019). Check your callbacks.\n"
     ]
    },
    {
     "name": "stdout",
     "output_type": "stream",
     "text": [
      "229/468 [=============>................] - ETA: 2:22 - loss: 0.2185 - accuracy: 0.8823\n",
      "Epoch 00001: saving model to training_10_4/cp-0001.ckpt\n"
     ]
    },
    {
     "name": "stderr",
     "output_type": "stream",
     "text": [
      "W0623 00:01:14.961915  5744 callbacks.py:241] Method (on_train_batch_end) is slow compared to the batch update (0.289375). Check your callbacks.\n"
     ]
    },
    {
     "name": "stdout",
     "output_type": "stream",
     "text": [
      "230/468 [=============>................] - ETA: 2:21 - loss: 0.2192 - accuracy: 0.8825\n",
      "Epoch 00001: saving model to training_10_4/cp-0001.ckpt\n"
     ]
    },
    {
     "name": "stderr",
     "output_type": "stream",
     "text": [
      "W0623 00:01:15.365669  5744 callbacks.py:241] Method (on_train_batch_end) is slow compared to the batch update (0.289375). Check your callbacks.\n"
     ]
    },
    {
     "name": "stdout",
     "output_type": "stream",
     "text": [
      "231/468 [=============>................] - ETA: 2:20 - loss: 0.2186 - accuracy: 0.8827\n",
      "Epoch 00001: saving model to training_10_4/cp-0001.ckpt\n"
     ]
    },
    {
     "name": "stderr",
     "output_type": "stream",
     "text": [
      "W0623 00:01:15.741073  5744 callbacks.py:241] Method (on_train_batch_end) is slow compared to the batch update (0.307950). Check your callbacks.\n"
     ]
    },
    {
     "name": "stdout",
     "output_type": "stream",
     "text": [
      "232/468 [=============>................] - ETA: 2:20 - loss: 0.2182 - accuracy: 0.8829\n",
      "Epoch 00001: saving model to training_10_4/cp-0001.ckpt\n"
     ]
    },
    {
     "name": "stderr",
     "output_type": "stream",
     "text": [
      "W0623 00:01:16.117456  5744 callbacks.py:241] Method (on_train_batch_end) is slow compared to the batch update (0.318214). Check your callbacks.\n"
     ]
    },
    {
     "name": "stdout",
     "output_type": "stream",
     "text": [
      "233/468 [=============>................] - ETA: 2:19 - loss: 0.2179 - accuracy: 0.8831\n",
      "Epoch 00001: saving model to training_10_4/cp-0001.ckpt\n"
     ]
    },
    {
     "name": "stderr",
     "output_type": "stream",
     "text": [
      "W0623 00:01:16.540764  5744 callbacks.py:241] Method (on_train_batch_end) is slow compared to the batch update (0.320169). Check your callbacks.\n"
     ]
    },
    {
     "name": "stdout",
     "output_type": "stream",
     "text": [
      "234/468 [==============>...............] - ETA: 2:18 - loss: 0.2180 - accuracy: 0.8834\n",
      "Epoch 00001: saving model to training_10_4/cp-0001.ckpt\n"
     ]
    },
    {
     "name": "stderr",
     "output_type": "stream",
     "text": [
      "W0623 00:01:16.938656  5744 callbacks.py:241] Method (on_train_batch_end) is slow compared to the batch update (0.320169). Check your callbacks.\n"
     ]
    },
    {
     "name": "stdout",
     "output_type": "stream",
     "text": [
      "235/468 [==============>...............] - ETA: 2:17 - loss: 0.2177 - accuracy: 0.8836\n",
      "Epoch 00001: saving model to training_10_4/cp-0001.ckpt\n"
     ]
    },
    {
     "name": "stderr",
     "output_type": "stream",
     "text": [
      "W0623 00:01:18.187071  5744 callbacks.py:241] Method (on_train_batch_end) is slow compared to the batch update (0.327502). Check your callbacks.\n"
     ]
    },
    {
     "name": "stdout",
     "output_type": "stream",
     "text": [
      "236/468 [==============>...............] - ETA: 2:17 - loss: 0.2173 - accuracy: 0.8838\n",
      "Epoch 00001: saving model to training_10_4/cp-0001.ckpt\n"
     ]
    },
    {
     "name": "stderr",
     "output_type": "stream",
     "text": [
      "W0623 00:01:18.560522  5744 callbacks.py:241] Method (on_train_batch_end) is slow compared to the batch update (0.320169). Check your callbacks.\n"
     ]
    },
    {
     "name": "stdout",
     "output_type": "stream",
     "text": [
      "237/468 [==============>...............] - ETA: 2:16 - loss: 0.2170 - accuracy: 0.8840\n",
      "Epoch 00001: saving model to training_10_4/cp-0001.ckpt\n"
     ]
    },
    {
     "name": "stderr",
     "output_type": "stream",
     "text": [
      "W0623 00:01:18.902688  5744 callbacks.py:241] Method (on_train_batch_end) is slow compared to the batch update (0.320169). Check your callbacks.\n"
     ]
    },
    {
     "name": "stdout",
     "output_type": "stream",
     "text": [
      "238/468 [==============>...............] - ETA: 2:16 - loss: 0.2166 - accuracy: 0.8842\n",
      "Epoch 00001: saving model to training_10_4/cp-0001.ckpt\n"
     ]
    },
    {
     "name": "stderr",
     "output_type": "stream",
     "text": [
      "W0623 00:01:19.282003  5744 callbacks.py:241] Method (on_train_batch_end) is slow compared to the batch update (0.320169). Check your callbacks.\n"
     ]
    },
    {
     "name": "stdout",
     "output_type": "stream",
     "text": [
      "239/468 [==============>...............] - ETA: 2:15 - loss: 0.2162 - accuracy: 0.8844\n",
      "Epoch 00001: saving model to training_10_4/cp-0001.ckpt\n"
     ]
    },
    {
     "name": "stderr",
     "output_type": "stream",
     "text": [
      "W0623 00:01:19.998332  5744 callbacks.py:241] Method (on_train_batch_end) is slow compared to the batch update (0.320169). Check your callbacks.\n"
     ]
    },
    {
     "name": "stdout",
     "output_type": "stream",
     "text": [
      "240/468 [==============>...............] - ETA: 2:14 - loss: 0.2158 - accuracy: 0.8846\n",
      "Epoch 00001: saving model to training_10_4/cp-0001.ckpt\n"
     ]
    },
    {
     "name": "stderr",
     "output_type": "stream",
     "text": [
      "W0623 00:01:20.371066  5744 callbacks.py:241] Method (on_train_batch_end) is slow compared to the batch update (0.321933). Check your callbacks.\n"
     ]
    },
    {
     "name": "stdout",
     "output_type": "stream",
     "text": [
      "241/468 [==============>...............] - ETA: 2:14 - loss: 0.2158 - accuracy: 0.8848\n",
      "Epoch 00001: saving model to training_10_4/cp-0001.ckpt\n"
     ]
    },
    {
     "name": "stderr",
     "output_type": "stream",
     "text": [
      "W0623 00:01:20.895070  5744 callbacks.py:241] Method (on_train_batch_end) is slow compared to the batch update (0.328776). Check your callbacks.\n"
     ]
    },
    {
     "name": "stdout",
     "output_type": "stream",
     "text": [
      "242/468 [==============>...............] - ETA: 2:13 - loss: 0.2152 - accuracy: 0.8850\n",
      "Epoch 00001: saving model to training_10_4/cp-0001.ckpt\n"
     ]
    },
    {
     "name": "stderr",
     "output_type": "stream",
     "text": [
      "W0623 00:01:21.909836  5744 callbacks.py:241] Method (on_train_batch_end) is slow compared to the batch update (0.341188). Check your callbacks.\n"
     ]
    },
    {
     "name": "stdout",
     "output_type": "stream",
     "text": [
      "243/468 [==============>...............] - ETA: 2:13 - loss: 0.2148 - accuracy: 0.8852\n",
      "Epoch 00001: saving model to training_10_4/cp-0001.ckpt\n"
     ]
    },
    {
     "name": "stderr",
     "output_type": "stream",
     "text": [
      "W0623 00:01:22.455344  5744 callbacks.py:241] Method (on_train_batch_end) is slow compared to the batch update (0.331900). Check your callbacks.\n"
     ]
    },
    {
     "name": "stdout",
     "output_type": "stream",
     "text": [
      "244/468 [==============>...............] - ETA: 2:12 - loss: 0.2144 - accuracy: 0.8854\n",
      "Epoch 00001: saving model to training_10_4/cp-0001.ckpt\n"
     ]
    },
    {
     "name": "stderr",
     "output_type": "stream",
     "text": [
      "W0623 00:01:22.831727  5744 callbacks.py:241] Method (on_train_batch_end) is slow compared to the batch update (0.326331). Check your callbacks.\n"
     ]
    },
    {
     "name": "stdout",
     "output_type": "stream",
     "text": [
      "245/468 [==============>...............] - ETA: 2:11 - loss: 0.2140 - accuracy: 0.8856\n",
      "Epoch 00001: saving model to training_10_4/cp-0001.ckpt\n"
     ]
    },
    {
     "name": "stderr",
     "output_type": "stream",
     "text": [
      "W0623 00:01:23.099593  5744 callbacks.py:241] Method (on_train_batch_end) is slow compared to the batch update (0.319977). Check your callbacks.\n"
     ]
    },
    {
     "name": "stdout",
     "output_type": "stream",
     "text": [
      "246/468 [==============>...............] - ETA: 2:10 - loss: 0.2138 - accuracy: 0.8857\n",
      "Epoch 00001: saving model to training_10_4/cp-0001.ckpt\n"
     ]
    },
    {
     "name": "stderr",
     "output_type": "stream",
     "text": [
      "W0623 00:01:23.304893  5744 callbacks.py:241] Method (on_train_batch_end) is slow compared to the batch update (0.319977). Check your callbacks.\n"
     ]
    },
    {
     "name": "stdout",
     "output_type": "stream",
     "text": [
      "247/468 [==============>...............] - ETA: 2:09 - loss: 0.2135 - accuracy: 0.8859\n",
      "Epoch 00001: saving model to training_10_4/cp-0001.ckpt\n"
     ]
    },
    {
     "name": "stderr",
     "output_type": "stream",
     "text": [
      "W0623 00:01:23.612846  5744 callbacks.py:241] Method (on_train_batch_end) is slow compared to the batch update (0.319977). Check your callbacks.\n"
     ]
    },
    {
     "name": "stdout",
     "output_type": "stream",
     "text": [
      "248/468 [==============>...............] - ETA: 2:09 - loss: 0.2130 - accuracy: 0.8861\n",
      "Epoch 00001: saving model to training_10_4/cp-0001.ckpt\n"
     ]
    },
    {
     "name": "stderr",
     "output_type": "stream",
     "text": [
      "W0623 00:01:24.157382  5744 callbacks.py:241] Method (on_train_batch_end) is slow compared to the batch update (0.326331). Check your callbacks.\n"
     ]
    },
    {
     "name": "stdout",
     "output_type": "stream",
     "text": [
      "249/468 [==============>...............] - ETA: 2:08 - loss: 0.2125 - accuracy: 0.8863\n",
      "Epoch 00001: saving model to training_10_4/cp-0001.ckpt\n"
     ]
    },
    {
     "name": "stderr",
     "output_type": "stream",
     "text": [
      "W0623 00:01:24.850507  5744 callbacks.py:241] Method (on_train_batch_end) is slow compared to the batch update (0.326331). Check your callbacks.\n"
     ]
    },
    {
     "name": "stdout",
     "output_type": "stream",
     "text": [
      "250/468 [===============>..............] - ETA: 2:07 - loss: 0.2124 - accuracy: 0.8865\n",
      "Epoch 00001: saving model to training_10_4/cp-0001.ckpt\n"
     ]
    },
    {
     "name": "stderr",
     "output_type": "stream",
     "text": [
      "W0623 00:01:25.377443  5744 callbacks.py:241] Method (on_train_batch_end) is slow compared to the batch update (0.320658). Check your callbacks.\n"
     ]
    },
    {
     "name": "stdout",
     "output_type": "stream",
     "text": [
      "251/468 [===============>..............] - ETA: 2:07 - loss: 0.2120 - accuracy: 0.8867\n",
      "Epoch 00001: saving model to training_10_4/cp-0001.ckpt\n"
     ]
    },
    {
     "name": "stderr",
     "output_type": "stream",
     "text": [
      "W0623 00:01:25.919044  5744 callbacks.py:241] Method (on_train_batch_end) is slow compared to the batch update (0.320658). Check your callbacks.\n"
     ]
    },
    {
     "name": "stdout",
     "output_type": "stream",
     "text": [
      "252/468 [===============>..............] - ETA: 2:06 - loss: 0.2114 - accuracy: 0.8869\n",
      "Epoch 00001: saving model to training_10_4/cp-0001.ckpt\n"
     ]
    },
    {
     "name": "stderr",
     "output_type": "stream",
     "text": [
      "W0623 00:01:26.499748  5744 callbacks.py:241] Method (on_train_batch_end) is slow compared to the batch update (0.320658). Check your callbacks.\n"
     ]
    },
    {
     "name": "stdout",
     "output_type": "stream",
     "text": [
      "253/468 [===============>..............] - ETA: 2:06 - loss: 0.2110 - accuracy: 0.8871\n",
      "Epoch 00001: saving model to training_10_4/cp-0001.ckpt\n"
     ]
    },
    {
     "name": "stderr",
     "output_type": "stream",
     "text": [
      "W0623 00:01:27.114668  5744 callbacks.py:241] Method (on_train_batch_end) is slow compared to the batch update (0.344610). Check your callbacks.\n"
     ]
    },
    {
     "name": "stdout",
     "output_type": "stream",
     "text": [
      "254/468 [===============>..............] - ETA: 2:05 - loss: 0.2106 - accuracy: 0.8873\n",
      "Epoch 00001: saving model to training_10_4/cp-0001.ckpt\n"
     ]
    },
    {
     "name": "stderr",
     "output_type": "stream",
     "text": [
      "W0623 00:01:27.706126  5744 callbacks.py:241] Method (on_train_batch_end) is slow compared to the batch update (0.380782). Check your callbacks.\n"
     ]
    },
    {
     "name": "stdout",
     "output_type": "stream",
     "text": [
      "255/468 [===============>..............] - ETA: 2:04 - loss: 0.2107 - accuracy: 0.8874\n",
      "Epoch 00001: saving model to training_10_4/cp-0001.ckpt\n"
     ]
    },
    {
     "name": "stderr",
     "output_type": "stream",
     "text": [
      "W0623 00:01:28.040469  5744 callbacks.py:241] Method (on_train_batch_end) is slow compared to the batch update (0.380782). Check your callbacks.\n"
     ]
    },
    {
     "name": "stdout",
     "output_type": "stream",
     "text": [
      "256/468 [===============>..............] - ETA: 2:04 - loss: 0.2106 - accuracy: 0.8876\n",
      "Epoch 00001: saving model to training_10_4/cp-0001.ckpt\n"
     ]
    },
    {
     "name": "stderr",
     "output_type": "stream",
     "text": [
      "W0623 00:01:28.366994  5744 callbacks.py:241] Method (on_train_batch_end) is slow compared to the batch update (0.380782). Check your callbacks.\n"
     ]
    },
    {
     "name": "stdout",
     "output_type": "stream",
     "text": [
      "257/468 [===============>..............] - ETA: 2:03 - loss: 0.2103 - accuracy: 0.8878\n",
      "Epoch 00001: saving model to training_10_4/cp-0001.ckpt\n"
     ]
    },
    {
     "name": "stderr",
     "output_type": "stream",
     "text": [
      "W0623 00:01:28.669078  5744 callbacks.py:241] Method (on_train_batch_end) is slow compared to the batch update (0.380782). Check your callbacks.\n"
     ]
    },
    {
     "name": "stdout",
     "output_type": "stream",
     "text": [
      "258/468 [===============>..............] - ETA: 2:02 - loss: 0.2100 - accuracy: 0.8880\n",
      "Epoch 00001: saving model to training_10_4/cp-0001.ckpt\n"
     ]
    },
    {
     "name": "stderr",
     "output_type": "stream",
     "text": [
      "W0623 00:01:29.026885  5744 callbacks.py:241] Method (on_train_batch_end) is slow compared to the batch update (0.344610). Check your callbacks.\n"
     ]
    },
    {
     "name": "stdout",
     "output_type": "stream",
     "text": [
      "259/468 [===============>..............] - ETA: 2:01 - loss: 0.2099 - accuracy: 0.8882\n",
      "Epoch 00001: saving model to training_10_4/cp-0001.ckpt\n"
     ]
    },
    {
     "name": "stderr",
     "output_type": "stream",
     "text": [
      "W0623 00:01:29.346566  5744 callbacks.py:241] Method (on_train_batch_end) is slow compared to the batch update (0.306972). Check your callbacks.\n"
     ]
    },
    {
     "name": "stdout",
     "output_type": "stream",
     "text": [
      "260/468 [===============>..............] - ETA: 2:01 - loss: 0.2099 - accuracy: 0.8883\n",
      "Epoch 00001: saving model to training_10_4/cp-0001.ckpt\n"
     ]
    },
    {
     "name": "stderr",
     "output_type": "stream",
     "text": [
      "W0623 00:01:29.687754  5744 callbacks.py:241] Method (on_train_batch_end) is slow compared to the batch update (0.287908). Check your callbacks.\n"
     ]
    },
    {
     "name": "stdout",
     "output_type": "stream",
     "text": [
      "261/468 [===============>..............] - ETA: 2:00 - loss: 0.2096 - accuracy: 0.8885\n",
      "Epoch 00001: saving model to training_10_4/cp-0001.ckpt\n"
     ]
    },
    {
     "name": "stderr",
     "output_type": "stream",
     "text": [
      "W0623 00:01:30.396528  5744 callbacks.py:241] Method (on_train_batch_end) is slow compared to the batch update (0.287908). Check your callbacks.\n"
     ]
    },
    {
     "name": "stdout",
     "output_type": "stream",
     "text": [
      "262/468 [===============>..............] - ETA: 1:59 - loss: 0.2093 - accuracy: 0.8887\n",
      "Epoch 00001: saving model to training_10_4/cp-0001.ckpt\n"
     ]
    },
    {
     "name": "stderr",
     "output_type": "stream",
     "text": [
      "W0623 00:01:30.925419  5744 callbacks.py:241] Method (on_train_batch_end) is slow compared to the batch update (0.287908). Check your callbacks.\n"
     ]
    },
    {
     "name": "stdout",
     "output_type": "stream",
     "text": [
      "263/468 [===============>..............] - ETA: 1:59 - loss: 0.2086 - accuracy: 0.8889\n",
      "Epoch 00001: saving model to training_10_4/cp-0001.ckpt\n"
     ]
    },
    {
     "name": "stderr",
     "output_type": "stream",
     "text": [
      "W0623 00:01:31.165912  5744 callbacks.py:241] Method (on_train_batch_end) is slow compared to the batch update (0.272754). Check your callbacks.\n"
     ]
    },
    {
     "name": "stdout",
     "output_type": "stream",
     "text": [
      "264/468 [===============>..............] - ETA: 1:58 - loss: 0.2083 - accuracy: 0.8890\n",
      "Epoch 00001: saving model to training_10_4/cp-0001.ckpt\n"
     ]
    },
    {
     "name": "stderr",
     "output_type": "stream",
     "text": [
      "W0623 00:01:31.371211  5744 callbacks.py:241] Method (on_train_batch_end) is slow compared to the batch update (0.259557). Check your callbacks.\n"
     ]
    },
    {
     "name": "stdout",
     "output_type": "stream",
     "text": [
      "265/468 [===============>..............] - ETA: 1:57 - loss: 0.2080 - accuracy: 0.8892\n",
      "Epoch 00001: saving model to training_10_4/cp-0001.ckpt\n"
     ]
    },
    {
     "name": "stderr",
     "output_type": "stream",
     "text": [
      "W0623 00:01:31.975380  5744 callbacks.py:241] Method (on_train_batch_end) is slow compared to the batch update (0.272754). Check your callbacks.\n"
     ]
    },
    {
     "name": "stdout",
     "output_type": "stream",
     "text": [
      "266/468 [================>.............] - ETA: 1:56 - loss: 0.2075 - accuracy: 0.8894\n",
      "Epoch 00001: saving model to training_10_4/cp-0001.ckpt\n"
     ]
    },
    {
     "name": "stderr",
     "output_type": "stream",
     "text": [
      "W0623 00:01:32.585414  5744 callbacks.py:241] Method (on_train_batch_end) is slow compared to the batch update (0.287908). Check your callbacks.\n"
     ]
    },
    {
     "name": "stdout",
     "output_type": "stream",
     "text": [
      "267/468 [================>.............] - ETA: 1:56 - loss: 0.2071 - accuracy: 0.8896\n",
      "Epoch 00001: saving model to training_10_4/cp-0001.ckpt\n"
     ]
    },
    {
     "name": "stderr",
     "output_type": "stream",
     "text": [
      "W0623 00:01:33.137766  5744 callbacks.py:241] Method (on_train_batch_end) is slow compared to the batch update (0.359274). Check your callbacks.\n"
     ]
    },
    {
     "name": "stdout",
     "output_type": "stream",
     "text": [
      "268/468 [================>.............] - ETA: 1:55 - loss: 0.2068 - accuracy: 0.8897\n",
      "Epoch 00001: saving model to training_10_4/cp-0001.ckpt\n"
     ]
    },
    {
     "name": "stderr",
     "output_type": "stream",
     "text": [
      "W0623 00:01:33.732157  5744 callbacks.py:241] Method (on_train_batch_end) is slow compared to the batch update (0.407177). Check your callbacks.\n"
     ]
    },
    {
     "name": "stdout",
     "output_type": "stream",
     "text": [
      "269/468 [================>.............] - ETA: 1:55 - loss: 0.2067 - accuracy: 0.8899\n",
      "Epoch 00001: saving model to training_10_4/cp-0001.ckpt\n"
     ]
    },
    {
     "name": "stderr",
     "output_type": "stream",
     "text": [
      "W0623 00:01:34.283534  5744 callbacks.py:241] Method (on_train_batch_end) is slow compared to the batch update (0.422818). Check your callbacks.\n"
     ]
    },
    {
     "name": "stdout",
     "output_type": "stream",
     "text": [
      "270/468 [================>.............] - ETA: 1:54 - loss: 0.2066 - accuracy: 0.8901\n",
      "Epoch 00001: saving model to training_10_4/cp-0001.ckpt\n"
     ]
    },
    {
     "name": "stderr",
     "output_type": "stream",
     "text": [
      "W0623 00:01:34.861305  5744 callbacks.py:241] Method (on_train_batch_end) is slow compared to the batch update (0.426728). Check your callbacks.\n"
     ]
    },
    {
     "name": "stdout",
     "output_type": "stream",
     "text": [
      "271/468 [================>.............] - ETA: 1:53 - loss: 0.2063 - accuracy: 0.8902\n",
      "Epoch 00001: saving model to training_10_4/cp-0001.ckpt\n"
     ]
    },
    {
     "name": "stderr",
     "output_type": "stream",
     "text": [
      "W0623 00:01:35.426367  5744 callbacks.py:241] Method (on_train_batch_end) is slow compared to the batch update (0.420374). Check your callbacks.\n"
     ]
    },
    {
     "name": "stdout",
     "output_type": "stream",
     "text": [
      "272/468 [================>.............] - ETA: 1:53 - loss: 0.2062 - accuracy: 0.8904\n",
      "Epoch 00001: saving model to training_10_4/cp-0001.ckpt\n"
     ]
    },
    {
     "name": "stderr",
     "output_type": "stream",
     "text": [
      "W0623 00:01:35.908332  5744 callbacks.py:241] Method (on_train_batch_end) is slow compared to the batch update (0.415486). Check your callbacks.\n"
     ]
    },
    {
     "name": "stdout",
     "output_type": "stream",
     "text": [
      "273/468 [================>.............] - ETA: 1:52 - loss: 0.2064 - accuracy: 0.8906\n",
      "Epoch 00001: saving model to training_10_4/cp-0001.ckpt\n"
     ]
    },
    {
     "name": "stderr",
     "output_type": "stream",
     "text": [
      "W0623 00:01:36.340438  5744 callbacks.py:241] Method (on_train_batch_end) is slow compared to the batch update (0.415486). Check your callbacks.\n"
     ]
    },
    {
     "name": "stdout",
     "output_type": "stream",
     "text": [
      "274/468 [================>.............] - ETA: 1:52 - loss: 0.2061 - accuracy: 0.8907\n",
      "Epoch 00001: saving model to training_10_4/cp-0001.ckpt\n"
     ]
    },
    {
     "name": "stderr",
     "output_type": "stream",
     "text": [
      "W0623 00:01:36.830225  5744 callbacks.py:241] Method (on_train_batch_end) is slow compared to the batch update (0.415486). Check your callbacks.\n"
     ]
    },
    {
     "name": "stdout",
     "output_type": "stream",
     "text": [
      "275/468 [================>.............] - ETA: 1:51 - loss: 0.2056 - accuracy: 0.8909\n",
      "Epoch 00001: saving model to training_10_4/cp-0001.ckpt\n"
     ]
    },
    {
     "name": "stderr",
     "output_type": "stream",
     "text": [
      "W0623 00:01:37.328809  5744 callbacks.py:241] Method (on_train_batch_end) is slow compared to the batch update (0.402288). Check your callbacks.\n"
     ]
    },
    {
     "name": "stdout",
     "output_type": "stream",
     "text": [
      "\b\b\b\b\b\b\b\b\b\b\b\b\b\b\b\b\b\b\b\b\b\b\b\b\b\b\b\b\b\b\b\b\b\b\b\b\b\b\b\b\b\b\b\b\b\b\b\b\b\b\b\b\b\b\b\b\b\b\b\b\b\b\b\b\b\b\b\b\b\b\b\b\b\b\b\b\b\b\b\b\b\b\b\b\b\b\r",
      "276/468 [================>.............] - ETA: 1:50 - loss: 0.2054 - accuracy: 0.8911"
     ]
    },
    {
     "name": "stderr",
     "output_type": "stream",
     "text": [
      "W0623 00:01:37.528242  5744 callbacks.py:241] Method (on_train_batch_end) is slow compared to the batch update (0.377360). Check your callbacks.\n"
     ]
    },
    {
     "name": "stdout",
     "output_type": "stream",
     "text": [
      "\n",
      "Epoch 00001: saving model to training_10_4/cp-0001.ckpt\n",
      "277/468 [================>.............] - ETA: 1:49 - loss: 0.2051 - accuracy: 0.8912\n",
      "Epoch 00001: saving model to training_10_4/cp-0001.ckpt\n"
     ]
    },
    {
     "name": "stderr",
     "output_type": "stream",
     "text": [
      "W0623 00:01:38.017052  5744 callbacks.py:241] Method (on_train_batch_end) is slow compared to the batch update (0.377360). Check your callbacks.\n"
     ]
    },
    {
     "name": "stdout",
     "output_type": "stream",
     "text": [
      "278/468 [================>.............] - ETA: 1:49 - loss: 0.2050 - accuracy: 0.8914\n",
      "Epoch 00001: saving model to training_10_4/cp-0001.ckpt\n"
     ]
    },
    {
     "name": "stderr",
     "output_type": "stream",
     "text": [
      "W0623 00:01:38.534213  5744 callbacks.py:241] Method (on_train_batch_end) is slow compared to the batch update (0.363675). Check your callbacks.\n"
     ]
    },
    {
     "name": "stdout",
     "output_type": "stream",
     "text": [
      "279/468 [================>.............] - ETA: 1:48 - loss: 0.2048 - accuracy: 0.8915\n",
      "Epoch 00001: saving model to training_10_4/cp-0001.ckpt\n"
     ]
    },
    {
     "name": "stderr",
     "output_type": "stream",
     "text": [
      "W0623 00:01:39.037684  5744 callbacks.py:241] Method (on_train_batch_end) is slow compared to the batch update (0.356341). Check your callbacks.\n"
     ]
    },
    {
     "name": "stdout",
     "output_type": "stream",
     "text": [
      "280/468 [================>.............] - ETA: 1:48 - loss: 0.2044 - accuracy: 0.8917\n",
      "Epoch 00001: saving model to training_10_4/cp-0001.ckpt\n"
     ]
    },
    {
     "name": "stderr",
     "output_type": "stream",
     "text": [
      "W0623 00:01:39.661404  5744 callbacks.py:241] Method (on_train_batch_end) is slow compared to the batch update (0.356341). Check your callbacks.\n"
     ]
    },
    {
     "name": "stdout",
     "output_type": "stream",
     "text": [
      "281/468 [=================>............] - ETA: 1:47 - loss: 0.2048 - accuracy: 0.8918\n",
      "Epoch 00001: saving model to training_10_4/cp-0001.ckpt\n"
     ]
    },
    {
     "name": "stderr",
     "output_type": "stream",
     "text": [
      "W0623 00:01:40.117958  5744 callbacks.py:241] Method (on_train_batch_end) is slow compared to the batch update (0.350964). Check your callbacks.\n"
     ]
    },
    {
     "name": "stdout",
     "output_type": "stream",
     "text": [
      "282/468 [=================>............] - ETA: 1:46 - loss: 0.2044 - accuracy: 0.8920\n",
      "Epoch 00001: saving model to training_10_4/cp-0001.ckpt\n"
     ]
    },
    {
     "name": "stderr",
     "output_type": "stream",
     "text": [
      "W0623 00:01:40.596983  5744 callbacks.py:241] Method (on_train_batch_end) is slow compared to the batch update (0.350964). Check your callbacks.\n"
     ]
    },
    {
     "name": "stdout",
     "output_type": "stream",
     "text": [
      "283/468 [=================>............] - ETA: 1:46 - loss: 0.2040 - accuracy: 0.8922\n",
      "Epoch 00001: saving model to training_10_4/cp-0001.ckpt\n"
     ]
    },
    {
     "name": "stderr",
     "output_type": "stream",
     "text": [
      "W0623 00:01:41.212882  5744 callbacks.py:241] Method (on_train_batch_end) is slow compared to the batch update (0.356341). Check your callbacks.\n"
     ]
    },
    {
     "name": "stdout",
     "output_type": "stream",
     "text": [
      "284/468 [=================>............] - ETA: 1:45 - loss: 0.2036 - accuracy: 0.8923\n",
      "Epoch 00001: saving model to training_10_4/cp-0001.ckpt\n"
     ]
    },
    {
     "name": "stderr",
     "output_type": "stream",
     "text": [
      "W0623 00:01:41.649875  5744 callbacks.py:241] Method (on_train_batch_end) is slow compared to the batch update (0.351454). Check your callbacks.\n"
     ]
    },
    {
     "name": "stdout",
     "output_type": "stream",
     "text": [
      "285/468 [=================>............] - ETA: 1:45 - loss: 0.2032 - accuracy: 0.8925\n",
      "Epoch 00001: saving model to training_10_4/cp-0001.ckpt\n"
     ]
    },
    {
     "name": "stderr",
     "output_type": "stream",
     "text": [
      "W0623 00:01:41.946094  5744 callbacks.py:241] Method (on_train_batch_end) is slow compared to the batch update (0.340211). Check your callbacks.\n"
     ]
    },
    {
     "name": "stdout",
     "output_type": "stream",
     "text": [
      "286/468 [=================>............] - ETA: 1:44 - loss: 0.2031 - accuracy: 0.8926\n",
      "Epoch 00001: saving model to training_10_4/cp-0001.ckpt\n"
     ]
    },
    {
     "name": "stderr",
     "output_type": "stream",
     "text": [
      "W0623 00:01:42.160192  5744 callbacks.py:241] Method (on_train_batch_end) is slow compared to the batch update (0.340211). Check your callbacks.\n"
     ]
    },
    {
     "name": "stdout",
     "output_type": "stream",
     "text": [
      "287/468 [=================>............] - ETA: 1:43 - loss: 0.2028 - accuracy: 0.8928\n",
      "Epoch 00001: saving model to training_10_4/cp-0001.ckpt\n"
     ]
    },
    {
     "name": "stderr",
     "output_type": "stream",
     "text": [
      "W0623 00:01:42.562969  5744 callbacks.py:241] Method (on_train_batch_end) is slow compared to the batch update (0.328965). Check your callbacks.\n"
     ]
    },
    {
     "name": "stdout",
     "output_type": "stream",
     "text": [
      "288/468 [=================>............] - ETA: 1:42 - loss: 0.2024 - accuracy: 0.8929\n",
      "Epoch 00001: saving model to training_10_4/cp-0001.ckpt\n"
     ]
    },
    {
     "name": "stderr",
     "output_type": "stream",
     "text": [
      "W0623 00:01:42.891448  5744 callbacks.py:241] Method (on_train_batch_end) is slow compared to the batch update (0.319191). Check your callbacks.\n"
     ]
    },
    {
     "name": "stdout",
     "output_type": "stream",
     "text": [
      "\b\b\b\b\b\b\b\b\b\b\b\b\b\b\b\b\b\b\b\b\b\b\b\b\b\b\b\b\b\b\b\b\b\b\b\b\b\b\b\b\b\b\b\b\b\b\b\b\b\b\b\b\b\b\b\b\b\b\b\b\b\b\b\b\b\b\b\b\b\b\b\b\b\b\b\b\b\b\b\b\b\b\b\b\b\b\r",
      "289/468 [=================>............] - ETA: 1:42 - loss: 0.2021 - accuracy: 0.8931"
     ]
    },
    {
     "name": "stderr",
     "output_type": "stream",
     "text": [
      "W0623 00:01:43.081106  5744 callbacks.py:241] Method (on_train_batch_end) is slow compared to the batch update (0.302086). Check your callbacks.\n"
     ]
    },
    {
     "name": "stdout",
     "output_type": "stream",
     "text": [
      "\n",
      "Epoch 00001: saving model to training_10_4/cp-0001.ckpt\n",
      "290/468 [=================>............] - ETA: 1:41 - loss: 0.2019 - accuracy: 0.8932\n",
      "Epoch 00001: saving model to training_10_4/cp-0001.ckpt\n"
     ]
    },
    {
     "name": "stderr",
     "output_type": "stream",
     "text": [
      "W0623 00:01:43.302048  5744 callbacks.py:241] Method (on_train_batch_end) is slow compared to the batch update (0.286442). Check your callbacks.\n"
     ]
    },
    {
     "name": "stdout",
     "output_type": "stream",
     "text": [
      "291/468 [=================>............] - ETA: 1:40 - loss: 0.2018 - accuracy: 0.8934\n",
      "Epoch 00001: saving model to training_10_4/cp-0001.ckpt\n"
     ]
    },
    {
     "name": "stderr",
     "output_type": "stream",
     "text": [
      "W0623 00:01:43.596314  5744 callbacks.py:241] Method (on_train_batch_end) is slow compared to the batch update (0.259556). Check your callbacks.\n"
     ]
    },
    {
     "name": "stdout",
     "output_type": "stream",
     "text": [
      "292/468 [=================>............] - ETA: 1:39 - loss: 0.2017 - accuracy: 0.8935\n",
      "Epoch 00001: saving model to training_10_4/cp-0001.ckpt\n"
     ]
    },
    {
     "name": "stderr",
     "output_type": "stream",
     "text": [
      "W0623 00:01:43.925767  5744 callbacks.py:241] Method (on_train_batch_end) is slow compared to the batch update (0.231695). Check your callbacks.\n"
     ]
    },
    {
     "name": "stdout",
     "output_type": "stream",
     "text": [
      "293/468 [=================>............] - ETA: 1:39 - loss: 0.2016 - accuracy: 0.8937\n",
      "Epoch 00001: saving model to training_10_4/cp-0001.ckpt\n"
     ]
    },
    {
     "name": "stderr",
     "output_type": "stream",
     "text": [
      "W0623 00:01:44.185816  5744 callbacks.py:241] Method (on_train_batch_end) is slow compared to the batch update (0.223875). Check your callbacks.\n"
     ]
    },
    {
     "name": "stdout",
     "output_type": "stream",
     "text": [
      "294/468 [=================>............] - ETA: 1:38 - loss: 0.2012 - accuracy: 0.8938\n",
      "Epoch 00001: saving model to training_10_4/cp-0001.ckpt\n"
     ]
    },
    {
     "name": "stderr",
     "output_type": "stream",
     "text": [
      "W0623 00:01:44.541668  5744 callbacks.py:241] Method (on_train_batch_end) is slow compared to the batch update (0.223875). Check your callbacks.\n"
     ]
    },
    {
     "name": "stdout",
     "output_type": "stream",
     "text": [
      "295/468 [=================>............] - ETA: 1:37 - loss: 0.2014 - accuracy: 0.8940\n",
      "Epoch 00001: saving model to training_10_4/cp-0001.ckpt\n"
     ]
    },
    {
     "name": "stderr",
     "output_type": "stream",
     "text": [
      "W0623 00:01:44.787050  5744 callbacks.py:241] Method (on_train_batch_end) is slow compared to the batch update (0.217521). Check your callbacks.\n"
     ]
    },
    {
     "name": "stdout",
     "output_type": "stream",
     "text": [
      "296/468 [=================>............] - ETA: 1:36 - loss: 0.2011 - accuracy: 0.8941\n",
      "Epoch 00001: saving model to training_10_4/cp-0001.ckpt\n"
     ]
    },
    {
     "name": "stderr",
     "output_type": "stream",
     "text": [
      "W0623 00:01:45.059804  5744 callbacks.py:241] Method (on_train_batch_end) is slow compared to the batch update (0.217521). Check your callbacks.\n"
     ]
    },
    {
     "name": "stdout",
     "output_type": "stream",
     "text": [
      "297/468 [==================>...........] - ETA: 1:36 - loss: 0.2007 - accuracy: 0.8943\n",
      "Epoch 00001: saving model to training_10_4/cp-0001.ckpt\n"
     ]
    },
    {
     "name": "stderr",
     "output_type": "stream",
     "text": [
      "W0623 00:01:45.512441  5744 callbacks.py:241] Method (on_train_batch_end) is slow compared to the batch update (0.217521). Check your callbacks.\n"
     ]
    },
    {
     "name": "stdout",
     "output_type": "stream",
     "text": [
      "298/468 [==================>...........] - ETA: 1:35 - loss: 0.2003 - accuracy: 0.8944\n",
      "Epoch 00001: saving model to training_10_4/cp-0001.ckpt\n"
     ]
    },
    {
     "name": "stderr",
     "output_type": "stream",
     "text": [
      "W0623 00:01:46.139093  5744 callbacks.py:241] Method (on_train_batch_end) is slow compared to the batch update (0.217521). Check your callbacks.\n"
     ]
    },
    {
     "name": "stdout",
     "output_type": "stream",
     "text": [
      "299/468 [==================>...........] - ETA: 1:34 - loss: 0.2003 - accuracy: 0.8945\n",
      "Epoch 00001: saving model to training_10_4/cp-0001.ckpt\n"
     ]
    },
    {
     "name": "stderr",
     "output_type": "stream",
     "text": [
      "W0623 00:01:46.740329  5744 callbacks.py:241] Method (on_train_batch_end) is slow compared to the batch update (0.223875). Check your callbacks.\n"
     ]
    },
    {
     "name": "stdout",
     "output_type": "stream",
     "text": [
      "300/468 [==================>...........] - ETA: 1:34 - loss: 0.2002 - accuracy: 0.8947\n",
      "Epoch 00001: saving model to training_10_4/cp-0001.ckpt\n"
     ]
    },
    {
     "name": "stderr",
     "output_type": "stream",
     "text": [
      "W0623 00:01:47.493098  5744 callbacks.py:241] Method (on_train_batch_end) is slow compared to the batch update (0.269335). Check your callbacks.\n"
     ]
    },
    {
     "name": "stdout",
     "output_type": "stream",
     "text": [
      "301/468 [==================>...........] - ETA: 1:33 - loss: 0.2000 - accuracy: 0.8948\n",
      "Epoch 00001: saving model to training_10_4/cp-0001.ckpt\n"
     ]
    },
    {
     "name": "stderr",
     "output_type": "stream",
     "text": [
      "W0623 00:01:48.110947  5744 callbacks.py:241] Method (on_train_batch_end) is slow compared to the batch update (0.356832). Check your callbacks.\n"
     ]
    },
    {
     "name": "stdout",
     "output_type": "stream",
     "text": [
      "302/468 [==================>...........] - ETA: 1:33 - loss: 0.1997 - accuracy: 0.8950\n",
      "Epoch 00001: saving model to training_10_4/cp-0001.ckpt\n"
     ]
    },
    {
     "name": "stderr",
     "output_type": "stream",
     "text": [
      "W0623 00:01:48.594869  5744 callbacks.py:241] Method (on_train_batch_end) is slow compared to the batch update (0.370518). Check your callbacks.\n"
     ]
    },
    {
     "name": "stdout",
     "output_type": "stream",
     "text": [
      "303/468 [==================>...........] - ETA: 1:32 - loss: 0.1993 - accuracy: 0.8951\n",
      "Epoch 00001: saving model to training_10_4/cp-0001.ckpt\n"
     ]
    },
    {
     "name": "stderr",
     "output_type": "stream",
     "text": [
      "W0623 00:01:49.069020  5744 callbacks.py:241] Method (on_train_batch_end) is slow compared to the batch update (0.379805). Check your callbacks.\n"
     ]
    },
    {
     "name": "stdout",
     "output_type": "stream",
     "text": [
      "304/468 [==================>...........] - ETA: 1:32 - loss: 0.1991 - accuracy: 0.8953\n",
      "Epoch 00001: saving model to training_10_4/cp-0001.ckpt\n"
     ]
    },
    {
     "name": "stderr",
     "output_type": "stream",
     "text": [
      "W0623 00:01:49.522625  5744 callbacks.py:241] Method (on_train_batch_end) is slow compared to the batch update (0.379805). Check your callbacks.\n"
     ]
    },
    {
     "name": "stdout",
     "output_type": "stream",
     "text": [
      "305/468 [==================>...........] - ETA: 1:31 - loss: 0.1986 - accuracy: 0.8954\n",
      "Epoch 00001: saving model to training_10_4/cp-0001.ckpt\n"
     ]
    },
    {
     "name": "stderr",
     "output_type": "stream",
     "text": [
      "W0623 00:01:49.785606  5744 callbacks.py:241] Method (on_train_batch_end) is slow compared to the batch update (0.379805). Check your callbacks.\n"
     ]
    },
    {
     "name": "stdout",
     "output_type": "stream",
     "text": [
      "306/468 [==================>...........] - ETA: 1:30 - loss: 0.1987 - accuracy: 0.8955\n",
      "Epoch 00001: saving model to training_10_4/cp-0001.ckpt\n"
     ]
    },
    {
     "name": "stderr",
     "output_type": "stream",
     "text": [
      "W0623 00:01:50.075956  5744 callbacks.py:241] Method (on_train_batch_end) is slow compared to the batch update (0.379805). Check your callbacks.\n"
     ]
    },
    {
     "name": "stdout",
     "output_type": "stream",
     "text": [
      "307/468 [==================>...........] - ETA: 1:30 - loss: 0.1985 - accuracy: 0.8957\n",
      "Epoch 00001: saving model to training_10_4/cp-0001.ckpt\n"
     ]
    },
    {
     "name": "stderr",
     "output_type": "stream",
     "text": [
      "W0623 00:01:50.463092  5744 callbacks.py:241] Method (on_train_batch_end) is slow compared to the batch update (0.347544). Check your callbacks.\n"
     ]
    },
    {
     "name": "stdout",
     "output_type": "stream",
     "text": [
      "308/468 [==================>...........] - ETA: 1:29 - loss: 0.1985 - accuracy: 0.8958\n",
      "Epoch 00001: saving model to training_10_4/cp-0001.ckpt\n"
     ]
    },
    {
     "name": "stderr",
     "output_type": "stream",
     "text": [
      "W0623 00:01:50.919639  5744 callbacks.py:241] Method (on_train_batch_end) is slow compared to the batch update (0.347544). Check your callbacks.\n"
     ]
    },
    {
     "name": "stdout",
     "output_type": "stream",
     "text": [
      "\b\b\b\b\b\b\b\b\b\b\b\b\b\b\b\b\b\b\b\b\b\b\b\b\b\b\b\b\b\b\b\b\b\b\b\b\b\b\b\b\b\b\b\b\b\b\b\b\b\b\b\b\b\b\b\b\b\b\b\b\b\b\b\b\b\b\b\b\b\b\b\b\b\b\b\b\b\b\b\b\b\b\b\b\b\b\r",
      "309/468 [==================>...........] - ETA: 1:28 - loss: 0.1984 - accuracy: 0.8959"
     ]
    },
    {
     "name": "stderr",
     "output_type": "stream",
     "text": [
      "W0623 00:01:51.104409  5744 callbacks.py:241] Method (on_train_batch_end) is slow compared to the batch update (0.334345). Check your callbacks.\n"
     ]
    },
    {
     "name": "stdout",
     "output_type": "stream",
     "text": [
      "\n",
      "Epoch 00001: saving model to training_10_4/cp-0001.ckpt\n",
      "310/468 [==================>...........] - ETA: 1:28 - loss: 0.1981 - accuracy: 0.8961\n",
      "Epoch 00001: saving model to training_10_4/cp-0001.ckpt\n"
     ]
    },
    {
     "name": "stderr",
     "output_type": "stream",
     "text": [
      "W0623 00:01:51.525763  5744 callbacks.py:241] Method (on_train_batch_end) is slow compared to the batch update (0.334345). Check your callbacks.\n"
     ]
    },
    {
     "name": "stdout",
     "output_type": "stream",
     "text": [
      "311/468 [==================>...........] - ETA: 1:27 - loss: 0.1979 - accuracy: 0.8962\n",
      "Epoch 00001: saving model to training_10_4/cp-0001.ckpt\n"
     ]
    },
    {
     "name": "stderr",
     "output_type": "stream",
     "text": [
      "W0623 00:01:51.973513  5744 callbacks.py:241] Method (on_train_batch_end) is slow compared to the batch update (0.327989). Check your callbacks.\n"
     ]
    },
    {
     "name": "stdout",
     "output_type": "stream",
     "text": [
      "312/468 [===================>..........] - ETA: 1:26 - loss: 0.1979 - accuracy: 0.8963\n",
      "Epoch 00001: saving model to training_10_4/cp-0001.ckpt\n"
     ]
    },
    {
     "name": "stderr",
     "output_type": "stream",
     "text": [
      "W0623 00:01:52.441790  5744 callbacks.py:241] Method (on_train_batch_end) is slow compared to the batch update (0.308926). Check your callbacks.\n"
     ]
    },
    {
     "name": "stdout",
     "output_type": "stream",
     "text": [
      "313/468 [===================>..........] - ETA: 1:26 - loss: 0.1978 - accuracy: 0.8965\n",
      "Epoch 00001: saving model to training_10_4/cp-0001.ckpt\n"
     ]
    },
    {
     "name": "stderr",
     "output_type": "stream",
     "text": [
      "W0623 00:01:53.016629  5744 callbacks.py:241] Method (on_train_batch_end) is slow compared to the batch update (0.308926). Check your callbacks.\n"
     ]
    },
    {
     "name": "stdout",
     "output_type": "stream",
     "text": [
      "314/468 [===================>..........] - ETA: 1:25 - loss: 0.1975 - accuracy: 0.8966\n",
      "Epoch 00001: saving model to training_10_4/cp-0001.ckpt\n"
     ]
    },
    {
     "name": "stderr",
     "output_type": "stream",
     "text": [
      "W0623 00:01:53.431137  5744 callbacks.py:241] Method (on_train_batch_end) is slow compared to the batch update (0.289864). Check your callbacks.\n"
     ]
    },
    {
     "name": "stdout",
     "output_type": "stream",
     "text": [
      "315/468 [===================>..........] - ETA: 1:25 - loss: 0.1972 - accuracy: 0.8967\n",
      "Epoch 00001: saving model to training_10_4/cp-0001.ckpt\n"
     ]
    },
    {
     "name": "stderr",
     "output_type": "stream",
     "text": [
      "W0623 00:01:54.042149  5744 callbacks.py:241] Method (on_train_batch_end) is slow compared to the batch update (0.308926). Check your callbacks.\n"
     ]
    },
    {
     "name": "stdout",
     "output_type": "stream",
     "text": [
      "316/468 [===================>..........] - ETA: 1:24 - loss: 0.1976 - accuracy: 0.8969\n",
      "Epoch 00001: saving model to training_10_4/cp-0001.ckpt\n"
     ]
    },
    {
     "name": "stderr",
     "output_type": "stream",
     "text": [
      "W0623 00:01:54.620899  5744 callbacks.py:241] Method (on_train_batch_end) is slow compared to the batch update (0.348520). Check your callbacks.\n"
     ]
    },
    {
     "name": "stdout",
     "output_type": "stream",
     "text": [
      "317/468 [===================>..........] - ETA: 1:24 - loss: 0.1974 - accuracy: 0.8970\n",
      "Epoch 00001: saving model to training_10_4/cp-0001.ckpt\n"
     ]
    },
    {
     "name": "stderr",
     "output_type": "stream",
     "text": [
      "W0623 00:01:55.265148  5744 callbacks.py:241] Method (on_train_batch_end) is slow compared to the batch update (0.373938). Check your callbacks.\n"
     ]
    },
    {
     "name": "stdout",
     "output_type": "stream",
     "text": [
      "318/468 [===================>..........] - ETA: 1:23 - loss: 0.1974 - accuracy: 0.8971\n",
      "Epoch 00001: saving model to training_10_4/cp-0001.ckpt\n"
     ]
    },
    {
     "name": "stderr",
     "output_type": "stream",
     "text": [
      "W0623 00:01:55.731471  5744 callbacks.py:241] Method (on_train_batch_end) is slow compared to the batch update (0.358786). Check your callbacks.\n"
     ]
    },
    {
     "name": "stdout",
     "output_type": "stream",
     "text": [
      "319/468 [===================>..........] - ETA: 1:22 - loss: 0.1969 - accuracy: 0.8973\n",
      "Epoch 00001: saving model to training_10_4/cp-0001.ckpt\n"
     ]
    },
    {
     "name": "stderr",
     "output_type": "stream",
     "text": [
      "W0623 00:01:55.935793  5744 callbacks.py:241] Method (on_train_batch_end) is slow compared to the batch update (0.358786). Check your callbacks.\n"
     ]
    },
    {
     "name": "stdout",
     "output_type": "stream",
     "text": [
      "320/468 [===================>..........] - ETA: 1:22 - loss: 0.1966 - accuracy: 0.8974\n",
      "Epoch 00001: saving model to training_10_4/cp-0001.ckpt\n"
     ]
    },
    {
     "name": "stderr",
     "output_type": "stream",
     "text": [
      "W0623 00:01:56.265249  5744 callbacks.py:241] Method (on_train_batch_end) is slow compared to the batch update (0.316748). Check your callbacks.\n"
     ]
    },
    {
     "name": "stdout",
     "output_type": "stream",
     "text": [
      "321/468 [===================>..........] - ETA: 1:21 - loss: 0.1964 - accuracy: 0.8975\n",
      "Epoch 00001: saving model to training_10_4/cp-0001.ckpt\n"
     ]
    },
    {
     "name": "stderr",
     "output_type": "stream",
     "text": [
      "W0623 00:01:56.539960  5744 callbacks.py:241] Method (on_train_batch_end) is slow compared to the batch update (0.314304). Check your callbacks.\n"
     ]
    },
    {
     "name": "stdout",
     "output_type": "stream",
     "text": [
      "322/468 [===================>..........] - ETA: 1:20 - loss: 0.1960 - accuracy: 0.8977\n",
      "Epoch 00001: saving model to training_10_4/cp-0001.ckpt\n"
     ]
    },
    {
     "name": "stderr",
     "output_type": "stream",
     "text": [
      "W0623 00:01:56.983797  5744 callbacks.py:241] Method (on_train_batch_end) is slow compared to the batch update (0.359274). Check your callbacks.\n"
     ]
    },
    {
     "name": "stdout",
     "output_type": "stream",
     "text": [
      "323/468 [===================>..........] - ETA: 1:20 - loss: 0.1960 - accuracy: 0.8978\n",
      "Epoch 00001: saving model to training_10_4/cp-0001.ckpt\n"
     ]
    },
    {
     "name": "stderr",
     "output_type": "stream",
     "text": [
      "W0623 00:01:57.304455  5744 callbacks.py:241] Method (on_train_batch_end) is slow compared to the batch update (0.305995). Check your callbacks.\n"
     ]
    },
    {
     "name": "stdout",
     "output_type": "stream",
     "text": [
      "324/468 [===================>..........] - ETA: 1:19 - loss: 0.1960 - accuracy: 0.8979\n",
      "Epoch 00001: saving model to training_10_4/cp-0001.ckpt\n"
     ]
    },
    {
     "name": "stderr",
     "output_type": "stream",
     "text": [
      "W0623 00:01:57.717987  5744 callbacks.py:241] Method (on_train_batch_end) is slow compared to the batch update (0.333368). Check your callbacks.\n"
     ]
    },
    {
     "name": "stdout",
     "output_type": "stream",
     "text": [
      "325/468 [===================>..........] - ETA: 1:19 - loss: 0.1958 - accuracy: 0.8980\n",
      "Epoch 00001: saving model to training_10_4/cp-0001.ckpt\n"
     ]
    },
    {
     "name": "stderr",
     "output_type": "stream",
     "text": [
      "W0623 00:01:58.098281  5744 callbacks.py:241] Method (on_train_batch_end) is slow compared to the batch update (0.327502). Check your callbacks.\n"
     ]
    },
    {
     "name": "stdout",
     "output_type": "stream",
     "text": [
      "326/468 [===================>..........] - ETA: 1:18 - loss: 0.1954 - accuracy: 0.8982\n",
      "Epoch 00001: saving model to training_10_4/cp-0001.ckpt\n"
     ]
    },
    {
     "name": "stderr",
     "output_type": "stream",
     "text": [
      "W0623 00:01:58.539186  5744 callbacks.py:241] Method (on_train_batch_end) is slow compared to the batch update (0.327502). Check your callbacks.\n"
     ]
    },
    {
     "name": "stdout",
     "output_type": "stream",
     "text": [
      "327/468 [===================>..........] - ETA: 1:17 - loss: 0.1952 - accuracy: 0.8983\n",
      "Epoch 00001: saving model to training_10_4/cp-0001.ckpt\n"
     ]
    },
    {
     "name": "stderr",
     "output_type": "stream",
     "text": [
      "W0623 00:01:58.877444  5744 callbacks.py:241] Method (on_train_batch_end) is slow compared to the batch update (0.298175). Check your callbacks.\n"
     ]
    },
    {
     "name": "stdout",
     "output_type": "stream",
     "text": [
      "328/468 [====================>.........] - ETA: 1:17 - loss: 0.1952 - accuracy: 0.8984\n",
      "Epoch 00001: saving model to training_10_4/cp-0001.ckpt\n"
     ]
    },
    {
     "name": "stderr",
     "output_type": "stream",
     "text": [
      "W0623 00:01:59.084697  5744 callbacks.py:241] Method (on_train_batch_end) is slow compared to the batch update (0.270801). Check your callbacks.\n"
     ]
    },
    {
     "name": "stdout",
     "output_type": "stream",
     "text": [
      "329/468 [====================>.........] - ETA: 1:16 - loss: 0.1952 - accuracy: 0.8985\n",
      "Epoch 00001: saving model to training_10_4/cp-0001.ckpt\n"
     ]
    },
    {
     "name": "stderr",
     "output_type": "stream",
     "text": [
      "W0623 00:01:59.388735  5744 callbacks.py:241] Method (on_train_batch_end) is slow compared to the batch update (0.270801). Check your callbacks.\n"
     ]
    },
    {
     "name": "stdout",
     "output_type": "stream",
     "text": [
      "330/468 [====================>.........] - ETA: 1:15 - loss: 0.1948 - accuracy: 0.8986\n",
      "Epoch 00001: saving model to training_10_4/cp-0001.ckpt\n"
     ]
    },
    {
     "name": "stderr",
     "output_type": "stream",
     "text": [
      "W0623 00:01:59.611632  5744 callbacks.py:241] Method (on_train_batch_end) is slow compared to the batch update (0.257114). Check your callbacks.\n"
     ]
    },
    {
     "name": "stdout",
     "output_type": "stream",
     "text": [
      "331/468 [====================>.........] - ETA: 1:15 - loss: 0.1948 - accuracy: 0.8988\n",
      "Epoch 00001: saving model to training_10_4/cp-0001.ckpt\n"
     ]
    },
    {
     "name": "stderr",
     "output_type": "stream",
     "text": [
      "W0623 00:01:59.901006  5744 callbacks.py:241] Method (on_train_batch_end) is slow compared to the batch update (0.257114). Check your callbacks.\n"
     ]
    },
    {
     "name": "stdout",
     "output_type": "stream",
     "text": [
      "332/468 [====================>.........] - ETA: 1:14 - loss: 0.1948 - accuracy: 0.8989\n",
      "Epoch 00001: saving model to training_10_4/cp-0001.ckpt\n"
     ]
    },
    {
     "name": "stderr",
     "output_type": "stream",
     "text": [
      "W0623 00:02:00.172783  5744 callbacks.py:241] Method (on_train_batch_end) is slow compared to the batch update (0.237561). Check your callbacks.\n"
     ]
    },
    {
     "name": "stdout",
     "output_type": "stream",
     "text": [
      "333/468 [====================>.........] - ETA: 1:13 - loss: 0.1947 - accuracy: 0.8990\n",
      "Epoch 00001: saving model to training_10_4/cp-0001.ckpt\n"
     ]
    },
    {
     "name": "stderr",
     "output_type": "stream",
     "text": [
      "W0623 00:02:00.537434  5744 callbacks.py:241] Method (on_train_batch_end) is slow compared to the batch update (0.251250). Check your callbacks.\n"
     ]
    },
    {
     "name": "stdout",
     "output_type": "stream",
     "text": [
      "334/468 [====================>.........] - ETA: 1:13 - loss: 0.1943 - accuracy: 0.8991\n",
      "Epoch 00001: saving model to training_10_4/cp-0001.ckpt\n"
     ]
    },
    {
     "name": "stderr",
     "output_type": "stream",
     "text": [
      "W0623 00:02:00.869835  5744 callbacks.py:241] Method (on_train_batch_end) is slow compared to the batch update (0.251250). Check your callbacks.\n"
     ]
    },
    {
     "name": "stdout",
     "output_type": "stream",
     "text": [
      "335/468 [====================>.........] - ETA: 1:12 - loss: 0.1944 - accuracy: 0.8993\n",
      "Epoch 00001: saving model to training_10_4/cp-0001.ckpt\n"
     ]
    },
    {
     "name": "stderr",
     "output_type": "stream",
     "text": [
      "W0623 00:02:01.472041  5744 callbacks.py:241] Method (on_train_batch_end) is slow compared to the batch update (0.251250). Check your callbacks.\n"
     ]
    },
    {
     "name": "stdout",
     "output_type": "stream",
     "text": [
      "336/468 [====================>.........] - ETA: 1:12 - loss: 0.1941 - accuracy: 0.8994\n",
      "Epoch 00001: saving model to training_10_4/cp-0001.ckpt\n"
     ]
    },
    {
     "name": "stderr",
     "output_type": "stream",
     "text": [
      "W0623 00:02:01.938368  5744 callbacks.py:241] Method (on_train_batch_end) is slow compared to the batch update (0.251250). Check your callbacks.\n"
     ]
    },
    {
     "name": "stdout",
     "output_type": "stream",
     "text": [
      "337/468 [====================>.........] - ETA: 1:11 - loss: 0.1938 - accuracy: 0.8995\n",
      "Epoch 00001: saving model to training_10_4/cp-0001.ckpt\n"
     ]
    },
    {
     "name": "stderr",
     "output_type": "stream",
     "text": [
      "W0623 00:02:02.528842  5744 callbacks.py:241] Method (on_train_batch_end) is slow compared to the batch update (0.256137). Check your callbacks.\n"
     ]
    },
    {
     "name": "stdout",
     "output_type": "stream",
     "text": [
      "338/468 [====================>.........] - ETA: 1:10 - loss: 0.1934 - accuracy: 0.8996\n",
      "Epoch 00001: saving model to training_10_4/cp-0001.ckpt\n"
     ]
    },
    {
     "name": "stderr",
     "output_type": "stream",
     "text": [
      "W0623 00:02:03.014718  5744 callbacks.py:241] Method (on_train_batch_end) is slow compared to the batch update (0.284488). Check your callbacks.\n"
     ]
    },
    {
     "name": "stdout",
     "output_type": "stream",
     "text": [
      "339/468 [====================>.........] - ETA: 1:10 - loss: 0.1933 - accuracy: 0.8997\n",
      "Epoch 00001: saving model to training_10_4/cp-0001.ckpt\n"
     ]
    },
    {
     "name": "stderr",
     "output_type": "stream",
     "text": [
      "W0623 00:02:03.683409  5744 callbacks.py:241] Method (on_train_batch_end) is slow compared to the batch update (0.297686). Check your callbacks.\n"
     ]
    },
    {
     "name": "stdout",
     "output_type": "stream",
     "text": [
      "340/468 [====================>.........] - ETA: 1:09 - loss: 0.1931 - accuracy: 0.8998\n",
      "Epoch 00001: saving model to training_10_4/cp-0001.ckpt\n"
     ]
    },
    {
     "name": "stderr",
     "output_type": "stream",
     "text": [
      "W0623 00:02:04.314947  5744 callbacks.py:241] Method (on_train_batch_end) is slow compared to the batch update (0.316748). Check your callbacks.\n"
     ]
    },
    {
     "name": "stdout",
     "output_type": "stream",
     "text": [
      "341/468 [====================>.........] - ETA: 1:09 - loss: 0.1929 - accuracy: 0.9000\n",
      "Epoch 00001: saving model to training_10_4/cp-0001.ckpt\n"
     ]
    },
    {
     "name": "stderr",
     "output_type": "stream",
     "text": [
      "W0623 00:02:04.855569  5744 callbacks.py:241] Method (on_train_batch_end) is slow compared to the batch update (0.324568). Check your callbacks.\n"
     ]
    },
    {
     "name": "stdout",
     "output_type": "stream",
     "text": [
      "342/468 [====================>.........] - ETA: 1:08 - loss: 0.1927 - accuracy: 0.9001\n",
      "Epoch 00001: saving model to training_10_4/cp-0001.ckpt\n"
     ]
    },
    {
     "name": "stderr",
     "output_type": "stream",
     "text": [
      "W0623 00:02:05.117570  5744 callbacks.py:241] Method (on_train_batch_end) is slow compared to the batch update (0.324568). Check your callbacks.\n"
     ]
    },
    {
     "name": "stdout",
     "output_type": "stream",
     "text": [
      "343/468 [====================>.........] - ETA: 1:08 - loss: 0.1925 - accuracy: 0.9002\n",
      "Epoch 00001: saving model to training_10_4/cp-0001.ckpt\n"
     ]
    },
    {
     "name": "stderr",
     "output_type": "stream",
     "text": [
      "W0623 00:02:05.398147  5744 callbacks.py:241] Method (on_train_batch_end) is slow compared to the batch update (0.324568). Check your callbacks.\n"
     ]
    },
    {
     "name": "stdout",
     "output_type": "stream",
     "text": [
      "344/468 [=====================>........] - ETA: 1:07 - loss: 0.1921 - accuracy: 0.9003\n",
      "Epoch 00001: saving model to training_10_4/cp-0001.ckpt\n"
     ]
    },
    {
     "name": "stderr",
     "output_type": "stream",
     "text": [
      "W0623 00:02:05.679703  5744 callbacks.py:241] Method (on_train_batch_end) is slow compared to the batch update (0.324568). Check your callbacks.\n"
     ]
    },
    {
     "name": "stdout",
     "output_type": "stream",
     "text": [
      "345/468 [=====================>........] - ETA: 1:06 - loss: 0.1919 - accuracy: 0.9004\n",
      "Epoch 00001: saving model to training_10_4/cp-0001.ckpt\n"
     ]
    },
    {
     "name": "stderr",
     "output_type": "stream",
     "text": [
      "W0623 00:02:05.990581  5744 callbacks.py:241] Method (on_train_batch_end) is slow compared to the batch update (0.305506). Check your callbacks.\n"
     ]
    },
    {
     "name": "stdout",
     "output_type": "stream",
     "text": [
      "346/468 [=====================>........] - ETA: 1:06 - loss: 0.1917 - accuracy: 0.9005\n",
      "Epoch 00001: saving model to training_10_4/cp-0001.ckpt\n"
     ]
    },
    {
     "name": "stderr",
     "output_type": "stream",
     "text": [
      "W0623 00:02:06.256496  5744 callbacks.py:241] Method (on_train_batch_end) is slow compared to the batch update (0.288398). Check your callbacks.\n"
     ]
    },
    {
     "name": "stdout",
     "output_type": "stream",
     "text": [
      "347/468 [=====================>........] - ETA: 1:05 - loss: 0.1915 - accuracy: 0.9007\n",
      "Epoch 00001: saving model to training_10_4/cp-0001.ckpt\n"
     ]
    },
    {
     "name": "stderr",
     "output_type": "stream",
     "text": [
      "W0623 00:02:06.520452  5744 callbacks.py:241] Method (on_train_batch_end) is slow compared to the batch update (0.240494). Check your callbacks.\n"
     ]
    },
    {
     "name": "stdout",
     "output_type": "stream",
     "text": [
      "348/468 [=====================>........] - ETA: 1:04 - loss: 0.1912 - accuracy: 0.9008\n",
      "Epoch 00001: saving model to training_10_4/cp-0001.ckpt\n"
     ]
    },
    {
     "name": "stderr",
     "output_type": "stream",
     "text": [
      "W0623 00:02:06.758990  5744 callbacks.py:241] Method (on_train_batch_end) is slow compared to the batch update (0.221919). Check your callbacks.\n"
     ]
    },
    {
     "name": "stdout",
     "output_type": "stream",
     "text": [
      "349/468 [=====================>........] - ETA: 1:04 - loss: 0.1910 - accuracy: 0.9009\n",
      "Epoch 00001: saving model to training_10_4/cp-0001.ckpt\n"
     ]
    },
    {
     "name": "stderr",
     "output_type": "stream",
     "text": [
      "W0623 00:02:07.026855  5744 callbacks.py:241] Method (on_train_batch_end) is slow compared to the batch update (0.218498). Check your callbacks.\n"
     ]
    },
    {
     "name": "stdout",
     "output_type": "stream",
     "text": [
      "350/468 [=====================>........] - ETA: 1:03 - loss: 0.1908 - accuracy: 0.9010\n",
      "Epoch 00001: saving model to training_10_4/cp-0001.ckpt\n"
     ]
    },
    {
     "name": "stderr",
     "output_type": "stream",
     "text": [
      "W0623 00:02:07.315253  5744 callbacks.py:241] Method (on_train_batch_end) is slow compared to the batch update (0.218498). Check your callbacks.\n"
     ]
    },
    {
     "name": "stdout",
     "output_type": "stream",
     "text": [
      "351/468 [=====================>........] - ETA: 1:03 - loss: 0.1905 - accuracy: 0.9011\n",
      "Epoch 00001: saving model to training_10_4/cp-0001.ckpt\n"
     ]
    },
    {
     "name": "stderr",
     "output_type": "stream",
     "text": [
      "W0623 00:02:07.601694  5744 callbacks.py:241] Method (on_train_batch_end) is slow compared to the batch update (0.218498). Check your callbacks.\n"
     ]
    },
    {
     "name": "stdout",
     "output_type": "stream",
     "text": [
      "352/468 [=====================>........] - ETA: 1:02 - loss: 0.1901 - accuracy: 0.9012\n",
      "Epoch 00001: saving model to training_10_4/cp-0001.ckpt\n"
     ]
    },
    {
     "name": "stderr",
     "output_type": "stream",
     "text": [
      "W0623 00:02:07.998607  5744 callbacks.py:241] Method (on_train_batch_end) is slow compared to the batch update (0.220941). Check your callbacks.\n"
     ]
    },
    {
     "name": "stdout",
     "output_type": "stream",
     "text": [
      "353/468 [=====================>........] - ETA: 1:01 - loss: 0.1898 - accuracy: 0.9013\n",
      "Epoch 00001: saving model to training_10_4/cp-0001.ckpt\n"
     ]
    },
    {
     "name": "stderr",
     "output_type": "stream",
     "text": [
      "W0623 00:02:08.213682  5744 callbacks.py:241] Method (on_train_batch_end) is slow compared to the batch update (0.218498). Check your callbacks.\n"
     ]
    },
    {
     "name": "stdout",
     "output_type": "stream",
     "text": [
      "354/468 [=====================>........] - ETA: 1:01 - loss: 0.1898 - accuracy: 0.9014\n",
      "Epoch 00001: saving model to training_10_4/cp-0001.ckpt\n"
     ]
    },
    {
     "name": "stderr",
     "output_type": "stream",
     "text": [
      "W0623 00:02:08.434624  5744 callbacks.py:241] Method (on_train_batch_end) is slow compared to the batch update (0.216054). Check your callbacks.\n"
     ]
    },
    {
     "name": "stdout",
     "output_type": "stream",
     "text": [
      "355/468 [=====================>........] - ETA: 1:00 - loss: 0.1894 - accuracy: 0.9016\n",
      "Epoch 00001: saving model to training_10_4/cp-0001.ckpt\n"
     ]
    },
    {
     "name": "stderr",
     "output_type": "stream",
     "text": [
      "W0623 00:02:08.653611  5744 callbacks.py:241] Method (on_train_batch_end) is slow compared to the batch update (0.200413). Check your callbacks.\n"
     ]
    },
    {
     "name": "stdout",
     "output_type": "stream",
     "text": [
      "356/468 [=====================>........] - ETA: 59s - loss: 0.1891 - accuracy: 0.9017 \n",
      "Epoch 00001: saving model to training_10_4/cp-0001.ckpt\n"
     ]
    },
    {
     "name": "stderr",
     "output_type": "stream",
     "text": [
      "W0623 00:02:09.202055  5744 callbacks.py:241] Method (on_train_batch_end) is slow compared to the batch update (0.216054). Check your callbacks.\n"
     ]
    },
    {
     "name": "stdout",
     "output_type": "stream",
     "text": [
      "357/468 [=====================>........] - ETA: 59s - loss: 0.1888 - accuracy: 0.9018\n",
      "Epoch 00001: saving model to training_10_4/cp-0001.ckpt\n"
     ]
    },
    {
     "name": "stderr",
     "output_type": "stream",
     "text": [
      "W0623 00:02:09.786669  5744 callbacks.py:241] Method (on_train_batch_end) is slow compared to the batch update (0.220941). Check your callbacks.\n"
     ]
    },
    {
     "name": "stdout",
     "output_type": "stream",
     "text": [
      "358/468 [=====================>........] - ETA: 58s - loss: 0.1886 - accuracy: 0.9019\n",
      "Epoch 00001: saving model to training_10_4/cp-0001.ckpt\n"
     ]
    },
    {
     "name": "stderr",
     "output_type": "stream",
     "text": [
      "W0623 00:02:10.289166  5744 callbacks.py:241] Method (on_train_batch_end) is slow compared to the batch update (0.230716). Check your callbacks.\n"
     ]
    },
    {
     "name": "stdout",
     "output_type": "stream",
     "text": [
      "359/468 [======================>.......] - ETA: 58s - loss: 0.1882 - accuracy: 0.9020\n",
      "Epoch 00001: saving model to training_10_4/cp-0001.ckpt\n"
     ]
    },
    {
     "name": "stderr",
     "output_type": "stream",
     "text": [
      "W0623 00:02:11.099608  5744 callbacks.py:241] Method (on_train_batch_end) is slow compared to the batch update (0.290840). Check your callbacks.\n"
     ]
    },
    {
     "name": "stdout",
     "output_type": "stream",
     "text": [
      "360/468 [======================>.......] - ETA: 57s - loss: 0.1881 - accuracy: 0.9021\n",
      "Epoch 00001: saving model to training_10_4/cp-0001.ckpt\n"
     ]
    },
    {
     "name": "stderr",
     "output_type": "stream",
     "text": [
      "W0623 00:02:11.396804  5744 callbacks.py:241] Method (on_train_batch_end) is slow compared to the batch update (0.294752). Check your callbacks.\n"
     ]
    },
    {
     "name": "stdout",
     "output_type": "stream",
     "text": [
      "361/468 [======================>.......] - ETA: 57s - loss: 0.1879 - accuracy: 0.9022\n",
      "Epoch 00001: saving model to training_10_4/cp-0001.ckpt\n"
     ]
    },
    {
     "name": "stderr",
     "output_type": "stream",
     "text": [
      "W0623 00:02:11.944272  5744 callbacks.py:241] Method (on_train_batch_end) is slow compared to the batch update (0.360253). Check your callbacks.\n"
     ]
    },
    {
     "name": "stdout",
     "output_type": "stream",
     "text": [
      "362/468 [======================>.......] - ETA: 56s - loss: 0.1875 - accuracy: 0.9023\n",
      "Epoch 00001: saving model to training_10_4/cp-0001.ckpt\n"
     ]
    },
    {
     "name": "stderr",
     "output_type": "stream",
     "text": [
      "W0623 00:02:12.452631  5744 callbacks.py:241] Method (on_train_batch_end) is slow compared to the batch update (0.386647). Check your callbacks.\n"
     ]
    },
    {
     "name": "stdout",
     "output_type": "stream",
     "text": [
      "363/468 [======================>.......] - ETA: 56s - loss: 0.1874 - accuracy: 0.9024\n",
      "Epoch 00001: saving model to training_10_4/cp-0001.ckpt\n"
     ]
    },
    {
     "name": "stderr",
     "output_type": "stream",
     "text": [
      "W0623 00:02:13.155538  5744 callbacks.py:241] Method (on_train_batch_end) is slow compared to the batch update (0.422820). Check your callbacks.\n"
     ]
    },
    {
     "name": "stdout",
     "output_type": "stream",
     "text": [
      "364/468 [======================>.......] - ETA: 55s - loss: 0.1874 - accuracy: 0.9025\n",
      "Epoch 00001: saving model to training_10_4/cp-0001.ckpt\n"
     ]
    },
    {
     "name": "stderr",
     "output_type": "stream",
     "text": [
      "W0623 00:02:13.674653  5744 callbacks.py:241] Method (on_train_batch_end) is slow compared to the batch update (0.422820). Check your callbacks.\n"
     ]
    },
    {
     "name": "stdout",
     "output_type": "stream",
     "text": [
      "365/468 [======================>.......] - ETA: 55s - loss: 0.1872 - accuracy: 0.9026\n",
      "Epoch 00001: saving model to training_10_4/cp-0001.ckpt\n"
     ]
    },
    {
     "name": "stderr",
     "output_type": "stream",
     "text": [
      "W0623 00:02:14.259269  5744 callbacks.py:241] Method (on_train_batch_end) is slow compared to the batch update (0.452149). Check your callbacks.\n"
     ]
    },
    {
     "name": "stdout",
     "output_type": "stream",
     "text": [
      "366/468 [======================>.......] - ETA: 54s - loss: 0.1869 - accuracy: 0.9027\n",
      "Epoch 00001: saving model to training_10_4/cp-0001.ckpt\n"
     ]
    },
    {
     "name": "stderr",
     "output_type": "stream",
     "text": [
      "W0623 00:02:15.641616  5744 callbacks.py:241] Method (on_train_batch_end) is slow compared to the batch update (0.453615). Check your callbacks.\n"
     ]
    },
    {
     "name": "stdout",
     "output_type": "stream",
     "text": [
      "367/468 [======================>.......] - ETA: 54s - loss: 0.1868 - accuracy: 0.9029\n",
      "Epoch 00001: saving model to training_10_4/cp-0001.ckpt\n"
     ]
    },
    {
     "name": "stderr",
     "output_type": "stream",
     "text": [
      "W0623 00:02:15.878199  5744 callbacks.py:241] Method (on_train_batch_end) is slow compared to the batch update (0.424285). Check your callbacks.\n"
     ]
    },
    {
     "name": "stdout",
     "output_type": "stream",
     "text": [
      "368/468 [======================>.......] - ETA: 53s - loss: 0.1867 - accuracy: 0.9030\n",
      "Epoch 00001: saving model to training_10_4/cp-0001.ckpt\n"
     ]
    },
    {
     "name": "stderr",
     "output_type": "stream",
     "text": [
      "W0623 00:02:16.106962  5744 callbacks.py:241] Method (on_train_batch_end) is slow compared to the batch update (0.424285). Check your callbacks.\n"
     ]
    },
    {
     "name": "stdout",
     "output_type": "stream",
     "text": [
      "369/468 [======================>.......] - ETA: 53s - loss: 0.1864 - accuracy: 0.9031\n",
      "Epoch 00001: saving model to training_10_4/cp-0001.ckpt\n"
     ]
    },
    {
     "name": "stderr",
     "output_type": "stream",
     "text": [
      "W0623 00:02:16.537116  5744 callbacks.py:241] Method (on_train_batch_end) is slow compared to the batch update (0.383714). Check your callbacks.\n"
     ]
    },
    {
     "name": "stdout",
     "output_type": "stream",
     "text": [
      "370/468 [======================>.......] - ETA: 52s - loss: 0.1862 - accuracy: 0.9032\n",
      "Epoch 00001: saving model to training_10_4/cp-0001.ckpt\n"
     ]
    },
    {
     "name": "stderr",
     "output_type": "stream",
     "text": [
      "W0623 00:02:18.476706  5744 callbacks.py:241] Method (on_train_batch_end) is slow compared to the batch update (0.424285). Check your callbacks.\n"
     ]
    },
    {
     "name": "stdout",
     "output_type": "stream",
     "text": [
      "371/468 [======================>.......] - ETA: 52s - loss: 0.1860 - accuracy: 0.9033\n",
      "Epoch 00001: saving model to training_10_4/cp-0001.ckpt\n"
     ]
    },
    {
     "name": "stderr",
     "output_type": "stream",
     "text": [
      "W0623 00:02:19.337986  5744 callbacks.py:241] Method (on_train_batch_end) is slow compared to the batch update (0.424285). Check your callbacks.\n"
     ]
    },
    {
     "name": "stdout",
     "output_type": "stream",
     "text": [
      "372/468 [======================>.......] - ETA: 51s - loss: 0.1858 - accuracy: 0.9034\n",
      "Epoch 00001: saving model to training_10_4/cp-0001.ckpt\n"
     ]
    },
    {
     "name": "stderr",
     "output_type": "stream",
     "text": [
      "W0623 00:02:20.080982  5744 callbacks.py:241] Method (on_train_batch_end) is slow compared to the batch update (0.523515). Check your callbacks.\n"
     ]
    },
    {
     "name": "stdout",
     "output_type": "stream",
     "text": [
      "373/468 [======================>.......] - ETA: 51s - loss: 0.1858 - accuracy: 0.9035\n",
      "Epoch 00001: saving model to training_10_4/cp-0001.ckpt\n"
     ]
    },
    {
     "name": "stderr",
     "output_type": "stream",
     "text": [
      "W0623 00:02:21.103562  5744 callbacks.py:241] Method (on_train_batch_end) is slow compared to the batch update (0.539157). Check your callbacks.\n"
     ]
    },
    {
     "name": "stdout",
     "output_type": "stream",
     "text": [
      "374/468 [======================>.......] - ETA: 51s - loss: 0.1855 - accuracy: 0.9036\n",
      "Epoch 00001: saving model to training_10_4/cp-0001.ckpt\n"
     ]
    },
    {
     "name": "stderr",
     "output_type": "stream",
     "text": [
      "W0623 00:02:22.005903  5744 callbacks.py:241] Method (on_train_batch_end) is slow compared to the batch update (0.654515). Check your callbacks.\n"
     ]
    },
    {
     "name": "stdout",
     "output_type": "stream",
     "text": [
      "375/468 [=======================>......] - ETA: 50s - loss: 0.1853 - accuracy: 0.9037\n",
      "Epoch 00001: saving model to training_10_4/cp-0001.ckpt\n"
     ]
    },
    {
     "name": "stderr",
     "output_type": "stream",
     "text": [
      "W0623 00:02:22.616912  5744 callbacks.py:241] Method (on_train_batch_end) is slow compared to the batch update (0.654515). Check your callbacks.\n"
     ]
    },
    {
     "name": "stdout",
     "output_type": "stream",
     "text": [
      "376/468 [=======================>......] - ETA: 50s - loss: 0.1853 - accuracy: 0.9038\n",
      "Epoch 00001: saving model to training_10_4/cp-0001.ckpt\n"
     ]
    },
    {
     "name": "stderr",
     "output_type": "stream",
     "text": [
      "W0623 00:02:23.569112  5744 callbacks.py:241] Method (on_train_batch_end) is slow compared to the batch update (0.654515). Check your callbacks.\n"
     ]
    },
    {
     "name": "stdout",
     "output_type": "stream",
     "text": [
      "377/468 [=======================>......] - ETA: 49s - loss: 0.1849 - accuracy: 0.9039\n",
      "Epoch 00001: saving model to training_10_4/cp-0001.ckpt\n"
     ]
    },
    {
     "name": "stderr",
     "output_type": "stream",
     "text": [
      "W0623 00:02:23.988511  5744 callbacks.py:241] Method (on_train_batch_end) is slow compared to the batch update (0.654515). Check your callbacks.\n"
     ]
    },
    {
     "name": "stdout",
     "output_type": "stream",
     "text": [
      "378/468 [=======================>......] - ETA: 49s - loss: 0.1849 - accuracy: 0.9040\n",
      "Epoch 00001: saving model to training_10_4/cp-0001.ckpt\n"
     ]
    },
    {
     "name": "stderr",
     "output_type": "stream",
     "text": [
      "W0623 00:02:24.387378  5744 callbacks.py:241] Method (on_train_batch_end) is slow compared to the batch update (0.654515). Check your callbacks.\n"
     ]
    },
    {
     "name": "stdout",
     "output_type": "stream",
     "text": [
      "379/468 [=======================>......] - ETA: 48s - loss: 0.1849 - accuracy: 0.9041\n",
      "Epoch 00001: saving model to training_10_4/cp-0001.ckpt\n"
     ]
    },
    {
     "name": "stderr",
     "output_type": "stream",
     "text": [
      "W0623 00:02:25.869446  5744 callbacks.py:241] Method (on_train_batch_end) is slow compared to the batch update (0.738101). Check your callbacks.\n"
     ]
    },
    {
     "name": "stdout",
     "output_type": "stream",
     "text": [
      "380/468 [=======================>......] - ETA: 48s - loss: 0.1848 - accuracy: 0.9042\n",
      "Epoch 00001: saving model to training_10_4/cp-0001.ckpt\n"
     ]
    },
    {
     "name": "stderr",
     "output_type": "stream",
     "text": [
      "W0623 00:02:26.797208  5744 callbacks.py:241] Method (on_train_batch_end) is slow compared to the batch update (0.728815). Check your callbacks.\n"
     ]
    },
    {
     "name": "stdout",
     "output_type": "stream",
     "text": [
      "381/468 [=======================>......] - ETA: 47s - loss: 0.1846 - accuracy: 0.9043\n",
      "Epoch 00001: saving model to training_10_4/cp-0001.ckpt\n"
     ]
    },
    {
     "name": "stderr",
     "output_type": "stream",
     "text": [
      "W0623 00:02:27.198033  5744 callbacks.py:241] Method (on_train_batch_end) is slow compared to the batch update (0.654515). Check your callbacks.\n"
     ]
    },
    {
     "name": "stdout",
     "output_type": "stream",
     "text": [
      "382/468 [=======================>......] - ETA: 47s - loss: 0.1846 - accuracy: 0.9044\n",
      "Epoch 00001: saving model to training_10_4/cp-0001.ckpt\n"
     ]
    },
    {
     "name": "stderr",
     "output_type": "stream",
     "text": [
      "W0623 00:02:27.655551  5744 callbacks.py:241] Method (on_train_batch_end) is slow compared to the batch update (0.583637). Check your callbacks.\n"
     ]
    },
    {
     "name": "stdout",
     "output_type": "stream",
     "text": [
      "383/468 [=======================>......] - ETA: 46s - loss: 0.1843 - accuracy: 0.9045\n",
      "Epoch 00001: saving model to training_10_4/cp-0001.ckpt\n"
     ]
    },
    {
     "name": "stderr",
     "output_type": "stream",
     "text": [
      "W0623 00:02:27.995763  5744 callbacks.py:241] Method (on_train_batch_end) is slow compared to the batch update (0.421354). Check your callbacks.\n"
     ]
    },
    {
     "name": "stdout",
     "output_type": "stream",
     "text": [
      "384/468 [=======================>......] - ETA: 45s - loss: 0.1841 - accuracy: 0.9046\n",
      "Epoch 00001: saving model to training_10_4/cp-0001.ckpt\n"
     ]
    },
    {
     "name": "stderr",
     "output_type": "stream",
     "text": [
      "W0623 00:02:28.526609  5744 callbacks.py:241] Method (on_train_batch_end) is slow compared to the batch update (0.373939). Check your callbacks.\n"
     ]
    },
    {
     "name": "stdout",
     "output_type": "stream",
     "text": [
      "385/468 [=======================>......] - ETA: 45s - loss: 0.1838 - accuracy: 0.9047\n",
      "Epoch 00001: saving model to training_10_4/cp-0001.ckpt\n"
     ]
    },
    {
     "name": "stderr",
     "output_type": "stream",
     "text": [
      "W0623 00:02:29.366381  5744 callbacks.py:241] Method (on_train_batch_end) is slow compared to the batch update (0.373939). Check your callbacks.\n"
     ]
    },
    {
     "name": "stdout",
     "output_type": "stream",
     "text": [
      "386/468 [=======================>......] - ETA: 44s - loss: 0.1837 - accuracy: 0.9048\n",
      "Epoch 00001: saving model to training_10_4/cp-0001.ckpt\n"
     ]
    },
    {
     "name": "stderr",
     "output_type": "stream",
     "text": [
      "W0623 00:02:29.956861  5744 callbacks.py:241] Method (on_train_batch_end) is slow compared to the batch update (0.362696). Check your callbacks.\n"
     ]
    },
    {
     "name": "stdout",
     "output_type": "stream",
     "text": [
      "387/468 [=======================>......] - ETA: 44s - loss: 0.1835 - accuracy: 0.9049\n",
      "Epoch 00001: saving model to training_10_4/cp-0001.ckpt\n"
     ]
    },
    {
     "name": "stderr",
     "output_type": "stream",
     "text": [
      "W0623 00:02:30.385060  5744 callbacks.py:241] Method (on_train_batch_end) is slow compared to the batch update (0.375405). Check your callbacks.\n"
     ]
    },
    {
     "name": "stdout",
     "output_type": "stream",
     "text": [
      "388/468 [=======================>......] - ETA: 43s - loss: 0.1835 - accuracy: 0.9050\n",
      "Epoch 00001: saving model to training_10_4/cp-0001.ckpt\n"
     ]
    },
    {
     "name": "stderr",
     "output_type": "stream",
     "text": [
      "W0623 00:02:31.217988  5744 callbacks.py:241] Method (on_train_batch_end) is slow compared to the batch update (0.386648). Check your callbacks.\n"
     ]
    },
    {
     "name": "stdout",
     "output_type": "stream",
     "text": [
      "389/468 [=======================>......] - ETA: 43s - loss: 0.1834 - accuracy: 0.9051\n",
      "Epoch 00001: saving model to training_10_4/cp-0001.ckpt\n"
     ]
    },
    {
     "name": "stderr",
     "output_type": "stream",
     "text": [
      "W0623 00:02:31.756655  5744 callbacks.py:241] Method (on_train_batch_end) is slow compared to the batch update (0.386648). Check your callbacks.\n"
     ]
    },
    {
     "name": "stdout",
     "output_type": "stream",
     "text": [
      "390/468 [========================>.....] - ETA: 42s - loss: 0.1830 - accuracy: 0.9052\n",
      "Epoch 00001: saving model to training_10_4/cp-0001.ckpt\n"
     ]
    },
    {
     "name": "stderr",
     "output_type": "stream",
     "text": [
      "W0623 00:02:32.797225  5744 callbacks.py:241] Method (on_train_batch_end) is slow compared to the batch update (0.386648). Check your callbacks.\n"
     ]
    },
    {
     "name": "stdout",
     "output_type": "stream",
     "text": [
      "391/468 [========================>.....] - ETA: 42s - loss: 0.1829 - accuracy: 0.9053\n",
      "Epoch 00001: saving model to training_10_4/cp-0001.ckpt\n"
     ]
    },
    {
     "name": "stderr",
     "output_type": "stream",
     "text": [
      "W0623 00:02:33.566407  5744 callbacks.py:241] Method (on_train_batch_end) is slow compared to the batch update (0.407664). Check your callbacks.\n"
     ]
    },
    {
     "name": "stdout",
     "output_type": "stream",
     "text": [
      "392/468 [========================>.....] - ETA: 41s - loss: 0.1828 - accuracy: 0.9054\n",
      "Epoch 00001: saving model to training_10_4/cp-0001.ckpt\n"
     ]
    },
    {
     "name": "stderr",
     "output_type": "stream",
     "text": [
      "W0623 00:02:34.232163  5744 callbacks.py:241] Method (on_train_batch_end) is slow compared to the batch update (0.467787). Check your callbacks.\n"
     ]
    },
    {
     "name": "stdout",
     "output_type": "stream",
     "text": [
      "393/468 [========================>.....] - ETA: 41s - loss: 0.1826 - accuracy: 0.9055\n",
      "Epoch 00001: saving model to training_10_4/cp-0001.ckpt\n"
     ]
    },
    {
     "name": "stderr",
     "output_type": "stream",
     "text": [
      "W0623 00:02:34.483409  5744 callbacks.py:241] Method (on_train_batch_end) is slow compared to the batch update (0.467787). Check your callbacks.\n"
     ]
    },
    {
     "name": "stdout",
     "output_type": "stream",
     "text": [
      "\b\b\b\b\b\b\b\b\b\b\b\b\b\b\b\b\b\b\b\b\b\b\b\b\b\b\b\b\b\b\b\b\b\b\b\b\b\b\b\b\b\b\b\b\b\b\b\b\b\b\b\b\b\b\b\b\b\b\b\b\b\b\b\b\b\b\b\b\b\b\b\b\b\b\b\b\b\b\b\b\b\b\b\b\b\r",
      "394/468 [========================>.....] - ETA: 40s - loss: 0.1828 - accuracy: 0.9056"
     ]
    },
    {
     "name": "stderr",
     "output_type": "stream",
     "text": [
      "W0623 00:02:34.666224  5744 callbacks.py:241] Method (on_train_batch_end) is slow compared to the batch update (0.467787). Check your callbacks.\n"
     ]
    },
    {
     "name": "stdout",
     "output_type": "stream",
     "text": [
      "\n",
      "Epoch 00001: saving model to training_10_4/cp-0001.ckpt\n",
      "395/468 [========================>.....] - ETA: 40s - loss: 0.1826 - accuracy: 0.9056\n",
      "Epoch 00001: saving model to training_10_4/cp-0001.ckpt\n"
     ]
    },
    {
     "name": "stderr",
     "output_type": "stream",
     "text": [
      "W0623 00:02:35.038705  5744 callbacks.py:241] Method (on_train_batch_end) is slow compared to the batch update (0.406199). Check your callbacks.\n"
     ]
    },
    {
     "name": "stdout",
     "output_type": "stream",
     "text": [
      "396/468 [========================>.....] - ETA: 39s - loss: 0.1825 - accuracy: 0.9057\n",
      "Epoch 00001: saving model to training_10_4/cp-0001.ckpt\n"
     ]
    },
    {
     "name": "stderr",
     "output_type": "stream",
     "text": [
      "W0623 00:02:35.666327  5744 callbacks.py:241] Method (on_train_batch_end) is slow compared to the batch update (0.467787). Check your callbacks.\n"
     ]
    },
    {
     "name": "stdout",
     "output_type": "stream",
     "text": [
      "397/468 [========================>.....] - ETA: 38s - loss: 0.1821 - accuracy: 0.9058\n",
      "Epoch 00001: saving model to training_10_4/cp-0001.ckpt\n"
     ]
    },
    {
     "name": "stderr",
     "output_type": "stream",
     "text": [
      "W0623 00:02:36.309600  5744 callbacks.py:241] Method (on_train_batch_end) is slow compared to the batch update (0.510315). Check your callbacks.\n"
     ]
    },
    {
     "name": "stdout",
     "output_type": "stream",
     "text": [
      "398/468 [========================>.....] - ETA: 38s - loss: 0.1818 - accuracy: 0.9059\n",
      "Epoch 00001: saving model to training_10_4/cp-0001.ckpt\n"
     ]
    },
    {
     "name": "stderr",
     "output_type": "stream",
     "text": [
      "W0623 00:02:37.307748  5744 callbacks.py:241] Method (on_train_batch_end) is slow compared to the batch update (0.512271). Check your callbacks.\n"
     ]
    },
    {
     "name": "stdout",
     "output_type": "stream",
     "text": [
      "399/468 [========================>.....] - ETA: 37s - loss: 0.1816 - accuracy: 0.9060\n",
      "Epoch 00001: saving model to training_10_4/cp-0001.ckpt\n"
     ]
    },
    {
     "name": "stderr",
     "output_type": "stream",
     "text": [
      "W0623 00:02:38.204219  5744 callbacks.py:241] Method (on_train_batch_end) is slow compared to the batch update (0.518626). Check your callbacks.\n"
     ]
    },
    {
     "name": "stdout",
     "output_type": "stream",
     "text": [
      "400/468 [========================>.....] - ETA: 37s - loss: 0.1813 - accuracy: 0.9061\n",
      "Epoch 00001: saving model to training_10_4/cp-0001.ckpt\n"
     ]
    },
    {
     "name": "stderr",
     "output_type": "stream",
     "text": [
      "W0623 00:02:38.655879  5744 callbacks.py:241] Method (on_train_batch_end) is slow compared to the batch update (0.512271). Check your callbacks.\n"
     ]
    },
    {
     "name": "stdout",
     "output_type": "stream",
     "text": [
      "401/468 [========================>.....] - ETA: 36s - loss: 0.1809 - accuracy: 0.9062\n",
      "Epoch 00001: saving model to training_10_4/cp-0001.ckpt\n"
     ]
    },
    {
     "name": "stderr",
     "output_type": "stream",
     "text": [
      "W0623 00:02:39.019553  5744 callbacks.py:241] Method (on_train_batch_end) is slow compared to the batch update (0.434549). Check your callbacks.\n"
     ]
    },
    {
     "name": "stdout",
     "output_type": "stream",
     "text": [
      "402/468 [========================>.....] - ETA: 36s - loss: 0.1811 - accuracy: 0.9063\n",
      "Epoch 00001: saving model to training_10_4/cp-0001.ckpt\n"
     ]
    },
    {
     "name": "stderr",
     "output_type": "stream",
     "text": [
      "W0623 00:02:39.336301  5744 callbacks.py:241] Method (on_train_batch_end) is slow compared to the batch update (0.346563). Check your callbacks.\n"
     ]
    },
    {
     "name": "stdout",
     "output_type": "stream",
     "text": [
      "403/468 [========================>.....] - ETA: 35s - loss: 0.1811 - accuracy: 0.9064\n",
      "Epoch 00001: saving model to training_10_4/cp-0001.ckpt\n"
     ]
    },
    {
     "name": "stderr",
     "output_type": "stream",
     "text": [
      "W0623 00:02:39.777204  5744 callbacks.py:241] Method (on_train_batch_end) is slow compared to the batch update (0.346563). Check your callbacks.\n"
     ]
    },
    {
     "name": "stdout",
     "output_type": "stream",
     "text": [
      "404/468 [========================>.....] - ETA: 35s - loss: 0.1809 - accuracy: 0.9065\n",
      "Epoch 00001: saving model to training_10_4/cp-0001.ckpt\n"
     ]
    },
    {
     "name": "stderr",
     "output_type": "stream",
     "text": [
      "W0623 00:02:40.070491  5744 callbacks.py:241] Method (on_train_batch_end) is slow compared to the batch update (0.346563). Check your callbacks.\n"
     ]
    },
    {
     "name": "stdout",
     "output_type": "stream",
     "text": [
      "\b\b\b\b\b\b\b\b\b\b\b\b\b\b\b\b\b\b\b\b\b\b\b\b\b\b\b\b\b\b\b\b\b\b\b\b\b\b\b\b\b\b\b\b\b\b\b\b\b\b\b\b\b\b\b\b\b\b\b\b\b\b\b\b\b\b\b\b\b\b\b\b\b\b\b\b\b\b\b\b\b\b\b\b\b\r",
      "405/468 [========================>.....] - ETA: 34s - loss: 0.1807 - accuracy: 0.9066"
     ]
    },
    {
     "name": "stderr",
     "output_type": "stream",
     "text": [
      "W0623 00:02:40.259171  5744 callbacks.py:241] Method (on_train_batch_end) is slow compared to the batch update (0.332879). Check your callbacks.\n"
     ]
    },
    {
     "name": "stdout",
     "output_type": "stream",
     "text": [
      "\n",
      "Epoch 00001: saving model to training_10_4/cp-0001.ckpt\n",
      "406/468 [=========================>....] - ETA: 33s - loss: 0.1805 - accuracy: 0.9067\n",
      "Epoch 00001: saving model to training_10_4/cp-0001.ckpt\n"
     ]
    },
    {
     "name": "stderr",
     "output_type": "stream",
     "text": [
      "W0623 00:02:40.561254  5744 callbacks.py:241] Method (on_train_batch_end) is slow compared to the batch update (0.298173). Check your callbacks.\n"
     ]
    },
    {
     "name": "stdout",
     "output_type": "stream",
     "text": [
      "407/468 [=========================>....] - ETA: 33s - loss: 0.1803 - accuracy: 0.9068\n",
      "Epoch 00001: saving model to training_10_4/cp-0001.ckpt\n"
     ]
    },
    {
     "name": "stderr",
     "output_type": "stream",
     "text": [
      "W0623 00:02:41.020742  5744 callbacks.py:241] Method (on_train_batch_end) is slow compared to the batch update (0.298173). Check your callbacks.\n"
     ]
    },
    {
     "name": "stdout",
     "output_type": "stream",
     "text": [
      "408/468 [=========================>....] - ETA: 32s - loss: 0.1801 - accuracy: 0.9068\n",
      "Epoch 00001: saving model to training_10_4/cp-0001.ckpt\n"
     ]
    },
    {
     "name": "stderr",
     "output_type": "stream",
     "text": [
      "W0623 00:02:41.600464  5744 callbacks.py:241] Method (on_train_batch_end) is slow compared to the batch update (0.298173). Check your callbacks.\n"
     ]
    },
    {
     "name": "stdout",
     "output_type": "stream",
     "text": [
      "409/468 [=========================>....] - ETA: 32s - loss: 0.1799 - accuracy: 0.9069\n",
      "Epoch 00001: saving model to training_10_4/cp-0001.ckpt\n"
     ]
    },
    {
     "name": "stderr",
     "output_type": "stream",
     "text": [
      "W0623 00:02:42.208543  5744 callbacks.py:241] Method (on_train_batch_end) is slow compared to the batch update (0.298173). Check your callbacks.\n"
     ]
    },
    {
     "name": "stdout",
     "output_type": "stream",
     "text": [
      "410/468 [=========================>....] - ETA: 31s - loss: 0.1797 - accuracy: 0.9070\n",
      "Epoch 00001: saving model to training_10_4/cp-0001.ckpt\n"
     ]
    },
    {
     "name": "stderr",
     "output_type": "stream",
     "text": [
      "W0623 00:02:42.799998  5744 callbacks.py:241] Method (on_train_batch_end) is slow compared to the batch update (0.298173). Check your callbacks.\n"
     ]
    },
    {
     "name": "stdout",
     "output_type": "stream",
     "text": [
      "411/468 [=========================>....] - ETA: 31s - loss: 0.1795 - accuracy: 0.9071\n",
      "Epoch 00001: saving model to training_10_4/cp-0001.ckpt\n"
     ]
    },
    {
     "name": "stderr",
     "output_type": "stream",
     "text": [
      "W0623 00:02:43.313247  5744 callbacks.py:241] Method (on_train_batch_end) is slow compared to the batch update (0.331411). Check your callbacks.\n"
     ]
    },
    {
     "name": "stdout",
     "output_type": "stream",
     "text": [
      "412/468 [=========================>....] - ETA: 30s - loss: 0.1793 - accuracy: 0.9072\n",
      "Epoch 00001: saving model to training_10_4/cp-0001.ckpt\n"
     ]
    },
    {
     "name": "stderr",
     "output_type": "stream",
     "text": [
      "W0623 00:02:43.728736  5744 callbacks.py:241] Method (on_train_batch_end) is slow compared to the batch update (0.331411). Check your callbacks.\n"
     ]
    },
    {
     "name": "stdout",
     "output_type": "stream",
     "text": [
      "413/468 [=========================>....] - ETA: 30s - loss: 0.1793 - accuracy: 0.9073\n",
      "Epoch 00001: saving model to training_10_4/cp-0001.ckpt\n"
     ]
    },
    {
     "name": "stderr",
     "output_type": "stream",
     "text": [
      "W0623 00:02:44.057212  5744 callbacks.py:241] Method (on_train_batch_end) is slow compared to the batch update (0.330923). Check your callbacks.\n"
     ]
    },
    {
     "name": "stdout",
     "output_type": "stream",
     "text": [
      "414/468 [=========================>....] - ETA: 29s - loss: 0.1789 - accuracy: 0.9074\n",
      "Epoch 00001: saving model to training_10_4/cp-0001.ckpt\n"
     ]
    },
    {
     "name": "stderr",
     "output_type": "stream",
     "text": [
      "W0623 00:02:44.356363  5744 callbacks.py:241] Method (on_train_batch_end) is slow compared to the batch update (0.330923). Check your callbacks.\n"
     ]
    },
    {
     "name": "stdout",
     "output_type": "stream",
     "text": [
      "415/468 [=========================>....] - ETA: 28s - loss: 0.1787 - accuracy: 0.9075\n",
      "Epoch 00001: saving model to training_10_4/cp-0001.ckpt\n"
     ]
    },
    {
     "name": "stderr",
     "output_type": "stream",
     "text": [
      "W0623 00:02:44.765987  5744 callbacks.py:241] Method (on_train_batch_end) is slow compared to the batch update (0.369051). Check your callbacks.\n"
     ]
    },
    {
     "name": "stdout",
     "output_type": "stream",
     "text": [
      "416/468 [=========================>....] - ETA: 28s - loss: 0.1785 - accuracy: 0.9076\n",
      "Epoch 00001: saving model to training_10_4/cp-0001.ckpt\n"
     ]
    },
    {
     "name": "stderr",
     "output_type": "stream",
     "text": [
      "W0623 00:02:45.521685  5744 callbacks.py:241] Method (on_train_batch_end) is slow compared to the batch update (0.392025). Check your callbacks.\n"
     ]
    },
    {
     "name": "stdout",
     "output_type": "stream",
     "text": [
      "417/468 [=========================>....] - ETA: 27s - loss: 0.1783 - accuracy: 0.9076\n",
      "Epoch 00001: saving model to training_10_4/cp-0001.ckpt\n",
      "418/468 [=========================>....] - ETA: 27s - loss: 0.1784 - accuracy: 0.9077\n",
      "Epoch 00001: saving model to training_10_4/cp-0001.ckpt\n"
     ]
    },
    {
     "name": "stderr",
     "output_type": "stream",
     "text": [
      "W0623 00:02:47.955949  5744 callbacks.py:241] Method (on_train_batch_end) is slow compared to the batch update (0.392025). Check your callbacks.\n"
     ]
    },
    {
     "name": "stdout",
     "output_type": "stream",
     "text": [
      "419/468 [=========================>....] - ETA: 26s - loss: 0.1781 - accuracy: 0.9078\n",
      "Epoch 00001: saving model to training_10_4/cp-0001.ckpt\n"
     ]
    },
    {
     "name": "stderr",
     "output_type": "stream",
     "text": [
      "W0623 00:02:48.504397  5744 callbacks.py:241] Method (on_train_batch_end) is slow compared to the batch update (0.408155). Check your callbacks.\n"
     ]
    },
    {
     "name": "stdout",
     "output_type": "stream",
     "text": [
      "420/468 [=========================>....] - ETA: 26s - loss: 0.1778 - accuracy: 0.9079\n",
      "Epoch 00001: saving model to training_10_4/cp-0001.ckpt\n"
     ]
    },
    {
     "name": "stderr",
     "output_type": "stream",
     "text": [
      "W0623 00:02:49.036215  5744 callbacks.py:241] Method (on_train_batch_end) is slow compared to the batch update (0.403755). Check your callbacks.\n"
     ]
    },
    {
     "name": "stdout",
     "output_type": "stream",
     "text": [
      "421/468 [=========================>....] - ETA: 25s - loss: 0.1775 - accuracy: 0.9080\n",
      "Epoch 00001: saving model to training_10_4/cp-0001.ckpt\n"
     ]
    },
    {
     "name": "stderr",
     "output_type": "stream",
     "text": [
      "W0623 00:02:49.304082  5744 callbacks.py:241] Method (on_train_batch_end) is slow compared to the batch update (0.401312). Check your callbacks.\n"
     ]
    },
    {
     "name": "stdout",
     "output_type": "stream",
     "text": [
      "422/468 [==========================>...] - ETA: 25s - loss: 0.1771 - accuracy: 0.9081\n",
      "Epoch 00001: saving model to training_10_4/cp-0001.ckpt\n"
     ]
    },
    {
     "name": "stderr",
     "output_type": "stream",
     "text": [
      "W0623 00:02:49.891630  5744 callbacks.py:241] Method (on_train_batch_end) is slow compared to the batch update (0.440417). Check your callbacks.\n"
     ]
    },
    {
     "name": "stdout",
     "output_type": "stream",
     "text": [
      "423/468 [==========================>...] - ETA: 24s - loss: 0.1769 - accuracy: 0.9082\n",
      "Epoch 00001: saving model to training_10_4/cp-0001.ckpt\n"
     ]
    },
    {
     "name": "stderr",
     "output_type": "stream",
     "text": [
      "W0623 00:02:50.407813  5744 callbacks.py:241] Method (on_train_batch_end) is slow compared to the batch update (0.440417). Check your callbacks.\n"
     ]
    },
    {
     "name": "stdout",
     "output_type": "stream",
     "text": [
      "424/468 [==========================>...] - ETA: 24s - loss: 0.1767 - accuracy: 0.9083\n",
      "Epoch 00001: saving model to training_10_4/cp-0001.ckpt\n"
     ]
    },
    {
     "name": "stderr",
     "output_type": "stream",
     "text": [
      "W0623 00:02:50.910307  5744 callbacks.py:241] Method (on_train_batch_end) is slow compared to the batch update (0.440906). Check your callbacks.\n"
     ]
    },
    {
     "name": "stdout",
     "output_type": "stream",
     "text": [
      "425/468 [==========================>...] - ETA: 23s - loss: 0.1765 - accuracy: 0.9083\n",
      "Epoch 00001: saving model to training_10_4/cp-0001.ckpt\n"
     ]
    },
    {
     "name": "stderr",
     "output_type": "stream",
     "text": [
      "W0623 00:02:51.504699  5744 callbacks.py:241] Method (on_train_batch_end) is slow compared to the batch update (0.464858). Check your callbacks.\n"
     ]
    },
    {
     "name": "stdout",
     "output_type": "stream",
     "text": [
      "426/468 [==========================>...] - ETA: 23s - loss: 0.1765 - accuracy: 0.9084\n",
      "Epoch 00001: saving model to training_10_4/cp-0001.ckpt\n"
     ]
    },
    {
     "name": "stderr",
     "output_type": "stream",
     "text": [
      "W0623 00:02:52.230096  5744 callbacks.py:241] Method (on_train_batch_end) is slow compared to the batch update (0.464858). Check your callbacks.\n"
     ]
    },
    {
     "name": "stdout",
     "output_type": "stream",
     "text": [
      "427/468 [==========================>...] - ETA: 22s - loss: 0.1761 - accuracy: 0.9085\n",
      "Epoch 00001: saving model to training_10_4/cp-0001.ckpt\n"
     ]
    },
    {
     "name": "stderr",
     "output_type": "stream",
     "text": [
      "W0623 00:02:52.770712  5744 callbacks.py:241] Method (on_train_batch_end) is slow compared to the batch update (0.440906). Check your callbacks.\n"
     ]
    },
    {
     "name": "stdout",
     "output_type": "stream",
     "text": [
      "428/468 [==========================>...] - ETA: 21s - loss: 0.1759 - accuracy: 0.9086\n",
      "Epoch 00001: saving model to training_10_4/cp-0001.ckpt\n"
     ]
    },
    {
     "name": "stderr",
     "output_type": "stream",
     "text": [
      "W0623 00:02:53.166647  5744 callbacks.py:241] Method (on_train_batch_end) is slow compared to the batch update (0.436505). Check your callbacks.\n"
     ]
    },
    {
     "name": "stdout",
     "output_type": "stream",
     "text": [
      "429/468 [==========================>...] - ETA: 21s - loss: 0.1758 - accuracy: 0.9087\n",
      "Epoch 00001: saving model to training_10_4/cp-0001.ckpt\n"
     ]
    },
    {
     "name": "stderr",
     "output_type": "stream",
     "text": [
      "W0623 00:02:53.380746  5744 callbacks.py:241] Method (on_train_batch_end) is slow compared to the batch update (0.433083). Check your callbacks.\n"
     ]
    },
    {
     "name": "stdout",
     "output_type": "stream",
     "text": [
      "430/468 [==========================>...] - ETA: 20s - loss: 0.1756 - accuracy: 0.9088\n",
      "Epoch 00001: saving model to training_10_4/cp-0001.ckpt\n"
     ]
    },
    {
     "name": "stderr",
     "output_type": "stream",
     "text": [
      "W0623 00:02:53.981003  5744 callbacks.py:241] Method (on_train_batch_end) is slow compared to the batch update (0.433573). Check your callbacks.\n"
     ]
    },
    {
     "name": "stdout",
     "output_type": "stream",
     "text": [
      "431/468 [==========================>...] - ETA: 20s - loss: 0.1754 - accuracy: 0.9089\n",
      "Epoch 00001: saving model to training_10_4/cp-0001.ckpt\n"
     ]
    },
    {
     "name": "stderr",
     "output_type": "stream",
     "text": [
      "W0623 00:02:54.538246  5744 callbacks.py:241] Method (on_train_batch_end) is slow compared to the batch update (0.464368). Check your callbacks.\n"
     ]
    },
    {
     "name": "stdout",
     "output_type": "stream",
     "text": [
      "432/468 [==========================>...] - ETA: 19s - loss: 0.1751 - accuracy: 0.9089\n",
      "Epoch 00001: saving model to training_10_4/cp-0001.ckpt\n"
     ]
    },
    {
     "name": "stderr",
     "output_type": "stream",
     "text": [
      "W0623 00:02:54.987949  5744 callbacks.py:241] Method (on_train_batch_end) is slow compared to the batch update (0.433573). Check your callbacks.\n"
     ]
    },
    {
     "name": "stdout",
     "output_type": "stream",
     "text": [
      "433/468 [==========================>...] - ETA: 19s - loss: 0.1749 - accuracy: 0.9090\n",
      "Epoch 00001: saving model to training_10_4/cp-0001.ckpt\n"
     ]
    },
    {
     "name": "stderr",
     "output_type": "stream",
     "text": [
      "W0623 00:02:55.614602  5744 callbacks.py:241] Method (on_train_batch_end) is slow compared to the batch update (0.464368). Check your callbacks.\n"
     ]
    },
    {
     "name": "stdout",
     "output_type": "stream",
     "text": [
      "434/468 [==========================>...] - ETA: 18s - loss: 0.1748 - accuracy: 0.9091\n",
      "Epoch 00001: saving model to training_10_4/cp-0001.ckpt\n"
     ]
    },
    {
     "name": "stderr",
     "output_type": "stream",
     "text": [
      "W0623 00:02:56.169886  5744 callbacks.py:241] Method (on_train_batch_end) is slow compared to the batch update (0.463391). Check your callbacks.\n"
     ]
    },
    {
     "name": "stdout",
     "output_type": "stream",
     "text": [
      "435/468 [==========================>...] - ETA: 18s - loss: 0.1750 - accuracy: 0.9092\n",
      "Epoch 00001: saving model to training_10_4/cp-0001.ckpt\n"
     ]
    },
    {
     "name": "stderr",
     "output_type": "stream",
     "text": [
      "W0623 00:02:56.575598  5744 callbacks.py:241] Method (on_train_batch_end) is slow compared to the batch update (0.432595). Check your callbacks.\n"
     ]
    },
    {
     "name": "stdout",
     "output_type": "stream",
     "text": [
      "436/468 [==========================>...] - ETA: 17s - loss: 0.1747 - accuracy: 0.9093\n",
      "Epoch 00001: saving model to training_10_4/cp-0001.ckpt\n"
     ]
    },
    {
     "name": "stderr",
     "output_type": "stream",
     "text": [
      "W0623 00:02:56.914830  5744 callbacks.py:241] Method (on_train_batch_end) is slow compared to the batch update (0.397402). Check your callbacks.\n"
     ]
    },
    {
     "name": "stdout",
     "output_type": "stream",
     "text": [
      "437/468 [===========================>..] - ETA: 16s - loss: 0.1749 - accuracy: 0.9094\n",
      "Epoch 00001: saving model to training_10_4/cp-0001.ckpt\n"
     ]
    },
    {
     "name": "stderr",
     "output_type": "stream",
     "text": [
      "W0623 00:02:57.301968  5744 callbacks.py:241] Method (on_train_batch_end) is slow compared to the batch update (0.349010). Check your callbacks.\n"
     ]
    },
    {
     "name": "stdout",
     "output_type": "stream",
     "text": [
      "438/468 [===========================>..] - ETA: 16s - loss: 0.1746 - accuracy: 0.9094\n",
      "Epoch 00001: saving model to training_10_4/cp-0001.ckpt\n"
     ]
    },
    {
     "name": "stderr",
     "output_type": "stream",
     "text": [
      "W0623 00:02:57.594274  5744 callbacks.py:241] Method (on_train_batch_end) is slow compared to the batch update (0.349010). Check your callbacks.\n"
     ]
    },
    {
     "name": "stdout",
     "output_type": "stream",
     "text": [
      "439/468 [===========================>..] - ETA: 15s - loss: 0.1745 - accuracy: 0.9095\n",
      "Epoch 00001: saving model to training_10_4/cp-0001.ckpt\n"
     ]
    },
    {
     "name": "stderr",
     "output_type": "stream",
     "text": [
      "W0623 00:02:57.892448  5744 callbacks.py:241] Method (on_train_batch_end) is slow compared to the batch update (0.349010). Check your callbacks.\n"
     ]
    },
    {
     "name": "stdout",
     "output_type": "stream",
     "text": [
      "440/468 [===========================>..] - ETA: 15s - loss: 0.1741 - accuracy: 0.9096\n",
      "Epoch 00001: saving model to training_10_4/cp-0001.ckpt\n"
     ]
    },
    {
     "name": "stderr",
     "output_type": "stream",
     "text": [
      "W0623 00:02:58.338241  5744 callbacks.py:241] Method (on_train_batch_end) is slow compared to the batch update (0.349010). Check your callbacks.\n"
     ]
    },
    {
     "name": "stdout",
     "output_type": "stream",
     "text": [
      "441/468 [===========================>..] - ETA: 14s - loss: 0.1739 - accuracy: 0.9097\n",
      "Epoch 00001: saving model to training_10_4/cp-0001.ckpt\n"
     ]
    },
    {
     "name": "stderr",
     "output_type": "stream",
     "text": [
      "W0623 00:02:58.655968  5744 callbacks.py:241] Method (on_train_batch_end) is slow compared to the batch update (0.317726). Check your callbacks.\n"
     ]
    },
    {
     "name": "stdout",
     "output_type": "stream",
     "text": [
      "442/468 [===========================>..] - ETA: 14s - loss: 0.1736 - accuracy: 0.9098\n",
      "Epoch 00001: saving model to training_10_4/cp-0001.ckpt\n"
     ]
    },
    {
     "name": "stderr",
     "output_type": "stream",
     "text": [
      "W0623 00:02:58.949253  5744 callbacks.py:241] Method (on_train_batch_end) is slow compared to the batch update (0.276178). Check your callbacks.\n"
     ]
    },
    {
     "name": "stdout",
     "output_type": "stream",
     "text": [
      "443/468 [===========================>..] - ETA: 13s - loss: 0.1733 - accuracy: 0.9098\n",
      "Epoch 00001: saving model to training_10_4/cp-0001.ckpt\n"
     ]
    },
    {
     "name": "stderr",
     "output_type": "stream",
     "text": [
      "W0623 00:02:59.435127  5744 callbacks.py:241] Method (on_train_batch_end) is slow compared to the batch update (0.276178). Check your callbacks.\n"
     ]
    },
    {
     "name": "stdout",
     "output_type": "stream",
     "text": [
      "444/468 [===========================>..] - ETA: 13s - loss: 0.1731 - accuracy: 0.9099\n",
      "Epoch 00001: saving model to training_10_4/cp-0001.ckpt\n",
      "445/468 [===========================>..] - ETA: 12s - loss: 0.1730 - accuracy: 0.9100\n",
      "Epoch 00001: saving model to training_10_4/cp-0001.ckpt\n"
     ]
    },
    {
     "name": "stderr",
     "output_type": "stream",
     "text": [
      "W0623 00:03:01.039396  5744 callbacks.py:241] Method (on_train_batch_end) is slow compared to the batch update (0.260536). Check your callbacks.\n"
     ]
    },
    {
     "name": "stdout",
     "output_type": "stream",
     "text": [
      "446/468 [===========================>..] - ETA: 11s - loss: 0.1728 - accuracy: 0.9101\n",
      "Epoch 00001: saving model to training_10_4/cp-0001.ckpt\n"
     ]
    },
    {
     "name": "stderr",
     "output_type": "stream",
     "text": [
      "W0623 00:03:01.316062  5744 callbacks.py:241] Method (on_train_batch_end) is slow compared to the batch update (0.260536). Check your callbacks.\n"
     ]
    },
    {
     "name": "stdout",
     "output_type": "stream",
     "text": [
      "447/468 [===========================>..] - ETA: 11s - loss: 0.1727 - accuracy: 0.9102\n",
      "Epoch 00001: saving model to training_10_4/cp-0001.ckpt\n"
     ]
    },
    {
     "name": "stderr",
     "output_type": "stream",
     "text": [
      "W0623 00:03:01.869393  5744 callbacks.py:241] Method (on_train_batch_end) is slow compared to the batch update (0.260536). Check your callbacks.\n"
     ]
    },
    {
     "name": "stdout",
     "output_type": "stream",
     "text": [
      "448/468 [===========================>..] - ETA: 10s - loss: 0.1725 - accuracy: 0.9102\n",
      "Epoch 00001: saving model to training_10_4/cp-0001.ckpt\n"
     ]
    },
    {
     "name": "stderr",
     "output_type": "stream",
     "text": [
      "W0623 00:03:02.108911  5744 callbacks.py:241] Method (on_train_batch_end) is slow compared to the batch update (0.260536). Check your callbacks.\n"
     ]
    },
    {
     "name": "stdout",
     "output_type": "stream",
     "text": [
      "449/468 [===========================>..] - ETA: 10s - loss: 0.1723 - accuracy: 0.9103\n",
      "Epoch 00001: saving model to training_10_4/cp-0001.ckpt\n"
     ]
    },
    {
     "name": "stderr",
     "output_type": "stream",
     "text": [
      "W0623 00:03:02.632911  5744 callbacks.py:241] Method (on_train_batch_end) is slow compared to the batch update (0.321636). Check your callbacks.\n"
     ]
    },
    {
     "name": "stdout",
     "output_type": "stream",
     "text": [
      "450/468 [===========================>..] - ETA: 9s - loss: 0.1722 - accuracy: 0.9104 \n",
      "Epoch 00001: saving model to training_10_4/cp-0001.ckpt\n"
     ]
    },
    {
     "name": "stderr",
     "output_type": "stream",
     "text": [
      "W0623 00:03:02.965304  5744 callbacks.py:241] Method (on_train_batch_end) is slow compared to the batch update (0.266401). Check your callbacks.\n"
     ]
    },
    {
     "name": "stdout",
     "output_type": "stream",
     "text": [
      "451/468 [===========================>..] - ETA: 9s - loss: 0.1721 - accuracy: 0.9105\n",
      "Epoch 00001: saving model to training_10_4/cp-0001.ckpt\n"
     ]
    },
    {
     "name": "stderr",
     "output_type": "stream",
     "text": [
      "W0623 00:03:03.450579  5744 callbacks.py:241] Method (on_train_batch_end) is slow compared to the batch update (0.321636). Check your callbacks.\n"
     ]
    },
    {
     "name": "stdout",
     "output_type": "stream",
     "text": [
      "452/468 [===========================>..] - ETA: 8s - loss: 0.1718 - accuracy: 0.9106\n",
      "Epoch 00001: saving model to training_10_4/cp-0001.ckpt\n"
     ]
    },
    {
     "name": "stderr",
     "output_type": "stream",
     "text": [
      "W0623 00:03:03.946230  5744 callbacks.py:241] Method (on_train_batch_end) is slow compared to the batch update (0.372471). Check your callbacks.\n"
     ]
    },
    {
     "name": "stdout",
     "output_type": "stream",
     "text": [
      "453/468 [============================>.] - ETA: 8s - loss: 0.1715 - accuracy: 0.9106\n",
      "Epoch 00001: saving model to training_10_4/cp-0001.ckpt\n"
     ]
    },
    {
     "name": "stderr",
     "output_type": "stream",
     "text": [
      "W0623 00:03:04.319681  5744 callbacks.py:241] Method (on_train_batch_end) is slow compared to the batch update (0.342165). Check your callbacks.\n"
     ]
    },
    {
     "name": "stdout",
     "output_type": "stream",
     "text": [
      "454/468 [============================>.] - ETA: 7s - loss: 0.1713 - accuracy: 0.9107\n",
      "Epoch 00001: saving model to training_10_4/cp-0001.ckpt\n"
     ]
    },
    {
     "name": "stderr",
     "output_type": "stream",
     "text": [
      "W0623 00:03:05.039207  5744 callbacks.py:241] Method (on_train_batch_end) is slow compared to the batch update (0.342165). Check your callbacks.\n"
     ]
    },
    {
     "name": "stdout",
     "output_type": "stream",
     "text": [
      "455/468 [============================>.] - ETA: 7s - loss: 0.1711 - accuracy: 0.9108\n",
      "Epoch 00001: saving model to training_10_4/cp-0001.ckpt\n"
     ]
    },
    {
     "name": "stderr",
     "output_type": "stream",
     "text": [
      "W0623 00:03:05.818367  5744 callbacks.py:241] Method (on_train_batch_end) is slow compared to the batch update (0.372471). Check your callbacks.\n"
     ]
    },
    {
     "name": "stdout",
     "output_type": "stream",
     "text": [
      "456/468 [============================>.] - ETA: 6s - loss: 0.1710 - accuracy: 0.9109\n",
      "Epoch 00001: saving model to training_10_4/cp-0001.ckpt\n"
     ]
    },
    {
     "name": "stderr",
     "output_type": "stream",
     "text": [
      "W0623 00:03:06.221145  5744 callbacks.py:241] Method (on_train_batch_end) is slow compared to the batch update (0.372471). Check your callbacks.\n"
     ]
    },
    {
     "name": "stdout",
     "output_type": "stream",
     "text": [
      "457/468 [============================>.] - ETA: 5s - loss: 0.1709 - accuracy: 0.9110\n",
      "Epoch 00001: saving model to training_10_4/cp-0001.ckpt\n"
     ]
    },
    {
     "name": "stderr",
     "output_type": "stream",
     "text": [
      "W0623 00:03:06.820424  5744 callbacks.py:241] Method (on_train_batch_end) is slow compared to the batch update (0.357806). Check your callbacks.\n"
     ]
    },
    {
     "name": "stdout",
     "output_type": "stream",
     "text": [
      "458/468 [============================>.] - ETA: 5s - loss: 0.1709 - accuracy: 0.9110\n",
      "Epoch 00001: saving model to training_10_4/cp-0001.ckpt\n"
     ]
    },
    {
     "name": "stderr",
     "output_type": "stream",
     "text": [
      "W0623 00:03:07.203650  5744 callbacks.py:241] Method (on_train_batch_end) is slow compared to the batch update (0.357806). Check your callbacks.\n"
     ]
    },
    {
     "name": "stdout",
     "output_type": "stream",
     "text": [
      "459/468 [============================>.] - ETA: 4s - loss: 0.1707 - accuracy: 0.9111\n",
      "Epoch 00001: saving model to training_10_4/cp-0001.ckpt\n"
     ]
    },
    {
     "name": "stderr",
     "output_type": "stream",
     "text": [
      "W0623 00:03:07.598608  5744 callbacks.py:241] Method (on_train_batch_end) is slow compared to the batch update (0.332388). Check your callbacks.\n"
     ]
    },
    {
     "name": "stdout",
     "output_type": "stream",
     "text": [
      "460/468 [============================>.] - ETA: 4s - loss: 0.1705 - accuracy: 0.9112\n",
      "Epoch 00001: saving model to training_10_4/cp-0001.ckpt\n"
     ]
    },
    {
     "name": "stderr",
     "output_type": "stream",
     "text": [
      "W0623 00:03:08.073729  5744 callbacks.py:241] Method (on_train_batch_end) is slow compared to the batch update (0.357806). Check your callbacks.\n"
     ]
    },
    {
     "name": "stdout",
     "output_type": "stream",
     "text": [
      "461/468 [============================>.] - ETA: 3s - loss: 0.1705 - accuracy: 0.9113\n",
      "Epoch 00001: saving model to training_10_4/cp-0001.ckpt\n"
     ]
    },
    {
     "name": "stderr",
     "output_type": "stream",
     "text": [
      "W0623 00:03:08.558627  5744 callbacks.py:241] Method (on_train_batch_end) is slow compared to the batch update (0.335320). Check your callbacks.\n"
     ]
    },
    {
     "name": "stdout",
     "output_type": "stream",
     "text": [
      "462/468 [============================>.] - ETA: 3s - loss: 0.1705 - accuracy: 0.9113\n",
      "Epoch 00001: saving model to training_10_4/cp-0001.ckpt\n"
     ]
    },
    {
     "name": "stderr",
     "output_type": "stream",
     "text": [
      "W0623 00:03:09.584147  5744 callbacks.py:241] Method (on_train_batch_end) is slow compared to the batch update (0.335320). Check your callbacks.\n"
     ]
    },
    {
     "name": "stdout",
     "output_type": "stream",
     "text": [
      "463/468 [============================>.] - ETA: 2s - loss: 0.1704 - accuracy: 0.9114\n",
      "Epoch 00001: saving model to training_10_4/cp-0001.ckpt\n"
     ]
    },
    {
     "name": "stderr",
     "output_type": "stream",
     "text": [
      "W0623 00:03:10.997781  5744 callbacks.py:241] Method (on_train_batch_end) is slow compared to the batch update (0.362694). Check your callbacks.\n"
     ]
    },
    {
     "name": "stdout",
     "output_type": "stream",
     "text": [
      "464/468 [============================>.] - ETA: 2s - loss: 0.1705 - accuracy: 0.9115\n",
      "Epoch 00001: saving model to training_10_4/cp-0001.ckpt\n"
     ]
    },
    {
     "name": "stderr",
     "output_type": "stream",
     "text": [
      "W0623 00:03:14.022528  5744 callbacks.py:241] Method (on_train_batch_end) is slow compared to the batch update (0.362694). Check your callbacks.\n"
     ]
    },
    {
     "name": "stdout",
     "output_type": "stream",
     "text": [
      "465/468 [============================>.] - ETA: 1s - loss: 0.1704 - accuracy: 0.9116\n",
      "Epoch 00001: saving model to training_10_4/cp-0001.ckpt\n",
      "466/468 [============================>.] - ETA: 1s - loss: 0.1703 - accuracy: 0.9116\n",
      "Epoch 00001: saving model to training_10_4/cp-0001.ckpt\n"
     ]
    },
    {
     "name": "stderr",
     "output_type": "stream",
     "text": [
      "W0623 00:03:19.490342  5744 callbacks.py:241] Method (on_train_batch_end) is slow compared to the batch update (0.608077). Check your callbacks.\n"
     ]
    },
    {
     "name": "stdout",
     "output_type": "stream",
     "text": [
      "467/468 [============================>.] - ETA: 0s - loss: 0.1701 - accuracy: 0.9117\n",
      "Epoch 00001: saving model to training_10_4/cp-0001.ckpt\n"
     ]
    },
    {
     "name": "stderr",
     "output_type": "stream",
     "text": [
      "W0623 00:03:23.149563  5744 callbacks.py:241] Method (on_train_batch_end) is slow compared to the batch update (1.075867). Check your callbacks.\n"
     ]
    },
    {
     "name": "stdout",
     "output_type": "stream",
     "text": [
      "\b\b\b\b\b\b\b\b\b\b\b\b\b\b\b\b\b\b\b\b\b\b\b\b\b\b\b\b\b\b\b\b\b\b\b\b\b\b\b\b\b\b\b\b\b\b\b\b\b\b\b\b\b\b\b\b\b\b\b\b\b\b\b\b\b\b\b\b\b\b\b\b\b\b\b\b\b\b\b\b\b\b\b\b\r",
      "468/468 [==============================] - 299s 640ms/step - loss: 0.1701 - accuracy: 0.9119 - val_loss: 0.1128 - val_accuracy: 0.9662\n"
     ]
    },
    {
     "data": {
      "text/plain": [
       "<tensorflow.python.keras.callbacks.History at 0x970d147198>"
      ]
     },
     "execution_count": 7,
     "metadata": {},
     "output_type": "execute_result"
    }
   ],
   "source": [
    "#for checkpoint\n",
    "# 파일 이름에 에포크 번호를 포함시킵니다(`str.format` 포맷)\n",
    "checkpoint_path = \"training_10_4/cp-{epoch:04d}.ckpt\"\n",
    "checkpoint_dir = os.path.dirname(checkpoint_path)\n",
    "\n",
    "# 체크포인트 콜백 만들기\n",
    "cp_callback = tf.keras.callbacks.ModelCheckpoint(checkpoint_path,\n",
    "                                                 save_weights_only=True,\n",
    "                                                 verbose=1, save_freq=1)\n",
    "\n",
    "model.fit(train_dataset, epochs =1, ## dataset1 :용량문제--> 어떻게 해결?\n",
    "          validation_data =test_dataset,steps_per_epoch=training_iterations,\n",
    "          callbacks = [cp_callback],validation_steps=1)  # 훈련 단계에 콜백을 전달합니다\n"
   ]
  },
  {
   "cell_type": "markdown",
   "metadata": {},
   "source": [
    "============================================================================================================"
   ]
  }
 ],
 "metadata": {
  "kernelspec": {
   "display_name": "Python 3",
   "language": "python",
   "name": "python3"
  },
  "language_info": {
   "codemirror_mode": {
    "name": "ipython",
    "version": 3
   },
   "file_extension": ".py",
   "mimetype": "text/x-python",
   "name": "python",
   "nbconvert_exporter": "python",
   "pygments_lexer": "ipython3",
   "version": "3.7.3"
  }
 },
 "nbformat": 4,
 "nbformat_minor": 2
}
