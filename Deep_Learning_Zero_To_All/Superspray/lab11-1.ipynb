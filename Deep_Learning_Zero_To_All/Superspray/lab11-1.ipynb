{
 "cells": [
  {
   "cell_type": "code",
   "execution_count": 1,
   "metadata": {},
   "outputs": [
    {
     "name": "stdout",
     "output_type": "stream",
     "text": [
      "2.0.0-beta1\n",
      "2.2.4-tf\n"
     ]
    }
   ],
   "source": [
    "#import libraries\n",
    "from __future__ import absolute_import\n",
    "from __future__ import division\n",
    "from __future__ import print_function\n",
    "import tensorflow as tf\n",
    "from tensorflow import keras\n",
    "from tensorflow.keras.utils import to_categorical\n",
    "import numpy as np\n",
    "import matplotlib.pyplot as plt\n",
    "import os\n",
    "\n",
    "print(tf.__version__)\n",
    "print(keras.__version__)"
   ]
  },
  {
   "cell_type": "code",
   "execution_count": 3,
   "metadata": {},
   "outputs": [],
   "source": [
    "#초모수 값 지정\n",
    "learning_rate = 0.001\n",
    "training_epochs = 15\n",
    "batch_size = 100\n",
    "\n",
    "tf.random.set_seed(787)"
   ]
  },
  {
   "cell_type": "code",
   "execution_count": 4,
   "metadata": {},
   "outputs": [],
   "source": [
    "## MNIST Dataset #########################################################\n",
    "mnist = keras.datasets.mnist\n",
    "class_names = ['0', '1', '2', '3', '4', '5', '6', '7', '8', '9']\n",
    "##########################################################################\n"
   ]
  },
  {
   "cell_type": "code",
   "execution_count": 5,
   "metadata": {},
   "outputs": [
    {
     "name": "stderr",
     "output_type": "stream",
     "text": [
      "WARNING: Logging before flag parsing goes to stderr.\n",
      "W0622 18:50:17.096652 24060 deprecation.py:323] From C:\\ProgramData\\Anaconda3\\lib\\site-packages\\tensorflow\\python\\data\\util\\random_seed.py:58: add_dispatch_support.<locals>.wrapper (from tensorflow.python.ops.array_ops) is deprecated and will be removed in a future version.\n",
      "Instructions for updating:\n",
      "Use tf.where in 2.0, which has the same broadcast rule as np.where\n"
     ]
    }
   ],
   "source": [
    "(train_images, train_labels), (test_images, test_labels) = mnist.load_data()    \n",
    "    \n",
    "train_images = train_images.astype(np.float32) / 255.\n",
    "test_images = test_images.astype(np.float32) / 255.\n",
    "train_images = np.expand_dims(train_images, axis=-1)\n",
    "test_images = np.expand_dims(test_images, axis=-1)\n",
    "    \n",
    "train_labels = to_categorical(train_labels, 10)\n",
    "test_labels = to_categorical(test_labels, 10)    \n",
    "    \n",
    "train_dataset = tf.data.Dataset.from_tensor_slices((train_images, train_labels)).shuffle(\n",
    "                buffer_size=100000).batch(batch_size)\n",
    "test_dataset = tf.data.Dataset.from_tensor_slices((test_images, test_labels)).batch(batch_size)"
   ]
  },
  {
   "cell_type": "code",
   "execution_count": 9,
   "metadata": {},
   "outputs": [],
   "source": [
    "#모델 형성\n",
    "def create_model():\n",
    "    model = keras.Sequential()\n",
    "    model.add(keras.layers.Conv2D(filters=32, kernel_size=3, activation=tf.nn.relu, padding='SAME', \n",
    "                                  input_shape=(28, 28, 1)))\n",
    "    model.add(keras.layers.MaxPool2D(padding='SAME'))\n",
    "    model.add(keras.layers.Conv2D(filters=64, kernel_size=3, activation=tf.nn.relu, padding='SAME'))\n",
    "    model.add(keras.layers.MaxPool2D(padding='SAME'))\n",
    "    model.add(keras.layers.Conv2D(filters=128, kernel_size=3, activation=tf.nn.relu, padding='SAME'))\n",
    "    model.add(keras.layers.MaxPool2D(padding='SAME'))\n",
    "    model.add(keras.layers.Flatten())\n",
    "    model.add(keras.layers.Dense(256, activation=tf.nn.relu))\n",
    "    model.add(keras.layers.Dropout(0.4))\n",
    "    model.add(keras.layers.Dense(10))\n",
    "       \n",
    "    model.compile(optimizer='adam',\n",
    "                loss='categorical_crossentropy',\n",
    "                metrics=['accuracy'])\n",
    "    return model"
   ]
  },
  {
   "cell_type": "code",
   "execution_count": 10,
   "metadata": {},
   "outputs": [
    {
     "name": "stdout",
     "output_type": "stream",
     "text": [
      "Model: \"sequential_1\"\n",
      "_________________________________________________________________\n",
      "Layer (type)                 Output Shape              Param #   \n",
      "=================================================================\n",
      "conv2d_3 (Conv2D)            (None, 28, 28, 32)        320       \n",
      "_________________________________________________________________\n",
      "max_pooling2d_3 (MaxPooling2 (None, 14, 14, 32)        0         \n",
      "_________________________________________________________________\n",
      "conv2d_4 (Conv2D)            (None, 14, 14, 64)        18496     \n",
      "_________________________________________________________________\n",
      "max_pooling2d_4 (MaxPooling2 (None, 7, 7, 64)          0         \n",
      "_________________________________________________________________\n",
      "conv2d_5 (Conv2D)            (None, 7, 7, 128)         73856     \n",
      "_________________________________________________________________\n",
      "max_pooling2d_5 (MaxPooling2 (None, 4, 4, 128)         0         \n",
      "_________________________________________________________________\n",
      "flatten_1 (Flatten)          (None, 2048)              0         \n",
      "_________________________________________________________________\n",
      "dense_2 (Dense)              (None, 256)               524544    \n",
      "_________________________________________________________________\n",
      "dropout_1 (Dropout)          (None, 256)               0         \n",
      "_________________________________________________________________\n",
      "dense_3 (Dense)              (None, 10)                2570      \n",
      "=================================================================\n",
      "Total params: 619,786\n",
      "Trainable params: 619,786\n",
      "Non-trainable params: 0\n",
      "_________________________________________________________________\n"
     ]
    }
   ],
   "source": [
    "model = create_model()\n",
    "model.summary()"
   ]
  },
  {
   "cell_type": "code",
   "execution_count": 12,
   "metadata": {},
   "outputs": [
    {
     "name": "stdout",
     "output_type": "stream",
     "text": [
      "Epoch 1/15\n",
      "599/600 [============================>.] - ETA: 0s - loss: 8.1354 - accuracy: 0.1023\n",
      "Epoch 00001: saving model to training_11_0/cp-0001.ckpt\n",
      "600/600 [==============================] - 190s 317ms/step - loss: 8.1363 - accuracy: 0.1023 - val_loss: 8.2686 - val_accuracy: 0.0974\n",
      "Epoch 2/15\n",
      "599/600 [============================>.] - ETA: 0s - loss: 8.0512 - accuracy: 0.1025\n",
      "Epoch 00002: saving model to training_11_0/cp-0002.ckpt\n",
      "600/600 [==============================] - 257s 428ms/step - loss: 8.0496 - accuracy: 0.1026 - val_loss: 7.8495 - val_accuracy: 0.1009\n",
      "Epoch 3/15\n",
      "599/600 [============================>.] - ETA: 0s - loss: 8.0075 - accuracy: 0.1023\n",
      "Epoch 00003: saving model to training_11_0/cp-0003.ckpt\n",
      "600/600 [==============================] - 201s 335ms/step - loss: 8.0070 - accuracy: 0.1024 - val_loss: 7.8850 - val_accuracy: 0.1032\n",
      "Epoch 4/15\n",
      "599/600 [============================>.] - ETA: 0s - loss: 7.9844 - accuracy: 0.1015\n",
      "Epoch 00004: saving model to training_11_0/cp-0004.ckpt\n",
      "600/600 [==============================] - 183s 304ms/step - loss: 7.9832 - accuracy: 0.1014 - val_loss: 7.8850 - val_accuracy: 0.1032\n",
      "Epoch 5/15\n",
      "599/600 [============================>.] - ETA: 0s - loss: 8.0598 - accuracy: 0.1028\n",
      "Epoch 00005: saving model to training_11_0/cp-0005.ckpt\n",
      "600/600 [==============================] - 185s 308ms/step - loss: 8.0604 - accuracy: 0.1028 - val_loss: 8.2331 - val_accuracy: 0.1032\n",
      "Epoch 6/15\n",
      "599/600 [============================>.] - ETA: 0s - loss: 7.9872 - accuracy: 0.1046\n",
      "Epoch 00006: saving model to training_11_0/cp-0006.ckpt\n",
      "600/600 [==============================] - 189s 316ms/step - loss: 7.9866 - accuracy: 0.1045 - val_loss: 8.2686 - val_accuracy: 0.1135\n",
      "Epoch 7/15\n",
      "599/600 [============================>.] - ETA: 0s - loss: 8.2062 - accuracy: 0.1057\n",
      "Epoch 00007: saving model to training_11_0/cp-0007.ckpt\n",
      "600/600 [==============================] - 188s 313ms/step - loss: 8.2067 - accuracy: 0.1057 - val_loss: 9.8127 - val_accuracy: 0.1135\n",
      "Epoch 8/15\n",
      "599/600 [============================>.] - ETA: 0s - loss: 8.6175 - accuracy: 0.1075\n",
      "Epoch 00008: saving model to training_11_0/cp-0008.ckpt\n",
      "600/600 [==============================] - 190s 316ms/step - loss: 8.6185 - accuracy: 0.1075 - val_loss: 8.2911 - val_accuracy: 0.1135\n",
      "Epoch 9/15\n",
      "599/600 [============================>.] - ETA: 0s - loss: 8.1134 - accuracy: 0.1033\n",
      "Epoch 00009: saving model to training_11_0/cp-0009.ckpt\n",
      "600/600 [==============================] - 196s 327ms/step - loss: 8.1136 - accuracy: 0.1033 - val_loss: 7.8495 - val_accuracy: 0.1135\n",
      "Epoch 10/15\n",
      "599/600 [============================>.] - ETA: 0s - loss: 8.0982 - accuracy: 0.1024\n",
      "Epoch 00010: saving model to training_11_0/cp-0010.ckpt\n",
      "600/600 [==============================] - 195s 326ms/step - loss: 8.0968 - accuracy: 0.1024 - val_loss: 7.8495 - val_accuracy: 0.1135\n",
      "Epoch 11/15\n",
      "599/600 [============================>.] - ETA: 0s - loss: 8.1888 - accuracy: 0.1024\n",
      "Epoch 00011: saving model to training_11_0/cp-0011.ckpt\n",
      "600/600 [==============================] - 200s 333ms/step - loss: 8.1889 - accuracy: 0.1024 - val_loss: 8.2686 - val_accuracy: 0.1135\n",
      "Epoch 12/15\n",
      "599/600 [============================>.] - ETA: 0s - loss: 8.1333 - accuracy: 0.1047\n",
      "Epoch 00012: saving model to training_11_0/cp-0012.ckpt\n",
      "600/600 [==============================] - 205s 342ms/step - loss: 8.1349 - accuracy: 0.1047 - val_loss: 8.2686 - val_accuracy: 0.1135\n",
      "Epoch 13/15\n",
      "599/600 [============================>.] - ETA: 0s - loss: 8.0478 - accuracy: 0.1047\n",
      "Epoch 00013: saving model to training_11_0/cp-0013.ckpt\n",
      "600/600 [==============================] - 214s 357ms/step - loss: 8.0491 - accuracy: 0.1048 - val_loss: 6.6052 - val_accuracy: 0.1135\n",
      "Epoch 14/15\n",
      "599/600 [============================>.] - ETA: 0s - loss: 8.1941 - accuracy: 0.1049\n",
      "Epoch 00014: saving model to training_11_0/cp-0014.ckpt\n",
      "600/600 [==============================] - 190s 316ms/step - loss: 8.1941 - accuracy: 0.1049 - val_loss: 9.5129 - val_accuracy: 0.1135\n",
      "Epoch 15/15\n",
      "599/600 [============================>.] - ETA: 0s - loss: 8.0766 - accuracy: 0.1016\n",
      "Epoch 00015: saving model to training_11_0/cp-0015.ckpt\n",
      "600/600 [==============================] - 198s 330ms/step - loss: 8.0771 - accuracy: 0.1016 - val_loss: 7.9688 - val_accuracy: 0.1009\n"
     ]
    },
    {
     "data": {
      "text/plain": [
       "<tensorflow.python.keras.callbacks.History at 0x4901496a20>"
      ]
     },
     "execution_count": 12,
     "metadata": {},
     "output_type": "execute_result"
    }
   ],
   "source": [
    "#for checkpoint\n",
    "# 파일 이름에 에포크 번호를 포함시킵니다(`str.format` 포맷)\n",
    "checkpoint_path = \"trainving_11_0/cp-{epoch:04d}.ckpt\"\n",
    "checkpoint_dir = os.path.dirname(checkpoint_path)\n",
    "\n",
    "# 체크포인트 콜백 만들기\n",
    "cp_callback = tf.keras.callbacks.ModelCheckpoint(checkpoint_path,\n",
    "                                                 save_weights_only=True,\n",
    "                                                 verbose=1)\n",
    "model.fit(train_dataset, epochs =15,\n",
    "          validation_data =test_dataset,\n",
    "          callbacks = [cp_callback])  # 훈련 단계에 콜백을 전달합니다\n",
    "\n",
    "# 옵티마이저의 상태를 저장하는 것과 관련되어 경고가 발생할 수 있습니다.\n",
    "# 이 경고는 (그리고 이 노트북의 다른 비슷한 경고는) 이전 사용 방식을 권장하지 않기 위함이며 무시해도 좋습니다."
   ]
  },
  {
   "cell_type": "code",
   "execution_count": null,
   "metadata": {},
   "outputs": [],
   "source": []
  }
 ],
 "metadata": {
  "kernelspec": {
   "display_name": "Python 3",
   "language": "python",
   "name": "python3"
  },
  "language_info": {
   "codemirror_mode": {
    "name": "ipython",
    "version": 3
   },
   "file_extension": ".py",
   "mimetype": "text/x-python",
   "name": "python",
   "nbconvert_exporter": "python",
   "pygments_lexer": "ipython3",
   "version": "3.7.3"
  }
 },
 "nbformat": 4,
 "nbformat_minor": 2
}
