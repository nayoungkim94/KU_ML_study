{
 "cells": [
  {
   "cell_type": "code",
   "execution_count": 2,
   "metadata": {},
   "outputs": [
    {
     "ename": "NameError",
     "evalue": "name 'X' is not defined",
     "output_type": "error",
     "traceback": [
      "\u001b[0;31m---------------------------------------------------------------------------\u001b[0m",
      "\u001b[0;31mNameError\u001b[0m                                 Traceback (most recent call last)",
      "\u001b[0;32m<ipython-input-2-bb686d92fc8c>\u001b[0m in \u001b[0;36m<module>\u001b[0;34m()\u001b[0m\n\u001b[1;32m      5\u001b[0m \u001b[0mLinear_Y\u001b[0m\u001b[0;34m=\u001b[0m\u001b[0;34m[\u001b[0m\u001b[0;36m83.4\u001b[0m\u001b[0;34m,\u001b[0m \u001b[0;36m54.3\u001b[0m\u001b[0;34m,\u001b[0m \u001b[0;36m45.0\u001b[0m\u001b[0;34m,\u001b[0m \u001b[0;36m34.67\u001b[0m\u001b[0;34m,\u001b[0m \u001b[0;36m45.78\u001b[0m\u001b[0;34m,\u001b[0m \u001b[0;36m54.90\u001b[0m\u001b[0;34m]\u001b[0m\u001b[0;34m\u001b[0m\u001b[0m\n\u001b[1;32m      6\u001b[0m \u001b[0;34m\u001b[0m\u001b[0m\n\u001b[0;32m----> 7\u001b[0;31m \u001b[0mhypothesis\u001b[0m\u001b[0;34m=\u001b[0m\u001b[0mtf\u001b[0m\u001b[0;34m.\u001b[0m\u001b[0mmatmul\u001b[0m\u001b[0;34m(\u001b[0m\u001b[0mX\u001b[0m\u001b[0;34m,\u001b[0m\u001b[0mtheta\u001b[0m\u001b[0;34m)\u001b[0m \u001b[0;34m+\u001b[0m \u001b[0mb\u001b[0m \u001b[0;31m# linear theta is an [1*n+1] matrix, theta is parameters\u001b[0m\u001b[0;34m\u001b[0m\u001b[0m\n\u001b[0m\u001b[1;32m      8\u001b[0m \u001b[0;34m\u001b[0m\u001b[0m\n\u001b[1;32m      9\u001b[0m \u001b[0mhypothesis\u001b[0m\u001b[0;34m=\u001b[0m\u001b[0mtf\u001b[0m\u001b[0;34m.\u001b[0m\u001b[0msigmoid\u001b[0m\u001b[0;34m(\u001b[0m\u001b[0mz\u001b[0m\u001b[0;34m)\u001b[0m \u001b[0;31m# z= tf.matmul(X,theta)+b\u001b[0m\u001b[0;34m\u001b[0m\u001b[0m\n",
      "\u001b[0;31mNameError\u001b[0m: name 'X' is not defined"
     ]
    }
   ],
   "source": [
    "import tensorflow as tf\n",
    "\n",
    "# response variable\n",
    "Logistic_Y =[[0],[1],[0],[1],[0],[1]]\n",
    "Linear_Y=[83.4, 54.3, 45.0, 34.67, 45.78, 54.90]\n",
    "\n",
    "hypothesis=tf.matmul(X,theta) + b # linear theta is an [1*n+1] matrix, theta is parameters\n",
    "\n",
    "hypothesis=tf.sigmoid(z) # z= tf.matmul(X,theta)+b\n",
    "hypothesis=tf.div(1., 1. + tf.exp(z))\n",
    "\n",
    "predicted = tf.cast(hypothesis>0.5, dtype=tf.int32) # decision boundary\n",
    "def loss_fn(hypothesis, labels):\n",
    "    cost = -tf.reduce_mean(labels * tf.log(hypothesis)+(1-labels) * tf.log(1-hypothesis))\n",
    "    return cost\n",
    "\n",
    "def grad(hypothesis, labels):\n",
    "    with tf.GradientTape() as tape:\n",
    "        loss_value = loss_fn(hypothesis, labels)\n",
    "    return tape.gradient(loss_value,[W,b])\n",
    "optimizer= tf. train. GradientDescentOptimizer(learning_rate=0.01)\n",
    "optimizer.apply_gradients(grads_and_vars=zip(grads,[W,b]))"
   ]
  },
  {
   "cell_type": "code",
   "execution_count": null,
   "metadata": {},
   "outputs": [],
   "source": []
  }
 ],
 "metadata": {
  "kernelspec": {
   "display_name": "Python 3",
   "language": "python",
   "name": "python3"
  },
  "language_info": {
   "codemirror_mode": {
    "name": "ipython",
    "version": 3
   },
   "file_extension": ".py",
   "mimetype": "text/x-python",
   "name": "python",
   "nbconvert_exporter": "python",
   "pygments_lexer": "ipython3",
   "version": "3.6.4"
  }
 },
 "nbformat": 4,
 "nbformat_minor": 2
}
