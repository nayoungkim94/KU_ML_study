{
 "cells": [
  {
   "cell_type": "code",
   "execution_count": 1,
   "metadata": {},
   "outputs": [],
   "source": [
    "import tensorflow as tf\n",
    "tf.enable_eager_execution( )\n",
    "\n",
    "# response variable\n",
    "Logistic_Y =[[0],[1],[0],[1],[0],[1]]\n",
    "Linear_Y=[83.4, 54.3, 45.0, 34.67, 45.78, 54.90]\n",
    "\n",
    "hypothesis=tf.matmul(X,theta) + b # linear theta is an [1*n+1] matrix, theta is parameters\n",
    "\n",
    "hypothesis=tf.sigmoid(z) # z= tf.matmul(X,theta)+b\n",
    "hypothesis=tf.div(1., 1. + tf.exp(z))\n",
    "\n",
    "predicted = tf.cast(hypothesis>0.5, dtype=tf.int32) # decision boundary\n",
    "def loss_fn(hypothesis, labels):\n",
    "    cost = -tf.reduce_mean(labels * tf.log(hypothesis)+(1-labels) * tf.log(1-hypothesis))\n",
    "    return cost\n",
    "\n",
    "def grad(hypothesis, labels):\n",
    "    with tf.GradientTape() as tape:\n",
    "        loss_value = loss_fn(hypothesis, labels)\n",
    "    return tape.gradient(loss_value,[W,b])\n",
    "optimizer= tf. train. GradientDescentOptimizer(learning_rate=0.01)\n",
    "optimizer.apply_gradients(grads_and_vars=zip(grads,[W,b]))"
   ]
  }
 ],
 "metadata": {
  "kernelspec": {
   "display_name": "Python 3",
   "language": "python",
   "name": "python3"
  },
  "language_info": {
   "codemirror_mode": {
    "name": "ipython",
    "version": 3
   },
   "file_extension": ".py",
   "mimetype": "text/x-python",
   "name": "python",
   "nbconvert_exporter": "python",
   "pygments_lexer": "ipython3",
   "version": "3.5.6"
  }
 },
 "nbformat": 4,
 "nbformat_minor": 2
}
